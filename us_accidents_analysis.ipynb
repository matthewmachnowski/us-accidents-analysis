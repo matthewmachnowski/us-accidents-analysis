{
  "cells": [
    {
      "cell_type": "markdown",
      "metadata": {
        "id": "view-in-github",
        "colab_type": "text"
      },
      "source": [
        "<a href=\"https://colab.research.google.com/github/matthewmachnowski/us-accidents-analysis/blob/main/us_accidents_analysis.ipynb\" target=\"_parent\"><img src=\"https://colab.research.google.com/assets/colab-badge.svg\" alt=\"Open In Colab\"/></a>"
      ]
    },
    {
      "cell_type": "markdown",
      "metadata": {
        "id": "OWweIPA6IE4F"
      },
      "source": [
        "# US Accidents Exploratory Data Analysis\n",
        "\n",
        "## Information \n",
        "This is a countrywide car accident dataset, which covers 49 states of the USA. The accident data are collected from February 2016 to Dec 2021, using multiple APIs that provide streaming traffic incident (or event) data. Currently, there are about 2.8 million accident records in this dataset.\n",
        "\n",
        "## Acknowledgements\n",
        "- Moosavi, Sobhan, Mohammad Hossein Samavatian, Srinivasan Parthasarathy, and Rajiv Ramnath. “A Countrywide Traffic Accident Dataset.”, 2019.\n",
        "\n",
        "- Moosavi, Sobhan, Mohammad Hossein Samavatian, Srinivasan Parthasarathy, Radu Teodorescu, and Rajiv Ramnath. \"Accident Risk Prediction based on Heterogeneous Sparse Data: New Dataset and Insights.\" In proceedings of the 27th ACM SIGSPATIAL International Conference on Advances in Geographic Information Systems, ACM, 2019.\n",
        "\n",
        "\n"
      ]
    },
    {
      "cell_type": "markdown",
      "source": [
        "TODO - talk about EDA\n",
        "\n",
        "TODO - talk about the dataset (sourse, what it contains, how it will be useful)\n",
        "  - Kaggle\n",
        "  - information about accidents \n",
        "  - can use useful to prevent accidents\n",
        "  - mention that this does not contain data about New York"
      ],
      "metadata": {
        "id": "kA2OE3R5MK7q"
      }
    },
    {
      "cell_type": "code",
      "execution_count": 2,
      "metadata": {
        "id": "Mv2tLrwDIiFA"
      },
      "outputs": [],
      "source": [
        "pip install opendatasets --upgrade --quiet"
      ]
    },
    {
      "cell_type": "code",
      "execution_count": 3,
      "metadata": {
        "id": "x1GdPHS2fI7q",
        "colab": {
          "base_uri": "https://localhost:8080/"
        },
        "outputId": "38ad527d-971d-42f4-bcdb-fd6d155e7de0"
      },
      "outputs": [
        {
          "output_type": "stream",
          "name": "stdout",
          "text": [
            "Please provide your Kaggle credentials to download this dataset. Learn more: http://bit.ly/kaggle-creds\n",
            "Your Kaggle username: mateuszmachnowski\n",
            "Your Kaggle Key: ··········\n",
            "Downloading us-accidents.zip to ./us-accidents\n"
          ]
        },
        {
          "output_type": "stream",
          "name": "stderr",
          "text": [
            "100%|██████████| 269M/269M [00:04<00:00, 56.7MB/s]\n"
          ]
        },
        {
          "output_type": "stream",
          "name": "stdout",
          "text": [
            "\n"
          ]
        }
      ],
      "source": [
        "import opendatasets as od\n",
        "\n",
        "download_url = 'https://www.kaggle.com/sobhanmoosavi/us-accidents'\n",
        "\n",
        "od.download(download_url) "
      ]
    },
    {
      "cell_type": "code",
      "source": [
        "data_filename = './us-accidents/US_Accidents_Dec21_updated.csv'"
      ],
      "metadata": {
        "id": "nJPIDrMI0jIF"
      },
      "execution_count": 4,
      "outputs": []
    },
    {
      "cell_type": "markdown",
      "metadata": {
        "id": "iHC8oSgoIsCr"
      },
      "source": [
        "## Data Preparation and Cleaning\n",
        "\n",
        "1. Load the file using Pandas\n",
        "2. Look at some information about the data & the columns\n",
        "3. Fix any missing or incorret values"
      ]
    },
    {
      "cell_type": "code",
      "execution_count": 5,
      "metadata": {
        "id": "F5Gdkru0IiYS"
      },
      "outputs": [],
      "source": [
        "import pandas as pd\n",
        "import seaborn as sns\n",
        "import folium\n",
        "from folium.plugins import HeatMap\n",
        "import matplotlib.pyplot as plt\n",
        "import plotly.express as px\n",
        "import plotly.graph_objects as go"
      ]
    },
    {
      "cell_type": "code",
      "execution_count": 6,
      "metadata": {
        "id": "VY5Y6w7ZIiez"
      },
      "outputs": [],
      "source": [
        "df = pd.read_csv(data_filename)"
      ]
    },
    {
      "cell_type": "code",
      "execution_count": 7,
      "metadata": {
        "id": "Us-yY2FPIihW",
        "colab": {
          "base_uri": "https://localhost:8080/",
          "height": 508
        },
        "outputId": "ec50f563-23a3-4b35-cb4b-b4ce07e535e3"
      },
      "outputs": [
        {
          "output_type": "execute_result",
          "data": {
            "text/plain": [
              "    ID  Severity           Start_Time             End_Time  Start_Lat  \\\n",
              "0  A-1         3  2016-02-08 00:37:08  2016-02-08 06:37:08  40.108910   \n",
              "1  A-2         2  2016-02-08 05:56:20  2016-02-08 11:56:20  39.865420   \n",
              "2  A-3         2  2016-02-08 06:15:39  2016-02-08 12:15:39  39.102660   \n",
              "3  A-4         2  2016-02-08 06:51:45  2016-02-08 12:51:45  41.062130   \n",
              "4  A-5         3  2016-02-08 07:53:43  2016-02-08 13:53:43  39.172393   \n",
              "\n",
              "   Start_Lng    End_Lat    End_Lng  Distance(mi)  \\\n",
              "0 -83.092860  40.112060 -83.031870         3.230   \n",
              "1 -84.062800  39.865010 -84.048730         0.747   \n",
              "2 -84.524680  39.102090 -84.523960         0.055   \n",
              "3 -81.537840  41.062170 -81.535470         0.123   \n",
              "4 -84.492792  39.170476 -84.501798         0.500   \n",
              "\n",
              "                                         Description  ...  Roundabout Station  \\\n",
              "0  Between Sawmill Rd/Exit 20 and OH-315/Olentang...  ...       False   False   \n",
              "1                 At OH-4/OH-235/Exit 41 - Accident.  ...       False   False   \n",
              "2                   At I-71/US-50/Exit 1 - Accident.  ...       False   False   \n",
              "3                    At Dart Ave/Exit 21 - Accident.  ...       False   False   \n",
              "4                 At Mitchell Ave/Exit 6 - Accident.  ...       False   False   \n",
              "\n",
              "    Stop Traffic_Calming Traffic_Signal Turning_Loop Sunrise_Sunset  \\\n",
              "0  False           False          False        False          Night   \n",
              "1  False           False          False        False          Night   \n",
              "2  False           False          False        False          Night   \n",
              "3  False           False          False        False          Night   \n",
              "4  False           False          False        False            Day   \n",
              "\n",
              "  Civil_Twilight Nautical_Twilight Astronomical_Twilight  \n",
              "0          Night             Night                 Night  \n",
              "1          Night             Night                 Night  \n",
              "2          Night             Night                   Day  \n",
              "3          Night               Day                   Day  \n",
              "4            Day               Day                   Day  \n",
              "\n",
              "[5 rows x 47 columns]"
            ],
            "text/html": [
              "\n",
              "  <div id=\"df-0cfe5eeb-c0fd-464f-83ca-d2022f5f2b42\">\n",
              "    <div class=\"colab-df-container\">\n",
              "      <div>\n",
              "<style scoped>\n",
              "    .dataframe tbody tr th:only-of-type {\n",
              "        vertical-align: middle;\n",
              "    }\n",
              "\n",
              "    .dataframe tbody tr th {\n",
              "        vertical-align: top;\n",
              "    }\n",
              "\n",
              "    .dataframe thead th {\n",
              "        text-align: right;\n",
              "    }\n",
              "</style>\n",
              "<table border=\"1\" class=\"dataframe\">\n",
              "  <thead>\n",
              "    <tr style=\"text-align: right;\">\n",
              "      <th></th>\n",
              "      <th>ID</th>\n",
              "      <th>Severity</th>\n",
              "      <th>Start_Time</th>\n",
              "      <th>End_Time</th>\n",
              "      <th>Start_Lat</th>\n",
              "      <th>Start_Lng</th>\n",
              "      <th>End_Lat</th>\n",
              "      <th>End_Lng</th>\n",
              "      <th>Distance(mi)</th>\n",
              "      <th>Description</th>\n",
              "      <th>...</th>\n",
              "      <th>Roundabout</th>\n",
              "      <th>Station</th>\n",
              "      <th>Stop</th>\n",
              "      <th>Traffic_Calming</th>\n",
              "      <th>Traffic_Signal</th>\n",
              "      <th>Turning_Loop</th>\n",
              "      <th>Sunrise_Sunset</th>\n",
              "      <th>Civil_Twilight</th>\n",
              "      <th>Nautical_Twilight</th>\n",
              "      <th>Astronomical_Twilight</th>\n",
              "    </tr>\n",
              "  </thead>\n",
              "  <tbody>\n",
              "    <tr>\n",
              "      <th>0</th>\n",
              "      <td>A-1</td>\n",
              "      <td>3</td>\n",
              "      <td>2016-02-08 00:37:08</td>\n",
              "      <td>2016-02-08 06:37:08</td>\n",
              "      <td>40.108910</td>\n",
              "      <td>-83.092860</td>\n",
              "      <td>40.112060</td>\n",
              "      <td>-83.031870</td>\n",
              "      <td>3.230</td>\n",
              "      <td>Between Sawmill Rd/Exit 20 and OH-315/Olentang...</td>\n",
              "      <td>...</td>\n",
              "      <td>False</td>\n",
              "      <td>False</td>\n",
              "      <td>False</td>\n",
              "      <td>False</td>\n",
              "      <td>False</td>\n",
              "      <td>False</td>\n",
              "      <td>Night</td>\n",
              "      <td>Night</td>\n",
              "      <td>Night</td>\n",
              "      <td>Night</td>\n",
              "    </tr>\n",
              "    <tr>\n",
              "      <th>1</th>\n",
              "      <td>A-2</td>\n",
              "      <td>2</td>\n",
              "      <td>2016-02-08 05:56:20</td>\n",
              "      <td>2016-02-08 11:56:20</td>\n",
              "      <td>39.865420</td>\n",
              "      <td>-84.062800</td>\n",
              "      <td>39.865010</td>\n",
              "      <td>-84.048730</td>\n",
              "      <td>0.747</td>\n",
              "      <td>At OH-4/OH-235/Exit 41 - Accident.</td>\n",
              "      <td>...</td>\n",
              "      <td>False</td>\n",
              "      <td>False</td>\n",
              "      <td>False</td>\n",
              "      <td>False</td>\n",
              "      <td>False</td>\n",
              "      <td>False</td>\n",
              "      <td>Night</td>\n",
              "      <td>Night</td>\n",
              "      <td>Night</td>\n",
              "      <td>Night</td>\n",
              "    </tr>\n",
              "    <tr>\n",
              "      <th>2</th>\n",
              "      <td>A-3</td>\n",
              "      <td>2</td>\n",
              "      <td>2016-02-08 06:15:39</td>\n",
              "      <td>2016-02-08 12:15:39</td>\n",
              "      <td>39.102660</td>\n",
              "      <td>-84.524680</td>\n",
              "      <td>39.102090</td>\n",
              "      <td>-84.523960</td>\n",
              "      <td>0.055</td>\n",
              "      <td>At I-71/US-50/Exit 1 - Accident.</td>\n",
              "      <td>...</td>\n",
              "      <td>False</td>\n",
              "      <td>False</td>\n",
              "      <td>False</td>\n",
              "      <td>False</td>\n",
              "      <td>False</td>\n",
              "      <td>False</td>\n",
              "      <td>Night</td>\n",
              "      <td>Night</td>\n",
              "      <td>Night</td>\n",
              "      <td>Day</td>\n",
              "    </tr>\n",
              "    <tr>\n",
              "      <th>3</th>\n",
              "      <td>A-4</td>\n",
              "      <td>2</td>\n",
              "      <td>2016-02-08 06:51:45</td>\n",
              "      <td>2016-02-08 12:51:45</td>\n",
              "      <td>41.062130</td>\n",
              "      <td>-81.537840</td>\n",
              "      <td>41.062170</td>\n",
              "      <td>-81.535470</td>\n",
              "      <td>0.123</td>\n",
              "      <td>At Dart Ave/Exit 21 - Accident.</td>\n",
              "      <td>...</td>\n",
              "      <td>False</td>\n",
              "      <td>False</td>\n",
              "      <td>False</td>\n",
              "      <td>False</td>\n",
              "      <td>False</td>\n",
              "      <td>False</td>\n",
              "      <td>Night</td>\n",
              "      <td>Night</td>\n",
              "      <td>Day</td>\n",
              "      <td>Day</td>\n",
              "    </tr>\n",
              "    <tr>\n",
              "      <th>4</th>\n",
              "      <td>A-5</td>\n",
              "      <td>3</td>\n",
              "      <td>2016-02-08 07:53:43</td>\n",
              "      <td>2016-02-08 13:53:43</td>\n",
              "      <td>39.172393</td>\n",
              "      <td>-84.492792</td>\n",
              "      <td>39.170476</td>\n",
              "      <td>-84.501798</td>\n",
              "      <td>0.500</td>\n",
              "      <td>At Mitchell Ave/Exit 6 - Accident.</td>\n",
              "      <td>...</td>\n",
              "      <td>False</td>\n",
              "      <td>False</td>\n",
              "      <td>False</td>\n",
              "      <td>False</td>\n",
              "      <td>False</td>\n",
              "      <td>False</td>\n",
              "      <td>Day</td>\n",
              "      <td>Day</td>\n",
              "      <td>Day</td>\n",
              "      <td>Day</td>\n",
              "    </tr>\n",
              "  </tbody>\n",
              "</table>\n",
              "<p>5 rows × 47 columns</p>\n",
              "</div>\n",
              "      <button class=\"colab-df-convert\" onclick=\"convertToInteractive('df-0cfe5eeb-c0fd-464f-83ca-d2022f5f2b42')\"\n",
              "              title=\"Convert this dataframe to an interactive table.\"\n",
              "              style=\"display:none;\">\n",
              "        \n",
              "  <svg xmlns=\"http://www.w3.org/2000/svg\" height=\"24px\"viewBox=\"0 0 24 24\"\n",
              "       width=\"24px\">\n",
              "    <path d=\"M0 0h24v24H0V0z\" fill=\"none\"/>\n",
              "    <path d=\"M18.56 5.44l.94 2.06.94-2.06 2.06-.94-2.06-.94-.94-2.06-.94 2.06-2.06.94zm-11 1L8.5 8.5l.94-2.06 2.06-.94-2.06-.94L8.5 2.5l-.94 2.06-2.06.94zm10 10l.94 2.06.94-2.06 2.06-.94-2.06-.94-.94-2.06-.94 2.06-2.06.94z\"/><path d=\"M17.41 7.96l-1.37-1.37c-.4-.4-.92-.59-1.43-.59-.52 0-1.04.2-1.43.59L10.3 9.45l-7.72 7.72c-.78.78-.78 2.05 0 2.83L4 21.41c.39.39.9.59 1.41.59.51 0 1.02-.2 1.41-.59l7.78-7.78 2.81-2.81c.8-.78.8-2.07 0-2.86zM5.41 20L4 18.59l7.72-7.72 1.47 1.35L5.41 20z\"/>\n",
              "  </svg>\n",
              "      </button>\n",
              "      \n",
              "  <style>\n",
              "    .colab-df-container {\n",
              "      display:flex;\n",
              "      flex-wrap:wrap;\n",
              "      gap: 12px;\n",
              "    }\n",
              "\n",
              "    .colab-df-convert {\n",
              "      background-color: #E8F0FE;\n",
              "      border: none;\n",
              "      border-radius: 50%;\n",
              "      cursor: pointer;\n",
              "      display: none;\n",
              "      fill: #1967D2;\n",
              "      height: 32px;\n",
              "      padding: 0 0 0 0;\n",
              "      width: 32px;\n",
              "    }\n",
              "\n",
              "    .colab-df-convert:hover {\n",
              "      background-color: #E2EBFA;\n",
              "      box-shadow: 0px 1px 2px rgba(60, 64, 67, 0.3), 0px 1px 3px 1px rgba(60, 64, 67, 0.15);\n",
              "      fill: #174EA6;\n",
              "    }\n",
              "\n",
              "    [theme=dark] .colab-df-convert {\n",
              "      background-color: #3B4455;\n",
              "      fill: #D2E3FC;\n",
              "    }\n",
              "\n",
              "    [theme=dark] .colab-df-convert:hover {\n",
              "      background-color: #434B5C;\n",
              "      box-shadow: 0px 1px 3px 1px rgba(0, 0, 0, 0.15);\n",
              "      filter: drop-shadow(0px 1px 2px rgba(0, 0, 0, 0.3));\n",
              "      fill: #FFFFFF;\n",
              "    }\n",
              "  </style>\n",
              "\n",
              "      <script>\n",
              "        const buttonEl =\n",
              "          document.querySelector('#df-0cfe5eeb-c0fd-464f-83ca-d2022f5f2b42 button.colab-df-convert');\n",
              "        buttonEl.style.display =\n",
              "          google.colab.kernel.accessAllowed ? 'block' : 'none';\n",
              "\n",
              "        async function convertToInteractive(key) {\n",
              "          const element = document.querySelector('#df-0cfe5eeb-c0fd-464f-83ca-d2022f5f2b42');\n",
              "          const dataTable =\n",
              "            await google.colab.kernel.invokeFunction('convertToInteractive',\n",
              "                                                     [key], {});\n",
              "          if (!dataTable) return;\n",
              "\n",
              "          const docLinkHtml = 'Like what you see? Visit the ' +\n",
              "            '<a target=\"_blank\" href=https://colab.research.google.com/notebooks/data_table.ipynb>data table notebook</a>'\n",
              "            + ' to learn more about interactive tables.';\n",
              "          element.innerHTML = '';\n",
              "          dataTable['output_type'] = 'display_data';\n",
              "          await google.colab.output.renderOutput(dataTable, element);\n",
              "          const docLink = document.createElement('div');\n",
              "          docLink.innerHTML = docLinkHtml;\n",
              "          element.appendChild(docLink);\n",
              "        }\n",
              "      </script>\n",
              "    </div>\n",
              "  </div>\n",
              "  "
            ]
          },
          "metadata": {},
          "execution_count": 7
        }
      ],
      "source": [
        "df.head()"
      ]
    },
    {
      "cell_type": "code",
      "source": [
        "# Check the name and the type of each column\n",
        "df.info()"
      ],
      "metadata": {
        "colab": {
          "base_uri": "https://localhost:8080/"
        },
        "id": "TDmGz_TO1sY7",
        "outputId": "c3a575de-6329-41c5-e920-a0fdfc6b16c6"
      },
      "execution_count": 8,
      "outputs": [
        {
          "output_type": "stream",
          "name": "stdout",
          "text": [
            "<class 'pandas.core.frame.DataFrame'>\n",
            "RangeIndex: 2845342 entries, 0 to 2845341\n",
            "Data columns (total 47 columns):\n",
            " #   Column                 Dtype  \n",
            "---  ------                 -----  \n",
            " 0   ID                     object \n",
            " 1   Severity               int64  \n",
            " 2   Start_Time             object \n",
            " 3   End_Time               object \n",
            " 4   Start_Lat              float64\n",
            " 5   Start_Lng              float64\n",
            " 6   End_Lat                float64\n",
            " 7   End_Lng                float64\n",
            " 8   Distance(mi)           float64\n",
            " 9   Description            object \n",
            " 10  Number                 float64\n",
            " 11  Street                 object \n",
            " 12  Side                   object \n",
            " 13  City                   object \n",
            " 14  County                 object \n",
            " 15  State                  object \n",
            " 16  Zipcode                object \n",
            " 17  Country                object \n",
            " 18  Timezone               object \n",
            " 19  Airport_Code           object \n",
            " 20  Weather_Timestamp      object \n",
            " 21  Temperature(F)         float64\n",
            " 22  Wind_Chill(F)          float64\n",
            " 23  Humidity(%)            float64\n",
            " 24  Pressure(in)           float64\n",
            " 25  Visibility(mi)         float64\n",
            " 26  Wind_Direction         object \n",
            " 27  Wind_Speed(mph)        float64\n",
            " 28  Precipitation(in)      float64\n",
            " 29  Weather_Condition      object \n",
            " 30  Amenity                bool   \n",
            " 31  Bump                   bool   \n",
            " 32  Crossing               bool   \n",
            " 33  Give_Way               bool   \n",
            " 34  Junction               bool   \n",
            " 35  No_Exit                bool   \n",
            " 36  Railway                bool   \n",
            " 37  Roundabout             bool   \n",
            " 38  Station                bool   \n",
            " 39  Stop                   bool   \n",
            " 40  Traffic_Calming        bool   \n",
            " 41  Traffic_Signal         bool   \n",
            " 42  Turning_Loop           bool   \n",
            " 43  Sunrise_Sunset         object \n",
            " 44  Civil_Twilight         object \n",
            " 45  Nautical_Twilight      object \n",
            " 46  Astronomical_Twilight  object \n",
            "dtypes: bool(13), float64(13), int64(1), object(20)\n",
            "memory usage: 773.4+ MB\n"
          ]
        }
      ]
    },
    {
      "cell_type": "code",
      "source": [
        "df.describe()"
      ],
      "metadata": {
        "colab": {
          "base_uri": "https://localhost:8080/",
          "height": 364
        },
        "id": "SmzhX6iU3xTS",
        "outputId": "4c9b7145-bec0-4c48-9e16-bee1e87c8e53"
      },
      "execution_count": 9,
      "outputs": [
        {
          "output_type": "execute_result",
          "data": {
            "text/plain": [
              "           Severity     Start_Lat     Start_Lng       End_Lat       End_Lng  \\\n",
              "count  2.845342e+06  2.845342e+06  2.845342e+06  2.845342e+06  2.845342e+06   \n",
              "mean   2.137572e+00  3.624520e+01 -9.711463e+01  3.624532e+01 -9.711439e+01   \n",
              "std    4.787216e-01  5.363797e+00  1.831782e+01  5.363873e+00  1.831763e+01   \n",
              "min    1.000000e+00  2.456603e+01 -1.245481e+02  2.456601e+01 -1.245457e+02   \n",
              "25%    2.000000e+00  3.344517e+01 -1.180331e+02  3.344628e+01 -1.180333e+02   \n",
              "50%    2.000000e+00  3.609861e+01 -9.241808e+01  3.609799e+01 -9.241772e+01   \n",
              "75%    2.000000e+00  4.016024e+01 -8.037243e+01  4.016105e+01 -8.037338e+01   \n",
              "max    4.000000e+00  4.900058e+01 -6.711317e+01  4.907500e+01 -6.710924e+01   \n",
              "\n",
              "       Distance(mi)        Number  Temperature(F)  Wind_Chill(F)  \\\n",
              "count  2.845342e+06  1.101431e+06    2.776068e+06   2.375699e+06   \n",
              "mean   7.026779e-01  8.089408e+03    6.179356e+01   5.965823e+01   \n",
              "std    1.560361e+00  1.836009e+04    1.862263e+01   2.116097e+01   \n",
              "min    0.000000e+00  0.000000e+00   -8.900000e+01  -8.900000e+01   \n",
              "25%    5.200000e-02  1.270000e+03    5.000000e+01   4.600000e+01   \n",
              "50%    2.440000e-01  4.007000e+03    6.400000e+01   6.300000e+01   \n",
              "75%    7.640000e-01  9.567000e+03    7.600000e+01   7.600000e+01   \n",
              "max    1.551860e+02  9.999997e+06    1.960000e+02   1.960000e+02   \n",
              "\n",
              "        Humidity(%)  Pressure(in)  Visibility(mi)  Wind_Speed(mph)  \\\n",
              "count  2.772250e+06  2.786142e+06    2.774796e+06     2.687398e+06   \n",
              "mean   6.436545e+01  2.947234e+01    9.099391e+00     7.395044e+00   \n",
              "std    2.287457e+01  1.045286e+00    2.717546e+00     5.527454e+00   \n",
              "min    1.000000e+00  0.000000e+00    0.000000e+00     0.000000e+00   \n",
              "25%    4.800000e+01  2.931000e+01    1.000000e+01     3.500000e+00   \n",
              "50%    6.700000e+01  2.982000e+01    1.000000e+01     7.000000e+00   \n",
              "75%    8.300000e+01  3.001000e+01    1.000000e+01     1.000000e+01   \n",
              "max    1.000000e+02  5.890000e+01    1.400000e+02     1.087000e+03   \n",
              "\n",
              "       Precipitation(in)  \n",
              "count       2.295884e+06  \n",
              "mean        7.016940e-03  \n",
              "std         9.348831e-02  \n",
              "min         0.000000e+00  \n",
              "25%         0.000000e+00  \n",
              "50%         0.000000e+00  \n",
              "75%         0.000000e+00  \n",
              "max         2.400000e+01  "
            ],
            "text/html": [
              "\n",
              "  <div id=\"df-8078b4f4-d2fa-40a7-9294-bae6e177af02\">\n",
              "    <div class=\"colab-df-container\">\n",
              "      <div>\n",
              "<style scoped>\n",
              "    .dataframe tbody tr th:only-of-type {\n",
              "        vertical-align: middle;\n",
              "    }\n",
              "\n",
              "    .dataframe tbody tr th {\n",
              "        vertical-align: top;\n",
              "    }\n",
              "\n",
              "    .dataframe thead th {\n",
              "        text-align: right;\n",
              "    }\n",
              "</style>\n",
              "<table border=\"1\" class=\"dataframe\">\n",
              "  <thead>\n",
              "    <tr style=\"text-align: right;\">\n",
              "      <th></th>\n",
              "      <th>Severity</th>\n",
              "      <th>Start_Lat</th>\n",
              "      <th>Start_Lng</th>\n",
              "      <th>End_Lat</th>\n",
              "      <th>End_Lng</th>\n",
              "      <th>Distance(mi)</th>\n",
              "      <th>Number</th>\n",
              "      <th>Temperature(F)</th>\n",
              "      <th>Wind_Chill(F)</th>\n",
              "      <th>Humidity(%)</th>\n",
              "      <th>Pressure(in)</th>\n",
              "      <th>Visibility(mi)</th>\n",
              "      <th>Wind_Speed(mph)</th>\n",
              "      <th>Precipitation(in)</th>\n",
              "    </tr>\n",
              "  </thead>\n",
              "  <tbody>\n",
              "    <tr>\n",
              "      <th>count</th>\n",
              "      <td>2.845342e+06</td>\n",
              "      <td>2.845342e+06</td>\n",
              "      <td>2.845342e+06</td>\n",
              "      <td>2.845342e+06</td>\n",
              "      <td>2.845342e+06</td>\n",
              "      <td>2.845342e+06</td>\n",
              "      <td>1.101431e+06</td>\n",
              "      <td>2.776068e+06</td>\n",
              "      <td>2.375699e+06</td>\n",
              "      <td>2.772250e+06</td>\n",
              "      <td>2.786142e+06</td>\n",
              "      <td>2.774796e+06</td>\n",
              "      <td>2.687398e+06</td>\n",
              "      <td>2.295884e+06</td>\n",
              "    </tr>\n",
              "    <tr>\n",
              "      <th>mean</th>\n",
              "      <td>2.137572e+00</td>\n",
              "      <td>3.624520e+01</td>\n",
              "      <td>-9.711463e+01</td>\n",
              "      <td>3.624532e+01</td>\n",
              "      <td>-9.711439e+01</td>\n",
              "      <td>7.026779e-01</td>\n",
              "      <td>8.089408e+03</td>\n",
              "      <td>6.179356e+01</td>\n",
              "      <td>5.965823e+01</td>\n",
              "      <td>6.436545e+01</td>\n",
              "      <td>2.947234e+01</td>\n",
              "      <td>9.099391e+00</td>\n",
              "      <td>7.395044e+00</td>\n",
              "      <td>7.016940e-03</td>\n",
              "    </tr>\n",
              "    <tr>\n",
              "      <th>std</th>\n",
              "      <td>4.787216e-01</td>\n",
              "      <td>5.363797e+00</td>\n",
              "      <td>1.831782e+01</td>\n",
              "      <td>5.363873e+00</td>\n",
              "      <td>1.831763e+01</td>\n",
              "      <td>1.560361e+00</td>\n",
              "      <td>1.836009e+04</td>\n",
              "      <td>1.862263e+01</td>\n",
              "      <td>2.116097e+01</td>\n",
              "      <td>2.287457e+01</td>\n",
              "      <td>1.045286e+00</td>\n",
              "      <td>2.717546e+00</td>\n",
              "      <td>5.527454e+00</td>\n",
              "      <td>9.348831e-02</td>\n",
              "    </tr>\n",
              "    <tr>\n",
              "      <th>min</th>\n",
              "      <td>1.000000e+00</td>\n",
              "      <td>2.456603e+01</td>\n",
              "      <td>-1.245481e+02</td>\n",
              "      <td>2.456601e+01</td>\n",
              "      <td>-1.245457e+02</td>\n",
              "      <td>0.000000e+00</td>\n",
              "      <td>0.000000e+00</td>\n",
              "      <td>-8.900000e+01</td>\n",
              "      <td>-8.900000e+01</td>\n",
              "      <td>1.000000e+00</td>\n",
              "      <td>0.000000e+00</td>\n",
              "      <td>0.000000e+00</td>\n",
              "      <td>0.000000e+00</td>\n",
              "      <td>0.000000e+00</td>\n",
              "    </tr>\n",
              "    <tr>\n",
              "      <th>25%</th>\n",
              "      <td>2.000000e+00</td>\n",
              "      <td>3.344517e+01</td>\n",
              "      <td>-1.180331e+02</td>\n",
              "      <td>3.344628e+01</td>\n",
              "      <td>-1.180333e+02</td>\n",
              "      <td>5.200000e-02</td>\n",
              "      <td>1.270000e+03</td>\n",
              "      <td>5.000000e+01</td>\n",
              "      <td>4.600000e+01</td>\n",
              "      <td>4.800000e+01</td>\n",
              "      <td>2.931000e+01</td>\n",
              "      <td>1.000000e+01</td>\n",
              "      <td>3.500000e+00</td>\n",
              "      <td>0.000000e+00</td>\n",
              "    </tr>\n",
              "    <tr>\n",
              "      <th>50%</th>\n",
              "      <td>2.000000e+00</td>\n",
              "      <td>3.609861e+01</td>\n",
              "      <td>-9.241808e+01</td>\n",
              "      <td>3.609799e+01</td>\n",
              "      <td>-9.241772e+01</td>\n",
              "      <td>2.440000e-01</td>\n",
              "      <td>4.007000e+03</td>\n",
              "      <td>6.400000e+01</td>\n",
              "      <td>6.300000e+01</td>\n",
              "      <td>6.700000e+01</td>\n",
              "      <td>2.982000e+01</td>\n",
              "      <td>1.000000e+01</td>\n",
              "      <td>7.000000e+00</td>\n",
              "      <td>0.000000e+00</td>\n",
              "    </tr>\n",
              "    <tr>\n",
              "      <th>75%</th>\n",
              "      <td>2.000000e+00</td>\n",
              "      <td>4.016024e+01</td>\n",
              "      <td>-8.037243e+01</td>\n",
              "      <td>4.016105e+01</td>\n",
              "      <td>-8.037338e+01</td>\n",
              "      <td>7.640000e-01</td>\n",
              "      <td>9.567000e+03</td>\n",
              "      <td>7.600000e+01</td>\n",
              "      <td>7.600000e+01</td>\n",
              "      <td>8.300000e+01</td>\n",
              "      <td>3.001000e+01</td>\n",
              "      <td>1.000000e+01</td>\n",
              "      <td>1.000000e+01</td>\n",
              "      <td>0.000000e+00</td>\n",
              "    </tr>\n",
              "    <tr>\n",
              "      <th>max</th>\n",
              "      <td>4.000000e+00</td>\n",
              "      <td>4.900058e+01</td>\n",
              "      <td>-6.711317e+01</td>\n",
              "      <td>4.907500e+01</td>\n",
              "      <td>-6.710924e+01</td>\n",
              "      <td>1.551860e+02</td>\n",
              "      <td>9.999997e+06</td>\n",
              "      <td>1.960000e+02</td>\n",
              "      <td>1.960000e+02</td>\n",
              "      <td>1.000000e+02</td>\n",
              "      <td>5.890000e+01</td>\n",
              "      <td>1.400000e+02</td>\n",
              "      <td>1.087000e+03</td>\n",
              "      <td>2.400000e+01</td>\n",
              "    </tr>\n",
              "  </tbody>\n",
              "</table>\n",
              "</div>\n",
              "      <button class=\"colab-df-convert\" onclick=\"convertToInteractive('df-8078b4f4-d2fa-40a7-9294-bae6e177af02')\"\n",
              "              title=\"Convert this dataframe to an interactive table.\"\n",
              "              style=\"display:none;\">\n",
              "        \n",
              "  <svg xmlns=\"http://www.w3.org/2000/svg\" height=\"24px\"viewBox=\"0 0 24 24\"\n",
              "       width=\"24px\">\n",
              "    <path d=\"M0 0h24v24H0V0z\" fill=\"none\"/>\n",
              "    <path d=\"M18.56 5.44l.94 2.06.94-2.06 2.06-.94-2.06-.94-.94-2.06-.94 2.06-2.06.94zm-11 1L8.5 8.5l.94-2.06 2.06-.94-2.06-.94L8.5 2.5l-.94 2.06-2.06.94zm10 10l.94 2.06.94-2.06 2.06-.94-2.06-.94-.94-2.06-.94 2.06-2.06.94z\"/><path d=\"M17.41 7.96l-1.37-1.37c-.4-.4-.92-.59-1.43-.59-.52 0-1.04.2-1.43.59L10.3 9.45l-7.72 7.72c-.78.78-.78 2.05 0 2.83L4 21.41c.39.39.9.59 1.41.59.51 0 1.02-.2 1.41-.59l7.78-7.78 2.81-2.81c.8-.78.8-2.07 0-2.86zM5.41 20L4 18.59l7.72-7.72 1.47 1.35L5.41 20z\"/>\n",
              "  </svg>\n",
              "      </button>\n",
              "      \n",
              "  <style>\n",
              "    .colab-df-container {\n",
              "      display:flex;\n",
              "      flex-wrap:wrap;\n",
              "      gap: 12px;\n",
              "    }\n",
              "\n",
              "    .colab-df-convert {\n",
              "      background-color: #E8F0FE;\n",
              "      border: none;\n",
              "      border-radius: 50%;\n",
              "      cursor: pointer;\n",
              "      display: none;\n",
              "      fill: #1967D2;\n",
              "      height: 32px;\n",
              "      padding: 0 0 0 0;\n",
              "      width: 32px;\n",
              "    }\n",
              "\n",
              "    .colab-df-convert:hover {\n",
              "      background-color: #E2EBFA;\n",
              "      box-shadow: 0px 1px 2px rgba(60, 64, 67, 0.3), 0px 1px 3px 1px rgba(60, 64, 67, 0.15);\n",
              "      fill: #174EA6;\n",
              "    }\n",
              "\n",
              "    [theme=dark] .colab-df-convert {\n",
              "      background-color: #3B4455;\n",
              "      fill: #D2E3FC;\n",
              "    }\n",
              "\n",
              "    [theme=dark] .colab-df-convert:hover {\n",
              "      background-color: #434B5C;\n",
              "      box-shadow: 0px 1px 3px 1px rgba(0, 0, 0, 0.15);\n",
              "      filter: drop-shadow(0px 1px 2px rgba(0, 0, 0, 0.3));\n",
              "      fill: #FFFFFF;\n",
              "    }\n",
              "  </style>\n",
              "\n",
              "      <script>\n",
              "        const buttonEl =\n",
              "          document.querySelector('#df-8078b4f4-d2fa-40a7-9294-bae6e177af02 button.colab-df-convert');\n",
              "        buttonEl.style.display =\n",
              "          google.colab.kernel.accessAllowed ? 'block' : 'none';\n",
              "\n",
              "        async function convertToInteractive(key) {\n",
              "          const element = document.querySelector('#df-8078b4f4-d2fa-40a7-9294-bae6e177af02');\n",
              "          const dataTable =\n",
              "            await google.colab.kernel.invokeFunction('convertToInteractive',\n",
              "                                                     [key], {});\n",
              "          if (!dataTable) return;\n",
              "\n",
              "          const docLinkHtml = 'Like what you see? Visit the ' +\n",
              "            '<a target=\"_blank\" href=https://colab.research.google.com/notebooks/data_table.ipynb>data table notebook</a>'\n",
              "            + ' to learn more about interactive tables.';\n",
              "          element.innerHTML = '';\n",
              "          dataTable['output_type'] = 'display_data';\n",
              "          await google.colab.output.renderOutput(dataTable, element);\n",
              "          const docLink = document.createElement('div');\n",
              "          docLink.innerHTML = docLinkHtml;\n",
              "          element.appendChild(docLink);\n",
              "        }\n",
              "      </script>\n",
              "    </div>\n",
              "  </div>\n",
              "  "
            ]
          },
          "metadata": {},
          "execution_count": 9
        }
      ]
    },
    {
      "cell_type": "code",
      "source": [
        "numerics = ['int16', 'int32', 'int64', 'float16', 'float32', 'float64']\n",
        "\n",
        "numeric_df = df.select_dtypes(include=numerics)\n",
        "len(numeric_df.columns)"
      ],
      "metadata": {
        "colab": {
          "base_uri": "https://localhost:8080/"
        },
        "id": "A-Q32s4l3xMl",
        "outputId": "642340d8-2912-45cf-cbd8-26ca70473ea6"
      },
      "execution_count": 10,
      "outputs": [
        {
          "output_type": "execute_result",
          "data": {
            "text/plain": [
              "14"
            ]
          },
          "metadata": {},
          "execution_count": 10
        }
      ]
    },
    {
      "cell_type": "markdown",
      "source": [
        "Percentage of missing values per column"
      ],
      "metadata": {
        "id": "llTmo5Ko5_1o"
      }
    },
    {
      "cell_type": "code",
      "source": [
        "missing_percentage = df.isna().sum().sort_values(ascending=False) / len(df)\n",
        "missing_percentage"
      ],
      "metadata": {
        "colab": {
          "base_uri": "https://localhost:8080/"
        },
        "id": "SSPN-efy3w8E",
        "outputId": "dbb1c62b-23d5-4820-9134-606c37e1f31f"
      },
      "execution_count": 11,
      "outputs": [
        {
          "output_type": "execute_result",
          "data": {
            "text/plain": [
              "Number                   6.129003e-01\n",
              "Precipitation(in)        1.931079e-01\n",
              "Wind_Chill(F)            1.650568e-01\n",
              "Wind_Speed(mph)          5.550967e-02\n",
              "Wind_Direction           2.592834e-02\n",
              "Humidity(%)              2.568830e-02\n",
              "Weather_Condition        2.482514e-02\n",
              "Visibility(mi)           2.479350e-02\n",
              "Temperature(F)           2.434646e-02\n",
              "Pressure(in)             2.080593e-02\n",
              "Weather_Timestamp        1.783125e-02\n",
              "Airport_Code             3.356011e-03\n",
              "Timezone                 1.285961e-03\n",
              "Nautical_Twilight        1.007612e-03\n",
              "Civil_Twilight           1.007612e-03\n",
              "Sunrise_Sunset           1.007612e-03\n",
              "Astronomical_Twilight    1.007612e-03\n",
              "Zipcode                  4.635647e-04\n",
              "City                     4.814887e-05\n",
              "Street                   7.029032e-07\n",
              "Country                  0.000000e+00\n",
              "Junction                 0.000000e+00\n",
              "Start_Time               0.000000e+00\n",
              "End_Time                 0.000000e+00\n",
              "Start_Lat                0.000000e+00\n",
              "Turning_Loop             0.000000e+00\n",
              "Traffic_Signal           0.000000e+00\n",
              "Traffic_Calming          0.000000e+00\n",
              "Stop                     0.000000e+00\n",
              "Station                  0.000000e+00\n",
              "Roundabout               0.000000e+00\n",
              "Railway                  0.000000e+00\n",
              "No_Exit                  0.000000e+00\n",
              "Crossing                 0.000000e+00\n",
              "Give_Way                 0.000000e+00\n",
              "Bump                     0.000000e+00\n",
              "Amenity                  0.000000e+00\n",
              "Start_Lng                0.000000e+00\n",
              "End_Lat                  0.000000e+00\n",
              "End_Lng                  0.000000e+00\n",
              "Distance(mi)             0.000000e+00\n",
              "Description              0.000000e+00\n",
              "Severity                 0.000000e+00\n",
              "Side                     0.000000e+00\n",
              "County                   0.000000e+00\n",
              "State                    0.000000e+00\n",
              "ID                       0.000000e+00\n",
              "dtype: float64"
            ]
          },
          "metadata": {},
          "execution_count": 11
        }
      ]
    },
    {
      "cell_type": "code",
      "source": [
        "type(missing_percentage)"
      ],
      "metadata": {
        "colab": {
          "base_uri": "https://localhost:8080/"
        },
        "id": "H8eWs6jp6ipc",
        "outputId": "17d61bc1-2866-4a23-c2ac-2a756702f013"
      },
      "execution_count": 12,
      "outputs": [
        {
          "output_type": "execute_result",
          "data": {
            "text/plain": [
              "pandas.core.series.Series"
            ]
          },
          "metadata": {},
          "execution_count": 12
        }
      ]
    },
    {
      "cell_type": "code",
      "source": [
        "df_missing = pd.DataFrame(missing_percentage[missing_percentage != 0]*100).reset_index()\n",
        "df_missing.columns = ['Columns', 'Percentage (%)']\n",
        "type(df_missing)"
      ],
      "metadata": {
        "id": "ladOga8FpIsp",
        "outputId": "28f5ba02-bfdf-4649-de5a-1f53009d5744",
        "colab": {
          "base_uri": "https://localhost:8080/"
        }
      },
      "execution_count": 13,
      "outputs": [
        {
          "output_type": "execute_result",
          "data": {
            "text/plain": [
              "pandas.core.frame.DataFrame"
            ]
          },
          "metadata": {},
          "execution_count": 13
        }
      ]
    },
    {
      "cell_type": "code",
      "source": [
        "px.bar(df_missing, x='Percentage (%)', y='Columns', orientation='h')"
      ],
      "metadata": {
        "colab": {
          "base_uri": "https://localhost:8080/",
          "height": 542
        },
        "id": "z-zpasVQ3wyb",
        "outputId": "d25564b6-84e9-4c9f-db00-24d1ff65a202"
      },
      "execution_count": 14,
      "outputs": [
        {
          "output_type": "display_data",
          "data": {
            "text/html": [
              "<html>\n",
              "<head><meta charset=\"utf-8\" /></head>\n",
              "<body>\n",
              "    <div>            <script src=\"https://cdnjs.cloudflare.com/ajax/libs/mathjax/2.7.5/MathJax.js?config=TeX-AMS-MML_SVG\"></script><script type=\"text/javascript\">if (window.MathJax) {MathJax.Hub.Config({SVG: {font: \"STIX-Web\"}});}</script>                <script type=\"text/javascript\">window.PlotlyConfig = {MathJaxConfig: 'local'};</script>\n",
              "        <script src=\"https://cdn.plot.ly/plotly-2.8.3.min.js\"></script>                <div id=\"2a1219c8-330b-4885-896e-d391e6631f2d\" class=\"plotly-graph-div\" style=\"height:525px; width:100%;\"></div>            <script type=\"text/javascript\">                                    window.PLOTLYENV=window.PLOTLYENV || {};                                    if (document.getElementById(\"2a1219c8-330b-4885-896e-d391e6631f2d\")) {                    Plotly.newPlot(                        \"2a1219c8-330b-4885-896e-d391e6631f2d\",                        [{\"alignmentgroup\":\"True\",\"hovertemplate\":\"Percentage (%)=%{x}<br>Columns=%{y}<extra></extra>\",\"legendgroup\":\"\",\"marker\":{\"color\":\"#636efa\",\"pattern\":{\"shape\":\"\"}},\"name\":\"\",\"offsetgroup\":\"\",\"orientation\":\"h\",\"showlegend\":false,\"textposition\":\"auto\",\"x\":[61.290031215931165,19.310789353265793,16.505678403510018,5.550967159659542,2.592834183026153,2.5688300387088794,2.4825135256148467,2.4793504612099353,2.434645817620518,2.0805934752307453,1.7831248405288362,0.33560113336112146,0.12859614063968408,0.10076117387646194,0.10076117387646194,0.10076117387646194,0.10076117387646194,0.04635646611198232,0.0048148869274765565,7.029032010914681e-05],\"xaxis\":\"x\",\"y\":[\"Number\",\"Precipitation(in)\",\"Wind_Chill(F)\",\"Wind_Speed(mph)\",\"Wind_Direction\",\"Humidity(%)\",\"Weather_Condition\",\"Visibility(mi)\",\"Temperature(F)\",\"Pressure(in)\",\"Weather_Timestamp\",\"Airport_Code\",\"Timezone\",\"Nautical_Twilight\",\"Civil_Twilight\",\"Sunrise_Sunset\",\"Astronomical_Twilight\",\"Zipcode\",\"City\",\"Street\"],\"yaxis\":\"y\",\"type\":\"bar\"}],                        {\"template\":{\"data\":{\"bar\":[{\"error_x\":{\"color\":\"#2a3f5f\"},\"error_y\":{\"color\":\"#2a3f5f\"},\"marker\":{\"line\":{\"color\":\"#E5ECF6\",\"width\":0.5},\"pattern\":{\"fillmode\":\"overlay\",\"size\":10,\"solidity\":0.2}},\"type\":\"bar\"}],\"barpolar\":[{\"marker\":{\"line\":{\"color\":\"#E5ECF6\",\"width\":0.5},\"pattern\":{\"fillmode\":\"overlay\",\"size\":10,\"solidity\":0.2}},\"type\":\"barpolar\"}],\"carpet\":[{\"aaxis\":{\"endlinecolor\":\"#2a3f5f\",\"gridcolor\":\"white\",\"linecolor\":\"white\",\"minorgridcolor\":\"white\",\"startlinecolor\":\"#2a3f5f\"},\"baxis\":{\"endlinecolor\":\"#2a3f5f\",\"gridcolor\":\"white\",\"linecolor\":\"white\",\"minorgridcolor\":\"white\",\"startlinecolor\":\"#2a3f5f\"},\"type\":\"carpet\"}],\"choropleth\":[{\"colorbar\":{\"outlinewidth\":0,\"ticks\":\"\"},\"type\":\"choropleth\"}],\"contour\":[{\"colorbar\":{\"outlinewidth\":0,\"ticks\":\"\"},\"colorscale\":[[0.0,\"#0d0887\"],[0.1111111111111111,\"#46039f\"],[0.2222222222222222,\"#7201a8\"],[0.3333333333333333,\"#9c179e\"],[0.4444444444444444,\"#bd3786\"],[0.5555555555555556,\"#d8576b\"],[0.6666666666666666,\"#ed7953\"],[0.7777777777777778,\"#fb9f3a\"],[0.8888888888888888,\"#fdca26\"],[1.0,\"#f0f921\"]],\"type\":\"contour\"}],\"contourcarpet\":[{\"colorbar\":{\"outlinewidth\":0,\"ticks\":\"\"},\"type\":\"contourcarpet\"}],\"heatmap\":[{\"colorbar\":{\"outlinewidth\":0,\"ticks\":\"\"},\"colorscale\":[[0.0,\"#0d0887\"],[0.1111111111111111,\"#46039f\"],[0.2222222222222222,\"#7201a8\"],[0.3333333333333333,\"#9c179e\"],[0.4444444444444444,\"#bd3786\"],[0.5555555555555556,\"#d8576b\"],[0.6666666666666666,\"#ed7953\"],[0.7777777777777778,\"#fb9f3a\"],[0.8888888888888888,\"#fdca26\"],[1.0,\"#f0f921\"]],\"type\":\"heatmap\"}],\"heatmapgl\":[{\"colorbar\":{\"outlinewidth\":0,\"ticks\":\"\"},\"colorscale\":[[0.0,\"#0d0887\"],[0.1111111111111111,\"#46039f\"],[0.2222222222222222,\"#7201a8\"],[0.3333333333333333,\"#9c179e\"],[0.4444444444444444,\"#bd3786\"],[0.5555555555555556,\"#d8576b\"],[0.6666666666666666,\"#ed7953\"],[0.7777777777777778,\"#fb9f3a\"],[0.8888888888888888,\"#fdca26\"],[1.0,\"#f0f921\"]],\"type\":\"heatmapgl\"}],\"histogram\":[{\"marker\":{\"pattern\":{\"fillmode\":\"overlay\",\"size\":10,\"solidity\":0.2}},\"type\":\"histogram\"}],\"histogram2d\":[{\"colorbar\":{\"outlinewidth\":0,\"ticks\":\"\"},\"colorscale\":[[0.0,\"#0d0887\"],[0.1111111111111111,\"#46039f\"],[0.2222222222222222,\"#7201a8\"],[0.3333333333333333,\"#9c179e\"],[0.4444444444444444,\"#bd3786\"],[0.5555555555555556,\"#d8576b\"],[0.6666666666666666,\"#ed7953\"],[0.7777777777777778,\"#fb9f3a\"],[0.8888888888888888,\"#fdca26\"],[1.0,\"#f0f921\"]],\"type\":\"histogram2d\"}],\"histogram2dcontour\":[{\"colorbar\":{\"outlinewidth\":0,\"ticks\":\"\"},\"colorscale\":[[0.0,\"#0d0887\"],[0.1111111111111111,\"#46039f\"],[0.2222222222222222,\"#7201a8\"],[0.3333333333333333,\"#9c179e\"],[0.4444444444444444,\"#bd3786\"],[0.5555555555555556,\"#d8576b\"],[0.6666666666666666,\"#ed7953\"],[0.7777777777777778,\"#fb9f3a\"],[0.8888888888888888,\"#fdca26\"],[1.0,\"#f0f921\"]],\"type\":\"histogram2dcontour\"}],\"mesh3d\":[{\"colorbar\":{\"outlinewidth\":0,\"ticks\":\"\"},\"type\":\"mesh3d\"}],\"parcoords\":[{\"line\":{\"colorbar\":{\"outlinewidth\":0,\"ticks\":\"\"}},\"type\":\"parcoords\"}],\"pie\":[{\"automargin\":true,\"type\":\"pie\"}],\"scatter\":[{\"marker\":{\"colorbar\":{\"outlinewidth\":0,\"ticks\":\"\"}},\"type\":\"scatter\"}],\"scatter3d\":[{\"line\":{\"colorbar\":{\"outlinewidth\":0,\"ticks\":\"\"}},\"marker\":{\"colorbar\":{\"outlinewidth\":0,\"ticks\":\"\"}},\"type\":\"scatter3d\"}],\"scattercarpet\":[{\"marker\":{\"colorbar\":{\"outlinewidth\":0,\"ticks\":\"\"}},\"type\":\"scattercarpet\"}],\"scattergeo\":[{\"marker\":{\"colorbar\":{\"outlinewidth\":0,\"ticks\":\"\"}},\"type\":\"scattergeo\"}],\"scattergl\":[{\"marker\":{\"colorbar\":{\"outlinewidth\":0,\"ticks\":\"\"}},\"type\":\"scattergl\"}],\"scattermapbox\":[{\"marker\":{\"colorbar\":{\"outlinewidth\":0,\"ticks\":\"\"}},\"type\":\"scattermapbox\"}],\"scatterpolar\":[{\"marker\":{\"colorbar\":{\"outlinewidth\":0,\"ticks\":\"\"}},\"type\":\"scatterpolar\"}],\"scatterpolargl\":[{\"marker\":{\"colorbar\":{\"outlinewidth\":0,\"ticks\":\"\"}},\"type\":\"scatterpolargl\"}],\"scatterternary\":[{\"marker\":{\"colorbar\":{\"outlinewidth\":0,\"ticks\":\"\"}},\"type\":\"scatterternary\"}],\"surface\":[{\"colorbar\":{\"outlinewidth\":0,\"ticks\":\"\"},\"colorscale\":[[0.0,\"#0d0887\"],[0.1111111111111111,\"#46039f\"],[0.2222222222222222,\"#7201a8\"],[0.3333333333333333,\"#9c179e\"],[0.4444444444444444,\"#bd3786\"],[0.5555555555555556,\"#d8576b\"],[0.6666666666666666,\"#ed7953\"],[0.7777777777777778,\"#fb9f3a\"],[0.8888888888888888,\"#fdca26\"],[1.0,\"#f0f921\"]],\"type\":\"surface\"}],\"table\":[{\"cells\":{\"fill\":{\"color\":\"#EBF0F8\"},\"line\":{\"color\":\"white\"}},\"header\":{\"fill\":{\"color\":\"#C8D4E3\"},\"line\":{\"color\":\"white\"}},\"type\":\"table\"}]},\"layout\":{\"annotationdefaults\":{\"arrowcolor\":\"#2a3f5f\",\"arrowhead\":0,\"arrowwidth\":1},\"autotypenumbers\":\"strict\",\"coloraxis\":{\"colorbar\":{\"outlinewidth\":0,\"ticks\":\"\"}},\"colorscale\":{\"diverging\":[[0,\"#8e0152\"],[0.1,\"#c51b7d\"],[0.2,\"#de77ae\"],[0.3,\"#f1b6da\"],[0.4,\"#fde0ef\"],[0.5,\"#f7f7f7\"],[0.6,\"#e6f5d0\"],[0.7,\"#b8e186\"],[0.8,\"#7fbc41\"],[0.9,\"#4d9221\"],[1,\"#276419\"]],\"sequential\":[[0.0,\"#0d0887\"],[0.1111111111111111,\"#46039f\"],[0.2222222222222222,\"#7201a8\"],[0.3333333333333333,\"#9c179e\"],[0.4444444444444444,\"#bd3786\"],[0.5555555555555556,\"#d8576b\"],[0.6666666666666666,\"#ed7953\"],[0.7777777777777778,\"#fb9f3a\"],[0.8888888888888888,\"#fdca26\"],[1.0,\"#f0f921\"]],\"sequentialminus\":[[0.0,\"#0d0887\"],[0.1111111111111111,\"#46039f\"],[0.2222222222222222,\"#7201a8\"],[0.3333333333333333,\"#9c179e\"],[0.4444444444444444,\"#bd3786\"],[0.5555555555555556,\"#d8576b\"],[0.6666666666666666,\"#ed7953\"],[0.7777777777777778,\"#fb9f3a\"],[0.8888888888888888,\"#fdca26\"],[1.0,\"#f0f921\"]]},\"colorway\":[\"#636efa\",\"#EF553B\",\"#00cc96\",\"#ab63fa\",\"#FFA15A\",\"#19d3f3\",\"#FF6692\",\"#B6E880\",\"#FF97FF\",\"#FECB52\"],\"font\":{\"color\":\"#2a3f5f\"},\"geo\":{\"bgcolor\":\"white\",\"lakecolor\":\"white\",\"landcolor\":\"#E5ECF6\",\"showlakes\":true,\"showland\":true,\"subunitcolor\":\"white\"},\"hoverlabel\":{\"align\":\"left\"},\"hovermode\":\"closest\",\"mapbox\":{\"style\":\"light\"},\"paper_bgcolor\":\"white\",\"plot_bgcolor\":\"#E5ECF6\",\"polar\":{\"angularaxis\":{\"gridcolor\":\"white\",\"linecolor\":\"white\",\"ticks\":\"\"},\"bgcolor\":\"#E5ECF6\",\"radialaxis\":{\"gridcolor\":\"white\",\"linecolor\":\"white\",\"ticks\":\"\"}},\"scene\":{\"xaxis\":{\"backgroundcolor\":\"#E5ECF6\",\"gridcolor\":\"white\",\"gridwidth\":2,\"linecolor\":\"white\",\"showbackground\":true,\"ticks\":\"\",\"zerolinecolor\":\"white\"},\"yaxis\":{\"backgroundcolor\":\"#E5ECF6\",\"gridcolor\":\"white\",\"gridwidth\":2,\"linecolor\":\"white\",\"showbackground\":true,\"ticks\":\"\",\"zerolinecolor\":\"white\"},\"zaxis\":{\"backgroundcolor\":\"#E5ECF6\",\"gridcolor\":\"white\",\"gridwidth\":2,\"linecolor\":\"white\",\"showbackground\":true,\"ticks\":\"\",\"zerolinecolor\":\"white\"}},\"shapedefaults\":{\"line\":{\"color\":\"#2a3f5f\"}},\"ternary\":{\"aaxis\":{\"gridcolor\":\"white\",\"linecolor\":\"white\",\"ticks\":\"\"},\"baxis\":{\"gridcolor\":\"white\",\"linecolor\":\"white\",\"ticks\":\"\"},\"bgcolor\":\"#E5ECF6\",\"caxis\":{\"gridcolor\":\"white\",\"linecolor\":\"white\",\"ticks\":\"\"}},\"title\":{\"x\":0.05},\"xaxis\":{\"automargin\":true,\"gridcolor\":\"white\",\"linecolor\":\"white\",\"ticks\":\"\",\"title\":{\"standoff\":15},\"zerolinecolor\":\"white\",\"zerolinewidth\":2},\"yaxis\":{\"automargin\":true,\"gridcolor\":\"white\",\"linecolor\":\"white\",\"ticks\":\"\",\"title\":{\"standoff\":15},\"zerolinecolor\":\"white\",\"zerolinewidth\":2}}},\"xaxis\":{\"anchor\":\"y\",\"domain\":[0.0,1.0],\"title\":{\"text\":\"Percentage (%)\"}},\"yaxis\":{\"anchor\":\"x\",\"domain\":[0.0,1.0],\"title\":{\"text\":\"Columns\"}},\"legend\":{\"tracegroupgap\":0},\"margin\":{\"t\":60},\"barmode\":\"relative\"},                        {\"responsive\": true}                    ).then(function(){\n",
              "                            \n",
              "var gd = document.getElementById('2a1219c8-330b-4885-896e-d391e6631f2d');\n",
              "var x = new MutationObserver(function (mutations, observer) {{\n",
              "        var display = window.getComputedStyle(gd).display;\n",
              "        if (!display || display === 'none') {{\n",
              "            console.log([gd, 'removed!']);\n",
              "            Plotly.purge(gd);\n",
              "            observer.disconnect();\n",
              "        }}\n",
              "}});\n",
              "\n",
              "// Listen for the removal of the full notebook cells\n",
              "var notebookContainer = gd.closest('#notebook-container');\n",
              "if (notebookContainer) {{\n",
              "    x.observe(notebookContainer, {childList: true});\n",
              "}}\n",
              "\n",
              "// Listen for the clearing of the current output cell\n",
              "var outputEl = gd.closest('.output');\n",
              "if (outputEl) {{\n",
              "    x.observe(outputEl, {childList: true});\n",
              "}}\n",
              "\n",
              "                        })                };                            </script>        </div>\n",
              "</body>\n",
              "</html>"
            ]
          },
          "metadata": {}
        }
      ]
    },
    {
      "cell_type": "markdown",
      "source": [
        "- We can see that the Number column has over 60% data missing (61,29003%), Precipitation(in) and Wind_Chill(F) also have over 15% data missing. Since, Number column (which shows the street number) has majority of the data missing, we should drop it."
      ],
      "metadata": {
        "id": "LD550UuM7Wv8"
      }
    },
    {
      "cell_type": "code",
      "source": [
        "df = df.drop(\"Number\", axis=1)"
      ],
      "metadata": {
        "id": "t88rGsSzVmt5"
      },
      "execution_count": 16,
      "outputs": []
    },
    {
      "cell_type": "markdown",
      "metadata": {
        "id": "WKit4cW8I0Y9"
      },
      "source": [
        "## Exploratory Analysis and Visualization\n",
        "\n",
        "Columnscwe'll analyze:\n",
        "\n",
        "1. City\n",
        "2. Start Time\n",
        "3. Start Lat, Start Lng\n",
        "4. Tempeture\n",
        "5. Weather Condition"
      ]
    },
    {
      "cell_type": "markdown",
      "source": [
        "### City\n",
        "\n",
        "1. Which city in US has reported the most number of accident cases?"
      ],
      "metadata": {
        "id": "p8VkDxhjTXyk"
      }
    },
    {
      "cell_type": "code",
      "execution_count": 18,
      "metadata": {
        "id": "cxjRxpxoI5a7",
        "colab": {
          "base_uri": "https://localhost:8080/"
        },
        "outputId": "da5cd163-17a7-43ec-d3d6-b5834bef1d92"
      },
      "outputs": [
        {
          "output_type": "execute_result",
          "data": {
            "text/plain": [
              "0               Dublin\n",
              "1               Dayton\n",
              "2           Cincinnati\n",
              "3                Akron\n",
              "4           Cincinnati\n",
              "              ...     \n",
              "2845337      Riverside\n",
              "2845338      San Diego\n",
              "2845339         Orange\n",
              "2845340    Culver City\n",
              "2845341       Highland\n",
              "Name: City, Length: 2845342, dtype: object"
            ]
          },
          "metadata": {},
          "execution_count": 18
        }
      ],
      "source": [
        "df.City"
      ]
    },
    {
      "cell_type": "code",
      "execution_count": 56,
      "metadata": {
        "id": "hbclt1VWI5dn",
        "colab": {
          "base_uri": "https://localhost:8080/"
        },
        "outputId": "9c43506e-0992-4bd0-db40-9e4beca43bc9"
      },
      "outputs": [
        {
          "output_type": "execute_result",
          "data": {
            "text/plain": [
              "11682"
            ]
          },
          "metadata": {},
          "execution_count": 56
        }
      ],
      "source": [
        "cities = df.City.unique()\n",
        "len(cities)"
      ]
    },
    {
      "cell_type": "code",
      "execution_count": 87,
      "metadata": {
        "id": "9PLguOhAI5hX"
      },
      "outputs": [],
      "source": [
        "cities_by_accident = df.City.value_counts()\n",
        "cities_by_accidentt = cities_by_accident[cities_by_accident>10000]"
      ]
    },
    {
      "cell_type": "code",
      "source": [
        "cities_by_accidentt = pd.DataFrame(cities_by_accidentt).reset_index()\n",
        "cities_by_accidentt.columns = ['City', 'Accidents']\n",
        "type(cities_by_accident)"
      ],
      "metadata": {
        "id": "UVdFd3WXcvBY",
        "outputId": "435d2a79-5fb7-4d8d-a349-656425937475",
        "colab": {
          "base_uri": "https://localhost:8080/"
        }
      },
      "execution_count": 88,
      "outputs": [
        {
          "output_type": "execute_result",
          "data": {
            "text/plain": [
              "pandas.core.series.Series"
            ]
          },
          "metadata": {},
          "execution_count": 88
        }
      ]
    },
    {
      "cell_type": "code",
      "source": [
        "px.bar(cities_by_accidentt, x='Accidents', y='City', orientation='h')"
      ],
      "metadata": {
        "id": "SCB_Ie-JcogQ",
        "outputId": "501e58f1-421f-4c87-e26f-312bf782b980",
        "colab": {
          "base_uri": "https://localhost:8080/",
          "height": 542
        }
      },
      "execution_count": 89,
      "outputs": [
        {
          "output_type": "display_data",
          "data": {
            "text/html": [
              "<html>\n",
              "<head><meta charset=\"utf-8\" /></head>\n",
              "<body>\n",
              "    <div>            <script src=\"https://cdnjs.cloudflare.com/ajax/libs/mathjax/2.7.5/MathJax.js?config=TeX-AMS-MML_SVG\"></script><script type=\"text/javascript\">if (window.MathJax) {MathJax.Hub.Config({SVG: {font: \"STIX-Web\"}});}</script>                <script type=\"text/javascript\">window.PlotlyConfig = {MathJaxConfig: 'local'};</script>\n",
              "        <script src=\"https://cdn.plot.ly/plotly-2.8.3.min.js\"></script>                <div id=\"71621e73-37f8-4fb7-9b01-e6adcd944faa\" class=\"plotly-graph-div\" style=\"height:525px; width:100%;\"></div>            <script type=\"text/javascript\">                                    window.PLOTLYENV=window.PLOTLYENV || {};                                    if (document.getElementById(\"71621e73-37f8-4fb7-9b01-e6adcd944faa\")) {                    Plotly.newPlot(                        \"71621e73-37f8-4fb7-9b01-e6adcd944faa\",                        [{\"alignmentgroup\":\"True\",\"hovertemplate\":\"Accidents=%{x}<br>City=%{y}<extra></extra>\",\"legendgroup\":\"\",\"marker\":{\"color\":\"#636efa\",\"pattern\":{\"shape\":\"\"}},\"name\":\"\",\"offsetgroup\":\"\",\"orientation\":\"h\",\"showlegend\":false,\"textposition\":\"auto\",\"x\":[106966,68956,54691,41979,39448,33152,32559,26627,22840,22768,20944,20267,18301,18182,17143,16869,16251,15622,14967,14349,13799,13377,13310,13298,12044,11249,11188,10984,10709,10538,10502,10398,10345,10051],\"xaxis\":\"x\",\"y\":[\"Miami\",\"Los Angeles\",\"Orlando\",\"Dallas\",\"Houston\",\"Charlotte\",\"Sacramento\",\"San Diego\",\"Raleigh\",\"Minneapolis\",\"Portland\",\"Nashville\",\"Austin\",\"Baton Rouge\",\"Phoenix\",\"Saint Paul\",\"New Orleans\",\"Atlanta\",\"Jacksonville\",\"Richmond\",\"Tucson\",\"San Jose\",\"Riverside\",\"Kansas City\",\"Bakersfield\",\"San Bernardino\",\"Chicago\",\"Tampa\",\"Salt Lake City\",\"Ontario\",\"Anaheim\",\"Hialeah\",\"Fort Lauderdale\",\"Oakland\"],\"yaxis\":\"y\",\"type\":\"bar\"}],                        {\"template\":{\"data\":{\"bar\":[{\"error_x\":{\"color\":\"#2a3f5f\"},\"error_y\":{\"color\":\"#2a3f5f\"},\"marker\":{\"line\":{\"color\":\"#E5ECF6\",\"width\":0.5},\"pattern\":{\"fillmode\":\"overlay\",\"size\":10,\"solidity\":0.2}},\"type\":\"bar\"}],\"barpolar\":[{\"marker\":{\"line\":{\"color\":\"#E5ECF6\",\"width\":0.5},\"pattern\":{\"fillmode\":\"overlay\",\"size\":10,\"solidity\":0.2}},\"type\":\"barpolar\"}],\"carpet\":[{\"aaxis\":{\"endlinecolor\":\"#2a3f5f\",\"gridcolor\":\"white\",\"linecolor\":\"white\",\"minorgridcolor\":\"white\",\"startlinecolor\":\"#2a3f5f\"},\"baxis\":{\"endlinecolor\":\"#2a3f5f\",\"gridcolor\":\"white\",\"linecolor\":\"white\",\"minorgridcolor\":\"white\",\"startlinecolor\":\"#2a3f5f\"},\"type\":\"carpet\"}],\"choropleth\":[{\"colorbar\":{\"outlinewidth\":0,\"ticks\":\"\"},\"type\":\"choropleth\"}],\"contour\":[{\"colorbar\":{\"outlinewidth\":0,\"ticks\":\"\"},\"colorscale\":[[0.0,\"#0d0887\"],[0.1111111111111111,\"#46039f\"],[0.2222222222222222,\"#7201a8\"],[0.3333333333333333,\"#9c179e\"],[0.4444444444444444,\"#bd3786\"],[0.5555555555555556,\"#d8576b\"],[0.6666666666666666,\"#ed7953\"],[0.7777777777777778,\"#fb9f3a\"],[0.8888888888888888,\"#fdca26\"],[1.0,\"#f0f921\"]],\"type\":\"contour\"}],\"contourcarpet\":[{\"colorbar\":{\"outlinewidth\":0,\"ticks\":\"\"},\"type\":\"contourcarpet\"}],\"heatmap\":[{\"colorbar\":{\"outlinewidth\":0,\"ticks\":\"\"},\"colorscale\":[[0.0,\"#0d0887\"],[0.1111111111111111,\"#46039f\"],[0.2222222222222222,\"#7201a8\"],[0.3333333333333333,\"#9c179e\"],[0.4444444444444444,\"#bd3786\"],[0.5555555555555556,\"#d8576b\"],[0.6666666666666666,\"#ed7953\"],[0.7777777777777778,\"#fb9f3a\"],[0.8888888888888888,\"#fdca26\"],[1.0,\"#f0f921\"]],\"type\":\"heatmap\"}],\"heatmapgl\":[{\"colorbar\":{\"outlinewidth\":0,\"ticks\":\"\"},\"colorscale\":[[0.0,\"#0d0887\"],[0.1111111111111111,\"#46039f\"],[0.2222222222222222,\"#7201a8\"],[0.3333333333333333,\"#9c179e\"],[0.4444444444444444,\"#bd3786\"],[0.5555555555555556,\"#d8576b\"],[0.6666666666666666,\"#ed7953\"],[0.7777777777777778,\"#fb9f3a\"],[0.8888888888888888,\"#fdca26\"],[1.0,\"#f0f921\"]],\"type\":\"heatmapgl\"}],\"histogram\":[{\"marker\":{\"pattern\":{\"fillmode\":\"overlay\",\"size\":10,\"solidity\":0.2}},\"type\":\"histogram\"}],\"histogram2d\":[{\"colorbar\":{\"outlinewidth\":0,\"ticks\":\"\"},\"colorscale\":[[0.0,\"#0d0887\"],[0.1111111111111111,\"#46039f\"],[0.2222222222222222,\"#7201a8\"],[0.3333333333333333,\"#9c179e\"],[0.4444444444444444,\"#bd3786\"],[0.5555555555555556,\"#d8576b\"],[0.6666666666666666,\"#ed7953\"],[0.7777777777777778,\"#fb9f3a\"],[0.8888888888888888,\"#fdca26\"],[1.0,\"#f0f921\"]],\"type\":\"histogram2d\"}],\"histogram2dcontour\":[{\"colorbar\":{\"outlinewidth\":0,\"ticks\":\"\"},\"colorscale\":[[0.0,\"#0d0887\"],[0.1111111111111111,\"#46039f\"],[0.2222222222222222,\"#7201a8\"],[0.3333333333333333,\"#9c179e\"],[0.4444444444444444,\"#bd3786\"],[0.5555555555555556,\"#d8576b\"],[0.6666666666666666,\"#ed7953\"],[0.7777777777777778,\"#fb9f3a\"],[0.8888888888888888,\"#fdca26\"],[1.0,\"#f0f921\"]],\"type\":\"histogram2dcontour\"}],\"mesh3d\":[{\"colorbar\":{\"outlinewidth\":0,\"ticks\":\"\"},\"type\":\"mesh3d\"}],\"parcoords\":[{\"line\":{\"colorbar\":{\"outlinewidth\":0,\"ticks\":\"\"}},\"type\":\"parcoords\"}],\"pie\":[{\"automargin\":true,\"type\":\"pie\"}],\"scatter\":[{\"marker\":{\"colorbar\":{\"outlinewidth\":0,\"ticks\":\"\"}},\"type\":\"scatter\"}],\"scatter3d\":[{\"line\":{\"colorbar\":{\"outlinewidth\":0,\"ticks\":\"\"}},\"marker\":{\"colorbar\":{\"outlinewidth\":0,\"ticks\":\"\"}},\"type\":\"scatter3d\"}],\"scattercarpet\":[{\"marker\":{\"colorbar\":{\"outlinewidth\":0,\"ticks\":\"\"}},\"type\":\"scattercarpet\"}],\"scattergeo\":[{\"marker\":{\"colorbar\":{\"outlinewidth\":0,\"ticks\":\"\"}},\"type\":\"scattergeo\"}],\"scattergl\":[{\"marker\":{\"colorbar\":{\"outlinewidth\":0,\"ticks\":\"\"}},\"type\":\"scattergl\"}],\"scattermapbox\":[{\"marker\":{\"colorbar\":{\"outlinewidth\":0,\"ticks\":\"\"}},\"type\":\"scattermapbox\"}],\"scatterpolar\":[{\"marker\":{\"colorbar\":{\"outlinewidth\":0,\"ticks\":\"\"}},\"type\":\"scatterpolar\"}],\"scatterpolargl\":[{\"marker\":{\"colorbar\":{\"outlinewidth\":0,\"ticks\":\"\"}},\"type\":\"scatterpolargl\"}],\"scatterternary\":[{\"marker\":{\"colorbar\":{\"outlinewidth\":0,\"ticks\":\"\"}},\"type\":\"scatterternary\"}],\"surface\":[{\"colorbar\":{\"outlinewidth\":0,\"ticks\":\"\"},\"colorscale\":[[0.0,\"#0d0887\"],[0.1111111111111111,\"#46039f\"],[0.2222222222222222,\"#7201a8\"],[0.3333333333333333,\"#9c179e\"],[0.4444444444444444,\"#bd3786\"],[0.5555555555555556,\"#d8576b\"],[0.6666666666666666,\"#ed7953\"],[0.7777777777777778,\"#fb9f3a\"],[0.8888888888888888,\"#fdca26\"],[1.0,\"#f0f921\"]],\"type\":\"surface\"}],\"table\":[{\"cells\":{\"fill\":{\"color\":\"#EBF0F8\"},\"line\":{\"color\":\"white\"}},\"header\":{\"fill\":{\"color\":\"#C8D4E3\"},\"line\":{\"color\":\"white\"}},\"type\":\"table\"}]},\"layout\":{\"annotationdefaults\":{\"arrowcolor\":\"#2a3f5f\",\"arrowhead\":0,\"arrowwidth\":1},\"autotypenumbers\":\"strict\",\"coloraxis\":{\"colorbar\":{\"outlinewidth\":0,\"ticks\":\"\"}},\"colorscale\":{\"diverging\":[[0,\"#8e0152\"],[0.1,\"#c51b7d\"],[0.2,\"#de77ae\"],[0.3,\"#f1b6da\"],[0.4,\"#fde0ef\"],[0.5,\"#f7f7f7\"],[0.6,\"#e6f5d0\"],[0.7,\"#b8e186\"],[0.8,\"#7fbc41\"],[0.9,\"#4d9221\"],[1,\"#276419\"]],\"sequential\":[[0.0,\"#0d0887\"],[0.1111111111111111,\"#46039f\"],[0.2222222222222222,\"#7201a8\"],[0.3333333333333333,\"#9c179e\"],[0.4444444444444444,\"#bd3786\"],[0.5555555555555556,\"#d8576b\"],[0.6666666666666666,\"#ed7953\"],[0.7777777777777778,\"#fb9f3a\"],[0.8888888888888888,\"#fdca26\"],[1.0,\"#f0f921\"]],\"sequentialminus\":[[0.0,\"#0d0887\"],[0.1111111111111111,\"#46039f\"],[0.2222222222222222,\"#7201a8\"],[0.3333333333333333,\"#9c179e\"],[0.4444444444444444,\"#bd3786\"],[0.5555555555555556,\"#d8576b\"],[0.6666666666666666,\"#ed7953\"],[0.7777777777777778,\"#fb9f3a\"],[0.8888888888888888,\"#fdca26\"],[1.0,\"#f0f921\"]]},\"colorway\":[\"#636efa\",\"#EF553B\",\"#00cc96\",\"#ab63fa\",\"#FFA15A\",\"#19d3f3\",\"#FF6692\",\"#B6E880\",\"#FF97FF\",\"#FECB52\"],\"font\":{\"color\":\"#2a3f5f\"},\"geo\":{\"bgcolor\":\"white\",\"lakecolor\":\"white\",\"landcolor\":\"#E5ECF6\",\"showlakes\":true,\"showland\":true,\"subunitcolor\":\"white\"},\"hoverlabel\":{\"align\":\"left\"},\"hovermode\":\"closest\",\"mapbox\":{\"style\":\"light\"},\"paper_bgcolor\":\"white\",\"plot_bgcolor\":\"#E5ECF6\",\"polar\":{\"angularaxis\":{\"gridcolor\":\"white\",\"linecolor\":\"white\",\"ticks\":\"\"},\"bgcolor\":\"#E5ECF6\",\"radialaxis\":{\"gridcolor\":\"white\",\"linecolor\":\"white\",\"ticks\":\"\"}},\"scene\":{\"xaxis\":{\"backgroundcolor\":\"#E5ECF6\",\"gridcolor\":\"white\",\"gridwidth\":2,\"linecolor\":\"white\",\"showbackground\":true,\"ticks\":\"\",\"zerolinecolor\":\"white\"},\"yaxis\":{\"backgroundcolor\":\"#E5ECF6\",\"gridcolor\":\"white\",\"gridwidth\":2,\"linecolor\":\"white\",\"showbackground\":true,\"ticks\":\"\",\"zerolinecolor\":\"white\"},\"zaxis\":{\"backgroundcolor\":\"#E5ECF6\",\"gridcolor\":\"white\",\"gridwidth\":2,\"linecolor\":\"white\",\"showbackground\":true,\"ticks\":\"\",\"zerolinecolor\":\"white\"}},\"shapedefaults\":{\"line\":{\"color\":\"#2a3f5f\"}},\"ternary\":{\"aaxis\":{\"gridcolor\":\"white\",\"linecolor\":\"white\",\"ticks\":\"\"},\"baxis\":{\"gridcolor\":\"white\",\"linecolor\":\"white\",\"ticks\":\"\"},\"bgcolor\":\"#E5ECF6\",\"caxis\":{\"gridcolor\":\"white\",\"linecolor\":\"white\",\"ticks\":\"\"}},\"title\":{\"x\":0.05},\"xaxis\":{\"automargin\":true,\"gridcolor\":\"white\",\"linecolor\":\"white\",\"ticks\":\"\",\"title\":{\"standoff\":15},\"zerolinecolor\":\"white\",\"zerolinewidth\":2},\"yaxis\":{\"automargin\":true,\"gridcolor\":\"white\",\"linecolor\":\"white\",\"ticks\":\"\",\"title\":{\"standoff\":15},\"zerolinecolor\":\"white\",\"zerolinewidth\":2}}},\"xaxis\":{\"anchor\":\"y\",\"domain\":[0.0,1.0],\"title\":{\"text\":\"Accidents\"}},\"yaxis\":{\"anchor\":\"x\",\"domain\":[0.0,1.0],\"title\":{\"text\":\"City\"}},\"legend\":{\"tracegroupgap\":0},\"margin\":{\"t\":60},\"barmode\":\"relative\"},                        {\"responsive\": true}                    ).then(function(){\n",
              "                            \n",
              "var gd = document.getElementById('71621e73-37f8-4fb7-9b01-e6adcd944faa');\n",
              "var x = new MutationObserver(function (mutations, observer) {{\n",
              "        var display = window.getComputedStyle(gd).display;\n",
              "        if (!display || display === 'none') {{\n",
              "            console.log([gd, 'removed!']);\n",
              "            Plotly.purge(gd);\n",
              "            observer.disconnect();\n",
              "        }}\n",
              "}});\n",
              "\n",
              "// Listen for the removal of the full notebook cells\n",
              "var notebookContainer = gd.closest('#notebook-container');\n",
              "if (notebookContainer) {{\n",
              "    x.observe(notebookContainer, {childList: true});\n",
              "}}\n",
              "\n",
              "// Listen for the clearing of the current output cell\n",
              "var outputEl = gd.closest('.output');\n",
              "if (outputEl) {{\n",
              "    x.observe(outputEl, {childList: true});\n",
              "}}\n",
              "\n",
              "                        })                };                            </script>        </div>\n",
              "</body>\n",
              "</html>"
            ]
          },
          "metadata": {}
        }
      ]
    },
    {
      "cell_type": "code",
      "source": [
        "plt.figure(figsize=(15,8))\n",
        "plt.xlabel('\\n City \\n', fontsize=15, color='grey')\n",
        "plt.ylabel('\\nAccident Cases\\n', fontsize=15, color='grey')\n",
        "plt.xticks(fontsize=13)\n",
        "plt.yticks(fontsize=12)\n",
        "sns.histplot(df.City.value_counts(),log_scale=True,color=\"grey\")\n",
        "sns.histplot(cities_by_accident, log_scale=True)\n",
        "plt.show()"
      ],
      "metadata": {
        "colab": {
          "base_uri": "https://localhost:8080/",
          "height": 543
        },
        "id": "VocqR1-c7dsy",
        "outputId": "589ebb80-9c5e-4f9c-e464-eff489b92039"
      },
      "execution_count": 96,
      "outputs": [
        {
          "output_type": "display_data",
          "data": {
            "text/plain": [
              "<Figure size 1080x576 with 1 Axes>"
            ],
            "image/png": "[encoded data removed]"
          },
          "metadata": {}
        }
      ]
    },
    {
      "cell_type": "markdown",
      "source": [
        "No of accidents in cities are exponentially decreasing. We see large accounts near to 1, possibly because of not data recorded there.\n",
        "\n",
        "We have 1167 cities which recorded only 1 accident case, this is another data source drawback."
      ],
      "metadata": {
        "id": "qYjcjCNYjruN"
      }
    },
    {
      "cell_type": "code",
      "source": [
        "cities_by_accident[cities_by_accident == 1]"
      ],
      "metadata": {
        "id": "94Fv0uxw3bwa",
        "colab": {
          "base_uri": "https://localhost:8080/"
        },
        "outputId": "a32edef3-cd41-4dc8-97b5-a48f1a1d53d9"
      },
      "execution_count": 27,
      "outputs": [
        {
          "output_type": "execute_result",
          "data": {
            "text/plain": [
              "Carney                          1\n",
              "Waverly Hall                    1\n",
              "Center Sandwich                 1\n",
              "Glen Flora                      1\n",
              "Sulphur Springs                 1\n",
              "                               ..\n",
              "Ridgedale                       1\n",
              "Sekiu                           1\n",
              "Wooldridge                      1\n",
              "Bullock                         1\n",
              "American Fork-Pleasant Grove    1\n",
              "Name: City, Length: 1110, dtype: int64"
            ]
          },
          "metadata": {},
          "execution_count": 27
        }
      ]
    },
    {
      "cell_type": "markdown",
      "source": [
        "### Start Time"
      ],
      "metadata": {
        "id": "qmsSQUiTTS22"
      }
    },
    {
      "cell_type": "code",
      "source": [
        "df.Start_Time"
      ],
      "metadata": {
        "id": "yZyUpfyX3b2-",
        "colab": {
          "base_uri": "https://localhost:8080/"
        },
        "outputId": "604257b2-f027-4b5d-fb62-0ca9cd5d17b8"
      },
      "execution_count": 28,
      "outputs": [
        {
          "output_type": "execute_result",
          "data": {
            "text/plain": [
              "0          2016-02-08 00:37:08\n",
              "1          2016-02-08 05:56:20\n",
              "2          2016-02-08 06:15:39\n",
              "3          2016-02-08 06:51:45\n",
              "4          2016-02-08 07:53:43\n",
              "                  ...         \n",
              "2845337    2019-08-23 18:03:25\n",
              "2845338    2019-08-23 19:11:30\n",
              "2845339    2019-08-23 19:00:21\n",
              "2845340    2019-08-23 19:00:21\n",
              "2845341    2019-08-23 18:52:06\n",
              "Name: Start_Time, Length: 2845342, dtype: object"
            ]
          },
          "metadata": {},
          "execution_count": 28
        }
      ]
    },
    {
      "cell_type": "code",
      "source": [
        "df.Start_Time[0]"
      ],
      "metadata": {
        "colab": {
          "base_uri": "https://localhost:8080/",
          "height": 35
        },
        "id": "pkl0rUoCTLEV",
        "outputId": "03e3fea6-8d46-4bc6-8f1d-70cc709dbdd1"
      },
      "execution_count": 29,
      "outputs": [
        {
          "output_type": "execute_result",
          "data": {
            "text/plain": [
              "'2016-02-08 00:37:08'"
            ],
            "application/vnd.google.colaboratory.intrinsic+json": {
              "type": "string"
            }
          },
          "metadata": {},
          "execution_count": 29
        }
      ]
    },
    {
      "cell_type": "code",
      "source": [
        "df.Start_Time = pd.to_datetime(df.Start_Time)"
      ],
      "metadata": {
        "id": "Yk9W1e3yTK-D"
      },
      "execution_count": 30,
      "outputs": []
    },
    {
      "cell_type": "markdown",
      "source": [
        "- Fiqure out how to show percentages"
      ],
      "metadata": {
        "id": "8IsXwzQsVvgD"
      }
    },
    {
      "cell_type": "code",
      "source": [
        "sns.distplot(df.Start_Time.dt.hour, bins=24, kde=False, norm_hist=True)"
      ],
      "metadata": {
        "colab": {
          "base_uri": "https://localhost:8080/",
          "height": 389
        },
        "id": "0LJVqhWjTl4j",
        "outputId": "31a0d5e3-cdf2-4383-84f7-f83aa0a88093"
      },
      "execution_count": 31,
      "outputs": [
        {
          "output_type": "stream",
          "name": "stderr",
          "text": [
            "/usr/local/lib/python3.7/dist-packages/seaborn/distributions.py:2619: FutureWarning:\n",
            "\n",
            "`distplot` is a deprecated function and will be removed in a future version. Please adapt your code to use either `displot` (a figure-level function with similar flexibility) or `histplot` (an axes-level function for histograms).\n",
            "\n"
          ]
        },
        {
          "output_type": "execute_result",
          "data": {
            "text/plain": [
              "<matplotlib.axes._subplots.AxesSubplot at 0x7f245b7bf2d0>"
            ]
          },
          "metadata": {},
          "execution_count": 31
        },
        {
          "output_type": "display_data",
          "data": {
            "text/plain": [
              "<Figure size 432x288 with 1 Axes>"
            ],
            "image/png": "[encoded data removed]"
          },
          "metadata": {}
        }
      ]
    },
    {
      "cell_type": "markdown",
      "source": [
        "- A high percentage of accidents occur between 14 pm to 19 pm"
      ],
      "metadata": {
        "id": "s8TUb1x3X0CV"
      }
    },
    {
      "cell_type": "code",
      "source": [
        "sns.distplot(df.Start_Time.dt.dayofweek, bins=7, kde=False, norm_hist=True)"
      ],
      "metadata": {
        "colab": {
          "base_uri": "https://localhost:8080/",
          "height": 389
        },
        "id": "05Dph2ejTl2F",
        "outputId": "ab12f631-35ff-4390-ffb6-2574ec914599"
      },
      "execution_count": 32,
      "outputs": [
        {
          "output_type": "stream",
          "name": "stderr",
          "text": [
            "/usr/local/lib/python3.7/dist-packages/seaborn/distributions.py:2619: FutureWarning:\n",
            "\n",
            "`distplot` is a deprecated function and will be removed in a future version. Please adapt your code to use either `displot` (a figure-level function with similar flexibility) or `histplot` (an axes-level function for histograms).\n",
            "\n"
          ]
        },
        {
          "output_type": "execute_result",
          "data": {
            "text/plain": [
              "<matplotlib.axes._subplots.AxesSubplot at 0x7f245b7bf310>"
            ]
          },
          "metadata": {},
          "execution_count": 32
        },
        {
          "output_type": "display_data",
          "data": {
            "text/plain": [
              "<Figure size 432x288 with 1 Axes>"
            ],
            "image/png": "[encoded data removed]"
          },
          "metadata": {}
        }
      ]
    },
    {
      "cell_type": "markdown",
      "source": [
        "Is the distibution of accidents by hour the same on weekends as on weekdays. "
      ],
      "metadata": {
        "id": "Dsl4qZpRZLQs"
      }
    },
    {
      "cell_type": "code",
      "source": [
        "sundays_start_time = df.Start_Time[df.Start_Time.dt.dayofweek == 6]\n",
        "sns.distplot(sundays_start_time.dt.hour, bins=24, kde=False, norm_hist=True)"
      ],
      "metadata": {
        "colab": {
          "base_uri": "https://localhost:8080/",
          "height": 389
        },
        "id": "jQ1neLrRTly-",
        "outputId": "38ec829b-d5e4-45c3-ea3c-e8ef96fa5972"
      },
      "execution_count": 33,
      "outputs": [
        {
          "output_type": "stream",
          "name": "stderr",
          "text": [
            "/usr/local/lib/python3.7/dist-packages/seaborn/distributions.py:2619: FutureWarning:\n",
            "\n",
            "`distplot` is a deprecated function and will be removed in a future version. Please adapt your code to use either `displot` (a figure-level function with similar flexibility) or `histplot` (an axes-level function for histograms).\n",
            "\n"
          ]
        },
        {
          "output_type": "execute_result",
          "data": {
            "text/plain": [
              "<matplotlib.axes._subplots.AxesSubplot at 0x7f245b6f72d0>"
            ]
          },
          "metadata": {},
          "execution_count": 33
        },
        {
          "output_type": "display_data",
          "data": {
            "text/plain": [
              "<Figure size 432x288 with 1 Axes>"
            ],
            "image/png": "[encoded data removed]"
          },
          "metadata": {}
        }
      ]
    },
    {
      "cell_type": "code",
      "source": [
        "monday_start_time = df.Start_Time[df.Start_Time.dt.dayofweek == 0]\n",
        "sns.distplot(monday_start_time.dt.hour, bins=24, kde=False, norm_hist=True)"
      ],
      "metadata": {
        "colab": {
          "base_uri": "https://localhost:8080/",
          "height": 389
        },
        "id": "AtXw1I8ATltr",
        "outputId": "0c9f8a5e-f5b9-4483-b305-420b2937e26a"
      },
      "execution_count": 34,
      "outputs": [
        {
          "output_type": "stream",
          "name": "stderr",
          "text": [
            "/usr/local/lib/python3.7/dist-packages/seaborn/distributions.py:2619: FutureWarning:\n",
            "\n",
            "`distplot` is a deprecated function and will be removed in a future version. Please adapt your code to use either `displot` (a figure-level function with similar flexibility) or `histplot` (an axes-level function for histograms).\n",
            "\n"
          ]
        },
        {
          "output_type": "execute_result",
          "data": {
            "text/plain": [
              "<matplotlib.axes._subplots.AxesSubplot at 0x7f245b683e10>"
            ]
          },
          "metadata": {},
          "execution_count": 34
        },
        {
          "output_type": "display_data",
          "data": {
            "text/plain": [
              "<Figure size 432x288 with 1 Axes>"
            ],
            "image/png": "[encoded data removed]"
          },
          "metadata": {}
        }
      ]
    },
    {
      "cell_type": "markdown",
      "source": [
        "On Sundays, the peak occurs between 10 am and 17 pm, unlike weekday."
      ],
      "metadata": {
        "id": "hTHuyx-OaGMl"
      }
    },
    {
      "cell_type": "code",
      "source": [
        "df_2019 = df[df.Start_Time.dt.year == 2016]\n",
        "sns.distplot(df_2019.Start_Time.dt.month, bins=12, kde=False, norm_hist=True)"
      ],
      "metadata": {
        "colab": {
          "base_uri": "https://localhost:8080/",
          "height": 389
        },
        "id": "n8vRxGJPanxH",
        "outputId": "308f3761-98ed-4dc8-f532-5086dc5b1bb5"
      },
      "execution_count": 35,
      "outputs": [
        {
          "output_type": "stream",
          "name": "stderr",
          "text": [
            "/usr/local/lib/python3.7/dist-packages/seaborn/distributions.py:2619: FutureWarning:\n",
            "\n",
            "`distplot` is a deprecated function and will be removed in a future version. Please adapt your code to use either `displot` (a figure-level function with similar flexibility) or `histplot` (an axes-level function for histograms).\n",
            "\n"
          ]
        },
        {
          "output_type": "execute_result",
          "data": {
            "text/plain": [
              "<matplotlib.axes._subplots.AxesSubplot at 0x7f245b5e6ed0>"
            ]
          },
          "metadata": {},
          "execution_count": 35
        },
        {
          "output_type": "display_data",
          "data": {
            "text/plain": [
              "<Figure size 432x288 with 1 Axes>"
            ],
            "image/png": "[encoded data removed]"
          },
          "metadata": {}
        }
      ]
    },
    {
      "cell_type": "markdown",
      "source": [
        "Can you explain the month-wise trend of accidents? \n",
        "\n",
        "- Much data is missing for 2016. Maybe even 2017."
      ],
      "metadata": {
        "id": "yw7DQwPwbknt"
      }
    },
    {
      "cell_type": "markdown",
      "source": [
        "## Start Latitude & Longitude"
      ],
      "metadata": {
        "id": "bG4JQHmQ992s"
      }
    },
    {
      "cell_type": "code",
      "source": [
        "df.Start_Lat"
      ],
      "metadata": {
        "colab": {
          "base_uri": "https://localhost:8080/"
        },
        "id": "WUuqFiA8anok",
        "outputId": "be338de3-b129-4933-be7d-6b5772b942c6"
      },
      "execution_count": 36,
      "outputs": [
        {
          "output_type": "execute_result",
          "data": {
            "text/plain": [
              "0          40.108910\n",
              "1          39.865420\n",
              "2          39.102660\n",
              "3          41.062130\n",
              "4          39.172393\n",
              "             ...    \n",
              "2845337    34.002480\n",
              "2845338    32.766960\n",
              "2845339    33.775450\n",
              "2845340    33.992460\n",
              "2845341    34.133930\n",
              "Name: Start_Lat, Length: 2845342, dtype: float64"
            ]
          },
          "metadata": {},
          "execution_count": 36
        }
      ]
    },
    {
      "cell_type": "code",
      "source": [
        "df.Start_Lng"
      ],
      "metadata": {
        "colab": {
          "base_uri": "https://localhost:8080/"
        },
        "id": "DL3to6LJ97_g",
        "outputId": "306a04cd-ce0e-4cce-e06e-fe33ba5a3f71"
      },
      "execution_count": 37,
      "outputs": [
        {
          "output_type": "execute_result",
          "data": {
            "text/plain": [
              "0          -83.092860\n",
              "1          -84.062800\n",
              "2          -84.524680\n",
              "3          -81.537840\n",
              "4          -84.492792\n",
              "              ...    \n",
              "2845337   -117.379360\n",
              "2845338   -117.148060\n",
              "2845339   -117.847790\n",
              "2845340   -118.403020\n",
              "2845341   -117.230920\n",
              "Name: Start_Lng, Length: 2845342, dtype: float64"
            ]
          },
          "metadata": {},
          "execution_count": 37
        }
      ]
    },
    {
      "cell_type": "code",
      "source": [
        "sample_df = df.sample(int(0.1 * len(df)))"
      ],
      "metadata": {
        "id": "_i0h8UNO979M"
      },
      "execution_count": 38,
      "outputs": []
    },
    {
      "cell_type": "code",
      "source": [
        "sns.scatterplot(x=sample_df.Start_Lng, y=sample_df.Start_Lat, size=0.001)"
      ],
      "metadata": {
        "colab": {
          "base_uri": "https://localhost:8080/",
          "height": 300
        },
        "id": "sxnU1qbl977A",
        "outputId": "fda7c292-1260-4047-d683-1c84f92de2a0"
      },
      "execution_count": 39,
      "outputs": [
        {
          "output_type": "execute_result",
          "data": {
            "text/plain": [
              "<matplotlib.axes._subplots.AxesSubplot at 0x7f245b4d0310>"
            ]
          },
          "metadata": {},
          "execution_count": 39
        },
        {
          "output_type": "display_data",
          "data": {
            "text/plain": [
              "<Figure size 432x288 with 1 Axes>"
            ],
            "image/png": "[encoded data removed]"
          },
          "metadata": {}
        }
      ]
    },
    {
      "cell_type": "code",
      "source": [
        "import folium"
      ],
      "metadata": {
        "id": "ner-5gP497zd"
      },
      "execution_count": 40,
      "outputs": []
    },
    {
      "cell_type": "code",
      "source": [
        "lat, lon = df.Start_Lat[0], df.Start_Lng[0]\n",
        "lat, lon"
      ],
      "metadata": {
        "colab": {
          "base_uri": "https://localhost:8080/"
        },
        "id": "UnUiGMGTAcaz",
        "outputId": "a9a5b8ee-07c3-4dd4-f473-847b15ff5617"
      },
      "execution_count": 41,
      "outputs": [
        {
          "output_type": "execute_result",
          "data": {
            "text/plain": [
              "(40.10891, -83.09286)"
            ]
          },
          "metadata": {},
          "execution_count": 41
        }
      ]
    },
    {
      "cell_type": "code",
      "source": [
        "for x in df[['Start_Lat', 'Start_Lng']].sample(100).iteritems():\n",
        "  print(x[1])"
      ],
      "metadata": {
        "colab": {
          "base_uri": "https://localhost:8080/"
        },
        "id": "_XxCuZTgBLxl",
        "outputId": "6ca1cc01-5168-4f2f-9947-786cdb72eafe"
      },
      "execution_count": 42,
      "outputs": [
        {
          "output_type": "stream",
          "name": "stdout",
          "text": [
            "1288994    38.633663\n",
            "2535418    28.955090\n",
            "1138852    33.988318\n",
            "2782801    35.911120\n",
            "1519824    43.861874\n",
            "             ...    \n",
            "310699     38.498866\n",
            "620444     37.247545\n",
            "1515821    39.034775\n",
            "1051034    47.778999\n",
            "877705     41.532015\n",
            "Name: Start_Lat, Length: 100, dtype: float64\n",
            "1288994   -121.501028\n",
            "2535418    -80.952980\n",
            "1138852   -117.902816\n",
            "2782801    -78.865170\n",
            "1519824   -116.773434\n",
            "              ...    \n",
            "310699    -122.988720\n",
            "620444     -77.393014\n",
            "1515821    -94.309100\n",
            "1051034    -95.007560\n",
            "877705     -73.895097\n",
            "Name: Start_Lng, Length: 100, dtype: float64\n"
          ]
        }
      ]
    },
    {
      "cell_type": "code",
      "source": [
        "zip(list(df.Start_Lat), list(df.Start_Lng))"
      ],
      "metadata": {
        "colab": {
          "base_uri": "https://localhost:8080/"
        },
        "id": "sM2SFY5xGihQ",
        "outputId": "fc16ea1e-3b39-4660-f1ad-63520b5879a3"
      },
      "execution_count": 43,
      "outputs": [
        {
          "output_type": "execute_result",
          "data": {
            "text/plain": [
              "<zip at 0x7f245b46b7d0>"
            ]
          },
          "metadata": {},
          "execution_count": 43
        }
      ]
    },
    {
      "cell_type": "code",
      "source": [
        "from folium.plugins import HeatMap"
      ],
      "metadata": {
        "id": "OB0SZ_N4HAa1"
      },
      "execution_count": 44,
      "outputs": []
    },
    {
      "cell_type": "code",
      "source": [
        ""
      ],
      "metadata": {
        "id": "5yLd2foODMfn"
      },
      "execution_count": 44,
      "outputs": []
    },
    {
      "cell_type": "code",
      "source": [
        "sample_df = df.sample(int(0.001 * len(df)))\n",
        "lat_lon_pairs = zip(list(sample_df.Start_Lat), list(sample_df.Start_Lng))"
      ],
      "metadata": {
        "id": "bkbsORlGHPG6"
      },
      "execution_count": 45,
      "outputs": []
    },
    {
      "cell_type": "code",
      "source": [
        "map = folium.Map()\n",
        "HeatMap(lat_lon_pairs).add_to(map)\n",
        "map"
      ],
      "metadata": {
        "colab": {
          "base_uri": "https://localhost:8080/",
          "height": 952
        },
        "id": "tER3Qq-fanmG",
        "outputId": "a5d03600-8f6a-43eb-c126-284422104099"
      },
      "execution_count": 46,
      "outputs": [
        {
          "output_type": "execute_result",
          "data": {
            "text/plain": [
              "<folium.folium.Map at 0x7f245b4481d0>"
            ],
            "text/html": [
              "<div style=\"width:100%;\"><div style=\"position:relative;width:100%;height:0;padding-bottom:60%;\"><span style=\"color:#565656\">Make this Notebook Trusted to load map: File -> Trust Notebook</span><iframe src=\"about:blank\" style=\"position:absolute;width:100%;height:100%;left:0;top:0;border:none !important;\" data-html=%3C%21DOCTYPE%20html%3E%0A%3Chead%3E%20%20%20%20%0A%20%20%20%20%3Cmeta%20http-equiv%3D%22content-type%22%20content%3D%22text/html%3B%20charset%3DUTF-8%22%20/%3E%0A%20%20%20%20%3Cscript%3EL_PREFER_CANVAS%3Dfalse%3B%20L_NO_TOUCH%3Dfalse%3B%20L_DISABLE_3D%3Dfalse%3B%3C/script%3E%0A%20%20%20%20%3Cscript%20src%3D%22https%3A//cdn.jsdelivr.net/npm/leaflet%401.4.0/dist/leaflet.js%22%3E%3C/script%3E%0A%20%20%20%20%3Cscript%20src%3D%22https%3A//code.jquery.com/jquery-1.12.4.min.js%22%3E%3C/script%3E%0A%20%20%20%20%3Cscript%20src%3D%22https%3A//maxcdn.bootstrapcdn.com/bootstrap/3.2.0/js/bootstrap.min.js%22%3E%3C/script%3E%0A%20%20%20%20%3Cscript%20src%3D%22https%3A//cdnjs.cloudflare.com/ajax/libs/Leaflet.awesome-markers/2.0.2/leaflet.awesome-markers.js%22%3E%3C/script%3E%0A%20%20%20%20%3Clink%20rel%3D%22stylesheet%22%20href%3D%22https%3A//cdn.jsdelivr.net/npm/leaflet%401.4.0/dist/leaflet.css%22/%3E%0A%20%20%20%20%3Clink%20rel%3D%22stylesheet%22%20href%3D%22https%3A//maxcdn.bootstrapcdn.com/bootstrap/3.2.0/css/bootstrap.min.css%22/%3E%0A%20%20%20%20%3Clink%20rel%3D%22stylesheet%22%20href%3D%22https%3A//maxcdn.bootstrapcdn.com/bootstrap/3.2.0/css/bootstrap-theme.min.css%22/%3E%0A%20%20%20%20%3Clink%20rel%3D%22stylesheet%22%20href%3D%22https%3A//maxcdn.bootstrapcdn.com/font-awesome/4.6.3/css/font-awesome.min.css%22/%3E%0A%20%20%20%20%3Clink%20rel%3D%22stylesheet%22%20href%3D%22https%3A//cdnjs.cloudflare.com/ajax/libs/Leaflet.awesome-markers/2.0.2/leaflet.awesome-markers.css%22/%3E%0A%20%20%20%20%3Clink%20rel%3D%22stylesheet%22%20href%3D%22https%3A//rawcdn.githack.com/python-visualization/folium/master/folium/templates/leaflet.awesome.rotate.css%22/%3E%0A%20%20%20%20%3Cstyle%3Ehtml%2C%20body%20%7Bwidth%3A%20100%25%3Bheight%3A%20100%25%3Bmargin%3A%200%3Bpadding%3A%200%3B%7D%3C/style%3E%0A%20%20%20%20%3Cstyle%3E%23map%20%7Bposition%3Aabsolute%3Btop%3A0%3Bbottom%3A0%3Bright%3A0%3Bleft%3A0%3B%7D%3C/style%3E%0A%20%20%20%20%0A%20%20%20%20%3Cmeta%20name%3D%22viewport%22%20content%3D%22width%3Ddevice-width%2C%0A%20%20%20%20%20%20%20%20initial-scale%3D1.0%2C%20maximum-scale%3D1.0%2C%20user-scalable%3Dno%22%20/%3E%0A%20%20%20%20%3Cstyle%3E%23map_129e1e07563c4662a3aa571b688accfe%20%7B%0A%20%20%20%20%20%20%20%20position%3A%20relative%3B%0A%20%20%20%20%20%20%20%20width%3A%20100.0%25%3B%0A%20%20%20%20%20%20%20%20height%3A%20100.0%25%3B%0A%20%20%20%20%20%20%20%20left%3A%200.0%25%3B%0A%20%20%20%20%20%20%20%20top%3A%200.0%25%3B%0A%20%20%20%20%20%20%20%20%7D%0A%20%20%20%20%3C/style%3E%0A%20%20%20%20%3Cscript%20src%3D%22https%3A//leaflet.github.io/Leaflet.heat/dist/leaflet-heat.js%22%3E%3C/script%3E%0A%3C/head%3E%0A%3Cbody%3E%20%20%20%20%0A%20%20%20%20%0A%20%20%20%20%3Cdiv%20class%3D%22folium-map%22%20id%3D%22map_129e1e07563c4662a3aa571b688accfe%22%20%3E%3C/div%3E%0A%3C/body%3E%0A%3Cscript%3E%20%20%20%20%0A%20%20%20%20%0A%20%20%20%20%0A%20%20%20%20%20%20%20%20var%20bounds%20%3D%20null%3B%0A%20%20%20%20%0A%0A%20%20%20%20var%20map_129e1e07563c4662a3aa571b688accfe%20%3D%20L.map%28%0A%20%20%20%20%20%20%20%20%27map_129e1e07563c4662a3aa571b688accfe%27%2C%20%7B%0A%20%20%20%20%20%20%20%20center%3A%20%5B0%2C%200%5D%2C%0A%20%20%20%20%20%20%20%20zoom%3A%201%2C%0A%20%20%20%20%20%20%20%20maxBounds%3A%20bounds%2C%0A%20%20%20%20%20%20%20%20layers%3A%20%5B%5D%2C%0A%20%20%20%20%20%20%20%20worldCopyJump%3A%20false%2C%0A%20%20%20%20%20%20%20%20crs%3A%20L.CRS.EPSG3857%2C%0A%20%20%20%20%20%20%20%20zoomControl%3A%20true%2C%0A%20%20%20%20%20%20%20%20%7D%29%3B%0A%0A%0A%20%20%20%20%0A%20%20%20%20var%20tile_layer_8a6cc87ff86d49c69098bc8aaf2f121e%20%3D%20L.tileLayer%28%0A%20%20%20%20%20%20%20%20%27https%3A//%7Bs%7D.tile.openstreetmap.org/%7Bz%7D/%7Bx%7D/%7By%7D.png%27%2C%0A%20%20%20%20%20%20%20%20%7B%0A%20%20%20%20%20%20%20%20%22attribution%22%3A%20null%2C%0A%20%20%20%20%20%20%20%20%22detectRetina%22%3A%20false%2C%0A%20%20%20%20%20%20%20%20%22maxNativeZoom%22%3A%2018%2C%0A%20%20%20%20%20%20%20%20%22maxZoom%22%3A%2018%2C%0A%20%20%20%20%20%20%20%20%22minZoom%22%3A%200%2C%0A%20%20%20%20%20%20%20%20%22noWrap%22%3A%20false%2C%0A%20%20%20%20%20%20%20%20%22opacity%22%3A%201%2C%0A%20%20%20%20%20%20%20%20%22subdomains%22%3A%20%22abc%22%2C%0A%20%20%20%20%20%20%20%20%22tms%22%3A%20false%0A%7D%29.addTo%28map_129e1e07563c4662a3aa571b688accfe%29%3B%0A%20%20%20%20%0A%20%20%20%20%20%20%20%20%20%20%20%20var%20heat_map_4fef68961dcf4d5492a74dd8ea0b7a6f%20%3D%20L.heatLayer%28%0A%20%20%20%20%20%20%20%20%20%20%20%20%20%20%20%20%5B%5B38.084715%2C%20-103.352374%5D%2C%20%5B40.027749%2C%20-75.307856%5D%2C%20%5B32.726890000000004%2C%20-96.70388%5D%2C%20%5B43.115122%2C%20-75.212014%5D%2C%20%5B33.971792%2C%20-118.378109%5D%2C%20%5B34.320664%2C%20-118.495922%5D%2C%20%5B39.727624%2C%20-86.04643399999998%5D%2C%20%5B41.619498%2C%20-72.695918%5D%2C%20%5B33.176602%2C%20-84.26706999999998%5D%2C%20%5B40.546287%2C%20-77.679434%5D%2C%20%5B36.768659%2C%20-119.753656%5D%2C%20%5B32.349407%2C%20-95.315951%5D%2C%20%5B39.05263%2C%20-76.953123%5D%2C%20%5B45.601102%2C%20-118.642374%5D%2C%20%5B43.919079%2C%20-123.01205%5D%2C%20%5B37.316839%2C%20-121.948151%5D%2C%20%5B36.19185%2C%20-86.7802%5D%2C%20%5B45.508931%2C%20-122.779729%5D%2C%20%5B37.909691%2C%20-121.765177%5D%2C%20%5B33.96304600000001%2C%20-117.377396%5D%2C%20%5B38.820093%2C%20-76.916924%5D%2C%20%5B32.972831%2C%20-96.821621%5D%2C%20%5B45.4979%2C%20-122.57874%5D%2C%20%5B28.54728%2C%20-81.24783000000002%5D%2C%20%5B43.652363%2C%20-118.603881%5D%2C%20%5B25.812417%2C%20-80.224264%5D%2C%20%5B38.411708%2C%20-122.042603%5D%2C%20%5B38.558459%2C%20-121.380969%5D%2C%20%5B44.95136%2C%20-93.02522%5D%2C%20%5B30.612467%2C%20-86.957634%5D%2C%20%5B41.69301%2C%20-88.0061%5D%2C%20%5B34.235523%2C%20-118.467441%5D%2C%20%5B28.74285%2C%20-81.368239%5D%2C%20%5B38.21743%2C%20-122.60401%5D%2C%20%5B34.240631%2C%20-82.147987%5D%2C%20%5B37.37431%2C%20-77.40599%5D%2C%20%5B34.087898%2C%20-81.22425799999998%5D%2C%20%5B40.114184%2C%20-77.038881%5D%2C%20%5B33.96882%2C%20-117.32877%5D%2C%20%5B42.2557%2C%20-84.71581%5D%2C%20%5B42.79848%2C%20-73.73371%5D%2C%20%5B38.437488%2C%20-122.850457%5D%2C%20%5B44.428185%2C%20-121.728994%5D%2C%20%5B41.035641%2C%20-75.31156800000002%5D%2C%20%5B34.050718%2C%20-77.899771%5D%2C%20%5B40.710085%2C%20-73.839186%5D%2C%20%5B28.451382%2C%20-81.350302%5D%2C%20%5B27.194488%2C%20-82.43854%5D%2C%20%5B32.841254%2C%20-96.846159%5D%2C%20%5B41.479924%2C%20-74.293074%5D%2C%20%5B31.7723%2C%20-81.37968000000002%5D%2C%20%5B40.72552%2C%20-111.906464%5D%2C%20%5B35.4487%2C%20-119.096987%5D%2C%20%5B33.876957%2C%20-118.147722%5D%2C%20%5B39.62827%2C%20-106.0679%5D%2C%20%5B38.930461%2C%20-121.368681%5D%2C%20%5B44.000773%2C%20-91.469431%5D%2C%20%5B34.067312%2C%20-117.545899%5D%2C%20%5B29.988599%2C%20-90.06691%5D%2C%20%5B37.243681%2C%20-77.417571%5D%2C%20%5B33.661411%2C%20-114.58916%5D%2C%20%5B33.66591%2C%20-84.34476%5D%2C%20%5B45.202206%2C%20-112.65899%5D%2C%20%5B33.688391%2C%20-117.334385%5D%2C%20%5B42.30345%2C%20-71.08521999999998%5D%2C%20%5B29.95141%2C%20-95.33142%5D%2C%20%5B32.367771999999995%2C%20-95.333521%5D%2C%20%5B34.103161%2C%20-118.192237%5D%2C%20%5B39.23367800000001%2C%20-76.667428%5D%2C%20%5B31.718729%2C%20-106.30242%5D%2C%20%5B27.981555%2C%20-82.359094%5D%2C%20%5B46.23506%2C%20-123.87196000000002%5D%2C%20%5B34.06755%2C%20-117.55328%5D%2C%20%5B44.86394%2C%20-123.00782%5D%2C%20%5B36.797699%2C%20-119.74408400000002%5D%2C%20%5B40.169802%2C%20-74.109724%5D%2C%20%5B40.43478%2C%20-89.0292%5D%2C%20%5B40.515739%2C%20-111.891383%5D%2C%20%5B41.335147%2C%20-74.115668%5D%2C%20%5B40.89774%2C%20-73.79703%5D%2C%20%5B34.918734%2C%20-81.999143%5D%2C%20%5B38.640342%2C%20-121.481677%5D%2C%20%5B28.026940000000003%2C%20-82.16031%5D%2C%20%5B45.69491%2C%20-94.877989%5D%2C%20%5B35.7181%2C%20-78.58378%5D%2C%20%5B41.83242%2C%20-71.41703000000003%5D%2C%20%5B42.10078%2C%20-83.24174000000002%5D%2C%20%5B25.686807%2C%20-80.400828%5D%2C%20%5B34.066184%2C%20-117.329752%5D%2C%20%5B32.168846%2C%20-110.943484%5D%2C%20%5B35.63855%2C%20-97.56719%5D%2C%20%5B30.672126%2C%20-85.686745%5D%2C%20%5B25.747097%2C%20-80.303522%5D%2C%20%5B40.6126%2C%20-74.02887%5D%2C%20%5B42.19723%2C%20-71.07767%5D%2C%20%5B38.61009%2C%20-122.87568%5D%2C%20%5B25.732167%2C%20-80.380358%5D%2C%20%5B44.950915%2C%20-93.105%5D%2C%20%5B28.832641%2C%20-81.322549%5D%2C%20%5B37.891114%2C%20-122.14113799999998%5D%2C%20%5B33.88192100000001%2C%20-117.582493%5D%2C%20%5B35.34192%2C%20-118.941098%5D%2C%20%5B30.349005%2C%20-97.545581%5D%2C%20%5B30.610929%2C%20-88.143248%5D%2C%20%5B41.153251%2C%20-112.025345%5D%2C%20%5B28.535642%2C%20-81.377844%5D%2C%20%5B40.744808%2C%20-74.213571%5D%2C%20%5B40.85934%2C%20-74.37775%5D%2C%20%5B43.310372%2C%20-77.794324%5D%2C%20%5B30.389079%2C%20-91.07638%5D%2C%20%5B41.505114%2C%20-95.9026%5D%2C%20%5B33.888090000000005%2C%20-117.55196200000002%5D%2C%20%5B33.44235%2C%20-117.62766%5D%2C%20%5B30.519864%2C%20-87.143214%5D%2C%20%5B41.746837%2C%20-72.659576%5D%2C%20%5B28.79162800000001%2C%20-82.352998%5D%2C%20%5B45.44462%2C%20-122.36081%5D%2C%20%5B44.27931%2C%20-118.96801%5D%2C%20%5B38.816322%2C%20-77.220945%5D%2C%20%5B33.964801%2C%20-118.120596%5D%2C%20%5B38.006129%2C%20-120.266882%5D%2C%20%5B45.635683%2C%20-121.946129%5D%2C%20%5B34.13606%2C%20-117.33544%5D%2C%20%5B26.71135%2C%20-81.83686999999998%5D%2C%20%5B35.82415200000001%2C%20-78.378642%5D%2C%20%5B37.39987%2C%20-77.43167%5D%2C%20%5B43.04502%2C%20-77.75379000000002%5D%2C%20%5B25.628312%2C%20-80.35795%5D%2C%20%5B44.06237%2C%20-123.0804%5D%2C%20%5B40.7387%2C%20-73.23323%5D%2C%20%5B33.959326000000004%2C%20-117.31021%5D%2C%20%5B25.92378900000001%2C%20-80.122299%5D%2C%20%5B30.632661%2C%20-88.118065%5D%2C%20%5B25.718002%2C%20-80.431335%5D%2C%20%5B25.771634%2C%20-80.265664%5D%2C%20%5B40.625817%2C%20-111.902709%5D%2C%20%5B32.835029%2C%20-96.752926%5D%2C%20%5B34.04521%2C%20-118.17106499999998%5D%2C%20%5B31.18126%2C%20-82.1278%5D%2C%20%5B39.06052%2C%20-84.53326%5D%2C%20%5B38.48553%2C%20-121.80805%5D%2C%20%5B39.001024%2C%20-93.738924%5D%2C%20%5B44.943866%2C%20-93.077429%5D%2C%20%5B38.494967%2C%20-122.025461%5D%2C%20%5B35.060428%2C%20-107.524747%5D%2C%20%5B28.566715%2C%20-81.205678%5D%2C%20%5B40.80461%2C%20-73.26912%5D%2C%20%5B40.354338%2C%20-74.471672%5D%2C%20%5B33.14904%2C%20-80.605592%5D%2C%20%5B29.66625800000001%2C%20-95.318376%5D%2C%20%5B43.15437100000001%2C%20-83.764325%5D%2C%20%5B30.251255%2C%20-81.515566%5D%2C%20%5B39.748676%2C%20-84.144357%5D%2C%20%5B37.333542%2C%20-122.07273899999998%5D%2C%20%5B33.498856%2C%20-112.043564%5D%2C%20%5B36.109131%2C%20-80.236512%5D%2C%20%5B25.928453%2C%20-80.189477%5D%2C%20%5B40.779643%2C%20-77.880142%5D%2C%20%5B28.5795%2C%20-81.55733000000002%5D%2C%20%5B28.420401%2C%20-81.46004%5D%2C%20%5B34.134839%2C%20-117.347695%5D%2C%20%5B34.161375%2C%20-118.293174%5D%2C%20%5B32.683478%2C%20-97.407327%5D%2C%20%5B41.77055%2C%20-72.68156%5D%2C%20%5B39.09563%2C%20-94.57876%5D%2C%20%5B47.24318%2C%20-122.435389%5D%2C%20%5B34.315882%2C%20-117.495555%5D%2C%20%5B25.869378%2C%20-80.20384399999998%5D%2C%20%5B30.152%2C%20-89.857509%5D%2C%20%5B37.44746%2C%20-122.1217%5D%2C%20%5B34.229946000000005%2C%20-119.112298%5D%2C%20%5B39.54913%2C%20-119.7878%5D%2C%20%5B32.68564%2C%20-117.090822%5D%2C%20%5B44.32007%2C%20-121.17237%5D%2C%20%5B33.851299%2C%20-118.285067%5D%2C%20%5B28.609415%2C%20-81.287655%5D%2C%20%5B29.673406%2C%20-95.40316%5D%2C%20%5B37.240827%2C%20-93.305011%5D%2C%20%5B36.853948%2C%20-121.569353%5D%2C%20%5B40.856019%2C%20-73.972202%5D%2C%20%5B27.300588%2C%20-82.530535%5D%2C%20%5B42.42893%2C%20-87.93791%5D%2C%20%5B30.592322%2C%20-87.17616899999999%5D%2C%20%5B33.720381%2C%20-78.94658199999998%5D%2C%20%5B35.75936%2C%20-78.7313%5D%2C%20%5B25.939579%2C%20-80.279606%5D%2C%20%5B38.22254%2C%20-121.428118%5D%2C%20%5B42.374625%2C%20-83.216832%5D%2C%20%5B39.58881%2C%20-104.70777%5D%2C%20%5B43.827807%2C%20-116.954515%5D%2C%20%5B33.866015999999995%2C%20-117.542139%5D%2C%20%5B29.907423%2C%20-95.202104%5D%2C%20%5B36.152005%2C%20-95.960972%5D%2C%20%5B37.425173%2C%20-104.638305%5D%2C%20%5B43.15893%2C%20-77.59484%5D%2C%20%5B33.411121%2C%20-84.161215%5D%2C%20%5B39.622904%2C%20-75.744291%5D%2C%20%5B38.058079%2C%20-103.732521%5D%2C%20%5B32.86551%2C%20-96.54264%5D%2C%20%5B30.006944%2C%20-97.731364%5D%2C%20%5B38.495995%2C%20-121.457361%5D%2C%20%5B34.28922%2C%20-84.441057%5D%2C%20%5B34.223045%2C%20-119.146417%5D%2C%20%5B33.890236%2C%20-118.104433%5D%2C%20%5B35.268511%2C%20-80.845405%5D%2C%20%5B42.72944%2C%20-73.699179%5D%2C%20%5B36.145009%2C%20-86.857943%5D%2C%20%5B37.72324%2C%20-122.40118%5D%2C%20%5B40.53585%2C%20-111.89292%5D%2C%20%5B42.2791%2C%20-123.6161%5D%2C%20%5B38.413324%2C%20-120.658987%5D%2C%20%5B30.21138%2C%20-97.65552%5D%2C%20%5B40.528146%2C%20-121.036044%5D%2C%20%5B25.984683%2C%20-80.173183%5D%2C%20%5B33.66021%2C%20-117.78267%5D%2C%20%5B33.639853%2C%20-117.346115%5D%2C%20%5B41.244604%2C%20-112.009525%5D%2C%20%5B33.772986%2C%20-118.039491%5D%2C%20%5B47.589372%2C%20-122.235742%5D%2C%20%5B34.390164%2C%20-103.079861%5D%2C%20%5B29.7358%2C%20-95.628733%5D%2C%20%5B34.438793%2C%20-119.805545%5D%2C%20%5B32.724164%2C%20-96.826443%5D%2C%20%5B39.828411%2C%20-86.033796%5D%2C%20%5B43.198846%2C%20-75.445762%5D%2C%20%5B28.358076%2C%20-81.57265500000003%5D%2C%20%5B25.92659200000001%2C%20-80.29333299999998%5D%2C%20%5B43.633911%2C%20-116.42368700000002%5D%2C%20%5B26.071017%2C%20-80.166667%5D%2C%20%5B30.31724%2C%20-81.730632%5D%2C%20%5B33.981161%2C%20-118.45989%5D%2C%20%5B41.043417%2C%20-73.78794599999998%5D%2C%20%5B34.154284999999994%2C%20-118.095468%5D%2C%20%5B34.248625%2C%20-86.566006%5D%2C%20%5B41.160426%2C%20-76.90737%5D%2C%20%5B34.31153%2C%20-86.90352%5D%2C%20%5B35.03362%2C%20-80.80526%5D%2C%20%5B33.91179%2C%20-117.44708%5D%2C%20%5B38.361546%2C%20-81.729997%5D%2C%20%5B34.002653%2C%20-117.379764%5D%2C%20%5B30.310431%2C%20-89.775091%5D%2C%20%5B38.452543%2C%20-121.374547%5D%2C%20%5B38.758263%2C%20-121.26137%5D%2C%20%5B29.690709%2C%20-95.357515%5D%2C%20%5B29.770472%2C%20-95.408352%5D%2C%20%5B35.032482%2C%20-85.24189%5D%2C%20%5B27.049188%2C%20-82.39747%5D%2C%20%5B33.802527000000005%2C%20-117.232553%5D%2C%20%5B33.227090000000004%2C%20-87.42962%5D%2C%20%5B34.118224%2C%20-117.517479%5D%2C%20%5B29.953967%2C%20-90.085197%5D%2C%20%5B40.04316%2C%20-86.079571%5D%2C%20%5B44.855136%2C%20-92.993741%5D%2C%20%5B36.06129%2C%20-80.22333%5D%2C%20%5B40.66972%2C%20-122.868129%5D%2C%20%5B25.854319%2C%20-80.38761099999998%5D%2C%20%5B26.463797%2C%20-80.088523%5D%2C%20%5B33.440741%2C%20-84.699472%5D%2C%20%5B30.402532%2C%20-91.170947%5D%2C%20%5B29.688842%2C%20-82.439114%5D%2C%20%5B29.340823%2C%20-81.130868%5D%2C%20%5B33.527436%2C%20-80.836095%5D%2C%20%5B43.027476%2C%20-88.01323000000002%5D%2C%20%5B33.974119%2C%20-118.224181%5D%2C%20%5B34.979544%2C%20-81.051962%5D%2C%20%5B34.071987%2C%20-117.884375%5D%2C%20%5B45.766116%2C%20-109.790733%5D%2C%20%5B37.77056%2C%20-122.40589%5D%2C%20%5B34.025167%2C%20-117.917508%5D%2C%20%5B38.612224%2C%20-121.401475%5D%2C%20%5B27.430526%2C%20-82.428217%5D%2C%20%5B37.787636%2C%20-87.110939%5D%2C%20%5B39.864932%2C%20-86.27277%5D%2C%20%5B30.522604%2C%20-91.132179%5D%2C%20%5B36.26946%2C%20-86.73678000000002%5D%2C%20%5B28.452192%2C%20-81.400388%5D%2C%20%5B37.991548%2C%20-112.731689%5D%2C%20%5B41.76169%2C%20-87.62589%5D%2C%20%5B38.360982%2C%20-81.635573%5D%2C%20%5B45.589109%2C%20-122.756305%5D%2C%20%5B41.99504%2C%20-87.86606%5D%2C%20%5B25.79115%2C%20-80.20427%5D%2C%20%5B37.996436%2C%20-122.117011%5D%2C%20%5B45.832788%2C%20-95.167729%5D%2C%20%5B45.38563%2C%20-122.57885%5D%2C%20%5B26.082074%2C%20-80.16734100000002%5D%2C%20%5B40.7593%2C%20-73.838734%5D%2C%20%5B40.129827%2C%20-76.493672%5D%2C%20%5B40.12384%2C%20-74.71743000000002%5D%2C%20%5B40.845262%2C%20-73.927777%5D%2C%20%5B41.003695%2C%20-73.65002199999998%5D%2C%20%5B25.7815%2C%20-80.316643%5D%2C%20%5B40.520552%2C%20-111.89098%5D%2C%20%5B33.925239000000005%2C%20-117.880042%5D%2C%20%5B26.441953%2C%20-81.810356%5D%2C%20%5B41.202914%2C%20-77.275274%5D%2C%20%5B34.30733%2C%20-79.619346%5D%2C%20%5B33.38589%2C%20-111.88035%5D%2C%20%5B39.089118%2C%20-76.994514%5D%2C%20%5B34.135734%2C%20-117.585017%5D%2C%20%5B34.708824%2C%20-120.466774%5D%2C%20%5B41.53878%2C%20-72.957898%5D%2C%20%5B42.28738%2C%20-83.19473%5D%2C%20%5B44.29148%2C%20-121.45321%5D%2C%20%5B40.719764%2C%20-111.853738%5D%2C%20%5B39.891434%2C%20-75.10599300000001%5D%2C%20%5B32.29112%2C%20-90.26186%5D%2C%20%5B39.322914%2C%20-121.65998799999998%5D%2C%20%5B40.945519%2C%20-73.848713%5D%2C%20%5B35.659085%2C%20-120.602592%5D%2C%20%5B39.910468%2C%20-86.041659%5D%2C%20%5B35.21392%2C%20-80.81989%5D%2C%20%5B25.890664%2C%20-80.176586%5D%2C%20%5B29.03003%2C%20-82.158776%5D%2C%20%5B37.98992%2C%20-122.52869%5D%2C%20%5B40.80117%2C%20-73.27943%5D%2C%20%5B33.79676%2C%20-118.081233%5D%2C%20%5B38.18541%2C%20-120.86652%5D%2C%20%5B35.17216%2C%20-80.82313%5D%2C%20%5B40.522221%2C%20-111.938691%5D%2C%20%5B39.20493%2C%20-84.47086999999998%5D%2C%20%5B40.058712%2C%20-75.406386%5D%2C%20%5B36.728981%2C%20-119.79707%5D%2C%20%5B34.068844%2C%20-117.346438%5D%2C%20%5B41.727037%2C%20-72.773437%5D%2C%20%5B33.8005%2C%20-117.878354%5D%2C%20%5B38.917537%2C%20-77.00711899999997%5D%2C%20%5B25.68569%2C%20-80.365965%5D%2C%20%5B41.202238%2C%20-73.114646%5D%2C%20%5B34.134655%2C%20-117.341336%5D%2C%20%5B40.528764%2C%20-74.27709899999998%5D%2C%20%5B38.555357%2C%20-121.409413%5D%2C%20%5B33.426944%2C%20-112.031611%5D%2C%20%5B38.22657%2C%20-85.75153%5D%2C%20%5B37.524922%2C%20-120.887058%5D%2C%20%5B28.411282%2C%20-81.477127%5D%2C%20%5B42.927402%2C%20-85.655509%5D%2C%20%5B42.262233%2C%20-122.793757%5D%2C%20%5B28.537676%2C%20-81.47589%5D%2C%20%5B37.66758%2C%20-121.034091%5D%2C%20%5B47.80514%2C%20-122.15935%5D%2C%20%5B26.330523%2C%20-81.80765799999998%5D%2C%20%5B39.095932%2C%20-94.55483%5D%2C%20%5B43.91467700000001%2C%20-91.513389%5D%2C%20%5B34.266153%2C%20-118.445867%5D%2C%20%5B35.049170000000004%2C%20-89.83%5D%2C%20%5B29.925256%2C%20-95.401633%5D%2C%20%5B46.047273%2C%20-92.917824%5D%2C%20%5B36.95053%2C%20-81.05405999999998%5D%2C%20%5B25.858994%2C%20-80.183319%5D%2C%20%5B30.462097%2C%20-97.816207%5D%2C%20%5B36.837881%2C%20-76.096863%5D%2C%20%5B37.33946%2C%20-121.85204%5D%2C%20%5B39.09709%2C%20-77.17772099999998%5D%2C%20%5B44.939779%2C%20-122.99042%5D%2C%20%5B33.95669%2C%20-117.30653%5D%2C%20%5B27.445896%2C%20-82.475491%5D%2C%20%5B37.168172%2C%20-121.980216%5D%2C%20%5B39.774618%2C%20-84.253658%5D%2C%20%5B34.521964000000004%2C%20-118.097417%5D%2C%20%5B40.403523%2C%20-76.493147%5D%2C%20%5B28.048794%2C%20-82.740527%5D%2C%20%5B33.520703999999995%2C%20-86.81551400000002%5D%2C%20%5B33.988961%2C%20-118.339859%5D%2C%20%5B39.53688%2C%20-123.415063%5D%2C%20%5B36.811679%2C%20-77.457095%5D%2C%20%5B38.598689%2C%20-90.215539%5D%2C%20%5B44.898691%2C%20-93.445727%5D%2C%20%5B34.099358%2C%20-117.819215%5D%2C%20%5B39.008159%2C%20-121.422522%5D%2C%20%5B33.85974%2C%20-118.29428%5D%2C%20%5B43.100602%2C%20-75.222413%5D%2C%20%5B34.419788%2C%20-119.684314%5D%2C%20%5B29.27074600000001%2C%20-82.194641%5D%2C%20%5B29.837616%2C%20-95.253998%5D%2C%20%5B44.330488%2C%20-123.060897%5D%2C%20%5B45.55495%2C%20-122.73328%5D%2C%20%5B38.723443%2C%20-121.397894%5D%2C%20%5B36.175729%2C%20-79.881361%5D%2C%20%5B40.649317%2C%20-74.199911%5D%2C%20%5B38.059548%2C%20-78.94274300000002%5D%2C%20%5B42.796218%2C%20-73.92857099999998%5D%2C%20%5B28.560558%2C%20-81.268304%5D%2C%20%5B30.423051%2C%20-91.139503%5D%2C%20%5B47.87257%2C%20-122.00811000000002%5D%2C%20%5B42.269436%2C%20-85.50954200000002%5D%2C%20%5B39.20086%2C%20-77.266277%5D%2C%20%5B30.48788900000001%2C%20-91.157234%5D%2C%20%5B41.117215%2C%20-112.016739%5D%2C%20%5B25.935567%2C%20-80.29374200000002%5D%2C%20%5B37.63419%2C%20-122.10531%5D%2C%20%5B43.1325%2C%20-124.353771%5D%2C%20%5B41.246091%2C%20-73.095896%5D%2C%20%5B30.37437700000001%2C%20-97.726037%5D%2C%20%5B44.473522%2C%20-121.194282%5D%2C%20%5B33.967395%2C%20-118.236923%5D%2C%20%5B37.47013%2C%20-77.48281999999998%5D%2C%20%5B40.117574%2C%20-111.65474%5D%2C%20%5B40.832451%2C%20-73.87383%5D%2C%20%5B44.71952%2C%20-103.42558%5D%2C%20%5B37.71533%2C%20-122.17277%5D%2C%20%5B37.788203%2C%20-122.198985%5D%2C%20%5B40.802932%2C%20-73.93046700000002%5D%2C%20%5B40.80236%2C%20-73.93027%5D%2C%20%5B44.02504%2C%20-123.02833%5D%2C%20%5B26.331932%2C%20-80.117039%5D%2C%20%5B37.77144600000001%2C%20-121.972505%5D%2C%20%5B25.628832%2C%20-80.34463000000002%5D%2C%20%5B27.382095%2C%20-82.498772%5D%2C%20%5B39.0923%2C%20-94.54332%5D%2C%20%5B25.634431%2C%20-80.382676%5D%2C%20%5B26.15561%2C%20-81.66736999999998%5D%2C%20%5B39.74003%2C%20-104.9988%5D%2C%20%5B40.85017%2C%20-73.944738%5D%2C%20%5B45.45767%2C%20-92.99253%5D%2C%20%5B39.04307%2C%20-76.66882%5D%2C%20%5B34.032597%2C%20-118.327551%5D%2C%20%5B31.507941%2C%20-86.92098399999998%5D%2C%20%5B40.079142%2C%20-75.408243%5D%2C%20%5B41.529875%2C%20-114.776304%5D%2C%20%5B37.316704%2C%20-121.975225%5D%2C%20%5B35.967926%2C%20-78.86670699999998%5D%2C%20%5B37.90235%2C%20-122.515829%5D%2C%20%5B28.479033%2C%20-81.396778%5D%2C%20%5B32.731116%2C%20-96.665623%5D%2C%20%5B33.349934999999995%2C%20-112.169159%5D%2C%20%5B34.067816%2C%20-117.516838%5D%2C%20%5B41.033815%2C%20-76.42027399999998%5D%2C%20%5B34.14849%2C%20-118.37269%5D%2C%20%5B33.871972%2C%20-117.800178%5D%2C%20%5B41.797238%2C%20-87.63083%5D%2C%20%5B41.399557%2C%20-122.420416%5D%2C%20%5B39.982638%2C%20-77.250047%5D%2C%20%5B34.86123%2C%20-82.25353%5D%2C%20%5B38.702355%2C%20-112.601655%5D%2C%20%5B27.269328%2C%20-82.44879%5D%2C%20%5B33.831538%2C%20-84.359933%5D%2C%20%5B29.689572%2C%20-95.561189%5D%2C%20%5B28.45045%2C%20-81.42781%5D%2C%20%5B40.734873%2C%20-73.936612%5D%2C%20%5B44.457538%2C%20-95.480183%5D%2C%20%5B33.658666%2C%20-78.927334%5D%2C%20%5B40.851585%2C%20-74.177386%5D%2C%20%5B38.994845%2C%20-78.255583%5D%2C%20%5B45.608721%2C%20-117.615433%5D%2C%20%5B26.547751%2C%20-81.777589%5D%2C%20%5B46.258524%2C%20-123.406945%5D%2C%20%5B40.779564%2C%20-73.66172900000002%5D%2C%20%5B30.030913%2C%20-89.928095%5D%2C%20%5B43.079171%2C%20-78.99095200000002%5D%2C%20%5B35.569858%2C%20-81.205867%5D%2C%20%5B44.86174000000001%2C%20-93.2748%5D%2C%20%5B38.62231%2C%20-121.045867%5D%2C%20%5B35.22313%2C%20-80.72497%5D%2C%20%5B46.753503%2C%20-92.137112%5D%2C%20%5B32.88432%2C%20-96.69737%5D%2C%20%5B35.687981%2C%20-78.571096%5D%2C%20%5B38.510022%2C%20-121.459624%5D%2C%20%5B41.302059%2C%20-75.769068%5D%2C%20%5B38.97501%2C%20-77.01169%5D%2C%20%5B34.058777%2C%20-117.297851%5D%2C%20%5B26.177667%2C%20-80.154607%5D%2C%20%5B25.597555%2C%20-80.38246%5D%2C%20%5B37.845854%2C%20-122.247879%5D%2C%20%5B37.570825%2C%20-76.60690100000002%5D%2C%20%5B39.53177%2C%20-104.86793%5D%2C%20%5B42.98561%2C%20-76.771872%5D%2C%20%5B39.776431%2C%20-104.875114%5D%2C%20%5B41.166067%2C%20-74.028665%5D%2C%20%5B36.15881%2C%20-86.82234%5D%2C%20%5B39.014383%2C%20-77.059299%5D%2C%20%5B25.690289%2C%20-80.31766%5D%2C%20%5B41.71324%2C%20-87.61008000000002%5D%2C%20%5B42.95067%2C%20-78.70772%5D%2C%20%5B42.492209%2C%20-73.682406%5D%2C%20%5B45.53272%2C%20-122.56481%5D%2C%20%5B27.468443%2C%20-82.57539399999997%5D%2C%20%5B32.832426%2C%20-96.614085%5D%2C%20%5B38.474352%2C%20-121.413827%5D%2C%20%5B44.880658%2C%20-122.641522%5D%2C%20%5B37.530948%2C%20-122.004541%5D%2C%20%5B25.760878%2C%20-80.39066%5D%2C%20%5B40.258204%2C%20-76.83958%5D%2C%20%5B33.964363%2C%20-118.169236%5D%2C%20%5B25.770822%2C%20-80.33653100000002%5D%2C%20%5B41.73202%2C%20-83.48874%5D%2C%20%5B33.774472%2C%20-118.068877%5D%2C%20%5B44.36408%2C%20-95.75557%5D%2C%20%5B38.86929600000001%2C%20-77.176627%5D%2C%20%5B42.639647%2C%20-85.28344200000002%5D%2C%20%5B30.277843%2C%20-97.73028%5D%2C%20%5B44.888441%2C%20-91.734992%5D%2C%20%5B42.520687%2C%20-83.634283%5D%2C%20%5B33.989671%2C%20-117.889067%5D%2C%20%5B42.289656%2C%20-88.05698199999998%5D%2C%20%5B47.54343%2C%20-122.30526%5D%2C%20%5B37.8974%2C%20-122.31172%5D%2C%20%5B28.135858%2C%20-80.658445%5D%2C%20%5B39.37491%2C%20-76.507902%5D%2C%20%5B41.306505%2C%20-73.033594%5D%2C%20%5B33.872875%2C%20-118.290904%5D%2C%20%5B33.905002%2C%20-118.106154%5D%2C%20%5B28.240713%2C%20-82.318135%5D%2C%20%5B34.071013%2C%20-117.762697%5D%2C%20%5B45.8384%2C%20-119.694939%5D%2C%20%5B29.949737%2C%20-90.088722%5D%2C%20%5B35.872224%2C%20-78.659951%5D%2C%20%5B35.30067000000001%2C%20-80.80678%5D%2C%20%5B38.524939%2C%20-121.452301%5D%2C%20%5B45.08015%2C%20-93.44654%5D%2C%20%5B35.41459000000001%2C%20-80.206%5D%2C%20%5B40.890379%2C%20-73.865262%5D%2C%20%5B33.582791%2C%20-117.76141%5D%2C%20%5B30.5019%2C%20-84.24271999999998%5D%2C%20%5B38.083618%2C%20-121.71053700000002%5D%2C%20%5B47.19219%2C%20-111.802572%5D%2C%20%5B35.35262%2C%20-119.00797%5D%2C%20%5B29.673675%2C%20-95.156246%5D%2C%20%5B39.874352%2C%20-75.10212%5D%2C%20%5B38.643068%2C%20-121.121166%5D%2C%20%5B40.925336%2C%20-74.961692%5D%2C%20%5B34.826304%2C%20-82.85869100000002%5D%2C%20%5B35.606828%2C%20-83.00895%5D%2C%20%5B48.107335%2C%20-104.986281%5D%2C%20%5B37.688325%2C%20-121.928299%5D%2C%20%5B40.78993300000001%2C%20-77.80042399999998%5D%2C%20%5B38.67218%2C%20-77.39591999999998%5D%2C%20%5B33.47099%2C%20-112.125765%5D%2C%20%5B45.57162%2C%20-122.55069%5D%2C%20%5B33.881439%2C%20-117.649561%5D%2C%20%5B33.427574%2C%20-86.820841%5D%2C%20%5B30.248524%2C%20-97.750068%5D%2C%20%5B35.78935%2C%20-78.66301999999997%5D%2C%20%5B27.71006%2C%20-82.73711%5D%2C%20%5B30.023357%2C%20-90.01375300000002%5D%2C%20%5B28.054375%2C%20-82.416203%5D%2C%20%5B33.881213%2C%20-117.578309%5D%2C%20%5B34.218088%2C%20-118.473333%5D%2C%20%5B40.76011%2C%20-73.96229%5D%2C%20%5B41.39398%2C%20-73.07604%5D%2C%20%5B36.874746%2C%20-76.197475%5D%2C%20%5B38.573787%2C%20-77.315841%5D%2C%20%5B46.358586%2C%20-94.823178%5D%2C%20%5B34.293377%2C%20-118.413647%5D%2C%20%5B28.058009%2C%20-82.311492%5D%2C%20%5B25.945125%2C%20-80.330329%5D%2C%20%5B35.860439%2C%20-78.848056%5D%2C%20%5B37.821924%2C%20-122.259336%5D%2C%20%5B33.945375%2C%20-118.365693%5D%2C%20%5B38.688396%2C%20-121.401362%5D%2C%20%5B45.789917%2C%20-108.515259%5D%2C%20%5B33.851143%2C%20-117.842249%5D%2C%20%5B35.071641%2C%20-90.016692%5D%2C%20%5B37.98992%2C%20-122.52869%5D%2C%20%5B43.097079%2C%20-115.621222%5D%2C%20%5B33.512935%2C%20-112.044203%5D%2C%20%5B34.141694%2C%20-81.228775%5D%2C%20%5B29.211391%2C%20-82.18439599999998%5D%2C%20%5B29.948295%2C%20-90.121149%5D%2C%20%5B25.700184%2C%20-80.40880200000002%5D%2C%20%5B40.69978%2C%20-111.893607%5D%2C%20%5B32.90883%2C%20-96.89322%5D%2C%20%5B27.597237%2C%20-80.819023%5D%2C%20%5B32.37852%2C%20-111.11009%5D%2C%20%5B33.858146999999995%2C%20-117.257952%5D%2C%20%5B42.876044%2C%20-78.793205%5D%2C%20%5B35.26623%2C%20-80.73151%5D%2C%20%5B36.402489%2C%20-82.612018%5D%2C%20%5B45.627441%2C%20-111.221205%5D%2C%20%5B41.183683%2C%20-73.1404%5D%2C%20%5B42.175205%2C%20-119.921969%5D%2C%20%5B26.556868%2C%20-81.888701%5D%2C%20%5B34.004353%2C%20-118.063689%5D%2C%20%5B33.284129%2C%20-111.763929%5D%2C%20%5B42.43622%2C%20-83.09506999999998%5D%2C%20%5B33.743590000000005%2C%20-84.35876%5D%2C%20%5B42.1923%2C%20-86.1663%5D%2C%20%5B45.490682%2C%20-123.645068%5D%2C%20%5B30.347424%2C%20-81.550489%5D%2C%20%5B34.626216%2C%20-83.111535%5D%2C%20%5B34.030054%2C%20-117.703045%5D%2C%20%5B34.012252000000004%2C%20-117.344755%5D%2C%20%5B34.034718%2C%20-118.338308%5D%2C%20%5B33.90858%2C%20-117.452988%5D%2C%20%5B38.69287%2C%20-121.351608%5D%2C%20%5B45.37076%2C%20-118.2957%5D%2C%20%5B25.71606400000001%2C%20-80.41524%5D%2C%20%5B36.056174%2C%20-79.12599200000002%5D%2C%20%5B38.567855%2C%20-121.613515%5D%2C%20%5B33.764445%2C%20-117.261867%5D%2C%20%5B36.17215%2C%20-86.7686%5D%2C%20%5B36.170434%2C%20-86.862626%5D%2C%20%5B37.933089%2C%20-122.060332%5D%2C%20%5B45.525728%2C%20-122.686873%5D%2C%20%5B34.257216%2C%20-85.118557%5D%2C%20%5B34.120942%2C%20-117.523571%5D%2C%20%5B35.201081%2C%20-80.762173%5D%2C%20%5B35.213206%2C%20-80.781194%5D%2C%20%5B43.809174%2C%20-117.662791%5D%2C%20%5B37.33427%2C%20-122.032412%5D%2C%20%5B40.613219%2C%20-74.02930500000002%5D%2C%20%5B36.140326%2C%20-86.823052%5D%2C%20%5B42.879327%2C%20-85.06732099999998%5D%2C%20%5B45.500122%2C%20-122.578698%5D%2C%20%5B36.077115%2C%20-87.010019%5D%2C%20%5B41.508461%2C%20-76.50077399999998%5D%2C%20%5B44.751926%2C%20-123.051006%5D%2C%20%5B29.94202%2C%20-90.06669000000002%5D%2C%20%5B34.077713%2C%20-117.997912%5D%2C%20%5B40.52187%2C%20-111.41078%5D%2C%20%5B43.0866%2C%20-71.46998%5D%2C%20%5B38.615492%2C%20-121.534795%5D%2C%20%5B38.59944%2C%20-121.44128%5D%2C%20%5B35.048320000000004%2C%20-81.984786%5D%2C%20%5B39.651213%2C%20-77.875524%5D%2C%20%5B39.29657%2C%20-76.81170999999998%5D%2C%20%5B39.1275%2C%20-94.56784%5D%2C%20%5B29.784703000000004%2C%20-95.197679%5D%2C%20%5B45.261481%2C%20-122.784635%5D%2C%20%5B46.08872%2C%20-123.71425%5D%2C%20%5B32.7331%2C%20-97.38778%5D%2C%20%5B34.16469%2C%20-118.47338%5D%2C%20%5B28.442829%2C%20-81.47024300000002%5D%2C%20%5B32.134396%2C%20-110.887446%5D%2C%20%5B40.54163%2C%20-120.622474%5D%2C%20%5B25.939197%2C%20-80.295275%5D%2C%20%5B34.274956%2C%20-118.536291%5D%2C%20%5B43.089883%2C%20-83.76317%5D%2C%20%5B43.000963%2C%20-85.675967%5D%2C%20%5B32.790445%2C%20-96.760433%5D%2C%20%5B40.742872%2C%20-73.830517%5D%2C%20%5B28.419992%2C%20-81.404624%5D%2C%20%5B26.520759%2C%20-81.572897%5D%2C%20%5B39.97596%2C%20-82.99641%5D%2C%20%5B44.892418%2C%20-94.226034%5D%2C%20%5B34.015828000000006%2C%20-118.054994%5D%2C%20%5B42.76496%2C%20-73.93881999999998%5D%2C%20%5B42.823991%2C%20-118.942915%5D%2C%20%5B35.003766%2C%20-120.570473%5D%2C%20%5B35.377492%2C%20-118.967409%5D%2C%20%5B48.155683%2C%20-122.286662%5D%2C%20%5B37.742325%2C%20-121.530139%5D%2C%20%5B41.775911%2C%20-73.701842%5D%2C%20%5B40.08551%2C%20-82.79519%5D%2C%20%5B36.149257%2C%20-86.77470799999998%5D%2C%20%5B39.425587%2C%20-104.876968%5D%2C%20%5B37.390098%2C%20-121.991977%5D%2C%20%5B39.00802%2C%20-77.39683000000002%5D%2C%20%5B39.295133%2C%20-84.48498000000002%5D%2C%20%5B42.27318%2C%20-84.39629000000002%5D%2C%20%5B25.563295%2C%20-80.372241%5D%2C%20%5B37.36093%2C%20-121.876236%5D%2C%20%5B44.948584%2C%20-92.964473%5D%2C%20%5B37.691712%2C%20-122.10937%5D%2C%20%5B34.50562%2C%20-118.11456%5D%2C%20%5B28.486583000000003%2C%20-81.439448%5D%2C%20%5B44.71663%2C%20-117.75498%5D%2C%20%5B32.964152%2C%20-96.917037%5D%2C%20%5B42.458602%2C%20-120.282138%5D%2C%20%5B40.57470900000001%2C%20-74.568626%5D%2C%20%5B34.01973%2C%20-117.98807%5D%2C%20%5B37.944878%2C%20-77.35650600000002%5D%2C%20%5B37.119938%2C%20-121.976039%5D%2C%20%5B44.06371%2C%20-123.04941%5D%2C%20%5B33.4154%2C%20-111.636959%5D%2C%20%5B34.71356%2C%20-92.26476%5D%2C%20%5B28.49831%2C%20-81.42926%5D%2C%20%5B33.78597%2C%20-79.004199%5D%2C%20%5B33.484472%2C%20-112.113021%5D%2C%20%5B30.417231%2C%20-91.097664%5D%2C%20%5B42.872916%2C%20-82.542311%5D%2C%20%5B40.80125%2C%20-73.27971%5D%2C%20%5B39.295917%2C%20-78.080874%5D%2C%20%5B33.165214%2C%20-87.54894%5D%2C%20%5B33.91581%2C%20-84.40314000000002%5D%2C%20%5B29.70751%2C%20-95.10257%5D%2C%20%5B42.33514%2C%20-88.11203%5D%2C%20%5B34.067798%2C%20-117.836426%5D%2C%20%5B39.362269%2C%20-76.74665999999998%5D%2C%20%5B35.734783%2C%20-78.574798%5D%2C%20%5B40.32926%2C%20-76.51552%5D%2C%20%5B41.81119%2C%20-87.63034%5D%2C%20%5B33.056495%2C%20-80.211043%5D%2C%20%5B40.842242%2C%20-73.928037%5D%2C%20%5B35.43526%2C%20-97.50899%5D%2C%20%5B47.63008%2C%20-122.164182%5D%2C%20%5B45.710281%2C%20-121.507555%5D%2C%20%5B28.44992%2C%20-81.479424%5D%2C%20%5B39.363852%2C%20-96.75653%5D%2C%20%5B28.48416%2C%20-81.39668%5D%2C%20%5B43.785921%2C%20-72.451462%5D%2C%20%5B28.03505800000001%2C%20-80.624475%5D%2C%20%5B34.07547%2C%20-117.29543%5D%2C%20%5B45.561649%2C%20-122.561831%5D%2C%20%5B33.476468%2C%20-112.112249%5D%2C%20%5B27.611111%2C%20-82.539528%5D%2C%20%5B41.604492%2C%20-93.496551%5D%2C%20%5B34.251544%2C%20-119.21176%5D%2C%20%5B39.80605%2C%20-84.18893%5D%2C%20%5B28.878432%2C%20-82.092536%5D%2C%20%5B32.780359000000004%2C%20-117.083755%5D%2C%20%5B40.57876%2C%20-111.90033%5D%2C%20%5B40.802074%2C%20-74.186071%5D%2C%20%5B34.338266%2C%20-118.515581%5D%2C%20%5B35.133496%2C%20-119.469183%5D%2C%20%5B35.1308%2C%20-80.92313%5D%2C%20%5B34.478981%2C%20-82.63262900000002%5D%2C%20%5B47.327848%2C%20-114.482148%5D%2C%20%5B39.375911%2C%20-76.452924%5D%2C%20%5B38.399888%2C%20-78.908947%5D%2C%20%5B25.807884%2C%20-80.240113%5D%2C%20%5B37.584372%2C%20-121.873251%5D%2C%20%5B38.91222%2C%20-76.93417%5D%2C%20%5B30.170824%2C%20-97.784049%5D%2C%20%5B38.45409%2C%20-105.841566%5D%2C%20%5B33.935542%2C%20-118.093412%5D%2C%20%5B30.006904%2C%20-90.274482%5D%2C%20%5B42.47603%2C%20-83.11779%5D%2C%20%5B38.52405%2C%20-121.956142%5D%2C%20%5B37.361925%2C%20-120.649827%5D%2C%20%5B42.38589%2C%20-122.22923%5D%2C%20%5B33.391167%2C%20-117.233747%5D%2C%20%5B34.706277%2C%20-83.408213%5D%2C%20%5B29.971986%2C%20-90.066581%5D%2C%20%5B25.824847%2C%20-80.240912%5D%2C%20%5B44.08%2C%20-92.75985%5D%2C%20%5B35.183114%2C%20-80.875736%5D%2C%20%5B38.847713%2C%20-104.8174%5D%2C%20%5B35.149683%2C%20-85.27204300000002%5D%2C%20%5B40.205295%2C%20-74.775901%5D%2C%20%5B32.63263%2C%20-96.8231%5D%2C%20%5B29.659828000000005%2C%20-82.44660400000002%5D%2C%20%5B33.85649%2C%20-117.98173%5D%2C%20%5B25.810836%2C%20-80.255562%5D%2C%20%5B34.55493%2C%20-118.132007%5D%2C%20%5B40.650755%2C%20-74.749613%5D%2C%20%5B47.58994600000001%2C%20-122.267009%5D%2C%20%5B39.870725%2C%20-104.865134%5D%2C%20%5B34.06618%2C%20-117.471221%5D%2C%20%5B33.895751000000004%2C%20-118.050638%5D%2C%20%5B38.55788%2C%20-121.448376%5D%2C%20%5B40.98698%2C%20-111.90148%5D%2C%20%5B35.798561%2C%20-78.564184%5D%2C%20%5B36.842247%2C%20-76.230262%5D%2C%20%5B40.58302%2C%20-73.97384%5D%2C%20%5B38.443134%2C%20-122.721931%5D%2C%20%5B32.763816%2C%20-117.16066%5D%2C%20%5B37.656336%2C%20-122.101569%5D%2C%20%5B30.32214%2C%20-85.65964%5D%2C%20%5B42.449037%2C%20-88.110704%5D%2C%20%5B25.963407%2C%20-80.164264%5D%2C%20%5B32.702384%2C%20-96.933994%5D%2C%20%5B33.425611%2C%20-79.988766%5D%2C%20%5B34.020221%2C%20-118.18824%5D%2C%20%5B39.732345%2C%20-75.311225%5D%2C%20%5B29.64300900000001%2C%20-95.336845%5D%2C%20%5B46.565177%2C%20-112.88756%5D%2C%20%5B33.20232%2C%20-79.98995%5D%2C%20%5B33.729981%2C%20-117.076407%5D%2C%20%5B29.5159%2C%20-98.40532%5D%2C%20%5B34.033939000000004%2C%20-118.355679%5D%2C%20%5B41.0961%2C%20-81.58593%5D%2C%20%5B38.41666%2C%20-121.89832%5D%2C%20%5B32.480753%2C%20-90.130646%5D%2C%20%5B37.820388%2C%20-122.296501%5D%2C%20%5B41.008583%2C%20-76.243325%5D%2C%20%5B26.5453%2C%20-81.852391%5D%2C%20%5B43.969463%2C%20-94.615019%5D%2C%20%5B35.26188900000001%2C%20-80.84118000000002%5D%2C%20%5B36.23353400000001%2C%20-115.109765%5D%2C%20%5B39.420881%2C%20-76.644382%5D%2C%20%5B27.964593%2C%20-82.412577%5D%2C%20%5B37.461222%2C%20-77.641087%5D%2C%20%5B45.872061%2C%20-111.936934%5D%2C%20%5B42.975655%2C%20-83.59377099999998%5D%2C%20%5B40.097719%2C%20-122.10248%5D%2C%20%5B40.304078%2C%20-76.830353%5D%2C%20%5B34.316633%2C%20-79.884431%5D%2C%20%5B36.792858%2C%20-81.68275899999998%5D%2C%20%5B28.566156%2C%20-81.401546%5D%2C%20%5B40.735367%2C%20-73.586613%5D%2C%20%5B25.929743%2C%20-80.129766%5D%2C%20%5B40.708508%2C%20-111.90397%5D%2C%20%5B35.417798%2C%20-119.06046200000002%5D%2C%20%5B34.131764000000004%2C%20-117.681738%5D%2C%20%5B30.399325%2C%20-97.672721%5D%2C%20%5B30.323509%2C%20-81.680524%5D%2C%20%5B28.368941%2C%20-81.430588%5D%2C%20%5B32.825156%2C%20-97.205586%5D%2C%20%5B26.692141%2C%20-80.119854%5D%2C%20%5B35.074168%2C%20-82.636716%5D%2C%20%5B44.54143%2C%20-69.68247%5D%2C%20%5B33.760553%2C%20-117.833538%5D%2C%20%5B39.812806%2C%20-104.983279%5D%2C%20%5B38.581243%2C%20-121.504126%5D%2C%20%5B43.619456%2C%20-116.289445%5D%2C%20%5B36.763754%2C%20-77.692138%5D%2C%20%5B38.78938%2C%20-77.08638%5D%2C%20%5B33.71201%2C%20-117.80165%5D%2C%20%5B40.72708%2C%20-73.2849%5D%2C%20%5B37.776868%2C%20-122.23753899999998%5D%2C%20%5B42.199461%2C%20-87.90615%5D%2C%20%5B25.688077%2C%20-80.44621%5D%2C%20%5B38.588857%2C%20-121.410738%5D%2C%20%5B37.35765%2C%20-122.26558%5D%2C%20%5B32.671875%2C%20-80.883443%5D%2C%20%5B38.89138%2C%20-76.95636%5D%2C%20%5B26.431199%2C%20-81.794709%5D%2C%20%5B29.97986400000001%2C%20-90.083687%5D%2C%20%5B45.321124%2C%20-93.842167%5D%2C%20%5B44.715846%2C%20-117.752612%5D%2C%20%5B34.350314000000004%2C%20-118.504344%5D%2C%20%5B45.507258%2C%20-122.718953%5D%2C%20%5B34.06446%2C%20-118.00388%5D%2C%20%5B34.200453%2C%20-79.594527%5D%2C%20%5B42.918931%2C%20-114.926221%5D%2C%20%5B25.796818%2C%20-80.324187%5D%2C%20%5B29.634491%2C%20-95.314557%5D%2C%20%5B42.88855%2C%20-78.88794%5D%2C%20%5B44.969401%2C%20-93.303545%5D%2C%20%5B33.988941%2C%20-117.361096%5D%2C%20%5B33.475119%2C%20-117.138934%5D%2C%20%5B33.98856%2C%20-118.35856%5D%2C%20%5B25.890186%2C%20-80.188322%5D%2C%20%5B34.652642%2C%20-82.100827%5D%2C%20%5B34.263736%2C%20-118.994642%5D%2C%20%5B33.82615%2C%20-118.20504%5D%2C%20%5B35.845432%2C%20-78.680284%5D%2C%20%5B41.012278%2C%20-73.702754%5D%2C%20%5B29.992021%2C%20-90.073267%5D%2C%20%5B44.064155%2C%20-123.100565%5D%2C%20%5B34.350117%2C%20-81.197923%5D%2C%20%5B44.964251%2C%20-93.240859%5D%2C%20%5B35.354204%2C%20-119.252349%5D%2C%20%5B36.280177%2C%20-90.915468%5D%2C%20%5B41.092785%2C%20-111.994267%5D%2C%20%5B32.327063%2C%20-95.300665%5D%2C%20%5B33.456734999999995%2C%20-112.081395%5D%2C%20%5B40.201109%2C%20-74.58979699999998%5D%2C%20%5B38.82066%2C%20-76.891222%5D%2C%20%5B35.72587100000001%2C%20-118.145774%5D%2C%20%5B35.968258%2C%20-87.31368%5D%2C%20%5B26.301795%2C%20-80.25766899999998%5D%2C%20%5B35.834644%2C%20-78.674385%5D%2C%20%5B40.04445%2C%20-76.363342%5D%2C%20%5B30.446299%2C%20-91.179856%5D%2C%20%5B30.234375%2C%20-89.770238%5D%2C%20%5B42.415543%2C%20-83.218876%5D%2C%20%5B32.985062%2C%20-80.011589%5D%2C%20%5B43.130969%2C%20-77.61030699999998%5D%2C%20%5B32.917919%2C%20-117.234443%5D%2C%20%5B45.55611%2C%20-122.67871%5D%2C%20%5B37.460149%2C%20-79.082196%5D%2C%20%5B32.657801%2C%20-96.564077%5D%2C%20%5B45.696032%2C%20-121.453497%5D%2C%20%5B26.152793%2C%20-81.538392%5D%2C%20%5B36.161894%2C%20-86.760579%5D%2C%20%5B34.072628%2C%20-118.058409%5D%2C%20%5B30.38424%2C%20-87.103389%5D%2C%20%5B32.365808%2C%20-86.274342%5D%2C%20%5B35.311822%2C%20-119.003088%5D%2C%20%5B29.706261%2C%20-95.58801%5D%2C%20%5B45.149943%2C%20-93.176088%5D%2C%20%5B38.47788%2C%20-121.507543%5D%2C%20%5B44.187705%2C%20-117.137038%5D%2C%20%5B25.942926%2C%20-80.12128299999998%5D%2C%20%5B37.794525%2C%20-121.190655%5D%2C%20%5B41.17902%2C%20-73.18119%5D%2C%20%5B34.786997%2C%20-82.204321%5D%2C%20%5B40.09268400000001%2C%20-75.12540200000002%5D%2C%20%5B29.93422%2C%20-95.24911%5D%2C%20%5B33.747099%2C%20-117.874481%5D%2C%20%5B37.862672%2C%20-75.557214%5D%2C%20%5B27.791331%2C%20-82.73060799999998%5D%2C%20%5B28.174068%2C%20-81.302188%5D%2C%20%5B25.697959%2C%20-80.414378%5D%2C%20%5B37.63697%2C%20-97.3526%5D%2C%20%5B33.873484000000005%2C%20-118.010288%5D%2C%20%5B44.953962%2C%20-93.400692%5D%2C%20%5B45.528397%2C%20-122.653571%5D%2C%20%5B40.119057%2C%20-75.35403199999998%5D%2C%20%5B39.833668%2C%20-123.628216%5D%2C%20%5B34.00801%2C%20-117.96824%5D%2C%20%5B25.810617%2C%20-80.313379%5D%2C%20%5B37.797921%2C%20-122.272261%5D%2C%20%5B29.961739%2C%20-90.114375%5D%2C%20%5B37.22785%2C%20-113.37572%5D%2C%20%5B34.06682%2C%20-117.98846%5D%2C%20%5B38.41059%2C%20-122.71616000000002%5D%2C%20%5B30.730935%2C%20-88.063342%5D%2C%20%5B27.04169000000001%2C%20-82.29997%5D%2C%20%5B38.287858%2C%20-85.756573%5D%2C%20%5B34.398157%2C%20-119.29773%5D%2C%20%5B44.964565%2C%20-92.674031%5D%2C%20%5B45.6133%2C%20-123.42344%5D%2C%20%5B36.923413%2C%20-119.992194%5D%2C%20%5B38.031233%2C%20-108.110432%5D%2C%20%5B28.192865%2C%20-82.381279%5D%2C%20%5B40.6358%2C%20-111.90475%5D%2C%20%5B38.581782%2C%20-121.489856%5D%2C%20%5B33.960007%2C%20-118.286764%5D%2C%20%5B34.053178%2C%20-118.229234%5D%2C%20%5B36.183864%2C%20-95.94034%5D%2C%20%5B29.77078%2C%20-95.21093%5D%2C%20%5B37.77266%2C%20-122.40677%5D%2C%20%5B39.775854%2C%20-78.162174%5D%2C%20%5B33.624097%2C%20-112.393774%5D%2C%20%5B35.961109%2C%20-119.290557%5D%2C%20%5B30.533598%2C%20-87.123864%5D%2C%20%5B38.567855%2C%20-121.613515%5D%2C%20%5B38.984096%2C%20-121.006579%5D%2C%20%5B33.876755%2C%20-118.177387%5D%2C%20%5B34.109158%2C%20-117.981146%5D%2C%20%5B32.665582%2C%20-96.957385%5D%2C%20%5B35.074059000000005%2C%20-81.015734%5D%2C%20%5B25.844305%2C%20-80.225328%5D%2C%20%5B28.476026%2C%20-81.396732%5D%2C%20%5B39.388865%2C%20-76.726559%5D%2C%20%5B33.157716%2C%20-117.104125%5D%2C%20%5B40.854159%2C%20-73.965693%5D%2C%20%5B38.776676%2C%20-86.913758%5D%2C%20%5B33.990761%2C%20-117.933884%5D%2C%20%5B29.860674%2C%20-95.418115%5D%2C%20%5B39.171677%2C%20-77.244776%5D%2C%20%5B25.824641%2C%20-80.240902%5D%2C%20%5B37.784809%2C%20-121.306773%5D%2C%20%5B29.549907%2C%20-98.361207%5D%2C%20%5B34.153696999999994%2C%20-118.287766%5D%2C%20%5B39.987602%2C%20-75.818525%5D%2C%20%5B40.808683%2C%20-76.871872%5D%2C%20%5B30.451013%2C%20-87.251295%5D%2C%20%5B40.07529%2C%20-76.33515%5D%2C%20%5B38.61852%2C%20-77.29827%5D%2C%20%5B34.063877000000005%2C%20-117.824914%5D%2C%20%5B40.165043%2C%20-75.12482299999998%5D%2C%20%5B29.530651%2C%20-98.561691%5D%2C%20%5B43.18073%2C%20-71.53151%5D%2C%20%5B43.921375%2C%20-76.11156%5D%2C%20%5B32.66460900000001%2C%20-97.339683%5D%2C%20%5B36.870974%2C%20-76.195536%5D%2C%20%5B37.708346%2C%20-122.16371399999998%5D%2C%20%5B33.76596%2C%20-91.827638%5D%2C%20%5B36.038919%2C%20-86.785964%5D%2C%20%5B34.219758%2C%20-83.873876%5D%2C%20%5B34.13905%2C%20-118.364451%5D%2C%20%5B43.028651%2C%20-77.95802900000002%5D%2C%20%5B33.967877%2C%20-118.082945%5D%2C%20%5B29.712736%2C%20-95.48991%5D%2C%20%5B38.83913%2C%20-104.7162%5D%2C%20%5B25.769215%2C%20-80.36911500000002%5D%2C%20%5B40.018967%2C%20-76.32575899999998%5D%2C%20%5B27.07898%2C%20-82.42475%5D%2C%20%5B40.93343%2C%20-73.760214%5D%2C%20%5B36.984342%2C%20-76.302212%5D%2C%20%5B30.364875%2C%20-81.668702%5D%2C%20%5B47.569603%2C%20-111.794205%5D%2C%20%5B38.02149%2C%20-78.42555%5D%2C%20%5B45.347625%2C%20-122.766326%5D%2C%20%5B28.04484%2C%20-82.025439%5D%2C%20%5B37.816272%2C%20-122.251441%5D%2C%20%5B37.059764%2C%20-121.595712%5D%2C%20%5B37.401538%2C%20-113.239711%5D%2C%20%5B29.595523%2C%20-95.196973%5D%2C%20%5B37.78341%2C%20-121.246281%5D%2C%20%5B32.788854%2C%20-96.753079%5D%2C%20%5B33.87717%2C%20-118.14815%5D%2C%20%5B34.043144%2C%20-118.272534%5D%2C%20%5B38.98431%2C%20-76.58589%5D%2C%20%5B34.004649%2C%20-118.409824%5D%2C%20%5B34.885870000000004%2C%20-82.369915%5D%2C%20%5B25.941566%2C%20-80.306811%5D%2C%20%5B37.56864%2C%20-122.31147%5D%2C%20%5B34.126704%2C%20-118.273191%5D%2C%20%5B47.605209%2C%20-122.339705%5D%2C%20%5B34.748543%2C%20-92.388314%5D%2C%20%5B39.280964%2C%20-80.277351%5D%2C%20%5B42.427928%2C%20-87.903922%5D%2C%20%5B30.28271%2C%20-97.727214%5D%2C%20%5B39.93647%2C%20-83.00944%5D%2C%20%5B45.52448%2C%20-122.5655%5D%2C%20%5B42.304884%2C%20-83.178659%5D%2C%20%5B32.645720000000004%2C%20-96.786451%5D%2C%20%5B36.969262%2C%20-121.817339%5D%2C%20%5B27.96543%2C%20-82.43249%5D%2C%20%5B26.607196%2C%20-81.74091%5D%2C%20%5B40.751177%2C%20-73.616091%5D%2C%20%5B40.779027%2C%20-111.910313%5D%2C%20%5B33.53285%2C%20-81.86059499999998%5D%2C%20%5B31.00148%2C%20-83.19949100000002%5D%2C%20%5B36.996467%2C%20-121.975752%5D%2C%20%5B29.8346%2C%20-95.38534%5D%2C%20%5B42.43913%2C%20-121.21857%5D%2C%20%5B32.860826%2C%20-117.186237%5D%2C%20%5B40.766396%2C%20-73.838362%5D%2C%20%5B41.608411%2C%20-75.645707%5D%2C%20%5B44.808663%2C%20-117.813607%5D%2C%20%5B33.928085%2C%20-118.340919%5D%2C%20%5B34.323768%2C%20-82.113242%5D%2C%20%5B37.713868%2C%20-118.95506%5D%2C%20%5B45.014945%2C%20-93.187762%5D%2C%20%5B37.81202%2C%20-79.398455%5D%2C%20%5B41.350943%2C%20-74.268139%5D%2C%20%5B37.433789%2C%20-120.716817%5D%2C%20%5B26.421507%2C%20-81.811612%5D%2C%20%5B39.96062%2C%20-74.39237%5D%2C%20%5B33.965474%2C%20-81.07901600000002%5D%2C%20%5B35.063826%2C%20-85.097638%5D%2C%20%5B35.135296000000004%2C%20-91.81619%5D%2C%20%5B44.584118%2C%20-93.297625%5D%2C%20%5B34.837635%2C%20-110.183225%5D%2C%20%5B36.47774%2C%20-82.48655%5D%2C%20%5B38.879045%2C%20-77.25391%5D%2C%20%5B41.148328%2C%20-77.17949%5D%2C%20%5B46.825471%2C%20-95.823541%5D%2C%20%5B32.721755%2C%20-96.874385%5D%2C%20%5B37.59665%2C%20-77.48785%5D%2C%20%5B40.675188%2C%20-111.952732%5D%2C%20%5B36.14845%2C%20-115.16752%5D%2C%20%5B37.648839%2C%20-122.096842%5D%2C%20%5B40.632982%2C%20-74.210898%5D%2C%20%5B33.942863%2C%20-118.027616%5D%2C%20%5B41.730518%2C%20-86.33379000000002%5D%2C%20%5B36.259992%2C%20-86.712988%5D%2C%20%5B34.001296%2C%20-117.351887%5D%2C%20%5B35.751468%2C%20-80.016839%5D%2C%20%5B28.709768%2C%20-81.326264%5D%2C%20%5B47.510634%2C%20-94.969122%5D%2C%20%5B25.769879%2C%20-80.32374399999998%5D%2C%20%5B37.891792%2C%20-122.151757%5D%2C%20%5B34.163267%2C%20-118.472417%5D%2C%20%5B38.377913%2C%20-75.0688%5D%2C%20%5B37.580242%2C%20-120.869865%5D%2C%20%5B25.749912%2C%20-80.33583%5D%2C%20%5B41.46539%2C%20-74.069734%5D%2C%20%5B40.894838%2C%20-74.016362%5D%2C%20%5B44.118901%2C%20-121.288949%5D%2C%20%5B39.49089%2C%20-76.23992%5D%2C%20%5B37.55187%2C%20-122.30963%5D%2C%20%5B36.84552%2C%20-76.25585%5D%2C%20%5B33.328281%2C%20-111.714724%5D%2C%20%5B40.725942%2C%20-73.900984%5D%2C%20%5B35.074125%2C%20-85.252801%5D%2C%20%5B27.835187%2C%20-82.78696%5D%2C%20%5B33.926491%2C%20-117.556247%5D%2C%20%5B39.096204%2C%20-94.58859%5D%2C%20%5B36.13698%2C%20-115.06561%5D%2C%20%5B33.923302%2C%20-118.20597%5D%2C%20%5B33.87275%2C%20-118.27013%5D%2C%20%5B34.106595%2C%20-117.881476%5D%2C%20%5B27.502011%2C%20-80.442087%5D%2C%20%5B46.726044%2C%20-92.213219%5D%2C%20%5B33.1261%2C%20-117.32459%5D%2C%20%5B37.921746%2C%20-122.343074%5D%2C%20%5B33.750221999999994%2C%20-117.982072%5D%2C%20%5B37.040029%2C%20-77.62483399999998%5D%2C%20%5B25.928492%2C%20-80.212063%5D%2C%20%5B25.899797%2C%20-80.20967900000002%5D%2C%20%5B37.421191%2C%20-122.092521%5D%2C%20%5B33.780731%2C%20-84.391209%5D%2C%20%5B44.8625%2C%20-93.25799%5D%2C%20%5B32.938286%2C%20-96.748135%5D%2C%20%5B34.168741%2C%20-118.46844%5D%2C%20%5B32.97469%2C%20-80.136972%5D%2C%20%5B37.606855%2C%20-77.524927%5D%2C%20%5B35.053391%2C%20-80.84999499999998%5D%2C%20%5B33.991467%2C%20-117.905399%5D%2C%20%5B40.401874%2C%20-122.422471%5D%2C%20%5B33.98887%2C%20-118.351776%5D%2C%20%5B41.164496%2C%20-74.028583%5D%2C%20%5B30.547973%2C%20-91.030187%5D%2C%20%5B42.367754%2C%20-83.139712%5D%2C%20%5B25.48924%2C%20-80.490737%5D%2C%20%5B33.989289%2C%20-117.84277%5D%2C%20%5B25.734651%2C%20-80.335876%5D%2C%20%5B33.68779%2C%20-117.91186%5D%2C%20%5B32.492683%2C%20-93.749023%5D%2C%20%5B34.168256%2C%20-118.468477%5D%2C%20%5B38.982789%2C%20-76.31882399999998%5D%2C%20%5B40.69063%2C%20-73.58079000000002%5D%2C%20%5B34.880347%2C%20-82.415951%5D%2C%20%5B30.403023%2C%20-91.151806%5D%2C%20%5B41.063%2C%20-123.68551%5D%2C%20%5B34.125163%2C%20-84.21408000000002%5D%2C%20%5B42.160087%2C%20-71.06973%5D%2C%20%5B44.094655%2C%20-123.16973%5D%2C%20%5B39.968678%2C%20-82.98408%5D%2C%20%5B40.89016%2C%20-74.69216999999998%5D%2C%20%5B37.066057%2C%20-120.978616%5D%2C%20%5B33.961012%2C%20-118.282705%5D%2C%20%5B44.89854%2C%20-93.40134%5D%2C%20%5B32.414549%2C%20-86.352871%5D%2C%20%5B28.188297%2C%20-82.542123%5D%2C%20%5B34.991063%2C%20-120.57053700000002%5D%2C%20%5B34.232765%2C%20-112.111304%5D%2C%20%5B34.908956%2C%20-86.756426%5D%2C%20%5B32.76263%2C%20-117.16479%5D%2C%20%5B45.00222%2C%20-93.089679%5D%2C%20%5B38.401519%2C%20-121.916881%5D%2C%20%5B25.884943%2C%20-80.243219%5D%2C%20%5B39.636195%2C%20-77.76833%5D%2C%20%5B36.962538%2C%20-76.270034%5D%2C%20%5B37.746974%2C%20-122.404571%5D%2C%20%5B33.515832%2C%20-84.24320999999998%5D%2C%20%5B38.398188%2C%20-85.763951%5D%2C%20%5B44.612192%2C%20-93.77051%5D%2C%20%5B26.5453%2C%20-81.852391%5D%2C%20%5B38.66132800000001%2C%20-121.22569%5D%2C%20%5B29.767209%2C%20-95.211625%5D%2C%20%5B33.03514000000001%2C%20-80.14535%5D%2C%20%5B41.373872%2C%20-73.610366%5D%2C%20%5B37.680003%2C%20-121.049342%5D%2C%20%5B33.917039%2C%20-118.083415%5D%2C%20%5B34.151987%2C%20-118.13225%5D%2C%20%5B33.74895%2C%20-84.44169000000002%5D%2C%20%5B45.107958%2C%20-93.301158%5D%2C%20%5B25.815258%2C%20-80.236389%5D%2C%20%5B30.288290000000003%2C%20-81.39395%5D%2C%20%5B43.258036%2C%20-75.46158199999998%5D%2C%20%5B37.76982%2C%20-122.22086000000002%5D%2C%20%5B45.513643%2C%20-122.565311%5D%2C%20%5B33.945442%2C%20-118.36823%5D%2C%20%5B35.24061%2C%20-80.8367%5D%2C%20%5B35.84414500000001%2C%20-78.680541%5D%2C%20%5B35.893541%2C%20-78.560478%5D%2C%20%5B26.492607%2C%20-81.79455300000002%5D%2C%20%5B28.493792%2C%20-81.459929%5D%2C%20%5B41.23828%2C%20-81.817936%5D%2C%20%5B32.148321%2C%20-111.053036%5D%2C%20%5B29.734581%2C%20-95.505704%5D%2C%20%5B30.41788%2C%20-91.089515%5D%2C%20%5B33.402853%2C%20-117.168245%5D%2C%20%5B42.37324%2C%20-71.05926%5D%2C%20%5B42.978728%2C%20-77.23769200000002%5D%2C%20%5B30.423278000000003%2C%20-91.141634%5D%2C%20%5B39.971075%2C%20-76.69657600000002%5D%2C%20%5B33.545033000000004%2C%20-112.099506%5D%2C%20%5B35.201858%2C%20-80.786987%5D%2C%20%5B42.916762%2C%20-85.598302%5D%2C%20%5B36.755062%2C%20-76.51342700000002%5D%2C%20%5B36.747438%2C%20-119.80278%5D%2C%20%5B41.905106%2C%20-89.00295799999998%5D%2C%20%5B44.99817%2C%20-123.0001%5D%2C%20%5B36.046711%2C%20-86.585954%5D%2C%20%5B32.250335%2C%20-110.984382%5D%2C%20%5B33.970795%2C%20-118.281005%5D%2C%20%5B43.51374000000001%2C%20-76.22322%5D%2C%20%5B35.346368%2C%20-119.034497%5D%2C%20%5B37.137356%2C%20-113.511902%5D%2C%20%5B30.438974%2C%20-91.184624%5D%2C%20%5B37.63866%2C%20-120.61886%5D%2C%20%5B38.40477%2C%20-121.48274%5D%2C%20%5B34.19559%2C%20-82.16493%5D%2C%20%5B41.59726%2C%20-87.58348000000002%5D%2C%20%5B27.83945%2C%20-82.76213%5D%2C%20%5B48.451417%2C%20-122.49341%5D%2C%20%5B42.865358%2C%20-83.739825%5D%2C%20%5B39.548691%2C%20-119.821477%5D%2C%20%5B26.667269%2C%20-81.888535%5D%2C%20%5B40.550354%2C%20-75.426796%5D%2C%20%5B26.201752%2C%20-81.735781%5D%2C%20%5B40.47218%2C%20-74.46658000000002%5D%2C%20%5B36.858482%2C%20-119.791208%5D%2C%20%5B33.38613%2C%20-111.7936%5D%2C%20%5B34.20120900000001%2C%20-118.400017%5D%2C%20%5B29.26332%2C%20-82.19169000000002%5D%2C%20%5B35.012229999999995%2C%20-81.960095%5D%2C%20%5B34.11908%2C%20-78.97691999999998%5D%2C%20%5B38.87033%2C%20-77.30082%5D%2C%20%5B35.869572%2C%20-78.54711400000002%5D%2C%20%5B41.793001%2C%20-124.072397%5D%2C%20%5B36.767744%2C%20-119.781358%5D%2C%20%5B37.61159%2C%20-77.36346999999998%5D%2C%20%5B28.331096%2C%20-81.547054%5D%2C%20%5B43.194057%2C%20-118.375087%5D%2C%20%5B44.99292%2C%20-93.40071%5D%2C%20%5B35.759274%2C%20-78.613301%5D%2C%20%5B25.950265%2C%20-80.182002%5D%2C%20%5B28.551744%2C%20-81.505862%5D%2C%20%5B33.934441%2C%20-118.177075%5D%2C%20%5B38.376821%2C%20-121.362265%5D%2C%20%5B36.965163%2C%20-76.515022%5D%2C%20%5B38.579145%2C%20-121.506139%5D%2C%20%5B34.276322%2C%20-118.453637%5D%2C%20%5B40.58255%2C%20-111.89995%5D%2C%20%5B30.320733%2C%20-81.716664%5D%2C%20%5B37.517699%2C%20-77.42605%5D%2C%20%5B38.839532%2C%20-121.116849%5D%2C%20%5B40.77006%2C%20-73.56858000000003%5D%2C%20%5B37.781242%2C%20-121.187127%5D%2C%20%5B36.036368%2C%20-79.78881899999998%5D%2C%20%5B35.908051%2C%20-78.728381%5D%2C%20%5B37.783751%2C%20-120.858034%5D%2C%20%5B37.54779%2C%20-77.43162%5D%2C%20%5B41.978341%2C%20-74.01026800000002%5D%2C%20%5B34.423909%2C%20-119.717942%5D%2C%20%5B40.176737%2C%20-105.34846%5D%2C%20%5B34.137840000000004%2C%20-118.36284%5D%2C%20%5B32.107629%2C%20-110.772729%5D%2C%20%5B28.447931%2C%20-81.470943%5D%2C%20%5B38.598909%2C%20-121.383109%5D%2C%20%5B45.44453%2C%20-122.57894%5D%2C%20%5B39.31964%2C%20-77.01979%5D%2C%20%5B40.477559%2C%20-74.29104%5D%2C%20%5B40.654488%2C%20-75.401152%5D%2C%20%5B38.383409%2C%20-77.449931%5D%2C%20%5B37.001953%2C%20-76.319586%5D%2C%20%5B47.360229%2C%20-122.244547%5D%2C%20%5B37.743523%2C%20-121.568572%5D%2C%20%5B37.93271%2C%20-122.06036%5D%2C%20%5B33.99527%2C%20-117.36198%5D%2C%20%5B36.662452%2C%20-78.557597%5D%2C%20%5B43.168997%2C%20-77.641368%5D%2C%20%5B36.994582%2C%20-76.41824799999998%5D%2C%20%5B35.357512%2C%20-119.039837%5D%2C%20%5B37.955887%2C%20-121.318454%5D%2C%20%5B25.795708%2C%20-80.368938%5D%2C%20%5B37.38665%2C%20-121.90556%5D%2C%20%5B25.732097%2C%20-80.33571500000002%5D%2C%20%5B39.684704%2C%20-104.953701%5D%2C%20%5B34.064387%2C%20-117.278398%5D%2C%20%5B44.006026%2C%20-90.50511%5D%2C%20%5B40.151573%2C%20-75.390274%5D%2C%20%5B41.106537%2C%20-73.414556%5D%2C%20%5B38.91313%2C%20-76.85022%5D%2C%20%5B45.561439%2C%20-122.565633%5D%2C%20%5B29.957324%2C%20-81.44455699999997%5D%2C%20%5B29.921284000000004%2C%20-90.121883%5D%2C%20%5B28.5105%2C%20-81.45893000000002%5D%2C%20%5B41.57432%2C%20-87.47536%5D%2C%20%5B28.411856%2C%20-81.423723%5D%2C%20%5B30.216329%2C%20-97.751557%5D%2C%20%5B42.94666%2C%20-78.59300999999998%5D%2C%20%5B32.668823%2C%20-96.956244%5D%2C%20%5B40.084809%2C%20-74.175185%5D%2C%20%5B43.140347%2C%20-75.336721%5D%2C%20%5B36.01672%2C%20-118.826252%5D%2C%20%5B35.798561%2C%20-78.564184%5D%2C%20%5B38.834088%2C%20-76.871024%5D%2C%20%5B39.122346%2C%20-76.866434%5D%2C%20%5B45.766489%2C%20-92.965144%5D%2C%20%5B42.373434%2C%20-83.21678399999998%5D%2C%20%5B47.568622%2C%20-122.106052%5D%2C%20%5B39.346412%2C%20-121.687727%5D%2C%20%5B34.15103%2C%20-118.46835%5D%2C%20%5B34.019826%2C%20-118.279186%5D%2C%20%5B39.54138%2C%20-104.86894%5D%2C%20%5B43.213129%2C%20-123.30491200000002%5D%2C%20%5B34.092293%2C%20-117.543744%5D%2C%20%5B43.663027%2C%20-115.977246%5D%2C%20%5B33.610316%2C%20-112.313752%5D%2C%20%5B28.48259%2C%20-81.445068%5D%2C%20%5B33.842048%2C%20-118.288092%5D%2C%20%5B34.002414%2C%20-117.379199%5D%2C%20%5B29.705453%2C%20-95.484594%5D%2C%20%5B26.12938%2C%20-80.21771%5D%2C%20%5B33.952185%2C%20-118.090408%5D%2C%20%5B25.889985%2C%20-80.269378%5D%2C%20%5B35.018533000000005%2C%20-85.29178399999998%5D%2C%20%5B32.783789%2C%20-96.737489%5D%2C%20%5B27.777302%2C%20-82.654808%5D%2C%20%5B46.32525800000001%2C%20-94.841634%5D%2C%20%5B30.196512%2C%20-97.786303%5D%2C%20%5B33.910855%2C%20-117.883466%5D%2C%20%5B45.356251%2C%20-121.142109%5D%2C%20%5B33.856639%2C%20-118.028723%5D%2C%20%5B35.027557%2C%20-81.871737%5D%2C%20%5B34.579968%2C%20-117.88957%5D%2C%20%5B33.43629%2C%20-111.94616%5D%2C%20%5B34.938078999999995%2C%20-120.391506%5D%2C%20%5B44.973463%2C%20-122.99003%5D%2C%20%5B47.62453%2C%20-122.33437%5D%2C%20%5B28.552991%2C%20-81.393064%5D%2C%20%5B25.868259%2C%20-80.24149200000002%5D%2C%20%5B33.902072%2C%20-118.10531%5D%2C%20%5B40.046589%2C%20-86.489108%5D%2C%20%5B27.47708%2C%20-82.56306%5D%2C%20%5B42.966231%2C%20-76.860748%5D%2C%20%5B33.645070000000004%2C%20-86.97089%5D%2C%20%5B33.675059000000005%2C%20-80.899447%5D%2C%20%5B32.346646%2C%20-95.293142%5D%2C%20%5B25.97053%2C%20-80.16575999999998%5D%2C%20%5B34.039286%2C%20-118.273892%5D%2C%20%5B33.928283%2C%20-118.269537%5D%2C%20%5B45.641659%2C%20-120.89038899999998%5D%2C%20%5B45.785554%2C%20-108.230127%5D%2C%20%5B41.78322%2C%20-87.63155%5D%2C%20%5B33.667876%2C%20-112.11718799999998%5D%2C%20%5B36.15145%2C%20-95.96712%5D%2C%20%5B39.154254%2C%20-94.512687%5D%2C%20%5B40.707489%2C%20-74.23218299999998%5D%2C%20%5B35.769585%2C%20-78.725913%5D%2C%20%5B45.0356%2C%20-93.76688%5D%2C%20%5B34.12107%2C%20-117.9032%5D%2C%20%5B33.94453%2C%20-84.51029%5D%2C%20%5B33.358282%2C%20-117.152364%5D%2C%20%5B44.25935%2C%20-121.179438%5D%2C%20%5B29.941512%2C%20-90.025113%5D%2C%20%5B27.446823%2C%20-82.48508199999998%5D%2C%20%5B34.495197%2C%20-82.60117%5D%2C%20%5B30.4503%2C%20-91.15588%5D%2C%20%5B42.737%2C%20-73.78498%5D%2C%20%5B40.729669%2C%20-74.036002%5D%2C%20%5B25.899331%2C%20-80.188855%5D%2C%20%5B38.65296%2C%20-77.281662%5D%2C%20%5B25.732819%2C%20-80.350081%5D%2C%20%5B37.5585%2C%20-77.41514000000002%5D%2C%20%5B40.696266%2C%20-73.979455%5D%2C%20%5B33.141969%2C%20-117.16362%5D%2C%20%5B41.03661%2C%20-81.54569599999998%5D%2C%20%5B34.081741%2C%20-117.71329%5D%2C%20%5B45.661443%2C%20-110.790954%5D%2C%20%5B38.2741%2C%20-122.04924%5D%2C%20%5B34.15437%2C%20-118.15677%5D%2C%20%5B34.714683%2C%20-92.391913%5D%2C%20%5B25.688012%2C%20-80.384015%5D%2C%20%5B41.100744%2C%20-73.956924%5D%2C%20%5B26.547537%2C%20-81.784631%5D%2C%20%5B38.603579%2C%20-121.415338%5D%2C%20%5B39.916589%2C%20-75.025227%5D%2C%20%5B33.87656%2C%20-118.07772%5D%2C%20%5B34.067464%2C%20-117.58678700000002%5D%2C%20%5B32.411006%2C%20-80.643831%5D%2C%20%5B43.04184%2C%20-76.19911%5D%2C%20%5B37.824271%2C%20-122.268561%5D%2C%20%5B45.68932%2C%20-121.43703%5D%2C%20%5B40.545287%2C%20-111.894369%5D%2C%20%5B38.504814%2C%20-120.763804%5D%2C%20%5B32.889449%2C%20-117.201803%5D%2C%20%5B33.63151%2C%20-117.17105%5D%2C%20%5B25.688767%2C%20-80.36589000000002%5D%2C%20%5B38.707818%2C%20-121.376899%5D%2C%20%5B33.865484%2C%20-118.197304%5D%2C%20%5B40.887075%2C%20-123.990758%5D%2C%20%5B41.536431%2C%20-72.796678%5D%2C%20%5B25.988363%2C%20-80.165573%5D%2C%20%5B33.773299%2C%20-117.830806%5D%2C%20%5B39.823531%2C%20-104.964243%5D%2C%20%5B39.821236%2C%20-121.593341%5D%2C%20%5B30.678351%2C%20-87.987175%5D%2C%20%5B39.85758%2C%20-84.18938%5D%2C%20%5B33.409034000000005%2C%20-79.92137199999998%5D%2C%20%5B47.86756%2C%20-94.31354%5D%2C%20%5B36.049114%2C%20-79.871689%5D%2C%20%5B41.104114%2C%20-114.974154%5D%2C%20%5B41.938899%2C%20-87.904504%5D%2C%20%5B37.25595300000001%2C%20-76.734577%5D%2C%20%5B45.06408%2C%20-93.18622%5D%2C%20%5B34.07121%2C%20-118.23508%5D%2C%20%5B26.20368%2C%20-80.14365%5D%2C%20%5B37.79569%2C%20-122.25377%5D%2C%20%5B40.054425%2C%20-123.989391%5D%2C%20%5B30.428478%2C%20-91.171347%5D%2C%20%5B38.42497%2C%20-77.42124%5D%2C%20%5B36.323823%2C%20-86.705149%5D%2C%20%5B41.68309%2C%20-87.60172%5D%2C%20%5B39.993099%2C%20-75.243802%5D%2C%20%5B43.02229000000001%2C%20-123.29905%5D%2C%20%5B39.738095%2C%20-123.816658%5D%2C%20%5B37.378116%2C%20-121.903535%5D%2C%20%5B45.67382%2C%20-118.7768%5D%2C%20%5B25.671986%2C%20-80.38261899999998%5D%2C%20%5B27.337652%2C%20-82.481448%5D%2C%20%5B44.950915%2C%20-93.105%5D%2C%20%5B38.033846%2C%20-120.22248%5D%2C%20%5B25.826285%2C%20-80.321567%5D%2C%20%5B37.42192%2C%20-122.1823%5D%2C%20%5B38.260952%2C%20-85.73275%5D%2C%20%5B30.010176%2C%20-90.018043%5D%2C%20%5B33.92848%2C%20-118.28932%5D%2C%20%5B45.33645%2C%20-93.00458%5D%2C%20%5B37.52383%2C%20-77.32842%5D%2C%20%5B40.105301%2C%20-77.38512%5D%2C%20%5B32.690836%2C%20-96.938495%5D%2C%20%5B38.04991%2C%20-122.759%5D%2C%20%5B34.083267%2C%20-118.298398%5D%2C%20%5B28.026921999999995%2C%20-82.162661%5D%2C%20%5B41.06687%2C%20-111.97265%5D%2C%20%5B30.417875%2C%20-84.546165%5D%2C%20%5B26.7069%2C%20-80.11936%5D%2C%20%5B38.587353%2C%20-121.503699%5D%2C%20%5B45.530452%2C%20-118.44828400000002%5D%2C%20%5B25.787688%2C%20-80.209869%5D%2C%20%5B37.20624%2C%20-121.71738899999998%5D%2C%20%5B38.406331%2C%20-82.50043000000002%5D%2C%20%5B38.088213%2C%20-99.893913%5D%2C%20%5B33.935147%2C%20-118.368276%5D%2C%20%5B28.61126%2C%20-81.28238%5D%2C%20%5B39.773704%2C%20-84.18695600000002%5D%2C%20%5B28.609407%2C%20-81.415767%5D%2C%20%5B30.36246%2C%20-97.695569%5D%2C%20%5B26.226734000000004%2C%20-80.136298%5D%2C%20%5B32.86737%2C%20-79.90868%5D%2C%20%5B40.088191%2C%20-75.38203399999998%5D%2C%20%5B40.845108%2C%20-73.918939%5D%2C%20%5B32.936622%2C%20-80.048974%5D%2C%20%5B40.74814%2C%20-73.96808%5D%2C%20%5B44.727021%2C%20-122.136259%5D%2C%20%5B28.759961%2C%20-81.27067%5D%2C%20%5B37.258512%2C%20-122.12193899999998%5D%2C%20%5B34.956351%2C%20-110.35307%5D%2C%20%5B33.504021%2C%20-117.293279%5D%2C%20%5B41.82988%2C%20-71.41796%5D%2C%20%5B36.674329%2C%20-121.67861200000002%5D%2C%20%5B41.87101%2C%20-87.76894%5D%2C%20%5B45.13573%2C%20-119.67037%5D%2C%20%5B47.522947%2C%20-111.281641%5D%2C%20%5B29.451802%2C%20-98.686076%5D%2C%20%5B32.9069%2C%20-96.72828%5D%2C%20%5B41.549747%2C%20-87.336513%5D%2C%20%5B47.73407%2C%20-122.32601%5D%2C%20%5B44.356842%2C%20-121.611769%5D%2C%20%5B38.836545%2C%20-94.528188%5D%2C%20%5B33.929772%2C%20-118.343865%5D%2C%20%5B33.928963%2C%20-118.368524%5D%2C%20%5B39.575206%2C%20-76.132063%5D%2C%20%5B30.385129%2C%20-91.041853%5D%2C%20%5B33.973322%2C%20-118.247661%5D%2C%20%5B40.70898%2C%20-74.19155%5D%2C%20%5B38.787232%2C%20-77.456928%5D%2C%20%5B27.712826%2C%20-82.679511%5D%2C%20%5B33.82575%2C%20-118.24584%5D%2C%20%5B40.6788%2C%20-74.33131%5D%2C%20%5B38.61979%2C%20-121.328502%5D%2C%20%5B37.93996%2C%20-122.51601%5D%2C%20%5B40.76292%2C%20-73.86065%5D%2C%20%5B30.415874%2C%20-97.695849%5D%2C%20%5B34.136509000000004%2C%20-117.482962%5D%2C%20%5B37.297693%2C%20-120.48544%5D%2C%20%5B45.941637%2C%20-119.333549%5D%2C%20%5B47.358033%2C%20-122.128012%5D%2C%20%5B27.996311%2C%20-82.384364%5D%2C%20%5B39.10902100000001%2C%20-77.185682%5D%2C%20%5B30.039115%2C%20-90.007796%5D%2C%20%5B33.874596000000004%2C%20-118.159965%5D%2C%20%5B35.988914%2C%20-84.208108%5D%2C%20%5B36.71383%2C%20-119.78431100000002%5D%2C%20%5B33.858971999999994%2C%20-117.536104%5D%2C%20%5B29.812794%2C%20-95.335317%5D%2C%20%5B33.28713%2C%20-111.86469%5D%2C%20%5B38.376821%2C%20-121.362265%5D%2C%20%5B32.92051%2C%20-97.31728%5D%2C%20%5B36.785899%2C%20-76.414208%5D%2C%20%5B38.369783%2C%20-121.957737%5D%2C%20%5B33.891742%2C%20-117.506189%5D%2C%20%5B36.17549%2C%20-115.14503%5D%2C%20%5B39.366298%2C%20-77.503277%5D%2C%20%5B44.765886%2C%20-111.113287%5D%2C%20%5B29.213025%2C%20-82.06184300000002%5D%2C%20%5B25.90354%2C%20-80.21027%5D%2C%20%5B25.933324%2C%20-80.121862%5D%2C%20%5B43.03583%2C%20-87.94325%5D%2C%20%5B34.0761%2C%20-80.9682%5D%2C%20%5B43.02325%2C%20-74.89421%5D%2C%20%5B38.867498%2C%20-110.78271399999998%5D%2C%20%5B25.962951%2C%20-80.147693%5D%2C%20%5B38.474307%2C%20-121.427099%5D%2C%20%5B30.277843%2C%20-97.73028%5D%2C%20%5B42.389268%2C%20-122.865115%5D%2C%20%5B45.611998%2C%20-122.678712%5D%2C%20%5B25.910063%2C%20-80.210076%5D%2C%20%5B39.195527%2C%20-85.85672199999998%5D%2C%20%5B35.618293%2C%20-82.263049%5D%2C%20%5B33.952459999999995%2C%20-118.36938%5D%2C%20%5B42.687603%2C%20-123.392118%5D%2C%20%5B35.98143%2C%20-78.820973%5D%2C%20%5B40.973025%2C%20-73.847008%5D%2C%20%5B38.426913%2C%20-122.715135%5D%2C%20%5B38.864329%2C%20-121.540565%5D%2C%20%5B33.908303000000004%2C%20-117.882817%5D%2C%20%5B28.569949%2C%20-81.372745%5D%2C%20%5B37.290676%2C%20-76.674066%5D%2C%20%5B34.160073%2C%20-118.469604%5D%2C%20%5B42.23975%2C%20-71.006025%5D%2C%20%5B32.155533%2C%20-81.05625%5D%2C%20%5B37.86686%2C%20-122.03909%5D%2C%20%5B46.426194%2C%20-105.785604%5D%2C%20%5B42.935037%2C%20-83.72364499999998%5D%2C%20%5B30.301419%2C%20-97.714558%5D%2C%20%5B28.51840300000001%2C%20-81.28935600000001%5D%2C%20%5B40.21681%2C%20-76.07718%5D%2C%20%5B44.420653%2C%20-121.789273%5D%2C%20%5B35.059731%2C%20-80.81280500000003%5D%2C%20%5B37.870368%2C%20-122.192743%5D%2C%20%5B38.944318%2C%20-121.097889%5D%2C%20%5B36.07909%2C%20-79.229031%5D%2C%20%5B34.39801%2C%20-117.402938%5D%2C%20%5B38.576876%2C%20-121.516756%5D%2C%20%5B40.747008%2C%20-80.33874899999998%5D%2C%20%5B32.574558%2C%20-93.78537%5D%2C%20%5B34.160646%2C%20-118.293002%5D%2C%20%5B36.856223%2C%20-76.177177%5D%2C%20%5B38.868631%2C%20-77.047061%5D%2C%20%5B40.73822%2C%20-73.84869%5D%2C%20%5B44.0307%2C%20-88.582482%5D%2C%20%5B34.581309999999995%2C%20-118.13388%5D%2C%20%5B40.075447%2C%20-75.35700600000001%5D%2C%20%5B29.448916%2C%20-98.633355%5D%2C%20%5B33.874658000000004%2C%20-117.880243%5D%2C%20%5B42.35032%2C%20-122.87652%5D%2C%20%5B41.311873%2C%20-72.913589%5D%2C%20%5B43.650301%2C%20-123.636242%5D%2C%20%5B43.619568%2C%20-116.346941%5D%2C%20%5B36.868618%2C%20-121.743602%5D%2C%20%5B43.000604%2C%20-85.655407%5D%2C%20%5B39.419256%2C%20-76.63761%5D%2C%20%5B42.961988%2C%20-71.415123%5D%2C%20%5B36.075192%2C%20-86.91870899999998%5D%2C%20%5B42.320121%2C%20-83.215322%5D%2C%20%5B32.308549%2C%20-90.163976%5D%2C%20%5B33.926578000000006%2C%20-84.55125699999998%5D%2C%20%5B39.023868%2C%20-76.470577%5D%2C%20%5B37.996762%2C%20-122.285739%5D%2C%20%5B34.0958%2C%20-117.30201%5D%2C%20%5B27.389934000000004%2C%20-82.455656%5D%2C%20%5B38.99469000000001%2C%20-76.88884%5D%2C%20%5B28.416491%2C%20-81.42147%5D%2C%20%5B45.143324%2C%20-93.497929%5D%2C%20%5B42.97416%2C%20-117.05442%5D%2C%20%5B38.39641%2C%20-78.91075%5D%2C%20%5B32.806581%2C%20-96.62702%5D%2C%20%5B33.517853%2C%20-80.976574%5D%2C%20%5B34.089003000000005%2C%20-118.309154%5D%2C%20%5B33.892656%2C%20-118.28546%5D%2C%20%5B28.575304%2C%20-81.38950200000002%5D%2C%20%5B27.781504%2C%20-82.335043%5D%2C%20%5B35.481644%2C%20-77.637537%5D%2C%20%5B44.710561%2C%20-123.05398%5D%2C%20%5B33.20367%2C%20-84.05978%5D%2C%20%5B38.705101%2C%20-77.231489%5D%2C%20%5B33.45653%2C%20-117.65226%5D%2C%20%5B36.903816%2C%20-121.640543%5D%2C%20%5B36.137168%2C%20-86.77582%5D%2C%20%5B25.883616%2C%20-80.211893%5D%2C%20%5B40.463372%2C%20-111.460736%5D%2C%20%5B40.741439%2C%20-73.770336%5D%2C%20%5B40.348413%2C%20-111.592075%5D%2C%20%5B37.93249%2C%20-122.40328999999998%5D%2C%20%5B40.095356%2C%20-75.01475500000002%5D%2C%20%5B40.758601%2C%20-74.209052%5D%2C%20%5B36.17712%2C%20-115.16076%5D%2C%20%5B37.83312%2C%20-122.294587%5D%2C%20%5B40.62498%2C%20-74.01916999999997%5D%2C%20%5B35.249236%2C%20-80.78969000000002%5D%2C%20%5B41.41861%2C%20-81.81796%5D%2C%20%5B28.421394%2C%20-81.400216%5D%2C%20%5B39.590031%2C%20-76.071069%5D%2C%20%5B25.597573%2C%20-80.354562%5D%2C%20%5B36.561781%2C%20-121.911745%5D%2C%20%5B34.019668%2C%20-118.18004%5D%2C%20%5B33.447092%2C%20-112.186084%5D%2C%20%5B42.714843%2C%20-73.869592%5D%2C%20%5B47.118387%2C%20-113.485503%5D%2C%20%5B36.960099%2C%20-120.063196%5D%2C%20%5B40.357514%2C%20-74.12920799999998%5D%2C%20%5B39.94237%2C%20-74.20891999999998%5D%2C%20%5B44.971772%2C%20-93.381525%5D%2C%20%5B29.78398%2C%20-95.49638%5D%2C%20%5B28.576644%2C%20-81.451382%5D%2C%20%5B33.880796999999994%2C%20-80.350975%5D%2C%20%5B33.56568%2C%20-112.116664%5D%2C%20%5B33.9875%2C%20-118.39951%5D%2C%20%5B36.83641%2C%20-76.07008%5D%2C%20%5B25.67345%2C%20-80.432766%5D%2C%20%5B43.757662%2C%20-117.06562%5D%2C%20%5B28.269033%2C%20-81.605654%5D%2C%20%5B32.294579%2C%20-80.936611%5D%2C%20%5B34.616219%2C%20-120.098045%5D%2C%20%5B38.39067%2C%20-81.58641999999998%5D%2C%20%5B37.764957%2C%20-121.410652%5D%2C%20%5B25.714585%2C%20-80.413965%5D%2C%20%5B34.142533%2C%20-117.243687%5D%2C%20%5B29.70290300000001%2C%20-95.587753%5D%2C%20%5B45.34033%2C%20-122.77358%5D%2C%20%5B29.752244%2C%20-95.455741%5D%2C%20%5B40.095859%2C%20-74.774118%5D%2C%20%5B34.14504%2C%20-118.36844%5D%2C%20%5B34.309862%2C%20-117.472761%5D%2C%20%5B39.8218%2C%20-84.14529%5D%2C%20%5B34.161096%2C%20-118.469612%5D%2C%20%5B33.844460999999995%2C%20-117.956801%5D%2C%20%5B33.67043%2C%20-111.92541%5D%2C%20%5B32.698884%2C%20-114.564456%5D%2C%20%5B33.782321%2C%20-117.490459%5D%2C%20%5B28.537474%2C%20-81.255009%5D%2C%20%5B27.458887%2C%20-82.585841%5D%2C%20%5B37.420967%2C%20-76.824334%5D%2C%20%5B40.85604%2C%20-73.872445%5D%2C%20%5B41.6913%2C%20-83.51308%5D%2C%20%5B34.045602%2C%20-117.310263%5D%2C%20%5B35.844613%2C%20-78.614459%5D%2C%20%5B33.915876000000004%2C%20-118.230972%5D%2C%20%5B32.898509999999995%2C%20-96.71481%5D%2C%20%5B25.764384%2C%20-80.33629300000003%5D%2C%20%5B37.826779%2C%20-122.288666%5D%2C%20%5B40.765597%2C%20-73.717596%5D%2C%20%5B37.874502%2C%20-122.306023%5D%2C%20%5B32.925802000000004%2C%20-96.826192%5D%2C%20%5B25.86554%2C%20-80.20855%5D%2C%20%5B38.219751%2C%20-85.822244%5D%2C%20%5B36.117898%2C%20-86.72581600000002%5D%2C%20%5B39.87418%2C%20-120.739735%5D%2C%20%5B33.984781%2C%20-118.133767%5D%2C%20%5B25.716605%2C%20-80.431155%5D%2C%20%5B33.678857%2C%20-85.315178%5D%2C%20%5B37.421143%2C%20-122.092497%5D%2C%20%5B45.558298%2C%20-94.129893%5D%2C%20%5B33.924683%2C%20-118.10397%5D%2C%20%5B41.980213%2C%20-83.373201%5D%2C%20%5B25.579817%2C%20-80.368512%5D%2C%20%5B30.405247%2C%20-97.665145%5D%2C%20%5B47.59004%2C%20-122.30846%5D%2C%20%5B25.857208%2C%20-80.209463%5D%2C%20%5B33.309119%2C%20-84.78895%5D%2C%20%5B40.636667%2C%20-122.23984%5D%2C%20%5B37.459579%2C%20-122.290402%5D%2C%20%5B42.35212%2C%20-83.21625%5D%2C%20%5B40.771895%2C%20-73.994008%5D%2C%20%5B44.952138%2C%20-93.136457%5D%2C%20%5B39.16649%2C%20-94.39503%5D%2C%20%5B27.94477%2C%20-82.52013000000002%5D%2C%20%5B39.18023%2C%20-84.39678%5D%2C%20%5B33.957334%2C%20-118.087631%5D%2C%20%5B47.159523%2C%20-122.483542%5D%2C%20%5B39.00178%2C%20-93.774654%5D%2C%20%5B37.045556%2C%20-121.260278%5D%2C%20%5B27.484719%2C%20-80.480917%5D%2C%20%5B30.422622%2C%20-85.874839%5D%2C%20%5B30.285433%2C%20-97.76386%5D%2C%20%5B38.501935%2C%20-121.789146%5D%2C%20%5B44.28894%2C%20-94.40315%5D%2C%20%5B39.022933%2C%20-122.453581%5D%2C%20%5B39.064646%2C%20-95.736097%5D%2C%20%5B34.274359999999994%2C%20-118.37623%5D%2C%20%5B42.996121%2C%20-77.374509%5D%2C%20%5B32.481777%2C%20-93.728989%5D%2C%20%5B35.316221%2C%20-80.77144200000002%5D%2C%20%5B32.658221999999995%2C%20-117.074335%5D%2C%20%5B42.06832%2C%20-88.29720999999998%5D%2C%20%5B44.81106%2C%20-124.06222%5D%2C%20%5B38.52477%2C%20-90.40051%5D%2C%20%5B34.912147999999995%2C%20-81.98392700000002%5D%2C%20%5B42.363923%2C%20-87.967221%5D%2C%20%5B35.291851%2C%20-120.647166%5D%2C%20%5B37.36084%2C%20-121.84159%5D%2C%20%5B25.890186%2C%20-80.324145%5D%2C%20%5B40.91462%2C%20-73.812342%5D%2C%20%5B34.240254%2C%20-117.429524%5D%2C%20%5B38.674933%2C%20-77.23883199999999%5D%2C%20%5B39.1802%2C%20-77.68011%5D%2C%20%5B38.216165%2C%20-77.498655%5D%2C%20%5B34.038451%2C%20-118.274001%5D%2C%20%5B40.6659%2C%20-73.99604000000002%5D%2C%20%5B36.826031%2C%20-119.785271%5D%2C%20%5B30.495761%2C%20-88.339036%5D%2C%20%5B38.92836%2C%20-94.52813%5D%2C%20%5B32.235471999999994%2C%20-110.823763%5D%2C%20%5B44.679109%2C%20-121.146318%5D%2C%20%5B34.30045%2C%20-118.47672%5D%2C%20%5B25.78084%2C%20-80.19989%5D%2C%20%5B34.07833%2C%20-81.15296%5D%2C%20%5B33.908323%2C%20-81.220375%5D%2C%20%5B43.881836%2C%20-90.144895%5D%2C%20%5B32.76418%2C%20-117.127894%5D%2C%20%5B33.09713%2C%20-96.67926%5D%2C%20%5B37.71696%2C%20-122.151152%5D%2C%20%5B39.01804%2C%20-77.378028%5D%2C%20%5B43.23209%2C%20-71.53694%5D%2C%20%5B43.146117%2C%20-73.404084%5D%2C%20%5B39.458375%2C%20-121.474635%5D%2C%20%5B39.624994%2C%20-84.369035%5D%2C%20%5B38.640002%2C%20-121.482452%5D%2C%20%5B35.783063%2C%20-78.78189300000003%5D%2C%20%5B37.8269%2C%20-122.26725%5D%2C%20%5B39.195688%2C%20-122.078827%5D%2C%20%5B38.953732%2C%20-121.543926%5D%2C%20%5B25.73589%2C%20-80.319411%5D%2C%20%5B44.965858%2C%20-93.247255%5D%2C%20%5B29.73262%2C%20-95.38043%5D%2C%20%5B27.872604%2C%20-82.72888499999998%5D%2C%20%5B27.700634%2C%20-80.89504000000002%5D%2C%20%5B27.114633%2C%20-80.26419200000002%5D%2C%20%5B45.007699%2C%20-93.105758%5D%2C%20%5B40.051571%2C%20-75.563353%5D%2C%20%5B42.32954%2C%20-120.30047%5D%2C%20%5B33.77890900000001%2C%20-117.876878%5D%2C%20%5B41.8509%2C%20-87.64492%5D%2C%20%5B44.966364%2C%20-93.276541%5D%2C%20%5B33.959988%2C%20-81.22593%5D%2C%20%5B34.053044%2C%20-118.228279%5D%2C%20%5B42.37567%2C%20-88.16925%5D%2C%20%5B39.222769%2C%20-76.652661%5D%2C%20%5B33.662665000000004%2C%20-111.906008%5D%2C%20%5B44.113941%2C%20-121.29211%5D%2C%20%5B38.09711400000001%2C%20-85.82851%5D%2C%20%5B37.545689%2C%20-122.51394%5D%2C%20%5B35.48636%2C%20-80.87464%5D%2C%20%5B34.063315%2C%20-117.792779%5D%2C%20%5B29.92887%2C%20-95.41205%5D%2C%20%5B41.50677%2C%20-87.31995%5D%2C%20%5B42.878769%2C%20-85.384336%5D%2C%20%5B41.64014%2C%20-83.55339000000002%5D%2C%20%5B39.521352%2C%20-77.60026500000002%5D%2C%20%5B40.2769%2C%20-75.313573%5D%2C%20%5B38.229714%2C%20-86.970004%5D%2C%20%5B37.333938%2C%20-80.01837900000002%5D%2C%20%5B34.3348%2C%20-119.08598%5D%2C%20%5B34.059845%2C%20-117.804732%5D%2C%20%5B28.19131%2C%20-82.463363%5D%2C%20%5B37.966606%2C%20-121.24092%5D%2C%20%5B37.002931%2C%20-121.55661299999998%5D%2C%20%5B25.966678%2C%20-80.29473%5D%2C%20%5B38.749992%2C%20-122.616225%5D%2C%20%5B40.06008%2C%20-76.32002%5D%2C%20%5B45.508674%2C%20-122.73658%5D%2C%20%5B42.56939600000001%2C%20-82.912138%5D%2C%20%5B41.689177%2C%20-72.68736%5D%2C%20%5B35.70235800000001%2C%20-78.677696%5D%2C%20%5B41.230605%2C%20-74.17813100000002%5D%2C%20%5B37.16695%2C%20-113.45176%5D%2C%20%5B33.018501%2C%20-80.216911%5D%2C%20%5B29.962899%2C%20-95.418351%5D%2C%20%5B38.872222%2C%20-121.130049%5D%2C%20%5B36.752938%2C%20-119.827103%5D%2C%20%5B37.36802%2C%20-121.89996%5D%2C%20%5B30.191640000000003%2C%20-81.69469000000002%5D%2C%20%5B38.82623%2C%20-120.02978600000002%5D%2C%20%5B34.912354%2C%20-82.316947%5D%2C%20%5B25.809446%2C%20-80.312034%5D%2C%20%5B38.71418%2C%20-90.33263%5D%2C%20%5B45.86076%2C%20-94.91432%5D%2C%20%5B39.07878%2C%20-78.2188%5D%2C%20%5B38.283324%2C%20-122.041428%5D%2C%20%5B41.81915%2C%20-87.63078%5D%2C%20%5B39.183179%2C%20-94.492775%5D%2C%20%5B33.657270000000004%2C%20-117.777632%5D%2C%20%5B27.756356%2C%20-82.673181%5D%2C%20%5B40.772829%2C%20-74.033173%5D%2C%20%5B25.521835%2C%20-80.41252800000002%5D%2C%20%5B36.54707%2C%20-119.619864%5D%2C%20%5B41.000331%2C%20-75.274469%5D%2C%20%5B25.701601%2C%20-80.28529499999998%5D%2C%20%5B45.578253%2C%20-118.624186%5D%2C%20%5B34.06782800000001%2C%20-118.031209%5D%2C%20%5B33.120669%2C%20-117.063293%5D%2C%20%5B34.421996%2C%20-81.79784599999998%5D%2C%20%5B44.678503000000006%2C%20-123.955852%5D%2C%20%5B32.766056%2C%20-96.917899%5D%2C%20%5B33.692145000000004%2C%20-117.337429%5D%2C%20%5B43.187275%2C%20-77.56093100000002%5D%2C%20%5B30.74928400000001%2C%20-85.558015%5D%2C%20%5B39.869205%2C%20-76.227577%5D%2C%20%5B29.624417%2C%20-95.564849%5D%2C%20%5B38.79831%2C%20-90.5969%5D%2C%20%5B38.960813%2C%20-92.271262%5D%2C%20%5B29.192955%2C%20-82.053508%5D%2C%20%5B25.929745%2C%20-80.125514%5D%2C%20%5B39.72503%2C%20-84.21003%5D%2C%20%5B45.70068%2C%20-120.34415%5D%2C%20%5B38.482549%2C%20-122.442542%5D%2C%20%5B38.289276%2C%20-77.531631%5D%2C%20%5B28.381197%2C%20-81.501075%5D%2C%20%5B33.554790000000004%2C%20-117.67278%5D%2C%20%5B34.137192%2C%20-117.488404%5D%2C%20%5B25.804479%2C%20-80.313047%5D%2C%20%5B40.73217%2C%20-73.91944000000002%5D%2C%20%5B27.465627%2C%20-82.575397%5D%2C%20%5B36.02029%2C%20-79.84600999999998%5D%2C%20%5B35.45999000000001%2C%20-97.58665%5D%2C%20%5B33.910918%2C%20-117.883722%5D%2C%20%5B43.90799000000001%2C%20-70.050111%5D%2C%20%5B38.772925%2C%20-76.88641899999998%5D%2C%20%5B40.849158%2C%20-111.92964%5D%2C%20%5B39.10792%2C%20-104.86479%5D%2C%20%5B39.100597%2C%20-77.213202%5D%2C%20%5B38.893321%2C%20-77.442223%5D%2C%20%5B44.76337%2C%20-94.15787%5D%2C%20%5B33.696289%2C%20-117.083316%5D%2C%20%5B41.771413%2C%20-124.217053%5D%2C%20%5B32.950948%2C%20-117.103861%5D%2C%20%5B34.29807%2C%20-117.458651%5D%2C%20%5B32.907539%2C%20-96.729608%5D%2C%20%5B41.888862%2C%20-72.652126%5D%2C%20%5B40.28524%2C%20-111.7257%5D%2C%20%5B34.687637%2C%20-80.628663%5D%2C%20%5B41.20854%2C%20-111.970742%5D%2C%20%5B36.965056%2C%20-76.413441%5D%2C%20%5B36.124097%2C%20-86.84679100000002%5D%2C%20%5B45.252532%2C%20-121.174623%5D%2C%20%5B32.499901%2C%20-93.769562%5D%2C%20%5B44.267113%2C%20-121.174117%5D%2C%20%5B38.873502%2C%20-121.131359%5D%2C%20%5B25.626078%2C%20-80.418627%5D%2C%20%5B37.326605%2C%20-77.22535500000002%5D%2C%20%5B34.606597%2C%20-79.52861700000003%5D%2C%20%5B39.607164%2C%20-84.235184%5D%2C%20%5B35.63968%2C%20-78.834223%5D%2C%20%5B44.084226%2C%20-123.046531%5D%2C%20%5B40.018194%2C%20-75.047035%5D%2C%20%5B26.01092%2C%20-80.24825799999998%5D%2C%20%5B33.75165%2C%20-84.37988%5D%2C%20%5B38.935246%2C%20-76.06236700000002%5D%2C%20%5B25.598691%2C%20-80.351045%5D%2C%20%5B41.59236%2C%20-93.6708%5D%2C%20%5B35.181090000000005%2C%20-81.327873%5D%2C%20%5B36.820964%2C%20-76.338882%5D%2C%20%5B38.86715%2C%20-77.04849%5D%2C%20%5B42.047945%2C%20-123.717922%5D%2C%20%5B26.547742%2C%20-81.87164399999997%5D%2C%20%5B45.529693%2C%20-122.665303%5D%2C%20%5B34.185562%2C%20-118.317908%5D%2C%20%5B28.37162%2C%20-81.50972%5D%2C%20%5B29.49427%2C%20-98.55453%5D%2C%20%5B34.050565%2C%20-118.214083%5D%2C%20%5B40.063802%2C%20-76.340636%5D%2C%20%5B42.38512%2C%20-83.16148000000003%5D%2C%20%5B28.146585%2C%20-80.676422%5D%2C%20%5B38.798072%2C%20-77.19865300000002%5D%2C%20%5B41.002216%2C%20-76.458854%5D%2C%20%5B25.941394%2C%20-80.188746%5D%2C%20%5B45.574072%2C%20-94.126071%5D%2C%20%5B34.039390000000004%2C%20-118.37724%5D%2C%20%5B37.11916%2C%20-121.626428%5D%2C%20%5B32.088131%2C%20-110.772846%5D%2C%20%5B40.6344%2C%20-111.89536%5D%2C%20%5B40.55813300000001%2C%20-111.890713%5D%2C%20%5B33.7107%2C%20-117.310178%5D%2C%20%5B44.324091%2C%20-121.175104%5D%2C%20%5B36.984791%2C%20-121.479631%5D%2C%20%5B32.72786%2C%20-97.59022%5D%2C%20%5B43.186998%2C%20-86.20523%5D%2C%20%5B38.48789%2C%20-121.80505%5D%2C%20%5B30.26647%2C%20-82.75058%5D%2C%20%5B36.327055%2C%20-119.364341%5D%2C%20%5B25.71377%2C%20-80.382491%5D%2C%20%5B38.85512%2C%20-76.96995%5D%2C%20%5B36.156767%2C%20-86.77534200000002%5D%2C%20%5B29.20482100000001%2C%20-81.36886899999998%5D%2C%20%5B38.870668%2C%20-76.985298%5D%2C%20%5B28.539827%2C%20-81.28999300000002%5D%2C%20%5B43.695766%2C%20-83.967471%5D%2C%20%5B31.78149%2C%20-106.41175%5D%2C%20%5B34.15592%2C%20-118.30723%5D%2C%20%5B41.569505%2C%20-72.651228%5D%2C%20%5B26.43965%2C%20-81.78036%5D%2C%20%5B34.205149%2C%20-118.200099%5D%2C%20%5B40.095831%2C%20-120.182724%5D%2C%20%5B29.65267%2C%20-98.624742%5D%2C%20%5B42.429146%2C%20-87.87648100000001%5D%2C%20%5B42.233064%2C%20-87.855213%5D%2C%20%5B25.731104%2C%20-80.367715%5D%2C%20%5B30.592616%2C%20-84.67227199999998%5D%2C%20%5B40.304925%2C%20-79.585284%5D%2C%20%5B34.581699%2C%20-118.705529%5D%2C%20%5B47.15797%2C%20-122.35176%5D%2C%20%5B41.551422%2C%20-72.745038%5D%2C%20%5B45.59679000000001%2C%20-111.075409%5D%2C%20%5B34.204729%2C%20-118.678141%5D%2C%20%5B40.651502%2C%20-74.64669%5D%2C%20%5B34.121411%2C%20-117.302547%5D%2C%20%5B37.530595%2C%20-77.429956%5D%2C%20%5B35.822608%2C%20-78.58913299999998%5D%2C%20%5B34.17128%2C%20-118.51509%5D%2C%20%5B34.192829%2C%20-117.351593%5D%2C%20%5B26.833926%2C%20-81.123111%5D%2C%20%5B39.760304%2C%20-105.005854%5D%2C%20%5B33.830015%2C%20-80.44264100000002%5D%2C%20%5B45.06440900000001%2C%20-93.222866%5D%2C%20%5B26.11231%2C%20-80.30488000000003%5D%2C%20%5B34.03652%2C%20-118.26954%5D%2C%20%5B40.820721%2C%20-96.921204%5D%2C%20%5B33.658566%2C%20-81.090998%5D%2C%20%5B37.6865%2C%20-97.26218%5D%2C%20%5B28.28048%2C%20-82.67655%5D%2C%20%5B34.207169%2C%20-112.120332%5D%2C%20%5B37.21748%2C%20-93.298546%5D%2C%20%5B40.43821%2C%20-82.44659%5D%2C%20%5B34.0389%2C%20-118.43988%5D%2C%20%5B32.761595%2C%20-117.166276%5D%2C%20%5B34.02635%2C%20-117.56704%5D%2C%20%5B33.017727%2C%20-80.161013%5D%2C%20%5B41.0822%2C%20-102.47893%5D%2C%20%5B30.53018%2C%20-87.210093%5D%2C%20%5B38.241187%2C%20-121.542423%5D%2C%20%5B33.854048%2C%20-117.892901%5D%2C%20%5B33.006129%2C%20-80.213091%5D%2C%20%5B30.156432%2C%20-97.676518%5D%2C%20%5B35.129417%2C%20-118.48613%5D%2C%20%5B39.444381%2C%20-77.398965%5D%2C%20%5B34.06387%2C%20-117.815978%5D%2C%20%5B38.929682%2C%20-122.741472%5D%2C%20%5B30.427716%2C%20-85.609442%5D%2C%20%5B42.895295%2C%20-78.76737800000002%5D%2C%20%5B32.90781%2C%20-117.22635%5D%2C%20%5B35.026115000000004%2C%20-85.28967%5D%2C%20%5B39.108883%2C%20-94.607283%5D%2C%20%5B33.917882%2C%20-118.178875%5D%2C%20%5B31.764161%2C%20-106.364608%5D%2C%20%5B38.883529%2C%20-121.143791%5D%2C%20%5B45.669661%2C%20-120.833269%5D%2C%20%5B46.81568%2C%20-123.06557%5D%2C%20%5B40.454918%2C%20-76.51649%5D%2C%20%5B33.777441%2C%20-118.035582%5D%2C%20%5B29.975436%2C%20-90.098%5D%2C%20%5B29.139135%2C%20-81.13169%5D%2C%20%5B41.99701%2C%20-83.32262%5D%2C%20%5B40.844573%2C%20-73.903002%5D%2C%20%5B32.776319%2C%20-96.624099%5D%2C%20%5B32.770338%2C%20-96.700007%5D%2C%20%5B32.236825%2C%20-80.85597%5D%2C%20%5B25.578687%2C%20-80.388909%5D%2C%20%5B34.124854%2C%20-117.509497%5D%2C%20%5B32.833866%2C%20-97.369793%5D%2C%20%5B41.342571%2C%20-72.972832%5D%2C%20%5B40.279545%2C%20-78.862545%5D%2C%20%5B26.678401%2C%20-81.79851%5D%2C%20%5B35.163381%2C%20-89.866708%5D%2C%20%5B28.545725%2C%20-81.382109%5D%2C%20%5B33.920390000000005%2C%20-84.31475999999998%5D%2C%20%5B38.911768%2C%20-78.477416%5D%2C%20%5B31.82638%2C%20-106.416728%5D%2C%20%5B33.989163%2C%20-118.284854%5D%2C%20%5B47.065943%2C%20-123.018528%5D%2C%20%5B45.067843%2C%20-123.488707%5D%2C%20%5B33.6735%2C%20-117.88608%5D%2C%20%5B46.344716%2C%20-93.937136%5D%2C%20%5B47.17023%2C%20-122.47245%5D%2C%20%5B42.236684%2C%20-88.112206%5D%2C%20%5B40.757541%2C%20-73.852418%5D%2C%20%5B34.050331%2C%20-81.12403%5D%2C%20%5B26.627907%2C%20-80.067646%5D%2C%20%5B33.91137%2C%20-118.16769%5D%2C%20%5B37.616642%2C%20-120.984294%5D%2C%20%5B33.85099%2C%20-117.81451%5D%2C%20%5B40.735131%2C%20-73.91933900000002%5D%2C%20%5B43.583632%2C%20-116.35443%5D%2C%20%5B39.986756%2C%20-78.26140600000002%5D%2C%20%5B35.62139600000001%2C%20-119.03045%5D%2C%20%5B41.702264%2C%20-87.59230500000002%5D%2C%20%5B33.92185%2C%20-118.20341%5D%2C%20%5B34.731716%2C%20-81.95138%5D%2C%20%5B44.920443%2C%20-122.98979%5D%2C%20%5B45.39679%2C%20-122.485855%5D%2C%20%5B41.87065%2C%20-87.76884%5D%2C%20%5B43.01389%2C%20-85.6759%5D%2C%20%5B43.02024%2C%20-87.91823000000002%5D%2C%20%5B42.374771%2C%20-88.002387%5D%2C%20%5B42.36129%2C%20-71.59581999999997%5D%2C%20%5B37.90394600000001%2C%20-122.516344%5D%2C%20%5B33.983086%2C%20-117.342721%5D%2C%20%5B38.137906%2C%20-121.215416%5D%2C%20%5B35.218366%2C%20-80.883601%5D%2C%20%5B44.124702%2C%20-70.007839%5D%2C%20%5B40.728399%2C%20-73.928471%5D%2C%20%5B40.085404%2C%20-82.907442%5D%2C%20%5B32.875631%2C%20-79.92665500000003%5D%2C%20%5B34.375513%2C%20-80.043754%5D%2C%20%5B28.328692%2C%20-81.648706%5D%2C%20%5B33.880151%2C%20-117.565244%5D%2C%20%5B40.632344%2C%20-111.865961%5D%2C%20%5B40.78636%2C%20-73.4483%5D%2C%20%5B28.382065%2C%20-81.404628%5D%2C%20%5B28.547743%2C%20-81.433942%5D%2C%20%5B40.71068%2C%20-74.00272%5D%2C%20%5B38.882291%2C%20-77.023026%5D%2C%20%5B33.884896000000005%2C%20-117.633462%5D%2C%20%5B39.873078%2C%20-75.101863%5D%2C%20%5B39.068857%2C%20-76.87673000000002%5D%2C%20%5B35.055795%2C%20-118.967095%5D%2C%20%5B34.141199%2C%20-80.913326%5D%2C%20%5B40.093305%2C%20-75.281972%5D%2C%20%5B35.802475%2C%20-78.589191%5D%2C%20%5B37.82691%2C%20-122.2673%5D%2C%20%5B42.26592%2C%20-83.25112%5D%2C%20%5B36.706878%2C%20-119.771765%5D%2C%20%5B33.462584%2C%20-112.056401%5D%2C%20%5B41.13775%2C%20-111.79903%5D%2C%20%5B29.923%2C%20-90.08884%5D%2C%20%5B34.315417%2C%20-118.89605%5D%2C%20%5B33.57508%2C%20-117.67168%5D%2C%20%5B38.949839%2C%20-77.008831%5D%2C%20%5B32.34149%2C%20-90.59116%5D%2C%20%5B36.121911%2C%20-86.696651%5D%2C%20%5B34.055456%2C%20-118.452016%5D%2C%20%5B38.874099%2C%20-77.454394%5D%2C%20%5B36.589311%2C%20-80.741668%5D%2C%20%5B44.82528%2C%20-93.171712%5D%2C%20%5B36.678199%2C%20-119.699916%5D%2C%20%5B32.721903999999995%2C%20-96.874231%5D%2C%20%5B37.548776%2C%20-77.432978%5D%2C%20%5B37.71168400000001%2C%20-121.085853%5D%2C%20%5B25.747129%2C%20-80.319802%5D%2C%20%5B33.92893%2C%20-118.28169%5D%2C%20%5B42.27968%2C%20-87.85091800000002%5D%2C%20%5B36.940754%2C%20-121.410922%5D%2C%20%5B39.073616%2C%20-76.93211600000002%5D%2C%20%5B41.139087%2C%20-96.002975%5D%2C%20%5B35.123870000000004%2C%20-90.025227%5D%2C%20%5B31.77287%2C%20-106.47163%5D%2C%20%5B40.72897%2C%20-73.927858%5D%2C%20%5B25.83346%2C%20-80.33800500000002%5D%2C%20%5B30.232063%2C%20-97.864549%5D%2C%20%5B41.87608%2C%20-87.66223000000002%5D%2C%20%5B45.580592%2C%20-118.635531%5D%2C%20%5B38.59990300000001%2C%20-121.504798%5D%2C%20%5B34.170247%2C%20-118.50086%5D%2C%20%5B38.661189%2C%20-121.378274%5D%2C%20%5B38.862525%2C%20-77.06900999999998%5D%2C%20%5B39.752946%2C%20-86.220055%5D%2C%20%5B38.68408400000001%2C%20-121.363766%5D%2C%20%5B39.975616%2C%20-75.590716%5D%2C%20%5B34.151008000000004%2C%20-118.152055%5D%2C%20%5B41.6217%2C%20-87.68275%5D%2C%20%5B45.082717%2C%20-93.053087%5D%2C%20%5B41.574245%2C%20-87.50199%5D%2C%20%5B38.860143%2C%20-77.436573%5D%2C%20%5B34.27272%2C%20-82.19381%5D%2C%20%5B35.581207%2C%20-87.552453%5D%2C%20%5B34.01883%2C%20-81.10584%5D%2C%20%5B42.154028%2C%20-121.86486399999998%5D%2C%20%5B42.943311%2C%20-85.667434%5D%2C%20%5B36.200835%2C%20-86.769689%5D%2C%20%5B35.398826%2C%20-79.23871%5D%2C%20%5B28.608318%2C%20-81.307926%5D%2C%20%5B45.41206%2C%20-122.57274%5D%2C%20%5B43.074299%2C%20-75.279963%5D%2C%20%5B35.844495%2C%20-78.579823%5D%2C%20%5B45.680022%2C%20-92.990749%5D%2C%20%5B40.1596%2C%20-75.88185%5D%2C%20%5B39.93268%2C%20-74.96864000000002%5D%2C%20%5B38.62916%2C%20-121.50951%5D%2C%20%5B28.04484%2C%20-82.025439%5D%2C%20%5B33.68662%2C%20-117.766%5D%2C%20%5B37.56201%2C%20-122.03671%5D%2C%20%5B44.130824%2C%20-123.050104%5D%2C%20%5B33.870699%2C%20-117.70305%5D%2C%20%5B37.346243%2C%20-76.724439%5D%2C%20%5B28.201013%2C%20-80.671424%5D%2C%20%5B30.397136%2C%20-97.735846%5D%2C%20%5B33.442801%2C%20-112.56183%5D%2C%20%5B27.89367%2C%20-82.33075%5D%2C%20%5B38.026036%2C%20-121.329731%5D%2C%20%5B27.91557%2C%20-82.72933%5D%2C%20%5B37.77304%2C%20-122.40657%5D%2C%20%5B30.26166%2C%20-81.60674%5D%2C%20%5B33.03927%2C%20-80.14321%5D%2C%20%5B37.70186%2C%20-121.90237%5D%2C%20%5B41.354317%2C%20-72.86827%5D%2C%20%5B41.121871%2C%20-112.02604%5D%2C%20%5B43.80475%2C%20-70.16971%5D%2C%20%5B35.35537%2C%20-97.53%5D%2C%20%5B43.061247%2C%20-83.684472%5D%2C%20%5B28.370696%2C%20-81.503227%5D%2C%20%5B44.109083%2C%20-122.666625%5D%2C%20%5B28.088118%2C%20-82.458614%5D%2C%20%5B38.934224%2C%20-94.684966%5D%2C%20%5B43.977583%2C%20-124.101313%5D%2C%20%5B33.8824%2C%20-79.45362%5D%2C%20%5B42.27154%2C%20-85.29085%5D%2C%20%5B27.96543%2C%20-82.43264%5D%2C%20%5B25.775459%2C%20-80.312465%5D%2C%20%5B39.78277%2C%20-86.15973100000002%5D%2C%20%5B38.49617%2C%20-121.434675%5D%2C%20%5B33.883652000000005%2C%20-117.640496%5D%2C%20%5B43.147548%2C%20-73.359178%5D%2C%20%5B39.107738%2C%20-94.485977%5D%2C%20%5B45.54659%2C%20-122.53739%5D%2C%20%5B39.43351%2C%20-76.30521999999998%5D%2C%20%5B34.02376%2C%20-117.556996%5D%2C%20%5B39.87383300000001%2C%20-75.042375%5D%2C%20%5B38.629426%2C%20-122.668282%5D%2C%20%5B38.348944%2C%20-122.721095%5D%2C%20%5B37.517547%2C%20-77.20174399999998%5D%2C%20%5B38.278146%2C%20-81.774393%5D%2C%20%5B47.752725%2C%20-122.330124%5D%2C%20%5B39.93577%2C%20-75.08634%5D%2C%20%5B37.989209%2C%20-75.830308%5D%2C%20%5B38.86587%2C%20-77.06645999999998%5D%2C%20%5B34.445912%2C%20-118.614324%5D%2C%20%5B40.530549%2C%20-111.89175%5D%2C%20%5B40.09474%2C%20-75.36290600000002%5D%2C%20%5B45.297784%2C%20-122.76908%5D%2C%20%5B47.473222%2C%20-121.751421%5D%2C%20%5B41.874%2C%20-72.6624%5D%2C%20%5B25.769876%2C%20-80.32406800000003%5D%2C%20%5B40.688986%2C%20-73.998956%5D%2C%20%5B35.226877%2C%20-80.836726%5D%2C%20%5B34.043879%2C%20-117.3127%5D%2C%20%5B38.148808%2C%20-121.26118%5D%2C%20%5B42.411853%2C%20-120.289601%5D%2C%20%5B42.22442%2C%20-83.653801%5D%2C%20%5B28.291617%2C%20-82.677104%5D%2C%20%5B37.463647%2C%20-77.500702%5D%2C%20%5B36.12496%2C%20-86.81349%5D%2C%20%5B34.054515%2C%20-118.210178%5D%2C%20%5B39.55705%2C%20-84.27569%5D%2C%20%5B25.918674%2C%20-80.39744300000002%5D%2C%20%5B34.406149%2C%20-117.396244%5D%2C%20%5B36.149536%2C%20-83.24869699999998%5D%2C%20%5B37.617617%2C%20-122.398672%5D%2C%20%5B41.89408%2C%20-72.64309%5D%2C%20%5B37.360306%2C%20-120.677572%5D%2C%20%5B36.303409%2C%20-96.001485%5D%2C%20%5B25.799306%2C%20-80.321387%5D%2C%20%5B40.88517%2C%20-74.06735%5D%2C%20%5B34.055001000000004%2C%20-117.299073%5D%2C%20%5B45.251394%2C%20-118.020189%5D%2C%20%5B45.362047%2C%20-93.949121%5D%2C%20%5B41.9066%2C%20-87.92364%5D%2C%20%5B38.833268%2C%20-77.102447%5D%2C%20%5B27.058934000000004%2C%20-80.241147%5D%2C%20%5B37.854545%2C%20-122.21711100000002%5D%2C%20%5B33.91144%2C%20-117.283179%5D%2C%20%5B44.43617%2C%20-121.93708%5D%2C%20%5B39.969282%2C%20-75.9154%5D%2C%20%5B26.06663%2C%20-80.165297%5D%2C%20%5B47.257272%2C%20-122.330349%5D%2C%20%5B35.167613%2C%20-90.018508%5D%2C%20%5B40.934342%2C%20-124.116735%5D%2C%20%5B37.330914%2C%20-120.567843%5D%2C%20%5B33.541496%2C%20-86.789164%5D%2C%20%5B37.250172%2C%20-93.26609%5D%2C%20%5B40.20418%2C%20-74.63362%5D%2C%20%5B34.03685%2C%20-118.28712%5D%2C%20%5B44.7698%2C%20-93.28846%5D%2C%20%5B40.639019%2C%20-111.90387%5D%2C%20%5B36.060974%2C%20-95.869046%5D%2C%20%5B30.264851%2C%20-81.608819%5D%2C%20%5B33.235755%2C%20-87.551242%5D%2C%20%5B41.000694%2C%20-76.462194%5D%2C%20%5B34.027858%2C%20-117.124407%5D%2C%20%5B33.825503000000005%2C%20-118.215632%5D%2C%20%5B25.627037%2C%20-80.41460699999998%5D%2C%20%5B36.20176%2C%20-121.11701%5D%2C%20%5B42.19727%2C%20-87.96994000000002%5D%2C%20%5B29.285966%2C%20-94.858462%5D%2C%20%5B41.931781%2C%20-88.034689%5D%2C%20%5B35.98097%2C%20-78.887%5D%2C%20%5B36.859441%2C%20-76.19528100000002%5D%2C%20%5B39.927524%2C%20-74.209202%5D%2C%20%5B28.657211%2C%20-81.846631%5D%2C%20%5B38.00344000000001%2C%20-122.045363%5D%2C%20%5B34.011084999999994%2C%20-118.279916%5D%2C%20%5B42.363206%2C%20-83.562279%5D%2C%20%5B34.191829%2C%20-118.943679%5D%2C%20%5B35.111872%2C%20-81.58365400000002%5D%2C%20%5B39.096344%2C%20-94.574862%5D%2C%20%5B38.223613%2C%20-122.611509%5D%2C%20%5B34.031731%2C%20-81.12108%5D%2C%20%5B33.83789%2C%20-84.32300500000002%5D%2C%20%5B25.958405%2C%20-80.29467%5D%2C%20%5B28.428422%2C%20-81.402221%5D%2C%20%5B29.736094%2C%20-95.60675%5D%2C%20%5B35.90157%2C%20-78.76595%5D%2C%20%5B29.813178000000004%2C%20-95.375086%5D%2C%20%5B39.23107%2C%20-76.65031%5D%2C%20%5B40.52675%2C%20-111.882246%5D%2C%20%5B34.024855%2C%20-117.750702%5D%2C%20%5B45.70919%2C%20-94.91797%5D%2C%20%5B35.108667%2C%20-92.432817%5D%2C%20%5B25.499538%2C%20-80.413372%5D%2C%20%5B33.112333%2C%20-117.097085%5D%2C%20%5B30.429157%2C%20-91.060899%5D%2C%20%5B38.728944%2C%20-121.285942%5D%2C%20%5B34.048171%2C%20-117.550129%5D%2C%20%5B35.179455%2C%20-80.886459%5D%2C%20%5B40.299891%2C%20-80.306095%5D%2C%20%5B45.620846%2C%20-122.66691000000002%5D%2C%20%5B39.668913%2C%20-75.60122700000002%5D%2C%20%5B33.62683%2C%20-84.41891%5D%2C%20%5B25.925121%2C%20-80.30821999999998%5D%2C%20%5B38.921374%2C%20-77.43015600000003%5D%2C%20%5B42.399506%2C%20-122.94088%5D%2C%20%5B30.383998%2C%20-97.690817%5D%2C%20%5B40.090818%2C%20-75.12618%5D%2C%20%5B28.42616%2C%20-81.40479300000001%5D%2C%20%5B45.738519%2C%20-118.602036%5D%2C%20%5B27.893901%2C%20-82.719418%5D%2C%20%5B41.83651%2C%20-87.9574%5D%2C%20%5B27.353252%2C%20-82.53849%5D%2C%20%5B47.66829%2C%20-122.32237%5D%2C%20%5B25.988148%2C%20-80.165745%5D%2C%20%5B40.132426%2C%20-77.0202%5D%2C%20%5B40.547%2C%20-104.99819%5D%2C%20%5B32.120098%2C%20-110.960808%5D%2C%20%5B39.407489%2C%20-77.388209%5D%2C%20%5B34.02962%2C%20-118.401843%5D%2C%20%5B46.642022%2C%20-112.047166%5D%2C%20%5B42.39683%2C%20-83.06831%5D%2C%20%5B37.29574%2C%20-79.95563100000003%5D%2C%20%5B38.379714%2C%20-121.242157%5D%2C%20%5B34.054952%2C%20-118.232155%5D%2C%20%5B36.06572%2C%20-119.052983%5D%2C%20%5B43.05458%2C%20-87.92519%5D%2C%20%5B41.736314%2C%20-88.034935%5D%2C%20%5B43.681015%2C%20-94.614728%5D%2C%20%5B41.20158%2C%20-80.07432%5D%2C%20%5B37.711312%2C%20-122.395505%5D%2C%20%5B39.772557%2C%20-84.172073%5D%2C%20%5B40.591617%2C%20-111.901577%5D%2C%20%5B35.71779%2C%20-78.58378%5D%2C%20%5B40.117472%2C%20-75.12686500000002%5D%2C%20%5B40.033382%2C%20-76.30485999999998%5D%2C%20%5B34.171267%2C%20-118.515003%5D%2C%20%5B40.013955%2C%20-75.722848%5D%2C%20%5B32.96479%2C%20-117.09499%5D%2C%20%5B40.71044000000001%2C%20-74.33113%5D%2C%20%5B37.671437%2C%20-122.121771%5D%2C%20%5B39.320012%2C%20-121.506795%5D%2C%20%5B33.64341%2C%20-112.23551%5D%2C%20%5B34.071825%2C%20-117.791634%5D%2C%20%5B33.645945000000005%2C%20-117.369081%5D%2C%20%5B36.065795%2C%20-118.990641%5D%2C%20%5B38.938141%2C%20-94.488226%5D%2C%20%5B34.077842%2C%20-81.15275%5D%2C%20%5B33.41083%2C%20-86.80263000000002%5D%2C%20%5B36.008988%2C%20-83.83880400000002%5D%2C%20%5B36.9533%2C%20-121.855293%5D%2C%20%5B36.15273300000001%2C%20-119.134569%5D%2C%20%5B43.027986%2C%20-78.978577%5D%2C%20%5B40.741542%2C%20-75.266228%5D%2C%20%5B37.763754%2C%20-121.967993%5D%2C%20%5B44.950153%2C%20-93.274348%5D%2C%20%5B32.165816%2C%20-81.03982099999998%5D%2C%20%5B33.90391%2C%20-117.55982%5D%2C%20%5B35.784808%2C%20-78.689075%5D%2C%20%5B42.51233%2C%20-123.36342%5D%2C%20%5B34.07388%2C%20-117.54509%5D%2C%20%5B34.945954%2C%20-92.067757%5D%2C%20%5B37.78417%2C%20-122.184195%5D%2C%20%5B34.034375%2C%20-118.349962%5D%2C%20%5B33.88469%2C%20-117.52153%5D%2C%20%5B32.759879999999995%2C%20-97.2017%5D%2C%20%5B28.449921000000003%2C%20-81.479337%5D%2C%20%5B35.796279%2C%20-83.124312%5D%2C%20%5B39.390897%2C%20-119.757793%5D%2C%20%5B40.161756%2C%20-75.119093%5D%2C%20%5B34.071532%2C%20-93.121393%5D%2C%20%5B25.74753%2C%20-80.337365%5D%2C%20%5B30.215759%2C%20-82.25753%5D%2C%20%5B37.177825%2C%20-119.764169%5D%2C%20%5B40.167271%2C%20-75.516388%5D%2C%20%5B42.49144%2C%20-83.03487%5D%2C%20%5B34.084853%2C%20-118.219347%5D%2C%20%5B39.472085%2C%20-123.363172%5D%2C%20%5B37.940494%2C%20-78.497989%5D%2C%20%5B35.23945%2C%20-80.85252%5D%2C%20%5B32.774995000000004%2C%20-96.778639%5D%2C%20%5B40.77486500000001%2C%20-74.037727%5D%2C%20%5B33.893188%2C%20-118.266451%5D%2C%20%5B33.388526%2C%20-117.227826%5D%2C%20%5B28.00331%2C%20-80.63408000000003%5D%2C%20%5B36.965603%2C%20-76.289114%5D%2C%20%5B32.08251%2C%20-82.359521%5D%2C%20%5B30.053253%2C%20-81.49749200000002%5D%2C%20%5B35.763341%2C%20-118.421834%5D%2C%20%5B43.01767%2C%20-85.69066%5D%2C%20%5B37.03752%2C%20-76.39118%5D%2C%20%5B40.68588%2C%20-122.145358%5D%2C%20%5B44.286774%2C%20-121.537268%5D%2C%20%5B37.034101%2C%20-76.346598%5D%2C%20%5B38.526359%2C%20-77.364467%5D%2C%20%5B34.162267%2C%20-81.344077%5D%2C%20%5B33.502214%2C%20-111.92556%5D%2C%20%5B36.923236%2C%20-119.793964%5D%2C%20%5B28.45164%2C%20-81.16695%5D%2C%20%5B33.85751%2C%20-118.28693%5D%2C%20%5B39.234971%2C%20-84.45057%5D%2C%20%5B38.789108%2C%20-122.566973%5D%2C%20%5B35.165118%2C%20-82.471241%5D%2C%20%5B29.689485%2C%20-82.447231%5D%2C%20%5B37.374018%2C%20-79.492081%5D%2C%20%5B33.251728%2C%20-86.799391%5D%2C%20%5B28.597623%2C%20-81.38550500000002%5D%2C%20%5B33.881170000000004%2C%20-117.88057%5D%2C%20%5B45.488473%2C%20-118.409668%5D%2C%20%5B45.62359%2C%20-121.21334%5D%2C%20%5B28.727291%2C%20-81.602009%5D%2C%20%5B39.930564%2C%20-76.774709%5D%2C%20%5B33.92575%2C%20-118.17795%5D%2C%20%5B34.021974%2C%20-118.220095%5D%2C%20%5B43.59343300000001%2C%20-116.442416%5D%2C%20%5B45.470388%2C%20-122.6859%5D%2C%20%5B35.009555%2C%20-85.668134%5D%2C%20%5B41.63026%2C%20-71.48724%5D%2C%20%5B34.31998%2C%20-117.48113%5D%2C%20%5B39.197786%2C%20-76.81774300000002%5D%2C%20%5B37.45209000000001%2C%20-122.12694%5D%2C%20%5B40.06900200000001%2C%20-76.308018%5D%2C%20%5B41.214785%2C%20-111.970597%5D%2C%20%5B41.420737%2C%20-73.955807%5D%2C%20%5B37.700887%2C%20-121.822663%5D%2C%20%5B26.647584%2C%20-81.61128599999998%5D%2C%20%5B28.682361%2C%20-80.852783%5D%2C%20%5B25.629263%2C%20-80.426585%5D%2C%20%5B34.615028%2C%20-120.085266%5D%2C%20%5B34.09555%2C%20-80.96294%5D%2C%20%5B30.441711%2C%20-84.26169%5D%2C%20%5B43.91938%2C%20-92.476505%5D%2C%20%5B38.018371%2C%20-120.395876%5D%2C%20%5B44.360992%2C%20-93.78829%5D%2C%20%5B44.398354%2C%20-123.06114%5D%2C%20%5B28.39865%2C%20-81.52585%5D%2C%20%5B42.465517%2C%20-92.495471%5D%2C%20%5B37.625181%2C%20-122.12972%5D%2C%20%5B38.439027%2C%20-81.829701%5D%2C%20%5B39.119704%2C%20-94.589238%5D%2C%20%5B27.442889%2C%20-82.50536%5D%2C%20%5B47.61946%2C%20-122.1891%5D%2C%20%5B37.54262%2C%20-77.37195%5D%2C%20%5B41.20176%2C%20-96.09473%5D%2C%20%5B39.80314%2C%20-86.03228%5D%2C%20%5B39.299956%2C%20-76.803077%5D%2C%20%5B34.224488%2C%20-118.473282%5D%2C%20%5B44.73125%2C%20-92.85249%5D%2C%20%5B33.29482%2C%20-117.45955%5D%2C%20%5B38.059946%2C%20-78.49307900000002%5D%2C%20%5B42.704929%2C%20-123.371982%5D%2C%20%5B41.8926%2C%20-87.92059%5D%2C%20%5B42.751169%2C%20-73.92829499999998%5D%2C%20%5B40.612195%2C%20-80.226362%5D%2C%20%5B28.576644%2C%20-81.451382%5D%2C%20%5B33.845776%2C%20-117.822071%5D%2C%20%5B34.011021%2C%20-118.160952%5D%2C%20%5B38.187848%2C%20-78.399518%5D%2C%20%5B34.430448%2C%20-118.588932%5D%2C%20%5B30.435454%2C%20-87.270725%5D%2C%20%5B45.366786%2C%20-122.596489%5D%2C%20%5B39.291832%2C%20-76.553827%5D%2C%20%5B34.444574%2C%20-79.368742%5D%2C%20%5B26.014923%2C%20-80.167252%5D%2C%20%5B44.093208%2C%20-91.753937%5D%2C%20%5B33.83143%2C%20-117.8346%5D%2C%20%5B35.159667%2C%20-81.918544%5D%2C%20%5B39.445668%2C%20-120.214074%5D%2C%20%5B41.39012%2C%20-88.19296%5D%2C%20%5B33.925606%2C%20-118.321377%5D%2C%20%5B36.84760900000001%2C%20-120.055854%5D%2C%20%5B38.575281%2C%20-121.5714%5D%2C%20%5B32.868875%2C%20-117.194213%5D%2C%20%5B34.10344%2C%20-117.302066%5D%2C%20%5B37.568167%2C%20-122.31118700000002%5D%2C%20%5B25.580823%2C%20-80.40566899999997%5D%2C%20%5B42.21207%2C%20-88.11166999999998%5D%2C%20%5B35.83859%2C%20-78.324662%5D%2C%20%5B38.579361%2C%20-82.012157%5D%2C%20%5B39.205282%2C%20-76.54838000000002%5D%2C%20%5B36.938322%2C%20-121.70662%5D%2C%20%5B25.840863%2C%20-80.20629%5D%2C%20%5B40.018247%2C%20-75.964096%5D%2C%20%5B38.59745%2C%20-77.314364%5D%2C%20%5B29.685805%2C%20-95.426226%5D%2C%20%5B33.457566%2C%20-112.32229%5D%2C%20%5B28.42116%2C%20-81.37144%5D%2C%20%5B28.190416%2C%20-82.378165%5D%2C%20%5B42.40635%2C%20-83.16209%5D%2C%20%5B34.272591%2C%20-109.754066%5D%2C%20%5B32.75963%2C%20-97.019682%5D%2C%20%5B35.35431%2C%20-80.856326%5D%2C%20%5B39.321761%2C%20-76.74481800000002%5D%2C%20%5B34.05165%2C%20-118.21391%5D%2C%20%5B38.170244%2C%20-86.812133%5D%2C%20%5B39.088014%2C%20-77.005137%5D%2C%20%5B37.987012%2C%20-79.179815%5D%2C%20%5B33.8463%2C%20-118.2852%5D%2C%20%5B34.811006%2C%20-92.35808%5D%2C%20%5B34.07504%2C%20-118.46846%5D%2C%20%5B37.788392%2C%20-122.198892%5D%2C%20%5B37.865351%2C%20-122.038012%5D%2C%20%5B40.019254%2C%20-75.69850699999998%5D%2C%20%5B33.721687%2C%20-80.926702%5D%2C%20%5B34.161390000000004%2C%20-118.47002%5D%2C%20%5B40.72473%2C%20-73.54666999999998%5D%2C%20%5B27.872393%2C%20-82.76225%5D%2C%20%5B25.708799%2C%20-80.284041%5D%2C%20%5B25.899253%2C%20-80.347449%5D%2C%20%5B45.142875%2C%20-93.276039%5D%2C%20%5B27.965385%2C%20-82.418088%5D%2C%20%5B34.86156%2C%20-81.00561%5D%2C%20%5B40.567023%2C%20-74.555538%5D%2C%20%5B26.66436%2C%20-80.071157%5D%2C%20%5B35.272548%2C%20-78.61582299999998%5D%2C%20%5B42.37067%2C%20-87.89309%5D%2C%20%5B40.73547%2C%20-73.85982%5D%2C%20%5B34.347021000000005%2C%20-117.476956%5D%2C%20%5B25.68584%2C%20-80.398025%5D%2C%20%5B36.851864%2C%20-119.787251%5D%2C%20%5B38.60011400000001%2C%20-121.50498799999998%5D%2C%20%5B40.643458%2C%20-74.61920699999997%5D%2C%20%5B34.113327000000005%2C%20-117.823948%5D%2C%20%5B31.739642%2C%20-106.324854%5D%2C%20%5B37.90798%2C%20-121.156819%5D%2C%20%5B25.991367%2C%20-80.166066%5D%2C%20%5B33.6514%2C%20-117.74063999999998%5D%2C%20%5B25.746604%2C%20-80.36884%5D%2C%20%5B35.404945%2C%20-119.032458%5D%2C%20%5B33.813427000000004%2C%20-118.16767%5D%2C%20%5B40.508018%2C%20-74.391549%5D%2C%20%5B30.63880300000001%2C%20-86.955107%5D%2C%20%5B40.587809%2C%20-111.92526200000002%5D%2C%20%5B43.106585%2C%20-123.534747%5D%2C%20%5B26.461095%2C%20-81.828369%5D%2C%20%5B25.913028%2C%20-80.156869%5D%2C%20%5B40.88425%2C%20-111.89223%5D%2C%20%5B34.303299%2C%20-117.462112%5D%2C%20%5B44.838079%2C%20-93.297675%5D%2C%20%5B28.57695%2C%20-81.451387%5D%2C%20%5B40.86835%2C%20-74.45576%5D%2C%20%5B38.576156%2C%20-121.415483%5D%2C%20%5B35.199168%2C%20-82.484872%5D%2C%20%5B40.608154%2C%20-111.905605%5D%2C%20%5B25.730978%2C%20-80.384355%5D%2C%20%5B40.25956%2C%20-78.849638%5D%2C%20%5B34.622285999999995%2C%20-89.951645%5D%2C%20%5B40.6894%2C%20-73.62921%5D%2C%20%5B25.889368%2C%20-80.206795%5D%2C%20%5B34.0886%2C%20-118.47545%5D%2C%20%5B41.117838%2C%20-79.19600799999998%5D%2C%20%5B40.72414000000001%2C%20-111.93103899999998%5D%2C%20%5B30.361131%2C%20-97.698111%5D%2C%20%5B29.30795%2C%20-98.394337%5D%2C%20%5B37.826488%2C%20-121.253072%5D%2C%20%5B27.361024%2C%20-80.377426%5D%2C%20%5B37.68398%2C%20-122.129803%5D%2C%20%5B36.985593%2C%20-79.835821%5D%2C%20%5B40.769437%2C%20-111.939327%5D%2C%20%5B38.605066%2C%20-77.310158%5D%2C%20%5B41.28806%2C%20-72.53188%5D%2C%20%5B25.946178%2C%20-80.205325%5D%2C%20%5B37.128422%2C%20-121.030937%5D%2C%20%5B41.255811%2C%20-72.996321%5D%2C%20%5B45.657624%2C%20-109.3058%5D%2C%20%5B29.48685%2C%20-95.39782%5D%2C%20%5B33.996687%2C%20-79.931463%5D%2C%20%5B47.20065%2C%20-122.46157%5D%2C%20%5B32.96802%2C%20-80.000473%5D%2C%20%5B34.150156%2C%20-118.073495%5D%2C%20%5B33.959759000000005%2C%20-118.114539%5D%2C%20%5B34.072444%2C%20-118.070604%5D%2C%20%5B35.01918%2C%20-85.27155%5D%2C%20%5B33.664039%2C%20-117.800559%5D%2C%20%5B29.707937%2C%20-95.393911%5D%2C%20%5B34.018441%2C%20-118.28006299999998%5D%2C%20%5B41.31577100000001%2C%20-72.906399%5D%2C%20%5B36.17804%2C%20-86.764%5D%2C%20%5B43.39371%2C%20-71.99001%5D%2C%20%5B37.315931%2C%20-121.82927%5D%2C%20%5B25.749454%2C%20-80.335813%5D%2C%20%5B39.15607%2C%20-76.83154%5D%2C%20%5B33.957967%2C%20-118.282707%5D%2C%20%5B37.704797%2C%20-121.07569%5D%2C%20%5B38.388735%2C%20-75.06343299999997%5D%2C%20%5B35.560733%2C%20-78.33091%5D%2C%20%5B34.268267%2C%20-80.567382%5D%2C%20%5B29.73175800000001%2C%20-95.390551%5D%2C%20%5B39.02257%2C%20-84.48631%5D%2C%20%5B42.345532%2C%20-83.111631%5D%2C%20%5B38.35855%2C%20-121.82304%5D%2C%20%5B33.64914%2C%20-84.36925%5D%2C%20%5B32.711240000000004%2C%20-97.22985%5D%2C%20%5B34.028903%2C%20-118.20221%5D%2C%20%5B34.05547%2C%20-118.21169%5D%2C%20%5B25.762697%2C%20-80.291893%5D%2C%20%5B37.70350300000001%2C%20-120.93997%5D%2C%20%5B32.575841%2C%20-90.073163%5D%2C%20%5B37.256487%2C%20-77.357268%5D%2C%20%5B42.198486%2C%20-95.861958%5D%2C%20%5B45.49834%2C%20-122.7907%5D%2C%20%5B43.93158%2C%20-94.92654%5D%2C%20%5B35.4158%2C%20-88.36764000000002%5D%2C%20%5B28.569012%2C%20-81.24560600000002%5D%2C%20%5B47.190452%2C%20-114.886747%5D%2C%20%5B34.030438000000004%2C%20-117.581799%5D%2C%20%5B43.122053%2C%20-75.59490600000002%5D%2C%20%5B28.502663%2C%20-81.399002%5D%2C%20%5B36.779324%2C%20-120.725338%5D%2C%20%5B33.353466999999995%2C%20-84.913676%5D%2C%20%5B40.42003%2C%20-80.0351%5D%2C%20%5B33.980259999999994%2C%20-117.36959%5D%2C%20%5B30.346866%2C%20-97.711104%5D%2C%20%5B36.790486%2C%20-76.66452199999998%5D%2C%20%5B34.191084000000004%2C%20-119.194898%5D%2C%20%5B39.70401%2C%20-77.741648%5D%2C%20%5B25.989091%2C%20-80.16596899999998%5D%2C%20%5B34.139667%2C%20-80.917701%5D%2C%20%5B44.9316%2C%20-122.99015%5D%2C%20%5B41.81535%2C%20-87.95053%5D%2C%20%5B38.877938%2C%20-77.120648%5D%2C%20%5B38.22837%2C%20-122.083825%5D%2C%20%5B33.846022999999995%2C%20-118.220451%5D%2C%20%5B35.842029%2C%20-78.575317%5D%2C%20%5B28.47902%2C%20-81.44962%5D%2C%20%5B34.903372999999995%2C%20-82.613398%5D%2C%20%5B26.374365%2C%20-80.116478%5D%2C%20%5B30.314813%2C%20-81.669162%5D%2C%20%5B32.950423%2C%20-96.778683%5D%2C%20%5B41.770287%2C%20-72.682253%5D%2C%20%5B39.194218%2C%20-119.775422%5D%2C%20%5B30.394786%2C%20-91.081843%5D%2C%20%5B40.21959%2C%20-76.78733000000003%5D%2C%20%5B38.8004%2C%20-77.16608000000002%5D%2C%20%5B39.46073%2C%20-77.402648%5D%2C%20%5B39.014816%2C%20-77.03264300000002%5D%2C%20%5B38.54825%2C%20-90.28797%5D%2C%20%5B39.765858%2C%20-75.046178%5D%2C%20%5B39.191824%2C%20-85.958842%5D%2C%20%5B32.071698%2C%20-81.155673%5D%2C%20%5B37.060632%2C%20-121.581031%5D%2C%20%5B40.76207700000001%2C%20-73.729262%5D%2C%20%5B25.673971%2C%20-80.384242%5D%2C%20%5B46.997759%2C%20-123.501889%5D%2C%20%5B36.155212%2C%20-95.89457%5D%2C%20%5B40.06509000000001%2C%20-75.58797%5D%2C%20%5B34.04603%2C%20-118.208278%5D%2C%20%5B33.98495%2C%20-118.072375%5D%2C%20%5B37.64018%2C%20-77.42423000000002%5D%2C%20%5B40.255097%2C%20-77.66950899999998%5D%2C%20%5B37.816062%2C%20-121.29393799999998%5D%2C%20%5B28.050086%2C%20-82.73871899999997%5D%2C%20%5B27.949938%2C%20-82.34907199999998%5D%2C%20%5B40.862413%2C%20-74.40629100000002%5D%2C%20%5B39.12879%2C%20-84.57724%5D%2C%20%5B34.025117%2C%20-117.73146%5D%2C%20%5B34.043122%2C%20-117.550438%5D%2C%20%5B34.13763%2C%20-118.362925%5D%2C%20%5B26.41679%2C%20-80.08977%5D%2C%20%5B25.769999%2C%20-80.31487%5D%2C%20%5B32.221634%2C%20-110.90791000000002%5D%2C%20%5B39.77506%2C%20-104.85718%5D%2C%20%5B39.367994%2C%20-119.763368%5D%2C%20%5B36.060976%2C%20-95.855086%5D%2C%20%5B38.684202%2C%20-121.952115%5D%2C%20%5B33.141026000000004%2C%20-117.1855%5D%2C%20%5B33.92462800000001%2C%20-117.944831%5D%2C%20%5B45.03591%2C%20-92.86305%5D%2C%20%5B26.18247%2C%20-80.15279%5D%2C%20%5B34.166239000000004%2C%20-118.837913%5D%2C%20%5B36.149723%2C%20-86.799993%5D%2C%20%5B29.987312%2C%20-95.343151%5D%2C%20%5B36.140601%2C%20-86.732024%5D%2C%20%5B25.626882%2C%20-80.391092%5D%2C%20%5B37.834485%2C%20-121.25431%5D%2C%20%5B36.882487%2C%20-121.561456%5D%2C%20%5B41.57786%2C%20-87.553823%5D%2C%20%5B42.21361%2C%20-71.78313%5D%2C%20%5B34.067699%2C%20-117.593231%5D%2C%20%5B29.356123%2C%20-82.22184%5D%2C%20%5B29.69881%2C%20-95.15356%5D%2C%20%5B33.931015%2C%20-118.300299%5D%2C%20%5B39.499894%2C%20-76.264675%5D%2C%20%5B37.679425%2C%20-77.45076999999998%5D%2C%20%5B40.72572%2C%20-112.02122%5D%2C%20%5B34.134687%2C%20-117.640747%5D%2C%20%5B35.79874500000001%2C%20-78.74203299999998%5D%2C%20%5B30.598086%2C%20-86.110452%5D%2C%20%5B39.088344%2C%20-77.51979399999998%5D%2C%20%5B42.288607%2C%20-123.231715%5D%2C%20%5B35.540476%2C%20-80.860324%5D%2C%20%5B38.522709000000006%2C%20-121.52156%5D%2C%20%5B35.4394%2C%20-97.53015%5D%2C%20%5B44.43422%2C%20-93.29266%5D%2C%20%5B34.044095%2C%20-118.169183%5D%2C%20%5B37.73153%2C%20-122.442017%5D%2C%20%5B33.745601%2C%20-117.833041%5D%2C%20%5B29.973167%2C%20-90.059117%5D%2C%20%5B40.796511%2C%20-73.92169200000002%5D%2C%20%5B36.79863%2C%20-121.664968%5D%2C%20%5B40.51334%2C%20-74.379177%5D%2C%20%5B42.687542%2C%20-73.717198%5D%2C%20%5B39.126681%2C%20-94.49771%5D%2C%20%5B33.405051%2C%20-112.047159%5D%2C%20%5B34.079355%2C%20-118.227248%5D%2C%20%5B38.255306%2C%20-121.25208%5D%2C%20%5B28.567542%2C%20-81.286006%5D%2C%20%5B33.925270000000005%2C%20-117.880283%5D%2C%20%5B36.61281%2C%20-121.56692%5D%2C%20%5B35.112839%2C%20-85.133691%5D%2C%20%5B28.513387%2C%20-81.4012%5D%2C%20%5B37.54923%2C%20-77.47752%5D%2C%20%5B38.12912%2C%20-122.226576%5D%2C%20%5B44.238747%2C%20-95.648359%5D%2C%20%5B36.829785%2C%20-80.851564%5D%2C%20%5B38.553615%2C%20-121.474233%5D%2C%20%5B38.880909%2C%20-122.448246%5D%2C%20%5B33.88469%2C%20-117.52153%5D%2C%20%5B40.085939%2C%20-75.211513%5D%2C%20%5B41.70445%2C%20-87.79032%5D%2C%20%5B37.256051%2C%20-121.870527%5D%2C%20%5B38.831228%2C%20-77.369101%5D%2C%20%5B36.15179000000001%2C%20-86.7712%5D%2C%20%5B37.543408%2C%20-77.554373%5D%2C%20%5B25.939192%2C%20-80.192797%5D%2C%20%5B26.533422%2C%20-80.17274599999998%5D%2C%20%5B32.785371999999995%2C%20-117.145456%5D%2C%20%5B34.037025%2C%20-118.309067%5D%2C%20%5B28.43218%2C%20-80.768251%5D%2C%20%5B29.78447%2C%20-95.58767%5D%2C%20%5B38.874166%2C%20-76.96933100000003%5D%2C%20%5B37.966588%2C%20-122.316757%5D%2C%20%5B40.847269%2C%20-111.91445%5D%2C%20%5B41.29986%2C%20-73.88643%5D%2C%20%5B30.309016%2C%20-81.848876%5D%2C%20%5B30.317109%2C%20-81.734049%5D%2C%20%5B33.591429999999995%2C%20-86.15779%5D%2C%20%5B32.737547%2C%20-97.32033%5D%2C%20%5B37.70169%2C%20-121.88288%5D%2C%20%5B33.461477%2C%20-112.775669%5D%2C%20%5B37.60362%2C%20-122.06459%5D%2C%20%5B34.077883%2C%20-117.200828%5D%2C%20%5B38.866088%2C%20-77.050676%5D%2C%20%5B36.819609%2C%20-119.785209%5D%2C%20%5B40.987275%2C%20-73.68050600000002%5D%2C%20%5B34.161748%2C%20-117.330817%5D%2C%20%5B45.824877%2C%20-108.39829%5D%2C%20%5B33.454143%2C%20-112.10825%5D%2C%20%5B32.286453%2C%20-90.217575%5D%2C%20%5B29.973825%2C%20-95.421012%5D%2C%20%5B35.849659%2C%20-78.58235400000002%5D%2C%20%5B25.615799%2C%20-80.535332%5D%2C%20%5B38.917999%2C%20-76.94319200000002%5D%2C%20%5B42.215065%2C%20-124.374015%5D%2C%20%5B38.5412%2C%20-90.41925%5D%2C%20%5B40.080724%2C%20-75.125812%5D%2C%20%5B26.633516%2C%20-80.06794000000002%5D%2C%20%5B30.303641%2C%20-97.739739%5D%2C%20%5B37.773433%2C%20-76.367721%5D%2C%20%5B44.93033%2C%20-93.34991%5D%2C%20%5B35.34256%2C%20-118.985453%5D%2C%20%5B42.912675%2C%20-85.631787%5D%2C%20%5B37.64427%2C%20-122.40611%5D%2C%20%5B39.462465%2C%20-76.65884%5D%2C%20%5B33.6987%2C%20-117.861755%5D%2C%20%5B30.466897%2C%20-91.063326%5D%2C%20%5B30.679598%2C%20-81.921748%5D%2C%20%5B32.676140000000004%2C%20-97.01409%5D%2C%20%5B33.85345%2C%20-118.28046%5D%2C%20%5B46.21548%2C%20-123.86201%5D%2C%20%5B37.558576%2C%20-77.45153499999998%5D%2C%20%5B42.35732%2C%20-87.87368000000002%5D%2C%20%5B31.800490000000003%2C%20-106.44142%5D%2C%20%5B41.872678%2C%20-87.796124%5D%2C%20%5B29.705672%2C%20-95.480476%5D%2C%20%5B33.104851000000004%2C%20-117.092683%5D%2C%20%5B36.829093%2C%20-121.733005%5D%2C%20%5B41.818215%2C%20-71.396928%5D%2C%20%5B34.036084%2C%20-118.321241%5D%2C%20%5B33.060164%2C%20-117.290911%5D%2C%20%5B37.540251%2C%20-120.895754%5D%2C%20%5B34.152017%2C%20-118.128161%5D%2C%20%5B38.562354%2C%20-121.49501399999998%5D%2C%20%5B29.785056%2C%20-95.541497%5D%2C%20%5B41.578253%2C%20-87.669946%5D%2C%20%5B33.74309%2C%20-84.38778%5D%2C%20%5B40.51755%2C%20-79.47606%5D%2C%20%5B33.686796%2C%20-78.95711999999997%5D%2C%20%5B28.248006%2C%20-82.685612%5D%2C%20%5B45.531903%2C%20-122.633074%5D%2C%20%5B32.758325%2C%20-117.203803%5D%2C%20%5B44.89873%2C%20-93.134053%5D%2C%20%5B28.067024%2C%20-82.4511%5D%2C%20%5B26.048285%2C%20-80.16249499999998%5D%2C%20%5B25.844677%2C%20-80.225339%5D%2C%20%5B36.472753%2C%20-86.68038%5D%2C%20%5B28.427064%2C%20-81.40480500000002%5D%2C%20%5B40.9912%2C%20-73.67699%5D%2C%20%5B27.95558%2C%20-82.49075%5D%2C%20%5B40.295464%2C%20-76.67670799999998%5D%2C%20%5B37.702625%2C%20-121.752886%5D%2C%20%5B33.294034%2C%20-117.191431%5D%2C%20%5B35.040764%2C%20-85.185265%5D%2C%20%5B45.501276%2C%20-123.858839%5D%2C%20%5B33.386967%2C%20-111.959841%5D%2C%20%5B28.48847%2C%20-81.396714%5D%2C%20%5B33.861065999999994%2C%20-118.284756%5D%2C%20%5B34.045756%2C%20-81.078354%5D%2C%20%5B33.553617%2C%20-117.63015%5D%2C%20%5B30.244278%2C%20-97.765101%5D%2C%20%5B33.853758%2C%20-117.924162%5D%2C%20%5B38.978707%2C%20-76.991089%5D%2C%20%5B34.041757000000004%2C%20-118.567637%5D%2C%20%5B35.054594%2C%20-81.992393%5D%2C%20%5B27.76027%2C%20-82.765876%5D%2C%20%5B29.930426%2C%20-90.038133%5D%2C%20%5B38.474338%2C%20-121.415727%5D%2C%20%5B40.42469000000001%2C%20-111.88402%5D%2C%20%5B34.820914%2C%20-82.256421%5D%2C%20%5B36.118422%2C%20-86.84159100000002%5D%2C%20%5B33.913284000000004%2C%20-118.127713%5D%2C%20%5B41.24471%2C%20-112.010302%5D%2C%20%5B46.823826%2C%20-113.94896%5D%2C%20%5B39.367423%2C%20-77.19626600000002%5D%2C%20%5B41.300407%2C%20-72.906249%5D%2C%20%5B39.6298%2C%20-104.90516%5D%2C%20%5B37.14387%2C%20-121.9848%5D%2C%20%5B40.6979%2C%20-112.26008%5D%2C%20%5B37.931023%2C%20-121.233579%5D%2C%20%5B42.48893%2C%20-96.405334%5D%2C%20%5B25.724051%2C%20-80.399879%5D%2C%20%5B29.94887%2C%20-95.41705%5D%2C%20%5B33.103629999999995%2C%20-117.09195%5D%2C%20%5B44.859593%2C%20-93.386282%5D%2C%20%5B34.027452000000004%2C%20-118.274482%5D%2C%20%5B28.56106%2C%20-81.55933%5D%2C%20%5B40.23871%2C%20-78.90043299999998%5D%2C%20%5B39.779504%2C%20-84.23821099999998%5D%2C%20%5B34.106735%2C%20-117.884571%5D%2C%20%5B42.47398%2C%20-83.43199%5D%2C%20%5B33.923342%2C%20-118.103681%5D%2C%20%5B33.921671999999994%2C%20-117.288457%5D%2C%20%5B35.422918%2C%20-80.670089%5D%2C%20%5B45.21221%2C%20-123.10578999999998%5D%2C%20%5B25.63056700000001%2C%20-80.50375%5D%2C%20%5B25.811613%2C%20-80.313412%5D%2C%20%5B28.452287%2C%20-81.47081800000002%5D%2C%20%5B34.904090000000004%2C%20-92.086795%5D%2C%20%5B40.20976%2C%20-76.03009%5D%2C%20%5B39.885439%2C%20-104.98767%5D%2C%20%5B38.673385%2C%20-121.624207%5D%2C%20%5B32.74921%2C%20-117.19558%5D%2C%20%5B33.337449%2C%20-81.789687%5D%2C%20%5B42.5035%2C%20-122.904015%5D%2C%20%5B40.54142%2C%20-74.36584%5D%2C%20%5B45.49446%2C%20-122.8263%5D%2C%20%5B25.684604%2C%20-80.400559%5D%2C%20%5B34.099119%2C%20-117.511556%5D%2C%20%5B45.28437%2C%20-121.681348%5D%2C%20%5B39.180441%2C%20-94.492815%5D%2C%20%5B26.103848%2C%20-80.270308%5D%2C%20%5B44.862%2C%20-93.51128%5D%2C%20%5B42.723101%2C%20-123.372421%5D%2C%20%5B25.942347%2C%20-80.261483%5D%2C%20%5B43.70117%2C%20-124.08701%5D%2C%20%5B34.05801%2C%20-118.24418%5D%2C%20%5B30.648372%2C%20-87.716245%5D%2C%20%5B27.515551%2C%20-82.502668%5D%2C%20%5B38.431789%2C%20-81.52991%5D%2C%20%5B44.38487%2C%20-92.82365%5D%2C%20%5B34.213769%2C%20-117.114969%5D%2C%20%5B25.578347%2C%20-80.369697%5D%2C%20%5B29.721181%2C%20-95.523713%5D%2C%20%5B34.839201%2C%20-92.161215%5D%2C%20%5B46.98073%2C%20-94.808241%5D%2C%20%5B30.443201%2C%20-91.152276%5D%2C%20%5B37.142397%2C%20-121.98511%5D%2C%20%5B32.1341%2C%20-110.9177%5D%2C%20%5B25.768418%2C%20-80.370356%5D%2C%20%5B34.472876%2C%20-119.777015%5D%2C%20%5B35.261931%2C%20-80.880942%5D%2C%20%5B25.627612%2C%20-80.491623%5D%2C%20%5B44.408531%2C%20-122.00306%5D%2C%20%5B34.143529%2C%20-118.471175%5D%2C%20%5B30.528696000000004%2C%20-87.249842%5D%2C%20%5B33.98346%2C%20-117.366563%5D%2C%20%5B33.513005%2C%20-86.82194399999999%5D%2C%20%5B47.73788%2C%20-121.98712%5D%2C%20%5B37.107651%2C%20-122.110553%5D%2C%20%5B32.893094%2C%20-96.89794%5D%2C%20%5B37.69092%2C%20-122.078427%5D%2C%20%5B44.85829%2C%20-93.53638%5D%2C%20%5B33.985358000000005%2C%20-81.055363%5D%2C%20%5B34.003569%2C%20-117.830784%5D%2C%20%5B30.004602%2C%20-90.026881%5D%2C%20%5B25.925341%2C%20-80.153943%5D%2C%20%5B40.743146%2C%20-73.28004%5D%2C%20%5B29.148434%2C%20-81.071559%5D%2C%20%5B45.12267%2C%20-95.03876%5D%2C%20%5B41.30928%2C%20-72.91463%5D%2C%20%5B29.955908%2C%20-90.07092800000002%5D%2C%20%5B25.93889%2C%20-80.204922%5D%2C%20%5B25.695976%2C%20-80.351479%5D%2C%20%5B35.049277000000004%2C%20-119.90345%5D%2C%20%5B34.02491%2C%20-117.334674%5D%2C%20%5B37.025469%2C%20-120.092211%5D%2C%20%5B43.666158%2C%20-94.277554%5D%2C%20%5B38.381877%2C%20-76.625658%5D%2C%20%5B34.018157%2C%20-117.535004%5D%2C%20%5B38.25527%2C%20-122.0652%5D%2C%20%5B28.486758%2C%20-81.42279599999998%5D%2C%20%5B25.768632%2C%20-80.366883%5D%2C%20%5B36.30138%2C%20-119.3875%5D%2C%20%5B45.509237%2C%20-122.667113%5D%2C%20%5B37.442933%2C%20-77.425742%5D%2C%20%5B38.575966%2C%20-121.329481%5D%2C%20%5B37.678876%2C%20-97.338219%5D%2C%20%5B45.508401%2C%20-122.778206%5D%2C%20%5B34.1607%2C%20-118.38095%5D%2C%20%5B48.420513%2C%20-122.334555%5D%2C%20%5B33.91304%2C%20-118.1254%5D%2C%20%5B37.0725%2C%20-121.210556%5D%2C%20%5B42.06948%2C%20-122.60323%5D%2C%20%5B39.7873%2C%20-104.98933999999998%5D%2C%20%5B42.43055%2C%20-123.06462%5D%2C%20%5B35.77455%2C%20-83.092839%5D%2C%20%5B42.760656%2C%20-73.756668%5D%2C%20%5B36.61919%2C%20-119.790858%5D%2C%20%5B30.507756%2C%20-85.119742%5D%2C%20%5B37.57835%2C%20-120.941637%5D%2C%20%5B34.067642%2C%20-117.57628%5D%2C%20%5B38.57874%2C%20-121.46472%5D%2C%20%5B33.06264%2C%20-117.06878%5D%2C%20%5B33.098598%2C%20-86.738423%5D%2C%20%5B34.031872%2C%20-118.422032%5D%2C%20%5B28.410848%2C%20-82.47456%5D%2C%20%5B41.317886%2C%20-73.859753%5D%2C%20%5B45.566509%2C%20-122.894359%5D%2C%20%5B34.696275%2C%20-82.50310999999998%5D%2C%20%5B42.715859%2C%20-84.399565%5D%2C%20%5B32.20637%2C%20-110.82447%5D%2C%20%5B33.879628000000004%2C%20-118.082292%5D%2C%20%5B44.96491%2C%20-93.28318%5D%2C%20%5B32.693302%2C%20-96.631363%5D%2C%20%5B45.61295%2C%20-122.67813999999998%5D%2C%20%5B33.509571%2C%20-112.112329%5D%2C%20%5B25.92659200000001%2C%20-80.29333299999998%5D%2C%20%5B40.113636%2C%20-75.327322%5D%2C%20%5B33.871691%2C%20-118.100671%5D%2C%20%5B25.819235%2C%20-80.248746%5D%2C%20%5B30.41446%2C%20-91.10987%5D%2C%20%5B39.08673%2C%20-94.54109%5D%2C%20%5B37.656331%2C%20-122.101118%5D%2C%20%5B33.871908000000005%2C%20-117.687093%5D%2C%20%5B25.968813%2C%20-80.165675%5D%2C%20%5B28.526606%2C%20-81.472585%5D%2C%20%5B40.730374%2C%20-73.36446600000002%5D%2C%20%5B44.83231%2C%20-93.1651%5D%2C%20%5B42.153876%2C%20-88.058131%5D%2C%20%5B38.513806%2C%20-119.460354%5D%2C%20%5B35.153149%2C%20-90.05653000000002%5D%2C%20%5B35.129187%2C%20-85.243368%5D%2C%20%5B39.041326%2C%20-77.520206%5D%2C%20%5B34.30836%2C%20-117.470551%5D%2C%20%5B39.127045%2C%20-121.579875%5D%2C%20%5B32.301501%2C%20-111.028914%5D%2C%20%5B33.932598%2C%20-117.410465%5D%2C%20%5B45.629814%2C%20-108.403033%5D%2C%20%5B33.780731%2C%20-84.391209%5D%2C%20%5B29.57787%2C%20-98.59542%5D%2C%20%5B40.068177%2C%20-76.300431%5D%2C%20%5B30.382776%2C%20-81.67276700000002%5D%2C%20%5B40.317997%2C%20-75.333807%5D%2C%20%5B36.96386%2C%20-80.85339%5D%2C%20%5B41.049294%2C%20-80.439295%5D%2C%20%5B27.57833%2C%20-82.565989%5D%2C%20%5B33.538291%2C%20-112.201135%5D%2C%20%5B41.070102%2C%20-122.359424%5D%2C%20%5B42.193457%2C%20-83.241111%5D%5D%2C%0A%20%20%20%20%20%20%20%20%20%20%20%20%20%20%20%20%7B%0A%20%20%20%20%20%20%20%20%20%20%20%20%20%20%20%20%20%20%20%20minOpacity%3A%200.5%2C%0A%20%20%20%20%20%20%20%20%20%20%20%20%20%20%20%20%20%20%20%20maxZoom%3A%2018%2C%0A%20%20%20%20%20%20%20%20%20%20%20%20%20%20%20%20%20%20%20%20max%3A%201.0%2C%0A%20%20%20%20%20%20%20%20%20%20%20%20%20%20%20%20%20%20%20%20radius%3A%2025%2C%0A%20%20%20%20%20%20%20%20%20%20%20%20%20%20%20%20%20%20%20%20blur%3A%2015%2C%0A%20%20%20%20%20%20%20%20%20%20%20%20%20%20%20%20%20%20%20%20gradient%3A%20null%0A%20%20%20%20%20%20%20%20%20%20%20%20%20%20%20%20%20%20%20%20%7D%29%0A%20%20%20%20%20%20%20%20%20%20%20%20%20%20%20%20.addTo%28map_129e1e07563c4662a3aa571b688accfe%29%3B%0A%20%20%20%20%20%20%20%20%0A%3C/script%3E onload=\"this.contentDocument.open();this.contentDocument.write(    decodeURIComponent(this.getAttribute('data-html')));this.contentDocument.close();\" allowfullscreen webkitallowfullscreen mozallowfullscreen></iframe></div></div>"
            ]
          },
          "metadata": {},
          "execution_count": 46
        }
      ]
    },
    {
      "cell_type": "code",
      "source": [
        ""
      ],
      "metadata": {
        "id": "KZyElER5TlrT"
      },
      "execution_count": 46,
      "outputs": []
    },
    {
      "cell_type": "code",
      "source": [
        ""
      ],
      "metadata": {
        "id": "3qntlGH6TK2-"
      },
      "execution_count": 46,
      "outputs": []
    },
    {
      "cell_type": "code",
      "source": [
        ""
      ],
      "metadata": {
        "id": "9aX8nxVp87q1"
      },
      "execution_count": 46,
      "outputs": []
    },
    {
      "cell_type": "markdown",
      "metadata": {
        "id": "WtJl-gEPI6N2"
      },
      "source": [
        "## Ask & Questions\n",
        "\n",
        "1. Are there more accidents in warmer or colder areas?\n",
        "2. Which 5 states has the highest number of accidents? How about per capita?\n",
        "3. Does New York ahop up in the data? If yes, why is the count lower if this the most populated city.\n",
        "4. Among the top 100 cities in number of accidents, which states do they belong to most frequently.\n",
        "5. What time of the day are accidents most frequent in? - ANSWERED\n",
        "6. Which days of the week have the most accidents?\n",
        "7. Which months have the most accidents?\n",
        "8. What is the trend of accidents yoer over year (decreasing/increasing?)\n",
        "9. When is accident per unit the highest? \n"
      ]
    },
    {
      "cell_type": "code",
      "execution_count": 46,
      "metadata": {
        "id": "P0Y4gnC5I5lE"
      },
      "outputs": [],
      "source": [
        ""
      ]
    },
    {
      "cell_type": "code",
      "execution_count": 46,
      "metadata": {
        "id": "wbNnpo7PI5mC"
      },
      "outputs": [],
      "source": [
        ""
      ]
    },
    {
      "cell_type": "code",
      "execution_count": 46,
      "metadata": {
        "id": "K4moRxdfI5oI"
      },
      "outputs": [],
      "source": [
        ""
      ]
    },
    {
      "cell_type": "code",
      "execution_count": 46,
      "metadata": {
        "id": "51nIMEeiIirl"
      },
      "outputs": [],
      "source": [
        ""
      ]
    },
    {
      "cell_type": "markdown",
      "source": [
        "## Summary and Conclusion \n",
        "\n",
        "Insights:\n",
        "- No data for New York.\n",
        "- The number of accodents per city decreases  exponentialy.\n",
        "- Less then 5% of cities have more than 1000 yearly accidents.\n",
        "- Over 1200 cities have reported just one accident (need to investigate)."
      ],
      "metadata": {
        "id": "oAjUdjyl8ulC"
      }
    }
  ],
  "metadata": {
    "colab": {
      "collapsed_sections": [],
      "name": "us-accidents-analysis.ipynb",
      "provenance": [],
      "include_colab_link": true
    },
    "kernelspec": {
      "display_name": "Python 3",
      "language": "python",
      "name": "python3"
    },
    "language_info": {
      "codemirror_mode": {
        "name": "ipython",
        "version": 3
      },
      "file_extension": ".py",
      "mimetype": "text/x-python",
      "name": "python",
      "nbconvert_exporter": "python",
      "pygments_lexer": "ipython3",
      "version": "3.7.6"
    }
  },
  "nbformat": 4,
  "nbformat_minor": 0
}