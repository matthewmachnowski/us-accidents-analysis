{
  "cells": [
    {
      "cell_type": "markdown",
      "metadata": {
        "id": "view-in-github",
        "colab_type": "text"
      },
      "source": [
        "<a href=\"https://colab.research.google.com/github/matthewmachnowski/us-accidents-analysis/blob/main/us_accidents_analysis.ipynb\" target=\"_parent\"><img src=\"https://colab.research.google.com/assets/colab-badge.svg\" alt=\"Open In Colab\"/></a>"
      ]
    },
    {
      "cell_type": "markdown",
      "metadata": {
        "id": "OWweIPA6IE4F"
      },
      "source": [
        "# US Accidents Exploratory Data Analysis\n",
        "\n",
        "## Information \n",
        "This is a countrywide car accident dataset, which covers 49 states of the USA. The accident data are collected from February 2016 to Dec 2021, using multiple APIs that provide streaming traffic incident (or event) data. Currently, there are about 2.8 million accident records in this dataset.\n",
        "\n",
        "## Acknowledgements\n",
        "- Moosavi, Sobhan, Mohammad Hossein Samavatian, Srinivasan Parthasarathy, and Rajiv Ramnath. “A Countrywide Traffic Accident Dataset.”, 2019.\n",
        "\n",
        "- Moosavi, Sobhan, Mohammad Hossein Samavatian, Srinivasan Parthasarathy, Radu Teodorescu, and Rajiv Ramnath. \"Accident Risk Prediction based on Heterogeneous Sparse Data: New Dataset and Insights.\" In proceedings of the 27th ACM SIGSPATIAL International Conference on Advances in Geographic Information Systems, ACM, 2019.\n",
        "\n",
        "\n"
      ]
    },
    {
      "cell_type": "markdown",
      "source": [
        "TODO - talk about EDA\n",
        "\n",
        "TODO - talk about the dataset (sourse, what it contains, how it will be useful)\n",
        "  - Kaggle\n",
        "  - information about accidents \n",
        "  - can use useful to prevent accidents\n",
        "  - mention that this does not contain data about New York"
      ],
      "metadata": {
        "id": "kA2OE3R5MK7q"
      }
    },
    {
      "cell_type": "code",
      "source": [
        "!pip install \"jupyterlab>=3\" \"ipywidgets>=7.6\" --quiet"
      ],
      "metadata": {
        "id": "Wa1PdDhG6dGp"
      },
      "execution_count": 47,
      "outputs": []
    },
    {
      "cell_type": "code",
      "source": [
        "!pip install \"notebook>=5.3\" \"ipywidgets>=7.5\" --quiet"
      ],
      "metadata": {
        "id": "wx1fZ_0a70Mr"
      },
      "execution_count": 48,
      "outputs": []
    },
    {
      "cell_type": "code",
      "execution_count": 49,
      "metadata": {
        "id": "Mv2tLrwDIiFA"
      },
      "outputs": [],
      "source": [
        "pip install opendatasets --upgrade --quiet"
      ]
    },
    {
      "cell_type": "code",
      "execution_count": 50,
      "metadata": {
        "id": "x1GdPHS2fI7q",
        "colab": {
          "base_uri": "https://localhost:8080/"
        },
        "outputId": "2f387562-6ab0-4830-fc9f-4ede62b61470"
      },
      "outputs": [
        {
          "output_type": "stream",
          "name": "stdout",
          "text": [
            "Skipping, found downloaded files in \"./us-accidents\" (use force=True to force download)\n"
          ]
        }
      ],
      "source": [
        "import opendatasets as od\n",
        "\n",
        "download_url = 'https://www.kaggle.com/sobhanmoosavi/us-accidents'\n",
        "\n",
        "od.download(download_url) "
      ]
    },
    {
      "cell_type": "code",
      "source": [
        "data_filename = './us-accidents/US_Accidents_Dec21_updated.csv'"
      ],
      "metadata": {
        "id": "nJPIDrMI0jIF"
      },
      "execution_count": 51,
      "outputs": []
    },
    {
      "cell_type": "markdown",
      "metadata": {
        "id": "iHC8oSgoIsCr"
      },
      "source": [
        "## Data Preparation and Cleaning\n",
        "\n",
        "1. Load the file using Pandas\n",
        "2. Look at some information about the data & the columns\n",
        "3. Fix any missing or incorret values"
      ]
    },
    {
      "cell_type": "code",
      "execution_count": 52,
      "metadata": {
        "id": "F5Gdkru0IiYS"
      },
      "outputs": [],
      "source": [
        "import pandas as pd\n",
        "import seaborn as sns\n",
        "import folium\n",
        "from folium.plugins import HeatMap\n",
        "import matplotlib.pyplot as plt\n",
        "import plotly.express as px\n",
        "import plotly.graph_objects as go"
      ]
    },
    {
      "cell_type": "code",
      "execution_count": 53,
      "metadata": {
        "id": "VY5Y6w7ZIiez"
      },
      "outputs": [],
      "source": [
        "df = pd.read_csv(data_filename)"
      ]
    },
    {
      "cell_type": "code",
      "execution_count": 54,
      "metadata": {
        "id": "Us-yY2FPIihW",
        "colab": {
          "base_uri": "https://localhost:8080/",
          "height": 508
        },
        "outputId": "02b4db75-fdca-4d69-ee59-4b58929cdea0"
      },
      "outputs": [
        {
          "output_type": "execute_result",
          "data": {
            "text/plain": [
              "    ID  Severity           Start_Time             End_Time  Start_Lat  \\\n",
              "0  A-1         3  2016-02-08 00:37:08  2016-02-08 06:37:08  40.108910   \n",
              "1  A-2         2  2016-02-08 05:56:20  2016-02-08 11:56:20  39.865420   \n",
              "2  A-3         2  2016-02-08 06:15:39  2016-02-08 12:15:39  39.102660   \n",
              "3  A-4         2  2016-02-08 06:51:45  2016-02-08 12:51:45  41.062130   \n",
              "4  A-5         3  2016-02-08 07:53:43  2016-02-08 13:53:43  39.172393   \n",
              "\n",
              "   Start_Lng    End_Lat    End_Lng  Distance(mi)  \\\n",
              "0 -83.092860  40.112060 -83.031870         3.230   \n",
              "1 -84.062800  39.865010 -84.048730         0.747   \n",
              "2 -84.524680  39.102090 -84.523960         0.055   \n",
              "3 -81.537840  41.062170 -81.535470         0.123   \n",
              "4 -84.492792  39.170476 -84.501798         0.500   \n",
              "\n",
              "                                         Description  ...  Roundabout Station  \\\n",
              "0  Between Sawmill Rd/Exit 20 and OH-315/Olentang...  ...       False   False   \n",
              "1                 At OH-4/OH-235/Exit 41 - Accident.  ...       False   False   \n",
              "2                   At I-71/US-50/Exit 1 - Accident.  ...       False   False   \n",
              "3                    At Dart Ave/Exit 21 - Accident.  ...       False   False   \n",
              "4                 At Mitchell Ave/Exit 6 - Accident.  ...       False   False   \n",
              "\n",
              "    Stop Traffic_Calming Traffic_Signal Turning_Loop Sunrise_Sunset  \\\n",
              "0  False           False          False        False          Night   \n",
              "1  False           False          False        False          Night   \n",
              "2  False           False          False        False          Night   \n",
              "3  False           False          False        False          Night   \n",
              "4  False           False          False        False            Day   \n",
              "\n",
              "  Civil_Twilight Nautical_Twilight Astronomical_Twilight  \n",
              "0          Night             Night                 Night  \n",
              "1          Night             Night                 Night  \n",
              "2          Night             Night                   Day  \n",
              "3          Night               Day                   Day  \n",
              "4            Day               Day                   Day  \n",
              "\n",
              "[5 rows x 47 columns]"
            ],
            "text/html": [
              "\n",
              "  <div id=\"df-7550b551-8323-4aef-a15a-582ef8a8cf74\">\n",
              "    <div class=\"colab-df-container\">\n",
              "      <div>\n",
              "<style scoped>\n",
              "    .dataframe tbody tr th:only-of-type {\n",
              "        vertical-align: middle;\n",
              "    }\n",
              "\n",
              "    .dataframe tbody tr th {\n",
              "        vertical-align: top;\n",
              "    }\n",
              "\n",
              "    .dataframe thead th {\n",
              "        text-align: right;\n",
              "    }\n",
              "</style>\n",
              "<table border=\"1\" class=\"dataframe\">\n",
              "  <thead>\n",
              "    <tr style=\"text-align: right;\">\n",
              "      <th></th>\n",
              "      <th>ID</th>\n",
              "      <th>Severity</th>\n",
              "      <th>Start_Time</th>\n",
              "      <th>End_Time</th>\n",
              "      <th>Start_Lat</th>\n",
              "      <th>Start_Lng</th>\n",
              "      <th>End_Lat</th>\n",
              "      <th>End_Lng</th>\n",
              "      <th>Distance(mi)</th>\n",
              "      <th>Description</th>\n",
              "      <th>...</th>\n",
              "      <th>Roundabout</th>\n",
              "      <th>Station</th>\n",
              "      <th>Stop</th>\n",
              "      <th>Traffic_Calming</th>\n",
              "      <th>Traffic_Signal</th>\n",
              "      <th>Turning_Loop</th>\n",
              "      <th>Sunrise_Sunset</th>\n",
              "      <th>Civil_Twilight</th>\n",
              "      <th>Nautical_Twilight</th>\n",
              "      <th>Astronomical_Twilight</th>\n",
              "    </tr>\n",
              "  </thead>\n",
              "  <tbody>\n",
              "    <tr>\n",
              "      <th>0</th>\n",
              "      <td>A-1</td>\n",
              "      <td>3</td>\n",
              "      <td>2016-02-08 00:37:08</td>\n",
              "      <td>2016-02-08 06:37:08</td>\n",
              "      <td>40.108910</td>\n",
              "      <td>-83.092860</td>\n",
              "      <td>40.112060</td>\n",
              "      <td>-83.031870</td>\n",
              "      <td>3.230</td>\n",
              "      <td>Between Sawmill Rd/Exit 20 and OH-315/Olentang...</td>\n",
              "      <td>...</td>\n",
              "      <td>False</td>\n",
              "      <td>False</td>\n",
              "      <td>False</td>\n",
              "      <td>False</td>\n",
              "      <td>False</td>\n",
              "      <td>False</td>\n",
              "      <td>Night</td>\n",
              "      <td>Night</td>\n",
              "      <td>Night</td>\n",
              "      <td>Night</td>\n",
              "    </tr>\n",
              "    <tr>\n",
              "      <th>1</th>\n",
              "      <td>A-2</td>\n",
              "      <td>2</td>\n",
              "      <td>2016-02-08 05:56:20</td>\n",
              "      <td>2016-02-08 11:56:20</td>\n",
              "      <td>39.865420</td>\n",
              "      <td>-84.062800</td>\n",
              "      <td>39.865010</td>\n",
              "      <td>-84.048730</td>\n",
              "      <td>0.747</td>\n",
              "      <td>At OH-4/OH-235/Exit 41 - Accident.</td>\n",
              "      <td>...</td>\n",
              "      <td>False</td>\n",
              "      <td>False</td>\n",
              "      <td>False</td>\n",
              "      <td>False</td>\n",
              "      <td>False</td>\n",
              "      <td>False</td>\n",
              "      <td>Night</td>\n",
              "      <td>Night</td>\n",
              "      <td>Night</td>\n",
              "      <td>Night</td>\n",
              "    </tr>\n",
              "    <tr>\n",
              "      <th>2</th>\n",
              "      <td>A-3</td>\n",
              "      <td>2</td>\n",
              "      <td>2016-02-08 06:15:39</td>\n",
              "      <td>2016-02-08 12:15:39</td>\n",
              "      <td>39.102660</td>\n",
              "      <td>-84.524680</td>\n",
              "      <td>39.102090</td>\n",
              "      <td>-84.523960</td>\n",
              "      <td>0.055</td>\n",
              "      <td>At I-71/US-50/Exit 1 - Accident.</td>\n",
              "      <td>...</td>\n",
              "      <td>False</td>\n",
              "      <td>False</td>\n",
              "      <td>False</td>\n",
              "      <td>False</td>\n",
              "      <td>False</td>\n",
              "      <td>False</td>\n",
              "      <td>Night</td>\n",
              "      <td>Night</td>\n",
              "      <td>Night</td>\n",
              "      <td>Day</td>\n",
              "    </tr>\n",
              "    <tr>\n",
              "      <th>3</th>\n",
              "      <td>A-4</td>\n",
              "      <td>2</td>\n",
              "      <td>2016-02-08 06:51:45</td>\n",
              "      <td>2016-02-08 12:51:45</td>\n",
              "      <td>41.062130</td>\n",
              "      <td>-81.537840</td>\n",
              "      <td>41.062170</td>\n",
              "      <td>-81.535470</td>\n",
              "      <td>0.123</td>\n",
              "      <td>At Dart Ave/Exit 21 - Accident.</td>\n",
              "      <td>...</td>\n",
              "      <td>False</td>\n",
              "      <td>False</td>\n",
              "      <td>False</td>\n",
              "      <td>False</td>\n",
              "      <td>False</td>\n",
              "      <td>False</td>\n",
              "      <td>Night</td>\n",
              "      <td>Night</td>\n",
              "      <td>Day</td>\n",
              "      <td>Day</td>\n",
              "    </tr>\n",
              "    <tr>\n",
              "      <th>4</th>\n",
              "      <td>A-5</td>\n",
              "      <td>3</td>\n",
              "      <td>2016-02-08 07:53:43</td>\n",
              "      <td>2016-02-08 13:53:43</td>\n",
              "      <td>39.172393</td>\n",
              "      <td>-84.492792</td>\n",
              "      <td>39.170476</td>\n",
              "      <td>-84.501798</td>\n",
              "      <td>0.500</td>\n",
              "      <td>At Mitchell Ave/Exit 6 - Accident.</td>\n",
              "      <td>...</td>\n",
              "      <td>False</td>\n",
              "      <td>False</td>\n",
              "      <td>False</td>\n",
              "      <td>False</td>\n",
              "      <td>False</td>\n",
              "      <td>False</td>\n",
              "      <td>Day</td>\n",
              "      <td>Day</td>\n",
              "      <td>Day</td>\n",
              "      <td>Day</td>\n",
              "    </tr>\n",
              "  </tbody>\n",
              "</table>\n",
              "<p>5 rows × 47 columns</p>\n",
              "</div>\n",
              "      <button class=\"colab-df-convert\" onclick=\"convertToInteractive('df-7550b551-8323-4aef-a15a-582ef8a8cf74')\"\n",
              "              title=\"Convert this dataframe to an interactive table.\"\n",
              "              style=\"display:none;\">\n",
              "        \n",
              "  <svg xmlns=\"http://www.w3.org/2000/svg\" height=\"24px\"viewBox=\"0 0 24 24\"\n",
              "       width=\"24px\">\n",
              "    <path d=\"M0 0h24v24H0V0z\" fill=\"none\"/>\n",
              "    <path d=\"M18.56 5.44l.94 2.06.94-2.06 2.06-.94-2.06-.94-.94-2.06-.94 2.06-2.06.94zm-11 1L8.5 8.5l.94-2.06 2.06-.94-2.06-.94L8.5 2.5l-.94 2.06-2.06.94zm10 10l.94 2.06.94-2.06 2.06-.94-2.06-.94-.94-2.06-.94 2.06-2.06.94z\"/><path d=\"M17.41 7.96l-1.37-1.37c-.4-.4-.92-.59-1.43-.59-.52 0-1.04.2-1.43.59L10.3 9.45l-7.72 7.72c-.78.78-.78 2.05 0 2.83L4 21.41c.39.39.9.59 1.41.59.51 0 1.02-.2 1.41-.59l7.78-7.78 2.81-2.81c.8-.78.8-2.07 0-2.86zM5.41 20L4 18.59l7.72-7.72 1.47 1.35L5.41 20z\"/>\n",
              "  </svg>\n",
              "      </button>\n",
              "      \n",
              "  <style>\n",
              "    .colab-df-container {\n",
              "      display:flex;\n",
              "      flex-wrap:wrap;\n",
              "      gap: 12px;\n",
              "    }\n",
              "\n",
              "    .colab-df-convert {\n",
              "      background-color: #E8F0FE;\n",
              "      border: none;\n",
              "      border-radius: 50%;\n",
              "      cursor: pointer;\n",
              "      display: none;\n",
              "      fill: #1967D2;\n",
              "      height: 32px;\n",
              "      padding: 0 0 0 0;\n",
              "      width: 32px;\n",
              "    }\n",
              "\n",
              "    .colab-df-convert:hover {\n",
              "      background-color: #E2EBFA;\n",
              "      box-shadow: 0px 1px 2px rgba(60, 64, 67, 0.3), 0px 1px 3px 1px rgba(60, 64, 67, 0.15);\n",
              "      fill: #174EA6;\n",
              "    }\n",
              "\n",
              "    [theme=dark] .colab-df-convert {\n",
              "      background-color: #3B4455;\n",
              "      fill: #D2E3FC;\n",
              "    }\n",
              "\n",
              "    [theme=dark] .colab-df-convert:hover {\n",
              "      background-color: #434B5C;\n",
              "      box-shadow: 0px 1px 3px 1px rgba(0, 0, 0, 0.15);\n",
              "      filter: drop-shadow(0px 1px 2px rgba(0, 0, 0, 0.3));\n",
              "      fill: #FFFFFF;\n",
              "    }\n",
              "  </style>\n",
              "\n",
              "      <script>\n",
              "        const buttonEl =\n",
              "          document.querySelector('#df-7550b551-8323-4aef-a15a-582ef8a8cf74 button.colab-df-convert');\n",
              "        buttonEl.style.display =\n",
              "          google.colab.kernel.accessAllowed ? 'block' : 'none';\n",
              "\n",
              "        async function convertToInteractive(key) {\n",
              "          const element = document.querySelector('#df-7550b551-8323-4aef-a15a-582ef8a8cf74');\n",
              "          const dataTable =\n",
              "            await google.colab.kernel.invokeFunction('convertToInteractive',\n",
              "                                                     [key], {});\n",
              "          if (!dataTable) return;\n",
              "\n",
              "          const docLinkHtml = 'Like what you see? Visit the ' +\n",
              "            '<a target=\"_blank\" href=https://colab.research.google.com/notebooks/data_table.ipynb>data table notebook</a>'\n",
              "            + ' to learn more about interactive tables.';\n",
              "          element.innerHTML = '';\n",
              "          dataTable['output_type'] = 'display_data';\n",
              "          await google.colab.output.renderOutput(dataTable, element);\n",
              "          const docLink = document.createElement('div');\n",
              "          docLink.innerHTML = docLinkHtml;\n",
              "          element.appendChild(docLink);\n",
              "        }\n",
              "      </script>\n",
              "    </div>\n",
              "  </div>\n",
              "  "
            ]
          },
          "metadata": {},
          "execution_count": 54
        }
      ],
      "source": [
        "df.head()"
      ]
    },
    {
      "cell_type": "code",
      "source": [
        "# Check the name and the type of each column\n",
        "df.info()"
      ],
      "metadata": {
        "colab": {
          "base_uri": "https://localhost:8080/"
        },
        "id": "TDmGz_TO1sY7",
        "outputId": "2fd7e95b-42b9-4d04-9608-284d37e3103d"
      },
      "execution_count": 55,
      "outputs": [
        {
          "output_type": "stream",
          "name": "stdout",
          "text": [
            "<class 'pandas.core.frame.DataFrame'>\n",
            "RangeIndex: 2845342 entries, 0 to 2845341\n",
            "Data columns (total 47 columns):\n",
            " #   Column                 Dtype  \n",
            "---  ------                 -----  \n",
            " 0   ID                     object \n",
            " 1   Severity               int64  \n",
            " 2   Start_Time             object \n",
            " 3   End_Time               object \n",
            " 4   Start_Lat              float64\n",
            " 5   Start_Lng              float64\n",
            " 6   End_Lat                float64\n",
            " 7   End_Lng                float64\n",
            " 8   Distance(mi)           float64\n",
            " 9   Description            object \n",
            " 10  Number                 float64\n",
            " 11  Street                 object \n",
            " 12  Side                   object \n",
            " 13  City                   object \n",
            " 14  County                 object \n",
            " 15  State                  object \n",
            " 16  Zipcode                object \n",
            " 17  Country                object \n",
            " 18  Timezone               object \n",
            " 19  Airport_Code           object \n",
            " 20  Weather_Timestamp      object \n",
            " 21  Temperature(F)         float64\n",
            " 22  Wind_Chill(F)          float64\n",
            " 23  Humidity(%)            float64\n",
            " 24  Pressure(in)           float64\n",
            " 25  Visibility(mi)         float64\n",
            " 26  Wind_Direction         object \n",
            " 27  Wind_Speed(mph)        float64\n",
            " 28  Precipitation(in)      float64\n",
            " 29  Weather_Condition      object \n",
            " 30  Amenity                bool   \n",
            " 31  Bump                   bool   \n",
            " 32  Crossing               bool   \n",
            " 33  Give_Way               bool   \n",
            " 34  Junction               bool   \n",
            " 35  No_Exit                bool   \n",
            " 36  Railway                bool   \n",
            " 37  Roundabout             bool   \n",
            " 38  Station                bool   \n",
            " 39  Stop                   bool   \n",
            " 40  Traffic_Calming        bool   \n",
            " 41  Traffic_Signal         bool   \n",
            " 42  Turning_Loop           bool   \n",
            " 43  Sunrise_Sunset         object \n",
            " 44  Civil_Twilight         object \n",
            " 45  Nautical_Twilight      object \n",
            " 46  Astronomical_Twilight  object \n",
            "dtypes: bool(13), float64(13), int64(1), object(20)\n",
            "memory usage: 773.4+ MB\n"
          ]
        }
      ]
    },
    {
      "cell_type": "code",
      "source": [
        "df.describe()"
      ],
      "metadata": {
        "colab": {
          "base_uri": "https://localhost:8080/",
          "height": 364
        },
        "id": "SmzhX6iU3xTS",
        "outputId": "e6579f97-c5a3-4518-8960-bc43534b735b"
      },
      "execution_count": 56,
      "outputs": [
        {
          "output_type": "execute_result",
          "data": {
            "text/plain": [
              "           Severity     Start_Lat     Start_Lng       End_Lat       End_Lng  \\\n",
              "count  2.845342e+06  2.845342e+06  2.845342e+06  2.845342e+06  2.845342e+06   \n",
              "mean   2.137572e+00  3.624520e+01 -9.711463e+01  3.624532e+01 -9.711439e+01   \n",
              "std    4.787216e-01  5.363797e+00  1.831782e+01  5.363873e+00  1.831763e+01   \n",
              "min    1.000000e+00  2.456603e+01 -1.245481e+02  2.456601e+01 -1.245457e+02   \n",
              "25%    2.000000e+00  3.344517e+01 -1.180331e+02  3.344628e+01 -1.180333e+02   \n",
              "50%    2.000000e+00  3.609861e+01 -9.241808e+01  3.609799e+01 -9.241772e+01   \n",
              "75%    2.000000e+00  4.016024e+01 -8.037243e+01  4.016105e+01 -8.037338e+01   \n",
              "max    4.000000e+00  4.900058e+01 -6.711317e+01  4.907500e+01 -6.710924e+01   \n",
              "\n",
              "       Distance(mi)        Number  Temperature(F)  Wind_Chill(F)  \\\n",
              "count  2.845342e+06  1.101431e+06    2.776068e+06   2.375699e+06   \n",
              "mean   7.026779e-01  8.089408e+03    6.179356e+01   5.965823e+01   \n",
              "std    1.560361e+00  1.836009e+04    1.862263e+01   2.116097e+01   \n",
              "min    0.000000e+00  0.000000e+00   -8.900000e+01  -8.900000e+01   \n",
              "25%    5.200000e-02  1.270000e+03    5.000000e+01   4.600000e+01   \n",
              "50%    2.440000e-01  4.007000e+03    6.400000e+01   6.300000e+01   \n",
              "75%    7.640000e-01  9.567000e+03    7.600000e+01   7.600000e+01   \n",
              "max    1.551860e+02  9.999997e+06    1.960000e+02   1.960000e+02   \n",
              "\n",
              "        Humidity(%)  Pressure(in)  Visibility(mi)  Wind_Speed(mph)  \\\n",
              "count  2.772250e+06  2.786142e+06    2.774796e+06     2.687398e+06   \n",
              "mean   6.436545e+01  2.947234e+01    9.099391e+00     7.395044e+00   \n",
              "std    2.287457e+01  1.045286e+00    2.717546e+00     5.527454e+00   \n",
              "min    1.000000e+00  0.000000e+00    0.000000e+00     0.000000e+00   \n",
              "25%    4.800000e+01  2.931000e+01    1.000000e+01     3.500000e+00   \n",
              "50%    6.700000e+01  2.982000e+01    1.000000e+01     7.000000e+00   \n",
              "75%    8.300000e+01  3.001000e+01    1.000000e+01     1.000000e+01   \n",
              "max    1.000000e+02  5.890000e+01    1.400000e+02     1.087000e+03   \n",
              "\n",
              "       Precipitation(in)  \n",
              "count       2.295884e+06  \n",
              "mean        7.016940e-03  \n",
              "std         9.348831e-02  \n",
              "min         0.000000e+00  \n",
              "25%         0.000000e+00  \n",
              "50%         0.000000e+00  \n",
              "75%         0.000000e+00  \n",
              "max         2.400000e+01  "
            ],
            "text/html": [
              "\n",
              "  <div id=\"df-4e092deb-5851-4ead-a522-f7979e5475d5\">\n",
              "    <div class=\"colab-df-container\">\n",
              "      <div>\n",
              "<style scoped>\n",
              "    .dataframe tbody tr th:only-of-type {\n",
              "        vertical-align: middle;\n",
              "    }\n",
              "\n",
              "    .dataframe tbody tr th {\n",
              "        vertical-align: top;\n",
              "    }\n",
              "\n",
              "    .dataframe thead th {\n",
              "        text-align: right;\n",
              "    }\n",
              "</style>\n",
              "<table border=\"1\" class=\"dataframe\">\n",
              "  <thead>\n",
              "    <tr style=\"text-align: right;\">\n",
              "      <th></th>\n",
              "      <th>Severity</th>\n",
              "      <th>Start_Lat</th>\n",
              "      <th>Start_Lng</th>\n",
              "      <th>End_Lat</th>\n",
              "      <th>End_Lng</th>\n",
              "      <th>Distance(mi)</th>\n",
              "      <th>Number</th>\n",
              "      <th>Temperature(F)</th>\n",
              "      <th>Wind_Chill(F)</th>\n",
              "      <th>Humidity(%)</th>\n",
              "      <th>Pressure(in)</th>\n",
              "      <th>Visibility(mi)</th>\n",
              "      <th>Wind_Speed(mph)</th>\n",
              "      <th>Precipitation(in)</th>\n",
              "    </tr>\n",
              "  </thead>\n",
              "  <tbody>\n",
              "    <tr>\n",
              "      <th>count</th>\n",
              "      <td>2.845342e+06</td>\n",
              "      <td>2.845342e+06</td>\n",
              "      <td>2.845342e+06</td>\n",
              "      <td>2.845342e+06</td>\n",
              "      <td>2.845342e+06</td>\n",
              "      <td>2.845342e+06</td>\n",
              "      <td>1.101431e+06</td>\n",
              "      <td>2.776068e+06</td>\n",
              "      <td>2.375699e+06</td>\n",
              "      <td>2.772250e+06</td>\n",
              "      <td>2.786142e+06</td>\n",
              "      <td>2.774796e+06</td>\n",
              "      <td>2.687398e+06</td>\n",
              "      <td>2.295884e+06</td>\n",
              "    </tr>\n",
              "    <tr>\n",
              "      <th>mean</th>\n",
              "      <td>2.137572e+00</td>\n",
              "      <td>3.624520e+01</td>\n",
              "      <td>-9.711463e+01</td>\n",
              "      <td>3.624532e+01</td>\n",
              "      <td>-9.711439e+01</td>\n",
              "      <td>7.026779e-01</td>\n",
              "      <td>8.089408e+03</td>\n",
              "      <td>6.179356e+01</td>\n",
              "      <td>5.965823e+01</td>\n",
              "      <td>6.436545e+01</td>\n",
              "      <td>2.947234e+01</td>\n",
              "      <td>9.099391e+00</td>\n",
              "      <td>7.395044e+00</td>\n",
              "      <td>7.016940e-03</td>\n",
              "    </tr>\n",
              "    <tr>\n",
              "      <th>std</th>\n",
              "      <td>4.787216e-01</td>\n",
              "      <td>5.363797e+00</td>\n",
              "      <td>1.831782e+01</td>\n",
              "      <td>5.363873e+00</td>\n",
              "      <td>1.831763e+01</td>\n",
              "      <td>1.560361e+00</td>\n",
              "      <td>1.836009e+04</td>\n",
              "      <td>1.862263e+01</td>\n",
              "      <td>2.116097e+01</td>\n",
              "      <td>2.287457e+01</td>\n",
              "      <td>1.045286e+00</td>\n",
              "      <td>2.717546e+00</td>\n",
              "      <td>5.527454e+00</td>\n",
              "      <td>9.348831e-02</td>\n",
              "    </tr>\n",
              "    <tr>\n",
              "      <th>min</th>\n",
              "      <td>1.000000e+00</td>\n",
              "      <td>2.456603e+01</td>\n",
              "      <td>-1.245481e+02</td>\n",
              "      <td>2.456601e+01</td>\n",
              "      <td>-1.245457e+02</td>\n",
              "      <td>0.000000e+00</td>\n",
              "      <td>0.000000e+00</td>\n",
              "      <td>-8.900000e+01</td>\n",
              "      <td>-8.900000e+01</td>\n",
              "      <td>1.000000e+00</td>\n",
              "      <td>0.000000e+00</td>\n",
              "      <td>0.000000e+00</td>\n",
              "      <td>0.000000e+00</td>\n",
              "      <td>0.000000e+00</td>\n",
              "    </tr>\n",
              "    <tr>\n",
              "      <th>25%</th>\n",
              "      <td>2.000000e+00</td>\n",
              "      <td>3.344517e+01</td>\n",
              "      <td>-1.180331e+02</td>\n",
              "      <td>3.344628e+01</td>\n",
              "      <td>-1.180333e+02</td>\n",
              "      <td>5.200000e-02</td>\n",
              "      <td>1.270000e+03</td>\n",
              "      <td>5.000000e+01</td>\n",
              "      <td>4.600000e+01</td>\n",
              "      <td>4.800000e+01</td>\n",
              "      <td>2.931000e+01</td>\n",
              "      <td>1.000000e+01</td>\n",
              "      <td>3.500000e+00</td>\n",
              "      <td>0.000000e+00</td>\n",
              "    </tr>\n",
              "    <tr>\n",
              "      <th>50%</th>\n",
              "      <td>2.000000e+00</td>\n",
              "      <td>3.609861e+01</td>\n",
              "      <td>-9.241808e+01</td>\n",
              "      <td>3.609799e+01</td>\n",
              "      <td>-9.241772e+01</td>\n",
              "      <td>2.440000e-01</td>\n",
              "      <td>4.007000e+03</td>\n",
              "      <td>6.400000e+01</td>\n",
              "      <td>6.300000e+01</td>\n",
              "      <td>6.700000e+01</td>\n",
              "      <td>2.982000e+01</td>\n",
              "      <td>1.000000e+01</td>\n",
              "      <td>7.000000e+00</td>\n",
              "      <td>0.000000e+00</td>\n",
              "    </tr>\n",
              "    <tr>\n",
              "      <th>75%</th>\n",
              "      <td>2.000000e+00</td>\n",
              "      <td>4.016024e+01</td>\n",
              "      <td>-8.037243e+01</td>\n",
              "      <td>4.016105e+01</td>\n",
              "      <td>-8.037338e+01</td>\n",
              "      <td>7.640000e-01</td>\n",
              "      <td>9.567000e+03</td>\n",
              "      <td>7.600000e+01</td>\n",
              "      <td>7.600000e+01</td>\n",
              "      <td>8.300000e+01</td>\n",
              "      <td>3.001000e+01</td>\n",
              "      <td>1.000000e+01</td>\n",
              "      <td>1.000000e+01</td>\n",
              "      <td>0.000000e+00</td>\n",
              "    </tr>\n",
              "    <tr>\n",
              "      <th>max</th>\n",
              "      <td>4.000000e+00</td>\n",
              "      <td>4.900058e+01</td>\n",
              "      <td>-6.711317e+01</td>\n",
              "      <td>4.907500e+01</td>\n",
              "      <td>-6.710924e+01</td>\n",
              "      <td>1.551860e+02</td>\n",
              "      <td>9.999997e+06</td>\n",
              "      <td>1.960000e+02</td>\n",
              "      <td>1.960000e+02</td>\n",
              "      <td>1.000000e+02</td>\n",
              "      <td>5.890000e+01</td>\n",
              "      <td>1.400000e+02</td>\n",
              "      <td>1.087000e+03</td>\n",
              "      <td>2.400000e+01</td>\n",
              "    </tr>\n",
              "  </tbody>\n",
              "</table>\n",
              "</div>\n",
              "      <button class=\"colab-df-convert\" onclick=\"convertToInteractive('df-4e092deb-5851-4ead-a522-f7979e5475d5')\"\n",
              "              title=\"Convert this dataframe to an interactive table.\"\n",
              "              style=\"display:none;\">\n",
              "        \n",
              "  <svg xmlns=\"http://www.w3.org/2000/svg\" height=\"24px\"viewBox=\"0 0 24 24\"\n",
              "       width=\"24px\">\n",
              "    <path d=\"M0 0h24v24H0V0z\" fill=\"none\"/>\n",
              "    <path d=\"M18.56 5.44l.94 2.06.94-2.06 2.06-.94-2.06-.94-.94-2.06-.94 2.06-2.06.94zm-11 1L8.5 8.5l.94-2.06 2.06-.94-2.06-.94L8.5 2.5l-.94 2.06-2.06.94zm10 10l.94 2.06.94-2.06 2.06-.94-2.06-.94-.94-2.06-.94 2.06-2.06.94z\"/><path d=\"M17.41 7.96l-1.37-1.37c-.4-.4-.92-.59-1.43-.59-.52 0-1.04.2-1.43.59L10.3 9.45l-7.72 7.72c-.78.78-.78 2.05 0 2.83L4 21.41c.39.39.9.59 1.41.59.51 0 1.02-.2 1.41-.59l7.78-7.78 2.81-2.81c.8-.78.8-2.07 0-2.86zM5.41 20L4 18.59l7.72-7.72 1.47 1.35L5.41 20z\"/>\n",
              "  </svg>\n",
              "      </button>\n",
              "      \n",
              "  <style>\n",
              "    .colab-df-container {\n",
              "      display:flex;\n",
              "      flex-wrap:wrap;\n",
              "      gap: 12px;\n",
              "    }\n",
              "\n",
              "    .colab-df-convert {\n",
              "      background-color: #E8F0FE;\n",
              "      border: none;\n",
              "      border-radius: 50%;\n",
              "      cursor: pointer;\n",
              "      display: none;\n",
              "      fill: #1967D2;\n",
              "      height: 32px;\n",
              "      padding: 0 0 0 0;\n",
              "      width: 32px;\n",
              "    }\n",
              "\n",
              "    .colab-df-convert:hover {\n",
              "      background-color: #E2EBFA;\n",
              "      box-shadow: 0px 1px 2px rgba(60, 64, 67, 0.3), 0px 1px 3px 1px rgba(60, 64, 67, 0.15);\n",
              "      fill: #174EA6;\n",
              "    }\n",
              "\n",
              "    [theme=dark] .colab-df-convert {\n",
              "      background-color: #3B4455;\n",
              "      fill: #D2E3FC;\n",
              "    }\n",
              "\n",
              "    [theme=dark] .colab-df-convert:hover {\n",
              "      background-color: #434B5C;\n",
              "      box-shadow: 0px 1px 3px 1px rgba(0, 0, 0, 0.15);\n",
              "      filter: drop-shadow(0px 1px 2px rgba(0, 0, 0, 0.3));\n",
              "      fill: #FFFFFF;\n",
              "    }\n",
              "  </style>\n",
              "\n",
              "      <script>\n",
              "        const buttonEl =\n",
              "          document.querySelector('#df-4e092deb-5851-4ead-a522-f7979e5475d5 button.colab-df-convert');\n",
              "        buttonEl.style.display =\n",
              "          google.colab.kernel.accessAllowed ? 'block' : 'none';\n",
              "\n",
              "        async function convertToInteractive(key) {\n",
              "          const element = document.querySelector('#df-4e092deb-5851-4ead-a522-f7979e5475d5');\n",
              "          const dataTable =\n",
              "            await google.colab.kernel.invokeFunction('convertToInteractive',\n",
              "                                                     [key], {});\n",
              "          if (!dataTable) return;\n",
              "\n",
              "          const docLinkHtml = 'Like what you see? Visit the ' +\n",
              "            '<a target=\"_blank\" href=https://colab.research.google.com/notebooks/data_table.ipynb>data table notebook</a>'\n",
              "            + ' to learn more about interactive tables.';\n",
              "          element.innerHTML = '';\n",
              "          dataTable['output_type'] = 'display_data';\n",
              "          await google.colab.output.renderOutput(dataTable, element);\n",
              "          const docLink = document.createElement('div');\n",
              "          docLink.innerHTML = docLinkHtml;\n",
              "          element.appendChild(docLink);\n",
              "        }\n",
              "      </script>\n",
              "    </div>\n",
              "  </div>\n",
              "  "
            ]
          },
          "metadata": {},
          "execution_count": 56
        }
      ]
    },
    {
      "cell_type": "code",
      "source": [
        "numerics = ['int16', 'int32', 'int64', 'float16', 'float32', 'float64']\n",
        "\n",
        "numeric_df = df.select_dtypes(include=numerics)\n",
        "len(numeric_df.columns)"
      ],
      "metadata": {
        "colab": {
          "base_uri": "https://localhost:8080/"
        },
        "id": "A-Q32s4l3xMl",
        "outputId": "efdaf20a-4a63-4d0a-ba0b-f3e00ef96ae6"
      },
      "execution_count": 57,
      "outputs": [
        {
          "output_type": "execute_result",
          "data": {
            "text/plain": [
              "14"
            ]
          },
          "metadata": {},
          "execution_count": 57
        }
      ]
    },
    {
      "cell_type": "markdown",
      "source": [
        "Percentage of missing values per column"
      ],
      "metadata": {
        "id": "llTmo5Ko5_1o"
      }
    },
    {
      "cell_type": "code",
      "source": [
        "missing_percentage = df.isna().sum().sort_values(ascending=False) / len(df)\n",
        "missing_percentage"
      ],
      "metadata": {
        "colab": {
          "base_uri": "https://localhost:8080/"
        },
        "id": "SSPN-efy3w8E",
        "outputId": "94775edd-5d27-49ee-c14f-b14c05c227fa"
      },
      "execution_count": 58,
      "outputs": [
        {
          "output_type": "execute_result",
          "data": {
            "text/plain": [
              "Number                   6.129003e-01\n",
              "Precipitation(in)        1.931079e-01\n",
              "Wind_Chill(F)            1.650568e-01\n",
              "Wind_Speed(mph)          5.550967e-02\n",
              "Wind_Direction           2.592834e-02\n",
              "Humidity(%)              2.568830e-02\n",
              "Weather_Condition        2.482514e-02\n",
              "Visibility(mi)           2.479350e-02\n",
              "Temperature(F)           2.434646e-02\n",
              "Pressure(in)             2.080593e-02\n",
              "Weather_Timestamp        1.783125e-02\n",
              "Airport_Code             3.356011e-03\n",
              "Timezone                 1.285961e-03\n",
              "Nautical_Twilight        1.007612e-03\n",
              "Civil_Twilight           1.007612e-03\n",
              "Sunrise_Sunset           1.007612e-03\n",
              "Astronomical_Twilight    1.007612e-03\n",
              "Zipcode                  4.635647e-04\n",
              "City                     4.814887e-05\n",
              "Street                   7.029032e-07\n",
              "Country                  0.000000e+00\n",
              "Junction                 0.000000e+00\n",
              "Start_Time               0.000000e+00\n",
              "End_Time                 0.000000e+00\n",
              "Start_Lat                0.000000e+00\n",
              "Turning_Loop             0.000000e+00\n",
              "Traffic_Signal           0.000000e+00\n",
              "Traffic_Calming          0.000000e+00\n",
              "Stop                     0.000000e+00\n",
              "Station                  0.000000e+00\n",
              "Roundabout               0.000000e+00\n",
              "Railway                  0.000000e+00\n",
              "No_Exit                  0.000000e+00\n",
              "Crossing                 0.000000e+00\n",
              "Give_Way                 0.000000e+00\n",
              "Bump                     0.000000e+00\n",
              "Amenity                  0.000000e+00\n",
              "Start_Lng                0.000000e+00\n",
              "End_Lat                  0.000000e+00\n",
              "End_Lng                  0.000000e+00\n",
              "Distance(mi)             0.000000e+00\n",
              "Description              0.000000e+00\n",
              "Severity                 0.000000e+00\n",
              "Side                     0.000000e+00\n",
              "County                   0.000000e+00\n",
              "State                    0.000000e+00\n",
              "ID                       0.000000e+00\n",
              "dtype: float64"
            ]
          },
          "metadata": {},
          "execution_count": 58
        }
      ]
    },
    {
      "cell_type": "code",
      "source": [
        "type(missing_percentage)"
      ],
      "metadata": {
        "colab": {
          "base_uri": "https://localhost:8080/"
        },
        "id": "H8eWs6jp6ipc",
        "outputId": "e7a9f477-5a61-4b15-d800-32f765d50c61"
      },
      "execution_count": 59,
      "outputs": [
        {
          "output_type": "execute_result",
          "data": {
            "text/plain": [
              "pandas.core.series.Series"
            ]
          },
          "metadata": {},
          "execution_count": 59
        }
      ]
    },
    {
      "cell_type": "code",
      "source": [
        "df_missing = pd.DataFrame(missing_percentage[missing_percentage != 0]*100).reset_index()\n",
        "df_missing.columns = ['Columns', 'Percentage (%)']\n",
        "type(df_missing)"
      ],
      "metadata": {
        "colab": {
          "base_uri": "https://localhost:8080/"
        },
        "id": "ladOga8FpIsp",
        "outputId": "88b0ec57-9359-4dc1-f89a-9718d478cbf2"
      },
      "execution_count": 60,
      "outputs": [
        {
          "output_type": "execute_result",
          "data": {
            "text/plain": [
              "pandas.core.frame.DataFrame"
            ]
          },
          "metadata": {},
          "execution_count": 60
        }
      ]
    },
    {
      "cell_type": "code",
      "source": [
        "px.bar(df_missing, x='Percentage (%)', y='Columns', orientation='h')"
      ],
      "metadata": {
        "colab": {
          "base_uri": "https://localhost:8080/",
          "height": 542
        },
        "id": "z-zpasVQ3wyb",
        "outputId": "7c6d09d6-313a-4b56-946c-d61a8cc99f54"
      },
      "execution_count": 61,
      "outputs": [
        {
          "output_type": "display_data",
          "data": {
            "text/html": [
              "<html>\n",
              "<head><meta charset=\"utf-8\" /></head>\n",
              "<body>\n",
              "    <div>            <script src=\"https://cdnjs.cloudflare.com/ajax/libs/mathjax/2.7.5/MathJax.js?config=TeX-AMS-MML_SVG\"></script><script type=\"text/javascript\">if (window.MathJax) {MathJax.Hub.Config({SVG: {font: \"STIX-Web\"}});}</script>                <script type=\"text/javascript\">window.PlotlyConfig = {MathJaxConfig: 'local'};</script>\n",
              "        <script src=\"https://cdn.plot.ly/plotly-2.8.3.min.js\"></script>                <div id=\"49237d6e-f45c-4edb-8444-e60190f56883\" class=\"plotly-graph-div\" style=\"height:525px; width:100%;\"></div>            <script type=\"text/javascript\">                                    window.PLOTLYENV=window.PLOTLYENV || {};                                    if (document.getElementById(\"49237d6e-f45c-4edb-8444-e60190f56883\")) {                    Plotly.newPlot(                        \"49237d6e-f45c-4edb-8444-e60190f56883\",                        [{\"alignmentgroup\":\"True\",\"hovertemplate\":\"Percentage (%)=%{x}<br>Columns=%{y}<extra></extra>\",\"legendgroup\":\"\",\"marker\":{\"color\":\"#636efa\",\"pattern\":{\"shape\":\"\"}},\"name\":\"\",\"offsetgroup\":\"\",\"orientation\":\"h\",\"showlegend\":false,\"textposition\":\"auto\",\"x\":[61.290031215931165,19.310789353265793,16.505678403510018,5.550967159659542,2.592834183026153,2.5688300387088794,2.4825135256148467,2.4793504612099353,2.434645817620518,2.0805934752307453,1.7831248405288362,0.33560113336112146,0.12859614063968408,0.10076117387646194,0.10076117387646194,0.10076117387646194,0.10076117387646194,0.04635646611198232,0.0048148869274765565,7.029032010914681e-05],\"xaxis\":\"x\",\"y\":[\"Number\",\"Precipitation(in)\",\"Wind_Chill(F)\",\"Wind_Speed(mph)\",\"Wind_Direction\",\"Humidity(%)\",\"Weather_Condition\",\"Visibility(mi)\",\"Temperature(F)\",\"Pressure(in)\",\"Weather_Timestamp\",\"Airport_Code\",\"Timezone\",\"Nautical_Twilight\",\"Civil_Twilight\",\"Sunrise_Sunset\",\"Astronomical_Twilight\",\"Zipcode\",\"City\",\"Street\"],\"yaxis\":\"y\",\"type\":\"bar\"}],                        {\"template\":{\"data\":{\"bar\":[{\"error_x\":{\"color\":\"#2a3f5f\"},\"error_y\":{\"color\":\"#2a3f5f\"},\"marker\":{\"line\":{\"color\":\"#E5ECF6\",\"width\":0.5},\"pattern\":{\"fillmode\":\"overlay\",\"size\":10,\"solidity\":0.2}},\"type\":\"bar\"}],\"barpolar\":[{\"marker\":{\"line\":{\"color\":\"#E5ECF6\",\"width\":0.5},\"pattern\":{\"fillmode\":\"overlay\",\"size\":10,\"solidity\":0.2}},\"type\":\"barpolar\"}],\"carpet\":[{\"aaxis\":{\"endlinecolor\":\"#2a3f5f\",\"gridcolor\":\"white\",\"linecolor\":\"white\",\"minorgridcolor\":\"white\",\"startlinecolor\":\"#2a3f5f\"},\"baxis\":{\"endlinecolor\":\"#2a3f5f\",\"gridcolor\":\"white\",\"linecolor\":\"white\",\"minorgridcolor\":\"white\",\"startlinecolor\":\"#2a3f5f\"},\"type\":\"carpet\"}],\"choropleth\":[{\"colorbar\":{\"outlinewidth\":0,\"ticks\":\"\"},\"type\":\"choropleth\"}],\"contour\":[{\"colorbar\":{\"outlinewidth\":0,\"ticks\":\"\"},\"colorscale\":[[0.0,\"#0d0887\"],[0.1111111111111111,\"#46039f\"],[0.2222222222222222,\"#7201a8\"],[0.3333333333333333,\"#9c179e\"],[0.4444444444444444,\"#bd3786\"],[0.5555555555555556,\"#d8576b\"],[0.6666666666666666,\"#ed7953\"],[0.7777777777777778,\"#fb9f3a\"],[0.8888888888888888,\"#fdca26\"],[1.0,\"#f0f921\"]],\"type\":\"contour\"}],\"contourcarpet\":[{\"colorbar\":{\"outlinewidth\":0,\"ticks\":\"\"},\"type\":\"contourcarpet\"}],\"heatmap\":[{\"colorbar\":{\"outlinewidth\":0,\"ticks\":\"\"},\"colorscale\":[[0.0,\"#0d0887\"],[0.1111111111111111,\"#46039f\"],[0.2222222222222222,\"#7201a8\"],[0.3333333333333333,\"#9c179e\"],[0.4444444444444444,\"#bd3786\"],[0.5555555555555556,\"#d8576b\"],[0.6666666666666666,\"#ed7953\"],[0.7777777777777778,\"#fb9f3a\"],[0.8888888888888888,\"#fdca26\"],[1.0,\"#f0f921\"]],\"type\":\"heatmap\"}],\"heatmapgl\":[{\"colorbar\":{\"outlinewidth\":0,\"ticks\":\"\"},\"colorscale\":[[0.0,\"#0d0887\"],[0.1111111111111111,\"#46039f\"],[0.2222222222222222,\"#7201a8\"],[0.3333333333333333,\"#9c179e\"],[0.4444444444444444,\"#bd3786\"],[0.5555555555555556,\"#d8576b\"],[0.6666666666666666,\"#ed7953\"],[0.7777777777777778,\"#fb9f3a\"],[0.8888888888888888,\"#fdca26\"],[1.0,\"#f0f921\"]],\"type\":\"heatmapgl\"}],\"histogram\":[{\"marker\":{\"pattern\":{\"fillmode\":\"overlay\",\"size\":10,\"solidity\":0.2}},\"type\":\"histogram\"}],\"histogram2d\":[{\"colorbar\":{\"outlinewidth\":0,\"ticks\":\"\"},\"colorscale\":[[0.0,\"#0d0887\"],[0.1111111111111111,\"#46039f\"],[0.2222222222222222,\"#7201a8\"],[0.3333333333333333,\"#9c179e\"],[0.4444444444444444,\"#bd3786\"],[0.5555555555555556,\"#d8576b\"],[0.6666666666666666,\"#ed7953\"],[0.7777777777777778,\"#fb9f3a\"],[0.8888888888888888,\"#fdca26\"],[1.0,\"#f0f921\"]],\"type\":\"histogram2d\"}],\"histogram2dcontour\":[{\"colorbar\":{\"outlinewidth\":0,\"ticks\":\"\"},\"colorscale\":[[0.0,\"#0d0887\"],[0.1111111111111111,\"#46039f\"],[0.2222222222222222,\"#7201a8\"],[0.3333333333333333,\"#9c179e\"],[0.4444444444444444,\"#bd3786\"],[0.5555555555555556,\"#d8576b\"],[0.6666666666666666,\"#ed7953\"],[0.7777777777777778,\"#fb9f3a\"],[0.8888888888888888,\"#fdca26\"],[1.0,\"#f0f921\"]],\"type\":\"histogram2dcontour\"}],\"mesh3d\":[{\"colorbar\":{\"outlinewidth\":0,\"ticks\":\"\"},\"type\":\"mesh3d\"}],\"parcoords\":[{\"line\":{\"colorbar\":{\"outlinewidth\":0,\"ticks\":\"\"}},\"type\":\"parcoords\"}],\"pie\":[{\"automargin\":true,\"type\":\"pie\"}],\"scatter\":[{\"marker\":{\"colorbar\":{\"outlinewidth\":0,\"ticks\":\"\"}},\"type\":\"scatter\"}],\"scatter3d\":[{\"line\":{\"colorbar\":{\"outlinewidth\":0,\"ticks\":\"\"}},\"marker\":{\"colorbar\":{\"outlinewidth\":0,\"ticks\":\"\"}},\"type\":\"scatter3d\"}],\"scattercarpet\":[{\"marker\":{\"colorbar\":{\"outlinewidth\":0,\"ticks\":\"\"}},\"type\":\"scattercarpet\"}],\"scattergeo\":[{\"marker\":{\"colorbar\":{\"outlinewidth\":0,\"ticks\":\"\"}},\"type\":\"scattergeo\"}],\"scattergl\":[{\"marker\":{\"colorbar\":{\"outlinewidth\":0,\"ticks\":\"\"}},\"type\":\"scattergl\"}],\"scattermapbox\":[{\"marker\":{\"colorbar\":{\"outlinewidth\":0,\"ticks\":\"\"}},\"type\":\"scattermapbox\"}],\"scatterpolar\":[{\"marker\":{\"colorbar\":{\"outlinewidth\":0,\"ticks\":\"\"}},\"type\":\"scatterpolar\"}],\"scatterpolargl\":[{\"marker\":{\"colorbar\":{\"outlinewidth\":0,\"ticks\":\"\"}},\"type\":\"scatterpolargl\"}],\"scatterternary\":[{\"marker\":{\"colorbar\":{\"outlinewidth\":0,\"ticks\":\"\"}},\"type\":\"scatterternary\"}],\"surface\":[{\"colorbar\":{\"outlinewidth\":0,\"ticks\":\"\"},\"colorscale\":[[0.0,\"#0d0887\"],[0.1111111111111111,\"#46039f\"],[0.2222222222222222,\"#7201a8\"],[0.3333333333333333,\"#9c179e\"],[0.4444444444444444,\"#bd3786\"],[0.5555555555555556,\"#d8576b\"],[0.6666666666666666,\"#ed7953\"],[0.7777777777777778,\"#fb9f3a\"],[0.8888888888888888,\"#fdca26\"],[1.0,\"#f0f921\"]],\"type\":\"surface\"}],\"table\":[{\"cells\":{\"fill\":{\"color\":\"#EBF0F8\"},\"line\":{\"color\":\"white\"}},\"header\":{\"fill\":{\"color\":\"#C8D4E3\"},\"line\":{\"color\":\"white\"}},\"type\":\"table\"}]},\"layout\":{\"annotationdefaults\":{\"arrowcolor\":\"#2a3f5f\",\"arrowhead\":0,\"arrowwidth\":1},\"autotypenumbers\":\"strict\",\"coloraxis\":{\"colorbar\":{\"outlinewidth\":0,\"ticks\":\"\"}},\"colorscale\":{\"diverging\":[[0,\"#8e0152\"],[0.1,\"#c51b7d\"],[0.2,\"#de77ae\"],[0.3,\"#f1b6da\"],[0.4,\"#fde0ef\"],[0.5,\"#f7f7f7\"],[0.6,\"#e6f5d0\"],[0.7,\"#b8e186\"],[0.8,\"#7fbc41\"],[0.9,\"#4d9221\"],[1,\"#276419\"]],\"sequential\":[[0.0,\"#0d0887\"],[0.1111111111111111,\"#46039f\"],[0.2222222222222222,\"#7201a8\"],[0.3333333333333333,\"#9c179e\"],[0.4444444444444444,\"#bd3786\"],[0.5555555555555556,\"#d8576b\"],[0.6666666666666666,\"#ed7953\"],[0.7777777777777778,\"#fb9f3a\"],[0.8888888888888888,\"#fdca26\"],[1.0,\"#f0f921\"]],\"sequentialminus\":[[0.0,\"#0d0887\"],[0.1111111111111111,\"#46039f\"],[0.2222222222222222,\"#7201a8\"],[0.3333333333333333,\"#9c179e\"],[0.4444444444444444,\"#bd3786\"],[0.5555555555555556,\"#d8576b\"],[0.6666666666666666,\"#ed7953\"],[0.7777777777777778,\"#fb9f3a\"],[0.8888888888888888,\"#fdca26\"],[1.0,\"#f0f921\"]]},\"colorway\":[\"#636efa\",\"#EF553B\",\"#00cc96\",\"#ab63fa\",\"#FFA15A\",\"#19d3f3\",\"#FF6692\",\"#B6E880\",\"#FF97FF\",\"#FECB52\"],\"font\":{\"color\":\"#2a3f5f\"},\"geo\":{\"bgcolor\":\"white\",\"lakecolor\":\"white\",\"landcolor\":\"#E5ECF6\",\"showlakes\":true,\"showland\":true,\"subunitcolor\":\"white\"},\"hoverlabel\":{\"align\":\"left\"},\"hovermode\":\"closest\",\"mapbox\":{\"style\":\"light\"},\"paper_bgcolor\":\"white\",\"plot_bgcolor\":\"#E5ECF6\",\"polar\":{\"angularaxis\":{\"gridcolor\":\"white\",\"linecolor\":\"white\",\"ticks\":\"\"},\"bgcolor\":\"#E5ECF6\",\"radialaxis\":{\"gridcolor\":\"white\",\"linecolor\":\"white\",\"ticks\":\"\"}},\"scene\":{\"xaxis\":{\"backgroundcolor\":\"#E5ECF6\",\"gridcolor\":\"white\",\"gridwidth\":2,\"linecolor\":\"white\",\"showbackground\":true,\"ticks\":\"\",\"zerolinecolor\":\"white\"},\"yaxis\":{\"backgroundcolor\":\"#E5ECF6\",\"gridcolor\":\"white\",\"gridwidth\":2,\"linecolor\":\"white\",\"showbackground\":true,\"ticks\":\"\",\"zerolinecolor\":\"white\"},\"zaxis\":{\"backgroundcolor\":\"#E5ECF6\",\"gridcolor\":\"white\",\"gridwidth\":2,\"linecolor\":\"white\",\"showbackground\":true,\"ticks\":\"\",\"zerolinecolor\":\"white\"}},\"shapedefaults\":{\"line\":{\"color\":\"#2a3f5f\"}},\"ternary\":{\"aaxis\":{\"gridcolor\":\"white\",\"linecolor\":\"white\",\"ticks\":\"\"},\"baxis\":{\"gridcolor\":\"white\",\"linecolor\":\"white\",\"ticks\":\"\"},\"bgcolor\":\"#E5ECF6\",\"caxis\":{\"gridcolor\":\"white\",\"linecolor\":\"white\",\"ticks\":\"\"}},\"title\":{\"x\":0.05},\"xaxis\":{\"automargin\":true,\"gridcolor\":\"white\",\"linecolor\":\"white\",\"ticks\":\"\",\"title\":{\"standoff\":15},\"zerolinecolor\":\"white\",\"zerolinewidth\":2},\"yaxis\":{\"automargin\":true,\"gridcolor\":\"white\",\"linecolor\":\"white\",\"ticks\":\"\",\"title\":{\"standoff\":15},\"zerolinecolor\":\"white\",\"zerolinewidth\":2}}},\"xaxis\":{\"anchor\":\"y\",\"domain\":[0.0,1.0],\"title\":{\"text\":\"Percentage (%)\"}},\"yaxis\":{\"anchor\":\"x\",\"domain\":[0.0,1.0],\"title\":{\"text\":\"Columns\"}},\"legend\":{\"tracegroupgap\":0},\"margin\":{\"t\":60},\"barmode\":\"relative\"},                        {\"responsive\": true}                    ).then(function(){\n",
              "                            \n",
              "var gd = document.getElementById('49237d6e-f45c-4edb-8444-e60190f56883');\n",
              "var x = new MutationObserver(function (mutations, observer) {{\n",
              "        var display = window.getComputedStyle(gd).display;\n",
              "        if (!display || display === 'none') {{\n",
              "            console.log([gd, 'removed!']);\n",
              "            Plotly.purge(gd);\n",
              "            observer.disconnect();\n",
              "        }}\n",
              "}});\n",
              "\n",
              "// Listen for the removal of the full notebook cells\n",
              "var notebookContainer = gd.closest('#notebook-container');\n",
              "if (notebookContainer) {{\n",
              "    x.observe(notebookContainer, {childList: true});\n",
              "}}\n",
              "\n",
              "// Listen for the clearing of the current output cell\n",
              "var outputEl = gd.closest('.output');\n",
              "if (outputEl) {{\n",
              "    x.observe(outputEl, {childList: true});\n",
              "}}\n",
              "\n",
              "                        })                };                            </script>        </div>\n",
              "</body>\n",
              "</html>"
            ]
          },
          "metadata": {}
        }
      ]
    },
    {
      "cell_type": "markdown",
      "source": [
        "- We can see that the Number column has over 60% data missing (61,29003%), Precipitation(in) and Wind_Chill(F) also have over 15% data missing. Since, Number column (which shows the street number) has majority of the data missing, we should drop it."
      ],
      "metadata": {
        "id": "LD550UuM7Wv8"
      }
    },
    {
      "cell_type": "code",
      "source": [
        "df = df.drop(\"Number\", axis=1)"
      ],
      "metadata": {
        "id": "t88rGsSzVmt5"
      },
      "execution_count": 62,
      "outputs": []
    },
    {
      "cell_type": "markdown",
      "metadata": {
        "id": "WKit4cW8I0Y9"
      },
      "source": [
        "## Exploratory Analysis and Visualization\n",
        "\n",
        "Columnscwe'll analyze:\n",
        "\n",
        "1. City\n",
        "2. Start Time\n",
        "3. Start Lat, Start Lng\n",
        "4. Tempeture\n",
        "5. Weather Condition"
      ]
    },
    {
      "cell_type": "markdown",
      "source": [
        "### City\n",
        "\n",
        "1. Which city in US has reported the most number of accident cases?"
      ],
      "metadata": {
        "id": "p8VkDxhjTXyk"
      }
    },
    {
      "cell_type": "code",
      "execution_count": 63,
      "metadata": {
        "id": "cxjRxpxoI5a7",
        "colab": {
          "base_uri": "https://localhost:8080/"
        },
        "outputId": "b01aa61f-1fe8-4fc7-b0c6-a1eeeba2d8b9"
      },
      "outputs": [
        {
          "output_type": "execute_result",
          "data": {
            "text/plain": [
              "0               Dublin\n",
              "1               Dayton\n",
              "2           Cincinnati\n",
              "3                Akron\n",
              "4           Cincinnati\n",
              "              ...     \n",
              "2845337      Riverside\n",
              "2845338      San Diego\n",
              "2845339         Orange\n",
              "2845340    Culver City\n",
              "2845341       Highland\n",
              "Name: City, Length: 2845342, dtype: object"
            ]
          },
          "metadata": {},
          "execution_count": 63
        }
      ],
      "source": [
        "df.City"
      ]
    },
    {
      "cell_type": "code",
      "execution_count": 64,
      "metadata": {
        "id": "hbclt1VWI5dn",
        "colab": {
          "base_uri": "https://localhost:8080/"
        },
        "outputId": "04ac0153-8b6f-486a-ebec-91d0a46a6a4e"
      },
      "outputs": [
        {
          "output_type": "execute_result",
          "data": {
            "text/plain": [
              "11682"
            ]
          },
          "metadata": {},
          "execution_count": 64
        }
      ],
      "source": [
        "cities = df.City.unique()\n",
        "len(cities)"
      ]
    },
    {
      "cell_type": "code",
      "execution_count": 65,
      "metadata": {
        "id": "9PLguOhAI5hX"
      },
      "outputs": [],
      "source": [
        "cities_by_accident = df.City.value_counts()\n",
        "cities_by_accidentt = cities_by_accident[cities_by_accident>10000]"
      ]
    },
    {
      "cell_type": "code",
      "source": [
        "cities_by_accidentt = pd.DataFrame(cities_by_accidentt).reset_index()\n",
        "cities_by_accidentt.columns = ['City', 'Accidents']\n",
        "type(cities_by_accident)"
      ],
      "metadata": {
        "colab": {
          "base_uri": "https://localhost:8080/"
        },
        "id": "UVdFd3WXcvBY",
        "outputId": "919084fb-eb37-4695-a009-cced3abac500"
      },
      "execution_count": 66,
      "outputs": [
        {
          "output_type": "execute_result",
          "data": {
            "text/plain": [
              "pandas.core.series.Series"
            ]
          },
          "metadata": {},
          "execution_count": 66
        }
      ]
    },
    {
      "cell_type": "code",
      "source": [
        "px.bar(cities_by_accidentt, x='Accidents', y='City', orientation='h')"
      ],
      "metadata": {
        "colab": {
          "base_uri": "https://localhost:8080/",
          "height": 542
        },
        "id": "SCB_Ie-JcogQ",
        "outputId": "93a3e5db-074d-4ea0-c9f1-e97d70f53f3e"
      },
      "execution_count": 67,
      "outputs": [
        {
          "output_type": "display_data",
          "data": {
            "text/html": [
              "<html>\n",
              "<head><meta charset=\"utf-8\" /></head>\n",
              "<body>\n",
              "    <div>            <script src=\"https://cdnjs.cloudflare.com/ajax/libs/mathjax/2.7.5/MathJax.js?config=TeX-AMS-MML_SVG\"></script><script type=\"text/javascript\">if (window.MathJax) {MathJax.Hub.Config({SVG: {font: \"STIX-Web\"}});}</script>                <script type=\"text/javascript\">window.PlotlyConfig = {MathJaxConfig: 'local'};</script>\n",
              "        <script src=\"https://cdn.plot.ly/plotly-2.8.3.min.js\"></script>                <div id=\"e7d59cce-0410-4a2f-bbca-21ff578066ba\" class=\"plotly-graph-div\" style=\"height:525px; width:100%;\"></div>            <script type=\"text/javascript\">                                    window.PLOTLYENV=window.PLOTLYENV || {};                                    if (document.getElementById(\"e7d59cce-0410-4a2f-bbca-21ff578066ba\")) {                    Plotly.newPlot(                        \"e7d59cce-0410-4a2f-bbca-21ff578066ba\",                        [{\"alignmentgroup\":\"True\",\"hovertemplate\":\"Accidents=%{x}<br>City=%{y}<extra></extra>\",\"legendgroup\":\"\",\"marker\":{\"color\":\"#636efa\",\"pattern\":{\"shape\":\"\"}},\"name\":\"\",\"offsetgroup\":\"\",\"orientation\":\"h\",\"showlegend\":false,\"textposition\":\"auto\",\"x\":[106966,68956,54691,41979,39448,33152,32559,26627,22840,22768,20944,20267,18301,18182,17143,16869,16251,15622,14967,14349,13799,13377,13310,13298,12044,11249,11188,10984,10709,10538,10502,10398,10345,10051],\"xaxis\":\"x\",\"y\":[\"Miami\",\"Los Angeles\",\"Orlando\",\"Dallas\",\"Houston\",\"Charlotte\",\"Sacramento\",\"San Diego\",\"Raleigh\",\"Minneapolis\",\"Portland\",\"Nashville\",\"Austin\",\"Baton Rouge\",\"Phoenix\",\"Saint Paul\",\"New Orleans\",\"Atlanta\",\"Jacksonville\",\"Richmond\",\"Tucson\",\"San Jose\",\"Riverside\",\"Kansas City\",\"Bakersfield\",\"San Bernardino\",\"Chicago\",\"Tampa\",\"Salt Lake City\",\"Ontario\",\"Anaheim\",\"Hialeah\",\"Fort Lauderdale\",\"Oakland\"],\"yaxis\":\"y\",\"type\":\"bar\"}],                        {\"template\":{\"data\":{\"bar\":[{\"error_x\":{\"color\":\"#2a3f5f\"},\"error_y\":{\"color\":\"#2a3f5f\"},\"marker\":{\"line\":{\"color\":\"#E5ECF6\",\"width\":0.5},\"pattern\":{\"fillmode\":\"overlay\",\"size\":10,\"solidity\":0.2}},\"type\":\"bar\"}],\"barpolar\":[{\"marker\":{\"line\":{\"color\":\"#E5ECF6\",\"width\":0.5},\"pattern\":{\"fillmode\":\"overlay\",\"size\":10,\"solidity\":0.2}},\"type\":\"barpolar\"}],\"carpet\":[{\"aaxis\":{\"endlinecolor\":\"#2a3f5f\",\"gridcolor\":\"white\",\"linecolor\":\"white\",\"minorgridcolor\":\"white\",\"startlinecolor\":\"#2a3f5f\"},\"baxis\":{\"endlinecolor\":\"#2a3f5f\",\"gridcolor\":\"white\",\"linecolor\":\"white\",\"minorgridcolor\":\"white\",\"startlinecolor\":\"#2a3f5f\"},\"type\":\"carpet\"}],\"choropleth\":[{\"colorbar\":{\"outlinewidth\":0,\"ticks\":\"\"},\"type\":\"choropleth\"}],\"contour\":[{\"colorbar\":{\"outlinewidth\":0,\"ticks\":\"\"},\"colorscale\":[[0.0,\"#0d0887\"],[0.1111111111111111,\"#46039f\"],[0.2222222222222222,\"#7201a8\"],[0.3333333333333333,\"#9c179e\"],[0.4444444444444444,\"#bd3786\"],[0.5555555555555556,\"#d8576b\"],[0.6666666666666666,\"#ed7953\"],[0.7777777777777778,\"#fb9f3a\"],[0.8888888888888888,\"#fdca26\"],[1.0,\"#f0f921\"]],\"type\":\"contour\"}],\"contourcarpet\":[{\"colorbar\":{\"outlinewidth\":0,\"ticks\":\"\"},\"type\":\"contourcarpet\"}],\"heatmap\":[{\"colorbar\":{\"outlinewidth\":0,\"ticks\":\"\"},\"colorscale\":[[0.0,\"#0d0887\"],[0.1111111111111111,\"#46039f\"],[0.2222222222222222,\"#7201a8\"],[0.3333333333333333,\"#9c179e\"],[0.4444444444444444,\"#bd3786\"],[0.5555555555555556,\"#d8576b\"],[0.6666666666666666,\"#ed7953\"],[0.7777777777777778,\"#fb9f3a\"],[0.8888888888888888,\"#fdca26\"],[1.0,\"#f0f921\"]],\"type\":\"heatmap\"}],\"heatmapgl\":[{\"colorbar\":{\"outlinewidth\":0,\"ticks\":\"\"},\"colorscale\":[[0.0,\"#0d0887\"],[0.1111111111111111,\"#46039f\"],[0.2222222222222222,\"#7201a8\"],[0.3333333333333333,\"#9c179e\"],[0.4444444444444444,\"#bd3786\"],[0.5555555555555556,\"#d8576b\"],[0.6666666666666666,\"#ed7953\"],[0.7777777777777778,\"#fb9f3a\"],[0.8888888888888888,\"#fdca26\"],[1.0,\"#f0f921\"]],\"type\":\"heatmapgl\"}],\"histogram\":[{\"marker\":{\"pattern\":{\"fillmode\":\"overlay\",\"size\":10,\"solidity\":0.2}},\"type\":\"histogram\"}],\"histogram2d\":[{\"colorbar\":{\"outlinewidth\":0,\"ticks\":\"\"},\"colorscale\":[[0.0,\"#0d0887\"],[0.1111111111111111,\"#46039f\"],[0.2222222222222222,\"#7201a8\"],[0.3333333333333333,\"#9c179e\"],[0.4444444444444444,\"#bd3786\"],[0.5555555555555556,\"#d8576b\"],[0.6666666666666666,\"#ed7953\"],[0.7777777777777778,\"#fb9f3a\"],[0.8888888888888888,\"#fdca26\"],[1.0,\"#f0f921\"]],\"type\":\"histogram2d\"}],\"histogram2dcontour\":[{\"colorbar\":{\"outlinewidth\":0,\"ticks\":\"\"},\"colorscale\":[[0.0,\"#0d0887\"],[0.1111111111111111,\"#46039f\"],[0.2222222222222222,\"#7201a8\"],[0.3333333333333333,\"#9c179e\"],[0.4444444444444444,\"#bd3786\"],[0.5555555555555556,\"#d8576b\"],[0.6666666666666666,\"#ed7953\"],[0.7777777777777778,\"#fb9f3a\"],[0.8888888888888888,\"#fdca26\"],[1.0,\"#f0f921\"]],\"type\":\"histogram2dcontour\"}],\"mesh3d\":[{\"colorbar\":{\"outlinewidth\":0,\"ticks\":\"\"},\"type\":\"mesh3d\"}],\"parcoords\":[{\"line\":{\"colorbar\":{\"outlinewidth\":0,\"ticks\":\"\"}},\"type\":\"parcoords\"}],\"pie\":[{\"automargin\":true,\"type\":\"pie\"}],\"scatter\":[{\"marker\":{\"colorbar\":{\"outlinewidth\":0,\"ticks\":\"\"}},\"type\":\"scatter\"}],\"scatter3d\":[{\"line\":{\"colorbar\":{\"outlinewidth\":0,\"ticks\":\"\"}},\"marker\":{\"colorbar\":{\"outlinewidth\":0,\"ticks\":\"\"}},\"type\":\"scatter3d\"}],\"scattercarpet\":[{\"marker\":{\"colorbar\":{\"outlinewidth\":0,\"ticks\":\"\"}},\"type\":\"scattercarpet\"}],\"scattergeo\":[{\"marker\":{\"colorbar\":{\"outlinewidth\":0,\"ticks\":\"\"}},\"type\":\"scattergeo\"}],\"scattergl\":[{\"marker\":{\"colorbar\":{\"outlinewidth\":0,\"ticks\":\"\"}},\"type\":\"scattergl\"}],\"scattermapbox\":[{\"marker\":{\"colorbar\":{\"outlinewidth\":0,\"ticks\":\"\"}},\"type\":\"scattermapbox\"}],\"scatterpolar\":[{\"marker\":{\"colorbar\":{\"outlinewidth\":0,\"ticks\":\"\"}},\"type\":\"scatterpolar\"}],\"scatterpolargl\":[{\"marker\":{\"colorbar\":{\"outlinewidth\":0,\"ticks\":\"\"}},\"type\":\"scatterpolargl\"}],\"scatterternary\":[{\"marker\":{\"colorbar\":{\"outlinewidth\":0,\"ticks\":\"\"}},\"type\":\"scatterternary\"}],\"surface\":[{\"colorbar\":{\"outlinewidth\":0,\"ticks\":\"\"},\"colorscale\":[[0.0,\"#0d0887\"],[0.1111111111111111,\"#46039f\"],[0.2222222222222222,\"#7201a8\"],[0.3333333333333333,\"#9c179e\"],[0.4444444444444444,\"#bd3786\"],[0.5555555555555556,\"#d8576b\"],[0.6666666666666666,\"#ed7953\"],[0.7777777777777778,\"#fb9f3a\"],[0.8888888888888888,\"#fdca26\"],[1.0,\"#f0f921\"]],\"type\":\"surface\"}],\"table\":[{\"cells\":{\"fill\":{\"color\":\"#EBF0F8\"},\"line\":{\"color\":\"white\"}},\"header\":{\"fill\":{\"color\":\"#C8D4E3\"},\"line\":{\"color\":\"white\"}},\"type\":\"table\"}]},\"layout\":{\"annotationdefaults\":{\"arrowcolor\":\"#2a3f5f\",\"arrowhead\":0,\"arrowwidth\":1},\"autotypenumbers\":\"strict\",\"coloraxis\":{\"colorbar\":{\"outlinewidth\":0,\"ticks\":\"\"}},\"colorscale\":{\"diverging\":[[0,\"#8e0152\"],[0.1,\"#c51b7d\"],[0.2,\"#de77ae\"],[0.3,\"#f1b6da\"],[0.4,\"#fde0ef\"],[0.5,\"#f7f7f7\"],[0.6,\"#e6f5d0\"],[0.7,\"#b8e186\"],[0.8,\"#7fbc41\"],[0.9,\"#4d9221\"],[1,\"#276419\"]],\"sequential\":[[0.0,\"#0d0887\"],[0.1111111111111111,\"#46039f\"],[0.2222222222222222,\"#7201a8\"],[0.3333333333333333,\"#9c179e\"],[0.4444444444444444,\"#bd3786\"],[0.5555555555555556,\"#d8576b\"],[0.6666666666666666,\"#ed7953\"],[0.7777777777777778,\"#fb9f3a\"],[0.8888888888888888,\"#fdca26\"],[1.0,\"#f0f921\"]],\"sequentialminus\":[[0.0,\"#0d0887\"],[0.1111111111111111,\"#46039f\"],[0.2222222222222222,\"#7201a8\"],[0.3333333333333333,\"#9c179e\"],[0.4444444444444444,\"#bd3786\"],[0.5555555555555556,\"#d8576b\"],[0.6666666666666666,\"#ed7953\"],[0.7777777777777778,\"#fb9f3a\"],[0.8888888888888888,\"#fdca26\"],[1.0,\"#f0f921\"]]},\"colorway\":[\"#636efa\",\"#EF553B\",\"#00cc96\",\"#ab63fa\",\"#FFA15A\",\"#19d3f3\",\"#FF6692\",\"#B6E880\",\"#FF97FF\",\"#FECB52\"],\"font\":{\"color\":\"#2a3f5f\"},\"geo\":{\"bgcolor\":\"white\",\"lakecolor\":\"white\",\"landcolor\":\"#E5ECF6\",\"showlakes\":true,\"showland\":true,\"subunitcolor\":\"white\"},\"hoverlabel\":{\"align\":\"left\"},\"hovermode\":\"closest\",\"mapbox\":{\"style\":\"light\"},\"paper_bgcolor\":\"white\",\"plot_bgcolor\":\"#E5ECF6\",\"polar\":{\"angularaxis\":{\"gridcolor\":\"white\",\"linecolor\":\"white\",\"ticks\":\"\"},\"bgcolor\":\"#E5ECF6\",\"radialaxis\":{\"gridcolor\":\"white\",\"linecolor\":\"white\",\"ticks\":\"\"}},\"scene\":{\"xaxis\":{\"backgroundcolor\":\"#E5ECF6\",\"gridcolor\":\"white\",\"gridwidth\":2,\"linecolor\":\"white\",\"showbackground\":true,\"ticks\":\"\",\"zerolinecolor\":\"white\"},\"yaxis\":{\"backgroundcolor\":\"#E5ECF6\",\"gridcolor\":\"white\",\"gridwidth\":2,\"linecolor\":\"white\",\"showbackground\":true,\"ticks\":\"\",\"zerolinecolor\":\"white\"},\"zaxis\":{\"backgroundcolor\":\"#E5ECF6\",\"gridcolor\":\"white\",\"gridwidth\":2,\"linecolor\":\"white\",\"showbackground\":true,\"ticks\":\"\",\"zerolinecolor\":\"white\"}},\"shapedefaults\":{\"line\":{\"color\":\"#2a3f5f\"}},\"ternary\":{\"aaxis\":{\"gridcolor\":\"white\",\"linecolor\":\"white\",\"ticks\":\"\"},\"baxis\":{\"gridcolor\":\"white\",\"linecolor\":\"white\",\"ticks\":\"\"},\"bgcolor\":\"#E5ECF6\",\"caxis\":{\"gridcolor\":\"white\",\"linecolor\":\"white\",\"ticks\":\"\"}},\"title\":{\"x\":0.05},\"xaxis\":{\"automargin\":true,\"gridcolor\":\"white\",\"linecolor\":\"white\",\"ticks\":\"\",\"title\":{\"standoff\":15},\"zerolinecolor\":\"white\",\"zerolinewidth\":2},\"yaxis\":{\"automargin\":true,\"gridcolor\":\"white\",\"linecolor\":\"white\",\"ticks\":\"\",\"title\":{\"standoff\":15},\"zerolinecolor\":\"white\",\"zerolinewidth\":2}}},\"xaxis\":{\"anchor\":\"y\",\"domain\":[0.0,1.0],\"title\":{\"text\":\"Accidents\"}},\"yaxis\":{\"anchor\":\"x\",\"domain\":[0.0,1.0],\"title\":{\"text\":\"City\"}},\"legend\":{\"tracegroupgap\":0},\"margin\":{\"t\":60},\"barmode\":\"relative\"},                        {\"responsive\": true}                    ).then(function(){\n",
              "                            \n",
              "var gd = document.getElementById('e7d59cce-0410-4a2f-bbca-21ff578066ba');\n",
              "var x = new MutationObserver(function (mutations, observer) {{\n",
              "        var display = window.getComputedStyle(gd).display;\n",
              "        if (!display || display === 'none') {{\n",
              "            console.log([gd, 'removed!']);\n",
              "            Plotly.purge(gd);\n",
              "            observer.disconnect();\n",
              "        }}\n",
              "}});\n",
              "\n",
              "// Listen for the removal of the full notebook cells\n",
              "var notebookContainer = gd.closest('#notebook-container');\n",
              "if (notebookContainer) {{\n",
              "    x.observe(notebookContainer, {childList: true});\n",
              "}}\n",
              "\n",
              "// Listen for the clearing of the current output cell\n",
              "var outputEl = gd.closest('.output');\n",
              "if (outputEl) {{\n",
              "    x.observe(outputEl, {childList: true});\n",
              "}}\n",
              "\n",
              "                        })                };                            </script>        </div>\n",
              "</body>\n",
              "</html>"
            ]
          },
          "metadata": {}
        }
      ]
    },
    {
      "cell_type": "code",
      "source": [
        "plt.figure(figsize=(15,8))\n",
        "plt.xlabel('\\n City \\n', fontsize=15, color='grey')\n",
        "plt.ylabel('\\nAccident Cases\\n', fontsize=15, color='grey')\n",
        "plt.xticks(fontsize=13)\n",
        "plt.yticks(fontsize=12)\n",
        "sns.histplot(df.City.value_counts(),log_scale=True,color=\"grey\")\n",
        "sns.histplot(cities_by_accident, log_scale=True)\n",
        "plt.show()"
      ],
      "metadata": {
        "colab": {
          "base_uri": "https://localhost:8080/",
          "height": 543
        },
        "id": "VocqR1-c7dsy",
        "outputId": "d6b85974-4237-492b-997e-55935369aac0"
      },
      "execution_count": 68,
      "outputs": [
        {
          "output_type": "display_data",
          "data": {
            "text/plain": [
              "<Figure size 1080x576 with 1 Axes>"
            ],
            "image/png": "[encoded data removed]"
          },
          "metadata": {
            "needs_background": "light"
          }
        }
      ]
    },
    {
      "cell_type": "markdown",
      "source": [
        "No of accidents in cities are exponentially decreasing. We see large accounts near to 1, possibly because of not data recorded there.\n",
        "\n",
        "We have 1167 cities which recorded only 1 accident case, this is another data source drawback."
      ],
      "metadata": {
        "id": "qYjcjCNYjruN"
      }
    },
    {
      "cell_type": "code",
      "source": [
        "cities_by_accident[cities_by_accident == 1]"
      ],
      "metadata": {
        "id": "94Fv0uxw3bwa",
        "colab": {
          "base_uri": "https://localhost:8080/"
        },
        "outputId": "e8a720f6-1bcc-439f-c012-164ca881f5ab"
      },
      "execution_count": 69,
      "outputs": [
        {
          "output_type": "execute_result",
          "data": {
            "text/plain": [
              "Carney                          1\n",
              "Waverly Hall                    1\n",
              "Center Sandwich                 1\n",
              "Glen Flora                      1\n",
              "Sulphur Springs                 1\n",
              "                               ..\n",
              "Ridgedale                       1\n",
              "Sekiu                           1\n",
              "Wooldridge                      1\n",
              "Bullock                         1\n",
              "American Fork-Pleasant Grove    1\n",
              "Name: City, Length: 1110, dtype: int64"
            ]
          },
          "metadata": {},
          "execution_count": 69
        }
      ]
    },
    {
      "cell_type": "markdown",
      "source": [
        "### Start Time"
      ],
      "metadata": {
        "id": "qmsSQUiTTS22"
      }
    },
    {
      "cell_type": "code",
      "source": [
        "df.Start_Time"
      ],
      "metadata": {
        "id": "yZyUpfyX3b2-",
        "colab": {
          "base_uri": "https://localhost:8080/"
        },
        "outputId": "ff2ca7cd-eb2b-4c07-c904-23b4233eaa74"
      },
      "execution_count": 70,
      "outputs": [
        {
          "output_type": "execute_result",
          "data": {
            "text/plain": [
              "0          2016-02-08 00:37:08\n",
              "1          2016-02-08 05:56:20\n",
              "2          2016-02-08 06:15:39\n",
              "3          2016-02-08 06:51:45\n",
              "4          2016-02-08 07:53:43\n",
              "                  ...         \n",
              "2845337    2019-08-23 18:03:25\n",
              "2845338    2019-08-23 19:11:30\n",
              "2845339    2019-08-23 19:00:21\n",
              "2845340    2019-08-23 19:00:21\n",
              "2845341    2019-08-23 18:52:06\n",
              "Name: Start_Time, Length: 2845342, dtype: object"
            ]
          },
          "metadata": {},
          "execution_count": 70
        }
      ]
    },
    {
      "cell_type": "code",
      "source": [
        "df.Start_Time[0]"
      ],
      "metadata": {
        "colab": {
          "base_uri": "https://localhost:8080/",
          "height": 35
        },
        "id": "pkl0rUoCTLEV",
        "outputId": "22235955-edbc-43d8-b938-69bf740963e3"
      },
      "execution_count": 71,
      "outputs": [
        {
          "output_type": "execute_result",
          "data": {
            "text/plain": [
              "'2016-02-08 00:37:08'"
            ],
            "application/vnd.google.colaboratory.intrinsic+json": {
              "type": "string"
            }
          },
          "metadata": {},
          "execution_count": 71
        }
      ]
    },
    {
      "cell_type": "code",
      "source": [
        "df.Start_Time = pd.to_datetime(df.Start_Time)"
      ],
      "metadata": {
        "id": "Yk9W1e3yTK-D"
      },
      "execution_count": 72,
      "outputs": []
    },
    {
      "cell_type": "markdown",
      "source": [
        "- Fiqure out how to show percentages"
      ],
      "metadata": {
        "id": "8IsXwzQsVvgD"
      }
    },
    {
      "cell_type": "code",
      "source": [
        "sns.distplot(df.Start_Time.dt.hour, bins=24, kde=False, norm_hist=True)"
      ],
      "metadata": {
        "colab": {
          "base_uri": "https://localhost:8080/",
          "height": 389
        },
        "id": "0LJVqhWjTl4j",
        "outputId": "26030d3e-0388-4b1b-d004-fda628bde219"
      },
      "execution_count": 73,
      "outputs": [
        {
          "output_type": "stream",
          "name": "stderr",
          "text": [
            "/usr/local/lib/python3.7/dist-packages/seaborn/distributions.py:2619: FutureWarning:\n",
            "\n",
            "`distplot` is a deprecated function and will be removed in a future version. Please adapt your code to use either `displot` (a figure-level function with similar flexibility) or `histplot` (an axes-level function for histograms).\n",
            "\n"
          ]
        },
        {
          "output_type": "execute_result",
          "data": {
            "text/plain": [
              "<matplotlib.axes._subplots.AxesSubplot at 0x7fc7562a6cd0>"
            ]
          },
          "metadata": {},
          "execution_count": 73
        },
        {
          "output_type": "display_data",
          "data": {
            "text/plain": [
              "<Figure size 432x288 with 1 Axes>"
            ],
            "image/png": "[encoded data removed]"
          },
          "metadata": {
            "needs_background": "light"
          }
        }
      ]
    },
    {
      "cell_type": "markdown",
      "source": [
        "- A high percentage of accidents occur between 14 pm to 19 pm"
      ],
      "metadata": {
        "id": "s8TUb1x3X0CV"
      }
    },
    {
      "cell_type": "code",
      "source": [
        "sns.distplot(df.Start_Time.dt.dayofweek, bins=7, kde=False, norm_hist=True)"
      ],
      "metadata": {
        "colab": {
          "base_uri": "https://localhost:8080/",
          "height": 389
        },
        "id": "05Dph2ejTl2F",
        "outputId": "d2e07108-2c10-43b6-b26b-89580b7d8169"
      },
      "execution_count": 74,
      "outputs": [
        {
          "output_type": "stream",
          "name": "stderr",
          "text": [
            "/usr/local/lib/python3.7/dist-packages/seaborn/distributions.py:2619: FutureWarning:\n",
            "\n",
            "`distplot` is a deprecated function and will be removed in a future version. Please adapt your code to use either `displot` (a figure-level function with similar flexibility) or `histplot` (an axes-level function for histograms).\n",
            "\n"
          ]
        },
        {
          "output_type": "execute_result",
          "data": {
            "text/plain": [
              "<matplotlib.axes._subplots.AxesSubplot at 0x7fc76dffd190>"
            ]
          },
          "metadata": {},
          "execution_count": 74
        },
        {
          "output_type": "display_data",
          "data": {
            "text/plain": [
              "<Figure size 432x288 with 1 Axes>"
            ],
            "image/png": "[encoded data removed]"
          },
          "metadata": {
            "needs_background": "light"
          }
        }
      ]
    },
    {
      "cell_type": "markdown",
      "source": [
        "Is the distibution of accidents by hour the same on weekends as on weekdays. "
      ],
      "metadata": {
        "id": "Dsl4qZpRZLQs"
      }
    },
    {
      "cell_type": "code",
      "source": [
        "sundays_start_time = df.Start_Time[df.Start_Time.dt.dayofweek == 6]\n",
        "sns.distplot(sundays_start_time.dt.hour, bins=24, kde=False, norm_hist=True)"
      ],
      "metadata": {
        "colab": {
          "base_uri": "https://localhost:8080/",
          "height": 389
        },
        "id": "jQ1neLrRTly-",
        "outputId": "220cb892-0478-4fe5-f1a4-2afa9dedcb72"
      },
      "execution_count": 75,
      "outputs": [
        {
          "output_type": "stream",
          "name": "stderr",
          "text": [
            "/usr/local/lib/python3.7/dist-packages/seaborn/distributions.py:2619: FutureWarning:\n",
            "\n",
            "`distplot` is a deprecated function and will be removed in a future version. Please adapt your code to use either `displot` (a figure-level function with similar flexibility) or `histplot` (an axes-level function for histograms).\n",
            "\n"
          ]
        },
        {
          "output_type": "execute_result",
          "data": {
            "text/plain": [
              "<matplotlib.axes._subplots.AxesSubplot at 0x7fc78eb8d250>"
            ]
          },
          "metadata": {},
          "execution_count": 75
        },
        {
          "output_type": "display_data",
          "data": {
            "text/plain": [
              "<Figure size 432x288 with 1 Axes>"
            ],
            "image/png": "[encoded data removed]"
          },
          "metadata": {
            "needs_background": "light"
          }
        }
      ]
    },
    {
      "cell_type": "code",
      "source": [
        "monday_start_time = df.Start_Time[df.Start_Time.dt.dayofweek == 0]\n",
        "sns.distplot(monday_start_time.dt.hour, bins=24, kde=False, norm_hist=True)"
      ],
      "metadata": {
        "colab": {
          "base_uri": "https://localhost:8080/",
          "height": 389
        },
        "id": "AtXw1I8ATltr",
        "outputId": "3247756b-9c01-4955-ecec-5af66aef5663"
      },
      "execution_count": 76,
      "outputs": [
        {
          "output_type": "stream",
          "name": "stderr",
          "text": [
            "/usr/local/lib/python3.7/dist-packages/seaborn/distributions.py:2619: FutureWarning:\n",
            "\n",
            "`distplot` is a deprecated function and will be removed in a future version. Please adapt your code to use either `displot` (a figure-level function with similar flexibility) or `histplot` (an axes-level function for histograms).\n",
            "\n"
          ]
        },
        {
          "output_type": "execute_result",
          "data": {
            "text/plain": [
              "<matplotlib.axes._subplots.AxesSubplot at 0x7fc767a86e90>"
            ]
          },
          "metadata": {},
          "execution_count": 76
        },
        {
          "output_type": "display_data",
          "data": {
            "text/plain": [
              "<Figure size 432x288 with 1 Axes>"
            ],
            "image/png": "[encoded data removed]"
          },
          "metadata": {
            "needs_background": "light"
          }
        }
      ]
    },
    {
      "cell_type": "markdown",
      "source": [
        "On Sundays, the peak occurs between 10 am and 17 pm, unlike weekday."
      ],
      "metadata": {
        "id": "hTHuyx-OaGMl"
      }
    },
    {
      "cell_type": "code",
      "source": [
        "df_2019 = df[df.Start_Time.dt.year == 2016]\n",
        "sns.distplot(df_2019.Start_Time.dt.month, bins=12, kde=False, norm_hist=True)"
      ],
      "metadata": {
        "colab": {
          "base_uri": "https://localhost:8080/",
          "height": 389
        },
        "id": "n8vRxGJPanxH",
        "outputId": "14b003a6-957b-40c7-e627-8752c3601ec9"
      },
      "execution_count": 77,
      "outputs": [
        {
          "output_type": "stream",
          "name": "stderr",
          "text": [
            "/usr/local/lib/python3.7/dist-packages/seaborn/distributions.py:2619: FutureWarning:\n",
            "\n",
            "`distplot` is a deprecated function and will be removed in a future version. Please adapt your code to use either `displot` (a figure-level function with similar flexibility) or `histplot` (an axes-level function for histograms).\n",
            "\n"
          ]
        },
        {
          "output_type": "execute_result",
          "data": {
            "text/plain": [
              "<matplotlib.axes._subplots.AxesSubplot at 0x7fc763c09f90>"
            ]
          },
          "metadata": {},
          "execution_count": 77
        },
        {
          "output_type": "display_data",
          "data": {
            "text/plain": [
              "<Figure size 432x288 with 1 Axes>"
            ],
            "image/png": "[encoded data removed]"
          },
          "metadata": {
            "needs_background": "light"
          }
        }
      ]
    },
    {
      "cell_type": "markdown",
      "source": [
        "Can you explain the month-wise trend of accidents? \n",
        "\n",
        "- Much data is missing for 2016. Maybe even 2017."
      ],
      "metadata": {
        "id": "yw7DQwPwbknt"
      }
    },
    {
      "cell_type": "markdown",
      "source": [
        "## Start Latitude & Longitude"
      ],
      "metadata": {
        "id": "bG4JQHmQ992s"
      }
    },
    {
      "cell_type": "code",
      "source": [
        "df.Start_Lat"
      ],
      "metadata": {
        "colab": {
          "base_uri": "https://localhost:8080/"
        },
        "id": "WUuqFiA8anok",
        "outputId": "1ac739c7-bd02-4b6c-a923-834b5341fa47"
      },
      "execution_count": 78,
      "outputs": [
        {
          "output_type": "execute_result",
          "data": {
            "text/plain": [
              "0          40.108910\n",
              "1          39.865420\n",
              "2          39.102660\n",
              "3          41.062130\n",
              "4          39.172393\n",
              "             ...    \n",
              "2845337    34.002480\n",
              "2845338    32.766960\n",
              "2845339    33.775450\n",
              "2845340    33.992460\n",
              "2845341    34.133930\n",
              "Name: Start_Lat, Length: 2845342, dtype: float64"
            ]
          },
          "metadata": {},
          "execution_count": 78
        }
      ]
    },
    {
      "cell_type": "code",
      "source": [
        "df.Start_Lng"
      ],
      "metadata": {
        "colab": {
          "base_uri": "https://localhost:8080/"
        },
        "id": "DL3to6LJ97_g",
        "outputId": "87a29fcd-2ece-4e87-ff1b-8fffcc859dc5"
      },
      "execution_count": 79,
      "outputs": [
        {
          "output_type": "execute_result",
          "data": {
            "text/plain": [
              "0          -83.092860\n",
              "1          -84.062800\n",
              "2          -84.524680\n",
              "3          -81.537840\n",
              "4          -84.492792\n",
              "              ...    \n",
              "2845337   -117.379360\n",
              "2845338   -117.148060\n",
              "2845339   -117.847790\n",
              "2845340   -118.403020\n",
              "2845341   -117.230920\n",
              "Name: Start_Lng, Length: 2845342, dtype: float64"
            ]
          },
          "metadata": {},
          "execution_count": 79
        }
      ]
    },
    {
      "cell_type": "code",
      "source": [
        "sample_df = df.sample(int(0.1 * len(df)))"
      ],
      "metadata": {
        "id": "_i0h8UNO979M"
      },
      "execution_count": 80,
      "outputs": []
    },
    {
      "cell_type": "code",
      "source": [
        "sns.scatterplot(x=sample_df.Start_Lng, y=sample_df.Start_Lat, size=0.001)"
      ],
      "metadata": {
        "colab": {
          "base_uri": "https://localhost:8080/",
          "height": 301
        },
        "id": "sxnU1qbl977A",
        "outputId": "b31a318f-f1a9-4b71-ab31-ca6acfc6d574"
      },
      "execution_count": 81,
      "outputs": [
        {
          "output_type": "execute_result",
          "data": {
            "text/plain": [
              "<matplotlib.axes._subplots.AxesSubplot at 0x7fc79a751810>"
            ]
          },
          "metadata": {},
          "execution_count": 81
        },
        {
          "output_type": "display_data",
          "data": {
            "text/plain": [
              "<Figure size 432x288 with 1 Axes>"
            ],
            "image/png": "[encoded data removed]"
          },
          "metadata": {
            "needs_background": "light"
          }
        }
      ]
    },
    {
      "cell_type": "code",
      "source": [
        "import folium"
      ],
      "metadata": {
        "id": "ner-5gP497zd"
      },
      "execution_count": 82,
      "outputs": []
    },
    {
      "cell_type": "code",
      "source": [
        "lat, lon = df.Start_Lat[0], df.Start_Lng[0]\n",
        "lat, lon"
      ],
      "metadata": {
        "colab": {
          "base_uri": "https://localhost:8080/"
        },
        "id": "UnUiGMGTAcaz",
        "outputId": "896ac567-1375-4709-f601-40e3a0ddd450"
      },
      "execution_count": 83,
      "outputs": [
        {
          "output_type": "execute_result",
          "data": {
            "text/plain": [
              "(40.10891, -83.09286)"
            ]
          },
          "metadata": {},
          "execution_count": 83
        }
      ]
    },
    {
      "cell_type": "code",
      "source": [
        "for x in df[['Start_Lat', 'Start_Lng']].sample(100).iteritems():\n",
        "  print(x[1])"
      ],
      "metadata": {
        "colab": {
          "base_uri": "https://localhost:8080/"
        },
        "id": "_XxCuZTgBLxl",
        "outputId": "70d52801-993f-4fb6-be33-4d6b7322762e"
      },
      "execution_count": 84,
      "outputs": [
        {
          "output_type": "stream",
          "name": "stdout",
          "text": [
            "1878505    35.180671\n",
            "1175570    35.906064\n",
            "251366     41.772709\n",
            "126981     37.187870\n",
            "497534     35.554374\n",
            "             ...    \n",
            "2390877    33.994047\n",
            "1771276    35.900405\n",
            "2756629    32.736010\n",
            "1253902    34.808114\n",
            "2261101    33.596750\n",
            "Name: Start_Lat, Length: 100, dtype: float64\n",
            "1878505    -80.889253\n",
            "1175570    -84.145121\n",
            "251366    -112.163495\n",
            "126981    -121.688870\n",
            "497534    -120.714273\n",
            "              ...    \n",
            "2390877   -117.905195\n",
            "1771276    -78.801368\n",
            "2756629    -97.438260\n",
            "1253902    -82.217218\n",
            "2261101   -111.935480\n",
            "Name: Start_Lng, Length: 100, dtype: float64\n"
          ]
        }
      ]
    },
    {
      "cell_type": "code",
      "source": [
        "zip(list(df.Start_Lat), list(df.Start_Lng))"
      ],
      "metadata": {
        "colab": {
          "base_uri": "https://localhost:8080/"
        },
        "id": "sM2SFY5xGihQ",
        "outputId": "17c22d43-3b5d-430d-8d59-b2c6e492e548"
      },
      "execution_count": 85,
      "outputs": [
        {
          "output_type": "execute_result",
          "data": {
            "text/plain": [
              "<zip at 0x7fc7a7401640>"
            ]
          },
          "metadata": {},
          "execution_count": 85
        }
      ]
    },
    {
      "cell_type": "code",
      "source": [
        "from folium.plugins import HeatMap"
      ],
      "metadata": {
        "id": "OB0SZ_N4HAa1"
      },
      "execution_count": 86,
      "outputs": []
    },
    {
      "cell_type": "code",
      "source": [
        ""
      ],
      "metadata": {
        "id": "5yLd2foODMfn"
      },
      "execution_count": 86,
      "outputs": []
    },
    {
      "cell_type": "code",
      "source": [
        "sample_df = df.sample(int(0.001 * len(df)))\n",
        "lat_lon_pairs = zip(list(sample_df.Start_Lat), list(sample_df.Start_Lng))"
      ],
      "metadata": {
        "id": "bkbsORlGHPG6"
      },
      "execution_count": 87,
      "outputs": []
    },
    {
      "cell_type": "code",
      "source": [
        "map = folium.Map()\n",
        "HeatMap(lat_lon_pairs).add_to(map)\n",
        "map"
      ],
      "metadata": {
        "colab": {
          "base_uri": "https://localhost:8080/",
          "height": 874
        },
        "id": "tER3Qq-fanmG",
        "outputId": "e567c018-63c3-45c3-bb81-f47bb7712d2d"
      },
      "execution_count": 88,
      "outputs": [
        {
          "output_type": "execute_result",
          "data": {
            "text/plain": [
              "<folium.folium.Map at 0x7fc7a73e7f50>"
            ],
            "text/html": [
              "<div style=\"width:100%;\"><div style=\"position:relative;width:100%;height:0;padding-bottom:60%;\"><span style=\"color:#565656\">Make this Notebook Trusted to load map: File -> Trust Notebook</span><iframe src=\"about:blank\" style=\"position:absolute;width:100%;height:100%;left:0;top:0;border:none !important;\" data-html=%3C%21DOCTYPE%20html%3E%0A%3Chead%3E%20%20%20%20%0A%20%20%20%20%3Cmeta%20http-equiv%3D%22content-type%22%20content%3D%22text/html%3B%20charset%3DUTF-8%22%20/%3E%0A%20%20%20%20%3Cscript%3EL_PREFER_CANVAS%3Dfalse%3B%20L_NO_TOUCH%3Dfalse%3B%20L_DISABLE_3D%3Dfalse%3B%3C/script%3E%0A%20%20%20%20%3Cscript%20src%3D%22https%3A//cdn.jsdelivr.net/npm/leaflet%401.4.0/dist/leaflet.js%22%3E%3C/script%3E%0A%20%20%20%20%3Cscript%20src%3D%22https%3A//code.jquery.com/jquery-1.12.4.min.js%22%3E%3C/script%3E%0A%20%20%20%20%3Cscript%20src%3D%22https%3A//maxcdn.bootstrapcdn.com/bootstrap/3.2.0/js/bootstrap.min.js%22%3E%3C/script%3E%0A%20%20%20%20%3Cscript%20src%3D%22https%3A//cdnjs.cloudflare.com/ajax/libs/Leaflet.awesome-markers/2.0.2/leaflet.awesome-markers.js%22%3E%3C/script%3E%0A%20%20%20%20%3Clink%20rel%3D%22stylesheet%22%20href%3D%22https%3A//cdn.jsdelivr.net/npm/leaflet%401.4.0/dist/leaflet.css%22/%3E%0A%20%20%20%20%3Clink%20rel%3D%22stylesheet%22%20href%3D%22https%3A//maxcdn.bootstrapcdn.com/bootstrap/3.2.0/css/bootstrap.min.css%22/%3E%0A%20%20%20%20%3Clink%20rel%3D%22stylesheet%22%20href%3D%22https%3A//maxcdn.bootstrapcdn.com/bootstrap/3.2.0/css/bootstrap-theme.min.css%22/%3E%0A%20%20%20%20%3Clink%20rel%3D%22stylesheet%22%20href%3D%22https%3A//maxcdn.bootstrapcdn.com/font-awesome/4.6.3/css/font-awesome.min.css%22/%3E%0A%20%20%20%20%3Clink%20rel%3D%22stylesheet%22%20href%3D%22https%3A//cdnjs.cloudflare.com/ajax/libs/Leaflet.awesome-markers/2.0.2/leaflet.awesome-markers.css%22/%3E%0A%20%20%20%20%3Clink%20rel%3D%22stylesheet%22%20href%3D%22https%3A//rawcdn.githack.com/python-visualization/folium/master/folium/templates/leaflet.awesome.rotate.css%22/%3E%0A%20%20%20%20%3Cstyle%3Ehtml%2C%20body%20%7Bwidth%3A%20100%25%3Bheight%3A%20100%25%3Bmargin%3A%200%3Bpadding%3A%200%3B%7D%3C/style%3E%0A%20%20%20%20%3Cstyle%3E%23map%20%7Bposition%3Aabsolute%3Btop%3A0%3Bbottom%3A0%3Bright%3A0%3Bleft%3A0%3B%7D%3C/style%3E%0A%20%20%20%20%0A%20%20%20%20%3Cmeta%20name%3D%22viewport%22%20content%3D%22width%3Ddevice-width%2C%0A%20%20%20%20%20%20%20%20initial-scale%3D1.0%2C%20maximum-scale%3D1.0%2C%20user-scalable%3Dno%22%20/%3E%0A%20%20%20%20%3Cstyle%3E%23map_ee0721b72b4848328540bfbca6a57270%20%7B%0A%20%20%20%20%20%20%20%20position%3A%20relative%3B%0A%20%20%20%20%20%20%20%20width%3A%20100.0%25%3B%0A%20%20%20%20%20%20%20%20height%3A%20100.0%25%3B%0A%20%20%20%20%20%20%20%20left%3A%200.0%25%3B%0A%20%20%20%20%20%20%20%20top%3A%200.0%25%3B%0A%20%20%20%20%20%20%20%20%7D%0A%20%20%20%20%3C/style%3E%0A%20%20%20%20%3Cscript%20src%3D%22https%3A//leaflet.github.io/Leaflet.heat/dist/leaflet-heat.js%22%3E%3C/script%3E%0A%3C/head%3E%0A%3Cbody%3E%20%20%20%20%0A%20%20%20%20%0A%20%20%20%20%3Cdiv%20class%3D%22folium-map%22%20id%3D%22map_ee0721b72b4848328540bfbca6a57270%22%20%3E%3C/div%3E%0A%3C/body%3E%0A%3Cscript%3E%20%20%20%20%0A%20%20%20%20%0A%20%20%20%20%0A%20%20%20%20%20%20%20%20var%20bounds%20%3D%20null%3B%0A%20%20%20%20%0A%0A%20%20%20%20var%20map_ee0721b72b4848328540bfbca6a57270%20%3D%20L.map%28%0A%20%20%20%20%20%20%20%20%27map_ee0721b72b4848328540bfbca6a57270%27%2C%20%7B%0A%20%20%20%20%20%20%20%20center%3A%20%5B0%2C%200%5D%2C%0A%20%20%20%20%20%20%20%20zoom%3A%201%2C%0A%20%20%20%20%20%20%20%20maxBounds%3A%20bounds%2C%0A%20%20%20%20%20%20%20%20layers%3A%20%5B%5D%2C%0A%20%20%20%20%20%20%20%20worldCopyJump%3A%20false%2C%0A%20%20%20%20%20%20%20%20crs%3A%20L.CRS.EPSG3857%2C%0A%20%20%20%20%20%20%20%20zoomControl%3A%20true%2C%0A%20%20%20%20%20%20%20%20%7D%29%3B%0A%0A%0A%20%20%20%20%0A%20%20%20%20var%20tile_layer_932627e2097f4841b84f6726b8cba80c%20%3D%20L.tileLayer%28%0A%20%20%20%20%20%20%20%20%27https%3A//%7Bs%7D.tile.openstreetmap.org/%7Bz%7D/%7Bx%7D/%7By%7D.png%27%2C%0A%20%20%20%20%20%20%20%20%7B%0A%20%20%20%20%20%20%20%20%22attribution%22%3A%20null%2C%0A%20%20%20%20%20%20%20%20%22detectRetina%22%3A%20false%2C%0A%20%20%20%20%20%20%20%20%22maxNativeZoom%22%3A%2018%2C%0A%20%20%20%20%20%20%20%20%22maxZoom%22%3A%2018%2C%0A%20%20%20%20%20%20%20%20%22minZoom%22%3A%200%2C%0A%20%20%20%20%20%20%20%20%22noWrap%22%3A%20false%2C%0A%20%20%20%20%20%20%20%20%22opacity%22%3A%201%2C%0A%20%20%20%20%20%20%20%20%22subdomains%22%3A%20%22abc%22%2C%0A%20%20%20%20%20%20%20%20%22tms%22%3A%20false%0A%7D%29.addTo%28map_ee0721b72b4848328540bfbca6a57270%29%3B%0A%20%20%20%20%0A%20%20%20%20%20%20%20%20%20%20%20%20var%20heat_map_5cf2bdae07694ab5ad3ba13ed102d8e0%20%3D%20L.heatLayer%28%0A%20%20%20%20%20%20%20%20%20%20%20%20%20%20%20%20%5B%5B44.93413%2C%20-93.27453%5D%2C%20%5B33.859919%2C%20-118.299192%5D%2C%20%5B33.519838%2C%20-112.219782%5D%2C%20%5B25.786%2C%20-80.25809%5D%2C%20%5B25.776361%2C%20-80.482116%5D%2C%20%5B35.03949%2C%20-85.28438%5D%2C%20%5B40.037797%2C%20-78.780326%5D%2C%20%5B40.60043%2C%20-73.94188%5D%2C%20%5B32.952623%2C%20-80.165306%5D%2C%20%5B33.232711%2C%20-117.142%5D%2C%20%5B40.797334%2C%20-77.665559%5D%2C%20%5B41.28806%2C%20-72.53188%5D%2C%20%5B40.207482%2C%20-111.658891%5D%2C%20%5B38.20139%2C%20-85.69279%5D%2C%20%5B29.087059000000004%2C%20-82.263355%5D%2C%20%5B38.172172%2C%20-122.196337%5D%2C%20%5B32.806470000000004%2C%20-86.921786%5D%2C%20%5B38.05005%2C%20-122.643918%5D%2C%20%5B38.702795%2C%20-121.780712%5D%2C%20%5B40.785803%2C%20-73.93975999999998%5D%2C%20%5B25.760888%2C%20-80.39667299999998%5D%2C%20%5B39.8883%2C%20-83.031522%5D%2C%20%5B43.93112%2C%20-121.35255%5D%2C%20%5B45.34572%2C%20-118.16076%5D%2C%20%5B34.289722%2C%20-119.156389%5D%2C%20%5B33.796388%2C%20-84.393405%5D%2C%20%5B48.682382%2C%20-115.85844%5D%2C%20%5B32.118922%2C%20-110.774493%5D%2C%20%5B46.416727%2C%20-114.145959%5D%2C%20%5B29.615041%2C%20-82.39060699999997%5D%2C%20%5B32.780669%2C%20-117.092525%5D%2C%20%5B28.399953000000004%2C%20-81.40451999999998%5D%2C%20%5B36.759447%2C%20-76.273853%5D%2C%20%5B37.66258300000001%2C%20-109.435178%5D%2C%20%5B30.389740000000003%2C%20-87.06683000000002%5D%2C%20%5B34.173649%2C%20-118.518531%5D%2C%20%5B38.56341%2C%20-121.341435%5D%2C%20%5B40.557932%2C%20-112.29702%5D%2C%20%5B33.590236%2C%20-92.798391%5D%2C%20%5B38.55904500000001%2C%20-121.47153%5D%2C%20%5B45.27586%2C%20-122.77316%5D%2C%20%5B35.748804%2C%20-78.83518199999997%5D%2C%20%5B46.161515%2C%20-123.806865%5D%2C%20%5B41.9536%2C%20-77.083629%5D%2C%20%5B38.607882%2C%20-109.604416%5D%2C%20%5B37.425003%2C%20-122.31377%5D%2C%20%5B35.430649%2C%20-119.020178%5D%2C%20%5B33.943290000000005%2C%20-117.392826%5D%2C%20%5B29.73146400000001%2C%20-95.477586%5D%2C%20%5B48.152%2C%20-122.2271%5D%2C%20%5B34.16475%2C%20-119.0628%5D%2C%20%5B36.0679%2C%20-80.31188%5D%2C%20%5B39.7146%2C%20-82.98698%5D%2C%20%5B25.60057%2C%20-80.381153%5D%2C%20%5B38.70341%2C%20-122.604616%5D%2C%20%5B37.69085%2C%20-122.0851%5D%2C%20%5B39.74222%2C%20-86.040315%5D%2C%20%5B40.74744000000001%2C%20-73.96864000000002%5D%2C%20%5B45.011347%2C%20-93.400931%5D%2C%20%5B33.95328%2C%20-118.08998%5D%2C%20%5B45.45525%2C%20-122.579107%5D%2C%20%5B34.092369%2C%20-117.544025%5D%2C%20%5B29.15228%2C%20-81.08269%5D%2C%20%5B37.250389%2C%20-93.296862%5D%2C%20%5B40.86743%2C%20-73.97599%5D%2C%20%5B44.16128%2C%20-75.70791%5D%2C%20%5B32.91175%2C%20-96.88006%5D%2C%20%5B37.720067%2C%20-121.658613%5D%2C%20%5B28.555059000000004%2C%20-81.413976%5D%2C%20%5B32.00298%2C%20-110.992055%5D%2C%20%5B28.584846%2C%20-81.207662%5D%2C%20%5B33.87355%2C%20-118.20704%5D%2C%20%5B45.70035%2C%20-120.72525%5D%2C%20%5B35.114059999999995%2C%20-81.855685%5D%2C%20%5B37.188287%2C%20-119.259852%5D%2C%20%5B35.231564%2C%20-80.834471%5D%2C%20%5B37.983119%2C%20-121.269487%5D%2C%20%5B45.124843%2C%20-93.213361%5D%2C%20%5B40.86521%2C%20-74.01665%5D%2C%20%5B34.06673%2C%20-117.23857%5D%2C%20%5B25.89991400000001%2C%20-80.16134100000002%5D%2C%20%5B38.61491%2C%20-121.15045%5D%2C%20%5B45.436288%2C%20-122.758923%5D%2C%20%5B37.925172%2C%20-122.35998899999998%5D%2C%20%5B42.38194%2C%20-88.05569%5D%2C%20%5B38.970392%2C%20-119.915722%5D%2C%20%5B44.10373%2C%20-121.30674%5D%2C%20%5B38.878159%2C%20-104.835574%5D%2C%20%5B39.345313%2C%20-123.31929%5D%2C%20%5B25.687121%2C%20-80.363393%5D%2C%20%5B25.670913%2C%20-80.415251%5D%2C%20%5B37.52173300000001%2C%20-120.877515%5D%2C%20%5B38.510429%2C%20-121.452765%5D%2C%20%5B25.809153%2C%20-80.321088%5D%2C%20%5B34.11535%2C%20-118.26855%5D%2C%20%5B25.747992%2C%20-80.310666%5D%2C%20%5B40.661279%2C%20-112.086728%5D%2C%20%5B38.456293%2C%20-121.407524%5D%2C%20%5B44.38718%2C%20-93.96617%5D%2C%20%5B38.520823%2C%20-78.776489%5D%2C%20%5B27.095126%2C%20-82.44431800000002%5D%2C%20%5B40.00082%2C%20-86.00395999999998%5D%2C%20%5B34.05537%2C%20-118.003805%5D%2C%20%5B25.937143%2C%20-80.204819%5D%2C%20%5B38.309551%2C%20-122.305458%5D%2C%20%5B25.927734%2C%20-80.18823499999998%5D%2C%20%5B38.96074%2C%20-93.20105%5D%2C%20%5B40.256804%2C%20-75.248028%5D%2C%20%5B27.990006%2C%20-82.742036%5D%2C%20%5B26.272849%2C%20-81.749205%5D%2C%20%5B32.76837800000001%2C%20-96.665455%5D%2C%20%5B35.63056%2C%20-78.56626999999997%5D%2C%20%5B29.50359000000001%2C%20-95.114288%5D%2C%20%5B40.380392%2C%20-111.824613%5D%2C%20%5B34.05516%2C%20-118.21407%5D%2C%20%5B36.964734%2C%20-121.552085%5D%2C%20%5B32.632234999999994%2C%20-80.875392%5D%2C%20%5B36.22084%2C%20-86.624843%5D%2C%20%5B37.41946%2C%20-121.94406%5D%2C%20%5B36.07889%2C%20-79.22901%5D%2C%20%5B30.51921%2C%20-97.68859%5D%2C%20%5B28.54712%2C%20-81.2314%5D%2C%20%5B42.32974%2C%20-121.81801000000002%5D%2C%20%5B41.05937700000001%2C%20-111.962582%5D%2C%20%5B35.099489%2C%20-118.143707%5D%2C%20%5B28.615119%2C%20-81.47613100000002%5D%2C%20%5B41.6324%2C%20-72.87361%5D%2C%20%5B32.878378000000005%2C%20-96.898094%5D%2C%20%5B30.28281500000001%2C%20-97.653189%5D%2C%20%5B39.31842%2C%20-76.65245%5D%2C%20%5B38.61393%2C%20-90.22478%5D%2C%20%5B27.484756%2C%20-80.500699%5D%2C%20%5B40.76192%2C%20-113.00651%5D%2C%20%5B34.081574%2C%20-117.723001%5D%2C%20%5B34.055331%2C%20-118.219102%5D%2C%20%5B33.46102%2C%20-112.29573%5D%2C%20%5B27.986337%2C%20-82.76756%5D%2C%20%5B34.485985%2C%20-79.333578%5D%2C%20%5B28.449998%2C%20-81.469791%5D%2C%20%5B45.64993%2C%20-122.5969%5D%2C%20%5B33.76943%2C%20-118.03427%5D%2C%20%5B25.80534%2C%20-80.32123%5D%2C%20%5B44.93372700000001%2C%20-93.274494%5D%2C%20%5B25.631227%2C%20-80.380043%5D%2C%20%5B40.643759%2C%20-74.287973%5D%2C%20%5B45.036982%2C%20-93.400665%5D%2C%20%5B28.480622%2C%20-81.286686%5D%2C%20%5B35.397986%2C%20-119.150695%5D%2C%20%5B46.997205%2C%20-114.126158%5D%2C%20%5B39.021903%2C%20-84.50460799999998%5D%2C%20%5B28.447068%2C%20-81.470865%5D%2C%20%5B40.135256%2C%20-111.646982%5D%2C%20%5B25.686754%2C%20-80.40081500000002%5D%2C%20%5B41.16756%2C%20-112.02078%5D%2C%20%5B33.774452000000004%2C%20-118.012426%5D%2C%20%5B40.243046%2C%20-111.15697%5D%2C%20%5B48.19089500000001%2C%20-122.205423%5D%2C%20%5B42.52337%2C%20-71.51359000000002%5D%2C%20%5B39.29628%2C%20-76.56783%5D%2C%20%5B35.06135%2C%20-85.31865%5D%2C%20%5B43.084983%2C%20-75.254384%5D%2C%20%5B33.773549%2C%20-117.871531%5D%2C%20%5B34.034539%2C%20-118.350448%5D%2C%20%5B40.031225%2C%20-76.299314%5D%2C%20%5B39.002006%2C%20-122.828955%5D%2C%20%5B35.674377%2C%20-77.911638%5D%2C%20%5B29.67803%2C%20-95.427475%5D%2C%20%5B34.04965%2C%20-118.44876%5D%2C%20%5B32.771659%2C%20-117.132133%5D%2C%20%5B39.90796%2C%20-82.86504000000002%5D%2C%20%5B30.533497%2C%20-87.089625%5D%2C%20%5B35.233748%2C%20-80.77515799999998%5D%2C%20%5B43.248824%2C%20-86.20484%5D%2C%20%5B35.031965%2C%20-82.49595%5D%2C%20%5B32.68515%2C%20-96.891529%5D%2C%20%5B34.466699%2C%20-118.32981399999998%5D%2C%20%5B40.621233%2C%20-74.248359%5D%2C%20%5B35.77873%2C%20-78.57264%5D%2C%20%5B39.78604%2C%20-105.78347%5D%2C%20%5B28.449935%2C%20-81.478525%5D%2C%20%5B30.455374%2C%20-87.29744000000002%5D%2C%20%5B30.475215%2C%20-91.111308%5D%2C%20%5B25.751507%2C%20-80.335864%5D%2C%20%5B33.864472%2C%20-118.326524%5D%2C%20%5B34.03031%2C%20-117.698141%5D%2C%20%5B38.852902%2C%20-77.39809100000002%5D%2C%20%5B40.047291%2C%20-75.408985%5D%2C%20%5B33.49471%2C%20-112.05631%5D%2C%20%5B40.24519%2C%20-76.80873000000003%5D%2C%20%5B40.400675%2C%20-75.49839%5D%2C%20%5B34.231074%2C%20-119.162216%5D%2C%20%5B35.050878999999995%2C%20-85.212976%5D%2C%20%5B41.207103%2C%20-111.814957%5D%2C%20%5B40.722927%2C%20-73.939677%5D%2C%20%5B38.863886%2C%20-77.337124%5D%2C%20%5B35.34155399999999%2C%20-80.767653%5D%2C%20%5B33.814869%2C%20-117.914451%5D%2C%20%5B38.636256%2C%20-121.291762%5D%2C%20%5B45.643719%2C%20-121.925314%5D%2C%20%5B41.81256%2C%20-88.15772%5D%2C%20%5B41.36943%2C%20-72.16971%5D%2C%20%5B44.850742%2C%20-123.01012%5D%2C%20%5B45.78707%2C%20-95.07825%5D%2C%20%5B26.63245%2C%20-80.06814%5D%2C%20%5B37.548059%2C%20-122.291315%5D%2C%20%5B33.73072%2C%20-117.98667%5D%2C%20%5B41.97206%2C%20-88.11965%5D%2C%20%5B40.805187%2C%20-124.133392%5D%2C%20%5B36.66982%2C%20-80.708903%5D%2C%20%5B35.00633%2C%20-85.20756%5D%2C%20%5B41.81055%2C%20-72.52513%5D%2C%20%5B25.692404%2C%20-80.445792%5D%2C%20%5B38.708556%2C%20-77.162014%5D%2C%20%5B30.41788%2C%20-91.089515%5D%2C%20%5B34.071690000000004%2C%20-118.13221%5D%2C%20%5B41.108057%2C%20-76.88003%5D%2C%20%5B39.22264000000001%2C%20-84.44112%5D%2C%20%5B39.189401%2C%20-94.617766%5D%2C%20%5B37.770341%2C%20-121.173759%5D%2C%20%5B45.700115%2C%20-111.169792%5D%2C%20%5B39.191769%2C%20-121.510886%5D%2C%20%5B25.764586%2C%20-80.303949%5D%2C%20%5B43.049014%2C%20-76.14256%5D%2C%20%5B26.232529%2C%20-81.73638199999998%5D%2C%20%5B35.780914%2C%20-78.675995%5D%2C%20%5B39.01708%2C%20-77.10181999999998%5D%2C%20%5B45.477744%2C%20-94.969586%5D%2C%20%5B37.87891%2C%20-121.27826%5D%2C%20%5B30.985726%2C%20-83.386155%5D%2C%20%5B25.889368%2C%20-80.206795%5D%2C%20%5B36.13345%2C%20-95.85113%5D%2C%20%5B39.35237%2C%20-112.570289%5D%2C%20%5B32.920764%2C%20-96.849902%5D%2C%20%5B33.12852%2C%20-117.11288%5D%2C%20%5B38.33427%2C%20-77.49749%5D%2C%20%5B39.764682%2C%20-121.465047%5D%2C%20%5B34.038135%2C%20-117.320226%5D%2C%20%5B30.30812%2C%20-97.952245%5D%2C%20%5B37.565832%2C%20-120.993643%5D%2C%20%5B33.775556%2C%20-117.853227%5D%2C%20%5B27.962313%2C%20-82.799944%5D%2C%20%5B41.63156%2C%20-87.69627%5D%2C%20%5B34.813320000000004%2C%20-92.35367%5D%2C%20%5B34.141521000000004%2C%20-80.749619%5D%2C%20%5B25.886455%2C%20-80.21079499999998%5D%2C%20%5B33.138009999999994%2C%20-117.15835%5D%2C%20%5B41.23909%2C%20-95.95362%5D%2C%20%5B42.42756%2C%20-82.9265%5D%2C%20%5B45.241242%2C%20-93.66321%5D%2C%20%5B25.92478%2C%20-80.154122%5D%2C%20%5B39.892677%2C%20-75.920001%5D%2C%20%5B38.954612%2C%20-77.00904200000002%5D%2C%20%5B32.782634%2C%20-96.812585%5D%2C%20%5B33.975326%2C%20-118.125081%5D%2C%20%5B29.90085%2C%20-83.483889%5D%2C%20%5B30.535492%2C%20-87.374237%5D%2C%20%5B39.64787000000001%2C%20-84.15120999999998%5D%2C%20%5B41.83219%2C%20-87.69566%5D%2C%20%5B45.244305%2C%20-94.076759%5D%2C%20%5B35.442962%2C%20-80.87645699999999%5D%2C%20%5B34.05118%2C%20-118.261454%5D%2C%20%5B29.656724%2C%20-95.292278%5D%2C%20%5B35.886801%2C%20-78.557456%5D%2C%20%5B34.120565%2C%20-117.698503%5D%2C%20%5B39.018298%2C%20-76.926473%5D%2C%20%5B40.096129%2C%20-75.358104%5D%2C%20%5B32.776927%2C%20-117.100739%5D%2C%20%5B34.82651%2C%20-82.307443%5D%2C%20%5B33.956171000000005%2C%20-118.249852%5D%2C%20%5B32.163189%2C%20-110.909115%5D%2C%20%5B33.980718%2C%20-117.904997%5D%2C%20%5B33.952721999999994%2C%20-118.369163%5D%2C%20%5B35.182889%2C%20-80.887559%5D%2C%20%5B35.19544600000001%2C%20-80.876114%5D%2C%20%5B44.759976%2C%20-75.109605%5D%2C%20%5B37.61628%2C%20-122.07335%5D%2C%20%5B41.548943%2C%20-73.027838%5D%2C%20%5B25.626078%2C%20-80.418627%5D%2C%20%5B38.64422%2C%20-121.3787%5D%2C%20%5B34.154703000000005%2C%20-119.177667%5D%2C%20%5B40.582718%2C%20-75.609409%5D%2C%20%5B44.05493%2C%20-121.30704%5D%2C%20%5B34.002653%2C%20-117.379764%5D%2C%20%5B35.901522%2C%20-78.558035%5D%2C%20%5B36.92905800000001%2C%20-76.407749%5D%2C%20%5B40.09267%2C%20-75.12541999999998%5D%2C%20%5B37.349621%2C%20-84.30774%5D%2C%20%5B36.045719%2C%20-86.72079699999998%5D%2C%20%5B44.92805300000001%2C%20-124.014408%5D%2C%20%5B30.056248%2C%20-95.4324%5D%2C%20%5B38.845477%2C%20-76.862886%5D%2C%20%5B41.06558%2C%20-73.86478000000002%5D%2C%20%5B25.858121%2C%20-80.322879%5D%2C%20%5B41.67791%2C%20-72.65629%5D%2C%20%5B44.79368%2C%20-93.28883%5D%2C%20%5B40.67399%2C%20-73.80162%5D%2C%20%5B38.380219%2C%20-121.365672%5D%2C%20%5B37.797871%2C%20-122.273036%5D%2C%20%5B44.812619%2C%20-93.086415%5D%2C%20%5B38.76717100000001%2C%20-90.490912%5D%2C%20%5B39.27454%2C%20-77.54138%5D%2C%20%5B47.62991%2C%20-122.32711%5D%2C%20%5B34.030312%2C%20-117.694526%5D%2C%20%5B32.470516%2C%20-93.703914%5D%2C%20%5B28.183783%2C%20-82.74023100000002%5D%2C%20%5B43.59001%2C%20-119.9817%5D%2C%20%5B33.437470000000005%2C%20-112.27238%5D%2C%20%5B41.743112%2C%20-87.68268%5D%2C%20%5B36.459712%2C%20-76.099572%5D%2C%20%5B33.95697%2C%20-118.28057%5D%2C%20%5B25.76861%2C%20-80.367676%5D%2C%20%5B40.844859%2C%20-73.923059%5D%2C%20%5B38.65098%2C%20-121.37124%5D%2C%20%5B38.22655%2C%20-85.72044%5D%2C%20%5B47.57844%2C%20-122.21166%5D%2C%20%5B25.597749%2C%20-80.413599%5D%2C%20%5B37.51528%2C%20-77.18481%5D%2C%20%5B41.121393%2C%20-73.328795%5D%2C%20%5B39.200515%2C%20-84.75558000000002%5D%2C%20%5B34.06783%2C%20-117.40317%5D%2C%20%5B39.065169%2C%20-76.881649%5D%2C%20%5B27.975392%2C%20-82.775914%5D%2C%20%5B35.695816%2C%20-120.696491%5D%2C%20%5B35.25813%2C%20-80.795224%5D%2C%20%5B44.952696%2C%20-93.087598%5D%2C%20%5B43.482052%2C%20-116.110671%5D%2C%20%5B34.134687%2C%20-117.640747%5D%2C%20%5B25.810399%2C%20-80.15480500000002%5D%2C%20%5B39.979419%2C%20-83.254442%5D%2C%20%5B42.417607%2C%20-122.85456200000002%5D%2C%20%5B27.339118%2C%20-82.46377%5D%2C%20%5B38.800846%2C%20-77.083286%5D%2C%20%5B41.87312%2C%20-87.90661%5D%2C%20%5B42.896729%2C%20-123.243974%5D%2C%20%5B35.823065%2C%20-81.190497%5D%2C%20%5B38.664001%2C%20-121.27218899999998%5D%2C%20%5B34.21394%2C%20-80.98552%5D%2C%20%5B38.06626%2C%20-112.6737%5D%2C%20%5B30.35535800000001%2C%20-91.109648%5D%2C%20%5B34.148053999999995%2C%20-118.085476%5D%2C%20%5B38.926395%2C%20-121.377135%5D%2C%20%5B40.699047%2C%20-74.25299%5D%2C%20%5B39.096598%2C%20-94.595058%5D%2C%20%5B44.979049%2C%20-93.400445%5D%2C%20%5B45.035496%2C%20-92.90332%5D%2C%20%5B25.831247%2C%20-80.24035%5D%2C%20%5B42.997252%2C%20-71.424185%5D%2C%20%5B40.65043%2C%20-74.011593%5D%2C%20%5B33.80311%2C%20-117.975649%5D%2C%20%5B39.84993%2C%20-74.73405600000002%5D%2C%20%5B35.41558%2C%20-97.32121%5D%2C%20%5B33.5214%2C%20-86.828136%5D%2C%20%5B25.940448%2C%20-80.25996500000002%5D%2C%20%5B30.212121000000003%2C%20-97.748308%5D%2C%20%5B34.00557%2C%20-118.282716%5D%2C%20%5B32.677406%2C%20-97.057288%5D%2C%20%5B27.80468%2C%20-82.679452%5D%2C%20%5B28.30813%2C%20-82.66615%5D%2C%20%5B37.101082%2C%20-121.122654%5D%2C%20%5B33.98063%2C%20-117.34024%5D%2C%20%5B34.722944%2C%20-120.436216%5D%2C%20%5B43.6379%2C%20-95.61808%5D%2C%20%5B30.430972%2C%20-91.091265%5D%2C%20%5B28.538766%2C%20-81.472706%5D%2C%20%5B34.108133%2C%20-117.30271%5D%2C%20%5B37.745942%2C%20-122.200952%5D%2C%20%5B27.766516%2C%20-82.66850699999998%5D%2C%20%5B42.53032%2C%20-83.11574%5D%2C%20%5B28.493694%2C%20-81.50860899999998%5D%2C%20%5B40.340391%2C%20-76.307612%5D%2C%20%5B30.015934%2C%20-97.718982%5D%2C%20%5B40.139527%2C%20-80.348421%5D%2C%20%5B33.564795000000004%2C%20-112.13312%5D%2C%20%5B35.722819%2C%20-78.584062%5D%2C%20%5B45.572572%2C%20-118.454999%5D%2C%20%5B37.828028%2C%20-122.29443700000002%5D%2C%20%5B42.939822%2C%20-85.66730600000002%5D%2C%20%5B26.00525%2C%20-80.16678%5D%2C%20%5B34.099119%2C%20-117.511556%5D%2C%20%5B38.810838%2C%20-77.245747%5D%2C%20%5B33.774025%2C%20-84.564249%5D%2C%20%5B48.756347%2C%20-122.461606%5D%2C%20%5B33.85422%2C%20-117.79064%5D%2C%20%5B32.891768%2C%20-96.808658%5D%2C%20%5B46.384422%2C%20-114.143485%5D%2C%20%5B39.19195%2C%20-94.51375%5D%2C%20%5B30.752375%2C%20-86.640553%5D%2C%20%5B47.30342%2C%20-122.22193%5D%2C%20%5B37.166393%2C%20-93.295359%5D%2C%20%5B38.870974%2C%20-77.045102%5D%2C%20%5B36.320694%2C%20-119.673021%5D%2C%20%5B32.925573%2C%20-96.80379%5D%2C%20%5B34.853035%2C%20-82.232414%5D%2C%20%5B33.565020000000004%2C%20-83.905119%5D%2C%20%5B33.966223%2C%20-118.10744%5D%2C%20%5B28.022176%2C%20-82.455632%5D%2C%20%5B34.495682%2C%20-82.596191%5D%2C%20%5B37.68662%2C%20-122.132982%5D%2C%20%5B34.763052%2C%20-84.402084%5D%2C%20%5B28.66068%2C%20-81.230131%5D%2C%20%5B41.99003%2C%20-87.75135999999998%5D%2C%20%5B27.24355%2C%20-80.84898000000003%5D%2C%20%5B35.292645%2C%20-119.029494%5D%2C%20%5B42.189482%2C%20-120.34598%5D%2C%20%5B34.872359%2C%20-82.330198%5D%2C%20%5B33.86098%2C%20-118.28513%5D%2C%20%5B42.324459%2C%20-83.162311%5D%2C%20%5B32.894496999999994%2C%20-96.711806%5D%2C%20%5B32.939808%2C%20-96.822253%5D%2C%20%5B33.856343%2C%20-81.12947199999998%5D%2C%20%5B28.040179%2C%20-82.724179%5D%2C%20%5B40.28888900000001%2C%20-74.051385%5D%2C%20%5B38.627167%2C%20-90.186284%5D%2C%20%5B36.76445%2C%20-119.89598%5D%2C%20%5B33.659835%2C%20-78.926156%5D%2C%20%5B28.098485%2C%20-82.454951%5D%2C%20%5B34.038894%2C%20-118.275057%5D%2C%20%5B37.697135%2C%20-121.068935%5D%2C%20%5B39.658253%2C%20-75.654517%5D%2C%20%5B28.60272%2C%20-81.405711%5D%2C%20%5B40.73119000000001%2C%20-74.12526%5D%2C%20%5B34.067825%2C%20-117.978695%5D%2C%20%5B38.548529%2C%20-121.417047%5D%2C%20%5B35.172139%2C%20-80.852232%5D%2C%20%5B30.390025%2C%20-91.166374%5D%2C%20%5B32.94267%2C%20-96.90371%5D%2C%20%5B34.038070000000005%2C%20-118.27273999999998%5D%2C%20%5B38.312429%2C%20-81.728453%5D%2C%20%5B38.8113%2C%20-77.22462%5D%2C%20%5B34.962428%2C%20-89.934947%5D%2C%20%5B45.922056%2C%20-112.269863%5D%2C%20%5B40.66747%2C%20-111.982867%5D%2C%20%5B36.327924%2C%20-119.834686%5D%2C%20%5B33.804439%2C%20-118.20751%5D%2C%20%5B29.88989%2C%20-95.422872%5D%2C%20%5B32.88407%2C%20-83.670916%5D%2C%20%5B45.89528%2C%20-122.73656%5D%2C%20%5B32.837107%2C%20-97.029706%5D%2C%20%5B41.824733%2C%20-78.291924%5D%2C%20%5B44.372001%2C%20-92.806188%5D%2C%20%5B41.95503%2C%20-87.73250999999998%5D%2C%20%5B38.621717%2C%20-121.423183%5D%2C%20%5B34.24232%2C%20-118.41962%5D%2C%20%5B34.409218%2C%20-117.572303%5D%2C%20%5B25.73322000000001%2C%20-80.32746999999998%5D%2C%20%5B37.718285%2C%20-77.44836600000002%5D%2C%20%5B29.693003000000004%2C%20-95.510499%5D%2C%20%5B47.49757%2C%20-122.28921%5D%2C%20%5B36.104376%2C%20-95.911233%5D%2C%20%5B25.88019%2C%20-80.20895%5D%2C%20%5B39.628893%2C%20-75.96307%5D%2C%20%5B38.814253%2C%20-76.894561%5D%2C%20%5B35.20845%2C%20-80.8128%5D%2C%20%5B32.68423%2C%20-117.088733%5D%2C%20%5B33.294869%2C%20-117.460057%5D%2C%20%5B33.94088%2C%20-117.252295%5D%2C%20%5B34.853266999999995%2C%20-82.453241%5D%2C%20%5B28.37978%2C%20-81.504912%5D%2C%20%5B33.079113%2C%20-117.296606%5D%2C%20%5B28.0856%2C%20-82.50488299999998%5D%2C%20%5B32.1779%2C%20-110.9264%5D%2C%20%5B42.912626%2C%20-85.610377%5D%2C%20%5B45.370949%2C%20-122.746821%5D%2C%20%5B39.957365%2C%20-74.41520899999998%5D%2C%20%5B28.598171%2C%20-81.26505%5D%2C%20%5B33.686496000000005%2C%20-84.401824%5D%2C%20%5B44.10518%2C%20-93.24556%5D%2C%20%5B45.135537%2C%20-93.235441%5D%2C%20%5B32.684382%2C%20-96.822911%5D%2C%20%5B36.327143%2C%20-119.265272%5D%2C%20%5B32.234899%2C%20-110.91921200000002%5D%2C%20%5B39.872127%2C%20-75.590308%5D%2C%20%5B34.889827000000004%2C%20-82.273075%5D%2C%20%5B34.071835%2C%20-117.885925%5D%2C%20%5B44.95143%2C%20-93.02203%5D%2C%20%5B40.861254%2C%20-74.011191%5D%2C%20%5B25.883587%2C%20-80.21260600000002%5D%2C%20%5B25.872452%2C%20-80.170425%5D%2C%20%5B39.26035%2C%20-76.70279000000002%5D%2C%20%5B25.684798%2C%20-80.431106%5D%2C%20%5B25.785363%2C%20-80.214896%5D%2C%20%5B45.5075%2C%20-122.72064%5D%2C%20%5B30.355481%2C%20-97.68927%5D%2C%20%5B30.488231%2C%20-86.122268%5D%2C%20%5B39.02823400000001%2C%20-77.390203%5D%2C%20%5B45.810547%2C%20-108.422289%5D%2C%20%5B36.833557%2C%20-76.131959%5D%2C%20%5B40.62404%2C%20-111.93879%5D%2C%20%5B36.753886%2C%20-119.827519%5D%2C%20%5B36.966346%2C%20-120.05293%5D%2C%20%5B40.21574%2C%20-80.28635%5D%2C%20%5B40.731605%2C%20-73.848919%5D%2C%20%5B28.650022%2C%20-81.80334%5D%2C%20%5B37.57366%2C%20-77.459546%5D%2C%20%5B30.634904%2C%20-86.97239499999998%5D%2C%20%5B33.3857%2C%20-111.93489%5D%2C%20%5B40.716565%2C%20-73.824616%5D%2C%20%5B32.747909%2C%20-97.307328%5D%2C%20%5B38.878932%2C%20-77.255859%5D%2C%20%5B39.58566%2C%20-107.197734%5D%2C%20%5B25.93731%2C%20-80.19697%5D%2C%20%5B33.252728999999995%2C%20-80.577946%5D%2C%20%5B44.649376%2C%20-118.39233%5D%2C%20%5B41.77977%2C%20-87.81296999999998%5D%2C%20%5B33.9965%2C%20-117.92688%5D%2C%20%5B34.225811%2C%20-117.84867%5D%2C%20%5B37.651665%2C%20-122.098677%5D%2C%20%5B38.571392%2C%20-77.318549%5D%2C%20%5B28.035137%2C%20-82.68268499999998%5D%2C%20%5B40.639045%2C%20-111.9388%5D%2C%20%5B34.79453%2C%20-104.91058999999998%5D%2C%20%5B41.91964%2C%20-87.67369000000002%5D%2C%20%5B46.388386%2C%20-94.13845%5D%2C%20%5B33.867141%2C%20-117.261517%5D%2C%20%5B33.50013%2C%20-81.908148%5D%2C%20%5B39.77969%2C%20-104.97191%5D%2C%20%5B32.91519%2C%20-96.74126%5D%2C%20%5B36.048684%2C%20-86.653891%5D%2C%20%5B45.069297%2C%20-93.285931%5D%2C%20%5B39.738457%2C%20-74.908336%5D%2C%20%5B29.75307%2C%20-95.55806%5D%2C%20%5B37.852533%2C%20-122.29986%5D%2C%20%5B32.72987%2C%20-83.725229%5D%2C%20%5B36.056731%2C%20-79.892331%5D%2C%20%5B47.776848%2C%20-97.077952%5D%2C%20%5B39.93515%2C%20-74.96556%5D%2C%20%5B38.592179%2C%20-121.40149%5D%2C%20%5B34.080558%2C%20-118.2917%5D%2C%20%5B40.758482%2C%20-74.166437%5D%2C%20%5B33.6512%2C%20-84.36641%5D%2C%20%5B39.87886%2C%20-75.10265%5D%2C%20%5B39.955796%2C%20-75.18073100000002%5D%2C%20%5B35.16035%2C%20-80.78706%5D%2C%20%5B34.17066%2C%20-118.605888%5D%2C%20%5B30.441524%2C%20-91.220561%5D%2C%20%5B44.05351%2C%20-123.1016%5D%2C%20%5B34.024823%2C%20-117.749455%5D%2C%20%5B45.102804%2C%20-93.188054%5D%2C%20%5B25.67008%2C%20-80.416253%5D%2C%20%5B34.969218%2C%20-82.302374%5D%2C%20%5B36.660851%2C%20-119.322647%5D%2C%20%5B28.063328%2C%20-82.713396%5D%2C%20%5B38.418971%2C%20-81.54494100000002%5D%2C%20%5B25.597472%2C%20-80.38496500000002%5D%2C%20%5B37.90258%2C%20-122.51256%5D%2C%20%5B35.90806%2C%20-78.60067%5D%2C%20%5B37.9916%2C%20-121.76575%5D%2C%20%5B40.140559%2C%20-75.31365600000002%5D%2C%20%5B37.494436%2C%20-121.921798%5D%2C%20%5B43.03329%2C%20-87.96672%5D%2C%20%5B33.608207%2C%20-86.644472%5D%2C%20%5B38.02676%2C%20-120.234814%5D%2C%20%5B33.996577%2C%20-117.929121%5D%2C%20%5B34.84936%2C%20-117.0861%5D%2C%20%5B33.772914%2C%20-84.234406%5D%2C%20%5B41.02727%2C%20-73.73484%5D%2C%20%5B47.14512%2C%20-94.63523%5D%2C%20%5B32.789817%2C%20-97.321961%5D%2C%20%5B39.72137%2C%20-105.00856%5D%2C%20%5B40.126544%2C%20-76.30508%5D%2C%20%5B33.961764%2C%20-118.36956399999998%5D%2C%20%5B39.002883%2C%20-77.024366%5D%2C%20%5B34.7246%2C%20-86.67047%5D%2C%20%5B37.712072%2C%20-121.716271%5D%2C%20%5B41.7217%2C%20-87.62416%5D%2C%20%5B34.465606%2C%20-82.66%5D%2C%20%5B44.98375%2C%20-93.34846%5D%2C%20%5B39.694623%2C%20-105.189652%5D%2C%20%5B35.08095%2C%20-80.85011999999998%5D%2C%20%5B35.112092%2C%20-85.096503%5D%2C%20%5B26.528056%2C%20-81.869772%5D%2C%20%5B34.891208%2C%20-82.402811%5D%2C%20%5B25.963413%2C%20-80.150151%5D%2C%20%5B36.965893%2C%20-76.29154%5D%2C%20%5B45.24736%2C%20-93.02597%5D%2C%20%5B45.07311%2C%20-122.95955%5D%2C%20%5B36.055698%2C%20-78.799247%5D%2C%20%5B30.4995%2C%20-91.1595%5D%2C%20%5B40.80759000000001%2C%20-73.92654%5D%2C%20%5B42.06948%2C%20-122.60323%5D%2C%20%5B38.684159%2C%20-77.308724%5D%2C%20%5B30.51921%2C%20-97.68859%5D%2C%20%5B40.193035%2C%20-74.756529%5D%2C%20%5B37.71107%2C%20-120.99491%5D%2C%20%5B40.780123%2C%20-73.568176%5D%2C%20%5B39.85301%2C%20-85.14904%5D%2C%20%5B36.83723%2C%20-76.10119%5D%2C%20%5B36.96764%2C%20-76.51171%5D%2C%20%5B40.215532%2C%20-78.94338%5D%2C%20%5B40.032874%2C%20-75.586793%5D%2C%20%5B40.61153%2C%20-74.153047%5D%2C%20%5B25.897446%2C%20-80.324102%5D%2C%20%5B33.473838%2C%20-86.828693%5D%2C%20%5B33.093298%2C%20-80.031162%5D%2C%20%5B25.881168%2C%20-80.242938%5D%2C%20%5B38.610461%2C%20-121.385467%5D%2C%20%5B37.83583%2C%20-122.484694%5D%2C%20%5B40.81681%2C%20-74.10263%5D%2C%20%5B25.898511%2C%20-80.205214%5D%2C%20%5B36.747739%2C%20-119.822994%5D%2C%20%5B37.637778%2C%20-121.295278%5D%2C%20%5B34.44081%2C%20-119.76856%5D%2C%20%5B27.434872%2C%20-82.57951899999998%5D%2C%20%5B44.051921%2C%20-92.964677%5D%2C%20%5B39.81719%2C%20-75.24937%5D%2C%20%5B37.55182%2C%20-77.4523%5D%2C%20%5B38.88015%2C%20-77.23843000000002%5D%2C%20%5B47.855026%2C%20-121.911505%5D%2C%20%5B35.049732%2C%20-85.307231%5D%2C%20%5B40.006322%2C%20-76.307037%5D%2C%20%5B33.845588%2C%20-84.487512%5D%2C%20%5B42.381573%2C%20-121.813756%5D%2C%20%5B35.77818900000001%2C%20-78.636585%5D%2C%20%5B28.447773%2C%20-81.47094200000002%5D%2C%20%5B35.06095%2C%20-80.957013%5D%2C%20%5B40.38116%2C%20-123.012081%5D%2C%20%5B30.254359%2C%20-81.59970899999998%5D%2C%20%5B41.80426%2C%20-73.38356999999998%5D%2C%20%5B35.277386%2C%20-80.785974%5D%2C%20%5B41.87385%2C%20-87.80816999999998%5D%2C%20%5B37.559718%2C%20-77.47630799999997%5D%2C%20%5B35.772254%2C%20-78.71922099999998%5D%2C%20%5B35.809044%2C%20-83.839729%5D%2C%20%5B33.699712%2C%20-117.329163%5D%2C%20%5B45.06684%2C%20-93.24104%5D%2C%20%5B30.521661%2C%20-81.63565899999998%5D%2C%20%5B35.78644%2C%20-78.71863%5D%2C%20%5B42.745838%2C%20-73.755484%5D%2C%20%5B27.928364%2C%20-82.35068199999998%5D%2C%20%5B40.123789%2C%20-75.33445999999998%5D%2C%20%5B28.449056%2C%20-81.401078%5D%2C%20%5B43.171726%2C%20-77.612306%5D%2C%20%5B32.718059999999994%2C%20-97.06282%5D%2C%20%5B39.073466%2C%20-94.680594%5D%2C%20%5B28.86136%2C%20-82.09178%5D%2C%20%5B35.237147%2C%20-80.800993%5D%2C%20%5B40.644099%2C%20-74.66380500000002%5D%2C%20%5B37.49562%2C%20-76.410928%5D%2C%20%5B34.01938%2C%20-118.17329%5D%2C%20%5B28.685806%2C%20-81.388489%5D%2C%20%5B29.65996%2C%20-95.336451%5D%2C%20%5B30.25894000000001%2C%20-81.51801%5D%2C%20%5B38.15073%2C%20-122.44957%5D%2C%20%5B38.85325%2C%20-76.9101%5D%2C%20%5B32.76521%2C%20-117.109955%5D%2C%20%5B30.471397%2C%20-87.230271%5D%2C%20%5B34.167651%2C%20-79.76424%5D%2C%20%5B37.77498%2C%20-77.880516%5D%2C%20%5B33.387521%2C%20-117.252395%5D%2C%20%5B43.794797%2C%20-90.05459300000004%5D%2C%20%5B41.110291%2C%20-73.401526%5D%2C%20%5B39.216331%2C%20-121.060312%5D%2C%20%5B34.379374%2C%20-117.562342%5D%2C%20%5B37.784842%2C%20-121.187957%5D%2C%20%5B33.926354%2C%20-117.556254%5D%2C%20%5B38.87091%2C%20-76.98875%5D%2C%20%5B34.036528000000004%2C%20-118.318099%5D%2C%20%5B25.557327%2C%20-80.375641%5D%2C%20%5B36.016069%2C%20-78.946048%5D%2C%20%5B39.416287%2C%20-77.439229%5D%2C%20%5B43.060662%2C%20-83.736008%5D%2C%20%5B40.76535%2C%20-73.71809%5D%2C%20%5B32.910173%2C%20-80.486446%5D%2C%20%5B33.650626%2C%20-78.982096%5D%2C%20%5B29.021261%2C%20-82.15639499999997%5D%2C%20%5B25.80844%2C%20-80.260287%5D%2C%20%5B35.088712%2C%20-80.935878%5D%2C%20%5B33.924976%2C%20-118.280965%5D%2C%20%5B37.63681%2C%20-122.43967%5D%2C%20%5B34.024975%2C%20-118.42867%5D%2C%20%5B28.078840000000003%2C%20-80.71547%5D%2C%20%5B34.1629%2C%20-118.47212%5D%2C%20%5B32.72032%2C%20-96.83036%5D%2C%20%5B39.366534%2C%20-76.50980799999998%5D%2C%20%5B36.993942%2C%20-77.144289%5D%2C%20%5B40.50018%2C%20-111.95772%5D%2C%20%5B26.544041%2C%20-81.886985%5D%2C%20%5B35.87586%2C%20-78.5402%5D%2C%20%5B33.866323%2C%20-117.787956%5D%2C%20%5B37.32866%2C%20-121.87031%5D%2C%20%5B42.58625900000001%2C%20-79.05812900000002%5D%2C%20%5B47.2174%2C%20-122.24685%5D%2C%20%5B42.23691%2C%20-85.58309%5D%2C%20%5B39.170431%2C%20-94.55819%5D%2C%20%5B40.378538%2C%20-79.992615%5D%2C%20%5B40.731008%2C%20-74.131483%5D%2C%20%5B38.567454%2C%20-121.33307%5D%2C%20%5B33.779112%2C%20-117.885793%5D%2C%20%5B36.561008%2C%20-119.61271399999998%5D%2C%20%5B37.152033%2C%20-121.992446%5D%2C%20%5B38.616566%2C%20-90.36244%5D%2C%20%5B34.149037%2C%20-118.156896%5D%2C%20%5B39.236721%2C%20-122.028146%5D%2C%20%5B33.815842%2C%20-118.289646%5D%2C%20%5B35.19188%2C%20-90.00796%5D%2C%20%5B33.026872%2C%20-87.32589899999998%5D%2C%20%5B34.744383%2C%20-92.313221%5D%2C%20%5B34.129519%2C%20-117.934259%5D%2C%20%5B44.629924%2C%20-123.023769%5D%2C%20%5B45.006159%2C%20-93.089482%5D%2C%20%5B39.296518%2C%20-76.812211%5D%2C%20%5B40.691261%2C%20-73.850818%5D%2C%20%5B35.4045%2C%20-119.04663%5D%2C%20%5B37.89233%2C%20-122.157702%5D%2C%20%5B33.139475%2C%20-117.144416%5D%2C%20%5B41.74486%2C%20-72.660709%5D%2C%20%5B26.83394%2C%20-81.122235%5D%2C%20%5B33.8958%2C%20-84.45173%5D%2C%20%5B41.65811%2C%20-86.892062%5D%2C%20%5B28.567715000000003%2C%20-81.215499%5D%2C%20%5B45.417891%2C%20-122.430706%5D%2C%20%5B35.109119%2C%20-85.350576%5D%2C%20%5B42.43682%2C%20-123.265455%5D%2C%20%5B27.322858%2C%20-82.49958000000002%5D%2C%20%5B38.570459%2C%20-76.06366%5D%2C%20%5B40.012822%2C%20-75.211238%5D%2C%20%5B36.433594%2C%20-120.392031%5D%2C%20%5B39.344476%2C%20-77.076677%5D%2C%20%5B42.947187%2C%20-85.566857%5D%2C%20%5B39.89439%2C%20-86.05481999999998%5D%2C%20%5B45.28559%2C%20-92.983742%5D%2C%20%5B34.035395%2C%20-81.115251%5D%2C%20%5B34.27262%2C%20-118.55966%5D%2C%20%5B42.75557%2C%20-84.894769%5D%2C%20%5B34.205492%2C%20-118.985141%5D%2C%20%5B33.754194%2C%20-117.851747%5D%2C%20%5B38.462415%2C%20-121.837552%5D%2C%20%5B40.4758%2C%20-75.45741%5D%2C%20%5B30.421937%2C%20-97.682088%5D%2C%20%5B25.598539%2C%20-80.356078%5D%2C%20%5B41.170199%2C%20-112.02013999999998%5D%2C%20%5B32.345131%2C%20-95.303415%5D%2C%20%5B25.769905%2C%20-80.317149%5D%2C%20%5B43.063091%2C%20-93.342901%5D%2C%20%5B28.084391%2C%20-82.454699%5D%2C%20%5B27.89602%2C%20-82.34788%5D%2C%20%5B28.417709%2C%20-81.334226%5D%2C%20%5B25.8078%2C%20-80.20571%5D%2C%20%5B46.559095%2C%20-113.9931%5D%2C%20%5B35.542022%2C%20-87.551528%5D%2C%20%5B35.01117%2C%20-85.27175%5D%2C%20%5B34.861088%2C%20-82.253919%5D%2C%20%5B35.241233%2C%20-119.016319%5D%2C%20%5B28.497022%2C%20-81.396934%5D%2C%20%5B28.50614%2C%20-81.33915999999998%5D%2C%20%5B39.693994%2C%20-75.624714%5D%2C%20%5B38.92531%2C%20-94.52752%5D%2C%20%5B38.93599%2C%20-76.916041%5D%2C%20%5B34.01531%2C%20-117.45747%5D%2C%20%5B45.2766%2C%20-93.004449%5D%2C%20%5B43.597387%2C%20-116.29598%5D%2C%20%5B25.910755%2C%20-80.29474599999998%5D%2C%20%5B34.014590000000005%2C%20-118.48641%5D%2C%20%5B45.18446%2C%20-93.321445%5D%2C%20%5B37.804414%2C%20-122.233463%5D%2C%20%5B39.18535900000001%2C%20-78.142031%5D%2C%20%5B28.282817%2C%20-81.377249%5D%2C%20%5B43.521862%2C%20-123.312774%5D%2C%20%5B30.453336%2C%20-97.791368%5D%2C%20%5B39.00408%2C%20-77.07745%5D%2C%20%5B28.16623%2C%20-82.69804599999998%5D%2C%20%5B39.41313%2C%20-76.60363000000002%5D%2C%20%5B34.41503400000001%2C%20-118.444145%5D%2C%20%5B27.894340000000003%2C%20-82.33842%5D%2C%20%5B32.872578999999995%2C%20-96.665581%5D%2C%20%5B39.750084%2C%20-84.22226500000002%5D%2C%20%5B36.210317%2C%20-119.439089%5D%2C%20%5B28.452939%2C%20-81.400159%5D%2C%20%5B47.587119%2C%20-105.524357%5D%2C%20%5B35.005322%2C%20-85.23236999999997%5D%2C%20%5B38.703042%2C%20-77.208285%5D%2C%20%5B45.620995%2C%20-117.722958%5D%2C%20%5B45.332979%2C%20-118.106674%5D%2C%20%5B48.95143%2C%20-116.28029%5D%2C%20%5B39.134181%2C%20-84.53287399999998%5D%2C%20%5B30.41158900000001%2C%20-91.100129%5D%2C%20%5B39.777739%2C%20-104.888141%5D%2C%20%5B34.6265%2C%20-118.15303%5D%2C%20%5B25.829162%2C%20-80.249177%5D%2C%20%5B41.026134000000006%2C%20-111.945647%5D%2C%20%5B34.234424%2C%20-118.642591%5D%2C%20%5B37.598788%2C%20-122.060851%5D%2C%20%5B46.073602%2C%20-108.468071%5D%2C%20%5B25.847033%2C%20-80.20973000000002%5D%2C%20%5B42.924109%2C%20-78.84214899999998%5D%2C%20%5B34.673666%2C%20-86.75204000000002%5D%2C%20%5B35.844561%2C%20-78.680376%5D%2C%20%5B37.48063%2C%20-77.802709%5D%2C%20%5B40.039411%2C%20-75.25278399999998%5D%2C%20%5B34.018274%2C%20-117.518938%5D%2C%20%5B37.911997%2C%20-121.246965%5D%2C%20%5B42.91293%2C%20-74.448863%5D%2C%20%5B39.449533%2C%20-75.673259%5D%2C%20%5B34.158904%2C%20-118.469372%5D%2C%20%5B35.30589699999999%2C%20-80.977538%5D%2C%20%5B40.868707%2C%20-122.812167%5D%2C%20%5B40.858092%2C%20-73.830545%5D%2C%20%5B43.060301%2C%20-83.80998699999998%5D%2C%20%5B38.714543%2C%20-78.659867%5D%2C%20%5B34.807663%2C%20-82.232274%5D%2C%20%5B30.68504%2C%20-88.01098%5D%2C%20%5B25.812708%2C%20-80.313441%5D%2C%20%5B28.485013%2C%20-81.330866%5D%2C%20%5B42.10561%2C%20-87.83022%5D%2C%20%5B36.949551%2C%20-76.958749%5D%2C%20%5B42.786607%2C%20-89.62802099999998%5D%2C%20%5B35.20915%2C%20-80.838657%5D%2C%20%5B37.58581%2C%20-122.051591%5D%2C%20%5B38.123042%2C%20-122.273151%5D%2C%20%5B34.365961%2C%20-118.506348%5D%2C%20%5B41.180588%2C%20-77.001425%5D%2C%20%5B33.926354%2C%20-117.556254%5D%2C%20%5B28.509703%2C%20-81.41563199999999%5D%2C%20%5B27.43125%2C%20-82.575466%5D%2C%20%5B39.94900300000001%2C%20-75.185183%5D%2C%20%5B33.82116%2C%20-117.920953%5D%2C%20%5B41.373664%2C%20-73.610876%5D%2C%20%5B33.870021%2C%20-118.055363%5D%2C%20%5B40.79264000000001%2C%20-73.42593000000002%5D%2C%20%5B30.00825%2C%20-90.26056%5D%2C%20%5B33.52407%2C%20-112.18629%5D%2C%20%5B42.731053%2C%20-89.598674%5D%2C%20%5B29.884834%2C%20-95.425244%5D%2C%20%5B45.53247%2C%20-122.84227%5D%2C%20%5B30.43654%2C%20-83.516361%5D%2C%20%5B37.558118%2C%20-77.413883%5D%2C%20%5B33.476225%2C%20-117.138931%5D%2C%20%5B34.059834%2C%20-118.252104%5D%2C%20%5B45.56674%2C%20-122.67874%5D%2C%20%5B32.747408%2C%20-97.319315%5D%2C%20%5B39.97139%2C%20-75.1236%5D%2C%20%5B29.653607%2C%20-95.293133%5D%2C%20%5B44.91481%2C%20-122.98625%5D%2C%20%5B36.801494%2C%20-121.66586399999998%5D%2C%20%5B38.26502%2C%20-122.00323%5D%2C%20%5B32.728155%2C%20-96.80064%5D%2C%20%5B38.524922%2C%20-77.367428%5D%2C%20%5B38.552645%2C%20-90.274883%5D%2C%20%5B44.02213%2C%20-92.88435%5D%2C%20%5B27.940781%2C%20-82.354421%5D%2C%20%5B28.62888%2C%20-81.38699%5D%2C%20%5B34.080909000000005%2C%20-118.704024%5D%2C%20%5B33.76605%2C%20-117.954904%5D%2C%20%5B29.077989%2C%20-82.053536%5D%2C%20%5B28.560912%2C%20-81.332042%5D%2C%20%5B29.963549%2C%20-90.112448%5D%2C%20%5B39.01794%2C%20-77.10347%5D%2C%20%5B39.01536%2C%20-77.12218%5D%2C%20%5B35.583279%2C%20-118.495758%5D%2C%20%5B39.045462%2C%20-94.403743%5D%2C%20%5B40.116931%2C%20-74.83023%5D%2C%20%5B30.397047%2C%20-91.108351%5D%2C%20%5B29.973091%2C%20-90.060056%5D%2C%20%5B40.795555%2C%20-73.416849%5D%2C%20%5B45.056787%2C%20-120.683494%5D%2C%20%5B34.15791%2C%20-118.64135%5D%2C%20%5B38.87466%2C%20-77.219971%5D%2C%20%5B41.82147%2C%20-87.72892%5D%2C%20%5B33.656053%2C%20-117.293375%5D%2C%20%5B33.52402%2C%20-112.09118%5D%2C%20%5B29.74558%2C%20-95.36498%5D%2C%20%5B37.562911%2C%20-121.904296%5D%2C%20%5B33.92559%2C%20-117.42281%5D%2C%20%5B41.728357%2C%20-72.320288%5D%2C%20%5B25.684267%2C%20-80.447476%5D%2C%20%5B34.879014%2C%20-120.43503%5D%2C%20%5B32.383289000000005%2C%20-95.332134%5D%2C%20%5B43.342919%2C%20-76.357771%5D%2C%20%5B33.856359999999995%2C%20-117.7856%5D%2C%20%5B40.812739%2C%20-73.95575699999998%5D%2C%20%5B40.88892%2C%20-74.47475%5D%2C%20%5B29.622936%2C%20-95.199023%5D%2C%20%5B37.887864%2C%20-122.516823%5D%2C%20%5B30.382713%2C%20-87.402159%5D%2C%20%5B27.91197%2C%20-82.49795%5D%2C%20%5B35.071453000000005%2C%20-85.11665699999998%5D%2C%20%5B41.75575%2C%20-72.700838%5D%2C%20%5B40.014647%2C%20-76.32610600000002%5D%2C%20%5B37.51454%2C%20-121.939815%5D%2C%20%5B37.582149%2C%20-121.874424%5D%2C%20%5B36.125096%2C%20-86.813632%5D%2C%20%5B31.758051%2C%20-106.267332%5D%2C%20%5B32.960624%2C%20-79.85629399999998%5D%2C%20%5B28.039737%2C%20-80.659593%5D%2C%20%5B28.567542%2C%20-81.286006%5D%2C%20%5B37.57223%2C%20-121.88857%5D%2C%20%5B32.715672%2C%20-117.122211%5D%2C%20%5B25.66861%2C%20-80.383675%5D%2C%20%5B34.012939%2C%20-118.49788%5D%2C%20%5B37.969972%2C%20-121.322277%5D%2C%20%5B43.876336%2C%20-123.027573%5D%2C%20%5B34.274822%2C%20-79.693075%5D%2C%20%5B43.223641%2C%20-124.241156%5D%2C%20%5B35.123082000000004%2C%20-85.04164499999997%5D%2C%20%5B41.075%2C%20-122.356111%5D%2C%20%5B25.583045%2C%20-80.49460400000002%5D%2C%20%5B40.52377%2C%20-105.0581%5D%2C%20%5B27.446528000000004%2C%20-82.510439%5D%2C%20%5B40.815464%2C%20-73.93431700000002%5D%2C%20%5B40.00611%2C%20-104.98094%5D%2C%20%5B41.658536%2C%20-93.532758%5D%2C%20%5B33.46399%2C%20-86.82424499999998%5D%2C%20%5B32.827715999999995%2C%20-117.23256299999998%5D%2C%20%5B39.475289%2C%20-121.575534%5D%2C%20%5B37.581246%2C%20-122.325401%5D%2C%20%5B39.558055%2C%20-119.790366%5D%2C%20%5B44.78397%2C%20-117.81065%5D%2C%20%5B45.497313%2C%20-122.564731%5D%2C%20%5B34.776649%2C%20-118.236253%5D%2C%20%5B36.446389%2C%20-121.359722%5D%2C%20%5B37.825704%2C%20-122.267579%5D%2C%20%5B40.405622%2C%20-79.710413%5D%2C%20%5B40.845722%2C%20-73.929606%5D%2C%20%5B25.851676%2C%20-80.207786%5D%2C%20%5B34.035528%2C%20-118.169879%5D%2C%20%5B41.751782%2C%20-72.65807%5D%2C%20%5B25.807973%2C%20-80.276471%5D%2C%20%5B38.743387%2C%20-121.170604%5D%2C%20%5B41.08651%2C%20-111.23227%5D%2C%20%5B30.463%2C%20-87.301998%5D%2C%20%5B33.524306%2C%20-81.71815600000002%5D%2C%20%5B36.031828%2C%20-95.885079%5D%2C%20%5B34.991351%2C%20-85.476235%5D%2C%20%5B33.899199%2C%20-81.220086%5D%2C%20%5B36.065297%2C%20-86.938159%5D%2C%20%5B35.406607%2C%20-119.048742%5D%2C%20%5B43.20068%2C%20-123.35938%5D%2C%20%5B47.513337%2C%20-114.09693%5D%2C%20%5B38.22264000000001%2C%20-121.42816%5D%2C%20%5B35.991613%2C%20-86.79904300000004%5D%2C%20%5B41.858586%2C%20-123.308776%5D%2C%20%5B39.97079%2C%20-104.98801%5D%2C%20%5B36.210937%2C%20-80.303507%5D%2C%20%5B39.94348%2C%20-82.96929%5D%2C%20%5B40.19068%2C%20-111.64664%5D%2C%20%5B33.93461%2C%20-118.17691%5D%2C%20%5B36.017361%2C%20-95.922153%5D%2C%20%5B34.067561%2C%20-117.563634%5D%2C%20%5B28.48493%2C%20-81.417376%5D%2C%20%5B33.144579%2C%20-117.234334%5D%2C%20%5B27.853545%2C%20-82.326577%5D%2C%20%5B43.855156%2C%20-120.754344%5D%2C%20%5B40.95348%2C%20-80.285134%5D%2C%20%5B39.221366%2C%20-121.081613%5D%2C%20%5B30.01180200000001%2C%20-90.004302%5D%2C%20%5B34.00163%2C%20-118.410317%5D%2C%20%5B34.152221999999995%2C%20-118.1461%5D%2C%20%5B35.05581%2C%20-80.83221%5D%2C%20%5B34.00354%2C%20-117.93046499999998%5D%2C%20%5B47.159163%2C%20-122.415095%5D%2C%20%5B33.89378%2C%20-118.047361%5D%2C%20%5B40.022882%2C%20-76.743439%5D%2C%20%5B28.10593900000001%2C%20-82.73969100000002%5D%2C%20%5B33.769301%2C%20-112.130123%5D%2C%20%5B39.85183%2C%20-104.98631%5D%2C%20%5B33.889520000000005%2C%20-117.070822%5D%2C%20%5B39.41208%2C%20-76.38597%5D%2C%20%5B36.090154%2C%20-86.687697%5D%2C%20%5B33.877211%2C%20-118.145138%5D%2C%20%5B35.959013%2C%20-83.96474%5D%2C%20%5B36.152262%2C%20-120.156544%5D%2C%20%5B29.8346%2C%20-95.38534%5D%2C%20%5B36.183318%2C%20-120.699785%5D%2C%20%5B45.45351%2C%20-122.721161%5D%2C%20%5B45.279411%2C%20-122.348779%5D%2C%20%5B39.254481%2C%20-76.686763%5D%2C%20%5B28.74873%2C%20-81.36618%5D%2C%20%5B33.369393%2C%20-87.61188%5D%2C%20%5B34.29598%2C%20-117.45508%5D%2C%20%5B38.84094%2C%20-76.72753%5D%2C%20%5B27.99613%2C%20-82.397467%5D%2C%20%5B25.940336%2C%20-80.1887%5D%2C%20%5B29.90096%2C%20-95.5996%5D%2C%20%5B38.80544%2C%20-77.21318000000002%5D%2C%20%5B28.552989%2C%20-81.39331999999997%5D%2C%20%5B42.38579%2C%20-83.43134%5D%2C%20%5B30.746837%2C%20-85.430642%5D%2C%20%5B27.95593%2C%20-82.46595%5D%2C%20%5B36.17381%2C%20-115.21396%5D%2C%20%5B42.99488%2C%20-83.7725%5D%2C%20%5B30.319071%2C%20-81.725589%5D%2C%20%5B40.24895%2C%20-74.69798%5D%2C%20%5B40.724767%2C%20-73.837463%5D%2C%20%5B38.547069%2C%20-90.42578%5D%2C%20%5B27.691172%2C%20-82.678719%5D%2C%20%5B34.242259000000004%2C%20-117.285546%5D%2C%20%5B44.950757%2C%20-93.105954%5D%2C%20%5B37.104109%2C%20-121.016197%5D%2C%20%5B33.42747%2C%20-117.14899%5D%2C%20%5B34.13466%2C%20-117.341355%5D%2C%20%5B48.564721%2C%20-109.557628%5D%2C%20%5B34.474582%2C%20-118.673455%5D%2C%20%5B40.71266%2C%20-111.88261%5D%2C%20%5B30.006904%2C%20-90.274482%5D%2C%20%5B29.99303%2C%20-90.07739%5D%2C%20%5B40.268057%2C%20-74.509631%5D%2C%20%5B33.672663%2C%20-112.020768%5D%2C%20%5B37.953275%2C%20-121.272308%5D%2C%20%5B34.113632%2C%20-93.09573%5D%2C%20%5B44.091879%2C%20-123.170846%5D%2C%20%5B43.08987%2C%20-122.286533%5D%2C%20%5B38.878822%2C%20-77.263077%5D%2C%20%5B30.490575%2C%20-86.12004%5D%2C%20%5B34.120842%2C%20-117.879792%5D%2C%20%5B41.55963%2C%20-120.31772%5D%2C%20%5B33.567527%2C%20-112.202995%5D%2C%20%5B27.605703%2C%20-80.825464%5D%2C%20%5B40.703183%2C%20-73.960052%5D%2C%20%5B40.926902%2C%20-73.812543%5D%2C%20%5B41.46443%2C%20-124.037264%5D%2C%20%5B44.925681%2C%20-92.968014%5D%2C%20%5B33.810739%2C%20-117.509551%5D%2C%20%5B29.000666%2C%20-82.000928%5D%2C%20%5B39.378716%2C%20-77.47268000000003%5D%2C%20%5B34.458420000000004%2C%20-119.987141%5D%2C%20%5B38.186915%2C%20-78.99845400000002%5D%2C%20%5B35.291462%2C%20-109.150459%5D%2C%20%5B36.052237%2C%20-118.939527%5D%2C%20%5B29.736812%2C%20-95.41069%5D%2C%20%5B36.011241%2C%20-83.864811%5D%2C%20%5B33.778356%2C%20-117.896516%5D%2C%20%5B43.179326%2C%20-77.631785%5D%2C%20%5B30.4563%2C%20-91.127535%5D%2C%20%5B33.759862%2C%20-117.853519%5D%2C%20%5B41.322632%2C%20-72.259348%5D%2C%20%5B34.383295000000004%2C%20-111.453653%5D%2C%20%5B37.831716%2C%20-122.480153%5D%2C%20%5B34.04187%2C%20-117.315854%5D%2C%20%5B37.521256%2C%20-122.339613%5D%2C%20%5B37.76384%2C%20-121.96803%5D%2C%20%5B28.572456%2C%20-81.452177%5D%2C%20%5B35.121392%2C%20-118.12677%5D%2C%20%5B37.616355%2C%20-120.986183%5D%2C%20%5B37.600832%2C%20-122.06231%5D%2C%20%5B40.648402%2C%20-122.94938%5D%2C%20%5B35.861264%2C%20-78.81480400000002%5D%2C%20%5B38.870218%2C%20-77.046062%5D%2C%20%5B39.381087%2C%20-123.341787%5D%2C%20%5B37.224458%2C%20-119.488292%5D%2C%20%5B32.321399%2C%20-80.934005%5D%2C%20%5B27.857013%2C%20-82.32759200000002%5D%2C%20%5B30.004023%2C%20-90.039528%5D%2C%20%5B37.149573%2C%20-119.731832%5D%2C%20%5B33.93828%2C%20-118.36855%5D%2C%20%5B41.31988%2C%20-73.97972%5D%2C%20%5B28.250498%2C%20-82.465647%5D%2C%20%5B34.244378999999995%2C%20-80.62824499999998%5D%2C%20%5B36.26106%2C%20-86.73846%5D%2C%20%5B41.98394%2C%20-87.84267%5D%2C%20%5B40.42747%2C%20-78.11738299999998%5D%2C%20%5B38.248761%2C%20-122.631229%5D%2C%20%5B41.596469%2C%20-93.596276%5D%2C%20%5B40.255763%2C%20-75.584335%5D%2C%20%5B40.012778%2C%20-86.432725%5D%2C%20%5B34.615996%2C%20-118.183666%5D%2C%20%5B34.024314000000004%2C%20-117.11136100000002%5D%2C%20%5B43.14551%2C%20-123.36465%5D%2C%20%5B34.030576%2C%20-117.637417%5D%2C%20%5B39.540142%2C%20-105.03639%5D%2C%20%5B33.853973%2C%20-117.901593%5D%2C%20%5B35.821111%2C%20-78.873888%5D%2C%20%5B25.885453%2C%20-80.243229%5D%2C%20%5B34.510057%2C%20-81.962326%5D%2C%20%5B33.999201%2C%20-118.175713%5D%2C%20%5B35.86132%2C%20-78.649596%5D%2C%20%5B37.69397%2C%20-122.048951%5D%2C%20%5B37.403242%2C%20-77.680853%5D%2C%20%5B42.19764%2C%20-87.93176%5D%2C%20%5B28.568433%2C%20-81.265064%5D%2C%20%5B27.26421400000001%2C%20-82.448862%5D%2C%20%5B39.75162%2C%20-74.25241%5D%2C%20%5B38.66328%2C%20-121.280084%5D%2C%20%5B37.632801%2C%20-122.109162%5D%2C%20%5B39.604286%2C%20-123.784913%5D%2C%20%5B33.979228000000006%2C%20-118.280603%5D%2C%20%5B33.831592%2C%20-118.287232%5D%2C%20%5B45.24955%2C%20-122.72272%5D%2C%20%5B36.020989%2C%20-95.922139%5D%2C%20%5B35.550911%2C%20-77.16967%5D%2C%20%5B38.703702%2C%20-121.345921%5D%2C%20%5B43.60569%2C%20-123.22482%5D%2C%20%5B32.367903000000005%2C%20-86.296083%5D%2C%20%5B38.92625%2C%20-111.911972%5D%2C%20%5B41.695658%2C%20-93.230384%5D%2C%20%5B25.92184%2C%20-80.21123%5D%2C%20%5B33.7111%2C%20-84.21372%5D%2C%20%5B35.308561%2C%20-76.85820600000002%5D%2C%20%5B34.154540000000004%2C%20-118.15762%5D%2C%20%5B34.046105%2C%20-81.119323%5D%2C%20%5B29.95745%2C%20-90.09395%5D%2C%20%5B34.037659999999995%2C%20-118.27974%5D%2C%20%5B39.152479%2C%20-122.161057%5D%2C%20%5B39.985228%2C%20-86.003742%5D%2C%20%5B34.072498%2C%20-117.940624%5D%2C%20%5B34.506709%2C%20-117.468762%5D%2C%20%5B25.936936%2C%20-80.197552%5D%2C%20%5B41.433618%2C%20-74.054259%5D%2C%20%5B26.30158%2C%20-80.120598%5D%2C%20%5B33.941742%2C%20-118.368533%5D%2C%20%5B40.751641%2C%20-111.831181%5D%2C%20%5B32.924529%2C%20-96.786151%5D%2C%20%5B37.874497%2C%20-122.306016%5D%2C%20%5B44.776358%2C%20-93.280188%5D%2C%20%5B33.46188%2C%20-112.05241%5D%2C%20%5B25.810799%2C%20-80.36940600000001%5D%2C%20%5B27.07753%2C%20-82.380354%5D%2C%20%5B43.628732%2C%20-116.25284%5D%2C%20%5B26.155046%2C%20-81.29396700000002%5D%2C%20%5B35.22247%2C%20-80.84746%5D%2C%20%5B39.8357%2C%20-86.03797%5D%2C%20%5B41.463557%2C%20-82.053729%5D%2C%20%5B32.891849%2C%20-117.192329%5D%2C%20%5B34.33626%2C%20-118.50969%5D%2C%20%5B47.451907%2C%20-92.890857%5D%2C%20%5B32.8374%2C%20-96.94609%5D%2C%20%5B45.32083%2C%20-123.17696%5D%2C%20%5B37.733241%2C%20-122.139333%5D%2C%20%5B34.074944%2C%20-117.295392%5D%2C%20%5B44.970334%2C%20-93.34878%5D%2C%20%5B45.03591%2C%20-92.86299%5D%2C%20%5B48.428463%2C%20-114.042354%5D%2C%20%5B36.284349%2C%20-120.06763%5D%2C%20%5B38.81734%2C%20-77.472213%5D%2C%20%5B30.452208%2C%20-97.654448%5D%2C%20%5B35.90507%2C%20-78.77235999999998%5D%2C%20%5B33.891861%2C%20-118.326528%5D%2C%20%5B33.871482%2C%20-117.68551399999998%5D%2C%20%5B35.092153%2C%20-80.933212%5D%2C%20%5B42.55145%2C%20-71.78387%5D%2C%20%5B27.985934000000004%2C%20-82.453508%5D%2C%20%5B38.472103%2C%20-121.4204%5D%2C%20%5B30.21247%2C%20-97.827256%5D%2C%20%5B44.86147%2C%20-93.45414%5D%2C%20%5B33.66917%2C%20-112.05912%5D%2C%20%5B40.605423%2C%20-77.570879%5D%2C%20%5B41.73983%2C%20-87.827955%5D%2C%20%5B35.931858%2C%20-119.909048%5D%2C%20%5B45.903452%2C%20-95.356256%5D%2C%20%5B47.350183%2C%20-122.244626%5D%2C%20%5B37.252093%2C%20-121.807224%5D%2C%20%5B34.05664%2C%20-84.59952%5D%2C%20%5B45.09046%2C%20-93.44163%5D%2C%20%5B40.737851%2C%20-73.904803%5D%2C%20%5B45.325681%2C%20-94.605959%5D%2C%20%5B32.69868%2C%20-96.442046%5D%2C%20%5B44.97557000000001%2C%20-93.46036%5D%2C%20%5B32.5437%2C%20-83.57385%5D%2C%20%5B37.300819%2C%20-77.40928000000002%5D%2C%20%5B28.42117%2C%20-81.45344%5D%2C%20%5B37.4911%2C%20-122.21863%5D%2C%20%5B41.032766%2C%20-73.81938000000002%5D%2C%20%5B33.83892%2C%20-117.83422%5D%2C%20%5B44.994324%2C%20-92.960203%5D%2C%20%5B38.11952%2C%20-79.04214%5D%2C%20%5B48.479538%2C%20-114.509972%5D%2C%20%5B40.55647%2C%20-74.45831%5D%2C%20%5B28.879692%2C%20-81.945109%5D%2C%20%5B37.34741%2C%20-121.8415%5D%2C%20%5B29.98910900000001%2C%20-90.101582%5D%2C%20%5B36.835923%2C%20-76.210351%5D%2C%20%5B30.50238400000001%2C%20-87.25773000000002%5D%2C%20%5B25.621899%2C%20-80.414446%5D%2C%20%5B37.757658%2C%20-122.211239%5D%2C%20%5B45.549289%2C%20-94.205175%5D%2C%20%5B30.273895%2C%20-85.641035%5D%2C%20%5B30.338774%2C%20-97.718323%5D%2C%20%5B40.57271%2C%20-74.3298%5D%2C%20%5B33.090645%2C%20-117.302113%5D%2C%20%5B38.451841%2C%20-121.371635%5D%2C%20%5B25.892637%2C%20-80.162839%5D%2C%20%5B24.859981%2C%20-80.721701%5D%2C%20%5B34.058126%2C%20-118.214253%5D%2C%20%5B43.03361%2C%20-83.57616999999998%5D%2C%20%5B44.0761%2C%20-121.30414%5D%2C%20%5B39.245686%2C%20-123.126015%5D%2C%20%5B40.200057%2C%20-74.019075%5D%2C%20%5B39.751578%2C%20-84.23998%5D%2C%20%5B45.23771%2C%20-123.06348%5D%2C%20%5B33.461582%2C%20-117.661335%5D%2C%20%5B27.937885%2C%20-82.227695%5D%2C%20%5B37.74218%2C%20-121.52564%5D%2C%20%5B32.772489%2C%20-80.470252%5D%2C%20%5B33.552157%2C%20-112.108311%5D%2C%20%5B25.889364%2C%20-80.16469599999998%5D%2C%20%5B33.7372%2C%20-84.23143%5D%2C%20%5B33.52652%2C%20-81.774226%5D%2C%20%5B33.943155%2C%20-78.524693%5D%2C%20%5B32.902756%2C%20-96.898112%5D%2C%20%5B32.899615999999995%2C%20-96.788163%5D%2C%20%5B33.908263%2C%20-81.221056%5D%2C%20%5B33.836313%2C%20-117.52336499999998%5D%2C%20%5B41.65813%2C%20-87.58708%5D%2C%20%5B45.53978%2C%20-118.45875%5D%2C%20%5B25.670913%2C%20-80.415251%5D%2C%20%5B33.914253%2C%20-118.099295%5D%2C%20%5B39.026452%2C%20-94.554307%5D%2C%20%5B35.062092%2C%20-80.79831999999998%5D%2C%20%5B29.78448%2C%20-95.46853%5D%2C%20%5B38.926535%2C%20-94.404247%5D%2C%20%5B36.153699%2C%20-86.771174%5D%2C%20%5B36.84073%2C%20-119.928463%5D%2C%20%5B33.910990000000005%2C%20-84.21488000000002%5D%2C%20%5B38.482664%2C%20-120.519407%5D%2C%20%5B38.051617%2C%20-122.531197%5D%2C%20%5B34.17667%2C%20-118.4683%5D%2C%20%5B40.412474%2C%20-79.629889%5D%2C%20%5B35.898018%2C%20-84.17796700000002%5D%2C%20%5B30.4933%2C%20-91.044466%5D%2C%20%5B44.09424%2C%20-121.30328%5D%2C%20%5B25.940842%2C%20-80.245398%5D%2C%20%5B34.02154%2C%20-118.277421%5D%2C%20%5B32.74828%2C%20-96.76929%5D%2C%20%5B36.065987%2C%20-119.107487%5D%2C%20%5B40.810516%2C%20-74.09598100000002%5D%2C%20%5B37.23915%2C%20-112.83237%5D%2C%20%5B35.242606%2C%20-80.680268%5D%2C%20%5B39.626042%2C%20-76.30959200000002%5D%2C%20%5B34.922144%2C%20-82.094835%5D%2C%20%5B39.870597%2C%20-75.101691%5D%2C%20%5B36.590123%2C%20-119.511443%5D%2C%20%5B30.440645%2C%20-86.638767%5D%2C%20%5B32.909405%2C%20-96.717688%5D%2C%20%5B36.218072%2C%20-80.30968299999998%5D%2C%20%5B40.514527%2C%20-111.891%5D%2C%20%5B42.96232%2C%20-71.41585%5D%2C%20%5B39.284895%2C%20-123.215989%5D%2C%20%5B29.71094%2C%20-95.11314%5D%2C%20%5B33.77688%2C%20-84.61074%5D%2C%20%5B34.467447%2C%20-80.996199%5D%2C%20%5B34.148986%2C%20-118.051584%5D%2C%20%5B46.16812%2C%20-92.86612%5D%2C%20%5B33.793915000000005%2C%20-117.230038%5D%2C%20%5B39.895691%2C%20-74.944925%5D%2C%20%5B33.721994%2C%20-84.39468199999997%5D%2C%20%5B38.91596%2C%20-77.21788000000002%5D%2C%20%5B36.998289%2C%20-122.00917%5D%2C%20%5B33.527405%2C%20-112.269306%5D%2C%20%5B43.29058300000001%2C%20-122.565917%5D%2C%20%5B39.445972%2C%20-77.392976%5D%2C%20%5B39.480483%2C%20-75.72010999999998%5D%2C%20%5B34.244625%2C%20-81.474609%5D%2C%20%5B30.708193%2C%20-86.566123%5D%2C%20%5B27.857164%2C%20-82.326734%5D%2C%20%5B46.378%2C%20-92.78719%5D%2C%20%5B33.930934%2C%20-118.1789%5D%2C%20%5B34.07205%2C%20-118.074613%5D%2C%20%5B25.80546%2C%20-80.32099000000002%5D%2C%20%5B35.044639000000004%2C%20-85.16170100000002%5D%2C%20%5B40.865995%2C%20-73.929839%5D%2C%20%5B37.799045%2C%20-122.276034%5D%2C%20%5B34.099302%2C%20-117.488784%5D%2C%20%5B30.444763%2C%20-83.685158%5D%2C%20%5B39.7174%2C%20-86.12572%5D%2C%20%5B30.458786%2C%20-84.360913%5D%2C%20%5B33.93916%2C%20-84.50058%5D%2C%20%5B38.944318%2C%20-121.097889%5D%2C%20%5B42.884973%2C%20-85.835201%5D%2C%20%5B44.966668%2C%20-93.088999%5D%2C%20%5B44.96045%2C%20-122.9903%5D%2C%20%5B25.447767%2C%20-80.479784%5D%2C%20%5B34.921467%2C%20-82.095875%5D%2C%20%5B43.174103%2C%20-77.550708%5D%2C%20%5B40.222017%2C%20-75.238212%5D%2C%20%5B43.358923%2C%20-121.742346%5D%2C%20%5B41.66388%2C%20-91.35076%5D%2C%20%5B34.156673%2C%20-118.417126%5D%2C%20%5B35.76746%2C%20-78.73569%5D%2C%20%5B38.3652%2C%20-120.794527%5D%2C%20%5B40.731674%2C%20-73.925253%5D%2C%20%5B43.061331%2C%20-77.553402%5D%2C%20%5B45.005399%2C%20-122.9967%5D%2C%20%5B38.62787700000001%2C%20-121.266099%5D%2C%20%5B38.626401%2C%20-121.410964%5D%2C%20%5B41.74091%2C%20-72.73584%5D%2C%20%5B33.946901000000004%2C%20-118.100305%5D%2C%20%5B34.581105%2C%20-82.720704%5D%2C%20%5B25.802914%2C%20-80.369318%5D%2C%20%5B27.498783000000003%2C%20-82.628455%5D%2C%20%5B40.640985%2C%20-74.20810300000002%5D%2C%20%5B37.11482%2C%20-113.15396%5D%2C%20%5B30.319879%2C%20-81.68141999999997%5D%2C%20%5B41.8107%2C%20-71.35139000000002%5D%2C%20%5B43.94999%2C%20-92.35646%5D%2C%20%5B33.000994%2C%20-96.708749%5D%2C%20%5B33.112186%2C%20-80.261688%5D%2C%20%5B41.24431%2C%20-111.96993%5D%2C%20%5B32.987812%2C%20-87.78632900000002%5D%2C%20%5B32.133926%2C%20-110.963816%5D%2C%20%5B25.878134%2C%20-80.357315%5D%2C%20%5B33.043743%2C%20-111.983607%5D%2C%20%5B29.99723%2C%20-90.14678%5D%2C%20%5B33.837224%2C%20-117.287603%5D%2C%20%5B34.02975%2C%20-118.40551%5D%2C%20%5B34.143763%2C%20-118.257884%5D%2C%20%5B33.881106%2C%20-117.443646%5D%2C%20%5B34.000953%2C%20-81.172358%5D%2C%20%5B28.460433%2C%20-81.31015699999998%5D%2C%20%5B29.797492%2C%20-81.366507%5D%2C%20%5B33.845673%2C%20-117.958859%5D%2C%20%5B35.75545800000001%2C%20-78.612362%5D%2C%20%5B32.365102%2C%20-95.291609%5D%2C%20%5B27.94468%2C%20-82.539673%5D%2C%20%5B27.947457%2C%20-82.353887%5D%2C%20%5B39.613488%2C%20-84.182827%5D%2C%20%5B37.337299%2C%20-77.167295%5D%2C%20%5B25.78586%2C%20-80.21365%5D%2C%20%5B36.53986%2C%20-119.62885%5D%2C%20%5B39.375675%2C%20-77.233103%5D%2C%20%5B34.20126%2C%20-118.40197%5D%2C%20%5B44.96547%2C%20-93.25705%5D%2C%20%5B34.027332%2C%20-118.21118%5D%2C%20%5B26.20755%2C%20-80.13985%5D%2C%20%5B38.69542%2C%20-90.44978%5D%2C%20%5B28.027781%2C%20-82.21593399999998%5D%2C%20%5B43.81305800000001%2C%20-116.754745%5D%2C%20%5B35.23142199999999%2C%20-85.140865%5D%2C%20%5B42.997792%2C%20-76.731433%5D%2C%20%5B40.268701%2C%20-74.509395%5D%2C%20%5B32.985661%2C%20-97.250746%5D%2C%20%5B42.246226%2C%20-123.632203%5D%2C%20%5B27.763485%2C%20-82.646617%5D%2C%20%5B35.009052000000004%2C%20-117.650777%5D%2C%20%5B32.10731%2C%20-110.84674%5D%2C%20%5B46.325536%2C%20-95.094319%5D%2C%20%5B47.51846%2C%20-122.19842%5D%2C%20%5B41.683582%2C%20-83.5159%5D%2C%20%5B25.760881%2C%20-80.420136%5D%2C%20%5B41.922937%2C%20-122.576297%5D%2C%20%5B33.898384%2C%20-118.370261%5D%2C%20%5B39.70463%2C%20-105.25456%5D%2C%20%5B25.508957%2C%20-80.412418%5D%2C%20%5B29.898035%2C%20-95.425225%5D%2C%20%5B44.26209%2C%20-121.11992%5D%2C%20%5B30.350037%2C%20-97.509562%5D%2C%20%5B28.50406%2C%20-81.24498%5D%2C%20%5B40.48485%2C%20-74.40052%5D%2C%20%5B47.874095%2C%20-94.440735%5D%2C%20%5B40.85333%2C%20-73.96133%5D%2C%20%5B44.952353%2C%20-93.087576%5D%2C%20%5B39.864444%2C%20-74.171351%5D%2C%20%5B25.876984%2C%20-80.323554%5D%2C%20%5B25.571624%2C%20-80.376307%5D%2C%20%5B28.085898%2C%20-82.4544%5D%2C%20%5B39.983992%2C%20-76.736278%5D%2C%20%5B37.984104%2C%20-77.61117%5D%2C%20%5B36.751447%2C%20-119.793557%5D%2C%20%5B39.9306%2C%20-75.31061%5D%2C%20%5B25.899671%2C%20-80.181294%5D%2C%20%5B25.94061%2C%20-80.19046%5D%2C%20%5B34.071931%2C%20-118.266914%5D%2C%20%5B35.95594000000001%2C%20-78.89163%5D%2C%20%5B40.380444%2C%20-75.46195%5D%2C%20%5B33.974728000000006%2C%20-118.236829%5D%2C%20%5B40.632446%2C%20-74.931714%5D%2C%20%5B39.383164%2C%20-77.259861%5D%2C%20%5B34.018113%2C%20-118.157433%5D%2C%20%5B26.044058%2C%20-80.25143800000002%5D%2C%20%5B38.86298%2C%20-76.99602%5D%2C%20%5B39.742011%2C%20-121.883284%5D%2C%20%5B35.150054%2C%20-84.95223299999998%5D%2C%20%5B35.849521%2C%20-78.5866%5D%2C%20%5B38.611837%2C%20-78.709225%5D%2C%20%5B34.025441%2C%20-117.116307%5D%2C%20%5B25.81151%2C%20-80.19982900000002%5D%2C%20%5B33.389698%2C%20-79.288999%5D%2C%20%5B38.301758%2C%20-77.109306%5D%2C%20%5B34.067366%2C%20-117.563705%5D%2C%20%5B36.06604%2C%20-80.29921999999998%5D%2C%20%5B37.805228%2C%20-122.43831000000002%5D%2C%20%5B34.724579%2C%20-120.133195%5D%2C%20%5B45.697857%2C%20-122.658888%5D%2C%20%5B37.6369%2C%20-121.88438%5D%2C%20%5B39.989569%2C%20-75.206177%5D%2C%20%5B28.576971%2C%20-81.70083199999998%5D%2C%20%5B34.295824%2C%20-117.455404%5D%2C%20%5B30.438741%2C%20-91.085693%5D%2C%20%5B29.755640000000003%2C%20-95.55819%5D%2C%20%5B35.165551%2C%20-113.529142%5D%2C%20%5B39.422949%2C%20-77.494506%5D%2C%20%5B44.836973%2C%20-93.398298%5D%2C%20%5B33.74488%2C%20-84.39703%5D%2C%20%5B27.971911%2C%20-82.396909%5D%2C%20%5B32.79136%2C%20-96.74152%5D%2C%20%5B38.351638%2C%20-121.531308%5D%2C%20%5B34.134687%2C%20-117.640747%5D%2C%20%5B25.951821%2C%20-80.22849599999998%5D%2C%20%5B33.876529999999995%2C%20-118.08223%5D%2C%20%5B45.37076%2C%20-118.2957%5D%2C%20%5B32.9131%2C%20-96.768384%5D%2C%20%5B39.909135%2C%20-86.076582%5D%2C%20%5B40.855085%2C%20-73.967649%5D%2C%20%5B28.48691%2C%20-81.40918%5D%2C%20%5B32.694412%2C%20-117.127555%5D%2C%20%5B38.181856%2C%20-77.27707%5D%2C%20%5B37.80967%2C%20-122.24658%5D%2C%20%5B34.095724%2C%20-117.872426%5D%2C%20%5B39.524493%2C%20-86.881615%5D%2C%20%5B41.83242%2C%20-71.41703000000003%5D%2C%20%5B37.630276%2C%20-122.11505%5D%2C%20%5B29.71256%2C%20-95.557748%5D%2C%20%5B38.23889000000001%2C%20-85.48828%5D%2C%20%5B35.22323%2C%20-118.567167%5D%2C%20%5B32.738785%2C%20-97.481205%5D%2C%20%5B37.76888%2C%20-121.397883%5D%2C%20%5B28.422524%2C%20-81.250674%5D%2C%20%5B44.887765%2C%20-93.0049%5D%2C%20%5B34.926204%2C%20-117.345323%5D%2C%20%5B43.114761%2C%20-75.211404%5D%2C%20%5B38.371903%2C%20-122.768622%5D%2C%20%5B37.51807700000001%2C%20-120.883739%5D%2C%20%5B30.435336%2C%20-91.177242%5D%2C%20%5B33.805232000000004%2C%20-118.207491%5D%2C%20%5B37.536302%2C%20-77.31863299999998%5D%2C%20%5B38.060538%2C%20-122.53392%5D%2C%20%5B38.93297000000001%2C%20-94.52279%5D%2C%20%5B42.57068%2C%20-84.453138%5D%2C%20%5B33.967737%2C%20-81.0125%5D%2C%20%5B38.81942%2C%20-77.13056999999998%5D%2C%20%5B38.62975%2C%20-90.26954%5D%2C%20%5B38.528465%2C%20-121.469389%5D%2C%20%5B37.334395%2C%20-121.936316%5D%2C%20%5B35.17777%2C%20-89.83106%5D%2C%20%5B36.851246%2C%20-119.995978%5D%2C%20%5B30.001097%2C%20-90.04005%5D%2C%20%5B26.18858%2C%20-80.21365%5D%2C%20%5B44.887551%2C%20-122.923353%5D%2C%20%5B37.322333%2C%20-118.389794%5D%2C%20%5B33.941026%2C%20-118.279677%5D%2C%20%5B33.103247%2C%20-80.645342%5D%2C%20%5B40.88606%2C%20-73.101766%5D%2C%20%5B35.128451%2C%20-92.512682%5D%2C%20%5B41.04976%2C%20-73.536314%5D%2C%20%5B36.32323%2C%20-86.86185%5D%2C%20%5B32.96002%2C%20-96.72856%5D%2C%20%5B33.92517%2C%20-117.88029%5D%2C%20%5B39.783247%2C%20-105.127782%5D%2C%20%5B37.41766%2C%20-121.97332%5D%2C%20%5B33.811639%2C%20-118.294289%5D%2C%20%5B33.974726000000004%2C%20-118.237251%5D%2C%20%5B41.867086%2C%20-94.6818%5D%2C%20%5B38.84261%2C%20-76.86494%5D%2C%20%5B25.840632%2C%20-80.32197%5D%2C%20%5B39.09629%2C%20-94.58468%5D%2C%20%5B42.27973%2C%20-87.87858%5D%2C%20%5B37.665739%2C%20-122.116604%5D%2C%20%5B40.76466%2C%20-111.92355%5D%2C%20%5B39.28075%2C%20-94.419681%5D%2C%20%5B29.68082%2C%20-95.376724%5D%2C%20%5B40.684681%2C%20-76.982502%5D%2C%20%5B25.700704%2C%20-80.383193%5D%2C%20%5B25.859893%2C%20-80.20955699999998%5D%2C%20%5B37.385291%2C%20-76.762621%5D%2C%20%5B38.860143%2C%20-77.436573%5D%2C%20%5B40.2637%2C%20-79.56493%5D%2C%20%5B34.133612%2C%20-118.878411%5D%2C%20%5B34.954677000000004%2C%20-120.480808%5D%2C%20%5B42.27716%2C%20-88.04077%5D%2C%20%5B34.503794%2C%20-120.226482%5D%2C%20%5B33.869679999999995%2C%20-117.671545%5D%2C%20%5B40.13372%2C%20-75.18903%5D%2C%20%5B47.864663%2C%20-122.246401%5D%2C%20%5B39.202331%2C%20-121.285916%5D%2C%20%5B43.180842%2C%20-77.599182%5D%2C%20%5B35.852952%2C%20-78.580972%5D%2C%20%5B32.74116%2C%20-83.65544%5D%2C%20%5B41.62774%2C%20-93.5902%5D%2C%20%5B39.32346%2C%20-120.39813%5D%2C%20%5B26.528056%2C%20-81.869772%5D%2C%20%5B34.583126%2C%20-118.707522%5D%2C%20%5B36.210016%2C%20-117.979341%5D%2C%20%5B45.1087%2C%20-93.30116%5D%2C%20%5B44.96801%2C%20-122.990309%5D%2C%20%5B25.748356%2C%20-80.335763%5D%2C%20%5B33.13871%2C%20-117.14105%5D%2C%20%5B30.421711%2C%20-91.051478%5D%2C%20%5B33.404626%2C%20-111.917705%5D%2C%20%5B43.32096%2C%20-76.687314%5D%2C%20%5B43.016892%2C%20-83.548697%5D%2C%20%5B25.761881%2C%20-80.335131%5D%2C%20%5B45.007005%2C%20-92.779551%5D%2C%20%5B33.690021%2C%20-117.768223%5D%2C%20%5B32.735359%2C%20-96.682838%5D%2C%20%5B41.538727%2C%20-72.75972900000002%5D%2C%20%5B37.7831%2C%20-121.24054%5D%2C%20%5B40.730942%2C%20-73.87395500000002%5D%2C%20%5B34.136527%2C%20-117.521148%5D%2C%20%5B41.699509%2C%20-87.786015%5D%2C%20%5B40.65279%2C%20-112.003384%5D%2C%20%5B46.884216%2C%20-96.83985%5D%2C%20%5B38.85416%2C%20-77.38741%5D%2C%20%5B36.826675%2C%20-77.45299399999998%5D%2C%20%5B38.732405%2C%20-77.546155%5D%2C%20%5B40.83645%2C%20-73.876293%5D%2C%20%5B33.92811%2C%20-118.291602%5D%2C%20%5B38.169711%2C%20-79.00658%5D%2C%20%5B32.746759999999995%2C%20-117.156525%5D%2C%20%5B37.40794%2C%20-122.0043%5D%2C%20%5B33.75626%2C%20-117.273035%5D%2C%20%5B34.082782%2C%20-118.227275%5D%2C%20%5B35.130493%2C%20-80.47940899999998%5D%2C%20%5B33.968385%2C%20-111.38813799999998%5D%2C%20%5B38.661693%2C%20-121.35908899999998%5D%2C%20%5B38.62929000000001%2C%20-122.87805%5D%2C%20%5B30.406378000000004%2C%20-91.016225%5D%2C%20%5B38.011386%2C%20-121.864627%5D%2C%20%5B40.162228000000006%2C%20-74.900568%5D%2C%20%5B33.585099%2C%20-81.848434%5D%2C%20%5B39.13407%2C%20-76.58452%5D%2C%20%5B38.922671%2C%20-77.02230899999998%5D%2C%20%5B34.997541%2C%20-81.991672%5D%2C%20%5B36.991722%2C%20-122.168265%5D%2C%20%5B41.78992%2C%20-87.8243%5D%2C%20%5B28.486243%2C%20-81.491034%5D%2C%20%5B38.488763%2C%20-121.439474%5D%2C%20%5B27.864191%2C%20-82.384938%5D%2C%20%5B35.571078%2C%20-82.957196%5D%2C%20%5B41.704283%2C%20-123.448144%5D%2C%20%5B33.872705%2C%20-118.28521299999998%5D%2C%20%5B26.200171%2C%20-80.29618599999998%5D%2C%20%5B36.26401%2C%20-86.689509%5D%2C%20%5B27.3882%2C%20-82.46066400000002%5D%2C%20%5B37.694192%2C%20-122.073741%5D%2C%20%5B30.38742%2C%20-81.55812%5D%2C%20%5B34.998457%2C%20-82.001701%5D%2C%20%5B28.326047%2C%20-82.527775%5D%2C%20%5B32.248482%2C%20-110.909715%5D%2C%20%5B36.75284%2C%20-119.7003%5D%2C%20%5B38.91821%2C%20-76.95494000000002%5D%2C%20%5B40.619853000000006%2C%20-122.946209%5D%2C%20%5B34.168119%2C%20-118.588152%5D%2C%20%5B38.521757%2C%20-121.441091%5D%2C%20%5B39.10857%2C%20-94.680057%5D%2C%20%5B34.14759%2C%20-118.22888%5D%2C%20%5B38.14589%2C%20-122.11001%5D%2C%20%5B43.172306%2C%20-77.564361%5D%2C%20%5B33.837629%2C%20-117.251573%5D%2C%20%5B41.569183%2C%20-87.356268%5D%2C%20%5B44.979636%2C%20-124.010162%5D%2C%20%5B38.74265%2C%20-122.95458899999998%5D%2C%20%5B34.06597%2C%20-117.2549%5D%2C%20%5B32.214402%2C%20-110.974295%5D%2C%20%5B25.956872%2C%20-80.294459%5D%2C%20%5B30.349978000000004%2C%20-89.915875%5D%2C%20%5B25.939911%2C%20-80.36191099999998%5D%2C%20%5B40.421177%2C%20-74.212242%5D%2C%20%5B25.807647%2C%20-80.240104%5D%2C%20%5B27.865748%2C%20-82.326545%5D%2C%20%5B29.77427%2C%20-95.32222%5D%2C%20%5B28.486998%2C%20-81.416443%5D%2C%20%5B40.19816%2C%20-76.863715%5D%2C%20%5B30.264625%2C%20-97.737845%5D%2C%20%5B42.41235%2C%20-83.21871999999998%5D%2C%20%5B25.733369%2C%20-80.327475%5D%2C%20%5B42.86449%2C%20-73.788993%5D%2C%20%5B29.7314%2C%20-95.39948%5D%2C%20%5B35.398067%2C%20-82.504717%5D%2C%20%5B25.73417%2C%20-80.302918%5D%2C%20%5B47.605588%2C%20-122.186378%5D%2C%20%5B35.073348%2C%20-90.031038%5D%2C%20%5B39.67339000000001%2C%20-110.86167%5D%2C%20%5B35.34161599999999%2C%20-80.87876700000002%5D%2C%20%5B45.033426%2C%20-93.400682%5D%2C%20%5B41.77004%2C%20-87.62631%5D%2C%20%5B36.841524%2C%20-76.286069%5D%2C%20%5B43.147849%2C%20-88.054873%5D%2C%20%5B33.46278%2C%20-112.16351%5D%2C%20%5B28.559949%2C%20-81.128612%5D%2C%20%5B32.779443%2C%20-117.112515%5D%2C%20%5B34.872696000000005%2C%20-82.46374%5D%2C%20%5B40.703778%2C%20-112.06311%5D%2C%20%5B40.67787%2C%20-74.27849%5D%2C%20%5B40.017281%2C%20-77.529476%5D%2C%20%5B34.071095%2C%20-117.759422%5D%2C%20%5B32.828212%2C%20-96.824393%5D%2C%20%5B37.888907%2C%20-122.17566200000002%5D%2C%20%5B34.059870000000004%2C%20-118.25187%5D%2C%20%5B34.090771999999994%2C%20-118.306354%5D%2C%20%5B44.97327%2C%20-93.40062%5D%2C%20%5B39.967871%2C%20-104.988%5D%2C%20%5B26.763332%2C%20-80.093056%5D%2C%20%5B40.70376%2C%20-74.14457%5D%2C%20%5B34.30869000000001%2C%20-117.47092%5D%2C%20%5B39.439533%2C%20-121.655792%5D%2C%20%5B39.31016%2C%20-120.76819%5D%2C%20%5B45.492466%2C%20-122.792176%5D%2C%20%5B41.531087%2C%20-73.802868%5D%2C%20%5B42.49937%2C%20-83.54293%5D%2C%20%5B33.708575%2C%20-117.851595%5D%2C%20%5B41.169079%2C%20-112.020256%5D%2C%20%5B37.866753%2C%20-122.303642%5D%2C%20%5B25.920138%2C%20-80.292935%5D%2C%20%5B28.433412%2C%20-81.471954%5D%2C%20%5B41.61506%2C%20-93.577317%5D%2C%20%5B39.015766%2C%20-77.000609%5D%2C%20%5B33.993585%2C%20-117.357246%5D%2C%20%5B45.92846%2C%20-122.72241%5D%2C%20%5B38.874324%2C%20-76.97274399999998%5D%2C%20%5B46.98263%2C%20-122.64896%5D%2C%20%5B34.852297%2C%20-86.71765400000002%5D%2C%20%5B33.855962%2C%20-117.99371%5D%2C%20%5B38.62298300000001%2C%20-90.188065%5D%2C%20%5B39.28039%2C%20-85.09714%5D%2C%20%5B38.681299%2C%20-121.336969%5D%2C%20%5B45.156823%2C%20-121.650162%5D%2C%20%5B26.741094%2C%20-80.09083299999998%5D%2C%20%5B29.654755%2C%20-81.584499%5D%2C%20%5B32.454704%2C%20-93.748161%5D%2C%20%5B34.55274%2C%20-79.0716%5D%2C%20%5B33.920776000000004%2C%20-118.037816%5D%2C%20%5B32.989764%2C%20-80.223291%5D%2C%20%5B41.05794%2C%20-73.83673%5D%2C%20%5B34.946582%2C%20-82.477574%5D%2C%20%5B25.685223%2C%20-80.417573%5D%2C%20%5B37.07163%2C%20-79.89765200000002%5D%2C%20%5B33.545828%2C%20-80.915161%5D%2C%20%5B44.981793%2C%20-93.275331%5D%2C%20%5B30.167289%2C%20-97.792302%5D%2C%20%5B45.02936%2C%20-93.40068%5D%2C%20%5B25.57041%2C%20-80.337315%5D%2C%20%5B39.279052%2C%20-76.72668%5D%2C%20%5B41.032743%2C%20-123.666868%5D%2C%20%5B34.89767%2C%20-118.92141%5D%2C%20%5B40.127445%2C%20-77.352837%5D%2C%20%5B39.811621%2C%20-74.98360600000002%5D%2C%20%5B34.015315%2C%20-117.087624%5D%2C%20%5B36.326826%2C%20-119.301377%5D%2C%20%5B29.894193%2C%20-90.113254%5D%2C%20%5B34.27598%2C%20-118.47074%5D%2C%20%5B36.834057%2C%20-119.78519%5D%2C%20%5B38.311848%2C%20-104.645504%5D%2C%20%5B30.40283%2C%20-91.178726%5D%2C%20%5B47.941181%2C%20-114.028998%5D%2C%20%5B29.78469%2C%20-95.54675%5D%2C%20%5B25.99505%2C%20-80.22457%5D%2C%20%5B34.369958000000004%2C%20-117.426095%5D%2C%20%5B36.30274%2C%20-86.69183000000002%5D%2C%20%5B35.194059%2C%20-80.765862%5D%2C%20%5B34.459336%2C%20-118.615361%5D%2C%20%5B45.53535%2C%20-122.68615%5D%2C%20%5B34.323809999999995%2C%20-118.501378%5D%2C%20%5B33.576043%2C%20-85.993888%5D%2C%20%5B40.895612%2C%20-74.257863%5D%2C%20%5B38.938926%2C%20-94.543949%5D%2C%20%5B38.9406%2C%20-94.53798%5D%2C%20%5B48.279528000000006%2C%20-114.276304%5D%2C%20%5B34.263386%2C%20-117.633096%5D%2C%20%5B44.966342%2C%20-93.277168%5D%2C%20%5B25.934624%2C%20-80.2937%5D%2C%20%5B33.565382%2C%20-112.117076%5D%2C%20%5B35.79154699999999%2C%20-78.628415%5D%2C%20%5B34.004011%2C%20-117.830189%5D%2C%20%5B27.388811%2C%20-82.45312%5D%2C%20%5B42.37043900000001%2C%20-87.881952%5D%2C%20%5B34.002052%2C%20-117.930643%5D%2C%20%5B36.138186%2C%20-86.518761%5D%2C%20%5B34.115351000000004%2C%20-118.268555%5D%2C%20%5B40.741914%2C%20-73.823422%5D%2C%20%5B42.95559%2C%20-85.649328%5D%2C%20%5B40.779587%2C%20-73.57100799999998%5D%2C%20%5B47.467482%2C%20-122.218129%5D%2C%20%5B33.775631%2C%20-117.992693%5D%2C%20%5B45.24845%2C%20-122.724443%5D%2C%20%5B29.81412700000001%2C%20-95.358778%5D%2C%20%5B45.093815%2C%20-123.380327%5D%2C%20%5B39.757371%2C%20-105.009998%5D%2C%20%5B41.24809000000001%2C%20-76.94288%5D%2C%20%5B35.260798%2C%20-80.775615%5D%2C%20%5B25.794286%2C%20-80.205507%5D%2C%20%5B27.36719%2C%20-82.54271%5D%2C%20%5B43.5524%2C%20-121.95518%5D%2C%20%5B32.75269%2C%20-96.61593%5D%2C%20%5B40.407822%2C%20-79.263638%5D%2C%20%5B25.705616%2C%20-80.285403%5D%2C%20%5B35.266855%2C%20-118.985354%5D%2C%20%5B45.175683%2C%20-95.014139%5D%2C%20%5B43.576894%2C%20-116.195834%5D%2C%20%5B45.351616%2C%20-93.909426%5D%2C%20%5B34.027452000000004%2C%20-118.274482%5D%2C%20%5B34.265874%2C%20-118.469814%5D%2C%20%5B28.448391%2C%20-81.364034%5D%2C%20%5B29.712190000000003%2C%20-95.16234%5D%2C%20%5B38.668044%2C%20-121.340222%5D%2C%20%5B40.04632700000001%2C%20-76.514219%5D%2C%20%5B45.23244%2C%20-93.640133%5D%2C%20%5B33.943819%2C%20-81.155847%5D%2C%20%5B41.496813%2C%20-112.01599%5D%2C%20%5B40.477904%2C%20-74.40887099999998%5D%2C%20%5B32.936616%2C%20-117.229434%5D%2C%20%5B38.24605800000001%2C%20-122.645319%5D%2C%20%5B37.879206%2C%20-121.27834%5D%2C%20%5B34.846531%2C%20-82.40432%5D%2C%20%5B42.191897%2C%20-88.13542%5D%2C%20%5B39.333891%2C%20-79.45465300000002%5D%2C%20%5B34.455444%2C%20-119.278059%5D%2C%20%5B30.29763%2C%20-81.76999%5D%2C%20%5B26.528535%2C%20-80.172477%5D%2C%20%5B27.298759000000004%2C%20-82.451479%5D%2C%20%5B37.70171%2C%20-121.76941%5D%2C%20%5B43.597387%2C%20-116.29598%5D%2C%20%5B34.205226%2C%20-118.988022%5D%2C%20%5B38.565992%2C%20-121.336001%5D%2C%20%5B39.15846%2C%20-76.69527%5D%2C%20%5B37.318025%2C%20-77.456626%5D%2C%20%5B28.537653%2C%20-81.310467%5D%2C%20%5B44.056443%2C%20-123.101247%5D%2C%20%5B40.760575%2C%20-111.890973%5D%2C%20%5B39.38711%2C%20-76.52724%5D%2C%20%5B26.5453%2C%20-81.852391%5D%2C%20%5B37.5415%2C%20-122.28527%5D%2C%20%5B36.433078%2C%20-120.392013%5D%2C%20%5B33.6602%2C%20-84.49774000000002%5D%2C%20%5B44.058067%2C%20-72.74270200000002%5D%2C%20%5B32.939977%2C%20-96.751925%5D%2C%20%5B34.111422%2C%20-118.246933%5D%2C%20%5B35.015991%2C%20-85.254195%5D%2C%20%5B25.75156%2C%20-80.390282%5D%2C%20%5B33.967292%2C%20-118.281002%5D%2C%20%5B33.04588%2C%20-111.78679%5D%2C%20%5B32.79135%2C%20-96.81363%5D%2C%20%5B30.348766%2C%20-97.555923%5D%2C%20%5B47.569661%2C%20-122.37293%5D%2C%20%5B34.032615%2C%20-118.200395%5D%2C%20%5B33.884042%2C%20-118.028953%5D%2C%20%5B28.937408%2C%20-82.41753%5D%2C%20%5B29.941992%2C%20-90.095151%5D%2C%20%5B25.896495%2C%20-80.264623%5D%2C%20%5B38.70542%2C%20-77.22377%5D%2C%20%5B35.147654%2C%20-80.925991%5D%2C%20%5B42.847141%2C%20-91.923648%5D%2C%20%5B34.382706%2C%20-81.780964%5D%2C%20%5B34.720341999999995%2C%20-92.361028%5D%2C%20%5B40.128907%2C%20-75.111427%5D%2C%20%5B42.42893%2C%20-87.93791%5D%2C%20%5B38.663812%2C%20-121.27543%5D%2C%20%5B35.570075%2C%20-118.507011%5D%2C%20%5B25.81248%2C%20-80.250497%5D%2C%20%5B39.239924%2C%20-81.215271%5D%2C%20%5B34.065469%2C%20-117.500668%5D%2C%20%5B34.217271999999994%2C%20-119.050308%5D%2C%20%5B25.637394%2C%20-80.385798%5D%2C%20%5B25.91034800000001%2C%20-80.161887%5D%2C%20%5B38.942081%2C%20-77.414968%5D%2C%20%5B41.641005%2C%20-87.067217%5D%2C%20%5B28.290376%2C%20-82.7113%5D%2C%20%5B38.550156%2C%20-121.473845%5D%2C%20%5B34.064892%2C%20-81.04334899999998%5D%2C%20%5B37.733241%2C%20-122.41191%5D%2C%20%5B33.941019%2C%20-117.252608%5D%2C%20%5B32.75878400000001%2C%20-96.475498%5D%2C%20%5B30.401816%2C%20-91.176541%5D%2C%20%5B28.811467%2C%20-81.323617%5D%2C%20%5B28.576778000000004%2C%20-81.45138299999998%5D%2C%20%5B25.636526%2C%20-80.33763499999998%5D%2C%20%5B38.74425%2C%20-121.26372%5D%2C%20%5B28.450912%2C%20-81.46547199999998%5D%2C%20%5B34.039379%2C%20-118.273709%5D%2C%20%5B29.728774%2C%20-95.296662%5D%2C%20%5B41.00007%2C%20-73.653591%5D%2C%20%5B39.043728%2C%20-94.659479%5D%2C%20%5B41.11597%2C%20-112.01558%5D%2C%20%5B40.796%2C%20-72.913249%5D%2C%20%5B28.189554%2C%20-82.398387%5D%2C%20%5B40.854388%2C%20-73.96769599999998%5D%2C%20%5B37.753134%2C%20-122.40282%5D%2C%20%5B39.62983%2C%20-104.90518%5D%2C%20%5B39.76462%2C%20-105.00101%5D%2C%20%5B38.976533%2C%20-77.316071%5D%2C%20%5B40.58791%2C%20-111.97313%5D%2C%20%5B37.371189%2C%20-121.849157%5D%2C%20%5B33.733315000000005%2C%20-117.405812%5D%2C%20%5B43.14542%2C%20-123.36493%5D%2C%20%5B29.75524%2C%20-95.45572%5D%2C%20%5B33.87673%2C%20-118.18612%5D%2C%20%5B40.52225%2C%20-111.9843%5D%2C%20%5B45.544822%2C%20-122.676465%5D%2C%20%5B40.730963%2C%20-74.125388%5D%2C%20%5B40.39196%2C%20-84.16083%5D%2C%20%5B34.018142%2C%20-117.33562%5D%2C%20%5B35.53478%2C%20-80.58370500000002%5D%2C%20%5B25.86639%2C%20-80.20825%5D%2C%20%5B32.759349%2C%20-117.208097%5D%2C%20%5B36.89562%2C%20-121.42729%5D%2C%20%5B39.699962%2C%20-76.17373%5D%2C%20%5B34.879644%2C%20-82.20737%5D%2C%20%5B29.77427%2C%20-95.32222%5D%2C%20%5B39.129384%2C%20-76.862057%5D%2C%20%5B40.833123%2C%20-75.301011%5D%2C%20%5B41.64795%2C%20-73.48385999999998%5D%2C%20%5B38.78489%2C%20-121.22678%5D%2C%20%5B44.398281%2C%20-123.829505%5D%2C%20%5B35.159071000000004%2C%20-119.108244%5D%2C%20%5B34.740673%2C%20-86.664722%5D%2C%20%5B33.008755%2C%20-117.079936%5D%2C%20%5B30.349188%2C%20-97.716286%5D%2C%20%5B35.146175%2C%20-80.898674%5D%2C%20%5B32.125063%2C%20-110.875035%5D%2C%20%5B39.96893%2C%20-83.11922%5D%2C%20%5B40.241933%2C%20-76.88906800000002%5D%2C%20%5B26.098919%2C%20-80.248289%5D%2C%20%5B38.021937%2C%20-121.081184%5D%2C%20%5B25.713109%2C%20-80.455135%5D%2C%20%5B27.940781%2C%20-82.354421%5D%2C%20%5B34.817853%2C%20-82.42237800000002%5D%2C%20%5B46.356921%2C%20-96.155572%5D%2C%20%5B38.121711%2C%20-79.047279%5D%2C%20%5B39.867593%2C%20-77.96540999999998%5D%2C%20%5B33.99429%2C%20-117.8847%5D%2C%20%5B34.163219%2C%20-79.75869499999997%5D%2C%20%5B43.543725%2C%20-70.59271%5D%2C%20%5B27.54%2C%20-81.49048%5D%2C%20%5B44.02124%2C%20-93.249171%5D%2C%20%5B38.684309000000006%2C%20-121.338468%5D%2C%20%5B26.017095%2C%20-80.167062%5D%2C%20%5B34.851336%2C%20-82.27763399999998%5D%2C%20%5B33.92775%2C%20-118.08724%5D%2C%20%5B32.792505%2C%20-96.683671%5D%2C%20%5B45.580169%2C%20-118.636938%5D%2C%20%5B36.975981%2C%20-121.885834%5D%2C%20%5B41.811514%2C%20-124.108847%5D%2C%20%5B37.950974%2C%20-120.394945%5D%2C%20%5B43.55542%2C%20-89.4143%5D%2C%20%5B34.041505%2C%20-118.173589%5D%2C%20%5B43.124298%2C%20-75.287952%5D%2C%20%5B40.30784%2C%20-74.246367%5D%2C%20%5B45.346101%2C%20-118.150845%5D%2C%20%5B25.577531%2C%20-80.364932%5D%2C%20%5B25.93371%2C%20-80.121845%5D%2C%20%5B26.13665%2C%20-80.153088%5D%2C%20%5B33.783821%2C%20-117.216126%5D%2C%20%5B39.08901%2C%20-84.47495%5D%2C%20%5B44.954844%2C%20-93.07821%5D%2C%20%5B38.99189000000001%2C%20-76.37109%5D%2C%20%5B28.067759%2C%20-82.750619%5D%2C%20%5B38.491855%2C%20-120.511813%5D%2C%20%5B32.98031%2C%20-96.768187%5D%2C%20%5B36.01599%2C%20-83.92716999999998%5D%2C%20%5B40.231794%2C%20-76.936966%5D%2C%20%5B37.520215%2C%20-122.263104%5D%2C%20%5B32.93609%2C%20-117.2318%5D%2C%20%5B35.2528%2C%20-80.85611999999998%5D%2C%20%5B41.417196%2C%20-73.402587%5D%2C%20%5B35.324767%2C%20-119.037912%5D%2C%20%5B44.907479%2C%20-122.98631%5D%2C%20%5B30.401901%2C%20-90.019952%5D%2C%20%5B37.017047%2C%20-76.32785600000003%5D%2C%20%5B33.620757%2C%20-117.424518%5D%2C%20%5B32.930756%2C%20-80.045474%5D%2C%20%5B45.52301%2C%20-122.66543%5D%2C%20%5B42.715144%2C%20-92.277992%5D%2C%20%5B34.071725%2C%20-117.61288%5D%2C%20%5B43.031417%2C%20-83.724548%5D%2C%20%5B39.388437%2C%20-76.530746%5D%2C%20%5B37.313148%2C%20-120.851231%5D%2C%20%5B30.261239%2C%20-92.011219%5D%2C%20%5B33.869761%2C%20-117.910975%5D%2C%20%5B45.366418%2C%20-122.585149%5D%2C%20%5B48.117545%2C%20-105.539076%5D%2C%20%5B28.359261%2C%20-81.387437%5D%2C%20%5B40.00772%2C%20-75.20091%5D%2C%20%5B34.721158%2C%20-92.26866%5D%2C%20%5B36.155339%2C%20-86.765243%5D%2C%20%5B41.840439%2C%20-83.470865%5D%2C%20%5B28.53895%2C%20-82.479289%5D%2C%20%5B37.8745%2C%20-122.30599%5D%2C%20%5B32.764146999999994%2C%20-117.232566%5D%2C%20%5B37.795503%2C%20-122.396702%5D%2C%20%5B31.835085%2C%20-106.320577%5D%2C%20%5B38.868631%2C%20-77.04803100000002%5D%2C%20%5B37.867475%2C%20-121.638375%5D%2C%20%5B30.565156%2C%20-85.856264%5D%2C%20%5B38.009932%2C%20-121.320103%5D%2C%20%5B30.04309000000001%2C%20-82.072323%5D%2C%20%5B27.388790000000004%2C%20-82.446088%5D%2C%20%5B33.657349%2C%20-117.745463%5D%2C%20%5B25.810502%2C%20-80.321519%5D%2C%20%5B38.97565%2C%20-122.84247%5D%2C%20%5B41.137947%2C%20-111.871883%5D%2C%20%5B33.870307000000004%2C%20-117.33136299999998%5D%2C%20%5B34.157719%2C%20-118.379629%5D%2C%20%5B33.921851000000004%2C%20-118.178309%5D%2C%20%5B38.59856%2C%20-104.90798%5D%2C%20%5B35.720023%2C%20-86.96770699999998%5D%2C%20%5B32.78879000000001%2C%20-96.76432%5D%2C%20%5B41.244617%2C%20-73.18951700000002%5D%2C%20%5B32.691203%2C%20-96.236704%5D%2C%20%5B41.20141%2C%20-111.99438%5D%2C%20%5B34.060124%2C%20-118.215014%5D%2C%20%5B34.27783%2C%20-118.50794%5D%2C%20%5B36.76492%2C%20-76.553276%5D%2C%20%5B33.812847%2C%20-118.081324%5D%2C%20%5B33.88201%2C%20-84.47202%5D%2C%20%5B35.754343%2C%20-78.51693%5D%2C%20%5B45.037508%2C%20-93.064516%5D%2C%20%5B38.681369%2C%20-90.213796%5D%2C%20%5B33.620065000000004%2C%20-117.321534%5D%2C%20%5B46.122189%2C%20-123.92626%5D%2C%20%5B38.618048%2C%20-121.40641200000002%5D%2C%20%5B33.035612%2C%20-117.183816%5D%2C%20%5B41.57423%2C%20-87.46016%5D%2C%20%5B39.646527%2C%20-84.157414%5D%2C%20%5B33.7033%2C%20-84.16691%5D%2C%20%5B28.466035%2C%20-81.289727%5D%2C%20%5B40.62756%2C%20-75.48036%5D%2C%20%5B38.337874%2C%20-75.11155500000002%5D%2C%20%5B44.355486%2C%20-117.275801%5D%2C%20%5B28.381575%2C%20-82.676664%5D%2C%20%5B30.090485%2C%20-82.756852%5D%2C%20%5B37.37472%2C%20-121.93245%5D%2C%20%5B40.699169%2C%20-73.996597%5D%2C%20%5B40.76521%2C%20-74.023314%5D%2C%20%5B36.619887%2C%20-119.610599%5D%2C%20%5B38.43108%2C%20-122.7112%5D%2C%20%5B30.117328000000004%2C%20-82.655757%5D%2C%20%5B33.864808000000004%2C%20-117.453774%5D%2C%20%5B37.405436%2C%20-122.055903%5D%2C%20%5B39.10166%2C%20-94.67931%5D%2C%20%5B32.789105%2C%20-96.807163%5D%2C%20%5B36.321626%2C%20-86.856483%5D%2C%20%5B38.114727%2C%20-121.392788%5D%2C%20%5B33.557688%2C%20-112.113231%5D%2C%20%5B32.727971999999994%2C%20-117.068991%5D%2C%20%5B35.17456%2C%20-90.01823%5D%2C%20%5B33.804318%2C%20-118.220701%5D%2C%20%5B34.06654%2C%20-117.244561%5D%2C%20%5B38.62097%2C%20-77.80072%5D%2C%20%5B25.686024%2C%20-80.399132%5D%2C%20%5B37.918967%2C%20-120.4518%5D%2C%20%5B47.9157%2C%20-122.20952%5D%2C%20%5B33.896158%2C%20-118.193472%5D%2C%20%5B35.43168400000001%2C%20-84.68503299999998%5D%2C%20%5B42.63896%2C%20-73.75379000000002%5D%2C%20%5B33.039955%2C%20-117.284083%5D%2C%20%5B38.510862%2C%20-121.33503799999998%5D%2C%20%5B27.921156%2C%20-82.774879%5D%2C%20%5B29.822513%2C%20-95.56362%5D%2C%20%5B38.797824%2C%20-121.132754%5D%2C%20%5B44.918341%2C%20-122.997498%5D%2C%20%5B28.74841%2C%20-82.10606%5D%2C%20%5B37.019216%2C%20-119.693821%5D%2C%20%5B28.451062%2C%20-81.35472299999998%5D%2C%20%5B33.609320000000004%2C%20-112.37654%5D%2C%20%5B25.598624%2C%20-80.35336099999998%5D%2C%20%5B42.283705%2C%20-121.467279%5D%2C%20%5B34.03328%2C%20-84.57584%5D%2C%20%5B38.147183%2C%20-121.605095%5D%2C%20%5B37.31702%2C%20-121.90524%5D%2C%20%5B34.153022%2C%20-118.367458%5D%2C%20%5B25.768604%2C%20-80.367869%5D%2C%20%5B45.693823%2C%20-120.380834%5D%2C%20%5B43.532403%2C%20-100.733609%5D%2C%20%5B38.186084%2C%20-85.817695%5D%2C%20%5B36.215838%2C%20-95.958239%5D%2C%20%5B35.909317%2C%20-84.58523100000002%5D%2C%20%5B37.435108%2C%20-77.634512%5D%2C%20%5B43.601264%2C%20-116.283666%5D%2C%20%5B40.68132%2C%20-80.1057%5D%2C%20%5B27.93776%2C%20-82.2795%5D%2C%20%5B33.13282%2C%20-117.10537%5D%2C%20%5B34.061661%2C%20-117.190808%5D%2C%20%5B30.429283%2C%20-91.057218%5D%2C%20%5B40.894253000000006%2C%20-73.862311%5D%2C%20%5B27.96491%2C%20-82.32653%5D%2C%20%5B38.635873%2C%20-77.290186%5D%2C%20%5B39.25051%2C%20-77.19466%5D%2C%20%5B42.22937%2C%20-122.74406%5D%2C%20%5B39.580091%2C%20-77.868874%5D%2C%20%5B34.04755%2C%20-117.30748%5D%2C%20%5B38.899385%2C%20-77.215121%5D%2C%20%5B32.837283%2C%20-96.680683%5D%2C%20%5B39.730767%2C%20-107.943771%5D%2C%20%5B38.744717%2C%20-84.827627%5D%2C%20%5B37.79378%2C%20-122.20524%5D%2C%20%5B32.90153%2C%20-96.8979%5D%2C%20%5B39.00556%2C%20-94.69402%5D%2C%20%5B39.015744%2C%20-77.09734%5D%2C%20%5B33.027828%2C%20-83.909719%5D%2C%20%5B34.072166%2C%20-118.100845%5D%2C%20%5B35.259683%2C%20-80.84093100000003%5D%2C%20%5B29.955908%2C%20-90.07092800000002%5D%2C%20%5B42.43983%2C%20-83.21961%5D%2C%20%5B32.264168%2C%20-110.97203%5D%2C%20%5B27.078784%2C%20-82.359217%5D%2C%20%5B46.09883%2C%20-94.32938%5D%2C%20%5B41.129293%2C%20-111.908507%5D%2C%20%5B41.414874%2C%20-77.04275%5D%2C%20%5B39.089272%2C%20-84.5227%5D%2C%20%5B33.359132%2C%20-117.534847%5D%2C%20%5B38.0294%2C%20-79.13369499999997%5D%2C%20%5B30.444687%2C%20-87.27999%5D%2C%20%5B35.057312%2C%20-82.403161%5D%2C%20%5B41.5781%2C%20-73.9091%5D%2C%20%5B35.228703%2C%20-80.8677%5D%2C%20%5B40.68203%2C%20-73.69159%5D%2C%20%5B40.92714%2C%20-73.84205%5D%2C%20%5B42.4276%2C%20-123.237755%5D%2C%20%5B42.64509%2C%20-71.22755%5D%2C%20%5B35.606828%2C%20-83.00895%5D%2C%20%5B26.22341%2C%20-80.185507%5D%2C%20%5B33.96638%2C%20-118.164896%5D%2C%20%5B38.714312%2C%20-121.392379%5D%2C%20%5B46.920782%2C%20-113.959753%5D%2C%20%5B30.267885%2C%20-97.731283%5D%2C%20%5B34.011696%2C%20-118.418253%5D%2C%20%5B40.731189%2C%20-74.05155400000002%5D%2C%20%5B39.06216%2C%20-121.502367%5D%2C%20%5B35.053858%2C%20-85.250801%5D%2C%20%5B39.383872%2C%20-120.085254%5D%2C%20%5B42.66177%2C%20-84.2042%5D%2C%20%5B25.768453%2C%20-80.336301%5D%2C%20%5B39.014515%2C%20-77.032779%5D%2C%20%5B40.760141%2C%20-74.393615%5D%2C%20%5B25.87707%2C%20-80.21435600000002%5D%2C%20%5B36.75877%2C%20-76.34021%5D%2C%20%5B41.055339%2C%20-73.52084%5D%2C%20%5B34.781959%2C%20-82.47333%5D%2C%20%5B34.055398%2C%20-78.861373%5D%2C%20%5B34.134894%2C%20-117.603235%5D%2C%20%5B40.865154%2C%20-74.121416%5D%2C%20%5B40.31686%2C%20-74.65569%5D%2C%20%5B32.847165999999994%2C%20-96.710823%5D%2C%20%5B38.303975%2C%20-85.882602%5D%2C%20%5B30.06998%2C%20-81.498644%5D%2C%20%5B27.864558%2C%20-82.32668100000002%5D%2C%20%5B43.016995%2C%20-83.748364%5D%2C%20%5B39.53316%2C%20-104.86805%5D%2C%20%5B43.604874%2C%20-116.380724%5D%2C%20%5B25.947414%2C%20-80.148699%5D%2C%20%5B43.03587%2C%20-89.226567%5D%2C%20%5B38.021229%2C%20-121.981477%5D%2C%20%5B45.650395%2C%20-120.957867%5D%2C%20%5B33.44235%2C%20-117.62766%5D%2C%20%5B38.788723%2C%20-77.448634%5D%2C%20%5B37.91963300000001%2C%20-121.227895%5D%2C%20%5B32.166898%2C%20-110.969189%5D%2C%20%5B27.447767%2C%20-82.549779%5D%2C%20%5B37.95325%2C%20-122.27194%5D%2C%20%5B33.7789%2C%20-117.8801%5D%2C%20%5B38.813751%2C%20-77.44670500000002%5D%2C%20%5B26.53273%2C%20-80.17276%5D%2C%20%5B28.014776%2C%20-82.27161600000002%5D%2C%20%5B34.021759%2C%20-117.550751%5D%2C%20%5B25.898631%2C%20-80.307035%5D%2C%20%5B43.261056%2C%20-123.358578%5D%2C%20%5B40.699936%2C%20-111.903248%5D%2C%20%5B32.25039%2C%20-110.9269%5D%2C%20%5B27.114590000000003%2C%20-82.388995%5D%2C%20%5B34.109153000000006%2C%20-117.980903%5D%2C%20%5B32.653444%2C%20-96.876345%5D%2C%20%5B42.392383%2C%20-82.995901%5D%2C%20%5B44.056551%2C%20-121.283849%5D%2C%20%5B34.391946999999995%2C%20-80.074389%5D%2C%20%5B43.12891%2C%20-88.05591%5D%2C%20%5B40.715136%2C%20-111.829856%5D%2C%20%5B39.93176%2C%20-82.91274%5D%2C%20%5B36.183712%2C%20-121.150522%5D%2C%20%5B34.096482%2C%20-118.4771%5D%2C%20%5B37.46771500000001%2C%20-122.29203400000002%5D%2C%20%5B27.921028000000003%2C%20-82.34951099999998%5D%2C%20%5B25.78657%2C%20-80.368843%5D%2C%20%5B38.431829%2C%20-78.872801%5D%2C%20%5B37.503515%2C%20-77.078994%5D%2C%20%5B43.12272100000001%2C%20-75.38843%5D%2C%20%5B39.272094%2C%20-78.24929499999998%5D%2C%20%5B37.416225%2C%20-77.622174%5D%2C%20%5B33.922272%2C%20-118.249859%5D%2C%20%5B26.673296%2C%20-81.81782199999998%5D%2C%20%5B35.798614%2C%20-78.49524100000002%5D%2C%20%5B40.500444%2C%20-76.180604%5D%2C%20%5B38.350092%2C%20-77.480487%5D%2C%20%5B34.224482%2C%20-118.473268%5D%2C%20%5B42.41525%2C%20-83.08518000000002%5D%2C%20%5B40.826858%2C%20-73.852211%5D%2C%20%5B38.657709%2C%20-121.363421%5D%2C%20%5B30.461367%2C%20-84.342209%5D%2C%20%5B37.810203%2C%20-122.275488%5D%2C%20%5B34.491696999999995%2C%20-117.727273%5D%2C%20%5B42.96722000000001%2C%20-85.70322%5D%2C%20%5B34.044361%2C%20-117.550047%5D%2C%20%5B36.776615%2C%20-76.289137%5D%2C%20%5B34.040094%2C%20-118.579258%5D%2C%20%5B37.555253%2C%20-77.486554%5D%2C%20%5B30.700875%2C%20-88.123816%5D%2C%20%5B25.955269%2C%20-80.205545%5D%2C%20%5B25.686591%2C%20-80.380062%5D%2C%20%5B37.68667%2C%20-122.12311%5D%2C%20%5B32.999836%2C%20-117.082681%5D%2C%20%5B29.96837%2C%20-95.4199%5D%2C%20%5B39.534033%2C%20-119.769161%5D%2C%20%5B33.988932%2C%20-117.361108%5D%2C%20%5B41.42099%2C%20-81.69051999999998%5D%2C%20%5B42.526958%2C%20-84.44345%5D%2C%20%5B42.885631%2C%20-78.870598%5D%2C%20%5B40.833657%2C%20-73.935257%5D%2C%20%5B33.563687%2C%20-84.537775%5D%2C%20%5B41.941153%2C%20-87.712379%5D%2C%20%5B38.900558%2C%20-76.944304%5D%2C%20%5B42.0044%2C%20-73.98384%5D%2C%20%5B43.03609%2C%20-88.0161%5D%2C%20%5B33.13365%2C%20-96.70681%5D%2C%20%5B26.987783%2C%20-82.36560300000002%5D%2C%20%5B33.86384%2C%20-118.04624%5D%2C%20%5B36.109439%2C%20-119.000889%5D%2C%20%5B32.746179999999995%2C%20-117.1902%5D%2C%20%5B37.855261%2C%20-122.300397%5D%2C%20%5B37.992872%2C%20-105.907795%5D%2C%20%5B41.8741%2C%20-87.64598000000002%5D%2C%20%5B44.387561%2C%20-124.08833%5D%2C%20%5B44.348316%2C%20-123.72256000000002%5D%2C%20%5B25.887227%2C%20-80.16431700000003%5D%2C%20%5B34.87823%2C%20-82.36169%5D%2C%20%5B34.520151%2C%20-118.310689%5D%2C%20%5B29.949492%2C%20-90.07060600000001%5D%2C%20%5B33.67779%2C%20-117.75841%5D%2C%20%5B34.307175%2C%20-119.130424%5D%2C%20%5B35.771491%2C%20-78.59455%5D%2C%20%5B30.516939%2C%20-91.147005%5D%2C%20%5B44.953962%2C%20-93.400692%5D%2C%20%5B40.72088400000001%2C%20-111.938979%5D%2C%20%5B25.788719%2C%20-80.19995899999998%5D%2C%20%5B45.77453%2C%20-119.21244%5D%2C%20%5B35.81163%2C%20-78.60274%5D%2C%20%5B32.77329%2C%20-117.20734%5D%2C%20%5B38.590085%2C%20-120.846285%5D%2C%20%5B34.081741%2C%20-117.71329%5D%2C%20%5B33.829443%2C%20-117.16571100000002%5D%2C%20%5B40.043352%2C%20-76.300188%5D%2C%20%5B40.504714%2C%20-74.37743%5D%2C%20%5B30.422204%2C%20-87.27495%5D%2C%20%5B26.511536%2C%20-81.943744%5D%2C%20%5B45.58047%2C%20-122.54358%5D%2C%20%5B32.782205%2C%20-117.140403%5D%2C%20%5B37.436064%2C%20-122.200831%5D%2C%20%5B27.903552%2C%20-82.33058100000002%5D%2C%20%5B33.94232%2C%20-118.291574%5D%2C%20%5B41.94552%2C%20-87.95966%5D%2C%20%5B33.88896%2C%20-117.069443%5D%2C%20%5B25.684137%2C%20-80.416422%5D%2C%20%5B34.07775%2C%20-118.2917%5D%2C%20%5B33.68234%2C%20-117.855814%5D%2C%20%5B39.3305%2C%20-120.365296%5D%2C%20%5B40.76292%2C%20-73.86065%5D%2C%20%5B27.332965%2C%20-82.447339%5D%2C%20%5B37.160012%2C%20-93.291105%5D%2C%20%5B33.422909999999995%2C%20-111.693157%5D%2C%20%5B37.066807%2C%20-121.587553%5D%2C%20%5B33.7882%2C%20-116.35859%5D%2C%20%5B30.404169%2C%20-91.096997%5D%2C%20%5B39.4665%2C%20-76.6614%5D%2C%20%5B38.289766%2C%20-77.474086%5D%2C%20%5B36.947455%2C%20-76.26602700000002%5D%2C%20%5B45.705318%2C%20-118.679015%5D%2C%20%5B38.247184%2C%20-122.62816%5D%2C%20%5B41.87124%2C%20-87.83788%5D%2C%20%5B39.04606%2C%20-94.41796%5D%2C%20%5B42.3703%2C%20-87.85559%5D%2C%20%5B35.420876%2C%20-118.950294%5D%2C%20%5B41.973641%2C%20-73.907799%5D%2C%20%5B25.705062%2C%20-80.334242%5D%2C%20%5B32.86251%2C%20-85.1705%5D%2C%20%5B40.024877%2C%20-76.20483%5D%2C%20%5B25.890169%2C%20-80.188806%5D%2C%20%5B39.94315%2C%20-74.97957%5D%2C%20%5B30.88157%2C%20-83.25023%5D%2C%20%5B33.468006%2C%20-111.478703%5D%2C%20%5B29.32182%2C%20-98.477894%5D%2C%20%5B39.891368%2C%20-74.76495600000001%5D%2C%20%5B25.763971%2C%20-80.263272%5D%2C%20%5B33.733338%2C%20-78.945125%5D%2C%20%5B40.142817%2C%20-79.494597%5D%2C%20%5B42.48109%2C%20-83.11304%5D%2C%20%5B25.637776%2C%20-80.336851%5D%2C%20%5B47.030644%2C%20-113.260802%5D%2C%20%5B32.67624%2C%20-97.1825%5D%2C%20%5B36.027552%2C%20-86.784134%5D%2C%20%5B41.51643%2C%20-81.66429000000002%5D%2C%20%5B37.528306%2C%20-121.945698%5D%2C%20%5B38.46493%2C%20-77.408282%5D%2C%20%5B33.855902%2C%20-84.246531%5D%2C%20%5B34.521978000000004%2C%20-118.097385%5D%2C%20%5B37.607348%2C%20-121.03043%5D%2C%20%5B44.95149%2C%20-93.11907%5D%2C%20%5B33.643804%2C%20-112.095748%5D%2C%20%5B33.517645%2C%20-113.05396100000002%5D%2C%20%5B27.462382%2C%20-82.596461%5D%2C%20%5B34.922107000000004%2C%20-82.094875%5D%2C%20%5B32.222426%2C%20-110.84108700000002%5D%2C%20%5B33.876755%2C%20-118.177387%5D%2C%20%5B34.081857%2C%20-117.702658%5D%2C%20%5B28.40102000000001%2C%20-81.37623599999998%5D%2C%20%5B35.36306%2C%20-97.58295%5D%2C%20%5B33.088486%2C%20-111.819573%5D%2C%20%5B25.898326%2C%20-80.21014%5D%2C%20%5B34.074563%2C%20-117.618285%5D%2C%20%5B35.5387%2C%20-82.918227%5D%2C%20%5B25.883042%2C%20-80.226725%5D%2C%20%5B38.88263%2C%20-77.0261%5D%2C%20%5B33.883026%2C%20-117.541319%5D%2C%20%5B38.068175%2C%20-120.539036%5D%2C%20%5B37.700499%2C%20-122.108229%5D%2C%20%5B40.054612%2C%20-76.38079300000003%5D%2C%20%5B28.613822%2C%20-81.47618%5D%2C%20%5B40.649552%2C%20-112.2887%5D%2C%20%5B33.487426%2C%20-112.22055%5D%2C%20%5B38.47535300000001%2C%20-121.423849%5D%2C%20%5B33.941171000000004%2C%20-117.236343%5D%2C%20%5B38.575122%2C%20-121.546984%5D%2C%20%5B25.712975%2C%20-80.382449%5D%2C%20%5B32.26562%2C%20-81.08966%5D%2C%20%5B38.48519%2C%20-121.429423%5D%2C%20%5B33.636166%2C%20-112.115807%5D%2C%20%5B45.52585%2C%20-122.56516%5D%2C%20%5B27.99609%2C%20-82.45947%5D%2C%20%5B35.078340000000004%2C%20-89.96106999999998%5D%2C%20%5B33.868658%2C%20-118.195434%5D%2C%20%5B33.873616%2C%20-118.235956%5D%2C%20%5B33.84573%2C%20-117.95899%5D%2C%20%5B38.01990900000001%2C%20-121.258045%5D%2C%20%5B34.023743%2C%20-117.74442%5D%2C%20%5B34.837532%2C%20-91.46577%5D%2C%20%5B39.521396%2C%20-122.214812%5D%2C%20%5B39.80703%2C%20-104.98287%5D%2C%20%5B45.460835%2C%20-94.399026%5D%2C%20%5B37.67173%2C%20-121.845098%5D%2C%20%5B33.719133%2C%20-117.188984%5D%2C%20%5B36.062589%2C%20-80.231319%5D%2C%20%5B47.705072%2C%20-122.352765%5D%2C%20%5B31.416252000000004%2C%20-87.008725%5D%2C%20%5B36.980317%2C%20-121.557609%5D%2C%20%5B35.835394%2C%20-82.045248%5D%2C%20%5B45.1236%2C%20-93.38894%5D%2C%20%5B41.824532%2C%20-73.77161600000002%5D%2C%20%5B34.279093%2C%20-118.469774%5D%2C%20%5B46.149116%2C%20-123.797724%5D%2C%20%5B33.87148%2C%20-118.194285%5D%2C%20%5B34.0292%2C%20-117.71571000000002%5D%2C%20%5B40.764436%2C%20-73.723295%5D%2C%20%5B32.287201%2C%20-110.978273%5D%2C%20%5B25.760893%2C%20-80.39527199999998%5D%2C%20%5B34.011093%2C%20-118.278354%5D%2C%20%5B28.03459%2C%20-80.59734%5D%2C%20%5B39.29975%2C%20-76.53041%5D%2C%20%5B25.596404%2C%20-80.478504%5D%2C%20%5B33.934709999999995%2C%20-118.36882%5D%2C%20%5B39.684462%2C%20-86.10251%5D%2C%20%5B32.914552%2C%20-117.230215%5D%2C%20%5B39.63124000000001%2C%20-84.19861999999998%5D%2C%20%5B38.922069%2C%20-104.719715%5D%2C%20%5B38.880909%2C%20-77.221999%5D%2C%20%5B32.838031%2C%20-97.08643%5D%2C%20%5B43.53879000000001%2C%20-119.69363%5D%2C%20%5B28.571266%2C%20-81.37375%5D%2C%20%5B28.412331%2C%20-81.474627%5D%2C%20%5B25.89986%2C%20-80.208047%5D%2C%20%5B38.40849%2C%20-120.669624%5D%2C%20%5B37.69933%2C%20-121.93086%5D%2C%20%5B42.422618%2C%20-123.332106%5D%2C%20%5B29.342619%2C%20-82.096065%5D%2C%20%5B40.78611%2C%20-111.912993%5D%2C%20%5B33.493491%2C%20-112.112959%5D%2C%20%5B48.2404%2C%20-114.27631%5D%2C%20%5B34.368551000000004%2C%20-117.427747%5D%2C%20%5B33.672346999999995%2C%20-85.353711%5D%2C%20%5B33.96002%2C%20-118.283563%5D%2C%20%5B38.18920900000001%2C%20-121.260914%5D%2C%20%5B37.869528%2C%20-122.304762%5D%2C%20%5B34.196281%2C%20-118.474222%5D%2C%20%5B32.79102%2C%20-97.248427%5D%2C%20%5B33.024021999999995%2C%20-117.082108%5D%2C%20%5B45.555156%2C%20-122.510299%5D%2C%20%5B26.6159%2C%20-80.05726%5D%2C%20%5B33.364020000000004%2C%20-117.0757%5D%2C%20%5B42.83865%2C%20-74.01275%5D%2C%20%5B34.166611%2C%20-80.96731700000002%5D%2C%20%5B43.130568%2C%20-77.400468%5D%2C%20%5B33.25112%2C%20-111.94459%5D%2C%20%5B32.738638%2C%20-96.789761%5D%2C%20%5B45.009681%2C%20-93.349239%5D%2C%20%5B40.123973%2C%20-123.884172%5D%2C%20%5B32.6428%2C%20-97.18266%5D%2C%20%5B32.87574%2C%20-117.22898%5D%2C%20%5B32.756357%2C%20-96.822907%5D%2C%20%5B39.270962%2C%20-76.722089%5D%2C%20%5B37.82925%2C%20-122.21351%5D%2C%20%5B34.419417%2C%20-119.686291%5D%2C%20%5B43.1218%2C%20-76.12601%5D%2C%20%5B44.878027%2C%20-93.12645%5D%2C%20%5B38.52445%2C%20-121.464638%5D%2C%20%5B42.97517%2C%20-83.725765%5D%2C%20%5B37.46311%2C%20-122.145212%5D%2C%20%5B32.693606%2C%20-117.123194%5D%2C%20%5B33.930963%2C%20-118.292498%5D%2C%20%5B35.235279%2C%20-80.944374%5D%2C%20%5B36.11611%2C%20-95.90195%5D%2C%20%5B38.022303%2C%20-77.498947%5D%2C%20%5B32.719479%2C%20-96.830217%5D%2C%20%5B41.68066%2C%20-72.65335999999998%5D%2C%20%5B39.048458%2C%20-94.499482%5D%2C%20%5B32.996421000000005%2C%20-117.0833%5D%2C%20%5B35.202188%2C%20-80.759249%5D%2C%20%5B34.77932%2C%20-82.37637%5D%2C%20%5B36.964606%2C%20-76.413227%5D%2C%20%5B44.058642%2C%20-93.346626%5D%2C%20%5B34.08645%2C%20-117.9255%5D%2C%20%5B27.857878000000003%2C%20-82.326735%5D%2C%20%5B36.573599%2C%20-82.412113%5D%2C%20%5B40.271512%2C%20-77.037903%5D%2C%20%5B47.617924%2C%20-114.653488%5D%2C%20%5B38.09646400000001%2C%20-122.237574%5D%2C%20%5B30.38819%2C%20-90.990681%5D%2C%20%5B43.83082%2C%20-95.17555%5D%2C%20%5B25.928189%2C%20-80.199392%5D%2C%20%5B41.592036%2C%20-93.804701%5D%2C%20%5B42.01138%2C%20-73.98083000000003%5D%2C%20%5B34.071846%2C%20-118.090584%5D%2C%20%5B45.418982%2C%20-120.165717%5D%2C%20%5B43.60457%2C%20-116.657967%5D%2C%20%5B34.056876%2C%20-112.14583%5D%2C%20%5B43.949099%2C%20-93.264709%5D%2C%20%5B38.129431%2C%20-104.00627%5D%2C%20%5B36.880278%2C%20-120.110363%5D%2C%20%5B25.692098%2C%20-80.381929%5D%2C%20%5B29.976566%2C%20-90.067943%5D%2C%20%5B36.71638400000001%2C%20-76.239041%5D%2C%20%5B39.699107%2C%20-86.25721300000002%5D%2C%20%5B28.233545%2C%20-82.69296999999997%5D%2C%20%5B32.734171%2C%20-96.683984%5D%2C%20%5B30.481041%2C%20-90.327926%5D%2C%20%5B38.71435%2C%20-121.53818%5D%2C%20%5B34.087048%2C%20-80.933025%5D%2C%20%5B33.821397%2C%20-118.206312%5D%2C%20%5B32.511681%2C%20-93.739799%5D%2C%20%5B36.544777%2C%20-119.290222%5D%2C%20%5B32.826448%2C%20-96.772262%5D%2C%20%5B25.68634%2C%20-80.38731999999997%5D%2C%20%5B38.683601%2C%20-121.33761%5D%2C%20%5B40.177779%2C%20-75.45907%5D%2C%20%5B29.798307%2C%20-95.524119%5D%2C%20%5B39.790611%2C%20-75.92756700000002%5D%2C%20%5B38.67711%2C%20-77.2305%5D%2C%20%5B34.121368%2C%20-118.271479%5D%2C%20%5B34.159561%2C%20-118.462669%5D%2C%20%5B28.472615%2C%20-81.394013%5D%2C%20%5B41.355279%2C%20-73.640585%5D%2C%20%5B46.107468%2C%20-95.712101%5D%2C%20%5B38.174026%2C%20-87.55020999999998%5D%2C%20%5B38.81167%2C%20-77.148887%5D%2C%20%5B33.181264%2C%20-117.330457%5D%2C%20%5B33.924973%2C%20-118.085674%5D%2C%20%5B40.8248%2C%20-73.86966%5D%2C%20%5B32.746349%2C%20-117.109118%5D%2C%20%5B34.277861%2C%20-118.51525%5D%2C%20%5B39.451299%2C%20-121.550879%5D%2C%20%5B40.07155%2C%20-77.916638%5D%2C%20%5B34.164346%2C%20-118.225011%5D%2C%20%5B28.409451%2C%20-81.473887%5D%2C%20%5B39.422091%2C%20-119.749948%5D%2C%20%5B47.576605%2C%20-122.31953500000002%5D%2C%20%5B39.982077%2C%20-75.36332800000002%5D%2C%20%5B32.875481%2C%20-90.025244%5D%2C%20%5B42.379611%2C%20-88.13984599999998%5D%2C%20%5B31.82622000000001%2C%20-106.416195%5D%2C%20%5B37.572388%2C%20-121.888314%5D%2C%20%5B42.49226%2C%20-82.99894%5D%2C%20%5B44.76709%2C%20-91.41424%5D%2C%20%5B33.53888%2C%20-84.26599%5D%2C%20%5B34.3126%2C%20-78.21074%5D%2C%20%5B29.556992%2C%20-95.122254%5D%2C%20%5B25.715596%2C%20-80.415222%5D%2C%20%5B34.416142%2C%20-79.415584%5D%2C%20%5B33.980681%2C%20-117.340621%5D%2C%20%5B36.07479%2C%20-96.029584%5D%2C%20%5B33.186604%2C%20-117.282118%5D%2C%20%5B40.43804%2C%20-74.16458%5D%2C%20%5B36.140654%2C%20-95.922593%5D%2C%20%5B34.0806%2C%20-118.29402%5D%2C%20%5B24.66339%2C%20-81.47913%5D%2C%20%5B38.902594%2C%20-77.216181%5D%2C%20%5B33.59833%2C%20-80.921595%5D%2C%20%5B44.130688%2C%20-121.324578%5D%2C%20%5B41.20811%2C%20-73.094258%5D%2C%20%5B36.962921%2C%20-80.85454200000002%5D%2C%20%5B29.686361%2C%20-95.531489%5D%2C%20%5B28.429987%2C%20-81.474959%5D%2C%20%5B28.552983%2C%20-81.394396%5D%2C%20%5B43.036187%2C%20-83.702303%5D%2C%20%5B42.9555%2C%20-87.93541%5D%2C%20%5B43.66648%2C%20-94.23338%5D%2C%20%5B42.458757%2C%20-122.72796%5D%2C%20%5B33.87648%2C%20-118.09899%5D%2C%20%5B29.973122%2C%20-90.05964300000002%5D%2C%20%5B33.84531%2C%20-117.95893%5D%2C%20%5B32.95215%2C%20-117.10351%5D%2C%20%5B33.897338%2C%20-117.49157%5D%2C%20%5B41.13022%2C%20-111.15905%5D%2C%20%5B42.234413%2C%20-87.943352%5D%2C%20%5B38.825544%2C%20-77.12195200000002%5D%2C%20%5B41.632486%2C%20-72.685462%5D%2C%20%5B30.321566%2C%20-81.69460600000002%5D%2C%20%5B37.066401%2C%20-121.219099%5D%2C%20%5B39.753878%2C%20-121.844784%5D%2C%20%5B45.696966%2C%20-121.814751%5D%2C%20%5B41.57827%2C%20-87.655776%5D%2C%20%5B28.190632%2C%20-82.740087%5D%2C%20%5B36.023383%2C%20-87.1875%5D%2C%20%5B38.800236%2C%20-77.206727%5D%2C%20%5B34.03732%2C%20-118.2954%5D%2C%20%5B35.770635%2C%20-78.559391%5D%2C%20%5B32.400678000000006%2C%20-110.956063%5D%2C%20%5B33.294273%2C%20-117.221949%5D%2C%20%5B34.068361%2C%20-118.216798%5D%2C%20%5B37.472113%2C%20-122.204504%5D%2C%20%5B37.78609%2C%20-122.390814%5D%2C%20%5B41.783785%2C%20-78.161199%5D%2C%20%5B29.71913%2C%20-95.54767%5D%2C%20%5B40.005233%2C%20-74.214332%5D%2C%20%5B25.686246%2C%20-80.416687%5D%2C%20%5B45.069194%2C%20-93.280438%5D%2C%20%5B41.596201%2C%20-90.536774%5D%2C%20%5B42.95875%2C%20-85.690422%5D%2C%20%5B33.794835%2C%20-117.230247%5D%2C%20%5B38.821225%2C%20-120.027571%5D%2C%20%5B34.08726%2C%20-117.64567%5D%2C%20%5B33.556321999999994%2C%20-117.178259%5D%2C%20%5B27.183898%2C%20-80.398818%5D%2C%20%5B33.768157%2C%20-118.281624%5D%2C%20%5B47.5777%2C%20-122.1303%5D%2C%20%5B33.142121%2C%20-117.188009%5D%2C%20%5B41.06179%2C%20-81.54623000000002%5D%2C%20%5B34.067478%2C%20-117.592127%5D%2C%20%5B39.125975%2C%20-121.07751%5D%2C%20%5B29.81318%2C%20-95.33532%5D%2C%20%5B41.940392%2C%20-77.81272%5D%2C%20%5B34.826378000000005%2C%20-82.298454%5D%2C%20%5B39.492029%2C%20-105.345474%5D%2C%20%5B47.64292%2C%20-122.31698%5D%2C%20%5B33.751090000000005%2C%20-84.456419%5D%2C%20%5B34.708589%2C%20-82.754226%5D%2C%20%5B42.809128%2C%20-89.29912%5D%2C%20%5B40.73752%2C%20-73.85096%5D%2C%20%5B25.744244%2C%20-80.287076%5D%2C%20%5B25.968747%2C%20-80.165592%5D%2C%20%5B34.169940000000004%2C%20-118.46769%5D%2C%20%5B40.115603%2C%20-85.575716%5D%2C%20%5B25.688012%2C%20-80.384015%5D%2C%20%5B33.392733%2C%20-80.542087%5D%2C%20%5B25.769489%2C%20-80.337262%5D%2C%20%5B40.72545%2C%20-111.89022%5D%2C%20%5B39.27808%2C%20-77.32361999999998%5D%2C%20%5B41.624697%2C%20-87.04016%5D%2C%20%5B25.673589%2C%20-80.36782099999998%5D%2C%20%5B37.496388%2C%20-122.233054%5D%2C%20%5B39.74131%2C%20-74.87414%5D%2C%20%5B41.222165%2C%20-111.970489%5D%2C%20%5B33.871866%2C%20-78.62483%5D%2C%20%5B29.97069%2C%20-90.06472%5D%2C%20%5B41.22282%2C%20-111.9763%5D%2C%20%5B28.54203%2C%20-81.44695%5D%2C%20%5B32.939264%2C%20-112.0491%5D%2C%20%5B34.146491999999995%2C%20-117.335459%5D%2C%20%5B39.98769%2C%20-82.9502%5D%2C%20%5B34.619067%2C%20-92.268773%5D%2C%20%5B44.785991%2C%20-93.219498%5D%2C%20%5B36.066774%2C%20-86.686881%5D%2C%20%5B25.686176%2C%20-80.39388199999998%5D%2C%20%5B25.899813%2C%20-80.209804%5D%2C%20%5B45.824877%2C%20-108.39829%5D%2C%20%5B41.185891%2C%20-111.986169%5D%2C%20%5B33.016857%2C%20-117.11702%5D%2C%20%5B34.083502%2C%20-118.221564%5D%2C%20%5B25.924072%2C%20-80.15433900000002%5D%2C%20%5B32.75123%2C%20-96.80893%5D%2C%20%5B39.64362%2C%20-84.16715400000002%5D%2C%20%5B28.42126%2C%20-81.43621999999998%5D%2C%20%5B43.026254%2C%20-76.14009399999998%5D%2C%20%5B29.66492%2C%20-81.292186%5D%2C%20%5B32.705794%2C%20-96.827348%5D%2C%20%5B35.00104%2C%20-85.21152%5D%2C%20%5B40.71816%2C%20-111.89309%5D%2C%20%5B32.441997%2C%20-93.74726%5D%2C%20%5B38.810472%2C%20-94.885449%5D%2C%20%5B40.215714%2C%20-75.54548%5D%2C%20%5B34.06588%2C%20-117.32463%5D%2C%20%5B45.66331%2C%20-122.86435%5D%2C%20%5B26.548486%2C%20-81.852779%5D%2C%20%5B27.050927%2C%20-82.397503%5D%2C%20%5B36.137369%2C%20-120.158275%5D%2C%20%5B34.03365%2C%20-117.676373%5D%2C%20%5B35.75229%2C%20-78.707267%5D%2C%20%5B25.803705%2C%20-80.264388%5D%2C%20%5B34.05608400000001%2C%20-118.255871%5D%2C%20%5B39.720929%2C%20-76.654776%5D%2C%20%5B36.57656%2C%20-82.35403000000002%5D%2C%20%5B42.316959%2C%20-83.21506099999998%5D%2C%20%5B29.002221%2C%20-82.041317%5D%2C%20%5B26.098701%2C%20-80.25059%5D%2C%20%5B39.564052%2C%20-104.986563%5D%2C%20%5B25.985501%2C%20-80.16548399999998%5D%2C%20%5B47.229145%2C%20-122.248738%5D%2C%20%5B39.555291%2C%20-123.430225%5D%2C%20%5B25.747968%2C%20-80.306001%5D%2C%20%5B44.95444000000001%2C%20-93.40084%5D%2C%20%5B30.312955%2C%20-81.523927%5D%2C%20%5B41.184729%2C%20-79.785%5D%2C%20%5B25.973288%2C%20-80.22983599999998%5D%2C%20%5B25.570312%2C%20-80.372287%5D%2C%20%5B43.79572%2C%20-117.87912%5D%2C%20%5B34.023540000000004%2C%20-118.1728%5D%2C%20%5B27.469326%2C%20-81.43998%5D%2C%20%5B41.75761%2C%20-72.70055%5D%2C%20%5B25.836577%2C%20-80.206008%5D%2C%20%5B33.771288%2C%20-117.997126%5D%2C%20%5B40.406643%2C%20-104.94255%5D%2C%20%5B39.863329%2C%20-105.209989%5D%2C%20%5B28.59652100000001%2C%20-81.122912%5D%2C%20%5B34.074214000000005%2C%20-83.565477%5D%2C%20%5B37.4916%2C%20-122.13679%5D%2C%20%5B39.992705%2C%20-75.28461999999998%5D%2C%20%5B41.82518%2C%20-71.51558%5D%2C%20%5B39.970874%2C%20-75.19305200000002%5D%2C%20%5B37.634005%2C%20-120.994391%5D%2C%20%5B36.666553%2C%20-119.728334%5D%2C%20%5B25.732578%2C%20-80.35974300000002%5D%2C%20%5B40.976461%2C%20-73.69984000000002%5D%2C%20%5B42.31399%2C%20-71.23177%5D%2C%20%5B32.312039%2C%20-95.287372%5D%2C%20%5B47.152904%2C%20-93.555083%5D%2C%20%5B37.790996%2C%20-121.189757%5D%2C%20%5B38.524466%2C%20-122.719443%5D%2C%20%5B39.592698%2C%20-120.381435%5D%2C%20%5B44.970399%2C%20-93.298569%5D%2C%20%5B27.530377%2C%20-82.505175%5D%2C%20%5B25.625831%2C%20-80.382198%5D%2C%20%5B35.306944%2C%20-119.033333%5D%2C%20%5B40.269922%2C%20-79.662661%5D%2C%20%5B37.791273%2C%20-122.191892%5D%2C%20%5B25.780352%2C%20-80.31215%5D%2C%20%5B44.864596%2C%20-93.429125%5D%2C%20%5B40.84941%2C%20-78.292897%5D%2C%20%5B39.703913%2C%20-86.089822%5D%2C%20%5B33.640133%2C%20-112.134485%5D%2C%20%5B29.86778%2C%20-95.40685%5D%2C%20%5B41.100562%2C%20-73.95649300000002%5D%2C%20%5B33.796048%2C%20-118.110989%5D%2C%20%5B27.853142%2C%20-82.72882299999998%5D%2C%20%5B35.68206%2C%20-81.1005%5D%2C%20%5B37.51049%2C%20-121.971463%5D%2C%20%5B27.7036%2C%20-80.89527%5D%2C%20%5B34.06775%2C%20-117.8355%5D%2C%20%5B39.0123%2C%20-94.69324%5D%2C%20%5B29.970474%2C%20-90.100906%5D%2C%20%5B40.437401%2C%20-74.254649%5D%2C%20%5B40.6998%2C%20-111.93895%5D%2C%20%5B40.667526%2C%20-73.996002%5D%2C%20%5B34.15725%2C%20-118.37943%5D%2C%20%5B33.993171999999994%2C%20-118.175851%5D%2C%20%5B36.06612%2C%20-79.511864%5D%2C%20%5B34.233571000000005%2C%20-117.184677%5D%2C%20%5B36.937701%2C%20-76.583652%5D%2C%20%5B40.5896%2C%20-74.08937%5D%2C%20%5B40.9473%2C%20-72.90476%5D%2C%20%5B34.003725%2C%20-118.286382%5D%2C%20%5B41.757147%2C%20-93.570426%5D%2C%20%5B39.864767%2C%20-75.38852800000002%5D%2C%20%5B32.77010300000001%2C%20-96.81752%5D%2C%20%5B36.749192%2C%20-121.768223%5D%2C%20%5B38.67705%2C%20-90.44958%5D%2C%20%5B40.529313%2C%20-74.347279%5D%2C%20%5B36.17146%2C%20-86.80277%5D%2C%20%5B37.70186%2C%20-121.90237%5D%2C%20%5B40.460191%2C%20-111.91424%5D%2C%20%5B35.972982%2C%20-83.931781%5D%2C%20%5B38.85213%2C%20-77.4007%5D%2C%20%5B30.077936%2C%20-82.677561%5D%2C%20%5B34.340833%2C%20-118.521111%5D%2C%20%5B36.194769%2C%20-86.776167%5D%2C%20%5B30.474494%2C%20-87.222502%5D%2C%20%5B30.406722%2C%20-91.100259%5D%2C%20%5B28.487925%2C%20-81.417511%5D%2C%20%5B33.967027%2C%20-118.082524%5D%2C%20%5B33.410990000000005%2C%20-112.00567%5D%2C%20%5B34.164959%2C%20-117.891912%5D%2C%20%5B25.782116%2C%20-80.320752%5D%2C%20%5B42.786179%2C%20-74.02458%5D%2C%20%5B33.404598%2C%20-112.081982%5D%2C%20%5B33.904429%2C%20-118.185032%5D%2C%20%5B42.191673%2C%20-121.595896%5D%2C%20%5B25.852436%2C%20-80.208039%5D%2C%20%5B30.423037%2C%20-91.139393%5D%2C%20%5B39.671064%2C%20-75.599242%5D%2C%20%5B34.13989%2C%20-80.91402%5D%2C%20%5B34.40261%2C%20-118.45512%5D%2C%20%5B42.38159%2C%20-83.41963%5D%2C%20%5B47.926%2C%20-116.699019%5D%2C%20%5B39.757922%2C%20-75.126925%5D%2C%20%5B37.24159%2C%20-122.002163%5D%2C%20%5B33.638513%2C%20-117.730539%5D%2C%20%5B32.581876%2C%20-80.928179%5D%2C%20%5B34.031621%2C%20-118.187109%5D%2C%20%5B36.182151%2C%20-119.32845%5D%2C%20%5B37.551082%2C%20-122.294143%5D%2C%20%5B37.851534%2C%20-122.222555%5D%2C%20%5B38.918906%2C%20-76.932374%5D%2C%20%5B45.2166%2C%20-93.59806%5D%2C%20%5B34.99752%2C%20-85.20908%5D%2C%20%5B38.418805%2C%20-122.66378600000002%5D%2C%20%5B33.39567%2C%20-111.891028%5D%2C%20%5B32.344753000000004%2C%20-86.22381899999998%5D%2C%20%5B33.917279%2C%20-118.231729%5D%2C%20%5B33.75383%2C%20-84.378529%5D%2C%20%5B37.788277%2C%20-121.302606%5D%2C%20%5B40.668257%2C%20-112.024674%5D%2C%20%5B25.7022%2C%20-80.33555600000003%5D%2C%20%5B36.268991%2C%20-119.224931%5D%2C%20%5B32.803977%2C%20-97.212118%5D%2C%20%5B28.45393%2C%20-80.98053%5D%2C%20%5B35.31845300000001%2C%20-80.77896899999998%5D%2C%20%5B47.809039%2C%20-122.301953%5D%2C%20%5B40.57968%2C%20-74.5233%5D%2C%20%5B37.84559%2C%20-122.29778%5D%2C%20%5B32.796195000000004%2C%20-117.208982%5D%2C%20%5B38.550917%2C%20-121.422347%5D%2C%20%5B25.809267%2C%20-80.316765%5D%2C%20%5B35.875539%2C%20-78.62334399999997%5D%2C%20%5B39.9131%2C%20-75.14853000000002%5D%2C%20%5B47.473222%2C%20-121.751421%5D%2C%20%5B25.687268%2C%20-80.35441%5D%2C%20%5B36.725966%2C%20-121.787805%5D%2C%20%5B27.384509%2C%20-82.44754499999998%5D%2C%20%5B33.552953%2C%20-79.019139%5D%2C%20%5B45.58197%2C%20-117.53981%5D%2C%20%5B36.011256%2C%20-83.864827%5D%2C%20%5B33.771618%2C%20-84.54626400000002%5D%2C%20%5B35.165085%2C%20-82.086812%5D%2C%20%5B30.44545%2C%20-87.24226999999998%5D%2C%20%5B35.84526599999999%2C%20-86.65332099999998%5D%2C%20%5B25.881818%2C%20-80.242974%5D%2C%20%5B37.342362%2C%20-79.877877%5D%2C%20%5B27.109584%2C%20-82.378101%5D%2C%20%5B39.17766%2C%20-84.48692%5D%2C%20%5B36.298214%2C%20-119.354362%5D%2C%20%5B28.346736%2C%20-81.648787%5D%2C%20%5B47.335157%2C%20-122.293244%5D%2C%20%5B41.939116%2C%20-86.569422%5D%2C%20%5B33.940925%2C%20-117.231651%5D%2C%20%5B34.18554%2C%20-118.31786%5D%2C%20%5B43.24136%2C%20-71.746124%5D%2C%20%5B35.088583%2C%20-85.06251400000002%5D%2C%20%5B34.824318%2C%20-82.42414699999998%5D%2C%20%5B38.825914%2C%20-77.457598%5D%2C%20%5B30.2243%2C%20-97.770863%5D%2C%20%5B38.793452%2C%20-76.06671800000002%5D%2C%20%5B32.717939%2C%20-117.113281%5D%2C%20%5B37.98138%2C%20-122.521878%5D%2C%20%5B40.027255%2C%20-120.10696000000002%5D%2C%20%5B27.996293%2C%20-82.389638%5D%2C%20%5B36.855531%2C%20-76.177458%5D%2C%20%5B38.853396%2C%20-77.795594%5D%2C%20%5B33.69164%2C%20-84.50019%5D%2C%20%5B39.007219%2C%20-77.153188%5D%2C%20%5B33.73382%2C%20-117.833969%5D%2C%20%5B33.891861%2C%20-118.326528%5D%2C%20%5B38.401169%2C%20-121.916984%5D%2C%20%5B30.404643%2C%20-97.637679%5D%2C%20%5B35.071008%2C%20-81.95222700000002%5D%2C%20%5B40.72412%2C%20-74.22946%5D%2C%20%5B29.938162%2C%20-90.065349%5D%2C%20%5B38.431538%2C%20-122.716351%5D%2C%20%5B30.026464%2C%20-89.951239%5D%2C%20%5B39.14678%2C%20-77.14318%5D%2C%20%5B38.848195%2C%20-76.76653%5D%2C%20%5B38.70741%2C%20-122.0489%5D%2C%20%5B40.68066500000001%2C%20-121.424596%5D%2C%20%5B45.525378%2C%20-122.662061%5D%2C%20%5B37.268798%2C%20-76.746786%5D%2C%20%5B34.100294%2C%20-117.539292%5D%2C%20%5B39.24235%2C%20-94.45736%5D%2C%20%5B33.781296000000005%2C%20-117.879534%5D%2C%20%5B38.7694%2C%20-121.24936%5D%2C%20%5B37.709316%2C%20-122.467303%5D%2C%20%5B34.085209000000006%2C%20-80.94536%5D%2C%20%5B35.026497%2C%20-82.20166%5D%2C%20%5B38.849049%2C%20-76.968177%5D%2C%20%5B45.217463%2C%20-93.596872%5D%2C%20%5B33.671163%2C%20-112.035413%5D%2C%20%5B35.27889099999999%2C%20-107.98478%5D%2C%20%5B33.98268%2C%20-118.43167%5D%2C%20%5B45.527161%2C%20-122.686933%5D%2C%20%5B27.448669%2C%20-82.575406%5D%2C%20%5B39.644934%2C%20-106.033138%5D%2C%20%5B33.885259000000005%2C%20-79.782542%5D%2C%20%5B38.606053%2C%20-90.213578%5D%2C%20%5B42.09602%2C%20-124.33686000000002%5D%2C%20%5B35.752955%2C%20-78.648623%5D%2C%20%5B35.171462%2C%20-111.661641%5D%2C%20%5B28.583748%2C%20-81.496765%5D%2C%20%5B38.718405%2C%20-121.351258%5D%2C%20%5B47.57446%2C%20-122.17556%5D%2C%20%5B42.40843%2C%20-123.137192%5D%2C%20%5B25.891749%2C%20-80.186577%5D%2C%20%5B32.839459999999995%2C%20-97.32084%5D%2C%20%5B43.052221%2C%20-87.925573%5D%2C%20%5B45.541847%2C%20-122.479201%5D%2C%20%5B25.857672%2C%20-80.209478%5D%2C%20%5B37.798863%2C%20-122.377188%5D%2C%20%5B45.11093%2C%20-123.30245%5D%2C%20%5B40.742835%2C%20-73.828711%5D%2C%20%5B37.553634%2C%20-77.455432%5D%2C%20%5B30.580738%2C%20-87.297617%5D%2C%20%5B34.078471%2C%20-118.228599%5D%2C%20%5B35.148157%2C%20-80.879196%5D%2C%20%5B42.963661%2C%20-83.771697%5D%2C%20%5B27.308268%2C%20-82.519553%5D%2C%20%5B41.744508%2C%20-73.584106%5D%2C%20%5B38.85521%2C%20-76.96995%5D%2C%20%5B40.992977%2C%20-73.661179%5D%2C%20%5B40.005498%2C%20-76.836709%5D%2C%20%5B32.221877%2C%20-110.971225%5D%2C%20%5B38.945127%2C%20-76.770969%5D%2C%20%5B35.16498%2C%20-80.85032%5D%2C%20%5B28.51840300000001%2C%20-81.28935600000001%5D%2C%20%5B34.119783%2C%20-117.76161%5D%2C%20%5B25.80772%2C%20-80.313141%5D%2C%20%5B29.940441%2C%20-90.09905%5D%2C%20%5B33.871692%2C%20-118.267727%5D%2C%20%5B33.765971%2C%20-117.955708%5D%2C%20%5B38.013864%2C%20-121.87579%5D%2C%20%5B30.437516%2C%20-91.02661%5D%2C%20%5B28.573282%2C%20-81.55708100000003%5D%2C%20%5B45.007702%2C%20-93.204402%5D%2C%20%5B32.17922%2C%20-90.25983%5D%2C%20%5B39.04187%2C%20-77.42428100000002%5D%2C%20%5B28.57891%2C%20-81.30888%5D%2C%20%5B40.314298%2C%20-76.828154%5D%2C%20%5B39.96241%2C%20-76.77601999999997%5D%2C%20%5B28.542457%2C%20-81.38218%5D%2C%20%5B40.609288%2C%20-74.036013%5D%2C%20%5B39.02039%2C%20-77.01281%5D%2C%20%5B40.84005%2C%20-73.92905999999998%5D%2C%20%5B44.98331%2C%20-93.46003%5D%2C%20%5B45.30261%2C%20-93.56488%5D%2C%20%5B44.592531%2C%20-121.13201%5D%2C%20%5B35.144955%2C%20-80.92763000000002%5D%2C%20%5B32.750319%2C%20-113.661986%5D%2C%20%5B39.71446%2C%20-105.00117%5D%2C%20%5B30.481504%2C%20-81.643828%5D%2C%20%5B45.956882%2C%20-93.054047%5D%2C%20%5B47.161314%2C%20-122.434176%5D%2C%20%5B37.394969%2C%20-118.515418%5D%2C%20%5B39.79351%2C%20-86.03546999999998%5D%2C%20%5B26.723738%2C%20-80.091286%5D%2C%20%5B44.8429%2C%20-123.00875%5D%2C%20%5B44.965995%2C%20-93.252265%5D%2C%20%5B40.321686%2C%20-79.695095%5D%2C%20%5B35.56495%2C%20-82.54295%5D%2C%20%5B42.86414%2C%20-73.61887%5D%2C%20%5B34.11927%2C%20-118.2322%5D%2C%20%5B41.769581%2C%20-72.665373%5D%2C%20%5B34.195343%2C%20-118.333107%5D%2C%20%5B38.49489000000001%2C%20-121.428527%5D%2C%20%5B35.967285%2C%20-119.293034%5D%2C%20%5B40.992553%2C%20-81.66360300000002%5D%2C%20%5B26.57241%2C%20-81.661626%5D%2C%20%5B34.007763%2C%20-81.15767%5D%2C%20%5B43.06261%2C%20-76.15814%5D%2C%20%5B32.869771%2C%20-117.195083%5D%2C%20%5B28.457438%2C%20-81.37834699999998%5D%2C%20%5B38.795418%2C%20-77.015597%5D%2C%20%5B48.611634%2C%20-109.33051100000002%5D%2C%20%5B45.696329%2C%20-118.945037%5D%2C%20%5B33.870142%2C%20-117.745241%5D%2C%20%5B41.81496%2C%20-87.91382%5D%2C%20%5B38.829041%2C%20-77.73214399999998%5D%2C%20%5B42.43923%2C%20-83.0949%5D%2C%20%5B33.830459000000005%2C%20-117.500434%5D%2C%20%5B27.579399%2C%20-82.51478%5D%2C%20%5B29.68655%2C%20-95.528795%5D%2C%20%5B40.768663%2C%20-73.69171899999998%5D%2C%20%5B42.349234%2C%20-87.87428%5D%2C%20%5B33.28735%2C%20-111.85213%5D%2C%20%5B26.51571400000001%2C%20-80.059048%5D%2C%20%5B38.937488%2C%20-110.471853%5D%2C%20%5B28.409087%2C%20-81.404754%5D%2C%20%5B25.866297%2C%20-80.24238199999998%5D%2C%20%5B41.42143%2C%20-81.70478%5D%2C%20%5B25.789953%2C%20-80.336899%5D%2C%20%5B25.688376%2C%20-80.365884%5D%2C%20%5B39.5778%2C%20-76.11218000000002%5D%2C%20%5B34.0887%2C%20-84.25685%5D%2C%20%5B40.084814%2C%20-75.231752%5D%2C%20%5B38.21425%2C%20-81.52887700000002%5D%2C%20%5B45.628827%2C%20-118.016434%5D%2C%20%5B34.263634%2C%20-119.094222%5D%2C%20%5B34.117709000000005%2C%20-117.851821%5D%2C%20%5B25.846972%2C%20-80.21169300000003%5D%2C%20%5B35.179094%2C%20-106.627624%5D%2C%20%5B38.401313%2C%20-121.257097%5D%2C%20%5B43.99322%2C%20-95.85344%5D%2C%20%5B32.788943%2C%20-96.801964%5D%2C%20%5B39.188715%2C%20-77.258359%5D%2C%20%5B45.568723%2C%20-122.679056%5D%2C%20%5B28.450999%2C%20-81.36020500000002%5D%2C%20%5B33.546009000000005%2C%20-84.27003%5D%2C%20%5B32.447410999999995%2C%20-93.721012%5D%2C%20%5B37.374883%2C%20-120.619181%5D%2C%20%5B33.941019%2C%20-117.252608%5D%2C%20%5B37.83645%2C%20-122.01186%5D%2C%20%5B33.298687%2C%20-116.942686%5D%2C%20%5B37.69358%2C%20-122.05756%5D%2C%20%5B39.738592%2C%20-76.660686%5D%2C%20%5B32.943697%2C%20-96.557663%5D%2C%20%5B34.347021000000005%2C%20-117.476956%5D%2C%20%5B28.96037%2C%20-81.26585%5D%2C%20%5B33.765546%2C%20-118.029609%5D%2C%20%5B35.149711%2C%20-80.834503%5D%2C%20%5B36.856274%2C%20-121.693941%5D%2C%20%5B34.143591%2C%20-118.141384%5D%2C%20%5B37.714773%2C%20-121.709927%5D%2C%20%5B39.412046%2C%20-94.789577%5D%2C%20%5B33.974647999999995%2C%20-118.284869%5D%2C%20%5B37.127019%2C%20-121.630657%5D%2C%20%5B42.373935%2C%20-87.92423000000002%5D%2C%20%5B38.9069%2C%20-77.081059%5D%2C%20%5B41.283856%2C%20-72.934492%5D%2C%20%5B36.612464%2C%20-79.36219799999998%5D%2C%20%5B34.770956%2C%20-118.545697%5D%2C%20%5B34.423%2C%20-118.42818%5D%2C%20%5B32.734184%2C%20-117.155646%5D%2C%20%5B33.369240000000005%2C%20-117.227685%5D%2C%20%5B33.152929%2C%20-117.201386%5D%2C%20%5B30.274511%2C%20-81.76916899999998%5D%2C%20%5B41.863392%2C%20-71.886566%5D%2C%20%5B30.387503%2C%20-97.649666%5D%2C%20%5B40.709816%2C%20-111.904054%5D%2C%20%5B46.95506500000001%2C%20-112.689655%5D%2C%20%5B29.08806%2C%20-81.068525%5D%2C%20%5B39.897227%2C%20-75.34976999999998%5D%2C%20%5B36.31216%2C%20-86.6749%5D%2C%20%5B40.499049%2C%20-74.300826%5D%2C%20%5B34.858072%2C%20-86.571217%5D%2C%20%5B37.376418%2C%20-121.826143%5D%2C%20%5B38.11309%2C%20-85.69368%5D%2C%20%5B37.402805%2C%20-77.686616%5D%2C%20%5B35.92030399999999%2C%20-78.861161%5D%2C%20%5B38.365039%2C%20-81.740466%5D%2C%20%5B37.712491%2C%20-122.169374%5D%5D%2C%0A%20%20%20%20%20%20%20%20%20%20%20%20%20%20%20%20%7B%0A%20%20%20%20%20%20%20%20%20%20%20%20%20%20%20%20%20%20%20%20minOpacity%3A%200.5%2C%0A%20%20%20%20%20%20%20%20%20%20%20%20%20%20%20%20%20%20%20%20maxZoom%3A%2018%2C%0A%20%20%20%20%20%20%20%20%20%20%20%20%20%20%20%20%20%20%20%20max%3A%201.0%2C%0A%20%20%20%20%20%20%20%20%20%20%20%20%20%20%20%20%20%20%20%20radius%3A%2025%2C%0A%20%20%20%20%20%20%20%20%20%20%20%20%20%20%20%20%20%20%20%20blur%3A%2015%2C%0A%20%20%20%20%20%20%20%20%20%20%20%20%20%20%20%20%20%20%20%20gradient%3A%20null%0A%20%20%20%20%20%20%20%20%20%20%20%20%20%20%20%20%20%20%20%20%7D%29%0A%20%20%20%20%20%20%20%20%20%20%20%20%20%20%20%20.addTo%28map_ee0721b72b4848328540bfbca6a57270%29%3B%0A%20%20%20%20%20%20%20%20%0A%3C/script%3E onload=\"this.contentDocument.open();this.contentDocument.write(    decodeURIComponent(this.getAttribute('data-html')));this.contentDocument.close();\" allowfullscreen webkitallowfullscreen mozallowfullscreen></iframe></div></div>"
            ]
          },
          "metadata": {},
          "execution_count": 88
        }
      ]
    },
    {
      "cell_type": "code",
      "source": [
        ""
      ],
      "metadata": {
        "id": "KZyElER5TlrT"
      },
      "execution_count": 88,
      "outputs": []
    },
    {
      "cell_type": "code",
      "source": [
        ""
      ],
      "metadata": {
        "id": "3qntlGH6TK2-"
      },
      "execution_count": 88,
      "outputs": []
    },
    {
      "cell_type": "code",
      "source": [
        ""
      ],
      "metadata": {
        "id": "9aX8nxVp87q1"
      },
      "execution_count": 88,
      "outputs": []
    },
    {
      "cell_type": "markdown",
      "metadata": {
        "id": "WtJl-gEPI6N2"
      },
      "source": [
        "## Ask & Questions\n",
        "\n",
        "1. Are there more accidents in warmer or colder areas?\n",
        "2. Which 5 states has the highest number of accidents? How about per capita?\n",
        "3. Does New York ahop up in the data? If yes, why is the count lower if this the most populated city.\n",
        "4. Among the top 100 cities in number of accidents, which states do they belong to most frequently.\n",
        "5. What time of the day are accidents most frequent in? - ANSWERED\n",
        "6. Which days of the week have the most accidents?\n",
        "7. Which months have the most accidents?\n",
        "8. What is the trend of accidents yoer over year (decreasing/increasing?)\n",
        "9. When is accident per unit the highest? \n"
      ]
    },
    {
      "cell_type": "code",
      "execution_count": 88,
      "metadata": {
        "id": "P0Y4gnC5I5lE"
      },
      "outputs": [],
      "source": [
        ""
      ]
    },
    {
      "cell_type": "code",
      "execution_count": 88,
      "metadata": {
        "id": "wbNnpo7PI5mC"
      },
      "outputs": [],
      "source": [
        ""
      ]
    },
    {
      "cell_type": "code",
      "execution_count": 88,
      "metadata": {
        "id": "K4moRxdfI5oI"
      },
      "outputs": [],
      "source": [
        ""
      ]
    },
    {
      "cell_type": "code",
      "execution_count": 88,
      "metadata": {
        "id": "51nIMEeiIirl"
      },
      "outputs": [],
      "source": [
        ""
      ]
    },
    {
      "cell_type": "markdown",
      "source": [
        "## Summary and Conclusion \n",
        "\n",
        "Insights:\n",
        "- No data for New York.\n",
        "- The number of accodents per city decreases  exponentialy.\n",
        "- Less then 5% of cities have more than 1000 yearly accidents.\n",
        "- Over 1200 cities have reported just one accident (need to investigate)."
      ],
      "metadata": {
        "id": "oAjUdjyl8ulC"
      }
    }
  ],
  "metadata": {
    "colab": {
      "collapsed_sections": [],
      "name": "us-accidents-analysis.ipynb",
      "provenance": [],
      "include_colab_link": true
    },
    "kernelspec": {
      "display_name": "Python 3",
      "language": "python",
      "name": "python3"
    },
    "language_info": {
      "codemirror_mode": {
        "name": "ipython",
        "version": 3
      },
      "file_extension": ".py",
      "mimetype": "text/x-python",
      "name": "python",
      "nbconvert_exporter": "python",
      "pygments_lexer": "ipython3",
      "version": "3.7.6"
    }
  },
  "nbformat": 4,
  "nbformat_minor": 0
}