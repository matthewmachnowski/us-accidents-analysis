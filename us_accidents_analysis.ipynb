{
  "cells": [
    {
      "cell_type": "markdown",
      "metadata": {
        "id": "view-in-github",
        "colab_type": "text"
      },
      "source": [
        "<a href=\"https://colab.research.google.com/github/matthewmachnowski/us-accidents-analysis/blob/main/us_accidents_analysis.ipynb\" target=\"_parent\"><img src=\"https://colab.research.google.com/assets/colab-badge.svg\" alt=\"Open In Colab\"/></a>"
      ]
    },
    {
      "cell_type": "markdown",
      "metadata": {
        "id": "OWweIPA6IE4F"
      },
      "source": [
        "# US Accidents Exploratory Data Analysis\n",
        "\n",
        "## Information \n",
        "This is a countrywide car accident dataset, which covers 49 states of the USA. The accident data are collected from February 2016 to Dec 2021, using multiple APIs that provide streaming traffic incident (or event) data. Currently, there are about 2.8 million accident records in this dataset.\n",
        "\n",
        "## Acknowledgements\n",
        "- Moosavi, Sobhan, Mohammad Hossein Samavatian, Srinivasan Parthasarathy, and Rajiv Ramnath. “A Countrywide Traffic Accident Dataset.”, 2019.\n",
        "\n",
        "- Moosavi, Sobhan, Mohammad Hossein Samavatian, Srinivasan Parthasarathy, Radu Teodorescu, and Rajiv Ramnath. \"Accident Risk Prediction based on Heterogeneous Sparse Data: New Dataset and Insights.\" In proceedings of the 27th ACM SIGSPATIAL International Conference on Advances in Geographic Information Systems, ACM, 2019.\n",
        "\n",
        "\n"
      ]
    },
    {
      "cell_type": "markdown",
      "source": [
        "TODO - talk about EDA\n",
        "\n",
        "TODO - talk about the dataset (sourse, what it contains, how it will be useful)\n",
        "  - Kaggle\n",
        "  - information about accidents \n",
        "  - can use useful to prevent accidents\n",
        "  - mention that this does not contain data about New York"
      ],
      "metadata": {
        "id": "kA2OE3R5MK7q"
      }
    },
    {
      "cell_type": "code",
      "execution_count": 1,
      "metadata": {
        "id": "Mv2tLrwDIiFA"
      },
      "outputs": [],
      "source": [
        "pip install opendatasets --upgrade --quiet"
      ]
    },
    {
      "cell_type": "code",
      "execution_count": 2,
      "metadata": {
        "id": "x1GdPHS2fI7q",
        "colab": {
          "base_uri": "https://localhost:8080/"
        },
        "outputId": "7ad556f2-a8c7-4680-9104-28c0afdb29ba"
      },
      "outputs": [
        {
          "output_type": "stream",
          "name": "stdout",
          "text": [
            "Skipping, found downloaded files in \"./us-accidents\" (use force=True to force download)\n"
          ]
        }
      ],
      "source": [
        "import opendatasets as od\n",
        "\n",
        "download_url = 'https://www.kaggle.com/sobhanmoosavi/us-accidents'\n",
        "\n",
        "od.download(download_url) "
      ]
    },
    {
      "cell_type": "code",
      "source": [
        "data_filename = './us-accidents/US_Accidents_Dec21_updated.csv'"
      ],
      "metadata": {
        "id": "nJPIDrMI0jIF"
      },
      "execution_count": 3,
      "outputs": []
    },
    {
      "cell_type": "markdown",
      "metadata": {
        "id": "iHC8oSgoIsCr"
      },
      "source": [
        "## Data Preparation and Cleaning\n",
        "\n",
        "1. Load the file using Pandas\n",
        "2. Look at some information about the data & the columns\n",
        "3. Fix any missing or incorret values"
      ]
    },
    {
      "cell_type": "code",
      "execution_count": 4,
      "metadata": {
        "id": "F5Gdkru0IiYS"
      },
      "outputs": [],
      "source": [
        "import pandas as pd\n",
        "import seaborn as sns\n",
        "import folium\n",
        "from folium.plugins import HeatMap\n",
        "import matplotlib.pyplot as plt\n",
        "import plotly.express as px\n",
        "import plotly.graph_objects as go"
      ]
    },
    {
      "cell_type": "code",
      "execution_count": 5,
      "metadata": {
        "id": "VY5Y6w7ZIiez"
      },
      "outputs": [],
      "source": [
        "df = pd.read_csv(data_filename)"
      ]
    },
    {
      "cell_type": "code",
      "execution_count": 6,
      "metadata": {
        "id": "Us-yY2FPIihW",
        "colab": {
          "base_uri": "https://localhost:8080/",
          "height": 508
        },
        "outputId": "8ade0311-2b99-40ae-8567-5cf466a370fc"
      },
      "outputs": [
        {
          "output_type": "execute_result",
          "data": {
            "text/plain": [
              "    ID  Severity           Start_Time             End_Time  Start_Lat  \\\n",
              "0  A-1         3  2016-02-08 00:37:08  2016-02-08 06:37:08  40.108910   \n",
              "1  A-2         2  2016-02-08 05:56:20  2016-02-08 11:56:20  39.865420   \n",
              "2  A-3         2  2016-02-08 06:15:39  2016-02-08 12:15:39  39.102660   \n",
              "3  A-4         2  2016-02-08 06:51:45  2016-02-08 12:51:45  41.062130   \n",
              "4  A-5         3  2016-02-08 07:53:43  2016-02-08 13:53:43  39.172393   \n",
              "\n",
              "   Start_Lng    End_Lat    End_Lng  Distance(mi)  \\\n",
              "0 -83.092860  40.112060 -83.031870         3.230   \n",
              "1 -84.062800  39.865010 -84.048730         0.747   \n",
              "2 -84.524680  39.102090 -84.523960         0.055   \n",
              "3 -81.537840  41.062170 -81.535470         0.123   \n",
              "4 -84.492792  39.170476 -84.501798         0.500   \n",
              "\n",
              "                                         Description  ...  Roundabout Station  \\\n",
              "0  Between Sawmill Rd/Exit 20 and OH-315/Olentang...  ...       False   False   \n",
              "1                 At OH-4/OH-235/Exit 41 - Accident.  ...       False   False   \n",
              "2                   At I-71/US-50/Exit 1 - Accident.  ...       False   False   \n",
              "3                    At Dart Ave/Exit 21 - Accident.  ...       False   False   \n",
              "4                 At Mitchell Ave/Exit 6 - Accident.  ...       False   False   \n",
              "\n",
              "    Stop Traffic_Calming Traffic_Signal Turning_Loop Sunrise_Sunset  \\\n",
              "0  False           False          False        False          Night   \n",
              "1  False           False          False        False          Night   \n",
              "2  False           False          False        False          Night   \n",
              "3  False           False          False        False          Night   \n",
              "4  False           False          False        False            Day   \n",
              "\n",
              "  Civil_Twilight Nautical_Twilight Astronomical_Twilight  \n",
              "0          Night             Night                 Night  \n",
              "1          Night             Night                 Night  \n",
              "2          Night             Night                   Day  \n",
              "3          Night               Day                   Day  \n",
              "4            Day               Day                   Day  \n",
              "\n",
              "[5 rows x 47 columns]"
            ],
            "text/html": [
              "\n",
              "  <div id=\"df-5f6c318c-b5eb-47c4-9134-fffda314239e\">\n",
              "    <div class=\"colab-df-container\">\n",
              "      <div>\n",
              "<style scoped>\n",
              "    .dataframe tbody tr th:only-of-type {\n",
              "        vertical-align: middle;\n",
              "    }\n",
              "\n",
              "    .dataframe tbody tr th {\n",
              "        vertical-align: top;\n",
              "    }\n",
              "\n",
              "    .dataframe thead th {\n",
              "        text-align: right;\n",
              "    }\n",
              "</style>\n",
              "<table border=\"1\" class=\"dataframe\">\n",
              "  <thead>\n",
              "    <tr style=\"text-align: right;\">\n",
              "      <th></th>\n",
              "      <th>ID</th>\n",
              "      <th>Severity</th>\n",
              "      <th>Start_Time</th>\n",
              "      <th>End_Time</th>\n",
              "      <th>Start_Lat</th>\n",
              "      <th>Start_Lng</th>\n",
              "      <th>End_Lat</th>\n",
              "      <th>End_Lng</th>\n",
              "      <th>Distance(mi)</th>\n",
              "      <th>Description</th>\n",
              "      <th>...</th>\n",
              "      <th>Roundabout</th>\n",
              "      <th>Station</th>\n",
              "      <th>Stop</th>\n",
              "      <th>Traffic_Calming</th>\n",
              "      <th>Traffic_Signal</th>\n",
              "      <th>Turning_Loop</th>\n",
              "      <th>Sunrise_Sunset</th>\n",
              "      <th>Civil_Twilight</th>\n",
              "      <th>Nautical_Twilight</th>\n",
              "      <th>Astronomical_Twilight</th>\n",
              "    </tr>\n",
              "  </thead>\n",
              "  <tbody>\n",
              "    <tr>\n",
              "      <th>0</th>\n",
              "      <td>A-1</td>\n",
              "      <td>3</td>\n",
              "      <td>2016-02-08 00:37:08</td>\n",
              "      <td>2016-02-08 06:37:08</td>\n",
              "      <td>40.108910</td>\n",
              "      <td>-83.092860</td>\n",
              "      <td>40.112060</td>\n",
              "      <td>-83.031870</td>\n",
              "      <td>3.230</td>\n",
              "      <td>Between Sawmill Rd/Exit 20 and OH-315/Olentang...</td>\n",
              "      <td>...</td>\n",
              "      <td>False</td>\n",
              "      <td>False</td>\n",
              "      <td>False</td>\n",
              "      <td>False</td>\n",
              "      <td>False</td>\n",
              "      <td>False</td>\n",
              "      <td>Night</td>\n",
              "      <td>Night</td>\n",
              "      <td>Night</td>\n",
              "      <td>Night</td>\n",
              "    </tr>\n",
              "    <tr>\n",
              "      <th>1</th>\n",
              "      <td>A-2</td>\n",
              "      <td>2</td>\n",
              "      <td>2016-02-08 05:56:20</td>\n",
              "      <td>2016-02-08 11:56:20</td>\n",
              "      <td>39.865420</td>\n",
              "      <td>-84.062800</td>\n",
              "      <td>39.865010</td>\n",
              "      <td>-84.048730</td>\n",
              "      <td>0.747</td>\n",
              "      <td>At OH-4/OH-235/Exit 41 - Accident.</td>\n",
              "      <td>...</td>\n",
              "      <td>False</td>\n",
              "      <td>False</td>\n",
              "      <td>False</td>\n",
              "      <td>False</td>\n",
              "      <td>False</td>\n",
              "      <td>False</td>\n",
              "      <td>Night</td>\n",
              "      <td>Night</td>\n",
              "      <td>Night</td>\n",
              "      <td>Night</td>\n",
              "    </tr>\n",
              "    <tr>\n",
              "      <th>2</th>\n",
              "      <td>A-3</td>\n",
              "      <td>2</td>\n",
              "      <td>2016-02-08 06:15:39</td>\n",
              "      <td>2016-02-08 12:15:39</td>\n",
              "      <td>39.102660</td>\n",
              "      <td>-84.524680</td>\n",
              "      <td>39.102090</td>\n",
              "      <td>-84.523960</td>\n",
              "      <td>0.055</td>\n",
              "      <td>At I-71/US-50/Exit 1 - Accident.</td>\n",
              "      <td>...</td>\n",
              "      <td>False</td>\n",
              "      <td>False</td>\n",
              "      <td>False</td>\n",
              "      <td>False</td>\n",
              "      <td>False</td>\n",
              "      <td>False</td>\n",
              "      <td>Night</td>\n",
              "      <td>Night</td>\n",
              "      <td>Night</td>\n",
              "      <td>Day</td>\n",
              "    </tr>\n",
              "    <tr>\n",
              "      <th>3</th>\n",
              "      <td>A-4</td>\n",
              "      <td>2</td>\n",
              "      <td>2016-02-08 06:51:45</td>\n",
              "      <td>2016-02-08 12:51:45</td>\n",
              "      <td>41.062130</td>\n",
              "      <td>-81.537840</td>\n",
              "      <td>41.062170</td>\n",
              "      <td>-81.535470</td>\n",
              "      <td>0.123</td>\n",
              "      <td>At Dart Ave/Exit 21 - Accident.</td>\n",
              "      <td>...</td>\n",
              "      <td>False</td>\n",
              "      <td>False</td>\n",
              "      <td>False</td>\n",
              "      <td>False</td>\n",
              "      <td>False</td>\n",
              "      <td>False</td>\n",
              "      <td>Night</td>\n",
              "      <td>Night</td>\n",
              "      <td>Day</td>\n",
              "      <td>Day</td>\n",
              "    </tr>\n",
              "    <tr>\n",
              "      <th>4</th>\n",
              "      <td>A-5</td>\n",
              "      <td>3</td>\n",
              "      <td>2016-02-08 07:53:43</td>\n",
              "      <td>2016-02-08 13:53:43</td>\n",
              "      <td>39.172393</td>\n",
              "      <td>-84.492792</td>\n",
              "      <td>39.170476</td>\n",
              "      <td>-84.501798</td>\n",
              "      <td>0.500</td>\n",
              "      <td>At Mitchell Ave/Exit 6 - Accident.</td>\n",
              "      <td>...</td>\n",
              "      <td>False</td>\n",
              "      <td>False</td>\n",
              "      <td>False</td>\n",
              "      <td>False</td>\n",
              "      <td>False</td>\n",
              "      <td>False</td>\n",
              "      <td>Day</td>\n",
              "      <td>Day</td>\n",
              "      <td>Day</td>\n",
              "      <td>Day</td>\n",
              "    </tr>\n",
              "  </tbody>\n",
              "</table>\n",
              "<p>5 rows × 47 columns</p>\n",
              "</div>\n",
              "      <button class=\"colab-df-convert\" onclick=\"convertToInteractive('df-5f6c318c-b5eb-47c4-9134-fffda314239e')\"\n",
              "              title=\"Convert this dataframe to an interactive table.\"\n",
              "              style=\"display:none;\">\n",
              "        \n",
              "  <svg xmlns=\"http://www.w3.org/2000/svg\" height=\"24px\"viewBox=\"0 0 24 24\"\n",
              "       width=\"24px\">\n",
              "    <path d=\"M0 0h24v24H0V0z\" fill=\"none\"/>\n",
              "    <path d=\"M18.56 5.44l.94 2.06.94-2.06 2.06-.94-2.06-.94-.94-2.06-.94 2.06-2.06.94zm-11 1L8.5 8.5l.94-2.06 2.06-.94-2.06-.94L8.5 2.5l-.94 2.06-2.06.94zm10 10l.94 2.06.94-2.06 2.06-.94-2.06-.94-.94-2.06-.94 2.06-2.06.94z\"/><path d=\"M17.41 7.96l-1.37-1.37c-.4-.4-.92-.59-1.43-.59-.52 0-1.04.2-1.43.59L10.3 9.45l-7.72 7.72c-.78.78-.78 2.05 0 2.83L4 21.41c.39.39.9.59 1.41.59.51 0 1.02-.2 1.41-.59l7.78-7.78 2.81-2.81c.8-.78.8-2.07 0-2.86zM5.41 20L4 18.59l7.72-7.72 1.47 1.35L5.41 20z\"/>\n",
              "  </svg>\n",
              "      </button>\n",
              "      \n",
              "  <style>\n",
              "    .colab-df-container {\n",
              "      display:flex;\n",
              "      flex-wrap:wrap;\n",
              "      gap: 12px;\n",
              "    }\n",
              "\n",
              "    .colab-df-convert {\n",
              "      background-color: #E8F0FE;\n",
              "      border: none;\n",
              "      border-radius: 50%;\n",
              "      cursor: pointer;\n",
              "      display: none;\n",
              "      fill: #1967D2;\n",
              "      height: 32px;\n",
              "      padding: 0 0 0 0;\n",
              "      width: 32px;\n",
              "    }\n",
              "\n",
              "    .colab-df-convert:hover {\n",
              "      background-color: #E2EBFA;\n",
              "      box-shadow: 0px 1px 2px rgba(60, 64, 67, 0.3), 0px 1px 3px 1px rgba(60, 64, 67, 0.15);\n",
              "      fill: #174EA6;\n",
              "    }\n",
              "\n",
              "    [theme=dark] .colab-df-convert {\n",
              "      background-color: #3B4455;\n",
              "      fill: #D2E3FC;\n",
              "    }\n",
              "\n",
              "    [theme=dark] .colab-df-convert:hover {\n",
              "      background-color: #434B5C;\n",
              "      box-shadow: 0px 1px 3px 1px rgba(0, 0, 0, 0.15);\n",
              "      filter: drop-shadow(0px 1px 2px rgba(0, 0, 0, 0.3));\n",
              "      fill: #FFFFFF;\n",
              "    }\n",
              "  </style>\n",
              "\n",
              "      <script>\n",
              "        const buttonEl =\n",
              "          document.querySelector('#df-5f6c318c-b5eb-47c4-9134-fffda314239e button.colab-df-convert');\n",
              "        buttonEl.style.display =\n",
              "          google.colab.kernel.accessAllowed ? 'block' : 'none';\n",
              "\n",
              "        async function convertToInteractive(key) {\n",
              "          const element = document.querySelector('#df-5f6c318c-b5eb-47c4-9134-fffda314239e');\n",
              "          const dataTable =\n",
              "            await google.colab.kernel.invokeFunction('convertToInteractive',\n",
              "                                                     [key], {});\n",
              "          if (!dataTable) return;\n",
              "\n",
              "          const docLinkHtml = 'Like what you see? Visit the ' +\n",
              "            '<a target=\"_blank\" href=https://colab.research.google.com/notebooks/data_table.ipynb>data table notebook</a>'\n",
              "            + ' to learn more about interactive tables.';\n",
              "          element.innerHTML = '';\n",
              "          dataTable['output_type'] = 'display_data';\n",
              "          await google.colab.output.renderOutput(dataTable, element);\n",
              "          const docLink = document.createElement('div');\n",
              "          docLink.innerHTML = docLinkHtml;\n",
              "          element.appendChild(docLink);\n",
              "        }\n",
              "      </script>\n",
              "    </div>\n",
              "  </div>\n",
              "  "
            ]
          },
          "metadata": {},
          "execution_count": 6
        }
      ],
      "source": [
        "df.head()"
      ]
    },
    {
      "cell_type": "code",
      "source": [
        "# Check the name and the type of each column\n",
        "df.info()"
      ],
      "metadata": {
        "colab": {
          "base_uri": "https://localhost:8080/"
        },
        "id": "TDmGz_TO1sY7",
        "outputId": "a324df86-4b2f-4185-9810-03beb6bfbf69"
      },
      "execution_count": 7,
      "outputs": [
        {
          "output_type": "stream",
          "name": "stdout",
          "text": [
            "<class 'pandas.core.frame.DataFrame'>\n",
            "RangeIndex: 2845342 entries, 0 to 2845341\n",
            "Data columns (total 47 columns):\n",
            " #   Column                 Dtype  \n",
            "---  ------                 -----  \n",
            " 0   ID                     object \n",
            " 1   Severity               int64  \n",
            " 2   Start_Time             object \n",
            " 3   End_Time               object \n",
            " 4   Start_Lat              float64\n",
            " 5   Start_Lng              float64\n",
            " 6   End_Lat                float64\n",
            " 7   End_Lng                float64\n",
            " 8   Distance(mi)           float64\n",
            " 9   Description            object \n",
            " 10  Number                 float64\n",
            " 11  Street                 object \n",
            " 12  Side                   object \n",
            " 13  City                   object \n",
            " 14  County                 object \n",
            " 15  State                  object \n",
            " 16  Zipcode                object \n",
            " 17  Country                object \n",
            " 18  Timezone               object \n",
            " 19  Airport_Code           object \n",
            " 20  Weather_Timestamp      object \n",
            " 21  Temperature(F)         float64\n",
            " 22  Wind_Chill(F)          float64\n",
            " 23  Humidity(%)            float64\n",
            " 24  Pressure(in)           float64\n",
            " 25  Visibility(mi)         float64\n",
            " 26  Wind_Direction         object \n",
            " 27  Wind_Speed(mph)        float64\n",
            " 28  Precipitation(in)      float64\n",
            " 29  Weather_Condition      object \n",
            " 30  Amenity                bool   \n",
            " 31  Bump                   bool   \n",
            " 32  Crossing               bool   \n",
            " 33  Give_Way               bool   \n",
            " 34  Junction               bool   \n",
            " 35  No_Exit                bool   \n",
            " 36  Railway                bool   \n",
            " 37  Roundabout             bool   \n",
            " 38  Station                bool   \n",
            " 39  Stop                   bool   \n",
            " 40  Traffic_Calming        bool   \n",
            " 41  Traffic_Signal         bool   \n",
            " 42  Turning_Loop           bool   \n",
            " 43  Sunrise_Sunset         object \n",
            " 44  Civil_Twilight         object \n",
            " 45  Nautical_Twilight      object \n",
            " 46  Astronomical_Twilight  object \n",
            "dtypes: bool(13), float64(13), int64(1), object(20)\n",
            "memory usage: 773.4+ MB\n"
          ]
        }
      ]
    },
    {
      "cell_type": "code",
      "source": [
        "df.describe()"
      ],
      "metadata": {
        "colab": {
          "base_uri": "https://localhost:8080/",
          "height": 364
        },
        "id": "SmzhX6iU3xTS",
        "outputId": "3da95089-dd6f-4ae5-9785-0fd2e2f8d318"
      },
      "execution_count": 8,
      "outputs": [
        {
          "output_type": "execute_result",
          "data": {
            "text/plain": [
              "           Severity     Start_Lat     Start_Lng       End_Lat       End_Lng  \\\n",
              "count  2.845342e+06  2.845342e+06  2.845342e+06  2.845342e+06  2.845342e+06   \n",
              "mean   2.137572e+00  3.624520e+01 -9.711463e+01  3.624532e+01 -9.711439e+01   \n",
              "std    4.787216e-01  5.363797e+00  1.831782e+01  5.363873e+00  1.831763e+01   \n",
              "min    1.000000e+00  2.456603e+01 -1.245481e+02  2.456601e+01 -1.245457e+02   \n",
              "25%    2.000000e+00  3.344517e+01 -1.180331e+02  3.344628e+01 -1.180333e+02   \n",
              "50%    2.000000e+00  3.609861e+01 -9.241808e+01  3.609799e+01 -9.241772e+01   \n",
              "75%    2.000000e+00  4.016024e+01 -8.037243e+01  4.016105e+01 -8.037338e+01   \n",
              "max    4.000000e+00  4.900058e+01 -6.711317e+01  4.907500e+01 -6.710924e+01   \n",
              "\n",
              "       Distance(mi)        Number  Temperature(F)  Wind_Chill(F)  \\\n",
              "count  2.845342e+06  1.101431e+06    2.776068e+06   2.375699e+06   \n",
              "mean   7.026779e-01  8.089408e+03    6.179356e+01   5.965823e+01   \n",
              "std    1.560361e+00  1.836009e+04    1.862263e+01   2.116097e+01   \n",
              "min    0.000000e+00  0.000000e+00   -8.900000e+01  -8.900000e+01   \n",
              "25%    5.200000e-02  1.270000e+03    5.000000e+01   4.600000e+01   \n",
              "50%    2.440000e-01  4.007000e+03    6.400000e+01   6.300000e+01   \n",
              "75%    7.640000e-01  9.567000e+03    7.600000e+01   7.600000e+01   \n",
              "max    1.551860e+02  9.999997e+06    1.960000e+02   1.960000e+02   \n",
              "\n",
              "        Humidity(%)  Pressure(in)  Visibility(mi)  Wind_Speed(mph)  \\\n",
              "count  2.772250e+06  2.786142e+06    2.774796e+06     2.687398e+06   \n",
              "mean   6.436545e+01  2.947234e+01    9.099391e+00     7.395044e+00   \n",
              "std    2.287457e+01  1.045286e+00    2.717546e+00     5.527454e+00   \n",
              "min    1.000000e+00  0.000000e+00    0.000000e+00     0.000000e+00   \n",
              "25%    4.800000e+01  2.931000e+01    1.000000e+01     3.500000e+00   \n",
              "50%    6.700000e+01  2.982000e+01    1.000000e+01     7.000000e+00   \n",
              "75%    8.300000e+01  3.001000e+01    1.000000e+01     1.000000e+01   \n",
              "max    1.000000e+02  5.890000e+01    1.400000e+02     1.087000e+03   \n",
              "\n",
              "       Precipitation(in)  \n",
              "count       2.295884e+06  \n",
              "mean        7.016940e-03  \n",
              "std         9.348831e-02  \n",
              "min         0.000000e+00  \n",
              "25%         0.000000e+00  \n",
              "50%         0.000000e+00  \n",
              "75%         0.000000e+00  \n",
              "max         2.400000e+01  "
            ],
            "text/html": [
              "\n",
              "  <div id=\"df-81c0758a-fada-4d7e-861e-976ec4c8e290\">\n",
              "    <div class=\"colab-df-container\">\n",
              "      <div>\n",
              "<style scoped>\n",
              "    .dataframe tbody tr th:only-of-type {\n",
              "        vertical-align: middle;\n",
              "    }\n",
              "\n",
              "    .dataframe tbody tr th {\n",
              "        vertical-align: top;\n",
              "    }\n",
              "\n",
              "    .dataframe thead th {\n",
              "        text-align: right;\n",
              "    }\n",
              "</style>\n",
              "<table border=\"1\" class=\"dataframe\">\n",
              "  <thead>\n",
              "    <tr style=\"text-align: right;\">\n",
              "      <th></th>\n",
              "      <th>Severity</th>\n",
              "      <th>Start_Lat</th>\n",
              "      <th>Start_Lng</th>\n",
              "      <th>End_Lat</th>\n",
              "      <th>End_Lng</th>\n",
              "      <th>Distance(mi)</th>\n",
              "      <th>Number</th>\n",
              "      <th>Temperature(F)</th>\n",
              "      <th>Wind_Chill(F)</th>\n",
              "      <th>Humidity(%)</th>\n",
              "      <th>Pressure(in)</th>\n",
              "      <th>Visibility(mi)</th>\n",
              "      <th>Wind_Speed(mph)</th>\n",
              "      <th>Precipitation(in)</th>\n",
              "    </tr>\n",
              "  </thead>\n",
              "  <tbody>\n",
              "    <tr>\n",
              "      <th>count</th>\n",
              "      <td>2.845342e+06</td>\n",
              "      <td>2.845342e+06</td>\n",
              "      <td>2.845342e+06</td>\n",
              "      <td>2.845342e+06</td>\n",
              "      <td>2.845342e+06</td>\n",
              "      <td>2.845342e+06</td>\n",
              "      <td>1.101431e+06</td>\n",
              "      <td>2.776068e+06</td>\n",
              "      <td>2.375699e+06</td>\n",
              "      <td>2.772250e+06</td>\n",
              "      <td>2.786142e+06</td>\n",
              "      <td>2.774796e+06</td>\n",
              "      <td>2.687398e+06</td>\n",
              "      <td>2.295884e+06</td>\n",
              "    </tr>\n",
              "    <tr>\n",
              "      <th>mean</th>\n",
              "      <td>2.137572e+00</td>\n",
              "      <td>3.624520e+01</td>\n",
              "      <td>-9.711463e+01</td>\n",
              "      <td>3.624532e+01</td>\n",
              "      <td>-9.711439e+01</td>\n",
              "      <td>7.026779e-01</td>\n",
              "      <td>8.089408e+03</td>\n",
              "      <td>6.179356e+01</td>\n",
              "      <td>5.965823e+01</td>\n",
              "      <td>6.436545e+01</td>\n",
              "      <td>2.947234e+01</td>\n",
              "      <td>9.099391e+00</td>\n",
              "      <td>7.395044e+00</td>\n",
              "      <td>7.016940e-03</td>\n",
              "    </tr>\n",
              "    <tr>\n",
              "      <th>std</th>\n",
              "      <td>4.787216e-01</td>\n",
              "      <td>5.363797e+00</td>\n",
              "      <td>1.831782e+01</td>\n",
              "      <td>5.363873e+00</td>\n",
              "      <td>1.831763e+01</td>\n",
              "      <td>1.560361e+00</td>\n",
              "      <td>1.836009e+04</td>\n",
              "      <td>1.862263e+01</td>\n",
              "      <td>2.116097e+01</td>\n",
              "      <td>2.287457e+01</td>\n",
              "      <td>1.045286e+00</td>\n",
              "      <td>2.717546e+00</td>\n",
              "      <td>5.527454e+00</td>\n",
              "      <td>9.348831e-02</td>\n",
              "    </tr>\n",
              "    <tr>\n",
              "      <th>min</th>\n",
              "      <td>1.000000e+00</td>\n",
              "      <td>2.456603e+01</td>\n",
              "      <td>-1.245481e+02</td>\n",
              "      <td>2.456601e+01</td>\n",
              "      <td>-1.245457e+02</td>\n",
              "      <td>0.000000e+00</td>\n",
              "      <td>0.000000e+00</td>\n",
              "      <td>-8.900000e+01</td>\n",
              "      <td>-8.900000e+01</td>\n",
              "      <td>1.000000e+00</td>\n",
              "      <td>0.000000e+00</td>\n",
              "      <td>0.000000e+00</td>\n",
              "      <td>0.000000e+00</td>\n",
              "      <td>0.000000e+00</td>\n",
              "    </tr>\n",
              "    <tr>\n",
              "      <th>25%</th>\n",
              "      <td>2.000000e+00</td>\n",
              "      <td>3.344517e+01</td>\n",
              "      <td>-1.180331e+02</td>\n",
              "      <td>3.344628e+01</td>\n",
              "      <td>-1.180333e+02</td>\n",
              "      <td>5.200000e-02</td>\n",
              "      <td>1.270000e+03</td>\n",
              "      <td>5.000000e+01</td>\n",
              "      <td>4.600000e+01</td>\n",
              "      <td>4.800000e+01</td>\n",
              "      <td>2.931000e+01</td>\n",
              "      <td>1.000000e+01</td>\n",
              "      <td>3.500000e+00</td>\n",
              "      <td>0.000000e+00</td>\n",
              "    </tr>\n",
              "    <tr>\n",
              "      <th>50%</th>\n",
              "      <td>2.000000e+00</td>\n",
              "      <td>3.609861e+01</td>\n",
              "      <td>-9.241808e+01</td>\n",
              "      <td>3.609799e+01</td>\n",
              "      <td>-9.241772e+01</td>\n",
              "      <td>2.440000e-01</td>\n",
              "      <td>4.007000e+03</td>\n",
              "      <td>6.400000e+01</td>\n",
              "      <td>6.300000e+01</td>\n",
              "      <td>6.700000e+01</td>\n",
              "      <td>2.982000e+01</td>\n",
              "      <td>1.000000e+01</td>\n",
              "      <td>7.000000e+00</td>\n",
              "      <td>0.000000e+00</td>\n",
              "    </tr>\n",
              "    <tr>\n",
              "      <th>75%</th>\n",
              "      <td>2.000000e+00</td>\n",
              "      <td>4.016024e+01</td>\n",
              "      <td>-8.037243e+01</td>\n",
              "      <td>4.016105e+01</td>\n",
              "      <td>-8.037338e+01</td>\n",
              "      <td>7.640000e-01</td>\n",
              "      <td>9.567000e+03</td>\n",
              "      <td>7.600000e+01</td>\n",
              "      <td>7.600000e+01</td>\n",
              "      <td>8.300000e+01</td>\n",
              "      <td>3.001000e+01</td>\n",
              "      <td>1.000000e+01</td>\n",
              "      <td>1.000000e+01</td>\n",
              "      <td>0.000000e+00</td>\n",
              "    </tr>\n",
              "    <tr>\n",
              "      <th>max</th>\n",
              "      <td>4.000000e+00</td>\n",
              "      <td>4.900058e+01</td>\n",
              "      <td>-6.711317e+01</td>\n",
              "      <td>4.907500e+01</td>\n",
              "      <td>-6.710924e+01</td>\n",
              "      <td>1.551860e+02</td>\n",
              "      <td>9.999997e+06</td>\n",
              "      <td>1.960000e+02</td>\n",
              "      <td>1.960000e+02</td>\n",
              "      <td>1.000000e+02</td>\n",
              "      <td>5.890000e+01</td>\n",
              "      <td>1.400000e+02</td>\n",
              "      <td>1.087000e+03</td>\n",
              "      <td>2.400000e+01</td>\n",
              "    </tr>\n",
              "  </tbody>\n",
              "</table>\n",
              "</div>\n",
              "      <button class=\"colab-df-convert\" onclick=\"convertToInteractive('df-81c0758a-fada-4d7e-861e-976ec4c8e290')\"\n",
              "              title=\"Convert this dataframe to an interactive table.\"\n",
              "              style=\"display:none;\">\n",
              "        \n",
              "  <svg xmlns=\"http://www.w3.org/2000/svg\" height=\"24px\"viewBox=\"0 0 24 24\"\n",
              "       width=\"24px\">\n",
              "    <path d=\"M0 0h24v24H0V0z\" fill=\"none\"/>\n",
              "    <path d=\"M18.56 5.44l.94 2.06.94-2.06 2.06-.94-2.06-.94-.94-2.06-.94 2.06-2.06.94zm-11 1L8.5 8.5l.94-2.06 2.06-.94-2.06-.94L8.5 2.5l-.94 2.06-2.06.94zm10 10l.94 2.06.94-2.06 2.06-.94-2.06-.94-.94-2.06-.94 2.06-2.06.94z\"/><path d=\"M17.41 7.96l-1.37-1.37c-.4-.4-.92-.59-1.43-.59-.52 0-1.04.2-1.43.59L10.3 9.45l-7.72 7.72c-.78.78-.78 2.05 0 2.83L4 21.41c.39.39.9.59 1.41.59.51 0 1.02-.2 1.41-.59l7.78-7.78 2.81-2.81c.8-.78.8-2.07 0-2.86zM5.41 20L4 18.59l7.72-7.72 1.47 1.35L5.41 20z\"/>\n",
              "  </svg>\n",
              "      </button>\n",
              "      \n",
              "  <style>\n",
              "    .colab-df-container {\n",
              "      display:flex;\n",
              "      flex-wrap:wrap;\n",
              "      gap: 12px;\n",
              "    }\n",
              "\n",
              "    .colab-df-convert {\n",
              "      background-color: #E8F0FE;\n",
              "      border: none;\n",
              "      border-radius: 50%;\n",
              "      cursor: pointer;\n",
              "      display: none;\n",
              "      fill: #1967D2;\n",
              "      height: 32px;\n",
              "      padding: 0 0 0 0;\n",
              "      width: 32px;\n",
              "    }\n",
              "\n",
              "    .colab-df-convert:hover {\n",
              "      background-color: #E2EBFA;\n",
              "      box-shadow: 0px 1px 2px rgba(60, 64, 67, 0.3), 0px 1px 3px 1px rgba(60, 64, 67, 0.15);\n",
              "      fill: #174EA6;\n",
              "    }\n",
              "\n",
              "    [theme=dark] .colab-df-convert {\n",
              "      background-color: #3B4455;\n",
              "      fill: #D2E3FC;\n",
              "    }\n",
              "\n",
              "    [theme=dark] .colab-df-convert:hover {\n",
              "      background-color: #434B5C;\n",
              "      box-shadow: 0px 1px 3px 1px rgba(0, 0, 0, 0.15);\n",
              "      filter: drop-shadow(0px 1px 2px rgba(0, 0, 0, 0.3));\n",
              "      fill: #FFFFFF;\n",
              "    }\n",
              "  </style>\n",
              "\n",
              "      <script>\n",
              "        const buttonEl =\n",
              "          document.querySelector('#df-81c0758a-fada-4d7e-861e-976ec4c8e290 button.colab-df-convert');\n",
              "        buttonEl.style.display =\n",
              "          google.colab.kernel.accessAllowed ? 'block' : 'none';\n",
              "\n",
              "        async function convertToInteractive(key) {\n",
              "          const element = document.querySelector('#df-81c0758a-fada-4d7e-861e-976ec4c8e290');\n",
              "          const dataTable =\n",
              "            await google.colab.kernel.invokeFunction('convertToInteractive',\n",
              "                                                     [key], {});\n",
              "          if (!dataTable) return;\n",
              "\n",
              "          const docLinkHtml = 'Like what you see? Visit the ' +\n",
              "            '<a target=\"_blank\" href=https://colab.research.google.com/notebooks/data_table.ipynb>data table notebook</a>'\n",
              "            + ' to learn more about interactive tables.';\n",
              "          element.innerHTML = '';\n",
              "          dataTable['output_type'] = 'display_data';\n",
              "          await google.colab.output.renderOutput(dataTable, element);\n",
              "          const docLink = document.createElement('div');\n",
              "          docLink.innerHTML = docLinkHtml;\n",
              "          element.appendChild(docLink);\n",
              "        }\n",
              "      </script>\n",
              "    </div>\n",
              "  </div>\n",
              "  "
            ]
          },
          "metadata": {},
          "execution_count": 8
        }
      ]
    },
    {
      "cell_type": "code",
      "source": [
        "numerics = ['int16', 'int32', 'int64', 'float16', 'float32', 'float64']\n",
        "\n",
        "numeric_df = df.select_dtypes(include=numerics)\n",
        "len(numeric_df.columns)"
      ],
      "metadata": {
        "colab": {
          "base_uri": "https://localhost:8080/"
        },
        "id": "A-Q32s4l3xMl",
        "outputId": "7eb56d94-51cf-4459-be9e-f6f75b0c0534"
      },
      "execution_count": 9,
      "outputs": [
        {
          "output_type": "execute_result",
          "data": {
            "text/plain": [
              "14"
            ]
          },
          "metadata": {},
          "execution_count": 9
        }
      ]
    },
    {
      "cell_type": "markdown",
      "source": [
        "Percentage of missing values per column"
      ],
      "metadata": {
        "id": "llTmo5Ko5_1o"
      }
    },
    {
      "cell_type": "code",
      "source": [
        "missing_percentage = df.isna().sum().sort_values(ascending=False) / len(df)\n",
        "missing_percentage"
      ],
      "metadata": {
        "colab": {
          "base_uri": "https://localhost:8080/"
        },
        "id": "SSPN-efy3w8E",
        "outputId": "cf448fdb-0eb3-47e1-fe94-840d65015ccb"
      },
      "execution_count": 10,
      "outputs": [
        {
          "output_type": "execute_result",
          "data": {
            "text/plain": [
              "Number                   6.129003e-01\n",
              "Precipitation(in)        1.931079e-01\n",
              "Wind_Chill(F)            1.650568e-01\n",
              "Wind_Speed(mph)          5.550967e-02\n",
              "Wind_Direction           2.592834e-02\n",
              "Humidity(%)              2.568830e-02\n",
              "Weather_Condition        2.482514e-02\n",
              "Visibility(mi)           2.479350e-02\n",
              "Temperature(F)           2.434646e-02\n",
              "Pressure(in)             2.080593e-02\n",
              "Weather_Timestamp        1.783125e-02\n",
              "Airport_Code             3.356011e-03\n",
              "Timezone                 1.285961e-03\n",
              "Nautical_Twilight        1.007612e-03\n",
              "Civil_Twilight           1.007612e-03\n",
              "Sunrise_Sunset           1.007612e-03\n",
              "Astronomical_Twilight    1.007612e-03\n",
              "Zipcode                  4.635647e-04\n",
              "City                     4.814887e-05\n",
              "Street                   7.029032e-07\n",
              "Country                  0.000000e+00\n",
              "Junction                 0.000000e+00\n",
              "Start_Time               0.000000e+00\n",
              "End_Time                 0.000000e+00\n",
              "Start_Lat                0.000000e+00\n",
              "Turning_Loop             0.000000e+00\n",
              "Traffic_Signal           0.000000e+00\n",
              "Traffic_Calming          0.000000e+00\n",
              "Stop                     0.000000e+00\n",
              "Station                  0.000000e+00\n",
              "Roundabout               0.000000e+00\n",
              "Railway                  0.000000e+00\n",
              "No_Exit                  0.000000e+00\n",
              "Crossing                 0.000000e+00\n",
              "Give_Way                 0.000000e+00\n",
              "Bump                     0.000000e+00\n",
              "Amenity                  0.000000e+00\n",
              "Start_Lng                0.000000e+00\n",
              "End_Lat                  0.000000e+00\n",
              "End_Lng                  0.000000e+00\n",
              "Distance(mi)             0.000000e+00\n",
              "Description              0.000000e+00\n",
              "Severity                 0.000000e+00\n",
              "Side                     0.000000e+00\n",
              "County                   0.000000e+00\n",
              "State                    0.000000e+00\n",
              "ID                       0.000000e+00\n",
              "dtype: float64"
            ]
          },
          "metadata": {},
          "execution_count": 10
        }
      ]
    },
    {
      "cell_type": "code",
      "source": [
        "type(missing_percentage)"
      ],
      "metadata": {
        "colab": {
          "base_uri": "https://localhost:8080/"
        },
        "id": "H8eWs6jp6ipc",
        "outputId": "0f8a0783-504d-4350-efc2-964fcc94fdb3"
      },
      "execution_count": 11,
      "outputs": [
        {
          "output_type": "execute_result",
          "data": {
            "text/plain": [
              "pandas.core.series.Series"
            ]
          },
          "metadata": {},
          "execution_count": 11
        }
      ]
    },
    {
      "cell_type": "code",
      "source": [
        "df_missing = pd.DataFrame(missing_percentage[missing_percentage != 0]*100).reset_index()\n",
        "df_missing.columns = ['Columns', 'Percentage (%)']\n",
        "type(df_missing)"
      ],
      "metadata": {
        "colab": {
          "base_uri": "https://localhost:8080/"
        },
        "id": "ladOga8FpIsp",
        "outputId": "a17334d7-3166-445c-f8dd-b1add982fd4d"
      },
      "execution_count": 12,
      "outputs": [
        {
          "output_type": "execute_result",
          "data": {
            "text/plain": [
              "pandas.core.frame.DataFrame"
            ]
          },
          "metadata": {},
          "execution_count": 12
        }
      ]
    },
    {
      "cell_type": "code",
      "source": [
        "!pip install \"jupyterlab>=3\" \"ipywidgets>=7.6\" --quiet"
      ],
      "metadata": {
        "id": "Wa1PdDhG6dGp"
      },
      "execution_count": 43,
      "outputs": []
    },
    {
      "cell_type": "code",
      "source": [
        "!pip install \"notebook>=5.3\" \"ipywidgets>=7.5\" --quiet"
      ],
      "metadata": {
        "id": "wx1fZ_0a70Mr"
      },
      "execution_count": 44,
      "outputs": []
    },
    {
      "cell_type": "code",
      "source": [
        "px.bar(df_missing, x='Percentage (%)', y='Columns', orientation='h')"
      ],
      "metadata": {
        "colab": {
          "base_uri": "https://localhost:8080/",
          "height": 542
        },
        "id": "z-zpasVQ3wyb",
        "outputId": "b995b6a6-ee0f-4aca-f418-7f8bf7c54a75"
      },
      "execution_count": 45,
      "outputs": [
        {
          "output_type": "display_data",
          "data": {
            "text/html": [
              "<html>\n",
              "<head><meta charset=\"utf-8\" /></head>\n",
              "<body>\n",
              "    <div>            <script src=\"https://cdnjs.cloudflare.com/ajax/libs/mathjax/2.7.5/MathJax.js?config=TeX-AMS-MML_SVG\"></script><script type=\"text/javascript\">if (window.MathJax) {MathJax.Hub.Config({SVG: {font: \"STIX-Web\"}});}</script>                <script type=\"text/javascript\">window.PlotlyConfig = {MathJaxConfig: 'local'};</script>\n",
              "        <script src=\"https://cdn.plot.ly/plotly-2.8.3.min.js\"></script>                <div id=\"2a2b2487-61e3-4c52-b8c4-d7ac740d7342\" class=\"plotly-graph-div\" style=\"height:525px; width:100%;\"></div>            <script type=\"text/javascript\">                                    window.PLOTLYENV=window.PLOTLYENV || {};                                    if (document.getElementById(\"2a2b2487-61e3-4c52-b8c4-d7ac740d7342\")) {                    Plotly.newPlot(                        \"2a2b2487-61e3-4c52-b8c4-d7ac740d7342\",                        [{\"alignmentgroup\":\"True\",\"hovertemplate\":\"Percentage (%)=%{x}<br>Columns=%{y}<extra></extra>\",\"legendgroup\":\"\",\"marker\":{\"color\":\"#636efa\",\"pattern\":{\"shape\":\"\"}},\"name\":\"\",\"offsetgroup\":\"\",\"orientation\":\"h\",\"showlegend\":false,\"textposition\":\"auto\",\"x\":[61.290031215931165,19.310789353265793,16.505678403510018,5.550967159659542,2.592834183026153,2.5688300387088794,2.4825135256148467,2.4793504612099353,2.434645817620518,2.0805934752307453,1.7831248405288362,0.33560113336112146,0.12859614063968408,0.10076117387646194,0.10076117387646194,0.10076117387646194,0.10076117387646194,0.04635646611198232,0.0048148869274765565,7.029032010914681e-05],\"xaxis\":\"x\",\"y\":[\"Number\",\"Precipitation(in)\",\"Wind_Chill(F)\",\"Wind_Speed(mph)\",\"Wind_Direction\",\"Humidity(%)\",\"Weather_Condition\",\"Visibility(mi)\",\"Temperature(F)\",\"Pressure(in)\",\"Weather_Timestamp\",\"Airport_Code\",\"Timezone\",\"Nautical_Twilight\",\"Civil_Twilight\",\"Sunrise_Sunset\",\"Astronomical_Twilight\",\"Zipcode\",\"City\",\"Street\"],\"yaxis\":\"y\",\"type\":\"bar\"}],                        {\"template\":{\"data\":{\"bar\":[{\"error_x\":{\"color\":\"#2a3f5f\"},\"error_y\":{\"color\":\"#2a3f5f\"},\"marker\":{\"line\":{\"color\":\"#E5ECF6\",\"width\":0.5},\"pattern\":{\"fillmode\":\"overlay\",\"size\":10,\"solidity\":0.2}},\"type\":\"bar\"}],\"barpolar\":[{\"marker\":{\"line\":{\"color\":\"#E5ECF6\",\"width\":0.5},\"pattern\":{\"fillmode\":\"overlay\",\"size\":10,\"solidity\":0.2}},\"type\":\"barpolar\"}],\"carpet\":[{\"aaxis\":{\"endlinecolor\":\"#2a3f5f\",\"gridcolor\":\"white\",\"linecolor\":\"white\",\"minorgridcolor\":\"white\",\"startlinecolor\":\"#2a3f5f\"},\"baxis\":{\"endlinecolor\":\"#2a3f5f\",\"gridcolor\":\"white\",\"linecolor\":\"white\",\"minorgridcolor\":\"white\",\"startlinecolor\":\"#2a3f5f\"},\"type\":\"carpet\"}],\"choropleth\":[{\"colorbar\":{\"outlinewidth\":0,\"ticks\":\"\"},\"type\":\"choropleth\"}],\"contour\":[{\"colorbar\":{\"outlinewidth\":0,\"ticks\":\"\"},\"colorscale\":[[0.0,\"#0d0887\"],[0.1111111111111111,\"#46039f\"],[0.2222222222222222,\"#7201a8\"],[0.3333333333333333,\"#9c179e\"],[0.4444444444444444,\"#bd3786\"],[0.5555555555555556,\"#d8576b\"],[0.6666666666666666,\"#ed7953\"],[0.7777777777777778,\"#fb9f3a\"],[0.8888888888888888,\"#fdca26\"],[1.0,\"#f0f921\"]],\"type\":\"contour\"}],\"contourcarpet\":[{\"colorbar\":{\"outlinewidth\":0,\"ticks\":\"\"},\"type\":\"contourcarpet\"}],\"heatmap\":[{\"colorbar\":{\"outlinewidth\":0,\"ticks\":\"\"},\"colorscale\":[[0.0,\"#0d0887\"],[0.1111111111111111,\"#46039f\"],[0.2222222222222222,\"#7201a8\"],[0.3333333333333333,\"#9c179e\"],[0.4444444444444444,\"#bd3786\"],[0.5555555555555556,\"#d8576b\"],[0.6666666666666666,\"#ed7953\"],[0.7777777777777778,\"#fb9f3a\"],[0.8888888888888888,\"#fdca26\"],[1.0,\"#f0f921\"]],\"type\":\"heatmap\"}],\"heatmapgl\":[{\"colorbar\":{\"outlinewidth\":0,\"ticks\":\"\"},\"colorscale\":[[0.0,\"#0d0887\"],[0.1111111111111111,\"#46039f\"],[0.2222222222222222,\"#7201a8\"],[0.3333333333333333,\"#9c179e\"],[0.4444444444444444,\"#bd3786\"],[0.5555555555555556,\"#d8576b\"],[0.6666666666666666,\"#ed7953\"],[0.7777777777777778,\"#fb9f3a\"],[0.8888888888888888,\"#fdca26\"],[1.0,\"#f0f921\"]],\"type\":\"heatmapgl\"}],\"histogram\":[{\"marker\":{\"pattern\":{\"fillmode\":\"overlay\",\"size\":10,\"solidity\":0.2}},\"type\":\"histogram\"}],\"histogram2d\":[{\"colorbar\":{\"outlinewidth\":0,\"ticks\":\"\"},\"colorscale\":[[0.0,\"#0d0887\"],[0.1111111111111111,\"#46039f\"],[0.2222222222222222,\"#7201a8\"],[0.3333333333333333,\"#9c179e\"],[0.4444444444444444,\"#bd3786\"],[0.5555555555555556,\"#d8576b\"],[0.6666666666666666,\"#ed7953\"],[0.7777777777777778,\"#fb9f3a\"],[0.8888888888888888,\"#fdca26\"],[1.0,\"#f0f921\"]],\"type\":\"histogram2d\"}],\"histogram2dcontour\":[{\"colorbar\":{\"outlinewidth\":0,\"ticks\":\"\"},\"colorscale\":[[0.0,\"#0d0887\"],[0.1111111111111111,\"#46039f\"],[0.2222222222222222,\"#7201a8\"],[0.3333333333333333,\"#9c179e\"],[0.4444444444444444,\"#bd3786\"],[0.5555555555555556,\"#d8576b\"],[0.6666666666666666,\"#ed7953\"],[0.7777777777777778,\"#fb9f3a\"],[0.8888888888888888,\"#fdca26\"],[1.0,\"#f0f921\"]],\"type\":\"histogram2dcontour\"}],\"mesh3d\":[{\"colorbar\":{\"outlinewidth\":0,\"ticks\":\"\"},\"type\":\"mesh3d\"}],\"parcoords\":[{\"line\":{\"colorbar\":{\"outlinewidth\":0,\"ticks\":\"\"}},\"type\":\"parcoords\"}],\"pie\":[{\"automargin\":true,\"type\":\"pie\"}],\"scatter\":[{\"marker\":{\"colorbar\":{\"outlinewidth\":0,\"ticks\":\"\"}},\"type\":\"scatter\"}],\"scatter3d\":[{\"line\":{\"colorbar\":{\"outlinewidth\":0,\"ticks\":\"\"}},\"marker\":{\"colorbar\":{\"outlinewidth\":0,\"ticks\":\"\"}},\"type\":\"scatter3d\"}],\"scattercarpet\":[{\"marker\":{\"colorbar\":{\"outlinewidth\":0,\"ticks\":\"\"}},\"type\":\"scattercarpet\"}],\"scattergeo\":[{\"marker\":{\"colorbar\":{\"outlinewidth\":0,\"ticks\":\"\"}},\"type\":\"scattergeo\"}],\"scattergl\":[{\"marker\":{\"colorbar\":{\"outlinewidth\":0,\"ticks\":\"\"}},\"type\":\"scattergl\"}],\"scattermapbox\":[{\"marker\":{\"colorbar\":{\"outlinewidth\":0,\"ticks\":\"\"}},\"type\":\"scattermapbox\"}],\"scatterpolar\":[{\"marker\":{\"colorbar\":{\"outlinewidth\":0,\"ticks\":\"\"}},\"type\":\"scatterpolar\"}],\"scatterpolargl\":[{\"marker\":{\"colorbar\":{\"outlinewidth\":0,\"ticks\":\"\"}},\"type\":\"scatterpolargl\"}],\"scatterternary\":[{\"marker\":{\"colorbar\":{\"outlinewidth\":0,\"ticks\":\"\"}},\"type\":\"scatterternary\"}],\"surface\":[{\"colorbar\":{\"outlinewidth\":0,\"ticks\":\"\"},\"colorscale\":[[0.0,\"#0d0887\"],[0.1111111111111111,\"#46039f\"],[0.2222222222222222,\"#7201a8\"],[0.3333333333333333,\"#9c179e\"],[0.4444444444444444,\"#bd3786\"],[0.5555555555555556,\"#d8576b\"],[0.6666666666666666,\"#ed7953\"],[0.7777777777777778,\"#fb9f3a\"],[0.8888888888888888,\"#fdca26\"],[1.0,\"#f0f921\"]],\"type\":\"surface\"}],\"table\":[{\"cells\":{\"fill\":{\"color\":\"#EBF0F8\"},\"line\":{\"color\":\"white\"}},\"header\":{\"fill\":{\"color\":\"#C8D4E3\"},\"line\":{\"color\":\"white\"}},\"type\":\"table\"}]},\"layout\":{\"annotationdefaults\":{\"arrowcolor\":\"#2a3f5f\",\"arrowhead\":0,\"arrowwidth\":1},\"autotypenumbers\":\"strict\",\"coloraxis\":{\"colorbar\":{\"outlinewidth\":0,\"ticks\":\"\"}},\"colorscale\":{\"diverging\":[[0,\"#8e0152\"],[0.1,\"#c51b7d\"],[0.2,\"#de77ae\"],[0.3,\"#f1b6da\"],[0.4,\"#fde0ef\"],[0.5,\"#f7f7f7\"],[0.6,\"#e6f5d0\"],[0.7,\"#b8e186\"],[0.8,\"#7fbc41\"],[0.9,\"#4d9221\"],[1,\"#276419\"]],\"sequential\":[[0.0,\"#0d0887\"],[0.1111111111111111,\"#46039f\"],[0.2222222222222222,\"#7201a8\"],[0.3333333333333333,\"#9c179e\"],[0.4444444444444444,\"#bd3786\"],[0.5555555555555556,\"#d8576b\"],[0.6666666666666666,\"#ed7953\"],[0.7777777777777778,\"#fb9f3a\"],[0.8888888888888888,\"#fdca26\"],[1.0,\"#f0f921\"]],\"sequentialminus\":[[0.0,\"#0d0887\"],[0.1111111111111111,\"#46039f\"],[0.2222222222222222,\"#7201a8\"],[0.3333333333333333,\"#9c179e\"],[0.4444444444444444,\"#bd3786\"],[0.5555555555555556,\"#d8576b\"],[0.6666666666666666,\"#ed7953\"],[0.7777777777777778,\"#fb9f3a\"],[0.8888888888888888,\"#fdca26\"],[1.0,\"#f0f921\"]]},\"colorway\":[\"#636efa\",\"#EF553B\",\"#00cc96\",\"#ab63fa\",\"#FFA15A\",\"#19d3f3\",\"#FF6692\",\"#B6E880\",\"#FF97FF\",\"#FECB52\"],\"font\":{\"color\":\"#2a3f5f\"},\"geo\":{\"bgcolor\":\"white\",\"lakecolor\":\"white\",\"landcolor\":\"#E5ECF6\",\"showlakes\":true,\"showland\":true,\"subunitcolor\":\"white\"},\"hoverlabel\":{\"align\":\"left\"},\"hovermode\":\"closest\",\"mapbox\":{\"style\":\"light\"},\"paper_bgcolor\":\"white\",\"plot_bgcolor\":\"#E5ECF6\",\"polar\":{\"angularaxis\":{\"gridcolor\":\"white\",\"linecolor\":\"white\",\"ticks\":\"\"},\"bgcolor\":\"#E5ECF6\",\"radialaxis\":{\"gridcolor\":\"white\",\"linecolor\":\"white\",\"ticks\":\"\"}},\"scene\":{\"xaxis\":{\"backgroundcolor\":\"#E5ECF6\",\"gridcolor\":\"white\",\"gridwidth\":2,\"linecolor\":\"white\",\"showbackground\":true,\"ticks\":\"\",\"zerolinecolor\":\"white\"},\"yaxis\":{\"backgroundcolor\":\"#E5ECF6\",\"gridcolor\":\"white\",\"gridwidth\":2,\"linecolor\":\"white\",\"showbackground\":true,\"ticks\":\"\",\"zerolinecolor\":\"white\"},\"zaxis\":{\"backgroundcolor\":\"#E5ECF6\",\"gridcolor\":\"white\",\"gridwidth\":2,\"linecolor\":\"white\",\"showbackground\":true,\"ticks\":\"\",\"zerolinecolor\":\"white\"}},\"shapedefaults\":{\"line\":{\"color\":\"#2a3f5f\"}},\"ternary\":{\"aaxis\":{\"gridcolor\":\"white\",\"linecolor\":\"white\",\"ticks\":\"\"},\"baxis\":{\"gridcolor\":\"white\",\"linecolor\":\"white\",\"ticks\":\"\"},\"bgcolor\":\"#E5ECF6\",\"caxis\":{\"gridcolor\":\"white\",\"linecolor\":\"white\",\"ticks\":\"\"}},\"title\":{\"x\":0.05},\"xaxis\":{\"automargin\":true,\"gridcolor\":\"white\",\"linecolor\":\"white\",\"ticks\":\"\",\"title\":{\"standoff\":15},\"zerolinecolor\":\"white\",\"zerolinewidth\":2},\"yaxis\":{\"automargin\":true,\"gridcolor\":\"white\",\"linecolor\":\"white\",\"ticks\":\"\",\"title\":{\"standoff\":15},\"zerolinecolor\":\"white\",\"zerolinewidth\":2}}},\"xaxis\":{\"anchor\":\"y\",\"domain\":[0.0,1.0],\"title\":{\"text\":\"Percentage (%)\"}},\"yaxis\":{\"anchor\":\"x\",\"domain\":[0.0,1.0],\"title\":{\"text\":\"Columns\"}},\"legend\":{\"tracegroupgap\":0},\"margin\":{\"t\":60},\"barmode\":\"relative\"},                        {\"responsive\": true}                    ).then(function(){\n",
              "                            \n",
              "var gd = document.getElementById('2a2b2487-61e3-4c52-b8c4-d7ac740d7342');\n",
              "var x = new MutationObserver(function (mutations, observer) {{\n",
              "        var display = window.getComputedStyle(gd).display;\n",
              "        if (!display || display === 'none') {{\n",
              "            console.log([gd, 'removed!']);\n",
              "            Plotly.purge(gd);\n",
              "            observer.disconnect();\n",
              "        }}\n",
              "}});\n",
              "\n",
              "// Listen for the removal of the full notebook cells\n",
              "var notebookContainer = gd.closest('#notebook-container');\n",
              "if (notebookContainer) {{\n",
              "    x.observe(notebookContainer, {childList: true});\n",
              "}}\n",
              "\n",
              "// Listen for the clearing of the current output cell\n",
              "var outputEl = gd.closest('.output');\n",
              "if (outputEl) {{\n",
              "    x.observe(outputEl, {childList: true});\n",
              "}}\n",
              "\n",
              "                        })                };                            </script>        </div>\n",
              "</body>\n",
              "</html>"
            ]
          },
          "metadata": {}
        }
      ]
    },
    {
      "cell_type": "markdown",
      "source": [
        "- We can see that the Number column has over 60% data missing (61,29003%), Precipitation(in) and Wind_Chill(F) also have over 15% data missing. Since, Number column (which shows the street number) has majority of the data missing, we should drop it."
      ],
      "metadata": {
        "id": "LD550UuM7Wv8"
      }
    },
    {
      "cell_type": "code",
      "source": [
        "df = df.drop(\"Number\", axis=1)"
      ],
      "metadata": {
        "id": "t88rGsSzVmt5"
      },
      "execution_count": 15,
      "outputs": []
    },
    {
      "cell_type": "markdown",
      "metadata": {
        "id": "WKit4cW8I0Y9"
      },
      "source": [
        "## Exploratory Analysis and Visualization\n",
        "\n",
        "Columnscwe'll analyze:\n",
        "\n",
        "1. City\n",
        "2. Start Time\n",
        "3. Start Lat, Start Lng\n",
        "4. Tempeture\n",
        "5. Weather Condition"
      ]
    },
    {
      "cell_type": "markdown",
      "source": [
        "### City\n",
        "\n",
        "1. Which city in US has reported the most number of accident cases?"
      ],
      "metadata": {
        "id": "p8VkDxhjTXyk"
      }
    },
    {
      "cell_type": "code",
      "execution_count": 16,
      "metadata": {
        "id": "cxjRxpxoI5a7",
        "colab": {
          "base_uri": "https://localhost:8080/"
        },
        "outputId": "93227879-25da-486f-f310-ebf34f42e628"
      },
      "outputs": [
        {
          "output_type": "execute_result",
          "data": {
            "text/plain": [
              "0               Dublin\n",
              "1               Dayton\n",
              "2           Cincinnati\n",
              "3                Akron\n",
              "4           Cincinnati\n",
              "              ...     \n",
              "2845337      Riverside\n",
              "2845338      San Diego\n",
              "2845339         Orange\n",
              "2845340    Culver City\n",
              "2845341       Highland\n",
              "Name: City, Length: 2845342, dtype: object"
            ]
          },
          "metadata": {},
          "execution_count": 16
        }
      ],
      "source": [
        "df.City"
      ]
    },
    {
      "cell_type": "code",
      "execution_count": 17,
      "metadata": {
        "id": "hbclt1VWI5dn",
        "colab": {
          "base_uri": "https://localhost:8080/"
        },
        "outputId": "a71eb1dd-1245-416d-8fc7-0ceb5db81826"
      },
      "outputs": [
        {
          "output_type": "execute_result",
          "data": {
            "text/plain": [
              "11682"
            ]
          },
          "metadata": {},
          "execution_count": 17
        }
      ],
      "source": [
        "cities = df.City.unique()\n",
        "len(cities)"
      ]
    },
    {
      "cell_type": "code",
      "execution_count": 18,
      "metadata": {
        "id": "9PLguOhAI5hX"
      },
      "outputs": [],
      "source": [
        "cities_by_accident = df.City.value_counts()\n",
        "cities_by_accidentt = cities_by_accident[cities_by_accident>10000]"
      ]
    },
    {
      "cell_type": "code",
      "source": [
        "cities_by_accidentt = pd.DataFrame(cities_by_accidentt).reset_index()\n",
        "cities_by_accidentt.columns = ['City', 'Accidents']\n",
        "type(cities_by_accident)"
      ],
      "metadata": {
        "colab": {
          "base_uri": "https://localhost:8080/"
        },
        "id": "UVdFd3WXcvBY",
        "outputId": "5ea674b9-64f7-42c6-cb51-d518d0e61aa7"
      },
      "execution_count": 19,
      "outputs": [
        {
          "output_type": "execute_result",
          "data": {
            "text/plain": [
              "pandas.core.series.Series"
            ]
          },
          "metadata": {},
          "execution_count": 19
        }
      ]
    },
    {
      "cell_type": "code",
      "source": [
        "px.bar(cities_by_accidentt, x='Accidents', y='City', orientation='h')"
      ],
      "metadata": {
        "colab": {
          "base_uri": "https://localhost:8080/",
          "height": 542
        },
        "id": "SCB_Ie-JcogQ",
        "outputId": "96000c03-6491-42b1-ba01-9cf60c0ea10e"
      },
      "execution_count": 20,
      "outputs": [
        {
          "output_type": "display_data",
          "data": {
            "text/html": [
              "<html>\n",
              "<head><meta charset=\"utf-8\" /></head>\n",
              "<body>\n",
              "    <div>            <script src=\"https://cdnjs.cloudflare.com/ajax/libs/mathjax/2.7.5/MathJax.js?config=TeX-AMS-MML_SVG\"></script><script type=\"text/javascript\">if (window.MathJax) {MathJax.Hub.Config({SVG: {font: \"STIX-Web\"}});}</script>                <script type=\"text/javascript\">window.PlotlyConfig = {MathJaxConfig: 'local'};</script>\n",
              "        <script src=\"https://cdn.plot.ly/plotly-2.8.3.min.js\"></script>                <div id=\"aa91257a-0946-4d00-aaa3-a9a47d937a66\" class=\"plotly-graph-div\" style=\"height:525px; width:100%;\"></div>            <script type=\"text/javascript\">                                    window.PLOTLYENV=window.PLOTLYENV || {};                                    if (document.getElementById(\"aa91257a-0946-4d00-aaa3-a9a47d937a66\")) {                    Plotly.newPlot(                        \"aa91257a-0946-4d00-aaa3-a9a47d937a66\",                        [{\"alignmentgroup\":\"True\",\"hovertemplate\":\"Accidents=%{x}<br>City=%{y}<extra></extra>\",\"legendgroup\":\"\",\"marker\":{\"color\":\"#636efa\",\"pattern\":{\"shape\":\"\"}},\"name\":\"\",\"offsetgroup\":\"\",\"orientation\":\"h\",\"showlegend\":false,\"textposition\":\"auto\",\"x\":[106966,68956,54691,41979,39448,33152,32559,26627,22840,22768,20944,20267,18301,18182,17143,16869,16251,15622,14967,14349,13799,13377,13310,13298,12044,11249,11188,10984,10709,10538,10502,10398,10345,10051],\"xaxis\":\"x\",\"y\":[\"Miami\",\"Los Angeles\",\"Orlando\",\"Dallas\",\"Houston\",\"Charlotte\",\"Sacramento\",\"San Diego\",\"Raleigh\",\"Minneapolis\",\"Portland\",\"Nashville\",\"Austin\",\"Baton Rouge\",\"Phoenix\",\"Saint Paul\",\"New Orleans\",\"Atlanta\",\"Jacksonville\",\"Richmond\",\"Tucson\",\"San Jose\",\"Riverside\",\"Kansas City\",\"Bakersfield\",\"San Bernardino\",\"Chicago\",\"Tampa\",\"Salt Lake City\",\"Ontario\",\"Anaheim\",\"Hialeah\",\"Fort Lauderdale\",\"Oakland\"],\"yaxis\":\"y\",\"type\":\"bar\"}],                        {\"template\":{\"data\":{\"bar\":[{\"error_x\":{\"color\":\"#2a3f5f\"},\"error_y\":{\"color\":\"#2a3f5f\"},\"marker\":{\"line\":{\"color\":\"#E5ECF6\",\"width\":0.5},\"pattern\":{\"fillmode\":\"overlay\",\"size\":10,\"solidity\":0.2}},\"type\":\"bar\"}],\"barpolar\":[{\"marker\":{\"line\":{\"color\":\"#E5ECF6\",\"width\":0.5},\"pattern\":{\"fillmode\":\"overlay\",\"size\":10,\"solidity\":0.2}},\"type\":\"barpolar\"}],\"carpet\":[{\"aaxis\":{\"endlinecolor\":\"#2a3f5f\",\"gridcolor\":\"white\",\"linecolor\":\"white\",\"minorgridcolor\":\"white\",\"startlinecolor\":\"#2a3f5f\"},\"baxis\":{\"endlinecolor\":\"#2a3f5f\",\"gridcolor\":\"white\",\"linecolor\":\"white\",\"minorgridcolor\":\"white\",\"startlinecolor\":\"#2a3f5f\"},\"type\":\"carpet\"}],\"choropleth\":[{\"colorbar\":{\"outlinewidth\":0,\"ticks\":\"\"},\"type\":\"choropleth\"}],\"contour\":[{\"colorbar\":{\"outlinewidth\":0,\"ticks\":\"\"},\"colorscale\":[[0.0,\"#0d0887\"],[0.1111111111111111,\"#46039f\"],[0.2222222222222222,\"#7201a8\"],[0.3333333333333333,\"#9c179e\"],[0.4444444444444444,\"#bd3786\"],[0.5555555555555556,\"#d8576b\"],[0.6666666666666666,\"#ed7953\"],[0.7777777777777778,\"#fb9f3a\"],[0.8888888888888888,\"#fdca26\"],[1.0,\"#f0f921\"]],\"type\":\"contour\"}],\"contourcarpet\":[{\"colorbar\":{\"outlinewidth\":0,\"ticks\":\"\"},\"type\":\"contourcarpet\"}],\"heatmap\":[{\"colorbar\":{\"outlinewidth\":0,\"ticks\":\"\"},\"colorscale\":[[0.0,\"#0d0887\"],[0.1111111111111111,\"#46039f\"],[0.2222222222222222,\"#7201a8\"],[0.3333333333333333,\"#9c179e\"],[0.4444444444444444,\"#bd3786\"],[0.5555555555555556,\"#d8576b\"],[0.6666666666666666,\"#ed7953\"],[0.7777777777777778,\"#fb9f3a\"],[0.8888888888888888,\"#fdca26\"],[1.0,\"#f0f921\"]],\"type\":\"heatmap\"}],\"heatmapgl\":[{\"colorbar\":{\"outlinewidth\":0,\"ticks\":\"\"},\"colorscale\":[[0.0,\"#0d0887\"],[0.1111111111111111,\"#46039f\"],[0.2222222222222222,\"#7201a8\"],[0.3333333333333333,\"#9c179e\"],[0.4444444444444444,\"#bd3786\"],[0.5555555555555556,\"#d8576b\"],[0.6666666666666666,\"#ed7953\"],[0.7777777777777778,\"#fb9f3a\"],[0.8888888888888888,\"#fdca26\"],[1.0,\"#f0f921\"]],\"type\":\"heatmapgl\"}],\"histogram\":[{\"marker\":{\"pattern\":{\"fillmode\":\"overlay\",\"size\":10,\"solidity\":0.2}},\"type\":\"histogram\"}],\"histogram2d\":[{\"colorbar\":{\"outlinewidth\":0,\"ticks\":\"\"},\"colorscale\":[[0.0,\"#0d0887\"],[0.1111111111111111,\"#46039f\"],[0.2222222222222222,\"#7201a8\"],[0.3333333333333333,\"#9c179e\"],[0.4444444444444444,\"#bd3786\"],[0.5555555555555556,\"#d8576b\"],[0.6666666666666666,\"#ed7953\"],[0.7777777777777778,\"#fb9f3a\"],[0.8888888888888888,\"#fdca26\"],[1.0,\"#f0f921\"]],\"type\":\"histogram2d\"}],\"histogram2dcontour\":[{\"colorbar\":{\"outlinewidth\":0,\"ticks\":\"\"},\"colorscale\":[[0.0,\"#0d0887\"],[0.1111111111111111,\"#46039f\"],[0.2222222222222222,\"#7201a8\"],[0.3333333333333333,\"#9c179e\"],[0.4444444444444444,\"#bd3786\"],[0.5555555555555556,\"#d8576b\"],[0.6666666666666666,\"#ed7953\"],[0.7777777777777778,\"#fb9f3a\"],[0.8888888888888888,\"#fdca26\"],[1.0,\"#f0f921\"]],\"type\":\"histogram2dcontour\"}],\"mesh3d\":[{\"colorbar\":{\"outlinewidth\":0,\"ticks\":\"\"},\"type\":\"mesh3d\"}],\"parcoords\":[{\"line\":{\"colorbar\":{\"outlinewidth\":0,\"ticks\":\"\"}},\"type\":\"parcoords\"}],\"pie\":[{\"automargin\":true,\"type\":\"pie\"}],\"scatter\":[{\"marker\":{\"colorbar\":{\"outlinewidth\":0,\"ticks\":\"\"}},\"type\":\"scatter\"}],\"scatter3d\":[{\"line\":{\"colorbar\":{\"outlinewidth\":0,\"ticks\":\"\"}},\"marker\":{\"colorbar\":{\"outlinewidth\":0,\"ticks\":\"\"}},\"type\":\"scatter3d\"}],\"scattercarpet\":[{\"marker\":{\"colorbar\":{\"outlinewidth\":0,\"ticks\":\"\"}},\"type\":\"scattercarpet\"}],\"scattergeo\":[{\"marker\":{\"colorbar\":{\"outlinewidth\":0,\"ticks\":\"\"}},\"type\":\"scattergeo\"}],\"scattergl\":[{\"marker\":{\"colorbar\":{\"outlinewidth\":0,\"ticks\":\"\"}},\"type\":\"scattergl\"}],\"scattermapbox\":[{\"marker\":{\"colorbar\":{\"outlinewidth\":0,\"ticks\":\"\"}},\"type\":\"scattermapbox\"}],\"scatterpolar\":[{\"marker\":{\"colorbar\":{\"outlinewidth\":0,\"ticks\":\"\"}},\"type\":\"scatterpolar\"}],\"scatterpolargl\":[{\"marker\":{\"colorbar\":{\"outlinewidth\":0,\"ticks\":\"\"}},\"type\":\"scatterpolargl\"}],\"scatterternary\":[{\"marker\":{\"colorbar\":{\"outlinewidth\":0,\"ticks\":\"\"}},\"type\":\"scatterternary\"}],\"surface\":[{\"colorbar\":{\"outlinewidth\":0,\"ticks\":\"\"},\"colorscale\":[[0.0,\"#0d0887\"],[0.1111111111111111,\"#46039f\"],[0.2222222222222222,\"#7201a8\"],[0.3333333333333333,\"#9c179e\"],[0.4444444444444444,\"#bd3786\"],[0.5555555555555556,\"#d8576b\"],[0.6666666666666666,\"#ed7953\"],[0.7777777777777778,\"#fb9f3a\"],[0.8888888888888888,\"#fdca26\"],[1.0,\"#f0f921\"]],\"type\":\"surface\"}],\"table\":[{\"cells\":{\"fill\":{\"color\":\"#EBF0F8\"},\"line\":{\"color\":\"white\"}},\"header\":{\"fill\":{\"color\":\"#C8D4E3\"},\"line\":{\"color\":\"white\"}},\"type\":\"table\"}]},\"layout\":{\"annotationdefaults\":{\"arrowcolor\":\"#2a3f5f\",\"arrowhead\":0,\"arrowwidth\":1},\"autotypenumbers\":\"strict\",\"coloraxis\":{\"colorbar\":{\"outlinewidth\":0,\"ticks\":\"\"}},\"colorscale\":{\"diverging\":[[0,\"#8e0152\"],[0.1,\"#c51b7d\"],[0.2,\"#de77ae\"],[0.3,\"#f1b6da\"],[0.4,\"#fde0ef\"],[0.5,\"#f7f7f7\"],[0.6,\"#e6f5d0\"],[0.7,\"#b8e186\"],[0.8,\"#7fbc41\"],[0.9,\"#4d9221\"],[1,\"#276419\"]],\"sequential\":[[0.0,\"#0d0887\"],[0.1111111111111111,\"#46039f\"],[0.2222222222222222,\"#7201a8\"],[0.3333333333333333,\"#9c179e\"],[0.4444444444444444,\"#bd3786\"],[0.5555555555555556,\"#d8576b\"],[0.6666666666666666,\"#ed7953\"],[0.7777777777777778,\"#fb9f3a\"],[0.8888888888888888,\"#fdca26\"],[1.0,\"#f0f921\"]],\"sequentialminus\":[[0.0,\"#0d0887\"],[0.1111111111111111,\"#46039f\"],[0.2222222222222222,\"#7201a8\"],[0.3333333333333333,\"#9c179e\"],[0.4444444444444444,\"#bd3786\"],[0.5555555555555556,\"#d8576b\"],[0.6666666666666666,\"#ed7953\"],[0.7777777777777778,\"#fb9f3a\"],[0.8888888888888888,\"#fdca26\"],[1.0,\"#f0f921\"]]},\"colorway\":[\"#636efa\",\"#EF553B\",\"#00cc96\",\"#ab63fa\",\"#FFA15A\",\"#19d3f3\",\"#FF6692\",\"#B6E880\",\"#FF97FF\",\"#FECB52\"],\"font\":{\"color\":\"#2a3f5f\"},\"geo\":{\"bgcolor\":\"white\",\"lakecolor\":\"white\",\"landcolor\":\"#E5ECF6\",\"showlakes\":true,\"showland\":true,\"subunitcolor\":\"white\"},\"hoverlabel\":{\"align\":\"left\"},\"hovermode\":\"closest\",\"mapbox\":{\"style\":\"light\"},\"paper_bgcolor\":\"white\",\"plot_bgcolor\":\"#E5ECF6\",\"polar\":{\"angularaxis\":{\"gridcolor\":\"white\",\"linecolor\":\"white\",\"ticks\":\"\"},\"bgcolor\":\"#E5ECF6\",\"radialaxis\":{\"gridcolor\":\"white\",\"linecolor\":\"white\",\"ticks\":\"\"}},\"scene\":{\"xaxis\":{\"backgroundcolor\":\"#E5ECF6\",\"gridcolor\":\"white\",\"gridwidth\":2,\"linecolor\":\"white\",\"showbackground\":true,\"ticks\":\"\",\"zerolinecolor\":\"white\"},\"yaxis\":{\"backgroundcolor\":\"#E5ECF6\",\"gridcolor\":\"white\",\"gridwidth\":2,\"linecolor\":\"white\",\"showbackground\":true,\"ticks\":\"\",\"zerolinecolor\":\"white\"},\"zaxis\":{\"backgroundcolor\":\"#E5ECF6\",\"gridcolor\":\"white\",\"gridwidth\":2,\"linecolor\":\"white\",\"showbackground\":true,\"ticks\":\"\",\"zerolinecolor\":\"white\"}},\"shapedefaults\":{\"line\":{\"color\":\"#2a3f5f\"}},\"ternary\":{\"aaxis\":{\"gridcolor\":\"white\",\"linecolor\":\"white\",\"ticks\":\"\"},\"baxis\":{\"gridcolor\":\"white\",\"linecolor\":\"white\",\"ticks\":\"\"},\"bgcolor\":\"#E5ECF6\",\"caxis\":{\"gridcolor\":\"white\",\"linecolor\":\"white\",\"ticks\":\"\"}},\"title\":{\"x\":0.05},\"xaxis\":{\"automargin\":true,\"gridcolor\":\"white\",\"linecolor\":\"white\",\"ticks\":\"\",\"title\":{\"standoff\":15},\"zerolinecolor\":\"white\",\"zerolinewidth\":2},\"yaxis\":{\"automargin\":true,\"gridcolor\":\"white\",\"linecolor\":\"white\",\"ticks\":\"\",\"title\":{\"standoff\":15},\"zerolinecolor\":\"white\",\"zerolinewidth\":2}}},\"xaxis\":{\"anchor\":\"y\",\"domain\":[0.0,1.0],\"title\":{\"text\":\"Accidents\"}},\"yaxis\":{\"anchor\":\"x\",\"domain\":[0.0,1.0],\"title\":{\"text\":\"City\"}},\"legend\":{\"tracegroupgap\":0},\"margin\":{\"t\":60},\"barmode\":\"relative\"},                        {\"responsive\": true}                    ).then(function(){\n",
              "                            \n",
              "var gd = document.getElementById('aa91257a-0946-4d00-aaa3-a9a47d937a66');\n",
              "var x = new MutationObserver(function (mutations, observer) {{\n",
              "        var display = window.getComputedStyle(gd).display;\n",
              "        if (!display || display === 'none') {{\n",
              "            console.log([gd, 'removed!']);\n",
              "            Plotly.purge(gd);\n",
              "            observer.disconnect();\n",
              "        }}\n",
              "}});\n",
              "\n",
              "// Listen for the removal of the full notebook cells\n",
              "var notebookContainer = gd.closest('#notebook-container');\n",
              "if (notebookContainer) {{\n",
              "    x.observe(notebookContainer, {childList: true});\n",
              "}}\n",
              "\n",
              "// Listen for the clearing of the current output cell\n",
              "var outputEl = gd.closest('.output');\n",
              "if (outputEl) {{\n",
              "    x.observe(outputEl, {childList: true});\n",
              "}}\n",
              "\n",
              "                        })                };                            </script>        </div>\n",
              "</body>\n",
              "</html>"
            ]
          },
          "metadata": {}
        }
      ]
    },
    {
      "cell_type": "code",
      "source": [
        "plt.figure(figsize=(15,8))\n",
        "plt.xlabel('\\n City \\n', fontsize=15, color='grey')\n",
        "plt.ylabel('\\nAccident Cases\\n', fontsize=15, color='grey')\n",
        "plt.xticks(fontsize=13)\n",
        "plt.yticks(fontsize=12)\n",
        "sns.histplot(df.City.value_counts(),log_scale=True,color=\"grey\")\n",
        "sns.histplot(cities_by_accident, log_scale=True)\n",
        "plt.show()"
      ],
      "metadata": {
        "colab": {
          "base_uri": "https://localhost:8080/",
          "height": 543
        },
        "id": "VocqR1-c7dsy",
        "outputId": "69eedfd5-05f1-4d79-a3b0-df70033d55ee"
      },
      "execution_count": 21,
      "outputs": [
        {
          "output_type": "display_data",
          "data": {
            "text/plain": [
              "<Figure size 1080x576 with 1 Axes>"
            ],
            "image/png": "[encoded data removed]"
          },
          "metadata": {
            "needs_background": "light"
          }
        }
      ]
    },
    {
      "cell_type": "markdown",
      "source": [
        "No of accidents in cities are exponentially decreasing. We see large accounts near to 1, possibly because of not data recorded there.\n",
        "\n",
        "We have 1167 cities which recorded only 1 accident case, this is another data source drawback."
      ],
      "metadata": {
        "id": "qYjcjCNYjruN"
      }
    },
    {
      "cell_type": "code",
      "source": [
        "cities_by_accident[cities_by_accident == 1]"
      ],
      "metadata": {
        "id": "94Fv0uxw3bwa",
        "colab": {
          "base_uri": "https://localhost:8080/"
        },
        "outputId": "110be9d4-13a5-401e-a0c0-efe1e3a9cac0"
      },
      "execution_count": 22,
      "outputs": [
        {
          "output_type": "execute_result",
          "data": {
            "text/plain": [
              "Carney                          1\n",
              "Waverly Hall                    1\n",
              "Center Sandwich                 1\n",
              "Glen Flora                      1\n",
              "Sulphur Springs                 1\n",
              "                               ..\n",
              "Ridgedale                       1\n",
              "Sekiu                           1\n",
              "Wooldridge                      1\n",
              "Bullock                         1\n",
              "American Fork-Pleasant Grove    1\n",
              "Name: City, Length: 1110, dtype: int64"
            ]
          },
          "metadata": {},
          "execution_count": 22
        }
      ]
    },
    {
      "cell_type": "markdown",
      "source": [
        "### Start Time"
      ],
      "metadata": {
        "id": "qmsSQUiTTS22"
      }
    },
    {
      "cell_type": "code",
      "source": [
        "df.Start_Time"
      ],
      "metadata": {
        "id": "yZyUpfyX3b2-",
        "colab": {
          "base_uri": "https://localhost:8080/"
        },
        "outputId": "46b5f11f-3bbe-410c-86d2-0770a07f97c1"
      },
      "execution_count": 23,
      "outputs": [
        {
          "output_type": "execute_result",
          "data": {
            "text/plain": [
              "0          2016-02-08 00:37:08\n",
              "1          2016-02-08 05:56:20\n",
              "2          2016-02-08 06:15:39\n",
              "3          2016-02-08 06:51:45\n",
              "4          2016-02-08 07:53:43\n",
              "                  ...         \n",
              "2845337    2019-08-23 18:03:25\n",
              "2845338    2019-08-23 19:11:30\n",
              "2845339    2019-08-23 19:00:21\n",
              "2845340    2019-08-23 19:00:21\n",
              "2845341    2019-08-23 18:52:06\n",
              "Name: Start_Time, Length: 2845342, dtype: object"
            ]
          },
          "metadata": {},
          "execution_count": 23
        }
      ]
    },
    {
      "cell_type": "code",
      "source": [
        "df.Start_Time[0]"
      ],
      "metadata": {
        "colab": {
          "base_uri": "https://localhost:8080/",
          "height": 35
        },
        "id": "pkl0rUoCTLEV",
        "outputId": "0fffe6eb-0eea-44cf-fc07-318e43046d67"
      },
      "execution_count": 24,
      "outputs": [
        {
          "output_type": "execute_result",
          "data": {
            "text/plain": [
              "'2016-02-08 00:37:08'"
            ],
            "application/vnd.google.colaboratory.intrinsic+json": {
              "type": "string"
            }
          },
          "metadata": {},
          "execution_count": 24
        }
      ]
    },
    {
      "cell_type": "code",
      "source": [
        "df.Start_Time = pd.to_datetime(df.Start_Time)"
      ],
      "metadata": {
        "id": "Yk9W1e3yTK-D"
      },
      "execution_count": 25,
      "outputs": []
    },
    {
      "cell_type": "markdown",
      "source": [
        "- Fiqure out how to show percentages"
      ],
      "metadata": {
        "id": "8IsXwzQsVvgD"
      }
    },
    {
      "cell_type": "code",
      "source": [
        "sns.distplot(df.Start_Time.dt.hour, bins=24, kde=False, norm_hist=True)"
      ],
      "metadata": {
        "colab": {
          "base_uri": "https://localhost:8080/",
          "height": 389
        },
        "id": "0LJVqhWjTl4j",
        "outputId": "26ce6322-fb06-4dcd-c8c1-847b38475fc5"
      },
      "execution_count": 26,
      "outputs": [
        {
          "output_type": "stream",
          "name": "stderr",
          "text": [
            "/usr/local/lib/python3.7/dist-packages/seaborn/distributions.py:2619: FutureWarning:\n",
            "\n",
            "`distplot` is a deprecated function and will be removed in a future version. Please adapt your code to use either `displot` (a figure-level function with similar flexibility) or `histplot` (an axes-level function for histograms).\n",
            "\n"
          ]
        },
        {
          "output_type": "execute_result",
          "data": {
            "text/plain": [
              "<matplotlib.axes._subplots.AxesSubplot at 0x7fc7a6d504d0>"
            ]
          },
          "metadata": {},
          "execution_count": 26
        },
        {
          "output_type": "display_data",
          "data": {
            "text/plain": [
              "<Figure size 432x288 with 1 Axes>"
            ],
            "image/png": "[encoded data removed]"
          },
          "metadata": {
            "needs_background": "light"
          }
        }
      ]
    },
    {
      "cell_type": "markdown",
      "source": [
        "- A high percentage of accidents occur between 14 pm to 19 pm"
      ],
      "metadata": {
        "id": "s8TUb1x3X0CV"
      }
    },
    {
      "cell_type": "code",
      "source": [
        "sns.distplot(df.Start_Time.dt.dayofweek, bins=7, kde=False, norm_hist=True)"
      ],
      "metadata": {
        "colab": {
          "base_uri": "https://localhost:8080/",
          "height": 389
        },
        "id": "05Dph2ejTl2F",
        "outputId": "122eb221-4921-478d-c6d6-dd318206c7db"
      },
      "execution_count": 27,
      "outputs": [
        {
          "output_type": "stream",
          "name": "stderr",
          "text": [
            "/usr/local/lib/python3.7/dist-packages/seaborn/distributions.py:2619: FutureWarning:\n",
            "\n",
            "`distplot` is a deprecated function and will be removed in a future version. Please adapt your code to use either `displot` (a figure-level function with similar flexibility) or `histplot` (an axes-level function for histograms).\n",
            "\n"
          ]
        },
        {
          "output_type": "execute_result",
          "data": {
            "text/plain": [
              "<matplotlib.axes._subplots.AxesSubplot at 0x7fc8130bf410>"
            ]
          },
          "metadata": {},
          "execution_count": 27
        },
        {
          "output_type": "display_data",
          "data": {
            "text/plain": [
              "<Figure size 432x288 with 1 Axes>"
            ],
            "image/png": "[encoded data removed]"
          },
          "metadata": {
            "needs_background": "light"
          }
        }
      ]
    },
    {
      "cell_type": "markdown",
      "source": [
        "Is the distibution of accidents by hour the same on weekends as on weekdays. "
      ],
      "metadata": {
        "id": "Dsl4qZpRZLQs"
      }
    },
    {
      "cell_type": "code",
      "source": [
        "sundays_start_time = df.Start_Time[df.Start_Time.dt.dayofweek == 6]\n",
        "sns.distplot(sundays_start_time.dt.hour, bins=24, kde=False, norm_hist=True)"
      ],
      "metadata": {
        "colab": {
          "base_uri": "https://localhost:8080/",
          "height": 389
        },
        "id": "jQ1neLrRTly-",
        "outputId": "82c8145b-db4a-4842-caad-bd4430d9fe34"
      },
      "execution_count": 28,
      "outputs": [
        {
          "output_type": "stream",
          "name": "stderr",
          "text": [
            "/usr/local/lib/python3.7/dist-packages/seaborn/distributions.py:2619: FutureWarning:\n",
            "\n",
            "`distplot` is a deprecated function and will be removed in a future version. Please adapt your code to use either `displot` (a figure-level function with similar flexibility) or `histplot` (an axes-level function for histograms).\n",
            "\n"
          ]
        },
        {
          "output_type": "execute_result",
          "data": {
            "text/plain": [
              "<matplotlib.axes._subplots.AxesSubplot at 0x7fc7a6baab90>"
            ]
          },
          "metadata": {},
          "execution_count": 28
        },
        {
          "output_type": "display_data",
          "data": {
            "text/plain": [
              "<Figure size 432x288 with 1 Axes>"
            ],
            "image/png": "[encoded data removed]"
          },
          "metadata": {
            "needs_background": "light"
          }
        }
      ]
    },
    {
      "cell_type": "code",
      "source": [
        "monday_start_time = df.Start_Time[df.Start_Time.dt.dayofweek == 0]\n",
        "sns.distplot(monday_start_time.dt.hour, bins=24, kde=False, norm_hist=True)"
      ],
      "metadata": {
        "colab": {
          "base_uri": "https://localhost:8080/",
          "height": 389
        },
        "id": "AtXw1I8ATltr",
        "outputId": "212cc554-1f80-4f25-d0b0-5ea472e6178f"
      },
      "execution_count": 29,
      "outputs": [
        {
          "output_type": "stream",
          "name": "stderr",
          "text": [
            "/usr/local/lib/python3.7/dist-packages/seaborn/distributions.py:2619: FutureWarning:\n",
            "\n",
            "`distplot` is a deprecated function and will be removed in a future version. Please adapt your code to use either `displot` (a figure-level function with similar flexibility) or `histplot` (an axes-level function for histograms).\n",
            "\n"
          ]
        },
        {
          "output_type": "execute_result",
          "data": {
            "text/plain": [
              "<matplotlib.axes._subplots.AxesSubplot at 0x7fc7a6adcbd0>"
            ]
          },
          "metadata": {},
          "execution_count": 29
        },
        {
          "output_type": "display_data",
          "data": {
            "text/plain": [
              "<Figure size 432x288 with 1 Axes>"
            ],
            "image/png": "[encoded data removed]"
          },
          "metadata": {
            "needs_background": "light"
          }
        }
      ]
    },
    {
      "cell_type": "markdown",
      "source": [
        "On Sundays, the peak occurs between 10 am and 17 pm, unlike weekday."
      ],
      "metadata": {
        "id": "hTHuyx-OaGMl"
      }
    },
    {
      "cell_type": "code",
      "source": [
        "df_2019 = df[df.Start_Time.dt.year == 2016]\n",
        "sns.distplot(df_2019.Start_Time.dt.month, bins=12, kde=False, norm_hist=True)"
      ],
      "metadata": {
        "colab": {
          "base_uri": "https://localhost:8080/",
          "height": 389
        },
        "id": "n8vRxGJPanxH",
        "outputId": "c82ddb7d-f196-44f9-a098-26c36bb97036"
      },
      "execution_count": 30,
      "outputs": [
        {
          "output_type": "stream",
          "name": "stderr",
          "text": [
            "/usr/local/lib/python3.7/dist-packages/seaborn/distributions.py:2619: FutureWarning:\n",
            "\n",
            "`distplot` is a deprecated function and will be removed in a future version. Please adapt your code to use either `displot` (a figure-level function with similar flexibility) or `histplot` (an axes-level function for histograms).\n",
            "\n"
          ]
        },
        {
          "output_type": "execute_result",
          "data": {
            "text/plain": [
              "<matplotlib.axes._subplots.AxesSubplot at 0x7fc7a69f9f10>"
            ]
          },
          "metadata": {},
          "execution_count": 30
        },
        {
          "output_type": "display_data",
          "data": {
            "text/plain": [
              "<Figure size 432x288 with 1 Axes>"
            ],
            "image/png": "[encoded data removed]"
          },
          "metadata": {
            "needs_background": "light"
          }
        }
      ]
    },
    {
      "cell_type": "markdown",
      "source": [
        "Can you explain the month-wise trend of accidents? \n",
        "\n",
        "- Much data is missing for 2016. Maybe even 2017."
      ],
      "metadata": {
        "id": "yw7DQwPwbknt"
      }
    },
    {
      "cell_type": "markdown",
      "source": [
        "## Start Latitude & Longitude"
      ],
      "metadata": {
        "id": "bG4JQHmQ992s"
      }
    },
    {
      "cell_type": "code",
      "source": [
        "df.Start_Lat"
      ],
      "metadata": {
        "colab": {
          "base_uri": "https://localhost:8080/"
        },
        "id": "WUuqFiA8anok",
        "outputId": "76194a59-f563-43b6-b342-da55e8c58b62"
      },
      "execution_count": 31,
      "outputs": [
        {
          "output_type": "execute_result",
          "data": {
            "text/plain": [
              "0          40.108910\n",
              "1          39.865420\n",
              "2          39.102660\n",
              "3          41.062130\n",
              "4          39.172393\n",
              "             ...    \n",
              "2845337    34.002480\n",
              "2845338    32.766960\n",
              "2845339    33.775450\n",
              "2845340    33.992460\n",
              "2845341    34.133930\n",
              "Name: Start_Lat, Length: 2845342, dtype: float64"
            ]
          },
          "metadata": {},
          "execution_count": 31
        }
      ]
    },
    {
      "cell_type": "code",
      "source": [
        "df.Start_Lng"
      ],
      "metadata": {
        "colab": {
          "base_uri": "https://localhost:8080/"
        },
        "id": "DL3to6LJ97_g",
        "outputId": "dcea8b01-3f60-4b1a-bf34-044bb9c66d4d"
      },
      "execution_count": 32,
      "outputs": [
        {
          "output_type": "execute_result",
          "data": {
            "text/plain": [
              "0          -83.092860\n",
              "1          -84.062800\n",
              "2          -84.524680\n",
              "3          -81.537840\n",
              "4          -84.492792\n",
              "              ...    \n",
              "2845337   -117.379360\n",
              "2845338   -117.148060\n",
              "2845339   -117.847790\n",
              "2845340   -118.403020\n",
              "2845341   -117.230920\n",
              "Name: Start_Lng, Length: 2845342, dtype: float64"
            ]
          },
          "metadata": {},
          "execution_count": 32
        }
      ]
    },
    {
      "cell_type": "code",
      "source": [
        "sample_df = df.sample(int(0.1 * len(df)))"
      ],
      "metadata": {
        "id": "_i0h8UNO979M"
      },
      "execution_count": 33,
      "outputs": []
    },
    {
      "cell_type": "code",
      "source": [
        "sns.scatterplot(x=sample_df.Start_Lng, y=sample_df.Start_Lat, size=0.001)"
      ],
      "metadata": {
        "colab": {
          "base_uri": "https://localhost:8080/",
          "height": 300
        },
        "id": "sxnU1qbl977A",
        "outputId": "33ac1926-0b1c-416d-c867-291b852daff1"
      },
      "execution_count": 34,
      "outputs": [
        {
          "output_type": "execute_result",
          "data": {
            "text/plain": [
              "<matplotlib.axes._subplots.AxesSubplot at 0x7fc7a69aa690>"
            ]
          },
          "metadata": {},
          "execution_count": 34
        },
        {
          "output_type": "display_data",
          "data": {
            "text/plain": [
              "<Figure size 432x288 with 1 Axes>"
            ],
            "image/png": "[encoded data removed]"
          },
          "metadata": {
            "needs_background": "light"
          }
        }
      ]
    },
    {
      "cell_type": "code",
      "source": [
        "import folium"
      ],
      "metadata": {
        "id": "ner-5gP497zd"
      },
      "execution_count": 35,
      "outputs": []
    },
    {
      "cell_type": "code",
      "source": [
        "lat, lon = df.Start_Lat[0], df.Start_Lng[0]\n",
        "lat, lon"
      ],
      "metadata": {
        "colab": {
          "base_uri": "https://localhost:8080/"
        },
        "id": "UnUiGMGTAcaz",
        "outputId": "51e0b4e5-464c-48bf-f48d-77125879dc65"
      },
      "execution_count": 36,
      "outputs": [
        {
          "output_type": "execute_result",
          "data": {
            "text/plain": [
              "(40.10891, -83.09286)"
            ]
          },
          "metadata": {},
          "execution_count": 36
        }
      ]
    },
    {
      "cell_type": "code",
      "source": [
        "for x in df[['Start_Lat', 'Start_Lng']].sample(100).iteritems():\n",
        "  print(x[1])"
      ],
      "metadata": {
        "colab": {
          "base_uri": "https://localhost:8080/"
        },
        "id": "_XxCuZTgBLxl",
        "outputId": "6ef385f4-8a91-4907-c02e-8d5e2df53faf"
      },
      "execution_count": 37,
      "outputs": [
        {
          "output_type": "stream",
          "name": "stdout",
          "text": [
            "1937243    45.253480\n",
            "1128509    40.351978\n",
            "1969145    43.059550\n",
            "1641393    34.934185\n",
            "668391     40.153774\n",
            "             ...    \n",
            "14329      29.499240\n",
            "339934     28.187199\n",
            "941023     34.797806\n",
            "409134     40.631829\n",
            "1676300    36.352968\n",
            "Name: Start_Lat, Length: 100, dtype: float64\n",
            "1937243    -92.889742\n",
            "1128509   -111.772338\n",
            "1969145    -83.897041\n",
            "1641393   -118.140549\n",
            "668391    -110.243221\n",
            "              ...    \n",
            "14329      -95.111670\n",
            "339934     -81.304362\n",
            "941023     -82.435910\n",
            "409134    -111.904646\n",
            "1676300   -119.044325\n",
            "Name: Start_Lng, Length: 100, dtype: float64\n"
          ]
        }
      ]
    },
    {
      "cell_type": "code",
      "source": [
        "zip(list(df.Start_Lat), list(df.Start_Lng))"
      ],
      "metadata": {
        "colab": {
          "base_uri": "https://localhost:8080/"
        },
        "id": "sM2SFY5xGihQ",
        "outputId": "8076641c-23b6-488a-fe3b-ae0b072c2f0e"
      },
      "execution_count": 38,
      "outputs": [
        {
          "output_type": "execute_result",
          "data": {
            "text/plain": [
              "<zip at 0x7fc7a4912140>"
            ]
          },
          "metadata": {},
          "execution_count": 38
        }
      ]
    },
    {
      "cell_type": "code",
      "source": [
        "from folium.plugins import HeatMap"
      ],
      "metadata": {
        "id": "OB0SZ_N4HAa1"
      },
      "execution_count": 39,
      "outputs": []
    },
    {
      "cell_type": "code",
      "source": [
        ""
      ],
      "metadata": {
        "id": "5yLd2foODMfn"
      },
      "execution_count": 39,
      "outputs": []
    },
    {
      "cell_type": "code",
      "source": [
        "sample_df = df.sample(int(0.001 * len(df)))\n",
        "lat_lon_pairs = zip(list(sample_df.Start_Lat), list(sample_df.Start_Lng))"
      ],
      "metadata": {
        "id": "bkbsORlGHPG6"
      },
      "execution_count": 40,
      "outputs": []
    },
    {
      "cell_type": "code",
      "source": [
        "map = folium.Map()\n",
        "HeatMap(lat_lon_pairs).add_to(map)\n",
        "map"
      ],
      "metadata": {
        "colab": {
          "base_uri": "https://localhost:8080/",
          "height": 952
        },
        "id": "tER3Qq-fanmG",
        "outputId": "4b1f5998-0a60-4df2-8a70-13c09b4c9455"
      },
      "execution_count": 41,
      "outputs": [
        {
          "output_type": "execute_result",
          "data": {
            "text/plain": [
              "<folium.folium.Map at 0x7fc7b36fbbd0>"
            ],
            "text/html": [
              "<div style=\"width:100%;\"><div style=\"position:relative;width:100%;height:0;padding-bottom:60%;\"><span style=\"color:#565656\">Make this Notebook Trusted to load map: File -> Trust Notebook</span><iframe src=\"about:blank\" style=\"position:absolute;width:100%;height:100%;left:0;top:0;border:none !important;\" data-html=%3C%21DOCTYPE%20html%3E%0A%3Chead%3E%20%20%20%20%0A%20%20%20%20%3Cmeta%20http-equiv%3D%22content-type%22%20content%3D%22text/html%3B%20charset%3DUTF-8%22%20/%3E%0A%20%20%20%20%3Cscript%3EL_PREFER_CANVAS%3Dfalse%3B%20L_NO_TOUCH%3Dfalse%3B%20L_DISABLE_3D%3Dfalse%3B%3C/script%3E%0A%20%20%20%20%3Cscript%20src%3D%22https%3A//cdn.jsdelivr.net/npm/leaflet%401.4.0/dist/leaflet.js%22%3E%3C/script%3E%0A%20%20%20%20%3Cscript%20src%3D%22https%3A//code.jquery.com/jquery-1.12.4.min.js%22%3E%3C/script%3E%0A%20%20%20%20%3Cscript%20src%3D%22https%3A//maxcdn.bootstrapcdn.com/bootstrap/3.2.0/js/bootstrap.min.js%22%3E%3C/script%3E%0A%20%20%20%20%3Cscript%20src%3D%22https%3A//cdnjs.cloudflare.com/ajax/libs/Leaflet.awesome-markers/2.0.2/leaflet.awesome-markers.js%22%3E%3C/script%3E%0A%20%20%20%20%3Clink%20rel%3D%22stylesheet%22%20href%3D%22https%3A//cdn.jsdelivr.net/npm/leaflet%401.4.0/dist/leaflet.css%22/%3E%0A%20%20%20%20%3Clink%20rel%3D%22stylesheet%22%20href%3D%22https%3A//maxcdn.bootstrapcdn.com/bootstrap/3.2.0/css/bootstrap.min.css%22/%3E%0A%20%20%20%20%3Clink%20rel%3D%22stylesheet%22%20href%3D%22https%3A//maxcdn.bootstrapcdn.com/bootstrap/3.2.0/css/bootstrap-theme.min.css%22/%3E%0A%20%20%20%20%3Clink%20rel%3D%22stylesheet%22%20href%3D%22https%3A//maxcdn.bootstrapcdn.com/font-awesome/4.6.3/css/font-awesome.min.css%22/%3E%0A%20%20%20%20%3Clink%20rel%3D%22stylesheet%22%20href%3D%22https%3A//cdnjs.cloudflare.com/ajax/libs/Leaflet.awesome-markers/2.0.2/leaflet.awesome-markers.css%22/%3E%0A%20%20%20%20%3Clink%20rel%3D%22stylesheet%22%20href%3D%22https%3A//rawcdn.githack.com/python-visualization/folium/master/folium/templates/leaflet.awesome.rotate.css%22/%3E%0A%20%20%20%20%3Cstyle%3Ehtml%2C%20body%20%7Bwidth%3A%20100%25%3Bheight%3A%20100%25%3Bmargin%3A%200%3Bpadding%3A%200%3B%7D%3C/style%3E%0A%20%20%20%20%3Cstyle%3E%23map%20%7Bposition%3Aabsolute%3Btop%3A0%3Bbottom%3A0%3Bright%3A0%3Bleft%3A0%3B%7D%3C/style%3E%0A%20%20%20%20%0A%20%20%20%20%3Cmeta%20name%3D%22viewport%22%20content%3D%22width%3Ddevice-width%2C%0A%20%20%20%20%20%20%20%20initial-scale%3D1.0%2C%20maximum-scale%3D1.0%2C%20user-scalable%3Dno%22%20/%3E%0A%20%20%20%20%3Cstyle%3E%23map_6ed56b05070343b6b061f277c3d0fa67%20%7B%0A%20%20%20%20%20%20%20%20position%3A%20relative%3B%0A%20%20%20%20%20%20%20%20width%3A%20100.0%25%3B%0A%20%20%20%20%20%20%20%20height%3A%20100.0%25%3B%0A%20%20%20%20%20%20%20%20left%3A%200.0%25%3B%0A%20%20%20%20%20%20%20%20top%3A%200.0%25%3B%0A%20%20%20%20%20%20%20%20%7D%0A%20%20%20%20%3C/style%3E%0A%20%20%20%20%3Cscript%20src%3D%22https%3A//leaflet.github.io/Leaflet.heat/dist/leaflet-heat.js%22%3E%3C/script%3E%0A%3C/head%3E%0A%3Cbody%3E%20%20%20%20%0A%20%20%20%20%0A%20%20%20%20%3Cdiv%20class%3D%22folium-map%22%20id%3D%22map_6ed56b05070343b6b061f277c3d0fa67%22%20%3E%3C/div%3E%0A%3C/body%3E%0A%3Cscript%3E%20%20%20%20%0A%20%20%20%20%0A%20%20%20%20%0A%20%20%20%20%20%20%20%20var%20bounds%20%3D%20null%3B%0A%20%20%20%20%0A%0A%20%20%20%20var%20map_6ed56b05070343b6b061f277c3d0fa67%20%3D%20L.map%28%0A%20%20%20%20%20%20%20%20%27map_6ed56b05070343b6b061f277c3d0fa67%27%2C%20%7B%0A%20%20%20%20%20%20%20%20center%3A%20%5B0%2C%200%5D%2C%0A%20%20%20%20%20%20%20%20zoom%3A%201%2C%0A%20%20%20%20%20%20%20%20maxBounds%3A%20bounds%2C%0A%20%20%20%20%20%20%20%20layers%3A%20%5B%5D%2C%0A%20%20%20%20%20%20%20%20worldCopyJump%3A%20false%2C%0A%20%20%20%20%20%20%20%20crs%3A%20L.CRS.EPSG3857%2C%0A%20%20%20%20%20%20%20%20zoomControl%3A%20true%2C%0A%20%20%20%20%20%20%20%20%7D%29%3B%0A%0A%0A%20%20%20%20%0A%20%20%20%20var%20tile_layer_92241ca2f488421ca619dd784d96e0b4%20%3D%20L.tileLayer%28%0A%20%20%20%20%20%20%20%20%27https%3A//%7Bs%7D.tile.openstreetmap.org/%7Bz%7D/%7Bx%7D/%7By%7D.png%27%2C%0A%20%20%20%20%20%20%20%20%7B%0A%20%20%20%20%20%20%20%20%22attribution%22%3A%20null%2C%0A%20%20%20%20%20%20%20%20%22detectRetina%22%3A%20false%2C%0A%20%20%20%20%20%20%20%20%22maxNativeZoom%22%3A%2018%2C%0A%20%20%20%20%20%20%20%20%22maxZoom%22%3A%2018%2C%0A%20%20%20%20%20%20%20%20%22minZoom%22%3A%200%2C%0A%20%20%20%20%20%20%20%20%22noWrap%22%3A%20false%2C%0A%20%20%20%20%20%20%20%20%22opacity%22%3A%201%2C%0A%20%20%20%20%20%20%20%20%22subdomains%22%3A%20%22abc%22%2C%0A%20%20%20%20%20%20%20%20%22tms%22%3A%20false%0A%7D%29.addTo%28map_6ed56b05070343b6b061f277c3d0fa67%29%3B%0A%20%20%20%20%0A%20%20%20%20%20%20%20%20%20%20%20%20var%20heat_map_4507b554744f48de95df38442db20de0%20%3D%20L.heatLayer%28%0A%20%20%20%20%20%20%20%20%20%20%20%20%20%20%20%20%5B%5B25.76972300000001%2C%20-80.33341300000002%5D%2C%20%5B36.12396500000001%2C%20-115.18079%5D%2C%20%5B34.067279%2C%20-117.513574%5D%2C%20%5B41.10552%2C%20-73.42583%5D%2C%20%5B36.254829%2C%20-119.808757%5D%2C%20%5B33.274741%2C%20-80.567314%5D%2C%20%5B40.725115%2C%20-111.544769%5D%2C%20%5B38.255891%2C%20-122.064636%5D%2C%20%5B40.699742%2C%20-111.88819%5D%2C%20%5B36.591667%2C%20-121.88%5D%2C%20%5B42.379037%2C%20-83.216965%5D%2C%20%5B37.059124%2C%20-78.950282%5D%2C%20%5B47.045854%2C%20-122.390507%5D%2C%20%5B33.925834%2C%20-118.212515%5D%2C%20%5B33.77451%2C%20-118.07468%5D%2C%20%5B33.774271%2C%20-118.078171%5D%2C%20%5B39.316388%2C%20-77.78214100000002%5D%2C%20%5B40.70396%2C%20-111.93896%5D%2C%20%5B32.434963%2C%20-93.713821%5D%2C%20%5B26.508006%2C%20-80.07431%5D%2C%20%5B35.88842%2C%20-78.51791300000002%5D%2C%20%5B32.36057%2C%20-95.292828%5D%2C%20%5B45.552639%2C%20-122.565079%5D%2C%20%5B33.263384%2C%20-117.158424%5D%2C%20%5B40.58584000000001%2C%20-75.59843000000002%5D%2C%20%5B38.575139%2C%20-121.379505%5D%2C%20%5B30.413969%2C%20-91.144893%5D%2C%20%5B37.683584%2C%20-97.312976%5D%2C%20%5B41.7149%2C%20-87.63618000000002%5D%2C%20%5B41.41756%2C%20-73.42023%5D%2C%20%5B33.72528%2C%20-84.90601%5D%2C%20%5B39.013041%2C%20-122.358866%5D%2C%20%5B25.889494%2C%20-80.16233199999998%5D%2C%20%5B26.203227%2C%20-80.144478%5D%2C%20%5B32.83373%2C%20-117.119205%5D%2C%20%5B33.876289%2C%20-118.100625%5D%2C%20%5B33.99631%2C%20-117.88842%5D%2C%20%5B33.759062%2C%20-118.02463799999998%5D%2C%20%5B37.957504%2C%20-78.26861%5D%2C%20%5B25.886303%2C%20-80.208988%5D%2C%20%5B25.778243%2C%20-80.336749%5D%2C%20%5B41.677401%2C%20-87.773319%5D%2C%20%5B26.120809%2C%20-80.228585%5D%2C%20%5B33.698405%2C%20-86.525756%5D%2C%20%5B32.910715%2C%20-96.881808%5D%2C%20%5B41.43675%2C%20-81.49905%5D%2C%20%5B39.041682%2C%20-122.774519%5D%2C%20%5B40.739375%2C%20-111.904238%5D%2C%20%5B25.833814%2C%20-80.233013%5D%2C%20%5B33.620360999999995%2C%20-117.267112%5D%2C%20%5B38.01907%2C%20-121.986483%5D%2C%20%5B39.67074%2C%20-86.09673599999998%5D%2C%20%5B34.092997%2C%20-118.206215%5D%2C%20%5B33.46237%2C%20-112.4812%5D%2C%20%5B34.095283%2C%20-80.963142%5D%2C%20%5B26.04815%2C%20-80.16229%5D%2C%20%5B37.410833%2C%20-122.075806%5D%2C%20%5B45.583465%2C%20-122.76816200000002%5D%2C%20%5B28.507964%2C%20-81.277725%5D%2C%20%5B25.732169%2C%20-80.380549%5D%2C%20%5B45.48004%2C%20-122.681998%5D%2C%20%5B32.7604%2C%20-117.19598%5D%2C%20%5B41.73330900000001%2C%20-87.818449%5D%2C%20%5B38.629528%2C%20-90.330458%5D%2C%20%5B41.040254%2C%20-73.581973%5D%2C%20%5B29.872917%2C%20-95.374568%5D%2C%20%5B26.408040000000003%2C%20-80.12156%5D%2C%20%5B40.135256%2C%20-111.646982%5D%2C%20%5B28.538959%2C%20-81.31318%5D%2C%20%5B44.251459%2C%20-94.390078%5D%2C%20%5B28.55374%2C%20-81.28595%5D%2C%20%5B45.3613%2C%20-122.76128%5D%2C%20%5B34.356447%2C%20-119.442095%5D%2C%20%5B42.70929%2C%20-123.36553%5D%2C%20%5B37.682366%2C%20-122.126172%5D%2C%20%5B36.691979%2C%20-119.051525%5D%2C%20%5B44.90135%2C%20-93.13599%5D%2C%20%5B42.359277%2C%20-122.904737%5D%2C%20%5B39.99771%2C%20-74.73382%5D%2C%20%5B35.090129%2C%20-85.218489%5D%2C%20%5B34.072197%2C%20-118.065723%5D%2C%20%5B34.080341%2C%20-117.627849%5D%2C%20%5B40.22498%2C%20-76.764409%5D%2C%20%5B33.921211%2C%20-86.36346%5D%2C%20%5B27.40495%2C%20-80.39881%5D%2C%20%5B39.624042%2C%20-122.178762%5D%2C%20%5B34.00473%2C%20-118.17285%5D%2C%20%5B34.736065999999994%2C%20-110.276298%5D%2C%20%5B38.120815%2C%20-120.49685%5D%2C%20%5B37.932198%2C%20-121.92303%5D%2C%20%5B29.78423%2C%20-95.53878%5D%2C%20%5B38.560302%2C%20-121.457306%5D%2C%20%5B32.835625%2C%20-96.822353%5D%2C%20%5B42.23214%2C%20-123.64234%5D%2C%20%5B32.619754%2C%20-110.806763%5D%2C%20%5B41.55562800000001%2C%20-72.87305%5D%2C%20%5B38.6293%2C%20-90.32311%5D%2C%20%5B33.738319%2C%20-117.82651%5D%2C%20%5B37.497786%2C%20-120.164433%5D%2C%20%5B45.53767%2C%20-122.37873%5D%2C%20%5B34.00015%2C%20-117.35263%5D%2C%20%5B34.12117%2C%20-117.83276%5D%2C%20%5B38.57977%2C%20-112.2941%5D%2C%20%5B28.11677%2C%20-82.54613%5D%2C%20%5B28.683842%2C%20-81.47630699999998%5D%2C%20%5B44.757022%2C%20-122.437164%5D%2C%20%5B47.56849%2C%20-122.32004%5D%2C%20%5B38.060106%2C%20-77.504028%5D%2C%20%5B43.106114%2C%20-77.446587%5D%2C%20%5B41.595413%2C%20-93.615244%5D%2C%20%5B42.379764%2C%20-88.166981%5D%2C%20%5B34.270606%2C%20-118.488446%5D%2C%20%5B25.782113%2C%20-80.36864200000002%5D%2C%20%5B34.069775%2C%20-118.236153%5D%2C%20%5B32.90315%2C%20-117.11618%5D%2C%20%5B38.902336%2C%20-94.678837%5D%2C%20%5B34.018939%2C%20-117.099386%5D%2C%20%5B39.60848%2C%20-119.73225%5D%2C%20%5B41.127935%2C%20-73.300781%5D%2C%20%5B34.577328%2C%20-82.697695%5D%2C%20%5B41.070975%2C%20-73.90271899999998%5D%2C%20%5B38.26758%2C%20-83.41918000000003%5D%2C%20%5B30.427872%2C%20-86.639059%5D%2C%20%5B47.61368%2C%20-122.19091%5D%2C%20%5B33.876717%2C%20-118.185972%5D%2C%20%5B33.91511%2C%20-93.60301%5D%2C%20%5B38.2496%2C%20-85.79826%5D%2C%20%5B42.36704%2C%20-83.05684000000002%5D%2C%20%5B44.574478000000006%2C%20-94.146903%5D%2C%20%5B38.918333%2C%20-76.971644%5D%2C%20%5B34.07046500000001%2C%20-117.396026%5D%2C%20%5B37.065541%2C%20-121.223586%5D%2C%20%5B34.825247999999995%2C%20-82.29551500000002%5D%2C%20%5B38.514336%2C%20-122.718669%5D%2C%20%5B25.850736%2C%20-80.209218%5D%2C%20%5B43.93946%2C%20-117.36352%5D%2C%20%5B27.589536%2C%20-82.24522900000002%5D%2C%20%5B43.02024%2C%20-87.91823000000002%5D%2C%20%5B34.068757%2C%20-118.042956%5D%2C%20%5B30.030094%2C%20-95.429188%5D%2C%20%5B34.23913%2C%20-118.47313%5D%2C%20%5B34.119812%2C%20-117.838615%5D%2C%20%5B40.410694%2C%20-111.507754%5D%2C%20%5B34.129672%2C%20-117.933631%5D%2C%20%5B45.10539%2C%20-118.98554%5D%2C%20%5B34.030247%2C%20-117.706853%5D%2C%20%5B38.596059%2C%20-121.406677%5D%2C%20%5B44.720209%2C%20-123.05457%5D%2C%20%5B34.025826%2C%20-118.249269%5D%2C%20%5B43.010777%2C%20-78.369437%5D%2C%20%5B37.878313%2C%20-122.526622%5D%2C%20%5B40.72985%2C%20-74.03874300000003%5D%2C%20%5B37.556326%2C%20-120.913076%5D%2C%20%5B35.045997%2C%20-81.141891%5D%2C%20%5B34.343027%2C%20-117.451645%5D%2C%20%5B36.948794%2C%20-120.048369%5D%2C%20%5B38.689759%2C%20-77.220332%5D%2C%20%5B42.300437%2C%20-88.164887%5D%2C%20%5B35.047916%2C%20-85.095993%5D%2C%20%5B29.96430100000001%2C%20-90.007798%5D%2C%20%5B42.798887%2C%20-73.764624%5D%2C%20%5B45.497292%2C%20-118.417328%5D%2C%20%5B42.294799%2C%20-84.0201%5D%2C%20%5B37.227579%2C%20-76.55970400000002%5D%2C%20%5B25.683607%2C%20-80.445937%5D%2C%20%5B38.524908%2C%20-121.460485%5D%2C%20%5B28.6979%2C%20-81.32725%5D%2C%20%5B34.160732%2C%20-118.633729%5D%2C%20%5B37.100006%2C%20-80.556483%5D%2C%20%5B38.916688%2C%20-77.00917700000002%5D%2C%20%5B37.945%2C%20-122.48458%5D%2C%20%5B35.158788%2C%20-92.577084%5D%2C%20%5B34.038994%2C%20-118.439912%5D%2C%20%5B35.50007%2C%20-94.355222%5D%2C%20%5B34.99316%2C%20-85.20723000000002%5D%2C%20%5B25.53348900000001%2C%20-80.36598199999997%5D%2C%20%5B28.575209%2C%20-81.451796%5D%2C%20%5B25.939197%2C%20-80.295275%5D%2C%20%5B45.66337%2C%20-121.89373%5D%2C%20%5B38.5614%2C%20-121.51485%5D%2C%20%5B35.44243%2C%20-80.86778000000002%5D%2C%20%5B40.862478%2C%20-73.90956700000002%5D%2C%20%5B37.37737%2C%20-121.94544%5D%2C%20%5B29.181616%2C%20-82.184663%5D%2C%20%5B33.1167%2C%20-87.13981%5D%2C%20%5B42.08908%2C%20-71.22243%5D%2C%20%5B43.805367%2C%20-121.436498%5D%2C%20%5B43.019576%2C%20-85.636439%5D%2C%20%5B40.936511%2C%20-79.362895%5D%2C%20%5B35.440573%2C%20-82.535763%5D%2C%20%5B42.351941%2C%20-88.00388000000002%5D%2C%20%5B27.924506%2C%20-80.60237099999998%5D%2C%20%5B29.583928000000004%2C%20-95.181117%5D%2C%20%5B25.705221%2C%20-80.291965%5D%2C%20%5B26.618917%2C%20-81.86784499999997%5D%2C%20%5B40.05403%2C%20-85.64724%5D%2C%20%5B40.666451%2C%20-74.181119%5D%2C%20%5B37.618313%2C%20-122.441922%5D%2C%20%5B45.522911%2C%20-123.890378%5D%2C%20%5B34.02912%2C%20-118.254991%5D%2C%20%5B42.678054%2C%20-84.651278%5D%2C%20%5B34.13966%2C%20-117.245624%5D%2C%20%5B34.282%2C%20-83.80754%5D%2C%20%5B37.70104%2C%20-121.812408%5D%2C%20%5B25.949522%2C%20-80.120855%5D%2C%20%5B40.68179%2C%20-74.00546999999997%5D%2C%20%5B41.256781%2C%20-122.030177%5D%2C%20%5B40.008978000000006%2C%20-75.068049%5D%2C%20%5B40.262092%2C%20-74.51218399999998%5D%2C%20%5B41.05518%2C%20-111.96108%5D%2C%20%5B32.274442%2C%20-81.080768%5D%2C%20%5B41.80862%2C%20-71.40475%5D%2C%20%5B33.959077%2C%20-117.309466%5D%2C%20%5B47.09636%2C%20-93.57778%5D%2C%20%5B38.5746%2C%20-121.381398%5D%2C%20%5B42.49931%2C%20-71.47296999999998%5D%2C%20%5B46.1019%2C%20-123.195867%5D%2C%20%5B26.535218%2C%20-81.871201%5D%2C%20%5B32.688572%2C%20-97.320978%5D%2C%20%5B28.079641%2C%20-82.73905500000002%5D%2C%20%5B27.761689%2C%20-82.666679%5D%2C%20%5B47.50091%2C%20-122.27491%5D%2C%20%5B35.005461%2C%20-82.024861%5D%2C%20%5B27.96228%2C%20-82.453362%5D%2C%20%5B32.833102000000004%2C%20-117.233079%5D%2C%20%5B39.70589%2C%20-75.58774%5D%2C%20%5B30.216912%2C%20-97.751203%5D%2C%20%5B41.8079%2C%20-88.07599%5D%2C%20%5B28.796534%2C%20-81.35415400000002%5D%2C%20%5B40.554875%2C%20-76.003633%5D%2C%20%5B33.572523%2C%20-81.740123%5D%2C%20%5B36.00862%2C%20-83.96976%5D%2C%20%5B41.821342%2C%20-77.575191%5D%2C%20%5B25.890198%2C%20-80.188048%5D%2C%20%5B40.64406%2C%20-74.66296700000002%5D%2C%20%5B35.006438%2C%20-80.85443599999998%5D%2C%20%5B38.35478300000001%2C%20-81.74925%5D%2C%20%5B42.518293%2C%20-83.676761%5D%2C%20%5B37.55332%2C%20-77.28914%5D%2C%20%5B42.283641%2C%20-73.75551899999998%5D%2C%20%5B36.075415%2C%20-95.916625%5D%2C%20%5B38.898722%2C%20-77.073608%5D%2C%20%5B33.74564%2C%20-84.34485%5D%2C%20%5B41.26371%2C%20-73.68411%5D%2C%20%5B45.021531%2C%20-95.22808%5D%2C%20%5B33.771914%2C%20-118.280022%5D%2C%20%5B39.9893%2C%20-85.93041%5D%2C%20%5B28.427064%2C%20-81.40480500000002%5D%2C%20%5B33.494890000000005%2C%20-112.13434%5D%2C%20%5B30.439645%2C%20-91.200141%5D%2C%20%5B44.254335%2C%20-95.957604%5D%2C%20%5B47.551641%2C%20-122.194279%5D%2C%20%5B33.933091%2C%20-117.893648%5D%2C%20%5B36.584752%2C%20-121.918869%5D%2C%20%5B38.025501%2C%20-122.73596%5D%2C%20%5B34.13537%2C%20-117.99238%5D%2C%20%5B27.85792%2C%20-82.66416%5D%2C%20%5B37.851669%2C%20-121.282931%5D%2C%20%5B38.628179%2C%20-121.345983%5D%2C%20%5B33.206463%2C%20-81.356254%5D%2C%20%5B37.20769%2C%20-121.98973%5D%2C%20%5B37.310793%2C%20-122.279553%5D%2C%20%5B41.831681%2C%20-88.016374%5D%2C%20%5B40.066287%2C%20-76.35809499999998%5D%2C%20%5B28.155008%2C%20-81.843863%5D%2C%20%5B38.646995%2C%20-121.40314%5D%2C%20%5B38.916074%2C%20-78.10377%5D%2C%20%5B34.488149%2C%20-118.136771%5D%2C%20%5B37.59662%2C%20-112.926546%5D%2C%20%5B43.312321%2C%20-121.76775%5D%2C%20%5B32.77947%2C%20-117.066334%5D%2C%20%5B29.975238%2C%20-90.039113%5D%2C%20%5B41.095057%2C%20-73.651217%5D%2C%20%5B41.517574%2C%20-73.975787%5D%2C%20%5B40.70891%2C%20-74.00075%5D%2C%20%5B43.886636%2C%20-123.022098%5D%2C%20%5B47.87301%2C%20-122.27375%5D%2C%20%5B45.325008%2C%20-93.847564%5D%2C%20%5B35.083859999999994%2C%20-118.158532%5D%2C%20%5B37.621959%2C%20-122.07768%5D%2C%20%5B36.759771%2C%20-119.749077%5D%2C%20%5B33.670783%2C%20-86.551285%5D%2C%20%5B26.542968%2C%20-81.852604%5D%2C%20%5B37.700362%2C%20-121.791865%5D%2C%20%5B32.87908%2C%20-80.02465%5D%2C%20%5B32.841171%2C%20-109.423624%5D%2C%20%5B37.251206%2C%20-121.830908%5D%2C%20%5B34.036559999999994%2C%20-81.110208%5D%2C%20%5B37.739444%2C%20-122.14311%5D%2C%20%5B31.74995%2C%20-106.32737%5D%2C%20%5B41.07525%2C%20-73.46636%5D%2C%20%5B33.765159999999995%2C%20-84.52149%5D%2C%20%5B37.783129%2C%20-121.238996%5D%2C%20%5B34.065309%2C%20-117.306679%5D%2C%20%5B34.047165%2C%20-118.214601%5D%2C%20%5B34.610254%2C%20-120.05454%5D%2C%20%5B47.798227%2C%20-121.978%5D%2C%20%5B40.090338%2C%20-75.414436%5D%2C%20%5B28.426086%2C%20-81.40479300000001%5D%2C%20%5B33.865881%2C%20-117.542023%5D%2C%20%5B34.291902%2C%20-118.411749%5D%2C%20%5B41.11535%2C%20-74.10847%5D%2C%20%5B39.520021%2C%20-119.869776%5D%2C%20%5B40.69922800000001%2C%20-73.983896%5D%2C%20%5B41.342371%2C%20-75.992562%5D%2C%20%5B38.423318%2C%20-78.880028%5D%2C%20%5B33.384568%2C%20-117.244923%5D%2C%20%5B37.83922000000001%2C%20-122.29694%5D%2C%20%5B40.837243%2C%20-73.880155%5D%2C%20%5B34.18692%2C%20-79.418838%5D%2C%20%5B38.87319%2C%20-77.092091%5D%2C%20%5B34.293819%2C%20-118.470198%5D%2C%20%5B32.881276%2C%20-96.683145%5D%2C%20%5B35.790778%2C%20-119.125203%5D%2C%20%5B33.719902000000005%2C%20-117.971983%5D%2C%20%5B39.344425%2C%20-76.49369300000002%5D%2C%20%5B41.178611%2C%20-73.17656099999998%5D%2C%20%5B42.739628%2C%20-123.371288%5D%2C%20%5B30.351621%2C%20-97.531973%5D%2C%20%5B41.251138%2C%20-122.136276%5D%2C%20%5B40.92783%2C%20-73.76879%5D%2C%20%5B34.815049%2C%20-118.170786%5D%2C%20%5B38.414844%2C%20-77.42766%5D%2C%20%5B28.445771%2C%20-81.470831%5D%2C%20%5B38.399228%2C%20-121.481619%5D%2C%20%5B43.16182%2C%20-77.62002%5D%2C%20%5B32.767017%2C%20-96.82278%5D%2C%20%5B33.859860999999995%2C%20-84.292825%5D%2C%20%5B33.710273%2C%20-78.915965%5D%2C%20%5B34.048658%2C%20-118.448184%5D%2C%20%5B38.9319%2C%20-94.52838%5D%2C%20%5B46.052069%2C%20-123.260294%5D%2C%20%5B35.92030399999999%2C%20-78.861161%5D%2C%20%5B35.847175%2C%20-78.57461500000002%5D%2C%20%5B39.237746%2C%20-94.505971%5D%2C%20%5B38.617886%2C%20-90.290983%5D%2C%20%5B25.891254%2C%20-80.186559%5D%2C%20%5B27.936367%2C%20-82.310249%5D%2C%20%5B45.255242%2C%20-123.163175%5D%2C%20%5B38.754132%2C%20-121.264053%5D%2C%20%5B33.922940000000004%2C%20-118.103695%5D%2C%20%5B42.385329%2C%20-87.963925%5D%2C%20%5B32.732918%2C%20-96.824602%5D%2C%20%5B43.65718%2C%20-123.86112%5D%2C%20%5B39.960143%2C%20-75.18078%5D%2C%20%5B35.227563%2C%20-93.16668%5D%2C%20%5B34.037%2C%20-118.37748%5D%2C%20%5B34.231541%2C%20-118.402061%5D%2C%20%5B37.33423%2C%20-122.0371%5D%2C%20%5B44.480238%2C%20-74.85113%5D%2C%20%5B46.15890200000001%2C%20-123.902948%5D%2C%20%5B35.34654000000001%2C%20-80.88542%5D%2C%20%5B38.591576%2C%20-90.214445%5D%2C%20%5B38.85079%2C%20-76.97221400000002%5D%2C%20%5B33.241308000000004%2C%20-117.22618500000002%5D%2C%20%5B42.953228%2C%20-121.826828%5D%2C%20%5B30.44262800000001%2C%20-91.138463%5D%2C%20%5B33.917079%2C%20-118.044428%5D%2C%20%5B39.32647%2C%20-76.52613000000002%5D%2C%20%5B43.094483%2C%20-76.049433%5D%2C%20%5B41.025949%2C%20-76.86802%5D%2C%20%5B42.275121%2C%20-84.38587199999998%5D%2C%20%5B38.462069%2C%20-77.40827900000002%5D%2C%20%5B32.809959%2C%20-96.654794%5D%2C%20%5B25.859355%2C%20-80.32967099999998%5D%2C%20%5B29.343173%2C%20-81.131066%5D%2C%20%5B36.45421%2C%20-119.49168600000002%5D%2C%20%5B38.125766%2C%20-81.388295%5D%2C%20%5B41.34608%2C%20-72.40065%5D%2C%20%5B37.765129%2C%20-77.46119%5D%2C%20%5B41.90238%2C%20-72.63655%5D%2C%20%5B34.07496%2C%20-117.396455%5D%2C%20%5B41.72328%2C%20-87.94363%5D%2C%20%5B30.439956%2C%20-91.205692%5D%2C%20%5B36.882844%2C%20-76.133676%5D%2C%20%5B25.905339%2C%20-80.292387%5D%2C%20%5B35.983711%2C%20-119.960049%5D%2C%20%5B40.418235%2C%20-79.02586600000002%5D%2C%20%5B39.841945%2C%20-75.763091%5D%2C%20%5B35.13496%2C%20-89.86786%5D%2C%20%5B33.180798%2C%20-81.35421600000002%5D%2C%20%5B25.949739%2C%20-80.43212%5D%2C%20%5B40.43148%2C%20-74.49047%5D%2C%20%5B33.649056%2C%20-117.738406%5D%2C%20%5B33.490074%2C%20-117.143919%5D%2C%20%5B31.04746%2C%20-83.39743%5D%2C%20%5B40.159031%2C%20-74.65710899999998%5D%2C%20%5B40.71772%2C%20-111.95335%5D%2C%20%5B45.373321%2C%20-92.890784%5D%2C%20%5B34.001853999999994%2C%20-117.834566%5D%2C%20%5B35.0878%2C%20-80.84525%5D%2C%20%5B43.042%2C%20-83.65597%5D%2C%20%5B33.924620000000004%2C%20-117.65534%5D%2C%20%5B34.067366%2C%20-117.563705%5D%2C%20%5B35.26154000000001%2C%20-80.87743%5D%2C%20%5B47.27873%2C%20-114.184213%5D%2C%20%5B43.717142%2C%20-123.213247%5D%2C%20%5B33.8242%2C%20-118.245747%5D%2C%20%5B38.69142100000001%2C%20-121.000816%5D%2C%20%5B30.523355%2C%20-87.273823%5D%2C%20%5B34.067713%2C%20-117.592109%5D%2C%20%5B30.517536%2C%20-87.246617%5D%2C%20%5B44.330501%2C%20-123.06091%5D%2C%20%5B38.551722%2C%20-121.4187%5D%2C%20%5B42.96232%2C%20-87.93866%5D%2C%20%5B34.02024%2C%20-118.18843%5D%2C%20%5B34.248856%2C%20-118.416785%5D%2C%20%5B40.683362%2C%20-73.64461%5D%2C%20%5B35.590024%2C%20-118.520395%5D%2C%20%5B34.086839000000005%2C%20-117.641444%5D%2C%20%5B30.26723%2C%20-82.75735999999998%5D%2C%20%5B37.51873%2C%20-77.26364000000002%5D%2C%20%5B33.860577%2C%20-118.28527%5D%2C%20%5B37.318041%2C%20-79.26011899999997%5D%2C%20%5B38.099694%2C%20-121.705514%5D%2C%20%5B46.89616%2C%20-114.039384%5D%2C%20%5B37.477584%2C%20-122.209937%5D%2C%20%5B41.84462%2C%20-87.94964%5D%2C%20%5B43.02599%2C%20-123.299657%5D%2C%20%5B41.93139%2C%20-87.98867%5D%2C%20%5B37.42192%2C%20-122.1823%5D%2C%20%5B26.149984%2C%20-80.168475%5D%2C%20%5B35.914167%2C%20-78.167649%5D%2C%20%5B34.012207000000004%2C%20-118.418266%5D%2C%20%5B41.55428%2C%20-72.8512%5D%2C%20%5B33.991144%2C%20-117.352094%5D%2C%20%5B27.893975%2C%20-82.692171%5D%2C%20%5B28.568657%2C%20-81.249208%5D%2C%20%5B35.083771%2C%20-85.188339%5D%2C%20%5B27.487096%2C%20-82.470434%5D%2C%20%5B48.854447%2C%20-113.272455%5D%2C%20%5B38.5048%2C%20-90.34212%5D%2C%20%5B40.781376%2C%20-73.653283%5D%2C%20%5B28.566762%2C%20-81.286012%5D%2C%20%5B44.943723%2C%20-93.077364%5D%2C%20%5B36.678007%2C%20-119.726885%5D%2C%20%5B34.06377%2C%20-117.817471%5D%2C%20%5B41.767807%2C%20-120.17986100000002%5D%2C%20%5B33.991466%2C%20-118.282681%5D%2C%20%5B34.420895%2C%20-117.589954%5D%2C%20%5B37.99256%2C%20-121.76805%5D%2C%20%5B36.180966%2C%20-86.749561%5D%2C%20%5B45.53232%2C%20-122.56462%5D%2C%20%5B33.375402%2C%20-79.21351999999997%5D%2C%20%5B28.554044%2C%20-81.194786%5D%2C%20%5B47.693334%2C%20-117.231127%5D%2C%20%5B44.889975%2C%20-93.393284%5D%2C%20%5B26.083752%2C%20-80.16872%5D%2C%20%5B39.422024%2C%20-120.035065%5D%2C%20%5B39.415121%2C%20-107.216572%5D%2C%20%5B28.408653%2C%20-81.424773%5D%2C%20%5B41.237886%2C%20-73.701136%5D%2C%20%5B33.233092%2C%20-87.53920500000002%5D%2C%20%5B28.355135%2C%20-80.700168%5D%2C%20%5B35.106017%2C%20-80.982043%5D%2C%20%5B40.728319%2C%20-73.928101%5D%2C%20%5B34.02729%2C%20-84.0516%5D%2C%20%5B36.843262%2C%20-77.919405%5D%2C%20%5B39.09615%2C%20-94.58575%5D%2C%20%5B25.68706700000001%2C%20-80.364859%5D%2C%20%5B32.83963%2C%20-97.3006%5D%2C%20%5B39.08666%2C%20-104.86144%5D%2C%20%5B32.39598400000001%2C%20-93.81032%5D%2C%20%5B38.857267%2C%20-104.75738%5D%2C%20%5B34.02544%2C%20-118.04092%5D%2C%20%5B40.89657%2C%20-74.13388%5D%2C%20%5B45.497402%2C%20-93.582291%5D%2C%20%5B34.533084%2C%20-119.261565%5D%2C%20%5B36.96764%2C%20-76.51171%5D%2C%20%5B48.017239%2C%20-111.815546%5D%2C%20%5B39.025014%2C%20-77.141929%5D%2C%20%5B38.631%2C%20-121.52003%5D%2C%20%5B33.928984%2C%20-118.230329%5D%2C%20%5B32.779197%2C%20-117.070123%5D%2C%20%5B34.030877000000004%2C%20-118.274551%5D%2C%20%5B40.037%2C%20-75.01352%5D%2C%20%5B45.543681%2C%20-122.519531%5D%2C%20%5B34.272709000000006%2C%20-118.35762%5D%2C%20%5B42.886814%2C%20-78.767778%5D%2C%20%5B44.06491%2C%20-123.098139%5D%2C%20%5B32.995196%2C%20-80.137088%5D%2C%20%5B45.141609%2C%20-93.497031%5D%2C%20%5B42.909373%2C%20-83.588578%5D%2C%20%5B38.115939%2C%20-121.392757%5D%2C%20%5B37.99764%2C%20-122.53489%5D%2C%20%5B34.023717%2C%20-118.427751%5D%2C%20%5B33.40672%2C%20-112.09944%5D%2C%20%5B44.952099%2C%20-93.087115%5D%2C%20%5B34.06573%2C%20-117.99422%5D%2C%20%5B28.26538%2C%20-80.71808%5D%2C%20%5B25.964632%2C%20-80.18175699999998%5D%2C%20%5B34.26576%2C%20-118.44871%5D%2C%20%5B29.828284000000004%2C%20-81.27258499999998%5D%2C%20%5B33.726023%2C%20-117.423066%5D%2C%20%5B35.83424%2C%20-78.63472%5D%2C%20%5B38.880544%2C%20-77.23670200000002%5D%2C%20%5B40.621002%2C%20-74.168803%5D%2C%20%5B44.977408%2C%20-93.281%5D%2C%20%5B32.940732000000004%2C%20-96.769001%5D%2C%20%5B38.562165%2C%20-122.774862%5D%2C%20%5B45.501525%2C%20-122.658854%5D%2C%20%5B38.022542%2C%20-78.545167%5D%2C%20%5B25.924458%2C%20-80.29732800000002%5D%2C%20%5B34.14278%2C%20-118.18565%5D%2C%20%5B39.619799%2C%20-104.899123%5D%2C%20%5B39.242027%2C%20-85.346342%5D%2C%20%5B40.065497%2C%20-75.331867%5D%2C%20%5B41.0535%2C%20-73.809619%5D%2C%20%5B25.899742%2C%20-80.179198%5D%2C%20%5B38.528982%2C%20-121.334871%5D%2C%20%5B40.00849%2C%20-75.743243%5D%2C%20%5B36.214075%2C%20-119.32912%5D%2C%20%5B28.03021%2C%20-82.14013%5D%2C%20%5B43.037642%2C%20-83.67705699999998%5D%2C%20%5B40.30587%2C%20-76.8309%5D%2C%20%5B34.026144%2C%20-117.926222%5D%2C%20%5B37.88753300000001%2C%20-121.696457%5D%2C%20%5B40.233737%2C%20-76.96352900000002%5D%2C%20%5B36.033324%2C%20-86.59606600000002%5D%2C%20%5B41.93269%2C%20-71.46401%5D%2C%20%5B40.63717000000001%2C%20-74.29241%5D%2C%20%5B40.7533%2C%20-111.57128%5D%2C%20%5B45.065392%2C%20-111.183024%5D%2C%20%5B33.031425%2C%20-85.024745%5D%2C%20%5B37.95442%2C%20-121.311752%5D%2C%20%5B41.15124%2C%20-80.67429%5D%2C%20%5B41.229603%2C%20-76.99079499999998%5D%2C%20%5B34.06654%2C%20-118.01836000000002%5D%2C%20%5B28.085395%2C%20-82.454527%5D%2C%20%5B33.925301%2C%20-118.320546%5D%2C%20%5B41.75757700000001%2C%20-72.66334300000003%5D%2C%20%5B30.324894%2C%20-97.657357%5D%2C%20%5B30.310647%2C%20-97.732494%5D%2C%20%5B43.862518%2C%20-95.240553%5D%2C%20%5B38.849763%2C%20-77.415459%5D%2C%20%5B32.719007%2C%20-117.098902%5D%2C%20%5B38.389038%2C%20-75.132372%5D%2C%20%5B32.857627%2C%20-80.031828%5D%2C%20%5B30.169801%2C%20-97.787427%5D%2C%20%5B27.400193%2C%20-82.51355600000002%5D%2C%20%5B34.580383000000005%2C%20-80.645235%5D%2C%20%5B39.653771%2C%20-79.736346%5D%2C%20%5B32.533038%2C%20-80.74686700000002%5D%2C%20%5B38.961443%2C%20-86.828936%5D%2C%20%5B38.879322%2C%20-77.25429399999999%5D%2C%20%5B34.091009%2C%20-117.301701%5D%2C%20%5B42.11788%2C%20-121.69845%5D%2C%20%5B37.694798%2C%20-78.946274%5D%2C%20%5B39.228206%2C%20-123.768745%5D%2C%20%5B34.645722%2C%20-118.154686%5D%2C%20%5B25.812099%2C%20-80.137738%5D%2C%20%5B38.48317%2C%20-121.334849%5D%2C%20%5B33.714705%2C%20-84.273022%5D%2C%20%5B25.897168%2C%20-80.245937%5D%2C%20%5B42.34881%2C%20-83.04624%5D%2C%20%5B25.86818%2C%20-80.23726500000002%5D%2C%20%5B41.8509%2C%20-87.64492%5D%2C%20%5B40.7375%2C%20-73.97426999999998%5D%2C%20%5B40.297406%2C%20-80.168041%5D%2C%20%5B34.034432%2C%20-118.266631%5D%2C%20%5B43.0542%2C%20-76.11865999999998%5D%2C%20%5B36.14167800000001%2C%20-95.834516%5D%2C%20%5B38.55335%2C%20-121.43662%5D%2C%20%5B44.867134%2C%20-93.596874%5D%2C%20%5B32.684435%2C%20-96.891526%5D%2C%20%5B34.884862%2C%20-82.009309%5D%2C%20%5B34.027158%2C%20-118.037596%5D%2C%20%5B38.718254%2C%20-121.345917%5D%2C%20%5B27.4859%2C%20-82.4694%5D%2C%20%5B25.998522%2C%20-80.166044%5D%2C%20%5B25.774043%2C%20-80.320647%5D%2C%20%5B42.963511%2C%20-83.944216%5D%2C%20%5B38.860726%2C%20-110.866119%5D%2C%20%5B39.106759%2C%20-94.578112%5D%2C%20%5B32.995313%2C%20-117.209988%5D%2C%20%5B30.075019%2C%20-97.825948%5D%2C%20%5B48.44056%2C%20-122.34102%5D%2C%20%5B39.526895%2C%20-111.590546%5D%2C%20%5B33.91581%2C%20-84.40314000000002%5D%2C%20%5B39.772858%2C%20-84.193224%5D%2C%20%5B45.888143%2C%20-123.149831%5D%2C%20%5B38.907466%2C%20-77.008608%5D%2C%20%5B33.643370000000004%2C%20-117.91668%5D%2C%20%5B25.82996%2C%20-80.32203%5D%2C%20%5B34.074908%2C%20-118.27331399999998%5D%2C%20%5B34.620731%2C%20-80.501396%5D%2C%20%5B34.26603%2C%20-118.46%5D%2C%20%5B33.889136%2C%20-81.162417%5D%2C%20%5B32.930440000000004%2C%20-96.75804%5D%2C%20%5B27.936367%2C%20-82.310249%5D%2C%20%5B25.807791%2C%20-80.305909%5D%2C%20%5B40.875624%2C%20-73.818448%5D%2C%20%5B40.02308%2C%20-75.0348%5D%2C%20%5B28.605341%2C%20-81.404977%5D%2C%20%5B41.100869%2C%20-73.960493%5D%2C%20%5B28.595146000000003%2C%20-81.385738%5D%2C%20%5B28.539126%2C%20-81.476721%5D%2C%20%5B28.40763%2C%20-81.42496899999998%5D%2C%20%5B28.435979%2C%20-81.40539799999998%5D%2C%20%5B34.247772%2C%20-118.425834%5D%2C%20%5B37.15712%2C%20-121.98215%5D%2C%20%5B41.02947%2C%20-81.50497%5D%2C%20%5B41.68681%2C%20-91.50598%5D%2C%20%5B40.609492%2C%20-112.033478%5D%2C%20%5B39.306877%2C%20-76.743916%5D%2C%20%5B46.216626%2C%20-93.045379%5D%2C%20%5B39.493641%2C%20-121.782294%5D%2C%20%5B34.359835%2C%20-117.630567%5D%2C%20%5B40.936162%2C%20-124.107273%5D%2C%20%5B37.57285%2C%20-122.31631000000002%5D%2C%20%5B39.204679%2C%20-76.623991%5D%2C%20%5B39.095935%2C%20-94.559993%5D%2C%20%5B34.19631%2C%20-119.069741%5D%2C%20%5B38.011202%2C%20-122.273038%5D%2C%20%5B30.053353%2C%20-95.185303%5D%2C%20%5B39.05808%2C%20-96.746817%5D%2C%20%5B33.76488%2C%20-84.51972099999998%5D%2C%20%5B44.09726%2C%20-123.1114%5D%2C%20%5B43.233578%2C%20-71.537679%5D%2C%20%5B30.9559%2C%20-92.27959%5D%2C%20%5B31.901683%2C%20-106.414889%5D%2C%20%5B26.215664%2C%20-80.13645%5D%2C%20%5B46.611426%2C%20-122.913575%5D%2C%20%5B40.505645%2C%20-122.333583%5D%2C%20%5B38.65276%2C%20-121.278177%5D%2C%20%5B30.459957%2C%20-81.67874499999998%5D%2C%20%5B41.57699%2C%20-87.26015%5D%2C%20%5B40.20141%2C%20-74.7589%5D%2C%20%5B25.807503%2C%20-80.20576899999998%5D%2C%20%5B32.953565999999995%2C%20-117.244237%5D%2C%20%5B40.740104%2C%20-73.789726%5D%2C%20%5B38.87932%2C%20-77.25435%5D%2C%20%5B36.965893%2C%20-76.291519%5D%2C%20%5B44.403729%2C%20-118.94725%5D%2C%20%5B26.544176%2C%20-81.871359%5D%2C%20%5B40.14681%2C%20-75.39517%5D%2C%20%5B40.71893%2C%20-111.85366%5D%2C%20%5B39.106189%2C%20-94.804683%5D%2C%20%5B38.681033%2C%20-121.329489%5D%2C%20%5B36.141622%2C%20-86.713709%5D%2C%20%5B31.0766%2C%20-97.41659%5D%2C%20%5B34.165369%2C%20-79.762456%5D%2C%20%5B34.072154%2C%20-118.066731%5D%2C%20%5B26.89749%2C%20-80.09483%5D%2C%20%5B37.99184%2C%20-122.307909%5D%2C%20%5B32.474896%2C%20-93.797771%5D%2C%20%5B37.458819%2C%20-122.137892%5D%2C%20%5B29.154758%2C%20-82.053587%5D%2C%20%5B41.62624%2C%20-87.6772%5D%2C%20%5B40.72012700000001%2C%20-73.404754%5D%2C%20%5B40.318917%2C%20-77.983919%5D%2C%20%5B26.08295%2C%20-80.16848%5D%2C%20%5B28.451602%2C%20-81.477678%5D%2C%20%5B28.990484%2C%20-82.141889%5D%2C%20%5B32.746277%2C%20-97.319624%5D%2C%20%5B40.00957%2C%20-82.89783%5D%2C%20%5B33.494608%2C%20-112.043996%5D%2C%20%5B34.067435%2C%20-117.536967%5D%2C%20%5B40.104826%2C%20-75.346579%5D%2C%20%5B32.825843%2C%20-80.599929%5D%2C%20%5B45.45299%2C%20-122.57255%5D%2C%20%5B34.878559%2C%20-82.209886%5D%2C%20%5B29.05027%2C%20-82.460702%5D%2C%20%5B28.30424600000001%2C%20-81.392382%5D%2C%20%5B40.600529%2C%20-74.268969%5D%2C%20%5B29.799096%2C%20-95.228755%5D%2C%20%5B38.889809%2C%20-76.991511%5D%2C%20%5B30.418105%2C%20-91.108171%5D%2C%20%5B38.885264%2C%20-77.118964%5D%2C%20%5B35.180646%2C%20-119.452968%5D%2C%20%5B38.540328%2C%20-121.733247%5D%2C%20%5B41.885687%2C%20-93.570975%5D%2C%20%5B40.846749%2C%20-74.01616899999998%5D%2C%20%5B33.548854%2C%20-93.076855%5D%2C%20%5B40.922836%2C%20-73.815772%5D%2C%20%5B43.209859%2C%20-77.69594000000002%5D%2C%20%5B36.660455%2C%20-121.622552%5D%2C%20%5B27.842904%2C%20-82.679732%5D%2C%20%5B39.813933%2C%20-78.626769%5D%2C%20%5B43.04457%2C%20-87.92629000000002%5D%2C%20%5B39.75877%2C%20-86.14315%5D%2C%20%5B31.24801%2C%20-92.42911%5D%2C%20%5B38.737267%2C%20-77.192484%5D%2C%20%5B44.63391%2C%20-123.947037%5D%2C%20%5B29.99088%2C%20-90.05845%5D%2C%20%5B39.18862100000001%2C%20-76.75670799999997%5D%2C%20%5B38.611503000000006%2C%20-90.203686%5D%2C%20%5B38.84632%2C%20-94.52935%5D%2C%20%5B39.159206%2C%20-94.497623%5D%2C%20%5B34.073328000000004%2C%20-117.655982%5D%2C%20%5B35.088390000000004%2C%20-89.87190799999998%5D%2C%20%5B34.025016%2C%20-117.733978%5D%2C%20%5B28.346923%2C%20-81.645414%5D%2C%20%5B35.420535%2C%20-119.039113%5D%2C%20%5B39.058536%2C%20-122.586217%5D%2C%20%5B28.497289%2C%20-81.330923%5D%2C%20%5B35.283115%2C%20-119.027279%5D%2C%20%5B37.54076%2C%20-77.37699%5D%2C%20%5B34.224936%2C%20-79.804687%5D%2C%20%5B35.14933%2C%20-80.971525%5D%2C%20%5B28.548378000000003%2C%20-81.413837%5D%2C%20%5B28.00324%2C%20-82.31975%5D%2C%20%5B26.756802%2C%20-81.76086%5D%2C%20%5B28.54985%2C%20-81.097004%5D%2C%20%5B37.49597%2C%20-122.36827%5D%2C%20%5B32.70453%2C%20-117.146926%5D%2C%20%5B38.879226%2C%20-77.255859%5D%2C%20%5B34.065567%2C%20-117.255803%5D%2C%20%5B42.0371%2C%20-88.03251%5D%2C%20%5B44.420653%2C%20-121.789273%5D%2C%20%5B32.750726%2C%20-96.920069%5D%2C%20%5B41.38666%2C%20-73.5998%5D%2C%20%5B39.79913300000001%2C%20-78.249401%5D%2C%20%5B36.160343%2C%20-86.817984%5D%2C%20%5B37.42740300000001%2C%20-79.937921%5D%2C%20%5B32.608764%2C%20-96.926488%5D%2C%20%5B33.535066%2C%20-81.692436%5D%2C%20%5B40.4605%2C%20-86.8492%5D%2C%20%5B41.14717%2C%20-96.14378%5D%2C%20%5B39.375911%2C%20-76.452924%5D%2C%20%5B45.402456%2C%20-122.744755%5D%2C%20%5B35.91055%2C%20-78.97967%5D%2C%20%5B38.51642%2C%20-90.33439%5D%2C%20%5B42.419%2C%20-82.93413000000002%5D%2C%20%5B40.41061%2C%20-75.47366%5D%2C%20%5B33.987765%2C%20-118.399247%5D%2C%20%5B33.720555%2C%20-117.972784%5D%2C%20%5B33.462542%2C%20-112.136569%5D%2C%20%5B41.10487%2C%20-78.53341999999998%5D%2C%20%5B29.677304%2C%20-95.527656%5D%2C%20%5B39.359235%2C%20-120.139106%5D%2C%20%5B35.133604%2C%20-80.762904%5D%2C%20%5B44.93773%2C%20-93.27454%5D%2C%20%5B29.21638%2C%20-81.999282%5D%2C%20%5B33.38598%2C%20-111.7193%5D%2C%20%5B33.43692%2C%20-112.125955%5D%2C%20%5B28.553203000000003%2C%20-81.368605%5D%2C%20%5B38.037391%2C%20-121.366121%5D%2C%20%5B30.070892%2C%20-82.703951%5D%2C%20%5B36.484898%2C%20-119.120561%5D%2C%20%5B39.140994%2C%20-76.64453%5D%2C%20%5B33.755433000000004%2C%20-118.296697%5D%2C%20%5B35.148053000000004%2C%20-80.829296%5D%2C%20%5B40.543942%2C%20-74.288465%5D%2C%20%5B34.226735%2C%20-118.381129%5D%2C%20%5B44.8619%2C%20-93.30224%5D%2C%20%5B43.799703%2C%20-123.04506299999998%5D%2C%20%5B29.995215%2C%20-90.119831%5D%2C%20%5B38.681691%2C%20-121.568216%5D%2C%20%5B34.867858%2C%20-82.522265%5D%2C%20%5B33.960012%2C%20-118.284774%5D%2C%20%5B28.889596%2C%20-82.546658%5D%2C%20%5B34.456371999999995%2C%20-118.421561%5D%2C%20%5B34.071774%2C%20-117.945928%5D%2C%20%5B38.323011%2C%20-77.46606%5D%2C%20%5B28.472424%2C%20-81.409064%5D%2C%20%5B41.836248%2C%20-87.668084%5D%2C%20%5B45.04058%2C%20-93.40071%5D%2C%20%5B37.393944%2C%20-79.233775%5D%2C%20%5B34.050565%2C%20-118.214083%5D%2C%20%5B41.695454%2C%20-92.788053%5D%2C%20%5B39.096687%2C%20-94.624798%5D%2C%20%5B25.851399%2C%20-80.241989%5D%2C%20%5B30.40912100000001%2C%20-83.954392%5D%2C%20%5B33.772690999999995%2C%20-117.742656%5D%2C%20%5B30.319334%2C%20-81.681185%5D%2C%20%5B32.79385%2C%20-96.70278%5D%2C%20%5B33.51877%2C%20-86.82588%5D%2C%20%5B39.862423%2C%20-104.98771%5D%2C%20%5B27.964839%2C%20-82.446154%5D%2C%20%5B34.15955%2C%20-118.46169%5D%2C%20%5B42.153705%2C%20-88.02940600000002%5D%2C%20%5B41.87536%2C%20-87.6799%5D%2C%20%5B33.67265%2C%20-112.00683%5D%2C%20%5B44.348765%2C%20-91.294692%5D%2C%20%5B45.58732%2C%20-122.08669%5D%2C%20%5B34.13797%2C%20-118.01425%5D%2C%20%5B39.163088%2C%20-122.920918%5D%2C%20%5B37.6211%2C%20-122.42618%5D%2C%20%5B25.727609%2C%20-80.455703%5D%2C%20%5B33.589202%2C%20-86.864115%5D%2C%20%5B26.54639%2C%20-81.869259%5D%2C%20%5B33.859092%2C%20-117.985767%5D%2C%20%5B33.247025%2C%20-117.22792%5D%2C%20%5B32.79136%2C%20-96.74152%5D%2C%20%5B37.741791%2C%20-122.398019%5D%2C%20%5B34.121651%2C%20-117.696065%5D%2C%20%5B29.95682%2C%20-90.07964%5D%2C%20%5B34.15933%2C%20-118.46386%5D%2C%20%5B38.883351%2C%20-77.228769%5D%2C%20%5B32.234636%2C%20-80.812179%5D%2C%20%5B34.03093%2C%20-117.328346%5D%2C%20%5B40.72994%2C%20-74.03969000000002%5D%2C%20%5B36.735012%2C%20-119.969955%5D%2C%20%5B41.405878%2C%20-77.044593%5D%2C%20%5B33.757392%2C%20-117.85703999999998%5D%2C%20%5B25.92685%2C%20-80.23311%5D%2C%20%5B44.970504%2C%20-93.339843%5D%2C%20%5B40.200131%2C%20-122.20683%5D%2C%20%5B30.44548%2C%20-87.24312900000002%5D%2C%20%5B42.4287%2C%20-87.87653%5D%2C%20%5B33.997361%2C%20-117.967616%5D%2C%20%5B34.278%2C%20-118.502119%5D%2C%20%5B34.959043%2C%20-82.057946%5D%2C%20%5B40.417838%2C%20-122.339537%5D%2C%20%5B40.732688%2C%20-111.753753%5D%2C%20%5B30.176042%2C%20-82.686527%5D%2C%20%5B43.1177%2C%20-83.85307399999998%5D%2C%20%5B30.530443%2C%20-87.08718499999998%5D%2C%20%5B29.74058%2C%20-95.36522%5D%2C%20%5B41.16088900000001%2C%20-74.185062%5D%2C%20%5B35.824209%2C%20-78.58758900000002%5D%2C%20%5B44.95409%2C%20-93.04153%5D%2C%20%5B25.716156%2C%20-80.43126%5D%2C%20%5B40.264154%2C%20-104.81089%5D%2C%20%5B33.854521000000005%2C%20-118.281963%5D%2C%20%5B25.687934%2C%20-80.350774%5D%2C%20%5B36.03302%2C%20-80.38705999999998%5D%2C%20%5B34.13538%2C%20-117.99076%5D%2C%20%5B45.291775%2C%20-122.564059%5D%2C%20%5B34.099421%2C%20-117.836989%5D%2C%20%5B35.25817%2C%20-80.84138%5D%2C%20%5B40.818811%2C%20-102.822664%5D%2C%20%5B40.10601%2C%20-75.35006%5D%2C%20%5B33.743217%2C%20-117.11917%5D%2C%20%5B37.518149%2C%20-77.426415%5D%2C%20%5B33.778082%2C%20-117.897368%5D%2C%20%5B33.88043%2C%20-118.10388%5D%2C%20%5B25.80591%2C%20-80.32101%5D%2C%20%5B32.74477%2C%20-96.61219%5D%2C%20%5B34.030394%2C%20-117.68325%5D%2C%20%5B34.245233%2C%20-79.744753%5D%2C%20%5B38.053859%2C%20-121.312464%5D%2C%20%5B34.930278%2C%20-82.319629%5D%2C%20%5B27.554839%2C%20-82.511623%5D%2C%20%5B34.221940000000004%2C%20-119.120089%5D%2C%20%5B37.750583%2C%20-77.457162%5D%2C%20%5B42.43769%2C%20-123.283148%5D%2C%20%5B39.09393%2C%20-94.68078%5D%2C%20%5B25.616457%2C%20-80.35985600000002%5D%2C%20%5B41.82811%2C%20-87.6304%5D%2C%20%5B36.808141%2C%20-119.887182%5D%2C%20%5B29.722453%2C%20-95.476435%5D%2C%20%5B40.67664600000001%2C%20-111.280866%5D%2C%20%5B37.620502%2C%20-77.584339%5D%2C%20%5B41.92693%2C%20-91.67408%5D%2C%20%5B41.77554%2C%20-78.001103%5D%2C%20%5B38.54359%2C%20-121.509186%5D%2C%20%5B40.067808%2C%20-75.675543%5D%2C%20%5B32.908029%2C%20-96.786418%5D%2C%20%5B34.652162%2C%20-79.24427299999998%5D%2C%20%5B39.008685%2C%20-122.61432%5D%2C%20%5B39.062335%2C%20-76.916687%5D%2C%20%5B33.474037%2C%20-112.002948%5D%2C%20%5B37.63022700000001%2C%20-122.424746%5D%2C%20%5B38.39649%2C%20-78.91102%5D%2C%20%5B27.799189%2C%20-82.679579%5D%2C%20%5B40.913725%2C%20-122.389278%5D%2C%20%5B36.738742%2C%20-119.808346%5D%2C%20%5B37.235798%2C%20-93.31121%5D%2C%20%5B38.812706%2C%20-77.628547%5D%2C%20%5B37.875076%2C%20-122.187999%5D%2C%20%5B37.82908%2C%20-122.29385%5D%2C%20%5B41.07419%2C%20-75.436989%5D%2C%20%5B39.382025%2C%20-120.022609%5D%2C%20%5B26.942843%2C%20-80.153127%5D%2C%20%5B33.993563%2C%20-118.069327%5D%2C%20%5B41.386259%2C%20-73.60001899999997%5D%2C%20%5B34.072508%2C%20-117.936357%5D%2C%20%5B33.840111%2C%20-117.249923%5D%2C%20%5B29.604966%2C%20-95.286068%5D%2C%20%5B41.73241%2C%20-72.66328%5D%2C%20%5B38.600324%2C%20-121.401555%5D%2C%20%5B38.751733%2C%20-121.392671%5D%2C%20%5B25.709764%2C%20-80.285595%5D%2C%20%5B37.951894%2C%20-122.055087%5D%2C%20%5B35.21946%2C%20-80.82509%5D%2C%20%5B34.09547%2C%20-81.17067%5D%2C%20%5B34.017888%2C%20-117.534624%5D%2C%20%5B34.087552%2C%20-81.162412%5D%2C%20%5B39.005681%2C%20-77.082942%5D%2C%20%5B37.311598%2C%20-79.97698100000002%5D%2C%20%5B27.956311%2C%20-82.49105899999998%5D%2C%20%5B33.49475%2C%20-84.64407%5D%2C%20%5B40.492789%2C%20-121.884875%5D%2C%20%5B35.224475%2C%20-80.89437099999998%5D%2C%20%5B38.879062%2C%20-76.99670400000002%5D%2C%20%5B34.229503%2C%20-112.740443%5D%2C%20%5B32.54977%2C%20-97.31783%5D%2C%20%5B34.616664%2C%20-117.969528%5D%2C%20%5B34.050227%2C%20-117.171302%5D%2C%20%5B45.864886%2C%20-119.291216%5D%2C%20%5B42.3703%2C%20-87.85559%5D%2C%20%5B35.266372%2C%20-80.795001%5D%2C%20%5B44.918613%2C%20-93.401459%5D%2C%20%5B40.682486%2C%20-73.648122%5D%2C%20%5B30.465917%2C%20-87.252938%5D%2C%20%5B42.059847%2C%20-88.047617%5D%2C%20%5B40.747792%2C%20-74.171613%5D%2C%20%5B25.577465%2C%20-80.370795%5D%2C%20%5B42.066445%2C%20-88.223337%5D%2C%20%5B34.675028000000005%2C%20-118.15798%5D%2C%20%5B33.827539%2C%20-117.485986%5D%2C%20%5B36.092279%2C%20-95.962995%5D%2C%20%5B29.93785%2C%20-90.0375%5D%2C%20%5B33.903647%2C%20-118.189533%5D%2C%20%5B42.488445%2C%20-73.48400500000002%5D%2C%20%5B34.02048%2C%20-118.242169%5D%2C%20%5B40.390901%2C%20-75.49198%5D%2C%20%5B33.994282%2C%20-117.884628%5D%2C%20%5B42.042791%2C%20-73.964987%5D%2C%20%5B34.135005%2C%20-117.592615%5D%2C%20%5B35.155840000000005%2C%20-80.793832%5D%2C%20%5B30.252302%2C%20-90.402964%5D%2C%20%5B38.612496%2C%20-121.38306%5D%2C%20%5B33.985565%2C%20-117.345739%5D%2C%20%5B34.491652%2C%20-117.940405%5D%2C%20%5B34.080986%2C%20-118.225298%5D%2C%20%5B25.504871%2C%20-80.439084%5D%2C%20%5B44.54319%2C%20-93.8021%5D%2C%20%5B39.95295%2C%20-83.00036%5D%2C%20%5B29.97778%2C%20-90.21081%5D%2C%20%5B34.298344%2C%20-119.14151%5D%2C%20%5B42.23528%2C%20-87.856224%5D%2C%20%5B42.912662%2C%20-85.630024%5D%2C%20%5B32.720021%2C%20-117.081266%5D%2C%20%5B28.436223%2C%20-81.368478%5D%2C%20%5B38.320598%2C%20-122.48659%5D%2C%20%5B34.109797%2C%20-118.242383%5D%2C%20%5B44.986109%2C%20-93.400796%5D%2C%20%5B42.26633%2C%20-83.229603%5D%2C%20%5B40.747636%2C%20-73.729065%5D%2C%20%5B33.934139%2C%20-117.555845%5D%2C%20%5B32.789852%2C%20-117.167447%5D%2C%20%5B42.239997%2C%20-87.879692%5D%2C%20%5B42.609471%2C%20-79.022213%5D%2C%20%5B35.212182%2C%20-80.762702%5D%2C%20%5B38.882606%2C%20-77.29379200000002%5D%2C%20%5B33.25047%2C%20-117.15339099999998%5D%2C%20%5B40.58793%2C%20-112.02425%5D%2C%20%5B41.80154%2C%20-72.656%5D%2C%20%5B34.808445%2C%20-82.44197199999998%5D%2C%20%5B33.93885%2C%20-118.291913%5D%2C%20%5B25.810711%2C%20-80.337487%5D%2C%20%5B30.340908%2C%20-97.556636%5D%2C%20%5B25.890733%2C%20-80.163416%5D%2C%20%5B43.379215%2C%20-112.192285%5D%2C%20%5B28.177336%2C%20-80.67211999999998%5D%2C%20%5B34.857567%2C%20-82.25696500000002%5D%2C%20%5B28.525803000000003%2C%20-81.745449%5D%2C%20%5B30.288555%2C%20-97.723358%5D%2C%20%5B40.83499000000001%2C%20-73.866137%5D%2C%20%5B44.771658%2C%20-93.288334%5D%2C%20%5B34.077433%2C%20-118.282363%5D%2C%20%5B41.193097%2C%20-73.882187%5D%2C%20%5B39.286344%2C%20-76.824933%5D%2C%20%5B29.376141%2C%20-98.393453%5D%2C%20%5B41.083819%2C%20-124.153063%5D%2C%20%5B30.441475%2C%20-84.337304%5D%2C%20%5B45.02394%2C%20-93.28461%5D%2C%20%5B33.84514%2C%20-117.824854%5D%2C%20%5B47.509996%2C%20-92.536066%5D%2C%20%5B33.96723%2C%20-118.08347%5D%2C%20%5B42.957931%2C%20-70.85703000000002%5D%2C%20%5B36.778117%2C%20-120.566936%5D%2C%20%5B35.229173%2C%20-80.713953%5D%2C%20%5B33.429474%2C%20-86.400885%5D%2C%20%5B36.806749%2C%20-119.790366%5D%2C%20%5B37.63454%2C%20-122.0864%5D%2C%20%5B25.809545%2C%20-80.25865300000002%5D%2C%20%5B32.776671%2C%20-96.784148%5D%2C%20%5B33.86098%2C%20-118.28513%5D%2C%20%5B28.498132%2C%20-82.593202%5D%2C%20%5B36.121562%2C%20-95.940292%5D%2C%20%5B31.324963%2C%20-89.350042%5D%2C%20%5B33.918329%2C%20-118.300385%5D%2C%20%5B33.82595%2C%20-118.2126%5D%2C%20%5B40.0526%2C%20-76.30408%5D%2C%20%5B34.001225%2C%20-117.350575%5D%2C%20%5B29.704243%2C%20-95.406719%5D%2C%20%5B36.121705%2C%20-84.034885%5D%2C%20%5B38.929264%2C%20-76.960012%5D%2C%20%5B34.021284%2C%20-118.17056%5D%2C%20%5B33.7791%2C%20-117.888768%5D%2C%20%5B29.966828000000003%2C%20-90.016827%5D%2C%20%5B30.602785%2C%20-83.846773%5D%2C%20%5B34.13512%2C%20-117.60917%5D%2C%20%5B30.094341%2C%20-97.681154%5D%2C%20%5B38.02265%2C%20-122.53889%5D%2C%20%5B34.031929%2C%20-118.222586%5D%2C%20%5B36.169896%2C%20-86.669797%5D%2C%20%5B43.246079%2C%20-124.224871%5D%2C%20%5B40.870204%2C%20-121.857615%5D%2C%20%5B33.417157%2C%20-101.826322%5D%2C%20%5B36.75349%2C%20-119.77979%5D%2C%20%5B40.40302%2C%20-74.19394%5D%2C%20%5B38.628674%2C%20-121.383051%5D%2C%20%5B43.908308%2C%20-122.779179%5D%2C%20%5B37.93065900000001%2C%20-121.296045%5D%2C%20%5B38.81985%2C%20-77.143036%5D%2C%20%5B40.666161%2C%20-73.79262299999998%5D%2C%20%5B39.788431%2C%20-104.904851%5D%2C%20%5B38.833742%2C%20-121.168556%5D%2C%20%5B34.1549%2C%20-118.31088%5D%2C%20%5B40.353%2C%20-111.77395%5D%2C%20%5B40.784479%2C%20-73.94199%5D%2C%20%5B36.961022%2C%20-76.26695%5D%2C%20%5B28.345614%2C%20-81.362829%5D%2C%20%5B34.314411%2C%20-118.488997%5D%2C%20%5B33.876672%2C%20-118.10832%5D%2C%20%5B41.11692%2C%20-81.49083%5D%2C%20%5B39.541318%2C%20-77.608153%5D%2C%20%5B34.533867%2C%20-119.259793%5D%2C%20%5B33.94109%2C%20-117.27067%5D%2C%20%5B39.9469%2C%20-78.22901800000002%5D%2C%20%5B34.011262%2C%20-118.172248%5D%2C%20%5B36.789318%2C%20-76.223949%5D%2C%20%5B42.14429000000001%2C%20-88.36378%5D%2C%20%5B34.11854%2C%20-117.8654%5D%2C%20%5B44.738033%2C%20-94.643202%5D%2C%20%5B29.252395%2C%20-82.18997900000002%5D%2C%20%5B34.066272999999995%2C%20-81.0336%5D%2C%20%5B28.412848%2C%20-81.475524%5D%2C%20%5B38.38478900000001%2C%20-81.764444%5D%2C%20%5B29.584546000000003%2C%20-90.697623%5D%2C%20%5B30.428511%2C%20-84.28065500000002%5D%2C%20%5B35.033291%2C%20-85.28112%5D%2C%20%5B30.461273%2C%20-97.684441%5D%2C%20%5B32.877391%2C%20-96.515976%5D%2C%20%5B34.868095000000004%2C%20-82.314499%5D%2C%20%5B29.40633%2C%20-81.15644%5D%2C%20%5B38.496637%2C%20-121.242263%5D%2C%20%5B35.374549%2C%20-78.542987%5D%2C%20%5B25.625151%2C%20-80.41441400000002%5D%2C%20%5B40.727445%2C%20-73.929406%5D%2C%20%5B45.421972%2C%20-122.577607%5D%2C%20%5B43.270013%2C%20-71.783505%5D%2C%20%5B47.8541%2C%20-92.050016%5D%2C%20%5B33.077355%2C%20-117.070709%5D%2C%20%5B30.502543%2C%20-84.3292%5D%2C%20%5B35.383266%2C%20-119.076247%5D%2C%20%5B40.246284%2C%20-75.34266099999998%5D%2C%20%5B37.926362%2C%20-122.060449%5D%2C%20%5B34.221364%2C%20-118.473097%5D%2C%20%5B37.332445%2C%20-121.844787%5D%2C%20%5B35.312664%2C%20-120.824463%5D%2C%20%5B33.87275%2C%20-118.27013%5D%2C%20%5B42.571581%2C%20-123.372441%5D%2C%20%5B25.828514%2C%20-80.23898100000002%5D%2C%20%5B43.716228%2C%20-92.69141%5D%2C%20%5B44.945917%2C%20-93.274601%5D%2C%20%5B37.388391%2C%20-121.98668899999998%5D%2C%20%5B25.763147%2C%20-80.302359%5D%2C%20%5B29.444996000000003%2C%20-81.172137%5D%2C%20%5B33.926334999999995%2C%20-118.104175%5D%2C%20%5B34.022281%2C%20-118.198491%5D%2C%20%5B29.812871%2C%20-95.425668%5D%2C%20%5B34.243824%2C%20-118.839817%5D%2C%20%5B45.553657%2C%20-122.187608%5D%2C%20%5B39.921341%2C%20-79.24998199999997%5D%2C%20%5B40.745898%2C%20-74.37107900000002%5D%2C%20%5B29.87066%2C%20-95.36465%5D%2C%20%5B39.78004%2C%20-104.93171%5D%2C%20%5B36.59573%2C%20-87.27846%5D%2C%20%5B33.938669%2C%20-117.135484%5D%2C%20%5B32.547801%2C%20-96.822177%5D%2C%20%5B39.99091%2C%20-85.914813%5D%2C%20%5B34.157211%2C%20-118.448244%5D%2C%20%5B34.252508%2C%20-118.430846%5D%2C%20%5B39.852525%2C%20-76.98187800000002%5D%2C%20%5B38.00573%2C%20-84.5186%5D%2C%20%5B39.346111%2C%20-78.309682%5D%2C%20%5B28.840016%2C%20-82.306187%5D%2C%20%5B33.916894%2C%20-81.166223%5D%2C%20%5B33.49237%2C%20-117.661468%5D%2C%20%5B37.248655%2C%20-93.329065%5D%2C%20%5B40.404961%2C%20-120.624115%5D%2C%20%5B45.47113%2C%20-122.67744%5D%2C%20%5B33.370074%2C%20-111.968195%5D%2C%20%5B28.285798%2C%20-81.353592%5D%2C%20%5B35.962215%2C%20-78.97599%5D%2C%20%5B35.643675%2C%20-78.833201%5D%2C%20%5B37.060886%2C%20-122.004858%5D%2C%20%5B33.835646000000004%2C%20-117.840219%5D%2C%20%5B29.814257%2C%20-95.462339%5D%2C%20%5B25.713813%2C%20-80.43682199999998%5D%2C%20%5B25.700374%2C%20-80.417187%5D%2C%20%5B26.444271%2C%20-80.089646%5D%2C%20%5B35.14946%2C%20-89.94451%5D%2C%20%5B33.977715%2C%20-81.12236%5D%2C%20%5B34.00801%2C%20-117.96403%5D%2C%20%5B47.56762%2C%20-122.09981%5D%2C%20%5B33.940855%2C%20-118.096257%5D%2C%20%5B25.688767%2C%20-80.36589000000002%5D%2C%20%5B35.14096%2C%20-114.09918%5D%2C%20%5B39.658359%2C%20-79.790986%5D%2C%20%5B31.841414%2C%20-106.324862%5D%2C%20%5B38.694249%2C%20-121.382797%5D%2C%20%5B25.683088%2C%20-80.40050500000002%5D%2C%20%5B34.312736%2C%20-119.100966%5D%2C%20%5B33.475231%2C%20-86.705642%5D%2C%20%5B41.118425%2C%20-73.48517700000002%5D%2C%20%5B47.35336%2C%20-122.29594%5D%2C%20%5B25.890213%2C%20-80.187688%5D%2C%20%5B42.34357%2C%20-83.09484%5D%2C%20%5B29.9404%2C%20-90.07199%5D%2C%20%5B25.954287%2C%20-80.275487%5D%2C%20%5B29.7383%2C%20-95.45853%5D%2C%20%5B29.779354%2C%20-95.450645%5D%2C%20%5B40.630777%2C%20-74.29995100000002%5D%2C%20%5B33.4661%2C%20-84.21186999999998%5D%2C%20%5B40.38845%2C%20-104.99353%5D%2C%20%5B41.68309%2C%20-87.60172%5D%2C%20%5B25.714093%2C%20-80.428666%5D%2C%20%5B28.429689%2C%20-81.407533%5D%2C%20%5B29.65267%2C%20-98.624742%5D%2C%20%5B40.08671%2C%20-75.16534%5D%2C%20%5B25.440517%2C%20-80.47511899999998%5D%2C%20%5B32.650748%2C%20-117.067147%5D%2C%20%5B32.900408%2C%20-96.716684%5D%2C%20%5B43.343306%2C%20-73.69072%5D%2C%20%5B44.88686%2C%20-93.3314%5D%2C%20%5B33.50439%2C%20-117.15285%5D%2C%20%5B41.873395%2C%20-90.183496%5D%2C%20%5B44.21302%2C%20-93.26816%5D%2C%20%5B33.818192%2C%20-117.918484%5D%2C%20%5B45.34971%2C%20-122.65857%5D%2C%20%5B43.434609%2C%20-124.220577%5D%2C%20%5B35.23587%2C%20-80.8806%5D%2C%20%5B33.422931%2C%20-84.727174%5D%2C%20%5B40.037656%2C%20-76.308302%5D%2C%20%5B42.73387%2C%20-71.20053%5D%2C%20%5B39.516843%2C%20-104.867828%5D%2C%20%5B34.027243%2C%20-118.457926%5D%2C%20%5B35.74132%2C%20-78.78563%5D%2C%20%5B33.848205%2C%20-117.534541%5D%2C%20%5B38.878281%2C%20-77.39057199999998%5D%2C%20%5B27.961978%2C%20-82.79910100000002%5D%2C%20%5B27.337764%2C%20-82.464917%5D%2C%20%5B40.70259%2C%20-73.50650999999998%5D%2C%20%5B30.31623%2C%20-90.81021%5D%2C%20%5B36.17513%2C%20-115.17493%5D%2C%20%5B35.25954%2C%20-80.88224%5D%2C%20%5B25.699801%2C%20-80.41717%5D%2C%20%5B44.96921%2C%20-93.287802%5D%2C%20%5B38.022297%2C%20-77.498942%5D%2C%20%5B37.036632%2C%20-122.01961599999998%5D%2C%20%5B29.39608%2C%20-98.51548%5D%2C%20%5B37.99173%2C%20-122.07813%5D%2C%20%5B41.83542%2C%20-87.60776%5D%2C%20%5B28.612558%2C%20-81.476186%5D%2C%20%5B30.403023%2C%20-91.151806%5D%2C%20%5B43.02865%2C%20-87.92253000000002%5D%2C%20%5B37.55115900000001%2C%20-120.847054%5D%2C%20%5B34.724305%2C%20-86.595906%5D%2C%20%5B41.843%2C%20-91.66562%5D%2C%20%5B35.87271%2C%20-84.447344%5D%2C%20%5B38.697874%2C%20-120.823185%5D%2C%20%5B35.79202%2C%20-78.74566999999998%5D%2C%20%5B36.088833%2C%20-86.68968199999998%5D%2C%20%5B39.723277%2C%20-123.805758%5D%2C%20%5B25.861434%2C%20-80.208211%5D%2C%20%5B29.592113%2C%20-95.197124%5D%2C%20%5B35.784051%2C%20-78.613421%5D%2C%20%5B25.684483%2C%20-80.445144%5D%2C%20%5B25.934174%2C%20-80.308723%5D%2C%20%5B38.393267%2C%20-120.784376%5D%2C%20%5B32.90902%2C%20-117.116478%5D%2C%20%5B34.116757%2C%20-118.153093%5D%2C%20%5B26.00525%2C%20-80.16678%5D%2C%20%5B40.19292%2C%20-75.52223000000002%5D%2C%20%5B33.695139000000005%2C%20-117.084803%5D%2C%20%5B44.8648%2C%20-93.42942%5D%2C%20%5B33.823043%2C%20-117.831835%5D%2C%20%5B40.053961%2C%20-86.54124300000002%5D%2C%20%5B33.79715%2C%20-111.49186%5D%2C%20%5B34.933959%2C%20-81.993809%5D%2C%20%5B32.184334%2C%20-110.968281%5D%2C%20%5B30.322265%2C%20-81.526684%5D%2C%20%5B38.379765%2C%20-81.804641%5D%2C%20%5B32.83602%2C%20-96.91501%5D%2C%20%5B42.694919%2C%20-114.44334%5D%2C%20%5B40.713124%2C%20-74.24355899999998%5D%2C%20%5B28.565755%2C%20-81.20743%5D%2C%20%5B40.070659%2C%20-75.152182%5D%2C%20%5B32.67794%2C%20-117.109524%5D%2C%20%5B33.97772%2C%20-118.0758%5D%2C%20%5B28.513757%2C%20-81.463613%5D%2C%20%5B45.27939%2C%20-93.00327%5D%2C%20%5B36.15766%2C%20-86.77098000000002%5D%2C%20%5B39.464789%2C%20-121.781805%5D%2C%20%5B40.73931%2C%20-74.064148%5D%2C%20%5B43.0349%2C%20-89.40993%5D%2C%20%5B34.120773%2C%20-80.859971%5D%2C%20%5B40.73208%2C%20-73.87064000000002%5D%2C%20%5B39.77035%2C%20-84.19485999999998%5D%2C%20%5B40.594986%2C%20-74.234522%5D%2C%20%5B27.472492%2C%20-82.563053%5D%2C%20%5B25.765675%2C%20-80.343939%5D%2C%20%5B35.369668%2C%20-80.734286%5D%2C%20%5B40.195723%2C%20-74.80903%5D%2C%20%5B44.06271%2C%20-123.04954%5D%2C%20%5B38.67866%2C%20-121.244348%5D%2C%20%5B37.843166%2C%20-122.485925%5D%2C%20%5B30.331549%2C%20-98.024645%5D%2C%20%5B38.493032%2C%20-122.892867%5D%2C%20%5B40.80437%2C%20-73.29781700000002%5D%2C%20%5B36.55547%2C%20-119.60607%5D%2C%20%5B40.839968%2C%20-73.92907199999998%5D%2C%20%5B25.954181%2C%20-80.245832%5D%2C%20%5B33.546613%2C%20-86.783055%5D%2C%20%5B38.690448%2C%20-121.406004%5D%2C%20%5B35.166249%2C%20-80.876127%5D%2C%20%5B43.610995%2C%20-122.11691299999998%5D%2C%20%5B34.071801%2C%20-81.146495%5D%2C%20%5B35.827178%2C%20-78.640136%5D%2C%20%5B35.23816%2C%20-80.73738%5D%2C%20%5B45.98173%2C%20-93.661955%5D%2C%20%5B33.871482%2C%20-117.68551399999998%5D%2C%20%5B45.45815800000001%2C%20-122.579066%5D%2C%20%5B33.91614000000001%2C%20-118.236505%5D%2C%20%5B33.725081%2C%20-117.803373%5D%2C%20%5B34.301301%2C%20-117.459307%5D%2C%20%5B33.515309%2C%20-81.907414%5D%2C%20%5B34.113465999999995%2C%20-118.088563%5D%2C%20%5B34.13881%2C%20-118.71878999999998%5D%2C%20%5B45.555979%2C%20-118.462904%5D%2C%20%5B34.557984000000005%2C%20-118.132566%5D%2C%20%5B40.85288%2C%20-74.42436%5D%2C%20%5B47.315841%2C%20-93.345758%5D%2C%20%5B45.640053%2C%20-94.175976%5D%2C%20%5B29.52044%2C%20-98.48371%5D%2C%20%5B37.664598%2C%20-121.324478%5D%2C%20%5B45.470041%2C%20-122.683135%5D%2C%20%5B39.801276%2C%20-120.168839%5D%2C%20%5B37.241734%2C%20-121.768333%5D%2C%20%5B45.0954%2C%20-93.18835%5D%2C%20%5B37.216419%2C%20-122.406262%5D%2C%20%5B32.159456%2C%20-111.007212%5D%2C%20%5B39.885659%2C%20-76.816707%5D%2C%20%5B44.061645%2C%20-123.089243%5D%2C%20%5B45.802119%2C%20-108.535598%5D%2C%20%5B34.157779%2C%20-118.452322%5D%2C%20%5B45.55709%2C%20-122.56723%5D%2C%20%5B38.26149%2C%20-85.74201%5D%2C%20%5B34.06564%2C%20-117.25558%5D%2C%20%5B40.055918%2C%20-76.310854%5D%2C%20%5B26.230382%2C%20-80.126426%5D%2C%20%5B34.910493%2C%20-117.082834%5D%2C%20%5B39.982717%2C%20-76.162588%5D%2C%20%5B34.888145%2C%20-81.747711%5D%2C%20%5B45.599354%2C%20-122.78627%5D%2C%20%5B36.874827%2C%20-121.770776%5D%2C%20%5B27.837446000000003%2C%20-82.728404%5D%2C%20%5B37.422605%2C%20-120.766332%5D%2C%20%5B38.939197%2C%20-94.601698%5D%2C%20%5B25.83233%2C%20-80.20581%5D%2C%20%5B38.944348%2C%20-76.798549%5D%2C%20%5B41.625899%2C%20-73.775221%5D%2C%20%5B39.989119%2C%20-75.989106%5D%2C%20%5B34.38049%2C%20-80.20231700000002%5D%2C%20%5B38.749691%2C%20-76.879824%5D%2C%20%5B36.24724000000001%2C%20-119.421157%5D%2C%20%5B35.259394%2C%20-120.673529%5D%2C%20%5B39.109592%2C%20-108.422536%5D%2C%20%5B45.55433%2C%20-122.52116%5D%2C%20%5B45.557811%2C%20-122.67849%5D%2C%20%5B44.6393%2C%20-123.06224%5D%2C%20%5B35.197668%2C%20-80.790503%5D%2C%20%5B39.36016%2C%20-76.65185%5D%2C%20%5B34.343672%2C%20-118.358448%5D%2C%20%5B40.72542%2C%20-111.901544%5D%2C%20%5B37.570861%2C%20-122.045263%5D%2C%20%5B28.694819%2C%20-81.381675%5D%2C%20%5B33.651951000000004%2C%20-117.76171%5D%2C%20%5B37.686598%2C%20-121.056923%5D%2C%20%5B34.067501%2C%20-117.549923%5D%2C%20%5B26.00613%2C%20-80.16683%5D%2C%20%5B47.65586500000001%2C%20-95.96725%5D%2C%20%5B38.698686%2C%20-76.86924499999998%5D%2C%20%5B42.4216%2C%20-83.09092%5D%2C%20%5B37.403021%2C%20-122.046906%5D%2C%20%5B38.619767%2C%20-121.560138%5D%2C%20%5B41.25505%2C%20-96.07718%5D%2C%20%5B47.51752800000001%2C%20-122.37692%5D%2C%20%5B34.416443%2C%20-119.691807%5D%2C%20%5B38.59391%2C%20-121.44458%5D%2C%20%5B45.066591%2C%20-93.193171%5D%2C%20%5B44.504142%2C%20-93.290032%5D%2C%20%5B38.983852%2C%20-76.592855%5D%2C%20%5B41.653965%2C%20-72.67233900000002%5D%2C%20%5B25.87761%2C%20-80.388191%5D%2C%20%5B36.16759%2C%20-80.26387%5D%2C%20%5B32.747812%2C%20-97.308748%5D%2C%20%5B38.85951%2C%20-110.82397%5D%2C%20%5B33.37112800000001%2C%20-117.252275%5D%2C%20%5B44.645401%2C%20-92.772277%5D%2C%20%5B36.92305800000001%2C%20-119.882339%5D%2C%20%5B39.095802%2C%20-120.949553%5D%2C%20%5B37.953409%2C%20-120.349805%5D%2C%20%5B31.679028%2C%20-106.316122%5D%2C%20%5B45.580377%2C%20-122.10751299999998%5D%2C%20%5B43.75435%2C%20-123.10133%5D%2C%20%5B27.323672%2C%20-82.497517%5D%2C%20%5B34.980652%2C%20-81.086097%5D%2C%20%5B25.580702%2C%20-80.41434699999998%5D%2C%20%5B34.050873%2C%20-118.006333%5D%2C%20%5B30.499262%2C%20-97.600255%5D%2C%20%5B29.749423%2C%20-82.223203%5D%2C%20%5B32.162345%2C%20-110.950684%5D%2C%20%5B34.10807%2C%20-118.33081%5D%2C%20%5B32.663672%2C%20-117.109349%5D%2C%20%5B38.687246%2C%20-76.872371%5D%2C%20%5B33.967874%2C%20-118.083128%5D%2C%20%5B33.98495%2C%20-118.072375%5D%2C%20%5B32.312061%2C%20-110.978455%5D%2C%20%5B47.12201%2C%20-122.43488%5D%2C%20%5B35.47876%2C%20-97.52878%5D%2C%20%5B37.313938%2C%20-121.826988%5D%2C%20%5B34.07375%2C%20-80.99965999999998%5D%2C%20%5B32.909599%2C%20-96.888996%5D%2C%20%5B33.940146%2C%20-118.046403%5D%2C%20%5B45.832694%2C%20-119.761174%5D%2C%20%5B25.865305%2C%20-80.236275%5D%2C%20%5B34.13217%2C%20-117.94976%5D%2C%20%5B33.98834%2C%20-117.90313%5D%2C%20%5B38.761548%2C%20-120.585266%5D%2C%20%5B25.753093%2C%20-80.204735%5D%2C%20%5B39.3584%2C%20-76.60991%5D%2C%20%5B32.842712%2C%20-96.5893%5D%2C%20%5B34.119821%2C%20-117.838627%5D%2C%20%5B27.968044%2C%20-82.754612%5D%2C%20%5B29.996141%2C%20-90.122147%5D%2C%20%5B34.2221%2C%20-118.368683%5D%2C%20%5B34.63145%2C%20-86.88516%5D%2C%20%5B45.059524%2C%20-93.306581%5D%2C%20%5B32.270429%2C%20-86.35255500000002%5D%2C%20%5B47.67985%2C%20-92.86608%5D%2C%20%5B33.60474%2C%20-117.690516%5D%2C%20%5B33.839596%2C%20-81.103687%5D%2C%20%5B35.769924%2C%20-78.574555%5D%2C%20%5B32.207479%2C%20-110.841065%5D%2C%20%5B33.907814%2C%20-118.067895%5D%2C%20%5B38.988825%2C%20-77.14856400000002%5D%2C%20%5B27.40956%2C%20-81.727237%5D%2C%20%5B32.749990999999994%2C%20-117.206841%5D%2C%20%5B40.893999%2C%20-74.273425%5D%2C%20%5B33.933304%2C%20-118.30031%5D%2C%20%5B47.63667%2C%20-122.34397%5D%2C%20%5B25.769228%2C%20-80.348056%5D%2C%20%5B32.678252%2C%20-96.805937%5D%2C%20%5B37.423339%2C%20-77.612092%5D%2C%20%5B26.336191%2C%20-81.751016%5D%2C%20%5B43.164895%2C%20-77.659396%5D%2C%20%5B36.327993%2C%20-119.622006%5D%2C%20%5B37.18796%2C%20-93.63534%5D%2C%20%5B27.452985%2C%20-82.538883%5D%2C%20%5B40.651197%2C%20-73.95891800000003%5D%2C%20%5B33.94331%2C%20-117.08185%5D%2C%20%5B42.15386%2C%20-88.06286%5D%2C%20%5B39.936852%2C%20-75.144165%5D%2C%20%5B34.03985%2C%20-118.051691%5D%2C%20%5B32.660561%2C%20-97.061623%5D%2C%20%5B34.315255%2C%20-117.478704%5D%2C%20%5B37.63429%2C%20-121.39434%5D%2C%20%5B29.70485900000001%2C%20-95.552524%5D%2C%20%5B28.34478%2C%20-81.36385%5D%2C%20%5B25.598634%2C%20-80.352987%5D%2C%20%5B34.379381%2C%20-118.491402%5D%2C%20%5B39.096704%2C%20-94.59545%5D%2C%20%5B41.33362%2C%20-87.22026%5D%2C%20%5B34.010511%2C%20-117.823493%5D%2C%20%5B26.6412%2C%20-81.839096%5D%2C%20%5B40.65307%2C%20-111.955504%5D%2C%20%5B30.48137800000001%2C%20-87.228055%5D%2C%20%5B37.31486%2C%20-121.91093%5D%2C%20%5B34.15315%2C%20-118.28681%5D%2C%20%5B44.656638%2C%20-118.38152%5D%2C%20%5B37.953007%2C%20-122.565801%5D%2C%20%5B41.38291%2C%20-73.58024300000002%5D%2C%20%5B44.91092%2C%20-93.14382%5D%2C%20%5B44.717928%2C%20-92.847443%5D%2C%20%5B38.754975%2C%20-121.3585%5D%2C%20%5B42.531198%2C%20-73.784683%5D%2C%20%5B41.239918%2C%20-76.999974%5D%2C%20%5B40.20929%2C%20-74.08484%5D%2C%20%5B32.717764%2C%20-117.114245%5D%2C%20%5B43.589797%2C%20-116.248638%5D%2C%20%5B37.006341%2C%20-77.669445%5D%2C%20%5B29.811225%2C%20-95.345911%5D%2C%20%5B33.68721%2C%20-117.87221%5D%2C%20%5B26.207788%2C%20-80.139566%5D%2C%20%5B33.935428%2C%20-81.076789%5D%2C%20%5B33.972641%2C%20-118.079466%5D%2C%20%5B39.943729%2C%20-75.57624200000002%5D%2C%20%5B40.580738%2C%20-122.360712%5D%2C%20%5B32.495868%2C%20-83.607941%5D%2C%20%5B33.986197%2C%20-117.346205%5D%2C%20%5B41.729024%2C%20-87.62436%5D%2C%20%5B35.810026%2C%20-78.64944%5D%2C%20%5B32.887994%2C%20-96.898196%5D%2C%20%5B27.557874%2C%20-82.540149%5D%2C%20%5B43.15903%2C%20-76.32746999999998%5D%2C%20%5B33.959999%2C%20-118.288151%5D%2C%20%5B38.427328%2C%20-78.876908%5D%2C%20%5B37.252004%2C%20-121.91199%5D%2C%20%5B44.77719%2C%20-93.51158%5D%2C%20%5B38.221607%2C%20-121.528335%5D%2C%20%5B28.693372%2C%20-81.556712%5D%2C%20%5B32.829901%2C%20-96.777404%5D%2C%20%5B25.895086%2C%20-80.209411%5D%2C%20%5B33.78625%2C%20-117.88005%5D%2C%20%5B32.18699%2C%20-110.96833%5D%2C%20%5B34.126409%2C%20-117.916033%5D%2C%20%5B36.959812%2C%20-120.063191%5D%2C%20%5B38.291349%2C%20-121.277223%5D%2C%20%5B34.7183%2C%20-82.5691%5D%2C%20%5B43.23311%2C%20-77.92766999999998%5D%2C%20%5B33.93828%2C%20-118.36855%5D%2C%20%5B34.064704%2C%20-117.260619%5D%2C%20%5B43.862024%2C%20-91.642402%5D%2C%20%5B25.767368%2C%20-80.357872%5D%2C%20%5B34.278475%2C%20-117.451457%5D%2C%20%5B33.813052%2C%20-117.877961%5D%2C%20%5B38.686941%2C%20-121.308644%5D%2C%20%5B39.961105%2C%20-75.1822%5D%2C%20%5B36.263669%2C%20-86.70445500000002%5D%2C%20%5B41.287156%2C%20-72.925163%5D%2C%20%5B40.833102%2C%20-73.931754%5D%2C%20%5B38.935793%2C%20-77.13429000000002%5D%2C%20%5B35.84929%2C%20-90.66483%5D%2C%20%5B42.5765%2C%20-113.94993999999998%5D%2C%20%5B39.222267%2C%20-76.84759%5D%2C%20%5B32.74671%2C%20-96.815626%5D%2C%20%5B32.07987%2C%20-81.13198%5D%2C%20%5B35.141737%2C%20-85.20863100000003%5D%2C%20%5B25.913233%2C%20-80.33001%5D%2C%20%5B36.850017%2C%20-76.32894300000002%5D%2C%20%5B28.381726%2C%20-80.920643%5D%2C%20%5B39.77841%2C%20-104.91289%5D%2C%20%5B41.93991%2C%20-78.145891%5D%2C%20%5B32.846990000000005%2C%20-79.97946%5D%2C%20%5B34.656618%2C%20-118.153141%5D%2C%20%5B29.70603%2C%20-95.51106%5D%2C%20%5B25.579728%2C%20-80.476905%5D%2C%20%5B35.793212%2C%20-76.723802%5D%2C%20%5B38.13801%2C%20-85.68647%5D%2C%20%5B36.619807%2C%20-119.810723%5D%2C%20%5B33.63308%2C%20-83.97412%5D%2C%20%5B33.977053000000005%2C%20-118.167343%5D%2C%20%5B42.01117%2C%20-73.27484%5D%2C%20%5B38.82154%2C%20-91.14313%5D%2C%20%5B38.88314%2C%20-111.595576%5D%2C%20%5B28.35673%2C%20-80.79274000000002%5D%2C%20%5B25.947502%2C%20-80.150083%5D%2C%20%5B26.51443%2C%20-80.07240999999998%5D%2C%20%5B25.810541%2C%20-80.169673%5D%2C%20%5B40.47546%2C%20-74.287816%5D%2C%20%5B33.884912%2C%20-117.633931%5D%2C%20%5B34.155559000000004%2C%20-118.434851%5D%2C%20%5B32.789688%2C%20-97.321926%5D%2C%20%5B41.740099%2C%20-72.66365%5D%2C%20%5B33.581693%2C%20-112.231594%5D%2C%20%5B34.030529%2C%20-117.650617%5D%2C%20%5B39.100766%2C%20-119.909446%5D%2C%20%5B40.056572%2C%20-74.88825200000002%5D%2C%20%5B37.578639%2C%20-120.942303%5D%2C%20%5B36.288949%2C%20-121.292585%5D%2C%20%5B35.197414%2C%20-80.826603%5D%2C%20%5B35.006657000000004%2C%20-118.95156%5D%2C%20%5B26.06606%2C%20-80.21536%5D%2C%20%5B42.240527%2C%20-87.981737%5D%2C%20%5B34.12556%2C%20-118.476271%5D%2C%20%5B34.226074%2C%20-79.794984%5D%2C%20%5B29.505115000000004%2C%20-98.69965%5D%2C%20%5B40.66754%2C%20-73.77433%5D%2C%20%5B38.83967%2C%20-77.44457%5D%2C%20%5B36.54983%2C%20-119.59975%5D%2C%20%5B45.868607%2C%20-108.445923%5D%2C%20%5B43.639202%2C%20-95.562881%5D%2C%20%5B47.45030300000001%2C%20-111.327535%5D%2C%20%5B39.909178%2C%20-75.15316800000002%5D%2C%20%5B25.650785%2C%20-80.331704%5D%2C%20%5B29.712157%2C%20-95.261182%5D%2C%20%5B31.471581%2C%20-81.44684000000002%5D%2C%20%5B34.071528%2C%20-117.768314%5D%2C%20%5B34.17326%2C%20-118.3065%5D%2C%20%5B33.98605%2C%20-118.280251%5D%2C%20%5B47.528858%2C%20-95.469295%5D%2C%20%5B25.626388%2C%20-80.41311400000002%5D%2C%20%5B43.38229000000001%2C%20-123.33834%5D%2C%20%5B32.758876%2C%20-117.20973%5D%2C%20%5B25.698103%2C%20-80.40033000000003%5D%2C%20%5B32.717943%2C%20-97.062852%5D%2C%20%5B38.88163400000001%2C%20-78.52189399999997%5D%2C%20%5B37.70098%2C%20-122.39317%5D%2C%20%5B35.60778900000001%2C%20-77.428165%5D%2C%20%5B39.23929%2C%20-76.70245200000002%5D%2C%20%5B35.861873%2C%20-78.592541%5D%2C%20%5B37.69321%2C%20-97.35285%5D%2C%20%5B28.567157%2C%20-81.211286%5D%2C%20%5B25.627905%2C%20-80.34143399999998%5D%2C%20%5B30.315004%2C%20-97.677458%5D%2C%20%5B30.317366%2C%20-81.769607%5D%2C%20%5B34.296890000000005%2C%20-118.41673%5D%2C%20%5B30.468059000000004%2C%20-87.238929%5D%2C%20%5B39.13706%2C%20-76.75686%5D%2C%20%5B36.989124%2C%20-122.017957%5D%2C%20%5B26.082368%2C%20-80.216526%5D%2C%20%5B34.189845%2C%20-79.801348%5D%2C%20%5B30.456901%2C%20-81.700998%5D%2C%20%5B43.301828%2C%20-75.473423%5D%2C%20%5B38.002351%2C%20-121.832686%5D%2C%20%5B33.851333000000004%2C%20-118.20494%5D%2C%20%5B37.527341%2C%20-77.297753%5D%2C%20%5B35.386024%2C%20-119.196027%5D%2C%20%5B39.00958%2C%20-77.13327%5D%2C%20%5B36.82741400000001%2C%20-79.164377%5D%2C%20%5B39.219929%2C%20-121.470155%5D%2C%20%5B30.07302%2C%20-89.92564%5D%2C%20%5B40.52821%2C%20-74.354363%5D%2C%20%5B38.71145%2C%20-121.338559%5D%2C%20%5B37.71903%2C%20-97.32037%5D%2C%20%5B40.795255%2C%20-76.409637%5D%2C%20%5B28.408924%2C%20-81.404756%5D%2C%20%5B35.68826%2C%20-78.65151%5D%2C%20%5B43.98255%2C%20-117.210555%5D%2C%20%5B33.986345%2C%20-117.346376%5D%2C%20%5B43.637598%2C%20-95.357648%5D%2C%20%5B35.843975%2C%20-78.68062900000002%5D%2C%20%5B33.19765%2C%20-117.20426100000002%5D%2C%20%5B32.743936%2C%20-117.062083%5D%2C%20%5B33.49358%2C%20-80.835098%5D%2C%20%5B36.05842%2C%20-80.21048%5D%2C%20%5B34.033178%2C%20-118.26436%5D%2C%20%5B40.063072%2C%20-76.281327%5D%2C%20%5B40.43217%2C%20-75.42164%5D%2C%20%5B26.386937%2C%20-80.104263%5D%2C%20%5B38.524931%2C%20-77.36743100000002%5D%2C%20%5B34.936147%2C%20-119.513558%5D%2C%20%5B32.81235%2C%20-97.31399%5D%2C%20%5B45.50879000000001%2C%20-122.73255%5D%2C%20%5B39.491804%2C%20-77.562628%5D%2C%20%5B40.77115%2C%20-112.046744%5D%2C%20%5B37.56055%2C%20-121.90874%5D%2C%20%5B28.48275%2C%20-81.44471999999998%5D%2C%20%5B38.572817%2C%20-121.417075%5D%2C%20%5B36.350522%2C%20-119.13681499999998%5D%2C%20%5B30.594488%2C%20-83.120037%5D%2C%20%5B40.1569%2C%20-104.97871%5D%2C%20%5B41.599396%2C%20-72.754196%5D%2C%20%5B37.863905%2C%20-122.303047%5D%2C%20%5B37.58332%2C%20-77.33333%5D%2C%20%5B35.16715%2C%20-80.7948%5D%2C%20%5B28.147368%2C%20-81.444008%5D%2C%20%5B26.076459%2C%20-80.168604%5D%2C%20%5B47.688883%2C%20-114.070758%5D%2C%20%5B38.019367%2C%20-121.936957%5D%2C%20%5B32.242873%2C%20-111.0188%5D%2C%20%5B40.039347%2C%20-78.768875%5D%2C%20%5B34.055819%2C%20-117.691533%5D%2C%20%5B28.59736%2C%20-81.245926%5D%2C%20%5B44.75919%2C%20-93.2481%5D%2C%20%5B30.572975%2C%20-87.291836%5D%2C%20%5B32.854627%2C%20-96.752138%5D%2C%20%5B27.893882%2C%20-82.720845%5D%2C%20%5B34.036406%2C%20-80.938028%5D%2C%20%5B29.864218%2C%20-95.40726%5D%2C%20%5B32.967695%2C%20-96.720836%5D%2C%20%5B34.2183%2C%20-118.47314%5D%2C%20%5B28.57763%2C%20-81.46776%5D%2C%20%5B37.611717%2C%20-121.0186%5D%2C%20%5B30.551069%2C%20-91.161512%5D%2C%20%5B34.17221%2C%20-118.532415%5D%2C%20%5B35.91237%2C%20-78.78192%5D%2C%20%5B27.511596%2C%20-82.561379%5D%2C%20%5B28.426086%2C%20-81.40479300000001%5D%2C%20%5B40.83911%2C%20-73.92974%5D%2C%20%5B44.870234%2C%20-93.083413%5D%2C%20%5B34.014509999999994%2C%20-117.81937%5D%2C%20%5B42.16369%2C%20-88.05606999999998%5D%2C%20%5B33.681281%2C%20-117.894061%5D%2C%20%5B32.714972%2C%20-117.117884%5D%2C%20%5B32.162775%2C%20-111.061696%5D%2C%20%5B47.240423%2C%20-122.373681%5D%2C%20%5B40.14831%2C%20-75.85332%5D%2C%20%5B29.849102%2C%20-95.545209%5D%2C%20%5B33.94547%2C%20-118.36848%5D%2C%20%5B33.976465000000005%2C%20-117.371925%5D%2C%20%5B34.068690000000004%2C%20-117.37368%5D%2C%20%5B37.922044%2C%20-122.061426%5D%2C%20%5B38.44305%2C%20-122.72193%5D%2C%20%5B36.570364%2C%20-121.761785%5D%2C%20%5B33.922944%2C%20-118.205901%5D%2C%20%5B35.841729%2C%20-78.67896999999998%5D%2C%20%5B34.00354%2C%20-117.93046499999998%5D%2C%20%5B40.238555%2C%20-75.33816%5D%2C%20%5B43.661497%2C%20-123.737934%5D%2C%20%5B34.640307%2C%20-82.436236%5D%2C%20%5B40.87425800000001%2C%20-73.905447%5D%2C%20%5B28.551914%2C%20-81.491106%5D%2C%20%5B39.40263%2C%20-76.56744%5D%2C%20%5B33.882908%2C%20-117.353102%5D%2C%20%5B36.968854%2C%20-121.553303%5D%2C%20%5B39.1606%2C%20-76.71646%5D%2C%20%5B36.16835%2C%20-86.81456%5D%2C%20%5B25.776227%2C%20-80.320684%5D%2C%20%5B35.821264%2C%20-78.56909499999998%5D%2C%20%5B39.08457%2C%20-77.13634%5D%2C%20%5B32.13391%2C%20-110.9777%5D%2C%20%5B38.767469%2C%20-112.08477%5D%2C%20%5B37.09323%2C%20-76.4627%5D%2C%20%5B28.001809%2C%20-82.302485%5D%2C%20%5B33.897449%2C%20-117.490217%5D%2C%20%5B40.003707%2C%20-75.230338%5D%2C%20%5B40.782862%2C%20-80.328%5D%2C%20%5B38.574952%2C%20-121.415453%5D%2C%20%5B36.792706%2C%20-121.667003%5D%2C%20%5B32.275781%2C%20-95.292405%5D%2C%20%5B38.91779%2C%20-76.932245%5D%2C%20%5B39.398227%2C%20-76.664754%5D%2C%20%5B32.79076%2C%20-96.75858%5D%2C%20%5B28.450899%2C%20-81.36789%5D%2C%20%5B37.931892%2C%20-79.229337%5D%2C%20%5B44.97454000000001%2C%20-93.29217%5D%2C%20%5B39.05351%2C%20-94.47819%5D%2C%20%5B36.151567%2C%20-86.77334599999998%5D%2C%20%5B34.57341%2C%20-86.90951%5D%2C%20%5B38.243072%2C%20-77.525862%5D%2C%20%5B40.736942%2C%20-74.123919%5D%2C%20%5B37.029279%2C%20-76.334089%5D%2C%20%5B25.937561%2C%20-80.261235%5D%2C%20%5B36.14014%2C%20-86.72285%5D%2C%20%5B35.129674%2C%20-80.94159%5D%2C%20%5B33.751534%2C%20-118.01283%5D%2C%20%5B36.078441%2C%20-86.765698%5D%2C%20%5B41.63947%2C%20-86.2944%5D%2C%20%5B41.286923%2C%20-72.925026%5D%2C%20%5B25.895833%2C%20-80.32458100000002%5D%2C%20%5B33.577619%2C%20-117.181001%5D%2C%20%5B37.07377%2C%20-113.10582%5D%2C%20%5B34.170999%2C%20-79.76280200000002%5D%2C%20%5B35.437559%2C%20-120.887228%5D%2C%20%5B27.99631500000001%2C%20-82.368646%5D%2C%20%5B35.009555%2C%20-85.668134%5D%2C%20%5B37.704521%2C%20-122.116335%5D%2C%20%5B36.07%2C%20-80.27364%5D%2C%20%5B30.414821000000003%2C%20-91.068491%5D%2C%20%5B39.772601%2C%20-104.828539%5D%2C%20%5B47.542135%2C%20-95.015023%5D%2C%20%5B32.919476%2C%20-96.4195%5D%2C%20%5B34.014691%2C%20-117.550503%5D%2C%20%5B45.295575%2C%20-93.552889%5D%2C%20%5B29.961298%2C%20-90.015842%5D%2C%20%5B33.930155%2C%20-117.993589%5D%2C%20%5B39.3587%2C%20-76.50393000000003%5D%2C%20%5B38.018752%2C%20-121.937094%5D%2C%20%5B39.930099%2C%20-86.166404%5D%2C%20%5B33.47448%2C%20-112.03847%5D%2C%20%5B40.62978%2C%20-111.86598%5D%2C%20%5B25.674366%2C%20-80.309774%5D%2C%20%5B34.186608%2C%20-118.535012%5D%2C%20%5B36.968545%2C%20-76.29881800000003%5D%2C%20%5B39.648348%2C%20-75.734911%5D%2C%20%5B35.68627%2C%20-78.60404%5D%2C%20%5B33.136781%2C%20-117.171025%5D%2C%20%5B41.2602%2C%20-81.92756999999997%5D%2C%20%5B25.78374%2C%20-80.26748%5D%2C%20%5B33.05511%2C%20-87.58008000000002%5D%2C%20%5B29.54627%2C%20-95.38763%5D%2C%20%5B42.01389%2C%20-87.75305%5D%2C%20%5B29.58757%2C%20-98.3489%5D%2C%20%5B37.592899%2C%20-121.882238%5D%2C%20%5B33.774694000000004%2C%20-118.08173899999998%5D%2C%20%5B33.90214%2C%20-118.18644%5D%2C%20%5B28.56701%2C%20-81.29434%5D%2C%20%5B33.38626%2C%20-111.81673%5D%2C%20%5B40.04941%2C%20-75.63521800000002%5D%2C%20%5B45.064937%2C%20-93.16212%5D%2C%20%5B39.15198%2C%20-82.977%5D%2C%20%5B28.352399%2C%20-81.48758000000002%5D%2C%20%5B39.12608%2C%20-77.07221%5D%2C%20%5B38.653502%2C%20-121.070771%5D%2C%20%5B34.989665%2C%20-81.99553900000002%5D%2C%20%5B29.516691%2C%20-98.527647%5D%2C%20%5B26.179913%2C%20-81.735344%5D%2C%20%5B40.69857%2C%20-73.81418000000002%5D%2C%20%5B29.68051%2C%20-95.38417%5D%2C%20%5B40.827582%2C%20-73.411549%5D%2C%20%5B34.147549%2C%20-118.082234%5D%2C%20%5B39.958975%2C%20-76.720814%5D%2C%20%5B39.698871%2C%20-86.107095%5D%2C%20%5B34.03038%2C%20-117.68486%5D%2C%20%5B37.329347%2C%20-120.563231%5D%2C%20%5B40.734145%2C%20-73.42357700000002%5D%2C%20%5B43.058129%2C%20-76.0835%5D%2C%20%5B33.9053%2C%20-118.06583%5D%2C%20%5B41.226161%2C%20-95.948305%5D%2C%20%5B27.461503000000004%2C%20-82.526013%5D%2C%20%5B40.105807%2C%20-75.346809%5D%2C%20%5B25.778294%2C%20-80.200152%5D%2C%20%5B38.740936%2C%20-121.273022%5D%2C%20%5B40.543029%2C%20-74.503875%5D%2C%20%5B42.45431%2C%20-83.09551%5D%2C%20%5B27.967887%2C%20-82.752847%5D%2C%20%5B40.504714%2C%20-74.37743%5D%2C%20%5B25.92733%2C%20-80.217706%5D%2C%20%5B34.01741%2C%20-117.34127%5D%2C%20%5B33.913668%2C%20-118.104754%5D%2C%20%5B33.509342%2C%20-112.030312%5D%2C%20%5B41.61492%2C%20-72.696998%5D%2C%20%5B33.894056%2C%20-84.463437%5D%2C%20%5B39.984387%2C%20-74.883638%5D%2C%20%5B44.32007%2C%20-121.17237%5D%2C%20%5B35.20985%2C%20-80.75718%5D%2C%20%5B33.938267%2C%20-117.40046%5D%2C%20%5B34.042839%2C%20-81.098017%5D%2C%20%5B25.71377%2C%20-80.382491%5D%2C%20%5B35.074246%2C%20-81.96481%5D%2C%20%5B39.667934%2C%20-75.602125%5D%2C%20%5B25.63346%2C%20-80.382633%5D%2C%20%5B43.66829%2C%20-123.65267%5D%2C%20%5B30.13807000000001%2C%20-81.77375%5D%2C%20%5B36.15875%2C%20-86.81855%5D%2C%20%5B35.29101%2C%20-80.76918%5D%2C%20%5B29.897871%2C%20-95.437363%5D%2C%20%5B33.897887%2C%20-117.274887%5D%2C%20%5B33.471043%2C%20-80.896556%5D%2C%20%5B35.68614%2C%20-78.61754%5D%2C%20%5B33.034135%2C%20-109.960035%5D%2C%20%5B32.492706%2C%20-93.783859%5D%2C%20%5B28.955465000000004%2C%20-80.953177%5D%2C%20%5B33.90253%2C%20-84.27356%5D%2C%20%5B37.59836%2C%20-77.49671%5D%2C%20%5B43.193957%2C%20-77.623402%5D%2C%20%5B33.85412%2C%20-117.91986%5D%2C%20%5B25.877268%2C%20-80.242762%5D%2C%20%5B33.68789%2C%20-117.904683%5D%2C%20%5B32.793602%2C%20-117.086227%5D%2C%20%5B38.64957%2C%20-121.37233%5D%2C%20%5B43.18741%2C%20-89.236733%5D%2C%20%5B34.032678000000004%2C%20-118.310778%5D%2C%20%5B45.093408%2C%20-93.762342%5D%2C%20%5B34.760147%2C%20-117.158203%5D%2C%20%5B38.41553%2C%20-81.79826%5D%2C%20%5B32.923769%2C%20-96.841852%5D%2C%20%5B45.142532%2C%20-93.270632%5D%2C%20%5B33.388145%2C%20-86.66801600000002%5D%2C%20%5B28.275206%2C%20-81.59983100000002%5D%2C%20%5B34.0376%2C%20-118.0862%5D%2C%20%5B40.74656%2C%20-74.1612%5D%2C%20%5B33.54538%2C%20-81.84999300000001%5D%2C%20%5B33.83511%2C%20-84.19717%5D%2C%20%5B30.121046000000003%2C%20-82.65760300000002%5D%2C%20%5B25.918495%2C%20-80.212027%5D%2C%20%5B41.23259%2C%20-73.22235%5D%2C%20%5B43.678844%2C%20-116.354092%5D%2C%20%5B36.32654%2C%20-119.272845%5D%2C%20%5B35.49321%2C%20-97.43283%5D%2C%20%5B33.845305%2C%20-117.95893%5D%2C%20%5B43.59333%2C%20-116.43402%5D%2C%20%5B26.556613%2C%20-81.896165%5D%2C%20%5B26.544041%2C%20-81.886985%5D%2C%20%5B36.070398%2C%20-86.70873%5D%2C%20%5B38.52549000000001%2C%20-77.36555%5D%2C%20%5B28.063801%2C%20-82.738764%5D%2C%20%5B28.575209%2C%20-81.451796%5D%2C%20%5B41.213326%2C%20-76.763948%5D%2C%20%5B30.008002%2C%20-90.221435%5D%2C%20%5B37.450472%2C%20-77.486239%5D%2C%20%5B34.438404%2C%20-119.79071299999998%5D%2C%20%5B37.990068%2C%20-122.13353899999998%5D%2C%20%5B39.466746%2C%20-119.784118%5D%2C%20%5B32.654902%2C%20-96.879113%5D%2C%20%5B35.2443%2C%20-80.8488%5D%2C%20%5B34.95512%2C%20-110.34352%5D%2C%20%5B47.494327%2C%20-92.466743%5D%2C%20%5B34.061253%2C%20-117.795607%5D%2C%20%5B36.628556%2C%20-121.838%5D%2C%20%5B33.144441%2C%20-117.333429%5D%2C%20%5B30.313947%2C%20-81.658375%5D%2C%20%5B36.171105%2C%20-86.869059%5D%2C%20%5B38.156601%2C%20-120.473874%5D%2C%20%5B37.990034%2C%20-122.005648%5D%2C%20%5B34.0295%2C%20-118.2228%5D%2C%20%5B32.206857%2C%20-110.960064%5D%2C%20%5B33.849665%2C%20-117.848033%5D%2C%20%5B30.42625300000001%2C%20-97.671078%5D%2C%20%5B25.929465%2C%20-80.188313%5D%2C%20%5B37.215165%2C%20-121.988086%5D%2C%20%5B39.40106%2C%20-74.558962%5D%2C%20%5B37.839886%2C%20-122.26375%5D%2C%20%5B25.947404%2C%20-80.148965%5D%2C%20%5B39.589355%2C%20-77.81374699999998%5D%2C%20%5B33.971514%2C%20-118.256402%5D%2C%20%5B39.611963%2C%20-79.92188900000002%5D%2C%20%5B40.85002%2C%20-73.94399%5D%2C%20%5B41.53906%2C%20-81.63455%5D%2C%20%5B40.66614000000001%2C%20-73.80536%5D%2C%20%5B35.273441%2C%20-90.415259%5D%2C%20%5B39.77697%2C%20-74.244825%5D%2C%20%5B42.859712%2C%20-73.764838%5D%2C%20%5B30.361479%2C%20-81.66859699999998%5D%2C%20%5B35.35313400000001%2C%20-119.039386%5D%2C%20%5B33.200235%2C%20-97.145466%5D%2C%20%5B34.712179%2C%20-92.389674%5D%2C%20%5B35.15867%2C%20-80.89138%5D%2C%20%5B40.888506%2C%20-74.474397%5D%2C%20%5B40.953716%2C%20-76.666127%5D%2C%20%5B40.03977%2C%20-76.36513000000002%5D%2C%20%5B35.74877100000001%2C%20-78.593991%5D%2C%20%5B43.882564%2C%20-122.712005%5D%2C%20%5B44.493137%2C%20-117.366052%5D%2C%20%5B33.05317%2C%20-96.69629%5D%2C%20%5B30.426601%2C%20-91.053273%5D%2C%20%5B30.472059%2C%20-88.397254%5D%2C%20%5B39.354325%2C%20-76.498737%5D%2C%20%5B38.442281%2C%20-122.721671%5D%2C%20%5B33.918474%2C%20-118.374325%5D%2C%20%5B34.056709999999995%2C%20-118.333047%5D%2C%20%5B44.054411%2C%20-123.533224%5D%2C%20%5B36.851245%2C%20-77.89769%5D%2C%20%5B41.017007%2C%20-73.725223%5D%2C%20%5B25.913174%2C%20-80.20992%5D%2C%20%5B40.673394%2C%20-73.503682%5D%2C%20%5B35.419508%2C%20-119.040561%5D%2C%20%5B41.714606%2C%20-87.63648%5D%2C%20%5B45.234096%2C%20-93.643716%5D%2C%20%5B28.09675%2C%20-82.543276%5D%2C%20%5B33.945477000000004%2C%20-118.293195%5D%2C%20%5B40.399451%2C%20-111.919247%5D%2C%20%5B32.486759%2C%20-93.791458%5D%2C%20%5B34.05969%2C%20-80.95111700000002%5D%2C%20%5B34.286120000000004%2C%20-118.46795%5D%2C%20%5B34.581439%2C%20-118.133858%5D%2C%20%5B34.15331%2C%20-118.27743999999998%5D%2C%20%5B32.328053000000004%2C%20-81.056624%5D%2C%20%5B34.612326%2C%20-120.085323%5D%2C%20%5B39.473187%2C%20-75.16889599999998%5D%2C%20%5B33.74348%2C%20-84.37803000000002%5D%2C%20%5B33.737205%2C%20-112.305107%5D%2C%20%5B36.754844%2C%20-119.753959%5D%2C%20%5B32.705824%2C%20-96.903703%5D%2C%20%5B29.944581%2C%20-90.090561%5D%2C%20%5B38.81145%2C%20-77.2102%5D%2C%20%5B40.02121%2C%20-82.99503%5D%2C%20%5B36.291671%2C%20-120.267301%5D%2C%20%5B37.408807%2C%20-119.733426%5D%2C%20%5B41.6626%2C%20-87.68753000000002%5D%2C%20%5B37.21786%2C%20-77.38781%5D%2C%20%5B33.249541%2C%20-117.22201499999998%5D%2C%20%5B37.48200300000001%2C%20-121.935499%5D%2C%20%5B39.356149%2C%20-77.591274%5D%2C%20%5B36.683027%2C%20-120.656407%5D%2C%20%5B35.50122%2C%20-80.56265%5D%2C%20%5B33.368964%2C%20-117.250895%5D%2C%20%5B27.318179%2C%20-82.497355%5D%2C%20%5B28.449924%2C%20-81.479136%5D%2C%20%5B36.923153000000006%2C%20-119.960521%5D%2C%20%5B36.181901%2C%20-86.799614%5D%2C%20%5B38.50728400000001%2C%20-90.350197%5D%2C%20%5B41.88354%2C%20-87.94001%5D%2C%20%5B33.869015000000005%2C%20-117.730573%5D%2C%20%5B29.77728%2C%20-95.42233%5D%2C%20%5B32.94851%2C%20-96.7362%5D%2C%20%5B45.575969%2C%20-122.678719%5D%2C%20%5B43.23837%2C%20-77.678843%5D%2C%20%5B38.713251%2C%20-121.362941%5D%2C%20%5B35.495325%2C%20-120.680331%5D%2C%20%5B42.32303%2C%20-88.16473%5D%2C%20%5B43.51484%2C%20-91.81068%5D%2C%20%5B38.367279%2C%20-90.384265%5D%2C%20%5B36.135939%2C%20-86.698747%5D%2C%20%5B43.931195%2C%20-91.415859%5D%2C%20%5B34.027588%2C%20-118.452593%5D%2C%20%5B26.14619200000001%2C%20-80.464853%5D%2C%20%5B28.551917%2C%20-81.490844%5D%2C%20%5B28.469452%2C%20-81.456981%5D%2C%20%5B33.727425%2C%20-117.916595%5D%2C%20%5B38.6467%2C%20-77.28480400000002%5D%2C%20%5B36.12616%2C%20-115.18043%5D%2C%20%5B35.44971%2C%20-97.55462%5D%2C%20%5B34.239067%2C%20-119.125712%5D%2C%20%5B40.43581500000001%2C%20-79.96574100000002%5D%2C%20%5B36.148095%2C%20-86.69241099999998%5D%2C%20%5B40.82503%2C%20-73.88613000000002%5D%2C%20%5B33.375531%2C%20-117.562034%5D%2C%20%5B29.60038%2C%20-95.31448%5D%2C%20%5B35.744513%2C%20-78.915836%5D%2C%20%5B38.998962%2C%20-76.892062%5D%2C%20%5B38.685964%2C%20-121.333294%5D%2C%20%5B37.345436%2C%20-120.615259%5D%2C%20%5B28.552983%2C%20-81.394396%5D%2C%20%5B34.029663%2C%20-118.21762%5D%2C%20%5B34.11122%2C%20-118.18046%5D%2C%20%5B42.591931%2C%20-71.379147%5D%2C%20%5B45.52669%2C%20-122.64351%5D%2C%20%5B34.04231%2C%20-117.80145%5D%2C%20%5B28.495118%2C%20-81.45908%5D%2C%20%5B38.660842%2C%20-121.337163%5D%2C%20%5B36.749273%2C%20-119.862069%5D%2C%20%5B37.445968%2C%20-77.63692900000002%5D%2C%20%5B38.51074600000001%2C%20-121.370017%5D%2C%20%5B32.916711%2C%20-96.743463%5D%2C%20%5B33.844712%2C%20-117.828327%5D%2C%20%5B42.165063%2C%20-83.785147%5D%2C%20%5B37.607237%2C%20-77.596446%5D%2C%20%5B33.87836%2C%20-78.700707%5D%2C%20%5B40.558839%2C%20-111.903261%5D%2C%20%5B38.65055%2C%20-90.35192%5D%2C%20%5B32.489082%2C%20-93.756744%5D%2C%20%5B34.06645%2C%20-118.01802%5D%2C%20%5B35.501216%2C%20-80.562626%5D%2C%20%5B40.73223%2C%20-73.92532%5D%2C%20%5B32.359738%2C%20-86.256414%5D%2C%20%5B29.871751%2C%20-95.551625%5D%2C%20%5B35.417099%2C%20-119.243057%5D%2C%20%5B43.16055%2C%20-77.63887%5D%2C%20%5B40.25401%2C%20-103.79062%5D%2C%20%5B41.704283%2C%20-78.889721%5D%2C%20%5B44.34332%2C%20-121.600261%5D%2C%20%5B39.783017%2C%20-105.000712%5D%2C%20%5B37.544504%2C%20-121.201629%5D%2C%20%5B33.09433%2C%20-80.08404499999997%5D%2C%20%5B33.653221%2C%20-78.986777%5D%2C%20%5B28.727928%2C%20-81.60276%5D%2C%20%5B28.552469%2C%20-81.323635%5D%2C%20%5B30.448861%2C%20-91.251143%5D%2C%20%5B35.667318%2C%20-119.204674%5D%2C%20%5B34.037025%2C%20-118.309067%5D%2C%20%5B32.68625%2C%20-96.8484%5D%2C%20%5B44.98705%2C%20-93.238295%5D%2C%20%5B39.98935%2C%20-75.20638000000002%5D%2C%20%5B32.4673%2C%20-93.883705%5D%2C%20%5B44.965013%2C%20-93.282734%5D%2C%20%5B25.74786700000001%2C%20-80.330502%5D%2C%20%5B40.997032%2C%20-75.158682%5D%2C%20%5B38.57306%2C%20-121.50902%5D%2C%20%5B29.566644%2C%20-95.145136%5D%2C%20%5B41.961303%2C%20-112.70021%5D%2C%20%5B45.53222%2C%20-122.56464%5D%2C%20%5B33.414283000000005%2C%20-112.014445%5D%2C%20%5B41.58729%2C%20-87.68125%5D%2C%20%5B35.127035%2C%20-85.02919%5D%2C%20%5B44.928975%2C%20-93.143557%5D%2C%20%5B36.07283%2C%20-80.1484%5D%2C%20%5B32.8371%2C%20-97.00679%5D%2C%20%5B33.9348%2C%20-118.098323%5D%2C%20%5B45.62052%2C%20-118.80407%5D%2C%20%5B38.94284%2C%20-94.77608%5D%2C%20%5B35.1492%2C%20-80.833282%5D%2C%20%5B37.133113%2C%20-121.98121100000002%5D%2C%20%5B25.687068%2C%20-80.43012900000002%5D%2C%20%5B42.38495%2C%20-83.30707%5D%2C%20%5B29.608218%2C%20-95.484723%5D%2C%20%5B34.028775%2C%20-117.575553%5D%2C%20%5B41.777704%2C%20-95.344493%5D%2C%20%5B37.000651%2C%20-80.771484%5D%2C%20%5B38.56771%2C%20-121.50684%5D%2C%20%5B33.783634%2C%20-117.879427%5D%2C%20%5B40.52675%2C%20-111.882246%5D%2C%20%5B44.78%2C%20-68.7579%5D%2C%20%5B36.470366%2C%20-121.714385%5D%2C%20%5B45.14076%2C%20-93.25485%5D%2C%20%5B42.57506%2C%20-70.89005999999998%5D%2C%20%5B25.89279%2C%20-80.209539%5D%2C%20%5B40.889793%2C%20-74.069856%5D%2C%20%5B45.743336%2C%20-111.116258%5D%2C%20%5B25.687078%2C%20-80.364561%5D%2C%20%5B40.12951%2C%20-74.71576999999998%5D%2C%20%5B39.91628%2C%20-83.00093000000003%5D%2C%20%5B29.175742%2C%20-81.838696%5D%2C%20%5B39.018877%2C%20-77.145586%5D%2C%20%5B25.900209%2C%20-80.162665%5D%2C%20%5B25.938108%2C%20-80.293704%5D%2C%20%5B39.158931%2C%20-76.82884%5D%2C%20%5B42.045449%2C%20-87.870424%5D%2C%20%5B30.403343%2C%20-87.33981700000002%5D%2C%20%5B33.948218%2C%20-118.092951%5D%2C%20%5B32.367722%2C%20-95.327673%5D%2C%20%5B26.00011%2C%20-80.166792%5D%2C%20%5B38.018741%2C%20-121.942884%5D%2C%20%5B44.43655%2C%20-121.93893%5D%2C%20%5B38.95357%2C%20-76.92352%5D%2C%20%5B40.52045%2C%20-74.29468%5D%2C%20%5B38.68166400000001%2C%20-121.198376%5D%2C%20%5B32.778890000000004%2C%20-117.06143%5D%2C%20%5B41.90334%2C%20-87.88379%5D%2C%20%5B41.84462%2C%20-72.48706%5D%2C%20%5B39.736382%2C%20-105.014249%5D%2C%20%5B33.519612%2C%20-117.619698%5D%2C%20%5B41.616886%2C%20-87.041662%5D%2C%20%5B40.731972%2C%20-74.04575899999998%5D%2C%20%5B35.15344%2C%20-80.88613000000002%5D%2C%20%5B41.077975%2C%20-73.98443%5D%2C%20%5B39.579708%2C%20-77.629795%5D%2C%20%5B37.034128%2C%20-76.346856%5D%2C%20%5B33.722502%2C%20-117.975105%5D%2C%20%5B37.86979%2C%20-122.532153%5D%2C%20%5B30.429954%2C%20-85.552319%5D%2C%20%5B33.791046%2C%20-84.489725%5D%2C%20%5B36.845515%2C%20-76.248646%5D%2C%20%5B37.411234%2C%20-120.759272%5D%2C%20%5B40.636271%2C%20-103.157082%5D%2C%20%5B45.83224600000001%2C%20-120.936073%5D%2C%20%5B29.255805%2C%20-82.230414%5D%2C%20%5B38.568609%2C%20-121.331259%5D%2C%20%5B40.419098%2C%20-77.93046899999999%5D%2C%20%5B43.679507%2C%20-123.937902%5D%2C%20%5B32.769866%2C%20-96.622181%5D%2C%20%5B39.367221%2C%20-76.747967%5D%2C%20%5B38.892736%2C%20-76.955217%5D%2C%20%5B40.42672%2C%20-79.73895999999998%5D%2C%20%5B26.1476%2C%20-80.708473%5D%2C%20%5B41.63276%2C%20-83.542%5D%2C%20%5B41.569856%2C%20-87.421359%5D%2C%20%5B40.798062%2C%20-78.23129200000002%5D%2C%20%5B34.022021%2C%20-118.172949%5D%2C%20%5B29.880937%2C%20-95.756633%5D%2C%20%5B30.316611%2C%20-97.663553%5D%2C%20%5B45.375234000000006%2C%20-93.849379%5D%2C%20%5B42.930911%2C%20-74.290977%5D%2C%20%5B43.598682%2C%20-119.04851%5D%2C%20%5B42.676501%2C%20-84.401384%5D%2C%20%5B38.935284%2C%20-94.434629%5D%2C%20%5B34.652233%2C%20-83.137313%5D%2C%20%5B37.544601%2C%20-121.932248%5D%2C%20%5B28.60220300000001%2C%20-81.386127%5D%2C%20%5B38.49464%2C%20-76.933459%5D%2C%20%5B32.808017%2C%20-96.871665%5D%2C%20%5B38.920122%2C%20-94.763818%5D%2C%20%5B36.739774%2C%20-119.777438%5D%2C%20%5B28.188297%2C%20-82.542123%5D%2C%20%5B28.408412%2C%20-81.42483299999998%5D%2C%20%5B39.93679%2C%20-75.199166%5D%2C%20%5B32.818129%2C%20-117.148596%5D%2C%20%5B42.73978%2C%20-73.68583000000002%5D%2C%20%5B40.81113%2C%20-73.96683%5D%2C%20%5B45.371175%2C%20-122.585535%5D%2C%20%5B35.098728%2C%20-81.98781%5D%2C%20%5B33.193286%2C%20-117.364596%5D%2C%20%5B36.836696%2C%20-76.196333%5D%2C%20%5B33.666455%2C%20-117.894094%5D%2C%20%5B38.065783%2C%20-77.506668%5D%2C%20%5B25.488623%2C%20-80.45718000000002%5D%2C%20%5B33.131929%2C%20-87.546961%5D%2C%20%5B25.644006%2C%20-80.330442%5D%2C%20%5B38.56198%2C%20-121.64736%5D%2C%20%5B45.620407%2C%20-123.215343%5D%2C%20%5B41.92302%2C%20-87.96401%5D%2C%20%5B41.78419%2C%20-72.66055%5D%2C%20%5B39.473582%2C%20-119.787447%5D%2C%20%5B28.385739%2C%20-81.50255200000002%5D%2C%20%5B34.089554%2C%20-118.815457%5D%2C%20%5B25.686118%2C%20-80.395154%5D%2C%20%5B38.63768%2C%20-90.34383%5D%2C%20%5B34.735040000000005%2C%20-86.6273%5D%2C%20%5B38.321439%2C%20-121.325398%5D%2C%20%5B37.315353%2C%20-121.940269%5D%2C%20%5B40.539218%2C%20-111.893724%5D%2C%20%5B30.600964%2C%20-87.157505%5D%2C%20%5B45.515332%2C%20-122.693781%5D%2C%20%5B37.659867%2C%20-122.103737%5D%2C%20%5B43.21393%2C%20-77.51445%5D%2C%20%5B33.484686%2C%20-117.141991%5D%2C%20%5B42.989016%2C%20-85.69306%5D%2C%20%5B34.044259000000004%2C%20-117.156797%5D%2C%20%5B35.165367%2C%20-78.70949399999998%5D%2C%20%5B45.451475%2C%20-122.579033%5D%2C%20%5B30.322573%2C%20-97.720243%5D%2C%20%5B40.533767%2C%20-74.376937%5D%2C%20%5B47.269233%2C%20-122.147021%5D%2C%20%5B42.5489%2C%20-73.671537%5D%2C%20%5B29.996788%2C%20-90.135285%5D%2C%20%5B33.985251%2C%20-117.843164%5D%2C%20%5B45.092041%2C%20-118.985433%5D%2C%20%5B40.444781%2C%20-79.84349300000002%5D%2C%20%5B41.02831%2C%20-82.22204%5D%2C%20%5B39.904242%2C%20-75.197263%5D%2C%20%5B32.799397%2C%20-96.79297%5D%2C%20%5B45.696062%2C%20-120.824404%5D%2C%20%5B34.846369%2C%20-91.41804%5D%2C%20%5B29.791613%2C%20-95.267946%5D%2C%20%5B43.109375%2C%20-73.518136%5D%2C%20%5B27.080698%2C%20-82.424968%5D%2C%20%5B32.83954%2C%20-97.1743%5D%2C%20%5B44.2915%2C%20-121.47294%5D%2C%20%5B28.491466%2C%20-81.396739%5D%2C%20%5B32.93502%2C%20-96.75207%5D%2C%20%5B42.23732%2C%20-88.111809%5D%2C%20%5B38.490613%2C%20-121.803762%5D%2C%20%5B25.73299500000001%2C%20-80.321999%5D%2C%20%5B37.552072%2C%20-77.47760500000003%5D%2C%20%5B35.076051%2C%20-85.19988599999998%5D%2C%20%5B26.43418%2C%20-80.08967%5D%2C%20%5B34.911121%2C%20-82.104281%5D%2C%20%5B34.156833%2C%20-118.41378%5D%2C%20%5B32.87219%2C%20-80.011574%5D%2C%20%5B25.668805%2C%20-80.32264%5D%2C%20%5B34.593038%2C%20-82.586843%5D%2C%20%5B33.50499%2C%20-112.11257%5D%2C%20%5B37.70078%2C%20-122.02652%5D%2C%20%5B37.940465%2C%20-122.324404%5D%2C%20%5B28.2585%2C%20-81.824717%5D%2C%20%5B38.56036%2C%20-121.458359%5D%2C%20%5B41.240659%2C%20-77.049559%5D%2C%20%5B32.773987%2C%20-117.12607%5D%2C%20%5B28.66436%2C%20-81.38871999999998%5D%2C%20%5B45.712155%2C%20-94.927748%5D%2C%20%5B42.69302%2C%20-73.82659%5D%2C%20%5B41.512976%2C%20-87.31993100000004%5D%2C%20%5B34.111164%2C%20-118.181508%5D%2C%20%5B35.849564%2C%20-78.583549%5D%2C%20%5B39.001523%2C%20-76.894207%5D%2C%20%5B34.882222%2C%20-118.900556%5D%2C%20%5B37.93645%2C%20-122.06012%5D%2C%20%5B37.458633%2C%20-121.924133%5D%2C%20%5B28.392791%2C%20-81.373927%5D%2C%20%5B43.15737%2C%20-77.54105%5D%2C%20%5B39.05003%2C%20-77.07175600000002%5D%2C%20%5B41.781434%2C%20-88.09995%5D%2C%20%5B38.91313%2C%20-76.85022%5D%2C%20%5B33.879207%2C%20-118.285192%5D%2C%20%5B27.452484%2C%20-80.396136%5D%2C%20%5B39.265725%2C%20-76.666975%5D%2C%20%5B40.64219%2C%20-111.90316599999998%5D%2C%20%5B34.211694%2C%20-86.878842%5D%2C%20%5B44.83809%2C%20-123.00842%5D%2C%20%5B42.22946500000001%2C%20-120.273147%5D%2C%20%5B34.437553%2C%20-118.595917%5D%2C%20%5B30.349441%2C%20-83.155072%5D%2C%20%5B25.943894%2C%20-80.357416%5D%2C%20%5B46.10977000000001%2C%20-123.921957%5D%2C%20%5B25.688012%2C%20-80.384015%5D%2C%20%5B39.08955%2C%20-76.99965999999998%5D%2C%20%5B41.291384%2C%20-72.41519100000002%5D%2C%20%5B40.020981%2C%20-75.140888%5D%2C%20%5B37.701119%2C%20-121.849364%5D%2C%20%5B40.229052%2C%20-76.084466%5D%2C%20%5B38.673864%2C%20-121.382977%5D%2C%20%5B41.99508%2C%20-73.8756%5D%2C%20%5B26.023924%2C%20-80.167186%5D%2C%20%5B29.966486%2C%20-95.16529%5D%2C%20%5B38.93513%2C%20-94.70478%5D%2C%20%5B28.568284%2C%20-81.287503%5D%2C%20%5B41.843213%2C%20-87.655648%5D%2C%20%5B28.83456%2C%20-80.841864%5D%2C%20%5B40.76812%2C%20-73.9046%5D%2C%20%5B29.56307%2C%20-82.479577%5D%2C%20%5B47.201929%2C%20-122.273855%5D%2C%20%5B29.722079%2C%20-95.539209%5D%2C%20%5B40.13664%2C%20-74.96269000000002%5D%2C%20%5B42.65072%2C%20-73.74772%5D%2C%20%5B25.598196%2C%20-80.366513%5D%2C%20%5B40.979453%2C%20-73.867939%5D%2C%20%5B25.700583%2C%20-80.334009%5D%2C%20%5B40.822719%2C%20-73.903157%5D%2C%20%5B25.797139%2C%20-80.20558299999998%5D%2C%20%5B26.466741%2C%20-81.833097%5D%2C%20%5B30.524204%2C%20-87.137124%5D%2C%20%5B33.519227%2C%20-117.094333%5D%2C%20%5B32.441918%2C%20-93.763074%5D%2C%20%5B37.585922%2C%20-77.524041%5D%2C%20%5B25.927387%2C%20-80.21625300000002%5D%2C%20%5B33.768891%2C%20-84.39046%5D%2C%20%5B32.508376%2C%20-80.968502%5D%2C%20%5B27.7772%2C%20-82.699874%5D%2C%20%5B37.123063%2C%20-93.279325%5D%2C%20%5B34.205543%2C%20-88.171719%5D%2C%20%5B35.96119%2C%20-83.94646%5D%2C%20%5B35.047695000000004%2C%20-81.98403%5D%2C%20%5B29.95686%2C%20-90.07972%5D%2C%20%5B27.40322%2C%20-82.53278%5D%2C%20%5B33.837084000000004%2C%20-118.260999%5D%2C%20%5B32.544849%2C%20-80.744343%5D%2C%20%5B27.3882%2C%20-82.46066400000002%5D%2C%20%5B34.061799%2C%20-80.948311%5D%2C%20%5B30.210077%2C%20-97.821854%5D%2C%20%5B33.545738%2C%20-112.168576%5D%2C%20%5B37.356888%2C%20-121.869014%5D%2C%20%5B42.38723%2C%20-122.377456%5D%2C%20%5B40.208908%2C%20-75.223512%5D%2C%20%5B28.605884000000003%2C%20-81.404965%5D%2C%20%5B28.11516%2C%20-82.37164%5D%2C%20%5B30.198194%2C%20-93.173716%5D%2C%20%5B46.199938%2C%20-112.342251%5D%2C%20%5B38.408043%2C%20-120.650507%5D%2C%20%5B37.26272%2C%20-121.8774%5D%2C%20%5B34.119914%2C%20-117.868094%5D%2C%20%5B35.434827%2C%20-119.076257%5D%2C%20%5B39.067096%2C%20-76.89592900000002%5D%2C%20%5B38.83995%2C%20-77.105837%5D%2C%20%5B29.724749%2C%20-95.501163%5D%2C%20%5B33.950622%2C%20-118.103008%5D%2C%20%5B35.883269%2C%20-78.810201%5D%2C%20%5B42.988724%2C%20-83.740792%5D%2C%20%5B45.46054%2C%20-123.80326%5D%2C%20%5B39.169389%2C%20-84.50389%5D%2C%20%5B33.908302%2C%20-117.453536%5D%2C%20%5B44.924861%2C%20-93.068291%5D%2C%20%5B40.5429%2C%20-111.984019%5D%2C%20%5B33.692144%2C%20-117.33743%5D%2C%20%5B39.271026%2C%20-76.55675699999998%5D%2C%20%5B25.826286%2C%20-80.321715%5D%2C%20%5B28.568794%2C%20-81.223855%5D%2C%20%5B39.015573%2C%20-75.461472%5D%2C%20%5B32.925303%2C%20-97.088256%5D%2C%20%5B37.284754%2C%20-81.125396%5D%2C%20%5B34.119518%2C%20-117.86763%5D%2C%20%5B28.577627000000003%2C%20-81.49101%5D%2C%20%5B47.429105%2C%20-122.274119%5D%2C%20%5B33.983783%2C%20-117.348471%5D%2C%20%5B35.47535900000001%2C%20-90.338451%5D%2C%20%5B40.695962%2C%20-73.99811899999997%5D%2C%20%5B34.443236%2C%20-118.605768%5D%2C%20%5B38.701128%2C%20-121.62332%5D%2C%20%5B37.975872%2C%20-121.741791%5D%2C%20%5B27.979673%2C%20-82.401574%5D%2C%20%5B34.1629%2C%20-118.47212%5D%2C%20%5B32.745984%2C%20-97.320982%5D%2C%20%5B25.731657%2C%20-80.317135%5D%2C%20%5B33.475034%2C%20-86.92785500000002%5D%2C%20%5B38.6345%2C%20-90.45002%5D%2C%20%5B35.020819%2C%20-85.353266%5D%2C%20%5B44.731765%2C%20-111.109747%5D%2C%20%5B42.33309000000001%2C%20-83.21588%5D%2C%20%5B33.917037%2C%20-118.083985%5D%2C%20%5B43.616592%2C%20-122.069093%5D%2C%20%5B28.388226%2C%20-81.404655%5D%2C%20%5B30.412246000000003%2C%20-81.747538%5D%2C%20%5B41.551185%2C%20-73.055304%5D%2C%20%5B29.662689%2C%20-95.528171%5D%2C%20%5B40.768747%2C%20-73.908422%5D%2C%20%5B32.71188%2C%20-96.75627%5D%2C%20%5B33.918818%2C%20-112.144392%5D%2C%20%5B33.777004%2C%20-117.747462%5D%2C%20%5B34.078995%2C%20-81.140225%5D%2C%20%5B34.140255%2C%20-118.016747%5D%2C%20%5B44.62999%2C%20-122.952984%5D%2C%20%5B45.51549%2C%20-122.69966%5D%2C%20%5B35.189528%2C%20-89.804828%5D%2C%20%5B34.144578%2C%20-117.269041%5D%2C%20%5B29.715329%2C%20-95.414905%5D%2C%20%5B34.067636%2C%20-117.981714%5D%2C%20%5B39.265104%2C%20-75.864232%5D%2C%20%5B35.906334%2C%20-78.948038%5D%2C%20%5B28.53702%2C%20-81.37468%5D%2C%20%5B35.055192%2C%20-80.84309%5D%2C%20%5B25.682907%2C%20-80.41640799999998%5D%2C%20%5B36.033329%2C%20-83.321463%5D%2C%20%5B36.736403%2C%20-119.49868700000002%5D%2C%20%5B33.93513%2C%20-118.011853%5D%2C%20%5B42.74762%2C%20-74.15854%5D%2C%20%5B25.58164%2C%20-80.36615%5D%2C%20%5B32.222975%2C%20-110.775628%5D%2C%20%5B45.486535%2C%20-122.792974%5D%2C%20%5B42.45282%2C%20-82.91986999999997%5D%2C%20%5B28.451547%2C%20-81.308222%5D%2C%20%5B41.75173%2C%20-71.48170999999998%5D%2C%20%5B26.580209000000004%2C%20-81.871809%5D%2C%20%5B25.743554%2C%20-80.35372%5D%2C%20%5B28.5656%2C%20-81.328926%5D%2C%20%5B34.121346%2C%20-117.370391%5D%2C%20%5B45.5075%2C%20-122.72064%5D%2C%20%5B33.637293%2C%20-86.620405%5D%2C%20%5B44.68592%2C%20-93.29327%5D%2C%20%5B32.709579999999995%2C%20-96.67811%5D%2C%20%5B40.638505%2C%20-122.366213%5D%2C%20%5B28.175843%2C%20-82.392021%5D%2C%20%5B25.890601%2C%20-80.178394%5D%2C%20%5B37.340014%2C%20-121.851126%5D%2C%20%5B33.84743%2C%20-118.20553%5D%2C%20%5B27.173341%2C%20-82.43594499999998%5D%2C%20%5B33.859702%2C%20-118.201378%5D%2C%20%5B28.53412%2C%20-81.38372%5D%2C%20%5B32.7592%2C%20-96.9824%5D%2C%20%5B33.71408%2C%20-84.23563%5D%2C%20%5B29.714145%2C%20-95.501546%5D%2C%20%5B44.295668%2C%20-123.146545%5D%2C%20%5B34.664107%2C%20-118.153527%5D%2C%20%5B34.1611%2C%20-118.469614%5D%2C%20%5B33.710947999999995%2C%20-117.312568%5D%2C%20%5B32.417702%2C%20-80.53568299999998%5D%2C%20%5B38.697931%2C%20-121.382919%5D%2C%20%5B34.155149%2C%20-118.224018%5D%2C%20%5B35.469256%2C%20-120.977672%5D%2C%20%5B45.57235%2C%20-122.67877%5D%2C%20%5B34.690135%2C%20-85.00281899999997%5D%2C%20%5B40.047413%2C%20-76.29271800000002%5D%2C%20%5B37.405061%2C%20-120.850123%5D%2C%20%5B40.096954%2C%20-75.341717%5D%2C%20%5B33.530295%2C%20-86.802237%5D%2C%20%5B34.003725%2C%20-118.286382%5D%2C%20%5B36.570918%2C%20-121.74711299999998%5D%2C%20%5B40.8282%2C%20-74.02548399999998%5D%2C%20%5B48.842178%2C%20-95.876902%5D%2C%20%5B33.482211%2C%20-80.46463100000003%5D%2C%20%5B43.593581%2C%20-116.433726%5D%2C%20%5B38.659565%2C%20-120.972914%5D%2C%20%5B35.58424%2C%20-77.222881%5D%2C%20%5B43.782536%2C%20-91.336739%5D%2C%20%5B39.587291%2C%20-76.675611%5D%2C%20%5B45.130044%2C%20-121.599544%5D%2C%20%5B38.550606%2C%20-121.42272%5D%2C%20%5B39.239835%2C%20-76.698996%5D%2C%20%5B44.214317%2C%20-121.218272%5D%2C%20%5B38.46545%2C%20-121.41455%5D%2C%20%5B35.786254%2C%20-78.66239%5D%2C%20%5B39.845827%2C%20-75.183035%5D%2C%20%5B35.203712%2C%20-80.754517%5D%2C%20%5B25.733235%2C%20-80.33408399999998%5D%2C%20%5B35.794845%2C%20-121.344901%5D%2C%20%5B33.80876%2C%20-118.15627%5D%2C%20%5B36.327248%2C%20-119.372109%5D%2C%20%5B33.521913%2C%20-86.826475%5D%2C%20%5B33.947526%2C%20-118.086351%5D%2C%20%5B33.909381%2C%20-112.674705%5D%2C%20%5B33.928894%2C%20-118.28921%5D%2C%20%5B34.997370000000004%2C%20-117.6089%5D%2C%20%5B36.860663%2C%20-76.27175600000002%5D%2C%20%5B44.26932%2C%20-121.18918%5D%2C%20%5B39.137374%2C%20-77.15755%5D%2C%20%5B45.05838%2C%20-93.40447%5D%2C%20%5B40.040769%2C%20-75.251129%5D%2C%20%5B34.999543%2C%20-85.241511%5D%2C%20%5B38.80527%2C%20-120.10289%5D%2C%20%5B36.210894%2C%20-119.296083%5D%2C%20%5B33.780686%2C%20-117.878768%5D%2C%20%5B38.22286%2C%20-85.66849%5D%2C%20%5B34.082366%2C%20-117.54495%5D%2C%20%5B32.759463000000004%2C%20-97.038916%5D%2C%20%5B43.693418%2C%20-93.628932%5D%2C%20%5B35.89541%2C%20-87.639247%5D%2C%20%5B40.096623%2C%20-75.297155%5D%2C%20%5B28.877696000000004%2C%20-81.282441%5D%2C%20%5B35.236614%2C%20-80.792559%5D%2C%20%5B26.461636%2C%20-80.088689%5D%2C%20%5B27.922775%2C%20-82.347288%5D%2C%20%5B37.578424%2C%20-77.466799%5D%2C%20%5B39.743405%2C%20-121.82913%5D%2C%20%5B37.50705%2C%20-122.34057%5D%2C%20%5B45.49857%2C%20-122.79081%5D%2C%20%5B38.46539600000001%2C%20-121.371853%5D%2C%20%5B32.65015%2C%20-96.86881%5D%2C%20%5B36.045729%2C%20-86.601569%5D%2C%20%5B40.97732%2C%20-76.886698%5D%2C%20%5B42.875974%2C%20-78.80872%5D%2C%20%5B44.01017%2C%20-123.02177%5D%2C%20%5B37.523892%2C%20-122.267269%5D%2C%20%5B42.13271%2C%20-72.60875%5D%2C%20%5B37.20855%2C%20-93.3121%5D%2C%20%5B25.92487%2C%20-80.304802%5D%2C%20%5B38.237271%2C%20-121.518119%5D%2C%20%5B42.350062%2C%20-71.116014%5D%2C%20%5B38.963173%2C%20-76.867035%5D%2C%20%5B37.703479%2C%20-121.736615%5D%2C%20%5B44.79353%2C%20-93.19917%5D%2C%20%5B25.750508%2C%20-80.368004%5D%2C%20%5B37.621959%2C%20-122.07768%5D%2C%20%5B40.634254%2C%20-111.8286%5D%2C%20%5B47.246697%2C%20-93.576521%5D%2C%20%5B39.52361%2C%20-104.86993%5D%2C%20%5B25.940709%2C%20-80.253345%5D%2C%20%5B36.11035%2C%20-86.77051%5D%2C%20%5B39.97736%2C%20-75.19985%5D%2C%20%5B36.030826%2C%20-119.959%5D%2C%20%5B33.762719%2C%20-117.472966%5D%2C%20%5B45.532647%2C%20-122.564998%5D%2C%20%5B42.002695%2C%20-91.666327%5D%2C%20%5B40.851857%2C%20-74.424686%5D%2C%20%5B45.246486%2C%20-118.97627%5D%2C%20%5B28.377055%2C%20-81.504387%5D%2C%20%5B30.569276%2C%20-87.031439%5D%2C%20%5B39.491773%2C%20-103.959173%5D%2C%20%5B38.095597%2C%20-122.229906%5D%2C%20%5B47.546042%2C%20-122.308081%5D%2C%20%5B35.467426%2C%20-78.785072%5D%2C%20%5B33.94632%2C%20-117.06707%5D%2C%20%5B35.62872700000001%2C%20-78.566405%5D%2C%20%5B36.777814%2C%20-121.733186%5D%2C%20%5B30.031548%2C%20-89.98880799999998%5D%2C%20%5B32.456747%2C%20-93.707719%5D%2C%20%5B34.066724%2C%20-117.216063%5D%2C%20%5B47.427077%2C%20-114.096876%5D%2C%20%5B33.15271%2C%20-80.059853%5D%2C%20%5B32.564840000000004%2C%20-96.82258%5D%2C%20%5B33.581268%2C%20-81.676525%5D%2C%20%5B40.452614%2C%20-79.996071%5D%2C%20%5B39.09615%2C%20-94.58575%5D%2C%20%5B32.64206%2C%20-96.820105%5D%2C%20%5B40.56095%2C%20-111.42755%5D%2C%20%5B40.708663%2C%20-74.245163%5D%2C%20%5B25.761816%2C%20-80.337981%5D%2C%20%5B34.344131%2C%20-82.558723%5D%2C%20%5B38.606311%2C%20-90.450836%5D%2C%20%5B37.99033%2C%20-122.06766%5D%2C%20%5B44.5695%2C%20-93.29829%5D%2C%20%5B27.535888%2C%20-82.56358399999998%5D%2C%20%5B35.06638%2C%20-85.260612%5D%2C%20%5B33.699090000000005%2C%20-84.27300799999998%5D%2C%20%5B38.69442%2C%20-121.357283%5D%2C%20%5B30.721831%2C%20-86.120099%5D%2C%20%5B34.076626%2C%20-117.745222%5D%2C%20%5B36.01988%2C%20-79.73262%5D%2C%20%5B26.84055%2C%20-80.13194%5D%2C%20%5B30.369249%2C%20-91.065097%5D%2C%20%5B39.63543%2C%20-104.90282%5D%2C%20%5B41.592262%2C%20-93.795257%5D%2C%20%5B34.221369%2C%20-118.473314%5D%2C%20%5B37.48986%2C%20-121.92957%5D%2C%20%5B34.043031%2C%20-118.21722%5D%2C%20%5B40.8046%2C%20-73.9119%5D%2C%20%5B27.585325%2C%20-82.540115%5D%2C%20%5B30.459114000000003%2C%20-84.360239%5D%2C%20%5B41.65813%2C%20-87.58708%5D%2C%20%5B28.023966%2C%20-82.238792%5D%2C%20%5B25.572793%2C%20-80.363996%5D%2C%20%5B34.513531%2C%20-82.667435%5D%2C%20%5B32.90287%2C%20-96.72197%5D%2C%20%5B35.85605%2C%20-78.56681%5D%2C%20%5B40.048781%2C%20-74.173239%5D%2C%20%5B33.985615%2C%20-117.712036%5D%2C%20%5B42.74671%2C%20-83.42604%5D%2C%20%5B42.339293%2C%20-83.120068%5D%2C%20%5B40.780843%2C%20-73.944126%5D%2C%20%5B28.580034%2C%20-81.476099%5D%2C%20%5B25.749454%2C%20-80.335813%5D%2C%20%5B39.41547%2C%20-76.62557%5D%2C%20%5B36.172409%2C%20-119.357722%5D%2C%20%5B35.109421000000005%2C%20-118.503316%5D%2C%20%5B40.816%2C%20-73.080164%5D%2C%20%5B42.984362%2C%20-85.608526%5D%2C%20%5B33.687422999999995%2C%20-117.87191%5D%2C%20%5B37.325691%2C%20-121.869869%5D%2C%20%5B34.14903%2C%20-118.231801%5D%2C%20%5B41.309248%2C%20-72.91463%5D%2C%20%5B36.26946%2C%20-86.73678000000002%5D%2C%20%5B34.227508%2C%20-117.253335%5D%2C%20%5B28.811985%2C%20-81.362115%5D%2C%20%5B36.1634%2C%20-86.76194%5D%2C%20%5B27.916748%2C%20-82.786847%5D%2C%20%5B45.119699%2C%20-93.049784%5D%2C%20%5B40.84786%2C%20-73.93481899999998%5D%2C%20%5B45.156222%2C%20-111.246153%5D%2C%20%5B40.15692%2C%20-83.0185%5D%2C%20%5B39.868051%2C%20-75.338915%5D%2C%20%5B37.771481%2C%20-79.44363%5D%2C%20%5B37.49882%2C%20-77.34026999999998%5D%2C%20%5B34.06876%2C%20-117.84253%5D%2C%20%5B29.400926%2C%20-98.53613%5D%2C%20%5B39.424243%2C%20-77.503446%5D%2C%20%5B39.020726%2C%20-121.506276%5D%2C%20%5B34.835807%2C%20-81.969651%5D%2C%20%5B33.82379%2C%20-84.35247%5D%2C%20%5B43.365851%2C%20-71.93112099999998%5D%2C%20%5B35.521837%2C%20-119.349965%5D%2C%20%5B38.016007%2C%20-122.287194%5D%2C%20%5B42.11917%2C%20-75.94323%5D%2C%20%5B39.506476%2C%20-77.584753%5D%2C%20%5B46.63751%2C%20-113.09928%5D%2C%20%5B35.155481%2C%20-80.851609%5D%2C%20%5B29.986835%2C%20-90.115828%5D%2C%20%5B45.941702%2C%20-108.144274%5D%2C%20%5B37.980886%2C%20-122.053218%5D%2C%20%5B37.924056%2C%20-120.447198%5D%2C%20%5B44.80815%2C%20-93.39841%5D%2C%20%5B25.887561%2C%20-80.164221%5D%2C%20%5B32.435009%2C%20-93.743538%5D%2C%20%5B36.15595%2C%20-86.78896%5D%2C%20%5B30.43989%2C%20-88.53976%5D%2C%20%5B45.766907%2C%20-108.390952%5D%2C%20%5B29.77766%2C%20-95.41073%5D%2C%20%5B38.62380200000001%2C%20-90.203309%5D%2C%20%5B34.135765%2C%20-117.584803%5D%2C%20%5B34.207389%2C%20-82.188195%5D%2C%20%5B37.61542%2C%20-93.412413%5D%2C%20%5B38.868179%2C%20-77.145452%5D%2C%20%5B36.48043300000001%2C%20-77.463397%5D%2C%20%5B38.928797%2C%20-77.51701800000002%5D%2C%20%5B37.05856%2C%20-120.70602%5D%2C%20%5B38.569127%2C%20-121.512652%5D%2C%20%5B25.925977%2C%20-80.312322%5D%2C%20%5B38.216432%2C%20-122.138649%5D%2C%20%5B45.472254%2C%20-122.677459%5D%2C%20%5B32.776619000000004%2C%20-80.246273%5D%2C%20%5B42.26592%2C%20-83.25112%5D%2C%20%5B39.77848%2C%20-104.90063%5D%2C%20%5B41.78055%2C%20-87.63144%5D%2C%20%5B25.720682%2C%20-80.391212%5D%2C%20%5B33.908303000000004%2C%20-117.882817%5D%2C%20%5B33.17488%2C%20-96.640366%5D%2C%20%5B28.592854%2C%20-81.244811%5D%2C%20%5B39.914367%2C%20-104.989789%5D%2C%20%5B39.27808%2C%20-77.32361999999998%5D%2C%20%5B33.188892%2C%20-87.32730699999998%5D%2C%20%5B38.660549%2C%20-77.248354%5D%2C%20%5B37.162225%2C%20-121.98774%5D%2C%20%5B46.48597%2C%20-94.65429%5D%2C%20%5B43.638843%2C%20-95.188325%5D%2C%20%5B39.64415%2C%20-84.23301%5D%2C%20%5B25.521658%2C%20-80.424656%5D%2C%20%5B25.747785%2C%20-80.333376%5D%2C%20%5B33.952674%2C%20-118.369196%5D%2C%20%5B43.264744%2C%20-121.164665%5D%2C%20%5B29.690536%2C%20-95.542902%5D%2C%20%5B37.032605%2C%20-77.635327%5D%2C%20%5B45.59948%2C%20-118.638308%5D%2C%20%5B29.79647000000001%2C%20-95.56363%5D%2C%20%5B36.757437%2C%20-119.827774%5D%2C%20%5B35.3525%2C%20-119.039444%5D%2C%20%5B25.89255%2C%20-80.162869%5D%2C%20%5B38.912018%2C%20-94.524596%5D%2C%20%5B26.10564%2C%20-80.16904%5D%2C%20%5B37.25612%2C%20-121.871%5D%2C%20%5B41.008387%2C%20-81.494559%5D%2C%20%5B42.181582%2C%20-84.366036%5D%2C%20%5B34.073543%2C%20-80.993278%5D%2C%20%5B33.872064%2C%20-117.665251%5D%2C%20%5B40.915134%2C%20-73.849111%5D%2C%20%5B37.503837%2C%20-79.745796%5D%2C%20%5B26.734454%2C%20-80.1352%5D%2C%20%5B38.016359%2C%20-121.258228%5D%2C%20%5B40.663654%2C%20-73.549467%5D%2C%20%5B31.316337%2C%20-81.476802%5D%2C%20%5B42.58907%2C%20-122.81657%5D%2C%20%5B38.7885%2C%20-77.17697700000002%5D%2C%20%5B38.900409%2C%20-104.828914%5D%2C%20%5B45.623714%2C%20-122.670637%5D%2C%20%5B40.709206%2C%20-73.820161%5D%2C%20%5B34.205857%2C%20-112.802799%5D%2C%20%5B27.477016%2C%20-82.553719%5D%2C%20%5B25.811457%2C%20-80.196432%5D%2C%20%5B27.388469%2C%20-82.449061%5D%2C%20%5B33.962075%2C%20-118.282702%5D%2C%20%5B44.152278%2C%20-94.059193%5D%2C%20%5B41.04397%2C%20-73.7894%5D%2C%20%5B40.6654%2C%20-73.8296%5D%2C%20%5B41.81097000000001%2C%20-72.6633%5D%2C%20%5B37.74116%2C%20-121.58024%5D%2C%20%5B34.072605%2C%20-118.059865%5D%2C%20%5B38.644692%2C%20-121.272006%5D%2C%20%5B30.46897%2C%20-91.16683%5D%2C%20%5B32.792505%2C%20-96.683671%5D%2C%20%5B42.299275%2C%20-85.085388%5D%2C%20%5B28.4385%2C%20-81.41305%5D%2C%20%5B33.897137%2C%20-117.48769%5D%2C%20%5B40.37651%2C%20-76.67270500000002%5D%2C%20%5B34.078632%2C%20-117.740792%5D%2C%20%5B42.06668%2C%20-88.1841%5D%2C%20%5B32.715321%2C%20-117.118946%5D%2C%20%5B40.02196%2C%20-75.61901999999998%5D%2C%20%5B28.22997800000001%2C%20-82.20915699999998%5D%2C%20%5B39.17225%2C%20-77.2451%5D%2C%20%5B40.710484%2C%20-74.177161%5D%2C%20%5B39.964518%2C%20-75.18221%5D%2C%20%5B36.725109%2C%20-119.28536499999998%5D%2C%20%5B33.808311%2C%20-118.141533%5D%2C%20%5B33.9597%2C%20-117.85732%5D%2C%20%5B40.77578%2C%20-74.04454%5D%2C%20%5B38.015064%2C%20-121.882403%5D%2C%20%5B25.782113%2C%20-80.36864200000002%5D%2C%20%5B34.787688%2C%20-92.101451%5D%2C%20%5B25.840699%2C%20-80.32203%5D%2C%20%5B38.148391%2C%20-121.654194%5D%2C%20%5B42.41235%2C%20-83.21871999999998%5D%2C%20%5B36.159612%2C%20-86.792436%5D%2C%20%5B37.536376%2C%20-77.565179%5D%2C%20%5B38.878646%2C%20-77.221463%5D%2C%20%5B30.465763%2C%20-91.166642%5D%2C%20%5B33.187626%2C%20-117.236555%5D%2C%20%5B37.438231%2C%20-121.002508%5D%2C%20%5B41.062463%2C%20-78.490201%5D%2C%20%5B33.77890900000001%2C%20-117.876878%5D%2C%20%5B41.329676%2C%20-74.905987%5D%2C%20%5B28.332588%2C%20-81.58035699999998%5D%2C%20%5B34.226248%2C%20-118.253565%5D%2C%20%5B45.276536%2C%20-123.012113%5D%2C%20%5B43.48307%2C%20-118.8424%5D%2C%20%5B26.613044%2C%20-81.797258%5D%2C%20%5B34.423214%2C%20-119.760807%5D%2C%20%5B40.766595%2C%20-74.021415%5D%2C%20%5B30.754407%2C%20-86.517338%5D%2C%20%5B42.434874%2C%20-122.889043%5D%2C%20%5B39.587362%2C%20-84.55605899999998%5D%2C%20%5B35.344488%2C%20-82.443668%5D%2C%20%5B37.728371%2C%20-122.138049%5D%2C%20%5B25.702173%2C%20-80.3359%5D%2C%20%5B28.48298%2C%20-81.457877%5D%2C%20%5B33.90206%2C%20-118.10533%5D%2C%20%5B29.781841%2C%20-95.435922%5D%2C%20%5B28.08326%2C%20-80.706108%5D%2C%20%5B33.818096000000004%2C%20-117.876411%5D%2C%20%5B30.377639%2C%20-81.672818%5D%2C%20%5B46.832905%2C%20-95.700261%5D%2C%20%5B37.073133%2C%20-77.554158%5D%2C%20%5B33.956024%2C%20-118.109039%5D%2C%20%5B42.687603%2C%20-123.392118%5D%2C%20%5B25.762175%2C%20-80.331523%5D%2C%20%5B46.580389%2C%20-95.570465%5D%2C%20%5B42.280093%2C%20-83.441312%5D%2C%20%5B38.24237%2C%20-122.449%5D%2C%20%5B38.80213300000001%2C%20-77.520228%5D%2C%20%5B34.120575%2C%20-117.873587%5D%2C%20%5B41.519662%2C%20-75.66105%5D%2C%20%5B38.676223%2C%20-77.235176%5D%2C%20%5B35.363408%2C%20-120.818314%5D%2C%20%5B38.55975%2C%20-121.51411%5D%2C%20%5B40.719288%2C%20-111.81018799999998%5D%2C%20%5B35.722721%2C%20-78.645522%5D%2C%20%5B42.263751%2C%20-88.177725%5D%2C%20%5B43.195003%2C%20-77.507766%5D%2C%20%5B37.732777%2C%20-120.99523%5D%2C%20%5B32.866616%2C%20-96.909316%5D%2C%20%5B37.93162%2C%20-122.32538%5D%2C%20%5B38.569657%2C%20-76.06403900000002%5D%2C%20%5B43.153949%2C%20-77.617378%5D%2C%20%5B30.37194%2C%20-97.715623%5D%2C%20%5B37.768575%2C%20-122.153605%5D%2C%20%5B33.7901%2C%20-84.39083000000002%5D%2C%20%5B45.09599%2C%20-123.36841%5D%2C%20%5B42.898145%2C%20-78.897467%5D%2C%20%5B37.673006%2C%20-77.536425%5D%2C%20%5B40.800958%2C%20-73.279377%5D%2C%20%5B40.904205%2C%20-73.87831700000002%5D%2C%20%5B34.005839%2C%20-118.413726%5D%2C%20%5B38.434294%2C%20-122.400479%5D%2C%20%5B41.57235%2C%20-87.2842%5D%2C%20%5B43.000572%2C%20-83.899659%5D%2C%20%5B37.420808%2C%20-122.091858%5D%2C%20%5B42.39409000000001%2C%20-88.15539%5D%2C%20%5B38.95243%2C%20-76.86225%5D%2C%20%5B47.16946%2C%20-92.476174%5D%2C%20%5B40.558839%2C%20-111.903261%5D%2C%20%5B34.013403000000004%2C%20-117.343972%5D%2C%20%5B39.358102%2C%20-76.50277%5D%2C%20%5B40.7276%2C%20-74.02104%5D%2C%20%5B37.333611%2C%20-121.861477%5D%2C%20%5B35.23327000000001%2C%20-80.83452%5D%2C%20%5B28.553044%2C%20-81.504956%5D%2C%20%5B25.909735%2C%20-80.29354599999998%5D%2C%20%5B27.995093%2C%20-82.326229%5D%2C%20%5B41.09994%2C%20-112.00054%5D%2C%20%5B32.443394%2C%20-93.723375%5D%2C%20%5B25.902771%2C%20-80.267887%5D%2C%20%5B39.85937%2C%20-75.0761%5D%2C%20%5B32.718088%2C%20-117.108654%5D%2C%20%5B40.096949%2C%20-79.202558%5D%2C%20%5B42.77678%2C%20-121.83677%5D%2C%20%5B25.703367%2C%20-80.33425%5D%2C%20%5B46.87702%2C%20-96.950622%5D%2C%20%5B38.24818%2C%20-85.59886999999998%5D%2C%20%5B39.024115%2C%20-77.389452%5D%2C%20%5B38.56103%2C%20-121.48275%5D%2C%20%5B42.961958%2C%20-88.01789000000002%5D%2C%20%5B41.033305%2C%20-95.75264%5D%2C%20%5B33.996976000000004%2C%20-117.866478%5D%2C%20%5B27.441768%2C%20-81.465917%5D%2C%20%5B39.013234%2C%20-78.360618%5D%2C%20%5B44.862239%2C%20-93.264967%5D%2C%20%5B38.62888%2C%20-121.4056%5D%2C%20%5B25.733609%2C%20-80.29956800000002%5D%2C%20%5B35.70775%2C%20-78.61359%5D%2C%20%5B33.614681%2C%20-117.707783%5D%2C%20%5B39.833883%2C%20-75.090809%5D%2C%20%5B34.153098%2C%20-118.466229%5D%2C%20%5B27.817585%2C%20-82.665346%5D%2C%20%5B47.00395%2C%20-122.2962%5D%2C%20%5B25.68619%2C%20-80.430098%5D%2C%20%5B44.86267%2C%20-93.20964%5D%2C%20%5B32.650107%2C%20-117.065363%5D%2C%20%5B34.02621%2C%20-117.33354%5D%2C%20%5B34.081968%2C%20-118.295311%5D%2C%20%5B38.91925%2C%20-110.43362%5D%2C%20%5B32.312562%2C%20-95.29523%5D%2C%20%5B38.20842%2C%20-85.66895%5D%2C%20%5B39.841606%2C%20-75.402464%5D%2C%20%5B41.703613%2C%20-91.641966%5D%2C%20%5B34.383720000000004%2C%20-118.56814%5D%2C%20%5B33.88228%2C%20-117.586071%5D%2C%20%5B30.332732%2C%20-95.324177%5D%2C%20%5B34.049409000000004%2C%20-118.259829%5D%2C%20%5B34.083554%2C%20-118.298805%5D%2C%20%5B36.603527%2C%20-120.09806100000002%5D%2C%20%5B37.778081%2C%20-122.401165%5D%2C%20%5B35.446155%2C%20-119.093541%5D%2C%20%5B42.360663%2C%20-87.99966500000002%5D%2C%20%5B41.100744%2C%20-73.956924%5D%2C%20%5B33.982515%2C%20-84.341531%5D%2C%20%5B44.418811%2C%20-121.772773%5D%2C%20%5B30.015504%2C%20-90.045686%5D%2C%20%5B34.859637%2C%20-82.652698%5D%2C%20%5B33.153564%2C%20-80.041786%5D%2C%20%5B40.616772%2C%20-112.294794%5D%2C%20%5B33.434943%2C%20-117.141729%5D%2C%20%5B38.008333%2C%20-121.33%5D%2C%20%5B28.492772%2C%20-81.39675600000002%5D%2C%20%5B30.34068%2C%20-97.75388%5D%2C%20%5B45.12822%2C%20-93.4863%5D%2C%20%5B45.47893300000001%2C%20-119.743381%5D%2C%20%5B34.865222%2C%20-118.178162%5D%2C%20%5B36.313086%2C%20-86.830776%5D%2C%20%5B32.781131%2C%20-117.139162%5D%2C%20%5B29.78414%2C%20-95.45684%5D%2C%20%5B34.06757%2C%20-117.565224%5D%2C%20%5B44.966025%2C%20-93.264631%5D%2C%20%5B27.447312%2C%20-82.531563%5D%2C%20%5B27.714916%2C%20-82.335274%5D%2C%20%5B38.64142%2C%20-121.065489%5D%2C%20%5B37.991806%2C%20-122.079085%5D%2C%20%5B35.32996%2C%20-77.992597%5D%2C%20%5B38.08353%2C%20-121.71067%5D%2C%20%5B34.075216999999995%2C%20-118.274206%5D%2C%20%5B40.729469%2C%20-74.223614%5D%2C%20%5B35.790739%2C%20-91.638167%5D%2C%20%5B33.872534%2C%20-118.202365%5D%2C%20%5B34.266690000000004%2C%20-119.233685%5D%2C%20%5B32.89445%2C%20-96.70032%5D%2C%20%5B37.86427%2C%20-122.20905%5D%2C%20%5B32.915031%2C%20-96.864662%5D%2C%20%5B25.701971%2C%20-80.341014%5D%2C%20%5B36.986471%2C%20-76.42730300000002%5D%2C%20%5B28.640191%2C%20-81.43517%5D%2C%20%5B27.481919%2C%20-82.405632%5D%2C%20%5B43.934618%2C%20-91.999879%5D%2C%20%5B25.693851%2C%20-80.30213499999998%5D%2C%20%5B39.24785%2C%20-76.68474%5D%2C%20%5B38.857494%2C%20-91.301053%5D%2C%20%5B40.845783%2C%20-73.929888%5D%2C%20%5B40.004349%2C%20-76.102537%5D%2C%20%5B42.32376%2C%20-71.05525%5D%2C%20%5B34.068365%2C%20-118.151092%5D%2C%20%5B41.13467%2C%20-73.29361%5D%2C%20%5B26.74526%2C%20-81.12913%5D%2C%20%5B41.78562%2C%20-71.42220999999998%5D%2C%20%5B38.635301%2C%20-77.298264%5D%2C%20%5B38.661278%2C%20-76.873651%5D%2C%20%5B43.113001%2C%20-75.208185%5D%2C%20%5B44.932332%2C%20-123.131668%5D%2C%20%5B28.065897%2C%20-82.738771%5D%2C%20%5B41.225925%2C%20-78.780293%5D%2C%20%5B35.803837%2C%20-78.707025%5D%2C%20%5B47.59744%2C%20-122.32078%5D%2C%20%5B36.200942%2C%20-119.32864%5D%2C%20%5B34.1143%2C%20-117.91638%5D%2C%20%5B34.830663%2C%20-82.222791%5D%2C%20%5B29.259339%2C%20-82.093975%5D%2C%20%5B25.656723%2C%20-80.391802%5D%2C%20%5B39.026716%2C%20-77.046477%5D%2C%20%5B26.09247%2C%20-80.22149%5D%2C%20%5B32.67951%2C%20-96.82267%5D%2C%20%5B47.57169%2C%20-122.33987%5D%2C%20%5B45.52242%2C%20-122.66572%5D%2C%20%5B35.444722%2C%20-119.090833%5D%2C%20%5B27.447751%2C%20-82.573305%5D%2C%20%5B40.52267%2C%20-74.29006%5D%2C%20%5B45.352519%2C%20-118.175627%5D%2C%20%5B45.60809%2C%20-118.64646%5D%2C%20%5B40.18554%2C%20-74.70430999999998%5D%2C%20%5B36.02798%2C%20-78.84893000000002%5D%2C%20%5B28.094432%2C%20-82.46090600000002%5D%2C%20%5B40.443781%2C%20-79.840519%5D%2C%20%5B39.93655800000001%2C%20-75.387636%5D%2C%20%5B43.05166%2C%20-76.1369%5D%2C%20%5B39.125887%2C%20-94.677311%5D%2C%20%5B25.97311%2C%20-80.2341%5D%2C%20%5B42.813937%2C%20-78.79414%5D%2C%20%5B37.811873%2C%20-121.295439%5D%2C%20%5B37.51754%2C%20-77.25697%5D%2C%20%5B41.053336%2C%20-124.130042%5D%2C%20%5B32.297526%2C%20-104.104815%5D%2C%20%5B38.290308%2C%20-77.528669%5D%2C%20%5B38.31998%2C%20-122.31611399999998%5D%2C%20%5B25.492498%2C%20-80.448316%5D%2C%20%5B34.221662%2C%20-118.417306%5D%2C%20%5B39.73537%2C%20-84.08758%5D%2C%20%5B36.683424%2C%20-120.656265%5D%2C%20%5B40.718065%2C%20-112.114229%5D%2C%20%5B43.964049%2C%20-93.112133%5D%2C%20%5B41.76826%2C%20-72.65899%5D%2C%20%5B38.88366%2C%20-77.22654%5D%2C%20%5B35.806927%2C%20-90.657169%5D%2C%20%5B34.602358%2C%20-118.09686200000002%5D%2C%20%5B44.781121%2C%20-124.07282%5D%2C%20%5B33.56296%2C%20-117.20335%5D%2C%20%5B39.207147%2C%20-76.54486999999997%5D%2C%20%5B41.95381%2C%20-88.03171999999998%5D%2C%20%5B42.983058%2C%20-85.676602%5D%2C%20%5B33.7591%2C%20-117.464171%5D%2C%20%5B45.697125%2C%20-121.667212%5D%2C%20%5B38.617018%2C%20-90.17856%5D%2C%20%5B33.996318%2C%20-118.282693%5D%2C%20%5B27.96488%2C%20-82.44006999999998%5D%2C%20%5B35.027557%2C%20-81.871737%5D%2C%20%5B33.679970000000004%2C%20-117.76089%5D%2C%20%5B38.79495%2C%20-77.014169%5D%2C%20%5B41.019616%2C%20-73.62709699999998%5D%2C%20%5B44.845043%2C%20-123.008776%5D%2C%20%5B40.329314%2C%20-74.305707%5D%2C%20%5B26.616879%2C%20-81.723507%5D%2C%20%5B38.566117%2C%20-121.623156%5D%2C%20%5B47.623661%2C%20-94.725204%5D%2C%20%5B42.47186%2C%20-71.24252%5D%2C%20%5B37.950558%2C%20-122.269677%5D%2C%20%5B33.94311%2C%20-118.097774%5D%2C%20%5B33.853683000000004%2C%20-117.911632%5D%2C%20%5B38.24647%2C%20-122.42168%5D%2C%20%5B45.671099%2C%20-118.788764%5D%2C%20%5B37.303185%2C%20-121.87808%5D%2C%20%5B40.164647%2C%20-75.286305%5D%2C%20%5B33.592949%2C%20-117.242049%5D%2C%20%5B43.66517%2C%20-120.22387%5D%2C%20%5B39.015681%2C%20-77.042811%5D%2C%20%5B41.90172000000001%2C%20-88.10185%5D%2C%20%5B33.992305%2C%20-117.22931%5D%2C%20%5B33.951619%2C%20-118.096354%5D%2C%20%5B37.777185%2C%20-122.236802%5D%2C%20%5B40.609942%2C%20-111.905955%5D%2C%20%5B36.90568%2C%20-76.178653%5D%2C%20%5B25.621359%2C%20-80.41445%5D%2C%20%5B35.21712%2C%20-84.86363%5D%2C%20%5B35.023738%2C%20-109.844859%5D%2C%20%5B33.901841999999995%2C%20-118.294847%5D%2C%20%5B41.414399%2C%20-73.439425%5D%2C%20%5B36.18523%2C%20-86.6366%5D%2C%20%5B44.84399000000001%2C%20-93.246542%5D%2C%20%5B35.20185%2C%20-80.78457%5D%2C%20%5B34.456132000000004%2C%20-118.617496%5D%2C%20%5B35.27010999999999%2C%20-80.85417%5D%2C%20%5B34.02398%2C%20-117.74434%5D%2C%20%5B43.763804%2C%20-95.37103%5D%2C%20%5B41.571198%2C%20-72.292282%5D%2C%20%5B39.930219%2C%20-86.15572%5D%2C%20%5B36.877571%2C%20-119.973199%5D%2C%20%5B33.2872%2C%20-111.84811%5D%2C%20%5B37.865199%2C%20-121.667654%5D%2C%20%5B38.25657%2C%20-104.60672%5D%2C%20%5B38.711697%2C%20-77.220732%5D%2C%20%5B33.132477%2C%20-117.087326%5D%2C%20%5B37.447905%2C%20-77.664338%5D%2C%20%5B39.755524%2C%20-77.079722%5D%2C%20%5B33.812049%2C%20-84.36946999999998%5D%2C%20%5B33.876728%2C%20-118.182201%5D%2C%20%5B29.88925900000001%2C%20-95.41196%5D%2C%20%5B38.998226%2C%20-77.41019200000002%5D%2C%20%5B42.34814%2C%20-83.10587%5D%5D%2C%0A%20%20%20%20%20%20%20%20%20%20%20%20%20%20%20%20%7B%0A%20%20%20%20%20%20%20%20%20%20%20%20%20%20%20%20%20%20%20%20minOpacity%3A%200.5%2C%0A%20%20%20%20%20%20%20%20%20%20%20%20%20%20%20%20%20%20%20%20maxZoom%3A%2018%2C%0A%20%20%20%20%20%20%20%20%20%20%20%20%20%20%20%20%20%20%20%20max%3A%201.0%2C%0A%20%20%20%20%20%20%20%20%20%20%20%20%20%20%20%20%20%20%20%20radius%3A%2025%2C%0A%20%20%20%20%20%20%20%20%20%20%20%20%20%20%20%20%20%20%20%20blur%3A%2015%2C%0A%20%20%20%20%20%20%20%20%20%20%20%20%20%20%20%20%20%20%20%20gradient%3A%20null%0A%20%20%20%20%20%20%20%20%20%20%20%20%20%20%20%20%20%20%20%20%7D%29%0A%20%20%20%20%20%20%20%20%20%20%20%20%20%20%20%20.addTo%28map_6ed56b05070343b6b061f277c3d0fa67%29%3B%0A%20%20%20%20%20%20%20%20%0A%3C/script%3E onload=\"this.contentDocument.open();this.contentDocument.write(    decodeURIComponent(this.getAttribute('data-html')));this.contentDocument.close();\" allowfullscreen webkitallowfullscreen mozallowfullscreen></iframe></div></div>"
            ]
          },
          "metadata": {},
          "execution_count": 41
        }
      ]
    },
    {
      "cell_type": "code",
      "source": [
        ""
      ],
      "metadata": {
        "id": "KZyElER5TlrT"
      },
      "execution_count": 41,
      "outputs": []
    },
    {
      "cell_type": "code",
      "source": [
        ""
      ],
      "metadata": {
        "id": "3qntlGH6TK2-"
      },
      "execution_count": 41,
      "outputs": []
    },
    {
      "cell_type": "code",
      "source": [
        ""
      ],
      "metadata": {
        "id": "9aX8nxVp87q1"
      },
      "execution_count": 41,
      "outputs": []
    },
    {
      "cell_type": "markdown",
      "metadata": {
        "id": "WtJl-gEPI6N2"
      },
      "source": [
        "## Ask & Questions\n",
        "\n",
        "1. Are there more accidents in warmer or colder areas?\n",
        "2. Which 5 states has the highest number of accidents? How about per capita?\n",
        "3. Does New York ahop up in the data? If yes, why is the count lower if this the most populated city.\n",
        "4. Among the top 100 cities in number of accidents, which states do they belong to most frequently.\n",
        "5. What time of the day are accidents most frequent in? - ANSWERED\n",
        "6. Which days of the week have the most accidents?\n",
        "7. Which months have the most accidents?\n",
        "8. What is the trend of accidents yoer over year (decreasing/increasing?)\n",
        "9. When is accident per unit the highest? \n"
      ]
    },
    {
      "cell_type": "code",
      "execution_count": 41,
      "metadata": {
        "id": "P0Y4gnC5I5lE"
      },
      "outputs": [],
      "source": [
        ""
      ]
    },
    {
      "cell_type": "code",
      "execution_count": 41,
      "metadata": {
        "id": "wbNnpo7PI5mC"
      },
      "outputs": [],
      "source": [
        ""
      ]
    },
    {
      "cell_type": "code",
      "execution_count": 41,
      "metadata": {
        "id": "K4moRxdfI5oI"
      },
      "outputs": [],
      "source": [
        ""
      ]
    },
    {
      "cell_type": "code",
      "execution_count": 41,
      "metadata": {
        "id": "51nIMEeiIirl"
      },
      "outputs": [],
      "source": [
        ""
      ]
    },
    {
      "cell_type": "markdown",
      "source": [
        "## Summary and Conclusion \n",
        "\n",
        "Insights:\n",
        "- No data for New York.\n",
        "- The number of accodents per city decreases  exponentialy.\n",
        "- Less then 5% of cities have more than 1000 yearly accidents.\n",
        "- Over 1200 cities have reported just one accident (need to investigate)."
      ],
      "metadata": {
        "id": "oAjUdjyl8ulC"
      }
    }
  ],
  "metadata": {
    "colab": {
      "collapsed_sections": [],
      "name": "us-accidents-analysis.ipynb",
      "provenance": [],
      "include_colab_link": true
    },
    "kernelspec": {
      "display_name": "Python 3",
      "language": "python",
      "name": "python3"
    },
    "language_info": {
      "codemirror_mode": {
        "name": "ipython",
        "version": 3
      },
      "file_extension": ".py",
      "mimetype": "text/x-python",
      "name": "python",
      "nbconvert_exporter": "python",
      "pygments_lexer": "ipython3",
      "version": "3.7.6"
    }
  },
  "nbformat": 4,
  "nbformat_minor": 0
}