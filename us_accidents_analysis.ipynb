{
  "cells": [
    {
      "cell_type": "markdown",
      "metadata": {
        "id": "view-in-github",
        "colab_type": "text"
      },
      "source": [
        "<a href=\"https://colab.research.google.com/github/matthewmachnowski/us-accidents-analysis/blob/main/us_accidents_analysis.ipynb\" target=\"_parent\"><img src=\"https://colab.research.google.com/assets/colab-badge.svg\" alt=\"Open In Colab\"/></a>"
      ]
    },
    {
      "cell_type": "markdown",
      "metadata": {
        "id": "OWweIPA6IE4F"
      },
      "source": [
        "# US Accidents Exploratory Data Analysis\n",
        "\n",
        "TODO - talk about EDA\n",
        "\n",
        "TODO - talk about the dataset (sourse, what it contains, how it will be useful)\n",
        "  - Kaggle\n",
        "  - information about accidents \n",
        "  - can use useful to prevent accidents\n",
        "  - mention that this does not contain data about New York"
      ]
    },
    {
      "cell_type": "code",
      "execution_count": 4,
      "metadata": {
        "id": "Mv2tLrwDIiFA"
      },
      "outputs": [],
      "source": [
        "pip install opendatasets --upgrade --quiet"
      ]
    },
    {
      "cell_type": "code",
      "execution_count": 5,
      "metadata": {
        "id": "x1GdPHS2fI7q",
        "colab": {
          "base_uri": "https://localhost:8080/"
        },
        "outputId": "12ff049f-fff7-4b28-d332-967cab348c89"
      },
      "outputs": [
        {
          "output_type": "stream",
          "name": "stdout",
          "text": [
            "Skipping, found downloaded files in \"./us-accidents\" (use force=True to force download)\n"
          ]
        }
      ],
      "source": [
        "import opendatasets as od\n",
        "\n",
        "download_url = 'https://www.kaggle.com/sobhanmoosavi/us-accidents'\n",
        "\n",
        "od.download(download_url)"
      ]
    },
    {
      "cell_type": "code",
      "source": [
        "data_filename = './us-accidents/US_Accidents_Dec21_updated.csv'"
      ],
      "metadata": {
        "id": "nJPIDrMI0jIF"
      },
      "execution_count": 6,
      "outputs": []
    },
    {
      "cell_type": "markdown",
      "metadata": {
        "id": "iHC8oSgoIsCr"
      },
      "source": [
        "## Data Preparation and Cleaning\n",
        "\n",
        "1. Load the file using Pandas\n",
        "2. Look at some information about the data & the columns\n",
        "3. Fix any missing or incorret values"
      ]
    },
    {
      "cell_type": "code",
      "execution_count": 7,
      "metadata": {
        "id": "F5Gdkru0IiYS"
      },
      "outputs": [],
      "source": [
        "import pandas as pd"
      ]
    },
    {
      "cell_type": "code",
      "execution_count": 8,
      "metadata": {
        "id": "VY5Y6w7ZIiez"
      },
      "outputs": [],
      "source": [
        "df = pd.read_csv(data_filename)"
      ]
    },
    {
      "cell_type": "code",
      "execution_count": 9,
      "metadata": {
        "id": "Us-yY2FPIihW",
        "colab": {
          "base_uri": "https://localhost:8080/",
          "height": 939
        },
        "outputId": "fdf07a69-7d7f-4d3c-f1e6-f2bddb7a10dc"
      },
      "outputs": [
        {
          "output_type": "execute_result",
          "data": {
            "text/plain": [
              "                ID  Severity           Start_Time             End_Time  \\\n",
              "0              A-1         3  2016-02-08 00:37:08  2016-02-08 06:37:08   \n",
              "1              A-2         2  2016-02-08 05:56:20  2016-02-08 11:56:20   \n",
              "2              A-3         2  2016-02-08 06:15:39  2016-02-08 12:15:39   \n",
              "3              A-4         2  2016-02-08 06:51:45  2016-02-08 12:51:45   \n",
              "4              A-5         3  2016-02-08 07:53:43  2016-02-08 13:53:43   \n",
              "...            ...       ...                  ...                  ...   \n",
              "2845337  A-2845338         2  2019-08-23 18:03:25  2019-08-23 18:32:01   \n",
              "2845338  A-2845339         2  2019-08-23 19:11:30  2019-08-23 19:38:23   \n",
              "2845339  A-2845340         2  2019-08-23 19:00:21  2019-08-23 19:28:49   \n",
              "2845340  A-2845341         2  2019-08-23 19:00:21  2019-08-23 19:29:42   \n",
              "2845341  A-2845342         2  2019-08-23 18:52:06  2019-08-23 19:21:31   \n",
              "\n",
              "         Start_Lat   Start_Lng    End_Lat     End_Lng  Distance(mi)  \\\n",
              "0        40.108910  -83.092860  40.112060  -83.031870         3.230   \n",
              "1        39.865420  -84.062800  39.865010  -84.048730         0.747   \n",
              "2        39.102660  -84.524680  39.102090  -84.523960         0.055   \n",
              "3        41.062130  -81.537840  41.062170  -81.535470         0.123   \n",
              "4        39.172393  -84.492792  39.170476  -84.501798         0.500   \n",
              "...            ...         ...        ...         ...           ...   \n",
              "2845337  34.002480 -117.379360  33.998880 -117.370940         0.543   \n",
              "2845338  32.766960 -117.148060  32.765550 -117.153630         0.338   \n",
              "2845339  33.775450 -117.847790  33.777400 -117.857270         0.561   \n",
              "2845340  33.992460 -118.403020  33.983110 -118.395650         0.772   \n",
              "2845341  34.133930 -117.230920  34.137360 -117.239340         0.537   \n",
              "\n",
              "                                               Description  ...  Roundabout  \\\n",
              "0        Between Sawmill Rd/Exit 20 and OH-315/Olentang...  ...       False   \n",
              "1                       At OH-4/OH-235/Exit 41 - Accident.  ...       False   \n",
              "2                         At I-71/US-50/Exit 1 - Accident.  ...       False   \n",
              "3                          At Dart Ave/Exit 21 - Accident.  ...       False   \n",
              "4                       At Mitchell Ave/Exit 6 - Accident.  ...       False   \n",
              "...                                                    ...  ...         ...   \n",
              "2845337                           At Market St - Accident.  ...       False   \n",
              "2845338    At Camino Del Rio/Mission Center Rd - Accident.  ...       False   \n",
              "2845339  At Glassell St/Grand Ave - Accident. in the ri...  ...       False   \n",
              "2845340     At CA-90/Marina Fwy/Jefferson Blvd - Accident.  ...       False   \n",
              "2845341              At Highland Ave/Arden Ave - Accident.  ...       False   \n",
              "\n",
              "        Station   Stop Traffic_Calming Traffic_Signal Turning_Loop  \\\n",
              "0         False  False           False          False        False   \n",
              "1         False  False           False          False        False   \n",
              "2         False  False           False          False        False   \n",
              "3         False  False           False          False        False   \n",
              "4         False  False           False          False        False   \n",
              "...         ...    ...             ...            ...          ...   \n",
              "2845337   False  False           False          False        False   \n",
              "2845338   False  False           False          False        False   \n",
              "2845339   False  False           False          False        False   \n",
              "2845340   False  False           False          False        False   \n",
              "2845341   False  False           False          False        False   \n",
              "\n",
              "        Sunrise_Sunset Civil_Twilight Nautical_Twilight Astronomical_Twilight  \n",
              "0                Night          Night             Night                 Night  \n",
              "1                Night          Night             Night                 Night  \n",
              "2                Night          Night             Night                   Day  \n",
              "3                Night          Night               Day                   Day  \n",
              "4                  Day            Day               Day                   Day  \n",
              "...                ...            ...               ...                   ...  \n",
              "2845337            Day            Day               Day                   Day  \n",
              "2845338            Day            Day               Day                   Day  \n",
              "2845339            Day            Day               Day                   Day  \n",
              "2845340            Day            Day               Day                   Day  \n",
              "2845341            Day            Day               Day                   Day  \n",
              "\n",
              "[2845342 rows x 47 columns]"
            ],
            "text/html": [
              "\n",
              "  <div id=\"df-7deae976-0797-4aad-b44c-6faba0539ef7\">\n",
              "    <div class=\"colab-df-container\">\n",
              "      <div>\n",
              "<style scoped>\n",
              "    .dataframe tbody tr th:only-of-type {\n",
              "        vertical-align: middle;\n",
              "    }\n",
              "\n",
              "    .dataframe tbody tr th {\n",
              "        vertical-align: top;\n",
              "    }\n",
              "\n",
              "    .dataframe thead th {\n",
              "        text-align: right;\n",
              "    }\n",
              "</style>\n",
              "<table border=\"1\" class=\"dataframe\">\n",
              "  <thead>\n",
              "    <tr style=\"text-align: right;\">\n",
              "      <th></th>\n",
              "      <th>ID</th>\n",
              "      <th>Severity</th>\n",
              "      <th>Start_Time</th>\n",
              "      <th>End_Time</th>\n",
              "      <th>Start_Lat</th>\n",
              "      <th>Start_Lng</th>\n",
              "      <th>End_Lat</th>\n",
              "      <th>End_Lng</th>\n",
              "      <th>Distance(mi)</th>\n",
              "      <th>Description</th>\n",
              "      <th>...</th>\n",
              "      <th>Roundabout</th>\n",
              "      <th>Station</th>\n",
              "      <th>Stop</th>\n",
              "      <th>Traffic_Calming</th>\n",
              "      <th>Traffic_Signal</th>\n",
              "      <th>Turning_Loop</th>\n",
              "      <th>Sunrise_Sunset</th>\n",
              "      <th>Civil_Twilight</th>\n",
              "      <th>Nautical_Twilight</th>\n",
              "      <th>Astronomical_Twilight</th>\n",
              "    </tr>\n",
              "  </thead>\n",
              "  <tbody>\n",
              "    <tr>\n",
              "      <th>0</th>\n",
              "      <td>A-1</td>\n",
              "      <td>3</td>\n",
              "      <td>2016-02-08 00:37:08</td>\n",
              "      <td>2016-02-08 06:37:08</td>\n",
              "      <td>40.108910</td>\n",
              "      <td>-83.092860</td>\n",
              "      <td>40.112060</td>\n",
              "      <td>-83.031870</td>\n",
              "      <td>3.230</td>\n",
              "      <td>Between Sawmill Rd/Exit 20 and OH-315/Olentang...</td>\n",
              "      <td>...</td>\n",
              "      <td>False</td>\n",
              "      <td>False</td>\n",
              "      <td>False</td>\n",
              "      <td>False</td>\n",
              "      <td>False</td>\n",
              "      <td>False</td>\n",
              "      <td>Night</td>\n",
              "      <td>Night</td>\n",
              "      <td>Night</td>\n",
              "      <td>Night</td>\n",
              "    </tr>\n",
              "    <tr>\n",
              "      <th>1</th>\n",
              "      <td>A-2</td>\n",
              "      <td>2</td>\n",
              "      <td>2016-02-08 05:56:20</td>\n",
              "      <td>2016-02-08 11:56:20</td>\n",
              "      <td>39.865420</td>\n",
              "      <td>-84.062800</td>\n",
              "      <td>39.865010</td>\n",
              "      <td>-84.048730</td>\n",
              "      <td>0.747</td>\n",
              "      <td>At OH-4/OH-235/Exit 41 - Accident.</td>\n",
              "      <td>...</td>\n",
              "      <td>False</td>\n",
              "      <td>False</td>\n",
              "      <td>False</td>\n",
              "      <td>False</td>\n",
              "      <td>False</td>\n",
              "      <td>False</td>\n",
              "      <td>Night</td>\n",
              "      <td>Night</td>\n",
              "      <td>Night</td>\n",
              "      <td>Night</td>\n",
              "    </tr>\n",
              "    <tr>\n",
              "      <th>2</th>\n",
              "      <td>A-3</td>\n",
              "      <td>2</td>\n",
              "      <td>2016-02-08 06:15:39</td>\n",
              "      <td>2016-02-08 12:15:39</td>\n",
              "      <td>39.102660</td>\n",
              "      <td>-84.524680</td>\n",
              "      <td>39.102090</td>\n",
              "      <td>-84.523960</td>\n",
              "      <td>0.055</td>\n",
              "      <td>At I-71/US-50/Exit 1 - Accident.</td>\n",
              "      <td>...</td>\n",
              "      <td>False</td>\n",
              "      <td>False</td>\n",
              "      <td>False</td>\n",
              "      <td>False</td>\n",
              "      <td>False</td>\n",
              "      <td>False</td>\n",
              "      <td>Night</td>\n",
              "      <td>Night</td>\n",
              "      <td>Night</td>\n",
              "      <td>Day</td>\n",
              "    </tr>\n",
              "    <tr>\n",
              "      <th>3</th>\n",
              "      <td>A-4</td>\n",
              "      <td>2</td>\n",
              "      <td>2016-02-08 06:51:45</td>\n",
              "      <td>2016-02-08 12:51:45</td>\n",
              "      <td>41.062130</td>\n",
              "      <td>-81.537840</td>\n",
              "      <td>41.062170</td>\n",
              "      <td>-81.535470</td>\n",
              "      <td>0.123</td>\n",
              "      <td>At Dart Ave/Exit 21 - Accident.</td>\n",
              "      <td>...</td>\n",
              "      <td>False</td>\n",
              "      <td>False</td>\n",
              "      <td>False</td>\n",
              "      <td>False</td>\n",
              "      <td>False</td>\n",
              "      <td>False</td>\n",
              "      <td>Night</td>\n",
              "      <td>Night</td>\n",
              "      <td>Day</td>\n",
              "      <td>Day</td>\n",
              "    </tr>\n",
              "    <tr>\n",
              "      <th>4</th>\n",
              "      <td>A-5</td>\n",
              "      <td>3</td>\n",
              "      <td>2016-02-08 07:53:43</td>\n",
              "      <td>2016-02-08 13:53:43</td>\n",
              "      <td>39.172393</td>\n",
              "      <td>-84.492792</td>\n",
              "      <td>39.170476</td>\n",
              "      <td>-84.501798</td>\n",
              "      <td>0.500</td>\n",
              "      <td>At Mitchell Ave/Exit 6 - Accident.</td>\n",
              "      <td>...</td>\n",
              "      <td>False</td>\n",
              "      <td>False</td>\n",
              "      <td>False</td>\n",
              "      <td>False</td>\n",
              "      <td>False</td>\n",
              "      <td>False</td>\n",
              "      <td>Day</td>\n",
              "      <td>Day</td>\n",
              "      <td>Day</td>\n",
              "      <td>Day</td>\n",
              "    </tr>\n",
              "    <tr>\n",
              "      <th>...</th>\n",
              "      <td>...</td>\n",
              "      <td>...</td>\n",
              "      <td>...</td>\n",
              "      <td>...</td>\n",
              "      <td>...</td>\n",
              "      <td>...</td>\n",
              "      <td>...</td>\n",
              "      <td>...</td>\n",
              "      <td>...</td>\n",
              "      <td>...</td>\n",
              "      <td>...</td>\n",
              "      <td>...</td>\n",
              "      <td>...</td>\n",
              "      <td>...</td>\n",
              "      <td>...</td>\n",
              "      <td>...</td>\n",
              "      <td>...</td>\n",
              "      <td>...</td>\n",
              "      <td>...</td>\n",
              "      <td>...</td>\n",
              "      <td>...</td>\n",
              "    </tr>\n",
              "    <tr>\n",
              "      <th>2845337</th>\n",
              "      <td>A-2845338</td>\n",
              "      <td>2</td>\n",
              "      <td>2019-08-23 18:03:25</td>\n",
              "      <td>2019-08-23 18:32:01</td>\n",
              "      <td>34.002480</td>\n",
              "      <td>-117.379360</td>\n",
              "      <td>33.998880</td>\n",
              "      <td>-117.370940</td>\n",
              "      <td>0.543</td>\n",
              "      <td>At Market St - Accident.</td>\n",
              "      <td>...</td>\n",
              "      <td>False</td>\n",
              "      <td>False</td>\n",
              "      <td>False</td>\n",
              "      <td>False</td>\n",
              "      <td>False</td>\n",
              "      <td>False</td>\n",
              "      <td>Day</td>\n",
              "      <td>Day</td>\n",
              "      <td>Day</td>\n",
              "      <td>Day</td>\n",
              "    </tr>\n",
              "    <tr>\n",
              "      <th>2845338</th>\n",
              "      <td>A-2845339</td>\n",
              "      <td>2</td>\n",
              "      <td>2019-08-23 19:11:30</td>\n",
              "      <td>2019-08-23 19:38:23</td>\n",
              "      <td>32.766960</td>\n",
              "      <td>-117.148060</td>\n",
              "      <td>32.765550</td>\n",
              "      <td>-117.153630</td>\n",
              "      <td>0.338</td>\n",
              "      <td>At Camino Del Rio/Mission Center Rd - Accident.</td>\n",
              "      <td>...</td>\n",
              "      <td>False</td>\n",
              "      <td>False</td>\n",
              "      <td>False</td>\n",
              "      <td>False</td>\n",
              "      <td>False</td>\n",
              "      <td>False</td>\n",
              "      <td>Day</td>\n",
              "      <td>Day</td>\n",
              "      <td>Day</td>\n",
              "      <td>Day</td>\n",
              "    </tr>\n",
              "    <tr>\n",
              "      <th>2845339</th>\n",
              "      <td>A-2845340</td>\n",
              "      <td>2</td>\n",
              "      <td>2019-08-23 19:00:21</td>\n",
              "      <td>2019-08-23 19:28:49</td>\n",
              "      <td>33.775450</td>\n",
              "      <td>-117.847790</td>\n",
              "      <td>33.777400</td>\n",
              "      <td>-117.857270</td>\n",
              "      <td>0.561</td>\n",
              "      <td>At Glassell St/Grand Ave - Accident. in the ri...</td>\n",
              "      <td>...</td>\n",
              "      <td>False</td>\n",
              "      <td>False</td>\n",
              "      <td>False</td>\n",
              "      <td>False</td>\n",
              "      <td>False</td>\n",
              "      <td>False</td>\n",
              "      <td>Day</td>\n",
              "      <td>Day</td>\n",
              "      <td>Day</td>\n",
              "      <td>Day</td>\n",
              "    </tr>\n",
              "    <tr>\n",
              "      <th>2845340</th>\n",
              "      <td>A-2845341</td>\n",
              "      <td>2</td>\n",
              "      <td>2019-08-23 19:00:21</td>\n",
              "      <td>2019-08-23 19:29:42</td>\n",
              "      <td>33.992460</td>\n",
              "      <td>-118.403020</td>\n",
              "      <td>33.983110</td>\n",
              "      <td>-118.395650</td>\n",
              "      <td>0.772</td>\n",
              "      <td>At CA-90/Marina Fwy/Jefferson Blvd - Accident.</td>\n",
              "      <td>...</td>\n",
              "      <td>False</td>\n",
              "      <td>False</td>\n",
              "      <td>False</td>\n",
              "      <td>False</td>\n",
              "      <td>False</td>\n",
              "      <td>False</td>\n",
              "      <td>Day</td>\n",
              "      <td>Day</td>\n",
              "      <td>Day</td>\n",
              "      <td>Day</td>\n",
              "    </tr>\n",
              "    <tr>\n",
              "      <th>2845341</th>\n",
              "      <td>A-2845342</td>\n",
              "      <td>2</td>\n",
              "      <td>2019-08-23 18:52:06</td>\n",
              "      <td>2019-08-23 19:21:31</td>\n",
              "      <td>34.133930</td>\n",
              "      <td>-117.230920</td>\n",
              "      <td>34.137360</td>\n",
              "      <td>-117.239340</td>\n",
              "      <td>0.537</td>\n",
              "      <td>At Highland Ave/Arden Ave - Accident.</td>\n",
              "      <td>...</td>\n",
              "      <td>False</td>\n",
              "      <td>False</td>\n",
              "      <td>False</td>\n",
              "      <td>False</td>\n",
              "      <td>False</td>\n",
              "      <td>False</td>\n",
              "      <td>Day</td>\n",
              "      <td>Day</td>\n",
              "      <td>Day</td>\n",
              "      <td>Day</td>\n",
              "    </tr>\n",
              "  </tbody>\n",
              "</table>\n",
              "<p>2845342 rows × 47 columns</p>\n",
              "</div>\n",
              "      <button class=\"colab-df-convert\" onclick=\"convertToInteractive('df-7deae976-0797-4aad-b44c-6faba0539ef7')\"\n",
              "              title=\"Convert this dataframe to an interactive table.\"\n",
              "              style=\"display:none;\">\n",
              "        \n",
              "  <svg xmlns=\"http://www.w3.org/2000/svg\" height=\"24px\"viewBox=\"0 0 24 24\"\n",
              "       width=\"24px\">\n",
              "    <path d=\"M0 0h24v24H0V0z\" fill=\"none\"/>\n",
              "    <path d=\"M18.56 5.44l.94 2.06.94-2.06 2.06-.94-2.06-.94-.94-2.06-.94 2.06-2.06.94zm-11 1L8.5 8.5l.94-2.06 2.06-.94-2.06-.94L8.5 2.5l-.94 2.06-2.06.94zm10 10l.94 2.06.94-2.06 2.06-.94-2.06-.94-.94-2.06-.94 2.06-2.06.94z\"/><path d=\"M17.41 7.96l-1.37-1.37c-.4-.4-.92-.59-1.43-.59-.52 0-1.04.2-1.43.59L10.3 9.45l-7.72 7.72c-.78.78-.78 2.05 0 2.83L4 21.41c.39.39.9.59 1.41.59.51 0 1.02-.2 1.41-.59l7.78-7.78 2.81-2.81c.8-.78.8-2.07 0-2.86zM5.41 20L4 18.59l7.72-7.72 1.47 1.35L5.41 20z\"/>\n",
              "  </svg>\n",
              "      </button>\n",
              "      \n",
              "  <style>\n",
              "    .colab-df-container {\n",
              "      display:flex;\n",
              "      flex-wrap:wrap;\n",
              "      gap: 12px;\n",
              "    }\n",
              "\n",
              "    .colab-df-convert {\n",
              "      background-color: #E8F0FE;\n",
              "      border: none;\n",
              "      border-radius: 50%;\n",
              "      cursor: pointer;\n",
              "      display: none;\n",
              "      fill: #1967D2;\n",
              "      height: 32px;\n",
              "      padding: 0 0 0 0;\n",
              "      width: 32px;\n",
              "    }\n",
              "\n",
              "    .colab-df-convert:hover {\n",
              "      background-color: #E2EBFA;\n",
              "      box-shadow: 0px 1px 2px rgba(60, 64, 67, 0.3), 0px 1px 3px 1px rgba(60, 64, 67, 0.15);\n",
              "      fill: #174EA6;\n",
              "    }\n",
              "\n",
              "    [theme=dark] .colab-df-convert {\n",
              "      background-color: #3B4455;\n",
              "      fill: #D2E3FC;\n",
              "    }\n",
              "\n",
              "    [theme=dark] .colab-df-convert:hover {\n",
              "      background-color: #434B5C;\n",
              "      box-shadow: 0px 1px 3px 1px rgba(0, 0, 0, 0.15);\n",
              "      filter: drop-shadow(0px 1px 2px rgba(0, 0, 0, 0.3));\n",
              "      fill: #FFFFFF;\n",
              "    }\n",
              "  </style>\n",
              "\n",
              "      <script>\n",
              "        const buttonEl =\n",
              "          document.querySelector('#df-7deae976-0797-4aad-b44c-6faba0539ef7 button.colab-df-convert');\n",
              "        buttonEl.style.display =\n",
              "          google.colab.kernel.accessAllowed ? 'block' : 'none';\n",
              "\n",
              "        async function convertToInteractive(key) {\n",
              "          const element = document.querySelector('#df-7deae976-0797-4aad-b44c-6faba0539ef7');\n",
              "          const dataTable =\n",
              "            await google.colab.kernel.invokeFunction('convertToInteractive',\n",
              "                                                     [key], {});\n",
              "          if (!dataTable) return;\n",
              "\n",
              "          const docLinkHtml = 'Like what you see? Visit the ' +\n",
              "            '<a target=\"_blank\" href=https://colab.research.google.com/notebooks/data_table.ipynb>data table notebook</a>'\n",
              "            + ' to learn more about interactive tables.';\n",
              "          element.innerHTML = '';\n",
              "          dataTable['output_type'] = 'display_data';\n",
              "          await google.colab.output.renderOutput(dataTable, element);\n",
              "          const docLink = document.createElement('div');\n",
              "          docLink.innerHTML = docLinkHtml;\n",
              "          element.appendChild(docLink);\n",
              "        }\n",
              "      </script>\n",
              "    </div>\n",
              "  </div>\n",
              "  "
            ]
          },
          "metadata": {},
          "execution_count": 9
        }
      ],
      "source": [
        "df"
      ]
    },
    {
      "cell_type": "code",
      "source": [
        "df.info()"
      ],
      "metadata": {
        "colab": {
          "base_uri": "https://localhost:8080/"
        },
        "id": "TDmGz_TO1sY7",
        "outputId": "18fe0d99-6299-4481-c2c8-a7f462b77f23"
      },
      "execution_count": 10,
      "outputs": [
        {
          "output_type": "stream",
          "name": "stdout",
          "text": [
            "<class 'pandas.core.frame.DataFrame'>\n",
            "RangeIndex: 2845342 entries, 0 to 2845341\n",
            "Data columns (total 47 columns):\n",
            " #   Column                 Dtype  \n",
            "---  ------                 -----  \n",
            " 0   ID                     object \n",
            " 1   Severity               int64  \n",
            " 2   Start_Time             object \n",
            " 3   End_Time               object \n",
            " 4   Start_Lat              float64\n",
            " 5   Start_Lng              float64\n",
            " 6   End_Lat                float64\n",
            " 7   End_Lng                float64\n",
            " 8   Distance(mi)           float64\n",
            " 9   Description            object \n",
            " 10  Number                 float64\n",
            " 11  Street                 object \n",
            " 12  Side                   object \n",
            " 13  City                   object \n",
            " 14  County                 object \n",
            " 15  State                  object \n",
            " 16  Zipcode                object \n",
            " 17  Country                object \n",
            " 18  Timezone               object \n",
            " 19  Airport_Code           object \n",
            " 20  Weather_Timestamp      object \n",
            " 21  Temperature(F)         float64\n",
            " 22  Wind_Chill(F)          float64\n",
            " 23  Humidity(%)            float64\n",
            " 24  Pressure(in)           float64\n",
            " 25  Visibility(mi)         float64\n",
            " 26  Wind_Direction         object \n",
            " 27  Wind_Speed(mph)        float64\n",
            " 28  Precipitation(in)      float64\n",
            " 29  Weather_Condition      object \n",
            " 30  Amenity                bool   \n",
            " 31  Bump                   bool   \n",
            " 32  Crossing               bool   \n",
            " 33  Give_Way               bool   \n",
            " 34  Junction               bool   \n",
            " 35  No_Exit                bool   \n",
            " 36  Railway                bool   \n",
            " 37  Roundabout             bool   \n",
            " 38  Station                bool   \n",
            " 39  Stop                   bool   \n",
            " 40  Traffic_Calming        bool   \n",
            " 41  Traffic_Signal         bool   \n",
            " 42  Turning_Loop           bool   \n",
            " 43  Sunrise_Sunset         object \n",
            " 44  Civil_Twilight         object \n",
            " 45  Nautical_Twilight      object \n",
            " 46  Astronomical_Twilight  object \n",
            "dtypes: bool(13), float64(13), int64(1), object(20)\n",
            "memory usage: 773.4+ MB\n"
          ]
        }
      ]
    },
    {
      "cell_type": "code",
      "source": [
        "df.describe()"
      ],
      "metadata": {
        "colab": {
          "base_uri": "https://localhost:8080/",
          "height": 364
        },
        "id": "SmzhX6iU3xTS",
        "outputId": "e68de1d1-368a-4bc4-cb59-e74a4f0201c2"
      },
      "execution_count": 11,
      "outputs": [
        {
          "output_type": "execute_result",
          "data": {
            "text/plain": [
              "           Severity     Start_Lat     Start_Lng       End_Lat       End_Lng  \\\n",
              "count  2.845342e+06  2.845342e+06  2.845342e+06  2.845342e+06  2.845342e+06   \n",
              "mean   2.137572e+00  3.624520e+01 -9.711463e+01  3.624532e+01 -9.711439e+01   \n",
              "std    4.787216e-01  5.363797e+00  1.831782e+01  5.363873e+00  1.831763e+01   \n",
              "min    1.000000e+00  2.456603e+01 -1.245481e+02  2.456601e+01 -1.245457e+02   \n",
              "25%    2.000000e+00  3.344517e+01 -1.180331e+02  3.344628e+01 -1.180333e+02   \n",
              "50%    2.000000e+00  3.609861e+01 -9.241808e+01  3.609799e+01 -9.241772e+01   \n",
              "75%    2.000000e+00  4.016024e+01 -8.037243e+01  4.016105e+01 -8.037338e+01   \n",
              "max    4.000000e+00  4.900058e+01 -6.711317e+01  4.907500e+01 -6.710924e+01   \n",
              "\n",
              "       Distance(mi)        Number  Temperature(F)  Wind_Chill(F)  \\\n",
              "count  2.845342e+06  1.101431e+06    2.776068e+06   2.375699e+06   \n",
              "mean   7.026779e-01  8.089408e+03    6.179356e+01   5.965823e+01   \n",
              "std    1.560361e+00  1.836009e+04    1.862263e+01   2.116097e+01   \n",
              "min    0.000000e+00  0.000000e+00   -8.900000e+01  -8.900000e+01   \n",
              "25%    5.200000e-02  1.270000e+03    5.000000e+01   4.600000e+01   \n",
              "50%    2.440000e-01  4.007000e+03    6.400000e+01   6.300000e+01   \n",
              "75%    7.640000e-01  9.567000e+03    7.600000e+01   7.600000e+01   \n",
              "max    1.551860e+02  9.999997e+06    1.960000e+02   1.960000e+02   \n",
              "\n",
              "        Humidity(%)  Pressure(in)  Visibility(mi)  Wind_Speed(mph)  \\\n",
              "count  2.772250e+06  2.786142e+06    2.774796e+06     2.687398e+06   \n",
              "mean   6.436545e+01  2.947234e+01    9.099391e+00     7.395044e+00   \n",
              "std    2.287457e+01  1.045286e+00    2.717546e+00     5.527454e+00   \n",
              "min    1.000000e+00  0.000000e+00    0.000000e+00     0.000000e+00   \n",
              "25%    4.800000e+01  2.931000e+01    1.000000e+01     3.500000e+00   \n",
              "50%    6.700000e+01  2.982000e+01    1.000000e+01     7.000000e+00   \n",
              "75%    8.300000e+01  3.001000e+01    1.000000e+01     1.000000e+01   \n",
              "max    1.000000e+02  5.890000e+01    1.400000e+02     1.087000e+03   \n",
              "\n",
              "       Precipitation(in)  \n",
              "count       2.295884e+06  \n",
              "mean        7.016940e-03  \n",
              "std         9.348831e-02  \n",
              "min         0.000000e+00  \n",
              "25%         0.000000e+00  \n",
              "50%         0.000000e+00  \n",
              "75%         0.000000e+00  \n",
              "max         2.400000e+01  "
            ],
            "text/html": [
              "\n",
              "  <div id=\"df-94f67a43-0c7a-479b-828e-09122c5bb86e\">\n",
              "    <div class=\"colab-df-container\">\n",
              "      <div>\n",
              "<style scoped>\n",
              "    .dataframe tbody tr th:only-of-type {\n",
              "        vertical-align: middle;\n",
              "    }\n",
              "\n",
              "    .dataframe tbody tr th {\n",
              "        vertical-align: top;\n",
              "    }\n",
              "\n",
              "    .dataframe thead th {\n",
              "        text-align: right;\n",
              "    }\n",
              "</style>\n",
              "<table border=\"1\" class=\"dataframe\">\n",
              "  <thead>\n",
              "    <tr style=\"text-align: right;\">\n",
              "      <th></th>\n",
              "      <th>Severity</th>\n",
              "      <th>Start_Lat</th>\n",
              "      <th>Start_Lng</th>\n",
              "      <th>End_Lat</th>\n",
              "      <th>End_Lng</th>\n",
              "      <th>Distance(mi)</th>\n",
              "      <th>Number</th>\n",
              "      <th>Temperature(F)</th>\n",
              "      <th>Wind_Chill(F)</th>\n",
              "      <th>Humidity(%)</th>\n",
              "      <th>Pressure(in)</th>\n",
              "      <th>Visibility(mi)</th>\n",
              "      <th>Wind_Speed(mph)</th>\n",
              "      <th>Precipitation(in)</th>\n",
              "    </tr>\n",
              "  </thead>\n",
              "  <tbody>\n",
              "    <tr>\n",
              "      <th>count</th>\n",
              "      <td>2.845342e+06</td>\n",
              "      <td>2.845342e+06</td>\n",
              "      <td>2.845342e+06</td>\n",
              "      <td>2.845342e+06</td>\n",
              "      <td>2.845342e+06</td>\n",
              "      <td>2.845342e+06</td>\n",
              "      <td>1.101431e+06</td>\n",
              "      <td>2.776068e+06</td>\n",
              "      <td>2.375699e+06</td>\n",
              "      <td>2.772250e+06</td>\n",
              "      <td>2.786142e+06</td>\n",
              "      <td>2.774796e+06</td>\n",
              "      <td>2.687398e+06</td>\n",
              "      <td>2.295884e+06</td>\n",
              "    </tr>\n",
              "    <tr>\n",
              "      <th>mean</th>\n",
              "      <td>2.137572e+00</td>\n",
              "      <td>3.624520e+01</td>\n",
              "      <td>-9.711463e+01</td>\n",
              "      <td>3.624532e+01</td>\n",
              "      <td>-9.711439e+01</td>\n",
              "      <td>7.026779e-01</td>\n",
              "      <td>8.089408e+03</td>\n",
              "      <td>6.179356e+01</td>\n",
              "      <td>5.965823e+01</td>\n",
              "      <td>6.436545e+01</td>\n",
              "      <td>2.947234e+01</td>\n",
              "      <td>9.099391e+00</td>\n",
              "      <td>7.395044e+00</td>\n",
              "      <td>7.016940e-03</td>\n",
              "    </tr>\n",
              "    <tr>\n",
              "      <th>std</th>\n",
              "      <td>4.787216e-01</td>\n",
              "      <td>5.363797e+00</td>\n",
              "      <td>1.831782e+01</td>\n",
              "      <td>5.363873e+00</td>\n",
              "      <td>1.831763e+01</td>\n",
              "      <td>1.560361e+00</td>\n",
              "      <td>1.836009e+04</td>\n",
              "      <td>1.862263e+01</td>\n",
              "      <td>2.116097e+01</td>\n",
              "      <td>2.287457e+01</td>\n",
              "      <td>1.045286e+00</td>\n",
              "      <td>2.717546e+00</td>\n",
              "      <td>5.527454e+00</td>\n",
              "      <td>9.348831e-02</td>\n",
              "    </tr>\n",
              "    <tr>\n",
              "      <th>min</th>\n",
              "      <td>1.000000e+00</td>\n",
              "      <td>2.456603e+01</td>\n",
              "      <td>-1.245481e+02</td>\n",
              "      <td>2.456601e+01</td>\n",
              "      <td>-1.245457e+02</td>\n",
              "      <td>0.000000e+00</td>\n",
              "      <td>0.000000e+00</td>\n",
              "      <td>-8.900000e+01</td>\n",
              "      <td>-8.900000e+01</td>\n",
              "      <td>1.000000e+00</td>\n",
              "      <td>0.000000e+00</td>\n",
              "      <td>0.000000e+00</td>\n",
              "      <td>0.000000e+00</td>\n",
              "      <td>0.000000e+00</td>\n",
              "    </tr>\n",
              "    <tr>\n",
              "      <th>25%</th>\n",
              "      <td>2.000000e+00</td>\n",
              "      <td>3.344517e+01</td>\n",
              "      <td>-1.180331e+02</td>\n",
              "      <td>3.344628e+01</td>\n",
              "      <td>-1.180333e+02</td>\n",
              "      <td>5.200000e-02</td>\n",
              "      <td>1.270000e+03</td>\n",
              "      <td>5.000000e+01</td>\n",
              "      <td>4.600000e+01</td>\n",
              "      <td>4.800000e+01</td>\n",
              "      <td>2.931000e+01</td>\n",
              "      <td>1.000000e+01</td>\n",
              "      <td>3.500000e+00</td>\n",
              "      <td>0.000000e+00</td>\n",
              "    </tr>\n",
              "    <tr>\n",
              "      <th>50%</th>\n",
              "      <td>2.000000e+00</td>\n",
              "      <td>3.609861e+01</td>\n",
              "      <td>-9.241808e+01</td>\n",
              "      <td>3.609799e+01</td>\n",
              "      <td>-9.241772e+01</td>\n",
              "      <td>2.440000e-01</td>\n",
              "      <td>4.007000e+03</td>\n",
              "      <td>6.400000e+01</td>\n",
              "      <td>6.300000e+01</td>\n",
              "      <td>6.700000e+01</td>\n",
              "      <td>2.982000e+01</td>\n",
              "      <td>1.000000e+01</td>\n",
              "      <td>7.000000e+00</td>\n",
              "      <td>0.000000e+00</td>\n",
              "    </tr>\n",
              "    <tr>\n",
              "      <th>75%</th>\n",
              "      <td>2.000000e+00</td>\n",
              "      <td>4.016024e+01</td>\n",
              "      <td>-8.037243e+01</td>\n",
              "      <td>4.016105e+01</td>\n",
              "      <td>-8.037338e+01</td>\n",
              "      <td>7.640000e-01</td>\n",
              "      <td>9.567000e+03</td>\n",
              "      <td>7.600000e+01</td>\n",
              "      <td>7.600000e+01</td>\n",
              "      <td>8.300000e+01</td>\n",
              "      <td>3.001000e+01</td>\n",
              "      <td>1.000000e+01</td>\n",
              "      <td>1.000000e+01</td>\n",
              "      <td>0.000000e+00</td>\n",
              "    </tr>\n",
              "    <tr>\n",
              "      <th>max</th>\n",
              "      <td>4.000000e+00</td>\n",
              "      <td>4.900058e+01</td>\n",
              "      <td>-6.711317e+01</td>\n",
              "      <td>4.907500e+01</td>\n",
              "      <td>-6.710924e+01</td>\n",
              "      <td>1.551860e+02</td>\n",
              "      <td>9.999997e+06</td>\n",
              "      <td>1.960000e+02</td>\n",
              "      <td>1.960000e+02</td>\n",
              "      <td>1.000000e+02</td>\n",
              "      <td>5.890000e+01</td>\n",
              "      <td>1.400000e+02</td>\n",
              "      <td>1.087000e+03</td>\n",
              "      <td>2.400000e+01</td>\n",
              "    </tr>\n",
              "  </tbody>\n",
              "</table>\n",
              "</div>\n",
              "      <button class=\"colab-df-convert\" onclick=\"convertToInteractive('df-94f67a43-0c7a-479b-828e-09122c5bb86e')\"\n",
              "              title=\"Convert this dataframe to an interactive table.\"\n",
              "              style=\"display:none;\">\n",
              "        \n",
              "  <svg xmlns=\"http://www.w3.org/2000/svg\" height=\"24px\"viewBox=\"0 0 24 24\"\n",
              "       width=\"24px\">\n",
              "    <path d=\"M0 0h24v24H0V0z\" fill=\"none\"/>\n",
              "    <path d=\"M18.56 5.44l.94 2.06.94-2.06 2.06-.94-2.06-.94-.94-2.06-.94 2.06-2.06.94zm-11 1L8.5 8.5l.94-2.06 2.06-.94-2.06-.94L8.5 2.5l-.94 2.06-2.06.94zm10 10l.94 2.06.94-2.06 2.06-.94-2.06-.94-.94-2.06-.94 2.06-2.06.94z\"/><path d=\"M17.41 7.96l-1.37-1.37c-.4-.4-.92-.59-1.43-.59-.52 0-1.04.2-1.43.59L10.3 9.45l-7.72 7.72c-.78.78-.78 2.05 0 2.83L4 21.41c.39.39.9.59 1.41.59.51 0 1.02-.2 1.41-.59l7.78-7.78 2.81-2.81c.8-.78.8-2.07 0-2.86zM5.41 20L4 18.59l7.72-7.72 1.47 1.35L5.41 20z\"/>\n",
              "  </svg>\n",
              "      </button>\n",
              "      \n",
              "  <style>\n",
              "    .colab-df-container {\n",
              "      display:flex;\n",
              "      flex-wrap:wrap;\n",
              "      gap: 12px;\n",
              "    }\n",
              "\n",
              "    .colab-df-convert {\n",
              "      background-color: #E8F0FE;\n",
              "      border: none;\n",
              "      border-radius: 50%;\n",
              "      cursor: pointer;\n",
              "      display: none;\n",
              "      fill: #1967D2;\n",
              "      height: 32px;\n",
              "      padding: 0 0 0 0;\n",
              "      width: 32px;\n",
              "    }\n",
              "\n",
              "    .colab-df-convert:hover {\n",
              "      background-color: #E2EBFA;\n",
              "      box-shadow: 0px 1px 2px rgba(60, 64, 67, 0.3), 0px 1px 3px 1px rgba(60, 64, 67, 0.15);\n",
              "      fill: #174EA6;\n",
              "    }\n",
              "\n",
              "    [theme=dark] .colab-df-convert {\n",
              "      background-color: #3B4455;\n",
              "      fill: #D2E3FC;\n",
              "    }\n",
              "\n",
              "    [theme=dark] .colab-df-convert:hover {\n",
              "      background-color: #434B5C;\n",
              "      box-shadow: 0px 1px 3px 1px rgba(0, 0, 0, 0.15);\n",
              "      filter: drop-shadow(0px 1px 2px rgba(0, 0, 0, 0.3));\n",
              "      fill: #FFFFFF;\n",
              "    }\n",
              "  </style>\n",
              "\n",
              "      <script>\n",
              "        const buttonEl =\n",
              "          document.querySelector('#df-94f67a43-0c7a-479b-828e-09122c5bb86e button.colab-df-convert');\n",
              "        buttonEl.style.display =\n",
              "          google.colab.kernel.accessAllowed ? 'block' : 'none';\n",
              "\n",
              "        async function convertToInteractive(key) {\n",
              "          const element = document.querySelector('#df-94f67a43-0c7a-479b-828e-09122c5bb86e');\n",
              "          const dataTable =\n",
              "            await google.colab.kernel.invokeFunction('convertToInteractive',\n",
              "                                                     [key], {});\n",
              "          if (!dataTable) return;\n",
              "\n",
              "          const docLinkHtml = 'Like what you see? Visit the ' +\n",
              "            '<a target=\"_blank\" href=https://colab.research.google.com/notebooks/data_table.ipynb>data table notebook</a>'\n",
              "            + ' to learn more about interactive tables.';\n",
              "          element.innerHTML = '';\n",
              "          dataTable['output_type'] = 'display_data';\n",
              "          await google.colab.output.renderOutput(dataTable, element);\n",
              "          const docLink = document.createElement('div');\n",
              "          docLink.innerHTML = docLinkHtml;\n",
              "          element.appendChild(docLink);\n",
              "        }\n",
              "      </script>\n",
              "    </div>\n",
              "  </div>\n",
              "  "
            ]
          },
          "metadata": {},
          "execution_count": 11
        }
      ]
    },
    {
      "cell_type": "code",
      "source": [
        "numerics = ['int16', 'int32', 'int64', 'float16', 'float32', 'float64']\n",
        "\n",
        "numeric_df = df.select_dtypes(include=numerics)\n",
        "len(numeric_df.columns)"
      ],
      "metadata": {
        "colab": {
          "base_uri": "https://localhost:8080/"
        },
        "id": "A-Q32s4l3xMl",
        "outputId": "6988f760-a8f6-4555-e23e-e2082adfd272"
      },
      "execution_count": 12,
      "outputs": [
        {
          "output_type": "execute_result",
          "data": {
            "text/plain": [
              "14"
            ]
          },
          "metadata": {},
          "execution_count": 12
        }
      ]
    },
    {
      "cell_type": "markdown",
      "source": [
        "Percentage of missing values per column"
      ],
      "metadata": {
        "id": "llTmo5Ko5_1o"
      }
    },
    {
      "cell_type": "code",
      "source": [
        "missing_percentage = df.isna().sum().sort_values(ascending=False) / len(df)\n",
        "missing_percentage"
      ],
      "metadata": {
        "colab": {
          "base_uri": "https://localhost:8080/"
        },
        "id": "SSPN-efy3w8E",
        "outputId": "ca05a805-b21c-470c-ff65-c64c11f4adb7"
      },
      "execution_count": 13,
      "outputs": [
        {
          "output_type": "execute_result",
          "data": {
            "text/plain": [
              "Number                   6.129003e-01\n",
              "Precipitation(in)        1.931079e-01\n",
              "Wind_Chill(F)            1.650568e-01\n",
              "Wind_Speed(mph)          5.550967e-02\n",
              "Wind_Direction           2.592834e-02\n",
              "Humidity(%)              2.568830e-02\n",
              "Weather_Condition        2.482514e-02\n",
              "Visibility(mi)           2.479350e-02\n",
              "Temperature(F)           2.434646e-02\n",
              "Pressure(in)             2.080593e-02\n",
              "Weather_Timestamp        1.783125e-02\n",
              "Airport_Code             3.356011e-03\n",
              "Timezone                 1.285961e-03\n",
              "Nautical_Twilight        1.007612e-03\n",
              "Civil_Twilight           1.007612e-03\n",
              "Sunrise_Sunset           1.007612e-03\n",
              "Astronomical_Twilight    1.007612e-03\n",
              "Zipcode                  4.635647e-04\n",
              "City                     4.814887e-05\n",
              "Street                   7.029032e-07\n",
              "Country                  0.000000e+00\n",
              "Junction                 0.000000e+00\n",
              "Start_Time               0.000000e+00\n",
              "End_Time                 0.000000e+00\n",
              "Start_Lat                0.000000e+00\n",
              "Turning_Loop             0.000000e+00\n",
              "Traffic_Signal           0.000000e+00\n",
              "Traffic_Calming          0.000000e+00\n",
              "Stop                     0.000000e+00\n",
              "Station                  0.000000e+00\n",
              "Roundabout               0.000000e+00\n",
              "Railway                  0.000000e+00\n",
              "No_Exit                  0.000000e+00\n",
              "Crossing                 0.000000e+00\n",
              "Give_Way                 0.000000e+00\n",
              "Bump                     0.000000e+00\n",
              "Amenity                  0.000000e+00\n",
              "Start_Lng                0.000000e+00\n",
              "End_Lat                  0.000000e+00\n",
              "End_Lng                  0.000000e+00\n",
              "Distance(mi)             0.000000e+00\n",
              "Description              0.000000e+00\n",
              "Severity                 0.000000e+00\n",
              "Side                     0.000000e+00\n",
              "County                   0.000000e+00\n",
              "State                    0.000000e+00\n",
              "ID                       0.000000e+00\n",
              "dtype: float64"
            ]
          },
          "metadata": {},
          "execution_count": 13
        }
      ]
    },
    {
      "cell_type": "code",
      "source": [
        "type(missing_percentage)"
      ],
      "metadata": {
        "colab": {
          "base_uri": "https://localhost:8080/"
        },
        "id": "H8eWs6jp6ipc",
        "outputId": "ae0b1f63-7169-41df-f72b-85998327ca88"
      },
      "execution_count": 14,
      "outputs": [
        {
          "output_type": "execute_result",
          "data": {
            "text/plain": [
              "pandas.core.series.Series"
            ]
          },
          "metadata": {},
          "execution_count": 14
        }
      ]
    },
    {
      "cell_type": "code",
      "source": [
        "missing_percentage[missing_percentage != 0].plot(kind='barh')"
      ],
      "metadata": {
        "colab": {
          "base_uri": "https://localhost:8080/",
          "height": 282
        },
        "id": "z-zpasVQ3wyb",
        "outputId": "0c69ecc1-7d33-4fba-e23f-dff7062e1e29"
      },
      "execution_count": 15,
      "outputs": [
        {
          "output_type": "execute_result",
          "data": {
            "text/plain": [
              "<matplotlib.axes._subplots.AxesSubplot at 0x7fba60431950>"
            ]
          },
          "metadata": {},
          "execution_count": 15
        },
        {
          "output_type": "display_data",
          "data": {
            "text/plain": [
              "<Figure size 432x288 with 1 Axes>"
            ],
            "image/png": "[encoded data removed]"
          },
          "metadata": {
            "needs_background": "light"
          }
        }
      ]
    },
    {
      "cell_type": "markdown",
      "source": [
        "Remove columns that you don't want use."
      ],
      "metadata": {
        "id": "LD550UuM7Wv8"
      }
    },
    {
      "cell_type": "markdown",
      "metadata": {
        "id": "WKit4cW8I0Y9"
      },
      "source": [
        "## Exploratory Analysis and Visualization\n",
        "\n",
        "Columnscwe'll analyze:\n",
        "\n",
        "1. City\n",
        "2. Start Time\n",
        "3. Start Lat, Start Lng\n",
        "4. Tempeture\n",
        "5. Weather Condition"
      ]
    },
    {
      "cell_type": "code",
      "execution_count": 16,
      "metadata": {
        "id": "hXGbOahVIioe",
        "colab": {
          "base_uri": "https://localhost:8080/"
        },
        "outputId": "016642e3-cc36-4448-d4c3-a1f1545a912c"
      },
      "outputs": [
        {
          "output_type": "execute_result",
          "data": {
            "text/plain": [
              "Index(['ID', 'Severity', 'Start_Time', 'End_Time', 'Start_Lat', 'Start_Lng',\n",
              "       'End_Lat', 'End_Lng', 'Distance(mi)', 'Description', 'Number', 'Street',\n",
              "       'Side', 'City', 'County', 'State', 'Zipcode', 'Country', 'Timezone',\n",
              "       'Airport_Code', 'Weather_Timestamp', 'Temperature(F)', 'Wind_Chill(F)',\n",
              "       'Humidity(%)', 'Pressure(in)', 'Visibility(mi)', 'Wind_Direction',\n",
              "       'Wind_Speed(mph)', 'Precipitation(in)', 'Weather_Condition', 'Amenity',\n",
              "       'Bump', 'Crossing', 'Give_Way', 'Junction', 'No_Exit', 'Railway',\n",
              "       'Roundabout', 'Station', 'Stop', 'Traffic_Calming', 'Traffic_Signal',\n",
              "       'Turning_Loop', 'Sunrise_Sunset', 'Civil_Twilight', 'Nautical_Twilight',\n",
              "       'Astronomical_Twilight'],\n",
              "      dtype='object')"
            ]
          },
          "metadata": {},
          "execution_count": 16
        }
      ],
      "source": [
        "df.columns"
      ]
    },
    {
      "cell_type": "markdown",
      "source": [
        "### City"
      ],
      "metadata": {
        "id": "p8VkDxhjTXyk"
      }
    },
    {
      "cell_type": "code",
      "execution_count": 17,
      "metadata": {
        "id": "cxjRxpxoI5a7",
        "colab": {
          "base_uri": "https://localhost:8080/"
        },
        "outputId": "d9deb6cc-b2de-4ca5-fc5c-849cd5aca61e"
      },
      "outputs": [
        {
          "output_type": "execute_result",
          "data": {
            "text/plain": [
              "0               Dublin\n",
              "1               Dayton\n",
              "2           Cincinnati\n",
              "3                Akron\n",
              "4           Cincinnati\n",
              "              ...     \n",
              "2845337      Riverside\n",
              "2845338      San Diego\n",
              "2845339         Orange\n",
              "2845340    Culver City\n",
              "2845341       Highland\n",
              "Name: City, Length: 2845342, dtype: object"
            ]
          },
          "metadata": {},
          "execution_count": 17
        }
      ],
      "source": [
        "df.City"
      ]
    },
    {
      "cell_type": "code",
      "execution_count": 18,
      "metadata": {
        "id": "hbclt1VWI5dn",
        "colab": {
          "base_uri": "https://localhost:8080/"
        },
        "outputId": "2ff43b3b-031b-40c6-e569-ff9db3badabb"
      },
      "outputs": [
        {
          "output_type": "execute_result",
          "data": {
            "text/plain": [
              "11682"
            ]
          },
          "metadata": {},
          "execution_count": 18
        }
      ],
      "source": [
        "cities = df.City.unique()\n",
        "len(cities)"
      ]
    },
    {
      "cell_type": "code",
      "execution_count": 19,
      "metadata": {
        "id": "9PLguOhAI5hX",
        "colab": {
          "base_uri": "https://localhost:8080/"
        },
        "outputId": "dddb3040-1a4f-4a37-ee5d-c7c49ba8aefd"
      },
      "outputs": [
        {
          "output_type": "execute_result",
          "data": {
            "text/plain": [
              "Miami                           106966\n",
              "Los Angeles                      68956\n",
              "Orlando                          54691\n",
              "Dallas                           41979\n",
              "Houston                          39448\n",
              "                                 ...  \n",
              "Ridgedale                            1\n",
              "Sekiu                                1\n",
              "Wooldridge                           1\n",
              "Bullock                              1\n",
              "American Fork-Pleasant Grove         1\n",
              "Name: City, Length: 11681, dtype: int64"
            ]
          },
          "metadata": {},
          "execution_count": 19
        }
      ],
      "source": [
        "cities_by_accident = df.City.value_counts()\n",
        "cities_by_accident"
      ]
    },
    {
      "cell_type": "code",
      "execution_count": 20,
      "metadata": {
        "id": "v5eEQHYOI5jb",
        "colab": {
          "base_uri": "https://localhost:8080/"
        },
        "outputId": "dc667f90-f429-4cca-df32-10ae835f2abb"
      },
      "outputs": [
        {
          "output_type": "execute_result",
          "data": {
            "text/plain": [
              "Miami           106966\n",
              "Los Angeles      68956\n",
              "Orlando          54691\n",
              "Dallas           41979\n",
              "Houston          39448\n",
              "Charlotte        33152\n",
              "Sacramento       32559\n",
              "San Diego        26627\n",
              "Raleigh          22840\n",
              "Minneapolis      22768\n",
              "Portland         20944\n",
              "Nashville        20267\n",
              "Austin           18301\n",
              "Baton Rouge      18182\n",
              "Phoenix          17143\n",
              "Saint Paul       16869\n",
              "New Orleans      16251\n",
              "Atlanta          15622\n",
              "Jacksonville     14967\n",
              "Richmond         14349\n",
              "Name: City, dtype: int64"
            ]
          },
          "metadata": {},
          "execution_count": 20
        }
      ],
      "source": [
        "cities_by_accident[:20]"
      ]
    },
    {
      "cell_type": "code",
      "source": [
        "cities_by_accident[:20].plot(kind='barh')"
      ],
      "metadata": {
        "colab": {
          "base_uri": "https://localhost:8080/",
          "height": 282
        },
        "id": "SF3hiQHj6JaW",
        "outputId": "463a4253-e938-446c-bab9-5c0c054d750c"
      },
      "execution_count": 21,
      "outputs": [
        {
          "output_type": "execute_result",
          "data": {
            "text/plain": [
              "<matplotlib.axes._subplots.AxesSubplot at 0x7fba7ee40e50>"
            ]
          },
          "metadata": {},
          "execution_count": 21
        },
        {
          "output_type": "display_data",
          "data": {
            "text/plain": [
              "<Figure size 432x288 with 1 Axes>"
            ],
            "image/png": "[encoded data removed]"
          },
          "metadata": {
            "needs_background": "light"
          }
        }
      ]
    },
    {
      "cell_type": "code",
      "source": [
        "import seaborn as sns\n",
        "sns.set_style('darkgrid')"
      ],
      "metadata": {
        "id": "2yMMMku37INv"
      },
      "execution_count": 22,
      "outputs": []
    },
    {
      "cell_type": "code",
      "source": [
        "sns.histplot(cities_by_accident, log_scale=True)"
      ],
      "metadata": {
        "colab": {
          "base_uri": "https://localhost:8080/",
          "height": 300
        },
        "id": "VocqR1-c7dsy",
        "outputId": "978240cd-ae5c-495a-f8a7-1d8480ebdaa9"
      },
      "execution_count": 23,
      "outputs": [
        {
          "output_type": "execute_result",
          "data": {
            "text/plain": [
              "<matplotlib.axes._subplots.AxesSubplot at 0x7fba4999aa50>"
            ]
          },
          "metadata": {},
          "execution_count": 23
        },
        {
          "output_type": "display_data",
          "data": {
            "text/plain": [
              "<Figure size 432x288 with 1 Axes>"
            ],
            "image/png": "[encoded data removed]"
          },
          "metadata": {}
        }
      ]
    },
    {
      "cell_type": "code",
      "source": [
        "cities_by_accident[cities_by_accident == 1]"
      ],
      "metadata": {
        "id": "94Fv0uxw3bwa",
        "colab": {
          "base_uri": "https://localhost:8080/"
        },
        "outputId": "42fc82e2-3cea-450f-feff-f9b3fb7deabd"
      },
      "execution_count": 24,
      "outputs": [
        {
          "output_type": "execute_result",
          "data": {
            "text/plain": [
              "Carney                          1\n",
              "Waverly Hall                    1\n",
              "Center Sandwich                 1\n",
              "Glen Flora                      1\n",
              "Sulphur Springs                 1\n",
              "                               ..\n",
              "Ridgedale                       1\n",
              "Sekiu                           1\n",
              "Wooldridge                      1\n",
              "Bullock                         1\n",
              "American Fork-Pleasant Grove    1\n",
              "Name: City, Length: 1110, dtype: int64"
            ]
          },
          "metadata": {},
          "execution_count": 24
        }
      ]
    },
    {
      "cell_type": "markdown",
      "source": [
        "### Start Time"
      ],
      "metadata": {
        "id": "qmsSQUiTTS22"
      }
    },
    {
      "cell_type": "code",
      "source": [
        "df.Start_Time"
      ],
      "metadata": {
        "id": "yZyUpfyX3b2-",
        "colab": {
          "base_uri": "https://localhost:8080/"
        },
        "outputId": "ea6ed001-4c4e-4ee4-c630-9179dd83200a"
      },
      "execution_count": 25,
      "outputs": [
        {
          "output_type": "execute_result",
          "data": {
            "text/plain": [
              "0          2016-02-08 00:37:08\n",
              "1          2016-02-08 05:56:20\n",
              "2          2016-02-08 06:15:39\n",
              "3          2016-02-08 06:51:45\n",
              "4          2016-02-08 07:53:43\n",
              "                  ...         \n",
              "2845337    2019-08-23 18:03:25\n",
              "2845338    2019-08-23 19:11:30\n",
              "2845339    2019-08-23 19:00:21\n",
              "2845340    2019-08-23 19:00:21\n",
              "2845341    2019-08-23 18:52:06\n",
              "Name: Start_Time, Length: 2845342, dtype: object"
            ]
          },
          "metadata": {},
          "execution_count": 25
        }
      ]
    },
    {
      "cell_type": "code",
      "source": [
        "df.Start_Time[0]"
      ],
      "metadata": {
        "colab": {
          "base_uri": "https://localhost:8080/",
          "height": 35
        },
        "id": "pkl0rUoCTLEV",
        "outputId": "03316f31-0b60-48ba-ecdc-0ff283fe6c11"
      },
      "execution_count": 26,
      "outputs": [
        {
          "output_type": "execute_result",
          "data": {
            "text/plain": [
              "'2016-02-08 00:37:08'"
            ],
            "application/vnd.google.colaboratory.intrinsic+json": {
              "type": "string"
            }
          },
          "metadata": {},
          "execution_count": 26
        }
      ]
    },
    {
      "cell_type": "code",
      "source": [
        "df.Start_Time = pd.to_datetime(df.Start_Time)"
      ],
      "metadata": {
        "id": "Yk9W1e3yTK-D"
      },
      "execution_count": 27,
      "outputs": []
    },
    {
      "cell_type": "markdown",
      "source": [
        "- Fiqure out how to show percentages"
      ],
      "metadata": {
        "id": "8IsXwzQsVvgD"
      }
    },
    {
      "cell_type": "code",
      "source": [
        "sns.distplot(df.Start_Time.dt.hour, bins=24, kde=False, norm_hist=True)"
      ],
      "metadata": {
        "colab": {
          "base_uri": "https://localhost:8080/",
          "height": 352
        },
        "id": "0LJVqhWjTl4j",
        "outputId": "ae267e13-14a5-410d-facc-55faf6c4393f"
      },
      "execution_count": 28,
      "outputs": [
        {
          "output_type": "stream",
          "name": "stderr",
          "text": [
            "/usr/local/lib/python3.7/dist-packages/seaborn/distributions.py:2619: FutureWarning: `distplot` is a deprecated function and will be removed in a future version. Please adapt your code to use either `displot` (a figure-level function with similar flexibility) or `histplot` (an axes-level function for histograms).\n",
            "  warnings.warn(msg, FutureWarning)\n"
          ]
        },
        {
          "output_type": "execute_result",
          "data": {
            "text/plain": [
              "<matplotlib.axes._subplots.AxesSubplot at 0x7fba49618190>"
            ]
          },
          "metadata": {},
          "execution_count": 28
        },
        {
          "output_type": "display_data",
          "data": {
            "text/plain": [
              "<Figure size 432x288 with 1 Axes>"
            ],
            "image/png": "[encoded data removed]"
          },
          "metadata": {}
        }
      ]
    },
    {
      "cell_type": "markdown",
      "source": [
        "- A high percentage of accidents occur between 14 pm to 19 pm"
      ],
      "metadata": {
        "id": "s8TUb1x3X0CV"
      }
    },
    {
      "cell_type": "code",
      "source": [
        "sns.distplot(df.Start_Time.dt.dayofweek, bins=7, kde=False, norm_hist=True)"
      ],
      "metadata": {
        "colab": {
          "base_uri": "https://localhost:8080/",
          "height": 352
        },
        "id": "05Dph2ejTl2F",
        "outputId": "e08c9a18-13c8-4267-ab6b-c893c1a6ebda"
      },
      "execution_count": 29,
      "outputs": [
        {
          "output_type": "stream",
          "name": "stderr",
          "text": [
            "/usr/local/lib/python3.7/dist-packages/seaborn/distributions.py:2619: FutureWarning: `distplot` is a deprecated function and will be removed in a future version. Please adapt your code to use either `displot` (a figure-level function with similar flexibility) or `histplot` (an axes-level function for histograms).\n",
            "  warnings.warn(msg, FutureWarning)\n"
          ]
        },
        {
          "output_type": "execute_result",
          "data": {
            "text/plain": [
              "<matplotlib.axes._subplots.AxesSubplot at 0x7fba4a12f050>"
            ]
          },
          "metadata": {},
          "execution_count": 29
        },
        {
          "output_type": "display_data",
          "data": {
            "text/plain": [
              "<Figure size 432x288 with 1 Axes>"
            ],
            "image/png": "[encoded data removed]"
          },
          "metadata": {}
        }
      ]
    },
    {
      "cell_type": "markdown",
      "source": [
        "Is the distibution of accidents by hour the same on weekends as on weekdays. "
      ],
      "metadata": {
        "id": "Dsl4qZpRZLQs"
      }
    },
    {
      "cell_type": "code",
      "source": [
        "sundays_start_time = df.Start_Time[df.Start_Time.dt.dayofweek == 6]\n",
        "sns.distplot(sundays_start_time.dt.hour, bins=24, kde=False, norm_hist=True)"
      ],
      "metadata": {
        "colab": {
          "base_uri": "https://localhost:8080/",
          "height": 352
        },
        "id": "jQ1neLrRTly-",
        "outputId": "ee5708b9-0da0-4193-cdb3-3fdc8d449fce"
      },
      "execution_count": 30,
      "outputs": [
        {
          "output_type": "stream",
          "name": "stderr",
          "text": [
            "/usr/local/lib/python3.7/dist-packages/seaborn/distributions.py:2619: FutureWarning: `distplot` is a deprecated function and will be removed in a future version. Please adapt your code to use either `displot` (a figure-level function with similar flexibility) or `histplot` (an axes-level function for histograms).\n",
            "  warnings.warn(msg, FutureWarning)\n"
          ]
        },
        {
          "output_type": "execute_result",
          "data": {
            "text/plain": [
              "<matplotlib.axes._subplots.AxesSubplot at 0x7fba495d95d0>"
            ]
          },
          "metadata": {},
          "execution_count": 30
        },
        {
          "output_type": "display_data",
          "data": {
            "text/plain": [
              "<Figure size 432x288 with 1 Axes>"
            ],
            "image/png": "[encoded data removed]"
          },
          "metadata": {}
        }
      ]
    },
    {
      "cell_type": "code",
      "source": [
        "monday_start_time = df.Start_Time[df.Start_Time.dt.dayofweek == 0]\n",
        "sns.distplot(monday_start_time.dt.hour, bins=24, kde=False, norm_hist=True)"
      ],
      "metadata": {
        "colab": {
          "base_uri": "https://localhost:8080/",
          "height": 352
        },
        "id": "AtXw1I8ATltr",
        "outputId": "afcc7c7e-4d54-47c0-c9e8-c422a24295d6"
      },
      "execution_count": 31,
      "outputs": [
        {
          "output_type": "stream",
          "name": "stderr",
          "text": [
            "/usr/local/lib/python3.7/dist-packages/seaborn/distributions.py:2619: FutureWarning: `distplot` is a deprecated function and will be removed in a future version. Please adapt your code to use either `displot` (a figure-level function with similar flexibility) or `histplot` (an axes-level function for histograms).\n",
            "  warnings.warn(msg, FutureWarning)\n"
          ]
        },
        {
          "output_type": "execute_result",
          "data": {
            "text/plain": [
              "<matplotlib.axes._subplots.AxesSubplot at 0x7fba4951dbd0>"
            ]
          },
          "metadata": {},
          "execution_count": 31
        },
        {
          "output_type": "display_data",
          "data": {
            "text/plain": [
              "<Figure size 432x288 with 1 Axes>"
            ],
            "image/png": "[encoded data removed]"
          },
          "metadata": {}
        }
      ]
    },
    {
      "cell_type": "markdown",
      "source": [
        "On Sundays, the peak occurs between 10 am and 17 pm, unlike weekday."
      ],
      "metadata": {
        "id": "hTHuyx-OaGMl"
      }
    },
    {
      "cell_type": "code",
      "source": [
        "df_2019 = df[df.Start_Time.dt.year == 2016]\n",
        "sns.distplot(df_2019.Start_Time.dt.month, bins=12, kde=False, norm_hist=True)"
      ],
      "metadata": {
        "colab": {
          "base_uri": "https://localhost:8080/",
          "height": 352
        },
        "id": "n8vRxGJPanxH",
        "outputId": "953cc628-667f-493d-d36b-e2beb947c703"
      },
      "execution_count": 32,
      "outputs": [
        {
          "output_type": "stream",
          "name": "stderr",
          "text": [
            "/usr/local/lib/python3.7/dist-packages/seaborn/distributions.py:2619: FutureWarning: `distplot` is a deprecated function and will be removed in a future version. Please adapt your code to use either `displot` (a figure-level function with similar flexibility) or `histplot` (an axes-level function for histograms).\n",
            "  warnings.warn(msg, FutureWarning)\n"
          ]
        },
        {
          "output_type": "execute_result",
          "data": {
            "text/plain": [
              "<matplotlib.axes._subplots.AxesSubplot at 0x7fba494af290>"
            ]
          },
          "metadata": {},
          "execution_count": 32
        },
        {
          "output_type": "display_data",
          "data": {
            "text/plain": [
              "<Figure size 432x288 with 1 Axes>"
            ],
            "image/png": "[encoded data removed]"
          },
          "metadata": {}
        }
      ]
    },
    {
      "cell_type": "markdown",
      "source": [
        "Can you explain the month-wise trend of accidents? \n",
        "\n",
        "- Much data is missing for 2016. Maybe even 2017."
      ],
      "metadata": {
        "id": "yw7DQwPwbknt"
      }
    },
    {
      "cell_type": "markdown",
      "source": [
        "## Start Latitude & Longitude"
      ],
      "metadata": {
        "id": "bG4JQHmQ992s"
      }
    },
    {
      "cell_type": "code",
      "source": [
        "df.Start_Lat"
      ],
      "metadata": {
        "colab": {
          "base_uri": "https://localhost:8080/"
        },
        "id": "WUuqFiA8anok",
        "outputId": "2fc60bdd-5541-4580-fd59-b9a4c24a385e"
      },
      "execution_count": 33,
      "outputs": [
        {
          "output_type": "execute_result",
          "data": {
            "text/plain": [
              "0          40.108910\n",
              "1          39.865420\n",
              "2          39.102660\n",
              "3          41.062130\n",
              "4          39.172393\n",
              "             ...    \n",
              "2845337    34.002480\n",
              "2845338    32.766960\n",
              "2845339    33.775450\n",
              "2845340    33.992460\n",
              "2845341    34.133930\n",
              "Name: Start_Lat, Length: 2845342, dtype: float64"
            ]
          },
          "metadata": {},
          "execution_count": 33
        }
      ]
    },
    {
      "cell_type": "code",
      "source": [
        "df.Start_Lng"
      ],
      "metadata": {
        "colab": {
          "base_uri": "https://localhost:8080/"
        },
        "id": "DL3to6LJ97_g",
        "outputId": "b7ad40d2-a21e-49f6-9058-b18315039a8a"
      },
      "execution_count": 34,
      "outputs": [
        {
          "output_type": "execute_result",
          "data": {
            "text/plain": [
              "0          -83.092860\n",
              "1          -84.062800\n",
              "2          -84.524680\n",
              "3          -81.537840\n",
              "4          -84.492792\n",
              "              ...    \n",
              "2845337   -117.379360\n",
              "2845338   -117.148060\n",
              "2845339   -117.847790\n",
              "2845340   -118.403020\n",
              "2845341   -117.230920\n",
              "Name: Start_Lng, Length: 2845342, dtype: float64"
            ]
          },
          "metadata": {},
          "execution_count": 34
        }
      ]
    },
    {
      "cell_type": "code",
      "source": [
        "sample_df = df.sample(int(0.1 * len(df)))"
      ],
      "metadata": {
        "id": "_i0h8UNO979M"
      },
      "execution_count": 35,
      "outputs": []
    },
    {
      "cell_type": "code",
      "source": [
        "sns.scatterplot(x=sample_df.Start_Lng, y=sample_df.Start_Lat, size=0.001)"
      ],
      "metadata": {
        "colab": {
          "base_uri": "https://localhost:8080/",
          "height": 299
        },
        "id": "sxnU1qbl977A",
        "outputId": "697630f7-9efd-4980-83eb-04e9577a8487"
      },
      "execution_count": 41,
      "outputs": [
        {
          "output_type": "execute_result",
          "data": {
            "text/plain": [
              "<matplotlib.axes._subplots.AxesSubplot at 0x7fba4958e690>"
            ]
          },
          "metadata": {},
          "execution_count": 41
        },
        {
          "output_type": "display_data",
          "data": {
            "text/plain": [
              "<Figure size 432x288 with 1 Axes>"
            ],
            "image/png": "[encoded data removed]"
          },
          "metadata": {}
        }
      ]
    },
    {
      "cell_type": "code",
      "source": [
        "import folium"
      ],
      "metadata": {
        "id": "ner-5gP497zd"
      },
      "execution_count": 42,
      "outputs": []
    },
    {
      "cell_type": "code",
      "source": [
        "lat, lon = df.Start_Lat[0], df.Start_Lng[0]\n",
        "lat, lon"
      ],
      "metadata": {
        "colab": {
          "base_uri": "https://localhost:8080/"
        },
        "id": "UnUiGMGTAcaz",
        "outputId": "e7dafe11-cc84-4141-a7a1-6afde9b870d1"
      },
      "execution_count": 47,
      "outputs": [
        {
          "output_type": "execute_result",
          "data": {
            "text/plain": [
              "(40.10891, -83.09286)"
            ]
          },
          "metadata": {},
          "execution_count": 47
        }
      ]
    },
    {
      "cell_type": "code",
      "source": [
        "for x in df[['Start_Lat', 'Start_Lng']].sample(100).iteritems():\n",
        "  print(x[1])"
      ],
      "metadata": {
        "colab": {
          "base_uri": "https://localhost:8080/"
        },
        "id": "_XxCuZTgBLxl",
        "outputId": "8c052c90-52f8-427e-86ca-78bd6f8ad657"
      },
      "execution_count": 54,
      "outputs": [
        {
          "output_type": "stream",
          "name": "stdout",
          "text": [
            "1588808    45.991282\n",
            "1208846    30.435918\n",
            "323417     33.726436\n",
            "800874     37.821432\n",
            "2256389    37.521080\n",
            "             ...    \n",
            "2174822    30.424850\n",
            "89467      40.665900\n",
            "183753     38.754010\n",
            "83686      35.447650\n",
            "455488     40.935992\n",
            "Name: Start_Lat, Length: 100, dtype: float64\n",
            "1588808    -95.719775\n",
            "1208846    -85.873929\n",
            "323417     -78.872619\n",
            "800874     -78.722995\n",
            "2256389    -77.488380\n",
            "              ...    \n",
            "2174822    -97.713450\n",
            "89467      -73.996040\n",
            "183753    -121.264120\n",
            "83686      -80.603490\n",
            "455488     -73.855601\n",
            "Name: Start_Lng, Length: 100, dtype: float64\n"
          ]
        }
      ]
    },
    {
      "cell_type": "code",
      "source": [
        "zip(list(df.Start_Lat), list(df.Start_Lng))"
      ],
      "metadata": {
        "colab": {
          "base_uri": "https://localhost:8080/"
        },
        "id": "sM2SFY5xGihQ",
        "outputId": "4c931980-1345-435b-9186-ecca35d9646b"
      },
      "execution_count": 55,
      "outputs": [
        {
          "output_type": "execute_result",
          "data": {
            "text/plain": [
              "<zip at 0x7fba46cf6500>"
            ]
          },
          "metadata": {},
          "execution_count": 55
        }
      ]
    },
    {
      "cell_type": "code",
      "source": [
        "from folium.plugins import HeatMap"
      ],
      "metadata": {
        "id": "OB0SZ_N4HAa1"
      },
      "execution_count": 71,
      "outputs": []
    },
    {
      "cell_type": "code",
      "source": [
        "sample_df = df.sample(int(0.001 * len(df)))\n",
        "lat_lon_pairs = zip(list(sample_df.Start_Lat), list(sample_df.Start_Lng))"
      ],
      "metadata": {
        "id": "bkbsORlGHPG6"
      },
      "execution_count": 76,
      "outputs": []
    },
    {
      "cell_type": "code",
      "source": [
        "map = folium.Map()\n",
        "HeatMap(lat_lon_pairs).add_to(map)\n",
        "map"
      ],
      "metadata": {
        "colab": {
          "base_uri": "https://localhost:8080/",
          "height": 546
        },
        "id": "tER3Qq-fanmG",
        "outputId": "971b1c0c-b6b3-4623-db97-b37d4cf85117"
      },
      "execution_count": 77,
      "outputs": [
        {
          "output_type": "execute_result",
          "data": {
            "text/plain": [
              "<folium.folium.Map at 0x7fba30a74590>"
            ],
            "text/html": [
              "<div style=\"width:100%;\"><div style=\"position:relative;width:100%;height:0;padding-bottom:60%;\"><span style=\"color:#565656\">Make this Notebook Trusted to load map: File -> Trust Notebook</span><iframe src=\"about:blank\" style=\"position:absolute;width:100%;height:100%;left:0;top:0;border:none !important;\" data-html=%3C%21DOCTYPE%20html%3E%0A%3Chead%3E%20%20%20%20%0A%20%20%20%20%3Cmeta%20http-equiv%3D%22content-type%22%20content%3D%22text/html%3B%20charset%3DUTF-8%22%20/%3E%0A%20%20%20%20%3Cscript%3EL_PREFER_CANVAS%3Dfalse%3B%20L_NO_TOUCH%3Dfalse%3B%20L_DISABLE_3D%3Dfalse%3B%3C/script%3E%0A%20%20%20%20%3Cscript%20src%3D%22https%3A//cdn.jsdelivr.net/npm/leaflet%401.4.0/dist/leaflet.js%22%3E%3C/script%3E%0A%20%20%20%20%3Cscript%20src%3D%22https%3A//code.jquery.com/jquery-1.12.4.min.js%22%3E%3C/script%3E%0A%20%20%20%20%3Cscript%20src%3D%22https%3A//maxcdn.bootstrapcdn.com/bootstrap/3.2.0/js/bootstrap.min.js%22%3E%3C/script%3E%0A%20%20%20%20%3Cscript%20src%3D%22https%3A//cdnjs.cloudflare.com/ajax/libs/Leaflet.awesome-markers/2.0.2/leaflet.awesome-markers.js%22%3E%3C/script%3E%0A%20%20%20%20%3Clink%20rel%3D%22stylesheet%22%20href%3D%22https%3A//cdn.jsdelivr.net/npm/leaflet%401.4.0/dist/leaflet.css%22/%3E%0A%20%20%20%20%3Clink%20rel%3D%22stylesheet%22%20href%3D%22https%3A//maxcdn.bootstrapcdn.com/bootstrap/3.2.0/css/bootstrap.min.css%22/%3E%0A%20%20%20%20%3Clink%20rel%3D%22stylesheet%22%20href%3D%22https%3A//maxcdn.bootstrapcdn.com/bootstrap/3.2.0/css/bootstrap-theme.min.css%22/%3E%0A%20%20%20%20%3Clink%20rel%3D%22stylesheet%22%20href%3D%22https%3A//maxcdn.bootstrapcdn.com/font-awesome/4.6.3/css/font-awesome.min.css%22/%3E%0A%20%20%20%20%3Clink%20rel%3D%22stylesheet%22%20href%3D%22https%3A//cdnjs.cloudflare.com/ajax/libs/Leaflet.awesome-markers/2.0.2/leaflet.awesome-markers.css%22/%3E%0A%20%20%20%20%3Clink%20rel%3D%22stylesheet%22%20href%3D%22https%3A//rawcdn.githack.com/python-visualization/folium/master/folium/templates/leaflet.awesome.rotate.css%22/%3E%0A%20%20%20%20%3Cstyle%3Ehtml%2C%20body%20%7Bwidth%3A%20100%25%3Bheight%3A%20100%25%3Bmargin%3A%200%3Bpadding%3A%200%3B%7D%3C/style%3E%0A%20%20%20%20%3Cstyle%3E%23map%20%7Bposition%3Aabsolute%3Btop%3A0%3Bbottom%3A0%3Bright%3A0%3Bleft%3A0%3B%7D%3C/style%3E%0A%20%20%20%20%0A%20%20%20%20%3Cmeta%20name%3D%22viewport%22%20content%3D%22width%3Ddevice-width%2C%0A%20%20%20%20%20%20%20%20initial-scale%3D1.0%2C%20maximum-scale%3D1.0%2C%20user-scalable%3Dno%22%20/%3E%0A%20%20%20%20%3Cstyle%3E%23map_65ba660fa2c74a39a9d697b10891b4ce%20%7B%0A%20%20%20%20%20%20%20%20position%3A%20relative%3B%0A%20%20%20%20%20%20%20%20width%3A%20100.0%25%3B%0A%20%20%20%20%20%20%20%20height%3A%20100.0%25%3B%0A%20%20%20%20%20%20%20%20left%3A%200.0%25%3B%0A%20%20%20%20%20%20%20%20top%3A%200.0%25%3B%0A%20%20%20%20%20%20%20%20%7D%0A%20%20%20%20%3C/style%3E%0A%20%20%20%20%3Cscript%20src%3D%22https%3A//leaflet.github.io/Leaflet.heat/dist/leaflet-heat.js%22%3E%3C/script%3E%0A%3C/head%3E%0A%3Cbody%3E%20%20%20%20%0A%20%20%20%20%0A%20%20%20%20%3Cdiv%20class%3D%22folium-map%22%20id%3D%22map_65ba660fa2c74a39a9d697b10891b4ce%22%20%3E%3C/div%3E%0A%3C/body%3E%0A%3Cscript%3E%20%20%20%20%0A%20%20%20%20%0A%20%20%20%20%0A%20%20%20%20%20%20%20%20var%20bounds%20%3D%20null%3B%0A%20%20%20%20%0A%0A%20%20%20%20var%20map_65ba660fa2c74a39a9d697b10891b4ce%20%3D%20L.map%28%0A%20%20%20%20%20%20%20%20%27map_65ba660fa2c74a39a9d697b10891b4ce%27%2C%20%7B%0A%20%20%20%20%20%20%20%20center%3A%20%5B0%2C%200%5D%2C%0A%20%20%20%20%20%20%20%20zoom%3A%201%2C%0A%20%20%20%20%20%20%20%20maxBounds%3A%20bounds%2C%0A%20%20%20%20%20%20%20%20layers%3A%20%5B%5D%2C%0A%20%20%20%20%20%20%20%20worldCopyJump%3A%20false%2C%0A%20%20%20%20%20%20%20%20crs%3A%20L.CRS.EPSG3857%2C%0A%20%20%20%20%20%20%20%20zoomControl%3A%20true%2C%0A%20%20%20%20%20%20%20%20%7D%29%3B%0A%0A%0A%20%20%20%20%0A%20%20%20%20var%20tile_layer_b3d8b45758b54f1795dad60003f709e9%20%3D%20L.tileLayer%28%0A%20%20%20%20%20%20%20%20%27https%3A//%7Bs%7D.tile.openstreetmap.org/%7Bz%7D/%7Bx%7D/%7By%7D.png%27%2C%0A%20%20%20%20%20%20%20%20%7B%0A%20%20%20%20%20%20%20%20%22attribution%22%3A%20null%2C%0A%20%20%20%20%20%20%20%20%22detectRetina%22%3A%20false%2C%0A%20%20%20%20%20%20%20%20%22maxNativeZoom%22%3A%2018%2C%0A%20%20%20%20%20%20%20%20%22maxZoom%22%3A%2018%2C%0A%20%20%20%20%20%20%20%20%22minZoom%22%3A%200%2C%0A%20%20%20%20%20%20%20%20%22noWrap%22%3A%20false%2C%0A%20%20%20%20%20%20%20%20%22opacity%22%3A%201%2C%0A%20%20%20%20%20%20%20%20%22subdomains%22%3A%20%22abc%22%2C%0A%20%20%20%20%20%20%20%20%22tms%22%3A%20false%0A%7D%29.addTo%28map_65ba660fa2c74a39a9d697b10891b4ce%29%3B%0A%20%20%20%20%0A%20%20%20%20%20%20%20%20%20%20%20%20var%20heat_map_cb9a7783068f463f995b921bcf29c141%20%3D%20L.heatLayer%28%0A%20%20%20%20%20%20%20%20%20%20%20%20%20%20%20%20%5B%5B34.19633%2C%20-118.33429%5D%2C%20%5B25.89806%2C%20-80.24071500000002%5D%2C%20%5B44.19347%2C%20-94.01803%5D%2C%20%5B40.660434%2C%20-73.987189%5D%2C%20%5B38.714315%2C%20-121.392409%5D%2C%20%5B29.968426%2C%20-90.033537%5D%2C%20%5B25.943108%2C%20-80.358005%5D%2C%20%5B30.33691%2C%20-97.701412%5D%2C%20%5B34.0662%2C%20-117.479012%5D%2C%20%5B41.73976%2C%20-72.62993%5D%2C%20%5B44.970006%2C%20-93.328556%5D%2C%20%5B38.554618%2C%20-121.474428%5D%2C%20%5B37.799116%2C%20-122.27619%5D%2C%20%5B25.714117%2C%20-80.427899%5D%2C%20%5B39.055448%2C%20-84.434127%5D%2C%20%5B25.760892%2C%20-80.394712%5D%2C%20%5B42.854408%2C%20-78.791087%5D%2C%20%5B33.924496000000005%2C%20-118.025031%5D%2C%20%5B26.712969%2C%20-81.938146%5D%2C%20%5B26.331932%2C%20-80.117039%5D%2C%20%5B43.596917%2C%20-116.473552%5D%2C%20%5B38.587059%2C%20-77.306549%5D%2C%20%5B43.180959%2C%20-121.783482%5D%2C%20%5B37.843211%2C%20-122.22576399999998%5D%2C%20%5B34.196544%2C%20-119.096077%5D%2C%20%5B34.026709999999994%2C%20-117.1194%5D%2C%20%5B34.676409%2C%20-82.533413%5D%2C%20%5B33.876423%2C%20-118.130845%5D%2C%20%5B39.226125%2C%20-84.749211%5D%2C%20%5B36.437839%2C%20-94.452873%5D%2C%20%5B36.148643%2C%20-86.857892%5D%2C%20%5B34.030406%2C%20-117.621508%5D%2C%20%5B40.853349%2C%20-77.723823%5D%2C%20%5B29.589766%2C%20-98.296879%5D%2C%20%5B40.797629%2C%20-74.25834300000002%5D%2C%20%5B41.07612%2C%20-73.920385%5D%2C%20%5B33.044556%2C%20-117.208786%5D%2C%20%5B39.798327%2C%20-86.111408%5D%2C%20%5B40.016762%2C%20-79.064953%5D%2C%20%5B41.007188%2C%20-74.07022099999998%5D%2C%20%5B37.679787%2C%20-113.061746%5D%2C%20%5B30.229372%2C%20-97.882415%5D%2C%20%5B39.44088%2C%20-82.974052%5D%2C%20%5B38.25447%2C%20-85.80753%5D%2C%20%5B40.78128%2C%20-73.9441%5D%2C%20%5B41.77096%2C%20-72.605967%5D%2C%20%5B42.240549%2C%20-87.976967%5D%2C%20%5B25.891286%2C%20-80.3242%5D%2C%20%5B34.136919%2C%20-80.95519%5D%2C%20%5B25.786511%2C%20-80.212239%5D%2C%20%5B39.015836%2C%20-77.015501%5D%2C%20%5B41.218387%2C%20-73.772707%5D%2C%20%5B41.816445%2C%20-72.510716%5D%2C%20%5B25.905631%2C%20-80.209908%5D%2C%20%5B33.835144%2C%20-78.88179000000002%5D%2C%20%5B39.39809%2C%20-76.66486%5D%2C%20%5B47.492654%2C%20-122.26614%5D%2C%20%5B44.432713%2C%20-121.965149%5D%2C%20%5B35.787204%2C%20-78.643168%5D%2C%20%5B37.465%2C%20-77.574469%5D%2C%20%5B36.059675%2C%20-90.518323%5D%2C%20%5B41.002141%2C%20-81.49378100000001%5D%2C%20%5B38.644181%2C%20-121.191045%5D%2C%20%5B40.748079%2C%20-77.870059%5D%2C%20%5B44.776014%2C%20-117.810076%5D%2C%20%5B36.605352%2C%20-119.66134%5D%2C%20%5B32.9237%2C%20-96.75621%5D%2C%20%5B33.811667%2C%20-84.370577%5D%2C%20%5B25.54993%2C%20-80.37716800000003%5D%2C%20%5B34.396237%2C%20-79.901353%5D%2C%20%5B35.13743%2C%20-80.90630999999998%5D%2C%20%5B33.937721999999994%2C%20-118.098317%5D%2C%20%5B27.895478000000004%2C%20-82.692836%5D%2C%20%5B39.894234%2C%20-75.314513%5D%2C%20%5B34.11957%2C%20-117.76607%5D%2C%20%5B27.964676%2C%20-82.41944000000002%5D%2C%20%5B25.89842%2C%20-80.34046%5D%2C%20%5B45.091836%2C%20-93.44259%5D%2C%20%5B29.952773%2C%20-90.133285%5D%2C%20%5B33.831247%2C%20-84.33789200000002%5D%2C%20%5B32.773509999999995%2C%20-117.16118%5D%2C%20%5B36.124435%2C%20-86.73709699999998%5D%2C%20%5B36.98273%2C%20-121.96174%5D%2C%20%5B33.675421%2C%20-117.657576%5D%2C%20%5B42.01194%2C%20-87.80133000000002%5D%2C%20%5B37.35088%2C%20-121.83811%5D%2C%20%5B45.813389%2C%20-111.252163%5D%2C%20%5B30.691035%2C%20-83.235529%5D%2C%20%5B44.886751%2C%20-93.29623%5D%2C%20%5B36.26939%2C%20-119.316321%5D%2C%20%5B40.80936%2C%20-73.903%5D%2C%20%5B33.986349%2C%20-117.346391%5D%2C%20%5B33.462384%2C%20-112.065051%5D%2C%20%5B34.112411%2C%20-118.335597%5D%2C%20%5B44.45645%2C%20-89.51856%5D%2C%20%5B38.773935%2C%20-119.828164%5D%2C%20%5B45.55264%2C%20-122.56508%5D%2C%20%5B42.97212800000001%2C%20-85.659508%5D%2C%20%5B33.036711%2C%20-117.28159%5D%2C%20%5B32.734992%2C%20-96.894935%5D%2C%20%5B40.1387%2C%20-75.17043000000002%5D%2C%20%5B39.668676%2C%20-75.601451%5D%2C%20%5B27.079017%2C%20-82.388824%5D%2C%20%5B34.072821999999995%2C%20-117.545016%5D%2C%20%5B26.45726%2C%20-80.08934%5D%2C%20%5B40.4746%2C%20-74.40699000000002%5D%2C%20%5B25.656062%2C%20-80.418763%5D%2C%20%5B40.659928%2C%20-75.068793%5D%2C%20%5B32.873884999999994%2C%20-96.909586%5D%2C%20%5B29.685106%2C%20-95.306154%5D%2C%20%5B37.548061%2C%20-122.291318%5D%2C%20%5B33.039118%2C%20-80.669292%5D%2C%20%5B33.960849%2C%20-117.313738%5D%2C%20%5B43.028015%2C%20-88.126976%5D%2C%20%5B37.343441%2C%20-121.84605%5D%2C%20%5B45.09157%2C%20-93.187998%5D%2C%20%5B38.32543%2C%20-122.024899%5D%2C%20%5B39.229877%2C%20-84.36675%5D%2C%20%5B39.856301%2C%20-104.987278%5D%2C%20%5B28.480565%2C%20-81.32973%5D%2C%20%5B35.699032%2C%20-78.579143%5D%2C%20%5B34.15506%2C%20-118.821487%5D%2C%20%5B33.736948%2C%20-117.823173%5D%2C%20%5B36.035381%2C%20-86.78299%5D%2C%20%5B40.127587%2C%20-75.533295%5D%2C%20%5B45.5283%2C%20-92.991061%5D%2C%20%5B41.14595%2C%20-73.25962%5D%2C%20%5B38.276089%2C%20-122.052347%5D%2C%20%5B30.726689%2C%20-86.502732%5D%2C%20%5B24.66107%2C%20-81.519049%5D%2C%20%5B36.700582%2C%20-78.184227%5D%2C%20%5B36.08314%2C%20-86.69811%5D%2C%20%5B38.799451%2C%20-77.550913%5D%2C%20%5B32.12928%2C%20-110.88175%5D%2C%20%5B40.76284%2C%20-73.75434%5D%2C%20%5B45.625782%2C%20-121.972714%5D%2C%20%5B40.70788%2C%20-111.90367%5D%2C%20%5B34.129468%2C%20-118.347569%5D%2C%20%5B40.7559%2C%20-111.91228%5D%2C%20%5B35.751871%2C%20-78.69662199999998%5D%2C%20%5B32.22382%2C%20-110.964011%5D%2C%20%5B34.15166%2C%20-118.14161%5D%2C%20%5B44.86224%2C%20-93.26812%5D%2C%20%5B29.944897%2C%20-90.078366%5D%2C%20%5B30.277547%2C%20-97.741944%5D%2C%20%5B38.93284%2C%20-104.807922%5D%2C%20%5B45.399752%2C%20-120.789518%5D%2C%20%5B25.701682%2C%20-80.35013599999998%5D%2C%20%5B42.742485%2C%20-73.779481%5D%2C%20%5B36.808067%2C%20-119.882792%5D%2C%20%5B44.85185%2C%20-122.865%5D%2C%20%5B32.720449%2C%20-96.845988%5D%2C%20%5B30.346904%2C%20-82.833062%5D%2C%20%5B40.7416%2C%20-111.890098%5D%2C%20%5B47.025851%2C%20-122.918225%5D%2C%20%5B33.697714000000005%2C%20-117.934906%5D%2C%20%5B43.150178%2C%20-112.388524%5D%2C%20%5B34.303383000000004%2C%20-118.479548%5D%2C%20%5B39.14081%2C%20-77.61233%5D%2C%20%5B34.090758%2C%20-118.314608%5D%2C%20%5B37.694734%2C%20-120.958104%5D%2C%20%5B27.208978%2C%20-81.213651%5D%2C%20%5B28.567876%2C%20-81.451892%5D%2C%20%5B38.806604%2C%20-77.52199399999998%5D%2C%20%5B33.282705%2C%20-111.8186%5D%2C%20%5B44.131811%2C%20-123.050726%5D%2C%20%5B35.402258%2C%20-77.900065%5D%2C%20%5B41.360193%2C%20-73.19251899999998%5D%2C%20%5B26.552090000000003%2C%20-81.79522%5D%2C%20%5B41.749972%2C%20-87.97377%5D%2C%20%5B44.757535%2C%20-122.498983%5D%2C%20%5B45.833147%2C%20-119.619923%5D%2C%20%5B40.70835%2C%20-111.90396%5D%2C%20%5B31.209582%2C%20-83.777676%5D%2C%20%5B25.92536%2C%20-80.250677%5D%2C%20%5B43.21742%2C%20-77.75269%5D%2C%20%5B40.703707%2C%20-73.478821%5D%2C%20%5B36.514929%2C%20-119.28673%5D%2C%20%5B32.469482%2C%20-80.977572%5D%2C%20%5B34.716796%2C%20-82.49725500000002%5D%2C%20%5B30.672693%2C%20-91.190437%5D%2C%20%5B38.008993%2C%20-122.029985%5D%2C%20%5B41.843172%2C%20-72.417702%5D%2C%20%5B37.165311%2C%20-121.646034%5D%2C%20%5B37.5151%2C%20-77.230876%5D%2C%20%5B40.63781%2C%20-73.97957%5D%2C%20%5B29.767535%2C%20-95.409426%5D%2C%20%5B36.957101%2C%20-121.980226%5D%2C%20%5B40.538645%2C%20-78.381747%5D%2C%20%5B33.930957%2C%20-118.29191000000002%5D%2C%20%5B34.03648%2C%20-111.36755%5D%2C%20%5B34.053178%2C%20-118.229234%5D%2C%20%5B39.14707%2C%20-76.6451%5D%2C%20%5B44.969481%2C%20-93.253208%5D%2C%20%5B42.92121%2C%20-87.93565%5D%2C%20%5B36.750249%2C%20-119.643645%5D%2C%20%5B34.230777%2C%20-80.67134200000002%5D%2C%20%5B33.91272%2C%20-118.28639%5D%2C%20%5B33.044448%2C%20-80.09221%5D%2C%20%5B38.23312%2C%20-85.62731%5D%2C%20%5B34.03338%2C%20-118.17028%5D%2C%20%5B30.250053%2C%20-97.754936%5D%2C%20%5B43.038007%2C%20-76.634713%5D%2C%20%5B47.88624%2C%20-122.1522%5D%2C%20%5B29.12996%2C%20-81.12510999999998%5D%2C%20%5B36.577422%2C%20-121.908786%5D%2C%20%5B38.628239%2C%20-77.292694%5D%2C%20%5B37.646625%2C%20-77.245959%5D%2C%20%5B42.42324%2C%20-122.85165%5D%2C%20%5B45.530608%2C%20-122.635455%5D%2C%20%5B38.205914%2C%20-120.790154%5D%2C%20%5B39.418773%2C%20-74.494515%5D%2C%20%5B35.55507%2C%20-82.53858000000002%5D%2C%20%5B37.10527800000001%2C%20-121.974722%5D%2C%20%5B34.062057%2C%20-118.162144%5D%2C%20%5B33.54204%2C%20-117.548809%5D%2C%20%5B45.63388%2C%20-121.21182%5D%2C%20%5B39.30935%2C%20-76.531802%5D%2C%20%5B37.777823%2C%20-121.971202%5D%2C%20%5B33.796777%2C%20-117.831173%5D%2C%20%5B33.412696000000004%2C%20-86.967333%5D%2C%20%5B38.994455%2C%20-77.03636999999998%5D%2C%20%5B40.86958%2C%20-74.063311%5D%2C%20%5B37.550844%2C%20-122.376%5D%2C%20%5B45.4524%2C%20-122.57303%5D%2C%20%5B40.68494000000001%2C%20-80.10805%5D%2C%20%5B45.867334%2C%20-119.342807%5D%2C%20%5B37.133113%2C%20-121.98121100000002%5D%2C%20%5B40.128325%2C%20-74.694982%5D%2C%20%5B34.185453%2C%20-117.353143%5D%2C%20%5B40.57101%2C%20-74.67404%5D%2C%20%5B43.27813%2C%20-75.469858%5D%2C%20%5B34.24972%2C%20-117.44218%5D%2C%20%5B35.260015%2C%20-80.87846%5D%2C%20%5B44.835456%2C%20-93.39817%5D%2C%20%5B38.234874%2C%20-122.620247%5D%2C%20%5B32.912346%2C%20-96.737054%5D%2C%20%5B41.90238%2C%20-72.63655%5D%2C%20%5B34.081681%2C%20-117.731455%5D%2C%20%5B37.323255%2C%20-121.962183%5D%2C%20%5B33.544791%2C%20-83.095672%5D%2C%20%5B35.80087%2C%20-78.74134000000002%5D%2C%20%5B35.199782%2C%20-78.672913%5D%2C%20%5B34.817358%2C%20-118.170694%5D%2C%20%5B38.879102%2C%20-77.252931%5D%2C%20%5B35.83872%2C%20-78.675063%5D%2C%20%5B43.65397%2C%20-123.8169%5D%2C%20%5B39.44728%2C%20-76.76688%5D%2C%20%5B34.06882%2C%20-117.35705%5D%2C%20%5B25.803891%2C%20-80.20586999999998%5D%2C%20%5B34.73268%2C%20-92.306074%5D%2C%20%5B34.083291%2C%20-118.228522%5D%2C%20%5B40.87493%2C%20-74.06158%5D%2C%20%5B30.440816%2C%20-91.185247%5D%2C%20%5B34.077167%2C%20-117.553006%5D%2C%20%5B34.426598%2C%20-117.377542%5D%2C%20%5B33.5887%2C%20-117.74496%5D%2C%20%5B38.933712%2C%20-94.752477%5D%2C%20%5B33.92889%2C%20-118.29314%5D%2C%20%5B43.29507%2C%20-71.57636%5D%2C%20%5B37.52158%2C%20-77.61277%5D%2C%20%5B34.707945%2C%20-92.281326%5D%2C%20%5B34.227007%2C%20-80.68114%5D%2C%20%5B34.135%2C%20-117.63074%5D%2C%20%5B26.63566%2C%20-82.040134%5D%2C%20%5B33.756129%2C%20-84.23240899999998%5D%2C%20%5B40.554438%2C%20-75.431804%5D%2C%20%5B36.077095%2C%20-87.022479%5D%2C%20%5B36.738737%2C%20-119.808333%5D%2C%20%5B28.007196%2C%20-82.297687%5D%2C%20%5B37.6496%2C%20-122.408129%5D%2C%20%5B41.390148%2C%20-77.051301%5D%2C%20%5B29.730902%2C%20-95.402451%5D%2C%20%5B29.603622%2C%20-81.250376%5D%2C%20%5B41.18873%2C%20-85.29302%5D%2C%20%5B33.47691%2C%20-112.169028%5D%2C%20%5B41.096826%2C%20-74.047891%5D%2C%20%5B25.988878%2C%20-80.16583%5D%2C%20%5B41.029436%2C%20-73.778222%5D%2C%20%5B32.697254%2C%20-117.137228%5D%2C%20%5B30.263375%2C%20-84.362157%5D%2C%20%5B47.57948%2C%20-122.197183%5D%2C%20%5B29.835631%2C%20-95.402787%5D%2C%20%5B35.579751%2C%20-117.913261%5D%2C%20%5B34.06745%2C%20-117.5355%5D%2C%20%5B36.056174%2C%20-79.12599200000002%5D%2C%20%5B33.954726%2C%20-117.305097%5D%2C%20%5B34.15338%2C%20-118.36461%5D%2C%20%5B25.580634%2C%20-80.367719%5D%2C%20%5B37.51926%2C%20-122.35351%5D%2C%20%5B30.122355%2C%20-95.647884%5D%2C%20%5B35.625647%2C%20-77.435513%5D%2C%20%5B38.055377%2C%20-122.798242%5D%2C%20%5B40.69903%2C%20-73.50950999999998%5D%2C%20%5B25.688289%2C%20-80.327775%5D%2C%20%5B34.089554%2C%20-118.815457%5D%2C%20%5B37.758154%2C%20-122.404751%5D%2C%20%5B36.141797%2C%20-86.733467%5D%2C%20%5B41.75156%2C%20-87.62458000000002%5D%2C%20%5B38.68864%2C%20-90.35349%5D%2C%20%5B41.251837%2C%20-74.04385500000002%5D%2C%20%5B36.612619%2C%20-119.754833%5D%2C%20%5B37.51617%2C%20-121.940405%5D%2C%20%5B44.98693%2C%20-93.23859%5D%2C%20%5B32.192226%2C%20-110.905276%5D%2C%20%5B33.89313%2C%20-84.46173%5D%2C%20%5B38.938882%2C%20-111.889297%5D%2C%20%5B33.438445%2C%20-86.734946%5D%2C%20%5B28.135890000000003%2C%20-80.65503000000002%5D%2C%20%5B39.9285%2C%20-111.083054%5D%2C%20%5B38.817598%2C%20-77.443823%5D%2C%20%5B33.899696%2C%20-81.250833%5D%2C%20%5B34.087253999999994%2C%20-117.650813%5D%2C%20%5B45.290204%2C%20-122.947536%5D%2C%20%5B35.024621%2C%20-85.26803699999998%5D%2C%20%5B44.950915%2C%20-93.105%5D%2C%20%5B42.74032%2C%20-86.07705%5D%2C%20%5B36.140885%2C%20-86.700122%5D%2C%20%5B28.552692%2C%20-81.415176%5D%2C%20%5B40.790187%2C%20-74.425259%5D%2C%20%5B39.034556%2C%20-121.4627%5D%2C%20%5B41.362699%2C%20-72.207823%5D%2C%20%5B41.84303%2C%20-71.41926%5D%2C%20%5B40.822893%2C%20-112.899265%5D%2C%20%5B28.107849%2C%20-81.93412%5D%2C%20%5B40.16375%2C%20-76.15281%5D%2C%20%5B40.499161%2C%20-78.389738%5D%2C%20%5B27.2846%2C%20-82.53071%5D%2C%20%5B40.146381%2C%20-74.225829%5D%2C%20%5B37.42185300000001%2C%20-122.101587%5D%2C%20%5B35.602027%2C%20-114.40278899999998%5D%2C%20%5B32.76817%2C%20-97.30274%5D%2C%20%5B40.075958%2C%20-74.928719%5D%2C%20%5B38.865629%2C%20-77.05469000000002%5D%2C%20%5B34.043734%2C%20-81.098975%5D%2C%20%5B38.04839000000001%2C%20-122.126027%5D%2C%20%5B38.354392%2C%20-122.216127%5D%2C%20%5B36.962275%2C%20-81.09090400000002%5D%2C%20%5B33.464781%2C%20-86.939357%5D%2C%20%5B40.125466%2C%20-74.71663000000002%5D%2C%20%5B34.06885%2C%20-117.35318999999998%5D%2C%20%5B37.07950200000001%2C%20-79.920119%5D%2C%20%5B30.223206%2C%20-97.747285%5D%2C%20%5B41.75735%2C%20-72.66306999999998%5D%2C%20%5B25.686705%2C%20-80.376529%5D%2C%20%5B41.845136%2C%20-88.41229%5D%2C%20%5B35.21072%2C%20-80.83247800000002%5D%2C%20%5B30.686641%2C%20-88.005759%5D%2C%20%5B43.752629%2C%20-91.770451%5D%2C%20%5B34.091037%2C%20-118.475829%5D%2C%20%5B34.912354%2C%20-117.523325%5D%2C%20%5B33.38582%2C%20-111.89262%5D%2C%20%5B34.029351%2C%20-118.226145%5D%2C%20%5B25.918677%2C%20-80.293026%5D%2C%20%5B45.00213%2C%20-122.99846%5D%2C%20%5B36.220024%2C%20-86.774772%5D%2C%20%5B36.161331%2C%20-86.776526%5D%2C%20%5B37.01717%2C%20-121.56401%5D%2C%20%5B37.310702%2C%20-121.919356%5D%2C%20%5B28.82832%2C%20-81.32299%5D%2C%20%5B36.03802%2C%20-86.64671%5D%2C%20%5B39.85962%2C%20-75.075623%5D%2C%20%5B37.692743%2C%20-122.081187%5D%2C%20%5B37.9667%2C%20-122.04871%5D%2C%20%5B34.03693%2C%20-118.43877%5D%2C%20%5B32.899181%2C%20-117.116528%5D%2C%20%5B42.401802%2C%20-122.93522%5D%2C%20%5B40.384278%2C%20-78.805137%5D%2C%20%5B29.963631%2C%20-90.071007%5D%2C%20%5B40.08896%2C%20-76.18005%5D%2C%20%5B32.440766%2C%20-93.711334%5D%2C%20%5B41.588176%2C%20-87.226949%5D%2C%20%5B39.95439%2C%20-82.97565999999998%5D%2C%20%5B40.52348%2C%20-105.07721%5D%2C%20%5B44.83684%2C%20-93.39858%5D%2C%20%5B36.159391%2C%20-86.780963%5D%2C%20%5B42.31505%2C%20-88.0044%5D%2C%20%5B40.713901%2C%20-74.29836999999998%5D%2C%20%5B38.911178%2C%20-119.957881%5D%2C%20%5B38.71351%2C%20-77.101731%5D%2C%20%5B30.50351%2C%20-87.23714%5D%2C%20%5B32.514011%2C%20-93.729622%5D%2C%20%5B33.978634%2C%20-118.07522%5D%2C%20%5B42.1542%2C%20-88.133202%5D%2C%20%5B43.341336%2C%20-75.660036%5D%2C%20%5B38.89784%2C%20-104.82992%5D%2C%20%5B25.685725%2C%20-80.402288%5D%2C%20%5B39.265791%2C%20-76.563817%5D%2C%20%5B38.4222%2C%20-90.38661%5D%2C%20%5B34.156096999999995%2C%20-118.260987%5D%2C%20%5B37.11119%2C%20-76.48075%5D%2C%20%5B26.171321%2C%20-80.157703%5D%2C%20%5B30.352786%2C%20-97.638991%5D%2C%20%5B35.98097%2C%20-78.887%5D%2C%20%5B33.017671%2C%20-80.214524%5D%2C%20%5B39.97696%2C%20-83.1446%5D%2C%20%5B40.072283%2C%20-80.741146%5D%2C%20%5B25.949326%2C%20-80.148812%5D%2C%20%5B30.413965%2C%20-84.209813%5D%2C%20%5B44.11094%2C%20-121.29415%5D%2C%20%5B42.406603%2C%20-82.955228%5D%2C%20%5B39.450875%2C%20-76.32125%5D%2C%20%5B25.86932%2C%20-80.206365%5D%2C%20%5B36.840367%2C%20-80.85673100000002%5D%2C%20%5B42.983416%2C%20-82.554893%5D%2C%20%5B32.953142%2C%20-96.35762%5D%2C%20%5B27.980176%2C%20-82.735391%5D%2C%20%5B33.956164%2C%20-118.24902%5D%2C%20%5B39.88456%2C%20-75.1035%5D%2C%20%5B39.013069%2C%20-121.429308%5D%2C%20%5B38.716913%2C%20-121.751268%5D%2C%20%5B34.610249%2C%20-120.05499%5D%2C%20%5B34.152306%2C%20-118.112596%5D%2C%20%5B39.833153%2C%20-75.156902%5D%2C%20%5B37.852533%2C%20-122.29986%5D%2C%20%5B32.99945%2C%20-117.25731%5D%2C%20%5B34.230289%2C%20-118.261779%5D%2C%20%5B38.566133%2C%20-121.336295%5D%2C%20%5B44.075325%2C%20-123.047589%5D%2C%20%5B39.09957100000001%2C%20-94.572717%5D%2C%20%5B33.849362%2C%20-117.790205%5D%2C%20%5B37.691167%2C%20-122.077065%5D%2C%20%5B39.054491%2C%20-94.632982%5D%2C%20%5B39.40270200000001%2C%20-76.67738%5D%2C%20%5B41.046112%2C%20-73.799961%5D%2C%20%5B32.646037%2C%20-96.839974%5D%2C%20%5B33.583597999999995%2C%20-117.181023%5D%2C%20%5B32.220875%2C%20-110.825058%5D%2C%20%5B33.873305%2C%20-118.247121%5D%2C%20%5B40.078341%2C%20-75.30045799999998%5D%2C%20%5B38.91044%2C%20-104.71974%5D%2C%20%5B33.68238%2C%20-79.00078%5D%2C%20%5B28.59763%2C%20-81.29043%5D%2C%20%5B40.71783%2C%20-111.95363%5D%2C%20%5B33.854135%2C%20-117.79656%5D%2C%20%5B47.93621%2C%20-122.219%5D%2C%20%5B33.645476%2C%20-112.001434%5D%2C%20%5B47.516652%2C%20-92.560619%5D%2C%20%5B36.951674%2C%20-121.869415%5D%2C%20%5B35.134023%2C%20-82.32121500000002%5D%2C%20%5B33.486099%2C%20-86.709758%5D%2C%20%5B36.533188%2C%20-120.491409%5D%2C%20%5B39.29587%2C%20-104.89184%5D%2C%20%5B41.597022%2C%20-122.340261%5D%2C%20%5B40.79706%2C%20-111.91839%5D%2C%20%5B37.559477%2C%20-122.301875%5D%2C%20%5B33.66406%2C%20-117.80077%5D%2C%20%5B28.386533%2C%20-81.506417%5D%2C%20%5B33.8764%2C%20-118.07711%5D%2C%20%5B32.838934%2C%20-79.965435%5D%2C%20%5B34.02006%2C%20-118.19021%5D%2C%20%5B47.57467000000001%2C%20-122.33935%5D%2C%20%5B38.729742%2C%20-120.80136%5D%2C%20%5B29.96585%2C%20-90.1097%5D%2C%20%5B42.191486%2C%20-87.989471%5D%2C%20%5B33.65294%2C%20-84.4975%5D%2C%20%5B40.71706%2C%20-73.82268%5D%2C%20%5B36.992737%2C%20-120.074309%5D%2C%20%5B34.12105%2C%20-117.82875%5D%2C%20%5B35.815495%2C%20-78.69084699999998%5D%2C%20%5B30.461273%2C%20-97.684441%5D%2C%20%5B39.171%2C%20-77.26274000000002%5D%2C%20%5B35.448529%2C%20-119.08292%5D%2C%20%5B33.584599%2C%20-79.026191%5D%2C%20%5B33.841854999999995%2C%20-117.831164%5D%2C%20%5B25.685462%2C%20-80.415318%5D%2C%20%5B43.181759%2C%20-77.61367299999998%5D%2C%20%5B33.605729%2C%20-117.890881%5D%2C%20%5B28.268928%2C%20-81.426618%5D%2C%20%5B35.86947%2C%20-80.714675%5D%2C%20%5B41.918019%2C%20-91.481742%5D%2C%20%5B42.40307%2C%20-123.34731%5D%2C%20%5B33.534318%2C%20-112.041481%5D%2C%20%5B37.961551%2C%20-121.746035%5D%2C%20%5B34.795679%2C%20-118.858214%5D%2C%20%5B45.21073%2C%20-93.58402%5D%2C%20%5B37.427684%2C%20-121.91048700000002%5D%2C%20%5B32.764395%2C%20-117.205334%5D%2C%20%5B40.643%2C%20-111.88892%5D%2C%20%5B33.98023%2C%20-117.964546%5D%2C%20%5B38.671066%2C%20-121.030924%5D%2C%20%5B40.27397%2C%20-76.816715%5D%2C%20%5B33.938688%2C%20-117.400057%5D%2C%20%5B28.523209%2C%20-82.584422%5D%2C%20%5B37.012729%2C%20-121.344299%5D%2C%20%5B39.838219%2C%20-121.605827%5D%2C%20%5B27.072046000000004%2C%20-82.423438%5D%2C%20%5B34.041677%2C%20-81.087212%5D%2C%20%5B35.130984000000005%2C%20-81.07979399999998%5D%2C%20%5B44.861243%2C%20-93.16742%5D%2C%20%5B38.86644%2C%20-77.22005%5D%2C%20%5B33.710546%2C%20-117.781931%5D%2C%20%5B39.234377%2C%20-120.755099%5D%2C%20%5B34.16948%2C%20-118.46785%5D%2C%20%5B45.689677%2C%20-121.838563%5D%2C%20%5B36.692739%2C%20-119.727175%5D%2C%20%5B32.688844%2C%20-117.093735%5D%2C%20%5B33.135248%2C%20-80.30680699999998%5D%2C%20%5B37.41182%2C%20-122.07811%5D%2C%20%5B43.05181%2C%20-88.37674%5D%2C%20%5B33.761148%2C%20-78.970502%5D%2C%20%5B40.731846%2C%20-74.04674200000002%5D%2C%20%5B34.201106%2C%20-118.48456000000002%5D%2C%20%5B33.853908000000004%2C%20-117.911034%5D%2C%20%5B33.67094%2C%20-117.82747%5D%2C%20%5B25.939253%2C%20-80.296094%5D%2C%20%5B36.15031%2C%20-86.85736%5D%2C%20%5B44.232523%2C%20-93.442318%5D%2C%20%5B34.145575%2C%20-117.286901%5D%2C%20%5B38.959456%2C%20-122.72707%5D%2C%20%5B34.04438%2C%20-117.55004%5D%2C%20%5B43.249071%2C%20-124.28673700000002%5D%2C%20%5B34.817688000000004%2C%20-118.884782%5D%2C%20%5B43.25444%2C%20-123.35966%5D%2C%20%5B40.84224%2C%20-73.82556%5D%2C%20%5B34.92353%2C%20-120.417284%5D%2C%20%5B33.927242%2C%20-81.076831%5D%2C%20%5B39.953981%2C%20-120.034722%5D%2C%20%5B33.808309%2C%20-117.235279%5D%2C%20%5B34.02005%2C%20-118.189183%5D%2C%20%5B37.17026%2C%20-121.9898%5D%2C%20%5B38.487007%2C%20-121.436226%5D%2C%20%5B38.671352%2C%20-121.586093%5D%2C%20%5B38.805052%2C%20-121.205538%5D%2C%20%5B41.758664%2C%20-73.58031700000002%5D%2C%20%5B28.481623%2C%20-81.330857%5D%2C%20%5B40.76717%2C%20-73.69598%5D%2C%20%5B37.53141%2C%20-121.9407%5D%2C%20%5B33.93133%2C%20-118.403504%5D%2C%20%5B30.574218%2C%20-87.11191600000002%5D%2C%20%5B42.844201%2C%20-73.339265%5D%2C%20%5B38.061801%2C%20-121.373745%5D%2C%20%5B40.428182%2C%20-80.000102%5D%2C%20%5B41.808449%2C%20-88.082747%5D%2C%20%5B36.116449%2C%20-86.773335%5D%2C%20%5B34.92986%2C%20-91.105316%5D%2C%20%5B38.93305%2C%20-94.52382%5D%2C%20%5B34.408525%2C%20-92.810171%5D%2C%20%5B34.303801%2C%20-118.4789%5D%2C%20%5B40.647402%2C%20-74.202487%5D%2C%20%5B37.960988%2C%20-121.206928%5D%2C%20%5B40.52489%2C%20-74.33909%5D%2C%20%5B30.644662%2C%20-87.699924%5D%2C%20%5B40.11154000000001%2C%20-75.07595500000002%5D%2C%20%5B34.93536%2C%20-80.826314%5D%2C%20%5B39.226888%2C%20-78.13685699999998%5D%2C%20%5B34.139834%2C%20-117.252396%5D%2C%20%5B34.94195%2C%20-82.07382%5D%2C%20%5B25.76107%2C%20-80.391673%5D%2C%20%5B41.015403000000006%2C%20-73.638237%5D%2C%20%5B41.59503400000001%2C%20-83.47686999999998%5D%2C%20%5B45.58389%2C%20-122.67902%5D%2C%20%5B38.55167%2C%20-121.47386000000002%5D%2C%20%5B32.486759%2C%20-93.791458%5D%2C%20%5B33.6828%2C%20-117.856863%5D%2C%20%5B33.932133%2C%20-98.54607%5D%2C%20%5B34.036981%2C%20-118.312787%5D%2C%20%5B33.872370000000004%2C%20-81.43598%5D%2C%20%5B25.883821%2C%20-80.16543%5D%2C%20%5B40.766733%2C%20-73.89585600000002%5D%2C%20%5B46.669921%2C%20-114.075925%5D%2C%20%5B34.17942%2C%20-118.39529%5D%2C%20%5B26.685256%2C%20-80.06891%5D%2C%20%5B33.99777%2C%20-117.3682%5D%2C%20%5B34.035234%2C%20-118.149801%5D%2C%20%5B38.62875%2C%20-121.405521%5D%2C%20%5B38.62294%2C%20-121.521309%5D%2C%20%5B44.95616500000001%2C%20-92.958659%5D%2C%20%5B33.795872%2C%20-117.877695%5D%2C%20%5B39.3815%2C%20-76.73791%5D%2C%20%5B47.519378%2C%20-121.926703%5D%2C%20%5B42.492113%2C%20-83.029048%5D%2C%20%5B28.452939%2C%20-81.400159%5D%2C%20%5B37.623061%2C%20-120.97531200000002%5D%2C%20%5B40.70275%2C%20-74.06868%5D%2C%20%5B38.822862%2C%20-77.706535%5D%2C%20%5B34.171108000000004%2C%20-118.509842%5D%2C%20%5B39.14384%2C%20-76.64479%5D%2C%20%5B32.305644%2C%20-80.973039%5D%2C%20%5B38.60441%2C%20-121.27596%5D%2C%20%5B36.197295%2C%20-81.428162%5D%2C%20%5B34.136214%2C%20-117.470109%5D%2C%20%5B33.626231%2C%20-80.871967%5D%2C%20%5B25.579189000000003%2C%20-80.36771800000002%5D%2C%20%5B35.13743%2C%20-80.90630999999998%5D%2C%20%5B38.417151%2C%20-121.966922%5D%2C%20%5B36.054989%2C%20-118.98275%5D%2C%20%5B25.643967%2C%20-80.33210600000002%5D%2C%20%5B25.890186%2C%20-80.188322%5D%2C%20%5B29.957359000000004%2C%20-90.108206%5D%2C%20%5B30.686348%2C%20-86.572233%5D%2C%20%5B43.000477%2C%20-85.590137%5D%2C%20%5B41.738466%2C%20-72.62901600000002%5D%2C%20%5B42.71485%2C%20-92.041587%5D%2C%20%5B39.218477%2C%20-76.726895%5D%2C%20%5B28.47995%2C%20-81.330713%5D%2C%20%5B33.129995%2C%20-117.116743%5D%2C%20%5B33.510347%2C%20-86.79189000000002%5D%2C%20%5B29.957431%2C%20-81.444343%5D%2C%20%5B28.332586%2C%20-81.582874%5D%2C%20%5B42.489813%2C%20-73.67850899999998%5D%2C%20%5B33.779753%2C%20-118.089994%5D%2C%20%5B32.786709%2C%20-96.837694%5D%2C%20%5B42.637177%2C%20-123.38553%5D%2C%20%5B33.885707000000004%2C%20-79.048643%5D%2C%20%5B37.40423%2C%20-77.6704%5D%2C%20%5B29.750472%2C%20-95.55794%5D%2C%20%5B34.07203%2C%20-117.88671%5D%2C%20%5B33.70644%2C%20-117.779%5D%2C%20%5B30.479131%2C%20-90.494567%5D%2C%20%5B48.225792%2C%20-114.376434%5D%2C%20%5B30.24994%2C%20-81.54128%5D%2C%20%5B35.77254600000001%2C%20-78.650876%5D%2C%20%5B42.4079%2C%20-88.02363000000004%5D%2C%20%5B34.358571000000005%2C%20-117.436219%5D%2C%20%5B43.17081%2C%20-117.03629%5D%2C%20%5B33.698923%2C%20-84.274088%5D%2C%20%5B33.62526%2C%20-112.128882%5D%2C%20%5B33.655614%2C%20-112.371846%5D%2C%20%5B45.192657%2C%20-93.073264%5D%2C%20%5B36.9973%2C%20-79.69175600000001%5D%2C%20%5B37.45096%2C%20-121.89278%5D%2C%20%5B34.057002000000004%2C%20-79.131805%5D%2C%20%5B42.29781%2C%20-84.09923%5D%2C%20%5B34.044825%2C%20-118.216047%5D%2C%20%5B44.949365%2C%20-92.817479%5D%2C%20%5B25.943108%2C%20-80.358005%5D%2C%20%5B42.269145%2C%20-84.542364%5D%2C%20%5B44.597378000000006%2C%20-75.147482%5D%2C%20%5B42.28738%2C%20-83.19473%5D%2C%20%5B39.35733%2C%20-76.65478%5D%2C%20%5B34.031919%2C%20-118.27448%5D%2C%20%5B33.484728999999994%2C%20-117.142009%5D%2C%20%5B34.02666%2C%20-118.03856%5D%2C%20%5B39.01602000000001%2C%20-77.01961%5D%2C%20%5B37.37587%2C%20-118.44601000000002%5D%2C%20%5B40.070524%2C%20-76.326677%5D%2C%20%5B38.68239000000001%2C%20-121.590991%5D%2C%20%5B28.547137%2C%20-81.504719%5D%2C%20%5B42.834024%2C%20-73.77038%5D%2C%20%5B41.45565%2C%20-90.5434%5D%2C%20%5B43.565951%2C%20-124.203261%5D%2C%20%5B34.616278%2C%20-89.950035%5D%2C%20%5B35.256782%2C%20-81.031094%5D%2C%20%5B33.677457000000004%2C%20-117.323556%5D%2C%20%5B43.38239%2C%20-121.80311%5D%2C%20%5B41.22636%2C%20-95.95236%5D%2C%20%5B35.11725%2C%20-80.95756%5D%2C%20%5B40.25747%2C%20-75.214123%5D%2C%20%5B39.809613%2C%20-120.248695%5D%2C%20%5B25.925838%2C%20-80.16800699999997%5D%2C%20%5B36.008226%2C%20-119.963986%5D%2C%20%5B36.152785%2C%20-119.06497%5D%2C%20%5B40.138281%2C%20-75.428933%5D%2C%20%5B34.023153%2C%20-118.156458%5D%2C%20%5B38.70697%2C%20-77.223%5D%2C%20%5B39.708462%2C%20-86.10974499999998%5D%2C%20%5B38.867498%2C%20-110.78271399999998%5D%2C%20%5B39.96684000000001%2C%20-82.9837%5D%2C%20%5B34.171083%2C%20-118.520885%5D%2C%20%5B27.049739%2C%20-82.399713%5D%2C%20%5B34.768069%2C%20-82.261043%5D%2C%20%5B43.131018%2C%20-77.642999%5D%2C%20%5B30.397007%2C%20-87.05527%5D%2C%20%5B33.950622%2C%20-118.24348%5D%2C%20%5B33.8263%2C%20-117.92614%5D%2C%20%5B33.866640000000004%2C%20-117.99826000000002%5D%2C%20%5B30.457331%2C%20-91.176751%5D%2C%20%5B30.107087%2C%20-97.694635%5D%2C%20%5B41.821056%2C%20-72.505549%5D%2C%20%5B32.283982%2C%20-110.961076%5D%2C%20%5B37.742854%2C%20-122.198213%5D%2C%20%5B40.60175%2C%20-74.06044%5D%2C%20%5B27.025004%2C%20-80.23082600000002%5D%2C%20%5B40.63757%2C%20-111.8892%5D%2C%20%5B35.04674%2C%20-81.98294%5D%2C%20%5B34.056089%2C%20-118.255883%5D%2C%20%5B41.10584%2C%20-100.72986%5D%2C%20%5B40.933475%2C%20-73.807574%5D%2C%20%5B38.935042%2C%20-94.695979%5D%2C%20%5B40.186003%2C%20-77.234562%5D%2C%20%5B32.90883%2C%20-96.893219%5D%2C%20%5B42.4084%2C%20-83.08065%5D%2C%20%5B33.67876%2C%20-117.84836%5D%2C%20%5B34.098331%2C%20-117.488728%5D%2C%20%5B37.173018%2C%20-121.992378%5D%2C%20%5B25.885453%2C%20-80.243229%5D%2C%20%5B38.760749%2C%20-90.513097%5D%2C%20%5B26.004519%2C%20-80.16683499999998%5D%2C%20%5B40.430063%2C%20-79.87445699999998%5D%2C%20%5B27.779886%2C%20-82.679485%5D%2C%20%5B32.844646999999995%2C%20-117.130447%5D%2C%20%5B33.880247999999995%2C%20-117.608611%5D%2C%20%5B36.17279600000001%2C%20-86.688941%5D%2C%20%5B34.14335%2C%20-118.22713%5D%2C%20%5B27.987240000000003%2C%20-82.32656%5D%2C%20%5B28.608318%2C%20-81.307926%5D%2C%20%5B32.699486%2C%20-117.149008%5D%2C%20%5B37.637904%2C%20-121.122153%5D%2C%20%5B47.580108%2C%20-115.247366%5D%2C%20%5B40.901573%2C%20-120.732053%5D%2C%20%5B34.173524%2C%20-118.556107%5D%2C%20%5B38.58896%2C%20-121.419663%5D%2C%20%5B25.876984%2C%20-80.16850600000002%5D%2C%20%5B32.835357%2C%20-117.197906%5D%2C%20%5B40.705271%2C%20-112.02488999999998%5D%2C%20%5B37.536787%2C%20-122.015%5D%2C%20%5B35.138926%2C%20-80.909779%5D%2C%20%5B45.51027%2C%20-93.00981%5D%2C%20%5B34.055587%2C%20-118.197124%5D%2C%20%5B42.95083%2C%20-78.732251%5D%2C%20%5B37.75254%2C%20-122.40301%5D%2C%20%5B43.124%2C%20-75.40108000000002%5D%2C%20%5B34.083554%2C%20-118.298805%5D%2C%20%5B47.617351%2C%20-122.188981%5D%2C%20%5B36.757693%2C%20-119.736256%5D%2C%20%5B37.530444%2C%20-77.518211%5D%2C%20%5B25.776751%2C%20-80.328427%5D%2C%20%5B37.84193%2C%20-122.29746000000002%5D%2C%20%5B38.596216%2C%20-121.416737%5D%2C%20%5B33.922117%2C%20-117.88004%5D%2C%20%5B44.630935%2C%20-123.996172%5D%2C%20%5B35.63848%2C%20-97.53162%5D%2C%20%5B37.824229%2C%20-122.267767%5D%2C%20%5B33.928903000000005%2C%20-118.293067%5D%2C%20%5B33.744227%2C%20-84.42531%5D%2C%20%5B30.403328%2C%20-86.868844%5D%2C%20%5B38.32567%2C%20-121.3008%5D%2C%20%5B41.85201%2C%20-87.93471%5D%2C%20%5B27.10925%2C%20-82.37756%5D%2C%20%5B42.99213%2C%20-83.71045%5D%2C%20%5B33.809619%2C%20-117.96374%5D%2C%20%5B42.725189%2C%20-82.74493199999998%5D%2C%20%5B43.00193%2C%20-78.81433%5D%2C%20%5B39.77691%2C%20-104.98978%5D%2C%20%5B28.59758%2C%20-81.29731600000002%5D%2C%20%5B41.83242%2C%20-71.41703000000003%5D%2C%20%5B35.108451%2C%20-81.042965%5D%2C%20%5B40.197654%2C%20-77.139333%5D%2C%20%5B43.637791%2C%20-95.571709%5D%2C%20%5B47.24101%2C%20-122.38043%5D%2C%20%5B33.509346%2C%20-112.063968%5D%2C%20%5B41.523014%2C%20-120.475514%5D%2C%20%5B38.947488%2C%20-94.705592%5D%2C%20%5B25.711094%2C%20-80.382351%5D%2C%20%5B45.977483%2C%20-112.508186%5D%2C%20%5B38.494264%2C%20-121.415873%5D%2C%20%5B44.970358%2C%20-93.351315%5D%2C%20%5B33.84633400000001%2C%20-84.430392%5D%2C%20%5B32.668820000000004%2C%20-96.95627%5D%2C%20%5B37.881911%2C%20-122.308246%5D%2C%20%5B35.20395%2C%20-80.75038%5D%2C%20%5B28.45033%2C%20-81.417429%5D%2C%20%5B34.149014%2C%20-118.15698%5D%2C%20%5B42.203567%2C%20-87.98954%5D%2C%20%5B42.566199%2C%20-70.92200799999998%5D%2C%20%5B34.038474%2C%20-118.274709%5D%2C%20%5B28.333040000000004%2C%20-81.4786%5D%2C%20%5B34.93679%2C%20-82.07669%5D%2C%20%5B37.66624%2C%20-122.465859%5D%2C%20%5B36.970099%2C%20-81.066795%5D%2C%20%5B37.339229%2C%20-121.930427%5D%2C%20%5B33.776659%2C%20-117.841825%5D%2C%20%5B40.607647%2C%20-77.563211%5D%2C%20%5B37.86125300000001%2C%20-122.209423%5D%2C%20%5B36.684722%2C%20-121.648333%5D%2C%20%5B35.744732%2C%20-78.91573100000002%5D%2C%20%5B36.626618%2C%20-119.880724%5D%2C%20%5B29.802078%2C%20-95.451332%5D%2C%20%5B40.932091%2C%20-78.909596%5D%2C%20%5B34.689875%2C%20-117.702377%5D%2C%20%5B45.420066%2C%20-94.896394%5D%2C%20%5B37.280267%2C%20-120.487676%5D%2C%20%5B27.124105%2C%20-81.330286%5D%2C%20%5B33.70325%2C%20-84.17498%5D%2C%20%5B42.38335%2C%20-83.029854%5D%2C%20%5B32.366934%2C%20-95.32626%5D%2C%20%5B33.9965%2C%20-117.92688%5D%2C%20%5B41.70525%2C%20-79.020195%5D%2C%20%5B38.496473%2C%20-122.754892%5D%2C%20%5B42.99584%2C%20-88.03781%5D%2C%20%5B34.137756%2C%20-118.013927%5D%2C%20%5B40.705994%2C%20-73.457409%5D%2C%20%5B34.844103000000004%2C%20-92.15366%5D%2C%20%5B35.89850300000001%2C%20-78.761361%5D%2C%20%5B25.657446%2C%20-80.384281%5D%2C%20%5B40.891993%2C%20-86.286514%5D%2C%20%5B25.785307%2C%20-80.215418%5D%2C%20%5B38.86678%2C%20-77.04907%5D%2C%20%5B39.05167%2C%20-84.55689%5D%2C%20%5B25.892414%2C%20-80.22110699999998%5D%2C%20%5B47.679312%2C%20-122.184419%5D%2C%20%5B36.842048%2C%20-121.457372%5D%2C%20%5B35.596724%2C%20-82.55967%5D%2C%20%5B30.499974%2C%20-91.123999%5D%2C%20%5B33.37885%2C%20-111.5635%5D%2C%20%5B36.231962%2C%20-86.783601%5D%2C%20%5B28.256881%2C%20-81.491256%5D%2C%20%5B38.640258%2C%20-77.298436%5D%2C%20%5B28.570261%2C%20-81.365342%5D%2C%20%5B37.486649%2C%20-122.14223%5D%2C%20%5B43.36716%2C%20-123.33017%5D%2C%20%5B42.927636%2C%20-78.850374%5D%2C%20%5B42.262269%2C%20-83.287943%5D%2C%20%5B37.877794%2C%20-122.30706%5D%2C%20%5B43.434609%2C%20-124.220577%5D%2C%20%5B44.9469%2C%20-93.07912%5D%2C%20%5B40.207439%2C%20-122.245913%5D%2C%20%5B39.66941%2C%20-104.82928%5D%2C%20%5B25.783607%2C%20-80.413889%5D%2C%20%5B40.69982%2C%20-111.8883%5D%2C%20%5B38.877342%2C%20-77.275439%5D%2C%20%5B34.072173%2C%20-118.092536%5D%2C%20%5B33.983545%2C%20-118.225278%5D%2C%20%5B35.040718%2C%20-85.244817%5D%2C%20%5B25.624906%2C%20-80.382162%5D%2C%20%5B30.43542%2C%20-91.17755%5D%2C%20%5B25.834876%2C%20-80.38708000000003%5D%2C%20%5B40.73224%2C%20-73.99635%5D%2C%20%5B25.594994%2C%20-80.478489%5D%2C%20%5B36.062135%2C%20-119.039235%5D%2C%20%5B42.840173%2C%20-89.02954100000002%5D%2C%20%5B39.69926%2C%20-75.61179%5D%2C%20%5B39.256265%2C%20-76.675837%5D%2C%20%5B33.892790000000005%2C%20-118.18797%5D%2C%20%5B34.026153%2C%20-81.082124%5D%2C%20%5B42.7829%2C%20-71.25307%5D%2C%20%5B38.801162%2C%20-77.00378%5D%2C%20%5B45.529242%2C%20-122.665175%5D%2C%20%5B34.028151%2C%20-118.449328%5D%2C%20%5B30.43282%2C%20-86.90060600000002%5D%2C%20%5B41.50006%2C%20-72.71576%5D%2C%20%5B33.63813%2C%20-111.925%5D%2C%20%5B38.580787%2C%20-79.167586%5D%2C%20%5B34.136327%2C%20-80.964774%5D%2C%20%5B33.59485%2C%20-112.37641%5D%2C%20%5B37.99422%2C%20-122.29649%5D%2C%20%5B27.521413%2C%20-82.555483%5D%2C%20%5B37.625586%2C%20-120.948157%5D%2C%20%5B45.13750200000001%2C%20-92.999798%5D%2C%20%5B40.725921%2C%20-111.995111%5D%2C%20%5B40.85841%2C%20-111.9047%5D%2C%20%5B27.96813400000001%2C%20-82.784805%5D%2C%20%5B28.452192%2C%20-81.400388%5D%2C%20%5B25.822576%2C%20-80.206568%5D%2C%20%5B41.07808%2C%20-111.98037%5D%2C%20%5B34.22139%2C%20-118.474941%5D%2C%20%5B39.894882%2C%20-75.101904%5D%2C%20%5B42.30551%2C%20-87.98358%5D%2C%20%5B39.121101%2C%20-121.548872%5D%2C%20%5B37.63794%2C%20-121.295268%5D%2C%20%5B39.803756%2C%20-86.031628%5D%2C%20%5B40.79317%2C%20-76.55195%5D%2C%20%5B42.37553%2C%20-88.05719%5D%2C%20%5B27.942963%2C%20-82.544907%5D%2C%20%5B32.926462%2C%20-80.083473%5D%2C%20%5B32.725120000000004%2C%20-117.07448%5D%2C%20%5B34.0687%2C%20-117.839494%5D%2C%20%5B33.487502%2C%20-112.20459%5D%2C%20%5B37.427085%2C%20-77.50546800000002%5D%2C%20%5B39.908913%2C%20-89.595214%5D%2C%20%5B30.507005%2C%20-91.17104%5D%2C%20%5B45.529693%2C%20-122.665303%5D%2C%20%5B29.93357%2C%20-95.412086%5D%2C%20%5B34.068020000000004%2C%20-117.856388%5D%2C%20%5B42.879215%2C%20-85.193502%5D%2C%20%5B28.465886%2C%20-81.334313%5D%2C%20%5B45.222559%2C%20-93.029105%5D%2C%20%5B45.360826%2C%20-122.761028%5D%2C%20%5B34.041819%2C%20-118.317702%5D%2C%20%5B41.85314%2C%20-72.43254%5D%2C%20%5B44.098509%2C%20-121.301862%5D%2C%20%5B39.29937%2C%20-84.52396999999998%5D%2C%20%5B28.427064%2C%20-81.40480500000002%5D%2C%20%5B41.79445%2C%20-87.636661%5D%2C%20%5B38.594047%2C%20-77.334463%5D%2C%20%5B27.857878000000003%2C%20-82.326735%5D%2C%20%5B36.698065%2C%20-81.98565500000002%5D%2C%20%5B33.939181%2C%20-117.221642%5D%2C%20%5B33.980646%2C%20-118.159332%5D%2C%20%5B25.712548%2C%20-80.382427%5D%2C%20%5B39.663788%2C%20-84.160107%5D%2C%20%5B35.14076%2C%20-89.98358%5D%2C%20%5B32.382275%2C%20-80.68890400000002%5D%2C%20%5B34.253128000000004%2C%20-118.431061%5D%2C%20%5B38.97347%2C%20-77.33361%5D%2C%20%5B35.068065999999995%2C%20-85.08461%5D%2C%20%5B35.172896%2C%20-85.115933%5D%2C%20%5B28.190128%2C%20-82.666437%5D%2C%20%5B33.791123%2C%20-117.879921%5D%2C%20%5B41.624675%2C%20-73.772774%5D%2C%20%5B34.012878%2C%20-117.344125%5D%2C%20%5B25.842863%2C%20-80.22429699999998%5D%2C%20%5B34.103790000000004%2C%20-118.31938%5D%2C%20%5B40.845111%2C%20-73.924278%5D%2C%20%5B37.548543%2C%20-77.568774%5D%2C%20%5B32.901955%2C%20-96.984853%5D%2C%20%5B28.38582700000001%2C%20-81.504635%5D%2C%20%5B25.889511%2C%20-80.162851%5D%2C%20%5B34.165544%2C%20-118.492482%5D%2C%20%5B33.367094%2C%20-79.268231%5D%2C%20%5B44.97713%2C%20-93.08881%5D%2C%20%5B33.647519%2C%20-81.719317%5D%2C%20%5B34.504419%2C%20-119.812229%5D%2C%20%5B36.260359%2C%20-86.712863%5D%2C%20%5B40.737785%2C%20-73.238549%5D%2C%20%5B43.12143%2C%20-87.91731999999998%5D%2C%20%5B39.525444%2C%20-106.215438%5D%2C%20%5B38.424989%2C%20-77.421226%5D%2C%20%5B39.691535%2C%20-75.030474%5D%2C%20%5B37.86432%2C%20-122.30287%5D%2C%20%5B34.267925%2C%20-119.126584%5D%2C%20%5B34.712982000000004%2C%20-120.4655%5D%2C%20%5B40.833538%2C%20-77.676902%5D%2C%20%5B32.77036%2C%20-117.161475%5D%2C%20%5B36.15814%2C%20-86.7912%5D%2C%20%5B45.427879%2C%20-122.754469%5D%2C%20%5B46.263263%2C%20-93.824192%5D%2C%20%5B45.065692%2C%20-123.948408%5D%2C%20%5B32.798599%2C%20-117.149351%5D%2C%20%5B47.64378%2C%20-122.30389%5D%2C%20%5B33.940984%2C%20-117.255223%5D%2C%20%5B30.191279%2C%20-81.713479%5D%2C%20%5B25.891627%2C%20-80.163146%5D%2C%20%5B26.203595%2C%20-80.143739%5D%2C%20%5B38.392159%2C%20-120.800221%5D%2C%20%5B26.058937%2C%20-80.35332700000002%5D%2C%20%5B44.96705%2C%20-93.22015%5D%2C%20%5B39.89886%2C%20-75.17051%5D%2C%20%5B39.71191%2C%20-86.27065%5D%2C%20%5B28.405205%2C%20-80.66650200000002%5D%2C%20%5B42.971445%2C%20-85.59075899999998%5D%2C%20%5B37.443239%2C%20-77.68659699999998%5D%2C%20%5B30.360411%2C%20-91.052665%5D%2C%20%5B37.95398400000001%2C%20-121.234247%5D%2C%20%5B35.906334%2C%20-78.948038%5D%2C%20%5B26.017109%2C%20-80.167415%5D%2C%20%5B35.555995%2C%20-89.192601%5D%2C%20%5B32.206933%2C%20-110.892251%5D%2C%20%5B29.181457%2C%20-81.089648%5D%2C%20%5B44.966833%2C%20-93.273984%5D%2C%20%5B35.082658%2C%20-85.058584%5D%2C%20%5B40.73195%2C%20-74.1236%5D%2C%20%5B34.003926%2C%20-117.930419%5D%2C%20%5B39.31132%2C%20-76.5428%5D%2C%20%5B38.79188%2C%20-76.67021%5D%2C%20%5B33.73258%2C%20-112.12176%5D%2C%20%5B40.70102%2C%20-73.49231%5D%2C%20%5B27.441047%2C%20-82.45860400000002%5D%2C%20%5B40.698544%2C%20-73.983177%5D%2C%20%5B30.67532000000001%2C%20-87.983902%5D%2C%20%5B45.421932%2C%20-122.57166200000002%5D%2C%20%5B25.808224%2C%20-80.313148%5D%2C%20%5B42.4662%2C%20-88.017847%5D%2C%20%5B44.058705%2C%20-93.392726%5D%2C%20%5B28.644441%2C%20-81.208123%5D%2C%20%5B35.47246%2C%20-119.498623%5D%2C%20%5B29.89908%2C%20-90.14546%5D%2C%20%5B38.242732%2C%20-77.501775%5D%2C%20%5B27.261626%2C%20-82.523803%5D%2C%20%5B27.155131%2C%20-80.300465%5D%2C%20%5B41.560122%2C%20-93.703602%5D%2C%20%5B33.970956%2C%20-118.077432%5D%2C%20%5B40.72853%2C%20-73.88077%5D%2C%20%5B34.223402%2C%20-79.979582%5D%2C%20%5B35.82536500000001%2C%20-78.62156%5D%2C%20%5B30.06998%2C%20-81.498644%5D%2C%20%5B33.831591%2C%20-118.288198%5D%2C%20%5B39.337206%2C%20-77.048889%5D%2C%20%5B27.463387%2C%20-82.604112%5D%2C%20%5B37.554555%2C%20-77.40570100000002%5D%2C%20%5B34.810757%2C%20-120.447974%5D%2C%20%5B38.62243%2C%20-121.52123%5D%2C%20%5B33.89895%2C%20-84.24793000000003%5D%2C%20%5B33.50825%2C%20-82.10564000000002%5D%2C%20%5B35.21542%2C%20-80.83923%5D%2C%20%5B40.70733900000001%2C%20-73.990799%5D%2C%20%5B40.300296%2C%20-74.05710400000002%5D%2C%20%5B26.357648%2C%20-80.119334%5D%2C%20%5B39.033039%2C%20-76.944133%5D%2C%20%5B40.051916%2C%20-75.861451%5D%2C%20%5B37.635566%2C%20-77.455324%5D%2C%20%5B35.965902%2C%20-78.517744%5D%2C%20%5B33.549015999999995%2C%20-84.28370799999998%5D%2C%20%5B29.93748%2C%20-95.47395%5D%2C%20%5B29.717749%2C%20-95.520069%5D%2C%20%5B45.545529%2C%20-122.532652%5D%2C%20%5B32.308638%2C%20-110.875003%5D%2C%20%5B34.59341%2C%20-83.43833000000002%5D%2C%20%5B29.738607%2C%20-95.605978%5D%2C%20%5B34.413267%2C%20-119.556151%5D%2C%20%5B29.155137%2C%20-81.075417%5D%2C%20%5B36.676267%2C%20-120.151353%5D%2C%20%5B38.83875%2C%20-77.4284%5D%2C%20%5B39.0125%2C%20-122.491196%5D%2C%20%5B44.91595%2C%20-123.22849%5D%2C%20%5B38.130687%2C%20-122.236476%5D%2C%20%5B38.34156%2C%20-81.66338%5D%2C%20%5B41.517844%2C%20-73.97368900000002%5D%2C%20%5B34.0173%2C%20-118.17555%5D%2C%20%5B36.267011%2C%20-86.791792%5D%2C%20%5B37.782572%2C%20-122.472378%5D%2C%20%5B37.74657%2C%20-122.2015%5D%2C%20%5B25.942324%2C%20-80.312698%5D%2C%20%5B44.4999%2C%20-94.715362%5D%2C%20%5B45.010589%2C%20-93.089014%5D%2C%20%5B38.465655%2C%20-78.97124000000002%5D%2C%20%5B39.50417%2C%20-106.14663%5D%2C%20%5B35.375842%2C%20-118.948435%5D%2C%20%5B40.66801%2C%20-74.179687%5D%2C%20%5B39.627489%2C%20-79.98853299999998%5D%2C%20%5B40.9872%2C%20-73.68137%5D%2C%20%5B32.77043%2C%20-96.80133%5D%2C%20%5B44.95128%2C%20-93.02233%5D%2C%20%5B39.03663%2C%20-84.5605%5D%2C%20%5B45.126096%2C%20-123.206325%5D%2C%20%5B25.778655%2C%20-80.265325%5D%2C%20%5B37.25076%2C%20-121.90537%5D%2C%20%5B38.74596%2C%20-90.4311%5D%2C%20%5B27.265766%2C%20-82.413032%5D%2C%20%5B34.3067%2C%20-117.469004%5D%2C%20%5B41.82777%2C%20-87.70976999999998%5D%2C%20%5B37.593593%2C%20-77.467698%5D%2C%20%5B32.778890000000004%2C%20-117.10433%5D%2C%20%5B34.19291%2C%20-79.767836%5D%2C%20%5B25.537176%2C%20-80.347504%5D%2C%20%5B34.173413000000004%2C%20-118.548585%5D%2C%20%5B39.27075%2C%20-76.64485%5D%2C%20%5B29.360762%2C%20-82.090199%5D%2C%20%5B39.48916%2C%20-76.66634%5D%2C%20%5B28.480701%2C%20-81.293661%5D%2C%20%5B26.089563%2C%20-80.212536%5D%2C%20%5B39.82944000000001%2C%20-104.9432%5D%2C%20%5B34.114503000000006%2C%20-118.336281%5D%2C%20%5B38.96704%2C%20-77.35383%5D%2C%20%5B32.785508%2C%20-96.767068%5D%2C%20%5B42.45431%2C%20-83.09551%5D%2C%20%5B42.209081%2C%20-87.991867%5D%2C%20%5B45.01046%2C%20-93.06617%5D%2C%20%5B34.079367%2C%20-118.291686%5D%2C%20%5B33.730162%2C%20-84.323254%5D%2C%20%5B28.367817%2C%20-81.42570500000002%5D%2C%20%5B40.698349%2C%20-73.814074%5D%2C%20%5B34.043605%2C%20-118.170217%5D%2C%20%5B25.768418%2C%20-80.370356%5D%2C%20%5B43.471387%2C%20-123.315964%5D%2C%20%5B25.778655%2C%20-80.265541%5D%2C%20%5B27.90596%2C%20-82.63331%5D%2C%20%5B37.31649%2C%20-121.9673%5D%2C%20%5B33.33582%2C%20-111.73814%5D%2C%20%5B40.88969%2C%20-74.07219%5D%2C%20%5B41.10123%2C%20-73.43605%5D%2C%20%5B44.948747%2C%20-92.896931%5D%2C%20%5B44.710561%2C%20-123.05398%5D%2C%20%5B36.930596%2C%20-76.406869%5D%2C%20%5B38.924282%2C%20-76.85391%5D%2C%20%5B37.955887%2C%20-121.318454%5D%2C%20%5B29.692587%2C%20-95.526432%5D%2C%20%5B38.24005%2C%20-122.09234%5D%2C%20%5B34.021369%2C%20-79.74094000000002%5D%2C%20%5B44.746145%2C%20-121.029564%5D%2C%20%5B38.502265%2C%20-90.326695%5D%2C%20%5B37.214567%2C%20-93.261636%5D%2C%20%5B28.548378000000003%2C%20-81.413837%5D%2C%20%5B40.140949%2C%20-76.808891%5D%2C%20%5B33.8903%2C%20-118.10469%5D%2C%20%5B36.67726%2C%20-80.71163%5D%2C%20%5B40.100622%2C%20-75.14901%5D%2C%20%5B28.510078000000004%2C%20-81.268201%5D%2C%20%5B38.522315%2C%20-121.521831%5D%2C%20%5B38.463166%2C%20-122.726372%5D%2C%20%5B34.24236%2C%20-80.65674399999997%5D%2C%20%5B42.6126%2C%20-83.98709000000002%5D%2C%20%5B36.860177%2C%20-121.621641%5D%2C%20%5B27.33502%2C%20-82.44682900000002%5D%2C%20%5B40.371977%2C%20-74.145516%5D%2C%20%5B41.57418%2C%20-87.51399%5D%2C%20%5B40.00826%2C%20-76.59637%5D%2C%20%5B44.97726%2C%20-122.99123%5D%2C%20%5B38.80307%2C%20-90.72947%5D%2C%20%5B38.73541%2C%20-77.19338%5D%2C%20%5B40.189522%2C%20-79.697088%5D%2C%20%5B32.74953%2C%20-117.1555%5D%2C%20%5B36.210937%2C%20-86.608621%5D%2C%20%5B47.39582%2C%20-122.29169%5D%2C%20%5B38.786788%2C%20-90.533141%5D%2C%20%5B34.437931%2C%20-119.84862%5D%2C%20%5B36.85166%2C%20-76.2912%5D%2C%20%5B40.606346%2C%20-122.5112%5D%2C%20%5B38.589643%2C%20-121.50431%5D%2C%20%5B45.792856%2C%20-118.31552%5D%2C%20%5B42.248064%2C%20-121.790946%5D%2C%20%5B35.42079000000001%2C%20-118.967699%5D%2C%20%5B47.30303%2C%20-122.239703%5D%2C%20%5B33.89734%2C%20-118.160191%5D%2C%20%5B34.133306%2C%20-118.352405%5D%2C%20%5B40.11326%2C%20-79.39064%5D%2C%20%5B30.444828%2C%20-91.061858%5D%2C%20%5B40.166015%2C%20-74.72089799999998%5D%2C%20%5B45.552666%2C%20-122.510287%5D%2C%20%5B38.065106%2C%20-77.50763%5D%2C%20%5B43.619221%2C%20-116.406615%5D%2C%20%5B40.404635%2C%20-120.623387%5D%2C%20%5B27.450982%2C%20-82.530493%5D%2C%20%5B40.029619%2C%20-75.77506%5D%2C%20%5B36.31906%2C%20-80.441457%5D%2C%20%5B34.04938%2C%20-118.22224%5D%2C%20%5B45.290912%2C%20-93.771089%5D%2C%20%5B32.251924%2C%20-110.840988%5D%2C%20%5B33.856131%2C%20-118.002652%5D%2C%20%5B36.965056%2C%20-76.413441%5D%2C%20%5B40.00507%2C%20-83.1186%5D%2C%20%5B33.912975%2C%20-118.179936%5D%2C%20%5B41.26841%2C%20-72.97435%5D%2C%20%5B33.954984%2C%20-118.089002%5D%2C%20%5B33.38417800000001%2C%20-86.807023%5D%2C%20%5B38.731412%2C%20-120.787519%5D%2C%20%5B34.077319%2C%20-118.469945%5D%2C%20%5B30.572763%2C%20-88.184722%5D%2C%20%5B41.75128%2C%20-88.00784%5D%2C%20%5B38.669668%2C%20-77.256982%5D%2C%20%5B37.76266%2C%20-121.43995%5D%2C%20%5B32.459579999999995%2C%20-83.72691%5D%2C%20%5B25.880062%2C%20-80.357626%5D%2C%20%5B42.715616%2C%20-122.569016%5D%2C%20%5B35.964364%2C%20-78.517943%5D%2C%20%5B39.424448%2C%20-79.22708100000001%5D%2C%20%5B33.541266%2C%20-111.442905%5D%2C%20%5B38.61065%2C%20-90.30346%5D%2C%20%5B39.940892%2C%20-74.081057%5D%2C%20%5B33.182325%2C%20-117.355833%5D%2C%20%5B47.95352000000001%2C%20-122.19924%5D%2C%20%5B45.57862%2C%20-95.892201%5D%2C%20%5B40.130628%2C%20-75.061886%5D%2C%20%5B32.77881%2C%20-96.781994%5D%2C%20%5B27.466896%2C%20-82.551137%5D%2C%20%5B44.81492%2C%20-93.60227%5D%2C%20%5B41.07482%2C%20-77.00332900000002%5D%2C%20%5B40.848807%2C%20-74.172191%5D%2C%20%5B38.64235%2C%20-121.367322%5D%2C%20%5B41.016348%2C%20-78.66928100000001%5D%2C%20%5B30.458368%2C%20-91.167911%5D%2C%20%5B38.431023%2C%20-81.530689%5D%2C%20%5B33.795439%2C%20-117.782317%5D%2C%20%5B47.42064600000001%2C%20-92.924081%5D%2C%20%5B25.913172%2C%20-80.209687%5D%2C%20%5B34.072422%2C%20-117.926685%5D%2C%20%5B35.453834%2C%20-80.80082800000002%5D%2C%20%5B29.153877%2C%20-82.25187%5D%2C%20%5B33.249853%2C%20-111.977323%5D%2C%20%5B41.917061%2C%20-87.919878%5D%2C%20%5B40.20662100000001%2C%20-74.773051%5D%2C%20%5B42.491386%2C%20-83.03514100000002%5D%2C%20%5B32.434076%2C%20-82.613893%5D%2C%20%5B38.63196%2C%20-90.28633%5D%2C%20%5B42.81608%2C%20-82.62377%5D%2C%20%5B33.85585%2C%20-118.01576%5D%2C%20%5B33.461748%2C%20-112.05987%5D%2C%20%5B45.528792%2C%20-122.686761%5D%2C%20%5B33.821445000000004%2C%20-118.206841%5D%2C%20%5B35.258426%2C%20-80.912921%5D%2C%20%5B25.886455%2C%20-80.21079499999998%5D%2C%20%5B33.85129000000001%2C%20-117.875844%5D%2C%20%5B37.354466%2C%20-120.631132%5D%2C%20%5B42.36986%2C%20-71.06654%5D%2C%20%5B39.024421%2C%20-122.466236%5D%2C%20%5B32.77946%2C%20-117.0675%5D%2C%20%5B40.729982%2C%20-74.04014699999998%5D%2C%20%5B33.65699%2C%20-111.919%5D%2C%20%5B33.930946%2C%20-117.413411%5D%2C%20%5B33.406387%2C%20-112.625473%5D%2C%20%5B37.201799%2C%20-79.58576500000002%5D%2C%20%5B29.474774%2C%20-82.859577%5D%2C%20%5B28.5385%2C%20-81.33991%5D%2C%20%5B44.85886%2C%20-93.32881%5D%2C%20%5B36.776791%2C%20-121.669593%5D%2C%20%5B32.337244%2C%20-111.020721%5D%2C%20%5B43.030979%2C%20-83.715856%5D%2C%20%5B44.036561%2C%20-93.958822%5D%2C%20%5B37.56234%2C%20-97.32592%5D%2C%20%5B32.646807%2C%20-96.780849%5D%2C%20%5B40.655958%2C%20-111.891043%5D%2C%20%5B38.343724%2C%20-81.658185%5D%2C%20%5B34.021513%2C%20-118.351116%5D%2C%20%5B29.927905%2C%20-90.092151%5D%2C%20%5B35.137056%2C%20-90.092664%5D%2C%20%5B34.73388%2C%20-86.627392%5D%2C%20%5B34.073098%2C%20-80.97025699999998%5D%2C%20%5B41.85938%2C%20-88.06154000000002%5D%2C%20%5B41.915878%2C%20-72.627385%5D%2C%20%5B28.68564000000001%2C%20-81.85499%5D%2C%20%5B28.54768300000001%2C%20-80.85174599999998%5D%2C%20%5B28.451523%2C%20-81.31179300000002%5D%2C%20%5B29.951190000000004%2C%20-90.100238%5D%2C%20%5B32.90287%2C%20-96.72197%5D%2C%20%5B40.63259%2C%20-111.90525%5D%2C%20%5B34.087196%2C%20-117.665859%5D%2C%20%5B44.9228%2C%20-123.01072%5D%2C%20%5B40.57238%2C%20-111.775534%5D%2C%20%5B35.99270999999999%2C%20-86.5928%5D%2C%20%5B34.24689%2C%20-118.4249%5D%2C%20%5B37.33288%2C%20-122.05438999999998%5D%2C%20%5B35.344619%2C%20-119.03943999999998%5D%2C%20%5B39.169768%2C%20-76.731101%5D%2C%20%5B34.05057%2C%20-118.214095%5D%2C%20%5B40.077921%2C%20-76.762601%5D%2C%20%5B34.030476%2C%20-117.598324%5D%2C%20%5B40.650755%2C%20-74.749613%5D%2C%20%5B44.99449600000001%2C%20-122.983435%5D%2C%20%5B38.821038%2C%20-77.31839699999998%5D%2C%20%5B32.724601%2C%20-97.296709%5D%2C%20%5B38.489436%2C%20-121.449534%5D%2C%20%5B32.405408%2C%20-90.146158%5D%2C%20%5B26.350043%2C%20-81.807738%5D%2C%20%5B27.839297%2C%20-82.765828%5D%2C%20%5B36.356546%2C%20-121.213404%5D%2C%20%5B35.457071%2C%20-120.716456%5D%2C%20%5B35.32109699999999%2C%20-118.84306399999998%5D%2C%20%5B26.645011%2C%20-80.068815%5D%2C%20%5B34.706021%2C%20-82.833486%5D%2C%20%5B38.825093%2C%20-77.016837%5D%2C%20%5B36.1108%2C%20-86.74294%5D%2C%20%5B38.108707%2C%20-77.518254%5D%2C%20%5B34.06965%2C%20-118.149154%5D%2C%20%5B30.258301%2C%20-81.436996%5D%2C%20%5B38.05117%2C%20-122.22948999999998%5D%2C%20%5B32.22035%2C%20-110.9627%5D%2C%20%5B38.497054%2C%20-122.965788%5D%2C%20%5B33.871654%2C%20-118.193804%5D%2C%20%5B38.44841%2C%20-121.406355%5D%2C%20%5B34.677392%2C%20-84.478445%5D%2C%20%5B40.203212%2C%20-74.6396%5D%2C%20%5B30.203273%2C%20-97.753924%5D%2C%20%5B32.844598%2C%20-117.13049%5D%2C%20%5B40.021694%2C%20-75.318776%5D%2C%20%5B42.98072%2C%20-85.67724%5D%2C%20%5B42.485042%2C%20-82.917541%5D%2C%20%5B33.628549%2C%20-117.690668%5D%2C%20%5B32.72925%2C%20-117.10681%5D%2C%20%5B41.98331%2C%20-87.74911999999998%5D%2C%20%5B38.770257%2C%20-77.700393%5D%2C%20%5B25.714997%2C%20-80.380416%5D%2C%20%5B41.867254%2C%20-74.790126%5D%2C%20%5B39.291651%2C%20-75.596816%5D%2C%20%5B37.526822%2C%20-122.270554%5D%2C%20%5B25.926024%2C%20-80.150675%5D%2C%20%5B35.202846%2C%20-80.72500600000002%5D%2C%20%5B25.80771%2C%20-80.262948%5D%2C%20%5B42.48749%2C%20-71.54411999999998%5D%2C%20%5B40.527161%2C%20-76.07808%5D%2C%20%5B40.014719%2C%20-75.299246%5D%2C%20%5B34.115351000000004%2C%20-118.268555%5D%2C%20%5B41.070231%2C%20-73.80333%5D%2C%20%5B34.14865%2C%20-118.05401%5D%2C%20%5B43.99668%2C%20-121.33175%5D%2C%20%5B37.933297%2C%20-79.227595%5D%2C%20%5B33.215224%2C%20-84.288604%5D%2C%20%5B25.897936%2C%20-80.17871099999998%5D%2C%20%5B40.468044%2C%20-78.43955%5D%2C%20%5B45.859149%2C%20-119.236191%5D%2C%20%5B36.928669%2C%20-76.289038%5D%2C%20%5B27.529412%2C%20-82.50511999999998%5D%2C%20%5B33.85277%2C%20-84.431412%5D%2C%20%5B33.774522%2C%20-118.074915%5D%2C%20%5B34.11355%2C%20-118.33642%5D%2C%20%5B33.557961%2C%20-117.183803%5D%2C%20%5B39.309339%2C%20-120.910145%5D%2C%20%5B38.942059%2C%20-94.768785%5D%2C%20%5B40.62127%2C%20-111.90402%5D%2C%20%5B47.158255%2C%20-122.443999%5D%2C%20%5B41.24395%2C%20-73.68849%5D%2C%20%5B40.574557%2C%20-111.89999%5D%2C%20%5B40.65406%2C%20-74.00782%5D%2C%20%5B30.57379%2C%20-87.088502%5D%2C%20%5B43.028169%2C%20-71.359403%5D%2C%20%5B28.811349%2C%20-81.355834%5D%2C%20%5B40.003267%2C%20-75.222139%5D%2C%20%5B34.156032%2C%20-118.446189%5D%2C%20%5B28.428614000000003%2C%20-81.474096%5D%2C%20%5B44.966029%2C%20-93.261121%5D%2C%20%5B34.840385%2C%20-82.443416%5D%2C%20%5B37.545757%2C%20-77.448903%5D%2C%20%5B37.541947%2C%20-122.06508999999998%5D%2C%20%5B36.84306%2C%20-76.28586%5D%2C%20%5B28.936417%2C%20-82.452664%5D%2C%20%5B34.005720000000004%2C%20-117.96019%5D%2C%20%5B41.68104%2C%20-83.59434%5D%2C%20%5B37.211755%2C%20-77.297004%5D%2C%20%5B32.670502%2C%20-96.946777%5D%2C%20%5B37.970799%2C%20-122.320338%5D%2C%20%5B35.075451%2C%20-85.106502%5D%2C%20%5B33.778271000000004%2C%20-117.897422%5D%2C%20%5B33.825033000000005%2C%20-118.22306299999998%5D%2C%20%5B34.312493%2C%20-117.346236%5D%2C%20%5B26.633281%2C%20-81.72722900000002%5D%2C%20%5B34.491094%2C%20-83.01965799999998%5D%2C%20%5B28.27263%2C%20-82.481176%5D%2C%20%5B26.34727800000001%2C%20-81.753499%5D%2C%20%5B32.363373%2C%20-86.217902%5D%2C%20%5B35.44605100000001%2C%20-82.539209%5D%2C%20%5B45.016341%2C%20-122.99043%5D%2C%20%5B40.381138%2C%20-79.8119%5D%2C%20%5B26.16219%2C%20-80.16230999999998%5D%2C%20%5B38.94057%2C%20-94.581909%5D%2C%20%5B29.99274%2C%20-90.08145%5D%2C%20%5B44.94834%2C%20-93.102704%5D%2C%20%5B39.10032%2C%20-76.7978%5D%2C%20%5B42.900199%2C%20-71.465631%5D%2C%20%5B41.545649%2C%20-72.832502%5D%2C%20%5B40.03841%2C%20-75.35346%5D%2C%20%5B42.152995%2C%20-88.029039%5D%2C%20%5B38.260701%2C%20-77.513698%5D%2C%20%5B40.321053000000006%2C%20-75.570555%5D%2C%20%5B40.730923%2C%20-73.916015%5D%2C%20%5B45.941637%2C%20-119.333549%5D%2C%20%5B25.716723%2C%20-80.41526999999998%5D%2C%20%5B44.215649%2C%20-94.114067%5D%2C%20%5B47.23257%2C%20-122.43413%5D%2C%20%5B35.06505%2C%20-104.27172%5D%2C%20%5B37.958098%2C%20-122.339385%5D%2C%20%5B41.252718%2C%20-124.089314%5D%2C%20%5B36.16465%2C%20-86.68861%5D%2C%20%5B43.039711%2C%20-77.615898%5D%2C%20%5B38.821157%2C%20-76.886398%5D%2C%20%5B33.926521%2C%20-117.883236%5D%2C%20%5B36.186365%2C%20-86.77594599999998%5D%2C%20%5B45.53038%2C%20-122.63753%5D%2C%20%5B37.89739%2C%20-122.07127%5D%2C%20%5B38.663466%2C%20-121.315107%5D%2C%20%5B39.631677%2C%20-77.77234200000002%5D%2C%20%5B45.543703%2C%20-122.675123%5D%2C%20%5B33.763897%2C%20-117.92021%5D%2C%20%5B44.06282%2C%20-123.0589%5D%2C%20%5B37.889964%2C%20-122.153993%5D%2C%20%5B37.720769%2C%20-121.655201%5D%2C%20%5B38.975537%2C%20-77.405695%5D%2C%20%5B35.16256%2C%20-80.73955%5D%2C%20%5B29.74213300000001%2C%20-95.423824%5D%2C%20%5B36.896485%2C%20-121.747785%5D%2C%20%5B42.987983%2C%20-89.603575%5D%2C%20%5B30.02591%2C%20-90.02999799999998%5D%2C%20%5B33.188012%2C%20-117.237564%5D%2C%20%5B34.148876%2C%20-118.067705%5D%2C%20%5B39.725573%2C%20-105.060875%5D%2C%20%5B36.19571%2C%20-115.16082%5D%2C%20%5B32.212823%2C%20-110.979737%5D%2C%20%5B41.410634%2C%20-122.434085%5D%2C%20%5B41.87063%2C%20-87.87629%5D%2C%20%5B39.315416%2C%20-75.614798%5D%2C%20%5B36.046349%2C%20-95.926557%5D%2C%20%5B34.141119%2C%20-118.276308%5D%2C%20%5B25.897225%2C%20-80.380845%5D%2C%20%5B32.904464000000004%2C%20-117.223901%5D%2C%20%5B35.910927%2C%20-78.75590799999998%5D%2C%20%5B36.428899%2C%20-86.38125500000002%5D%2C%20%5B42.02503%2C%20-71.25876%5D%2C%20%5B25.945115%2C%20-80.205365%5D%2C%20%5B42.62955%2C%20-73.703827%5D%2C%20%5B26.14215%2C%20-80.16971%5D%2C%20%5B33.934139%2C%20-117.555845%5D%2C%20%5B28.595345%2C%20-81.307089%5D%2C%20%5B32.617621%2C%20-80.733437%5D%2C%20%5B34.120978%2C%20-117.877493%5D%2C%20%5B27.791718%2C%20-82.356927%5D%2C%20%5B44.861161%2C%20-93.473487%5D%2C%20%5B33.219159999999995%2C%20-111.98881000000002%5D%2C%20%5B45.28018%2C%20-123.17371%5D%2C%20%5B38.804485%2C%20-76.99034%5D%2C%20%5B38.711288%2C%20-77.454615%5D%2C%20%5B28.065897%2C%20-82.738771%5D%2C%20%5B37.551164%2C%20-120.847067%5D%2C%20%5B43.576894%2C%20-116.195834%5D%2C%20%5B38.644224%2C%20-121.272225%5D%2C%20%5B34.147736%2C%20-118.031661%5D%2C%20%5B36.329845%2C%20-120.299252%5D%2C%20%5B34.034017%2C%20-118.026972%5D%2C%20%5B39.748073%2C%20-84.13938399999998%5D%2C%20%5B34.392544%2C%20-118.472767%5D%2C%20%5B26.157203%2C%20-80.16495%5D%2C%20%5B45.543935%2C%20-122.675237%5D%2C%20%5B35.970993%2C%20-83.922999%5D%2C%20%5B40.209692%2C%20-75.279303%5D%2C%20%5B42.393437%2C%20-88.976972%5D%2C%20%5B45.813385%2C%20-111.25216100000002%5D%2C%20%5B33.910090000000004%2C%20-118.10536%5D%2C%20%5B32.756041%2C%20-117.23405%5D%2C%20%5B39.824291%2C%20-77.231043%5D%2C%20%5B28.205878%2C%20-82.667709%5D%2C%20%5B39.212511%2C%20-121.065784%5D%2C%20%5B35.098196%2C%20-120.59235%5D%2C%20%5B36.13935%2C%20-86.81912%5D%2C%20%5B37.484079%2C%20-77.501214%5D%2C%20%5B42.73734%2C%20-84.51021999999998%5D%2C%20%5B33.732585%2C%20-117.989329%5D%2C%20%5B25.682222%2C%20-80.416428%5D%2C%20%5B31.519468%2C%20-82.198145%5D%2C%20%5B33.855443%2C%20-117.787014%5D%2C%20%5B35.060399%2C%20-85.066575%5D%2C%20%5B33.853269%2C%20-118.280556%5D%2C%20%5B41.493397%2C%20-94.245454%5D%2C%20%5B34.030190000000005%2C%20-118.408253%5D%2C%20%5B40.076252%2C%20-76.324912%5D%2C%20%5B38.574023%2C%20-121.51871%5D%2C%20%5B41.59325%2C%20-93.71946%5D%2C%20%5B25.941445%2C%20-80.121229%5D%2C%20%5B46.036287%2C%20-96.493681%5D%2C%20%5B34.471095%2C%20-93.091846%5D%2C%20%5B34.076061%2C%20-118.216919%5D%2C%20%5B39.015895%2C%20-77.00814100000002%5D%2C%20%5B42.477295%2C%20-83.197182%5D%2C%20%5B33.98072%2C%20-117.33988%5D%2C%20%5B45.600031%2C%20-118.503781%5D%2C%20%5B39.985773%2C%20-76.63449200000002%5D%2C%20%5B33.596115999999995%2C%20-117.674034%5D%2C%20%5B33.676895%2C%20-117.843476%5D%2C%20%5B36.81809000000001%2C%20-121.63232%5D%2C%20%5B26.69002%2C%20-80.06613%5D%2C%20%5B25.884512%2C%20-80.32384300000002%5D%2C%20%5B28.299396999999995%2C%20-81.357697%5D%2C%20%5B43.028041%2C%20-83.726646%5D%2C%20%5B34.89467%2C%20-85.078715%5D%2C%20%5B27.771967%2C%20-80.55076%5D%2C%20%5B47.01706400000001%2C%20-122.905818%5D%2C%20%5B40.758655%2C%20-111.93903%5D%2C%20%5B28.19273%2C%20-82.3814%5D%2C%20%5B34.688194%2C%20-82.835124%5D%2C%20%5B37.953805%2C%20-122.54318700000002%5D%2C%20%5B36.260851%2C%20-86.712689%5D%2C%20%5B26.350826%2C%20-80.117143%5D%2C%20%5B40.239003%2C%20-76.89415799999998%5D%2C%20%5B34.170891999999995%2C%20-119.054023%5D%2C%20%5B34.004649%2C%20-118.409824%5D%2C%20%5B34.828163%2C%20-81.697278%5D%2C%20%5B41.671306%2C%20-73.788336%5D%2C%20%5B38.89705%2C%20-77.19425%5D%2C%20%5B40.689142%2C%20-75.28921%5D%2C%20%5B43.22014%2C%20-93.210616%5D%2C%20%5B39.397991%2C%20-76.684044%5D%2C%20%5B25.97945%2C%20-80.16581%5D%2C%20%5B39.077521%2C%20-76.95200799999998%5D%2C%20%5B34.023952%2C%20-118.192287%5D%2C%20%5B39.271032%2C%20-76.55575999999998%5D%2C%20%5B34.138888%2C%20-117.192202%5D%2C%20%5B40.599214%2C%20-111.432902%5D%2C%20%5B35.448511%2C%20-119.053095%5D%2C%20%5B39.89122%2C%20-121.57766%5D%2C%20%5B29.171947%2C%20-81.850102%5D%2C%20%5B35.816263%2C%20-119.053565%5D%2C%20%5B37.50241%2C%20-122.331988%5D%2C%20%5B37.442725%2C%20-77.47536%5D%2C%20%5B33.28261%2C%20-111.81346%5D%2C%20%5B43.10165%2C%20-75.219601%5D%2C%20%5B45.15201%2C%20-123.79996%5D%2C%20%5B29.688996000000003%2C%20-82.4453%5D%2C%20%5B32.767178%2C%20-117.20874%5D%2C%20%5B34.353794%2C%20-81.093073%5D%2C%20%5B28.347519%2C%20-81.48796899999998%5D%2C%20%5B25.762153%2C%20-80.263191%5D%2C%20%5B34.011145%2C%20-118.058988%5D%2C%20%5B35.052620000000005%2C%20-89.824208%5D%2C%20%5B34.117929%2C%20-118.168033%5D%2C%20%5B33.970659000000005%2C%20-117.375086%5D%2C%20%5B33.901823%2C%20-118.381518%5D%2C%20%5B39.773053%2C%20-86.030186%5D%2C%20%5B41.383838%2C%20-79.32186%5D%2C%20%5B38.735995%2C%20-77.39081999999998%5D%2C%20%5B34.03548%2C%20-118.150359%5D%2C%20%5B40.56928%2C%20-105.00151%5D%2C%20%5B40.01488300000001%2C%20-75.274367%5D%2C%20%5B27.864083%2C%20-82.324347%5D%2C%20%5B36.904352%2C%20-119.754678%5D%2C%20%5B33.999885%2C%20-117.353006%5D%2C%20%5B33.928984%2C%20-118.230329%5D%2C%20%5B38.501274%2C%20-122.998719%5D%2C%20%5B33.96846%2C%20-118.38176%5D%2C%20%5B25.760879%2C%20-80.418491%5D%2C%20%5B41.84908%2C%20-72.665022%5D%2C%20%5B29.07061%2C%20-82.266227%5D%2C%20%5B25.730633%2C%20-80.389344%5D%2C%20%5B42.03968%2C%20-87.8689%5D%2C%20%5B37.40216%2C%20-122.03124%5D%2C%20%5B38.598794%2C%20-121.415426%5D%2C%20%5B38.955385%2C%20-77.19612099999998%5D%2C%20%5B45.43024000000001%2C%20-122.5791%5D%2C%20%5B44.638698%2C%20-123.239652%5D%2C%20%5B42.507269%2C%20-87.95163000000002%5D%2C%20%5B40.888378%2C%20-73.841922%5D%2C%20%5B37.736738%2C%20-121.950486%5D%2C%20%5B25.845667%2C%20-80.250772%5D%2C%20%5B30.384298%2C%20-91.064819%5D%2C%20%5B32.8577%2C%20-117.11348999999998%5D%2C%20%5B42.689445%2C%20-78.935738%5D%2C%20%5B34.161377%2C%20-117.330776%5D%2C%20%5B40.035113%2C%20-75.709372%5D%2C%20%5B30.004602%2C%20-90.026881%5D%2C%20%5B34.27362%2C%20-118.573755%5D%2C%20%5B28.55198%2C%20-81.477519%5D%2C%20%5B34.119936%2C%20-79.795459%5D%2C%20%5B38.091253%2C%20-122.214657%5D%2C%20%5B34.872614%2C%20-117.118023%5D%2C%20%5B28.359739%2C%20-80.790611%5D%2C%20%5B25.447787%2C%20-80.475912%5D%2C%20%5B44.02561%2C%20-92.82971%5D%2C%20%5B30.173767%2C%20-81.745598%5D%2C%20%5B33.986503000000006%2C%20-118.398281%5D%2C%20%5B38.926813%2C%20-77.007999%5D%2C%20%5B40.83870200000001%2C%20-74.018529%5D%2C%20%5B33.938655%2C%20-117.291158%5D%2C%20%5B33.960737%2C%20-117.312755%5D%2C%20%5B33.359858%2C%20-112.412746%5D%2C%20%5B33.958212%2C%20-118.25062%5D%2C%20%5B40.806795%2C%20-73.232899%5D%2C%20%5B27.699732%2C%20-80.904322%5D%2C%20%5B25.750006%2C%20-80.359833%5D%2C%20%5B40.51043%2C%20-74.38631%5D%2C%20%5B39.18193%2C%20-84.48465%5D%2C%20%5B41.02877%2C%20-111.94657%5D%2C%20%5B40.731665%2C%20-73.324412%5D%2C%20%5B25.946072%2C%20-80.147246%5D%2C%20%5B30.42141%2C%20-97.672179%5D%2C%20%5B33.907749%2C%20-112.145796%5D%2C%20%5B40.218887%2C%20-80.214984%5D%2C%20%5B26.330517%2C%20-81.80828299999997%5D%2C%20%5B33.888498%2C%20-117.880715%5D%2C%20%5B43.108693%2C%20-121.813566%5D%2C%20%5B33.016278%2C%20-80.103362%5D%2C%20%5B35.127187%2C%20-81.556465%5D%2C%20%5B26.103515%2C%20-80.168963%5D%2C%20%5B32.92465%2C%20-96.7682%5D%2C%20%5B40.13645%2C%20-75.30494%5D%2C%20%5B35.99993%2C%20-79.86121%5D%2C%20%5B28.83945%2C%20-98.37429%5D%2C%20%5B44.864999%2C%20-93.429676%5D%2C%20%5B44.91615%2C%20-92.9796%5D%2C%20%5B39.315658%2C%20-76.74453299999998%5D%2C%20%5B30.400540000000003%2C%20-97.7463%5D%2C%20%5B34.151371000000005%2C%20-118.451664%5D%2C%20%5B36.04265%2C%20-86.78211%5D%2C%20%5B36.114369%2C%20-86.72453%5D%2C%20%5B35.07694%2C%20-90.02646999999996%5D%2C%20%5B38.95621%2C%20-77.53931%5D%2C%20%5B26.335794%2C%20-81.750923%5D%2C%20%5B28.42564%2C%20-81.39774%5D%2C%20%5B25.626273%2C%20-80.382212%5D%2C%20%5B44.91861%2C%20-122.99738%5D%2C%20%5B35.641611%2C%20-81.182645%5D%2C%20%5B40.15697%2C%20-75.122264%5D%2C%20%5B34.0381%2C%20-118.04294%5D%2C%20%5B37.33418%2C%20-113.693264%5D%2C%20%5B40.68725%2C%20-73.61726%5D%2C%20%5B33.858344%2C%20-118.096283%5D%2C%20%5B42.36478%2C%20-83.43639%5D%2C%20%5B34.030711%2C%20-117.585855%5D%2C%20%5B39.067951%2C%20-78.229726%5D%2C%20%5B40.713494%2C%20-111.88827%5D%2C%20%5B33.980766%2C%20-117.340646%5D%2C%20%5B39.220923%2C%20-78.13861700000002%5D%2C%20%5B39.515411%2C%20-121.602579%5D%2C%20%5B40.30515%2C%20-85.9569%5D%2C%20%5B37.826861%2C%20-122.286511%5D%2C%20%5B44.94666%2C%20-93.27461%5D%2C%20%5B36.516864%2C%20-119.394865%5D%2C%20%5B27.447751%2C%20-82.574066%5D%2C%20%5B34.199014%2C%20-118.337797%5D%2C%20%5B35.10755%2C%20-106.61522%5D%2C%20%5B34.62698%2C%20-118.40695%5D%2C%20%5B30.264625%2C%20-82.10018000000002%5D%2C%20%5B43.01869%2C%20-78.18895%5D%2C%20%5B34.055504%2C%20-118.198421%5D%2C%20%5B28.539827%2C%20-81.28999300000002%5D%2C%20%5B30.04906%2C%20-95.18384%5D%2C%20%5B28.487091%2C%20-81.459013%5D%2C%20%5B27.423667%2C%20-82.57552%5D%2C%20%5B33.917155%2C%20-118.029374%5D%2C%20%5B41.44194%2C%20-72.11747%5D%2C%20%5B35.843975%2C%20-78.68062900000002%5D%2C%20%5B44.082716%2C%20-117.015756%5D%2C%20%5B37.787636%2C%20-87.110939%5D%2C%20%5B30.72133%2C%20-88.1617%5D%2C%20%5B40.711488%2C%20-111.88827%5D%2C%20%5B35.084871%2C%20-85.071462%5D%2C%20%5B43.0308%2C%20-87.96976%5D%2C%20%5B47.31778%2C%20-122.58736%5D%2C%20%5B30.433869%2C%20-87.27753100000002%5D%2C%20%5B28.354254%2C%20-82.616958%5D%2C%20%5B33.859545000000004%2C%20-112.12822%5D%2C%20%5B29.725815%2C%20-95.484075%5D%2C%20%5B34.06774%2C%20-117.83548%5D%2C%20%5B37.727606%2C%20-122.034618%5D%2C%20%5B34.071661%2C%20-118.134358%5D%2C%20%5B33.991144%2C%20-117.352094%5D%2C%20%5B37.760488%2C%20-122.17883799999998%5D%2C%20%5B36.547404%2C%20-119.785963%5D%2C%20%5B39.431616%2C%20-123.357142%5D%2C%20%5B38.001089%2C%20-121.840659%5D%2C%20%5B41.88712%2C%20-87.75533%5D%2C%20%5B25.896844%2C%20-80.254777%5D%2C%20%5B43.580585%2C%20-121.57716299999998%5D%2C%20%5B35.28859%2C%20-80.73003800000002%5D%2C%20%5B29.755521%2C%20-95.388924%5D%2C%20%5B38.39912%2C%20-82.517149%5D%2C%20%5B32.74207%2C%20-96.81918%5D%2C%20%5B39.35926%2C%20-78.04930999999998%5D%2C%20%5B40.85002%2C%20-73.94399200000002%5D%2C%20%5B45.066438%2C%20-93.197379%5D%2C%20%5B34.233439000000004%2C%20-118.409792%5D%2C%20%5B35.78123%2C%20-78.675201%5D%2C%20%5B36.903666%2C%20-76.239634%5D%2C%20%5B25.931272%2C%20-80.178292%5D%2C%20%5B36.22965900000001%2C%20-86.83863000000002%5D%2C%20%5B45.549371%2C%20-122.718838%5D%2C%20%5B34.156673%2C%20-118.417126%5D%2C%20%5B33.98978%2C%20-117.90554%5D%2C%20%5B34.067489%2C%20-118.0209%5D%2C%20%5B37.79582%2C%20-79.39765%5D%2C%20%5B39.77969%2C%20-104.97191%5D%2C%20%5B36.901138%2C%20-119.792388%5D%2C%20%5B28.576429%2C%20-81.45146899999997%5D%2C%20%5B40.844396%2C%20-73.901363%5D%2C%20%5B37.561685%2C%20-122.036359%5D%2C%20%5B29.942705%2C%20-90.06463000000002%5D%2C%20%5B42.628148%2C%20-84.867427%5D%2C%20%5B27.88282%2C%20-82.65535%5D%2C%20%5B46.882642%2C%20-113.994065%5D%2C%20%5B41.7217%2C%20-87.62416%5D%2C%20%5B25.657446%2C%20-80.384281%5D%2C%20%5B44.30301%2C%20-69.96793000000001%5D%2C%20%5B26.139532%2C%20-80.343436%5D%2C%20%5B25.896395%2C%20-80.271902%5D%2C%20%5B42.918408%2C%20-85.679808%5D%2C%20%5B44.60125%2C%20-92.99326%5D%2C%20%5B35.237017%2C%20-111.573304%5D%2C%20%5B40.39503300000001%2C%20-76.00596800000002%5D%2C%20%5B45.712713%2C%20-122.552665%5D%2C%20%5B26.640898%2C%20-81.85166%5D%2C%20%5B32.7872%2C%20-96.62435%5D%2C%20%5B30.191985%2C%20-81.73949300000002%5D%2C%20%5B27.780931%2C%20-82.68655799999998%5D%2C%20%5B43.208539%2C%20-121.779464%5D%2C%20%5B30.352309%2C%20-97.647585%5D%2C%20%5B32.758558%2C%20-117.167076%5D%2C%20%5B32.897442%2C%20-117.217512%5D%2C%20%5B34.712294%2C%20-81.59159%5D%2C%20%5B38.03269%2C%20-78.86027%5D%2C%20%5B45.006957%2C%20-123.885539%5D%2C%20%5B40.193049%2C%20-74.879787%5D%2C%20%5B39.046693%2C%20-123.145573%5D%2C%20%5B33.501185%2C%20-81.941775%5D%2C%20%5B36.838392%2C%20-119.702042%5D%2C%20%5B38.237534%2C%20-79.34202900000003%5D%2C%20%5B44.285435%2C%20-120.888603%5D%2C%20%5B38.508849%2C%20-122.760171%5D%2C%20%5B42.494569%2C%20-83.344441%5D%2C%20%5B30.301021%2C%20-81.983104%5D%2C%20%5B27.869842%2C%20-82.61670699999998%5D%2C%20%5B34.093834%2C%20-117.302284%5D%2C%20%5B35.664623%2C%20-118.299948%5D%2C%20%5B33.615953999999995%2C%20-81.715526%5D%2C%20%5B33.985314%2C%20-118.413802%5D%2C%20%5B30.31805300000001%2C%20-81.679247%5D%2C%20%5B38.514622%2C%20-123.237509%5D%2C%20%5B39.72558%2C%20-105.022643%5D%2C%20%5B41.999856%2C%20-80.210592%5D%2C%20%5B35.398443%2C%20-120.829351%5D%2C%20%5B40.10943%2C%20-75.28878%5D%2C%20%5B34.00955%2C%20-117.82311%5D%2C%20%5B42.340782%2C%20-122.925733%5D%2C%20%5B42.295075%2C%20-121.8171%5D%2C%20%5B37.35618%2C%20-122.11617%5D%2C%20%5B45.609546%2C%20-122.680126%5D%2C%20%5B36.68564600000001%2C%20-121.649807%5D%2C%20%5B39.932509%2C%20-76.690176%5D%2C%20%5B34.35638400000001%2C%20-117.438214%5D%2C%20%5B33.426563%2C%20-117.149927%5D%2C%20%5B29.22846%2C%20-81.02675%5D%2C%20%5B33.876988%2C%20-118.146857%5D%2C%20%5B33.896163%2C%20-118.193484%5D%2C%20%5B34.068498%2C%20-117.860546%5D%2C%20%5B38.81399%2C%20-104.82243%5D%2C%20%5B43.575857%2C%20-121.581134%5D%2C%20%5B47.003537%2C%20-114.489387%5D%2C%20%5B25.684949%2C%20-80.400578%5D%2C%20%5B33.901609%2C%20-117.467397%5D%2C%20%5B38.830101%2C%20-77.113437%5D%2C%20%5B34.072806%2C%20-118.466716%5D%2C%20%5B44.889825%2C%20-93.350454%5D%2C%20%5B40.130442%2C%20-77.347398%5D%2C%20%5B26.546215000000004%2C%20-81.832822%5D%2C%20%5B40.622508%2C%20-74.020787%5D%2C%20%5B45.394273%2C%20-122.423304%5D%2C%20%5B34.739801%2C%20-82.68985699999998%5D%2C%20%5B40.8985%2C%20-73.86140999999998%5D%2C%20%5B33.46054%2C%20-112.30057%5D%2C%20%5B43.6379%2C%20-95.45408%5D%2C%20%5B37.783526%2C%20-121.221486%5D%2C%20%5B33.86339%2C%20-118.28524%5D%2C%20%5B40.865154%2C%20-74.121416%5D%2C%20%5B40.377378%2C%20-120.653953%5D%2C%20%5B40.579796%2C%20-75.828162%5D%2C%20%5B44.7912%2C%20-88.507657%5D%2C%20%5B29.230711%2C%20-82.095176%5D%2C%20%5B48.80327%2C%20-122.39882%5D%2C%20%5B30.461071%2C%20-87.297461%5D%2C%20%5B33.89363400000001%2C%20-118.047127%5D%2C%20%5B35.880467%2C%20-84.232453%5D%2C%20%5B42.34487%2C%20-88.03322%5D%2C%20%5B36.985698%2C%20-76.427436%5D%2C%20%5B35.163942%2C%20-89.865278%5D%2C%20%5B39.95277%2C%20-75.13374%5D%2C%20%5B27.298675%2C%20-82.435172%5D%2C%20%5B34.078362%2C%20-117.741556%5D%2C%20%5B37.40477%2C%20-122.0697%5D%2C%20%5B27.80633%2C%20-82.720978%5D%2C%20%5B34.040661%2C%20-117.715677%5D%2C%20%5B26.61679%2C%20-80.06835%5D%2C%20%5B39.259824%2C%20-81.164804%5D%2C%20%5B35.392932%2C%20-82.56853100000002%5D%2C%20%5B37.368281%2C%20-121.923945%5D%2C%20%5B38.898328%2C%20-77.014235%5D%2C%20%5B30.318059%2C%20-86.13255600000002%5D%2C%20%5B40.363844%2C%20-122.28363600000002%5D%2C%20%5B34.015034%2C%20-117.086778%5D%2C%20%5B38.882583%2C%20-77.02211899999998%5D%2C%20%5B47.136004%2C%20-93.563755%5D%2C%20%5B40.674662%2C%20-111.952768%5D%2C%20%5B34.13496%2C%20-117.59368700000002%5D%2C%20%5B43.17494%2C%20-77.61325%5D%2C%20%5B39.87828%2C%20-75.10291%5D%2C%20%5B32.659037%2C%20-96.82311%5D%2C%20%5B25.995627%2C%20-80.16608199999997%5D%2C%20%5B34.017990999999995%2C%20-117.526918%5D%2C%20%5B29.87327%2C%20-95.40984%5D%2C%20%5B33.340396000000005%2C%20-84.676%5D%2C%20%5B42.954107%2C%20-85.67178299999998%5D%2C%20%5B33.428251%2C%20-84.182458%5D%2C%20%5B38.804904%2C%20-77.252865%5D%2C%20%5B37.46223%2C%20-77.53246999999998%5D%2C%20%5B37.594084%2C%20-77.554197%5D%2C%20%5B38.629195%2C%20-121.40493%5D%2C%20%5B47.125478%2C%20-122.434784%5D%2C%20%5B30.90364000000001%2C%20-84.2332%5D%2C%20%5B41.844428%2C%20-87.962187%5D%2C%20%5B25.788676%2C%20-80.204581%5D%2C%20%5B30.421642%2C%20-91.053954%5D%2C%20%5B39.09709%2C%20-77.17772099999998%5D%2C%20%5B47.240944%2C%20-122.357272%5D%2C%20%5B33.675678999999995%2C%20-117.840641%5D%2C%20%5B34.301053%2C%20-118.477352%5D%2C%20%5B45.723906%2C%20-120.199474%5D%2C%20%5B37.701861%2C%20-121.903409%5D%2C%20%5B34.033961%2C%20-118.027414%5D%2C%20%5B37.279279%2C%20-121.86451%5D%2C%20%5B40.908139%2C%20-74.098116%5D%2C%20%5B35.476924%2C%20-81.22927299999998%5D%2C%20%5B33.765989000000005%2C%20-84.663634%5D%2C%20%5B39.420694%2C%20-76.644841%5D%2C%20%5B26.136376%2C%20-80.17840600000002%5D%2C%20%5B32.843794%2C%20-79.980956%5D%2C%20%5B45.48615%2C%20-122.757388%5D%2C%20%5B35.863992%2C%20-78.54523499999998%5D%2C%20%5B47.63896%2C%20-122.32287%5D%2C%20%5B32.593276%2C%20-117.088672%5D%2C%20%5B37.754433%2C%20-121.38519%5D%2C%20%5B39.584029%2C%20-77.636207%5D%2C%20%5B32.823468%2C%20-113.452624%5D%2C%20%5B29.99931%2C%20-90.19073%5D%2C%20%5B33.974779%2C%20-117.696565%5D%2C%20%5B40.675839%2C%20-74.279412%5D%2C%20%5B37.155901%2C%20-121.655141%5D%2C%20%5B39.853035%2C%20-86.264872%5D%2C%20%5B34.043551%2C%20-118.3177%5D%2C%20%5B33.802833%2C%20-118.12518%5D%2C%20%5B48.10485%2C%20-123.373221%5D%2C%20%5B43.00276%2C%20-83.74934%5D%2C%20%5B38.95050300000001%2C%20-84.393591%5D%2C%20%5B45.306491%2C%20-93.819395%5D%2C%20%5B37.892864%2C%20-122.124999%5D%2C%20%5B28.449397%2C%20-81.46578199999998%5D%2C%20%5B33.987602%2C%20-118.137419%5D%2C%20%5B26.164672%2C%20-80.227594%5D%2C%20%5B37.974767%2C%20-120.346245%5D%2C%20%5B39.410308%2C%20-123.747006%5D%2C%20%5B32.97446%2C%20-96.71684%5D%2C%20%5B34.645954%2C%20-117.862942%5D%2C%20%5B34.648274%2C%20-81.15043%5D%2C%20%5B28.636922%2C%20-81.447071%5D%2C%20%5B25.899671%2C%20-80.181294%5D%2C%20%5B34.255181%2C%20-85.11065699999997%5D%2C%20%5B33.090616%2C%20-117.080858%5D%2C%20%5B26.102839000000003%2C%20-80.2646%5D%2C%20%5B35.911707%2C%20-78.78430999999998%5D%2C%20%5B34.145733%2C%20-117.331107%5D%2C%20%5B33.201187%2C%20-117.37431399999998%5D%2C%20%5B35.36463%2C%20-119.04035%5D%2C%20%5B40.051399%2C%20-111.737104%5D%2C%20%5B48.399792%2C%20-114.240875%5D%2C%20%5B34.067640000000004%2C%20-117.60049%5D%2C%20%5B33.7915%2C%20-84.39171400000002%5D%2C%20%5B33.708268%2C%20-84.40294%5D%2C%20%5B47.61389000000001%2C%20-122.32982%5D%2C%20%5B33.9729%2C%20-118.168035%5D%2C%20%5B35.395492%2C%20-118.964499%5D%2C%20%5B42.65694000000001%2C%20-84.1931%5D%2C%20%5B34.08745%2C%20-117.65527%5D%2C%20%5B38.10102%2C%20-84.48535%5D%2C%20%5B38.89568%2C%20-76.84866%5D%2C%20%5B39.019266%2C%20-76.97674%5D%2C%20%5B45.37205%2C%20-122.590925%5D%2C%20%5B42.385456%2C%20-87.832541%5D%2C%20%5B38.629831%2C%20-77.41528000000002%5D%2C%20%5B35.427052%2C%20-119.101173%5D%2C%20%5B38.026757%2C%20-121.940891%5D%2C%20%5B36.664713%2C%20-78.133167%5D%2C%20%5B34.10648%2C%20-117.475719%5D%2C%20%5B45.511668%2C%20-122.667192%5D%2C%20%5B40.89349%2C%20-73.88338%5D%2C%20%5B30.410139%2C%20-91.100982%5D%2C%20%5B47.36236%2C%20-122.29566%5D%2C%20%5B34.525806%2C%20-82.72024499999998%5D%2C%20%5B33.743797%2C%20-117.442756%5D%2C%20%5B40.43086%2C%20-76.51929%5D%2C%20%5B33.84205%2C%20-118.28598%5D%2C%20%5B25.760878%2C%20-80.419588%5D%2C%20%5B38.884835%2C%20-77.020873%5D%2C%20%5B41.648923%2C%20-91.540149%5D%2C%20%5B39.49625%2C%20-119.78423%5D%2C%20%5B39.577206%2C%20-119.812592%5D%2C%20%5B40.65737%2C%20-73.98321%5D%2C%20%5B33.876406%2C%20-118.067033%5D%2C%20%5B38.94114%2C%20-94.537698%5D%2C%20%5B25.907681%2C%20-80.235512%5D%2C%20%5B32.914891%2C%20-96.866675%5D%2C%20%5B37.193126%2C%20-80.272961%5D%2C%20%5B40.726114%2C%20-73.377674%5D%2C%20%5B34.54244%2C%20-92.63818%5D%2C%20%5B38.621331%2C%20-77.296017%5D%2C%20%5B33.960154%2C%20-118.251348%5D%2C%20%5B39.005229%2C%20-77.02287199999998%5D%2C%20%5B33.840423%2C%20-84.312331%5D%2C%20%5B35.076631%2C%20-80.729824%5D%2C%20%5B39.845456%2C%20-75.423849%5D%2C%20%5B44.97068%2C%20-93.34073%5D%2C%20%5B42.28335%2C%20-87.96021999999998%5D%2C%20%5B33.811809000000004%2C%20-118.207039%5D%2C%20%5B32.982385%2C%20-80.01074%5D%2C%20%5B39.837351%2C%20-75.74766%5D%2C%20%5B39.02619%2C%20-84.61231%5D%2C%20%5B37.89739%2C%20-122.0817%5D%2C%20%5B32.315475%2C%20-95.273951%5D%2C%20%5B44.54475%2C%20-93.30032%5D%2C%20%5B37.891793%2C%20-122.151758%5D%2C%20%5B37.78667%2C%20-81.220475%5D%2C%20%5B29.80596%2C%20-95.33869%5D%2C%20%5B33.677695%2C%20-117.170787%5D%2C%20%5B32.68178%2C%20-96.66176%5D%2C%20%5B36.166961%2C%20-119.357886%5D%2C%20%5B33.61074%2C%20-112.184985%5D%2C%20%5B34.43786%2C%20-118.33613400000002%5D%2C%20%5B35.79996%2C%20-78.69364%5D%2C%20%5B41.78858%2C%20-87.94908000000002%5D%2C%20%5B33.763293%2C%20-110.511399%5D%2C%20%5B38.898242%2C%20-76.949031%5D%2C%20%5B25.669776%2C%20-80.416237%5D%2C%20%5B36.977609%2C%20-121.910711%5D%2C%20%5B32.739000000000004%2C%20-97.32027%5D%2C%20%5B33.81534%2C%20-117.296176%5D%2C%20%5B42.964737%2C%20-78.92116899999998%5D%2C%20%5B39.957043%2C%20-76.7452%5D%2C%20%5B40.82839%2C%20-73.41143000000002%5D%2C%20%5B42.475131%2C%20-93.568896%5D%2C%20%5B40.10732%2C%20-74.89416999999997%5D%2C%20%5B44.36495%2C%20-94.42344%5D%2C%20%5B29.76319%2C%20-95.45555%5D%2C%20%5B25.980852%2C%20-80.165981%5D%2C%20%5B37.294131%2C%20-121.938146%5D%2C%20%5B26.126877%2C%20-80.169053%5D%2C%20%5B39.725599%2C%20-104.82461%5D%2C%20%5B32.724931%2C%20-117.103092%5D%2C%20%5B45.551818%2C%20-118.46475%5D%2C%20%5B43.668669%2C%20-123.202904%5D%2C%20%5B28.49145900000001%2C%20-81.417315%5D%2C%20%5B36.850497%2C%20-76.19586%5D%2C%20%5B40.7594%2C%20-73.95812%5D%2C%20%5B30.359658000000003%2C%20-81.55391800000002%5D%2C%20%5B25.764402%2C%20-80.264273%5D%2C%20%5B41.221%2C%20-103.52245%5D%2C%20%5B34.242824%2C%20-118.473098%5D%2C%20%5B46.165418%2C%20-123.624332%5D%2C%20%5B35.108515999999995%2C%20-80.97785999999998%5D%2C%20%5B47.563507%2C%20-122.32111100000002%5D%2C%20%5B25.727052%2C%20-80.383021%5D%2C%20%5B36.661111%2C%20-121.816111%5D%2C%20%5B42.915517%2C%20-85.539838%5D%2C%20%5B39.29973%2C%20-76.74301%5D%2C%20%5B38.558751%2C%20-121.474422%5D%2C%20%5B37.966636%2C%20-122.048975%5D%2C%20%5B45.089375%2C%20-93.288359%5D%2C%20%5B40.186947%2C%20-77.212461%5D%2C%20%5B25.72655%2C%20-80.415497%5D%2C%20%5B32.84552%2C%20-96.582359%5D%2C%20%5B34.974362%2C%20-120.571032%5D%2C%20%5B38.223232%2C%20-122.258017%5D%2C%20%5B33.916345%2C%20-118.262539%5D%2C%20%5B38.91033400000001%2C%20-122.610246%5D%2C%20%5B34.024669%2C%20-117.750932%5D%2C%20%5B33.51489%2C%20-81.90705799999998%5D%2C%20%5B34.029003%2C%20-118.010126%5D%2C%20%5B36.541973%2C%20-119.286835%5D%2C%20%5B46.738016%2C%20-92.217044%5D%2C%20%5B41.801723%2C%20-85.66255600000002%5D%2C%20%5B25.749494%2C%20-80.287338%5D%2C%20%5B40.14639%2C%20-75.2047%5D%2C%20%5B25.681839%2C%20-80.384516%5D%2C%20%5B37.88178%2C%20-122.30826%5D%2C%20%5B36.114229%2C%20-95.908542%5D%2C%20%5B29.23355%2C%20-81.01811%5D%2C%20%5B33.730940000000004%2C%20-117.98632%5D%2C%20%5B35.75494699999999%2C%20-78.585403%5D%2C%20%5B41.200629%2C%20-80.051482%5D%2C%20%5B28.551978%2C%20-81.47721999999997%5D%2C%20%5B44.9585%2C%20-93.19889%5D%2C%20%5B27.811306%2C%20-82.664018%5D%2C%20%5B34.28755%2C%20-118.40713%5D%2C%20%5B25.684676%2C%20-80.387136%5D%2C%20%5B33.90834%2C%20-117.45344%5D%2C%20%5B39.18045%2C%20-104.85008%5D%2C%20%5B39.31842%2C%20-76.65245%5D%2C%20%5B42.18593%2C%20-83.24324%5D%2C%20%5B38.99269%2C%20-76.51861%5D%2C%20%5B37.690521%2C%20-122.078305%5D%2C%20%5B33.183524%2C%20-117.291373%5D%2C%20%5B33.854437%2C%20-117.79064%5D%2C%20%5B44.87371%2C%20-93.1633%5D%2C%20%5B34.00522%2C%20-117.41293%5D%2C%20%5B35.683593%2C%20-78.568704%5D%2C%20%5B44.721554%2C%20-121.203424%5D%2C%20%5B40.73197%2C%20-73.87058%5D%2C%20%5B34.034246%2C%20-118.350173%5D%2C%20%5B34.199134%2C%20-117.371901%5D%2C%20%5B33.87748%2C%20-118.103885%5D%2C%20%5B28.021253%2C%20-82.334097%5D%2C%20%5B38.965362%2C%20-77.180746%5D%2C%20%5B33.83087800000001%2C%20-117.834297%5D%2C%20%5B25.731668%2C%20-80.310891%5D%2C%20%5B41.53097%2C%20-71.97211%5D%2C%20%5B33.77404600000001%2C%20-84.561288%5D%2C%20%5B33.628267%2C%20-117.720776%5D%2C%20%5B42.590683%2C%20-85.66266999999998%5D%2C%20%5B43.32444%2C%20-123.02259%5D%2C%20%5B37.869401%2C%20-122.01669%5D%2C%20%5B30.35426%2C%20-81.66861%5D%2C%20%5B30.335497%2C%20-97.776395%5D%2C%20%5B38.764525%2C%20-77.156237%5D%2C%20%5B34.00600900000001%2C%20-118.282717%5D%2C%20%5B35.792721%2C%20-78.49073100000003%5D%2C%20%5B41.75581%2C%20-71.43541%5D%2C%20%5B25.86056%2C%20-80.322524%5D%2C%20%5B41.93412%2C%20-87.69955999999998%5D%2C%20%5B28.450016%2C%20-81.468188%5D%2C%20%5B31.753095%2C%20-106.345006%5D%2C%20%5B34.135939%2C%20-80.962195%5D%2C%20%5B44.861909%2C%20-93.299342%5D%2C%20%5B36.230555%2C%20-95.993275%5D%2C%20%5B32.800329999999995%2C%20-96.62612%5D%2C%20%5B33.867531%2C%20-118.099398%5D%2C%20%5B37.55267%2C%20-77.47549000000002%5D%2C%20%5B44.54372100000001%2C%20-93.300637%5D%2C%20%5B34.19924%2C%20-118.33798%5D%2C%20%5B40.830349%2C%20-73.85054000000002%5D%2C%20%5B33.661813%2C%20-84.426998%5D%2C%20%5B28.387066%2C%20-81.373319%5D%2C%20%5B35.785075%2C%20-78.64264200000002%5D%2C%20%5B33.967463%2C%20-83.818827%5D%2C%20%5B38.194272%2C%20-81.47676%5D%2C%20%5B32.7804%2C%20-96.77682%5D%2C%20%5B27.821106%2C%20-82.69768499999998%5D%2C%20%5B27.041677000000004%2C%20-82.299966%5D%2C%20%5B34.0661%2C%20-117.32695%5D%2C%20%5B34.50178%2C%20-118.23251299999998%5D%2C%20%5B37.86888%2C%20-122.19478%5D%2C%20%5B45.382688%2C%20-122.752144%5D%2C%20%5B42.688524%2C%20-84.56759%5D%2C%20%5B34.05658%2C%20-117.78435%5D%2C%20%5B40.2985%2C%20-76.82658%5D%2C%20%5B36.141797%2C%20-86.733467%5D%2C%20%5B35.075972%2C%20-89.98091099999998%5D%2C%20%5B34.05573%2C%20-118.25514%5D%2C%20%5B39.85205%2C%20-104.986129%5D%2C%20%5B45.660881%2C%20-108.776701%5D%2C%20%5B38.62862%2C%20-90.31076%5D%2C%20%5B32.738170000000004%2C%20-117.05481%5D%2C%20%5B38.9622%2C%20-76.64707%5D%2C%20%5B29.687546%2C%20-95.364024%5D%2C%20%5B34.068058%2C%20-117.54236000000002%5D%2C%20%5B36.085346%2C%20-86.72857900000002%5D%2C%20%5B40.567115%2C%20-74.325567%5D%2C%20%5B37.053671%2C%20-121.60489%5D%2C%20%5B39.060438%2C%20-94.493212%5D%2C%20%5B34.065792%2C%20-117.495741%5D%2C%20%5B29.819366%2C%20-95.469136%5D%2C%20%5B34.018157%2C%20-117.535004%5D%2C%20%5B33.772293%2C%20-79.020713%5D%2C%20%5B37.104795%2C%20-121.66197%5D%2C%20%5B32.099522%2C%20-110.797675%5D%2C%20%5B40.72183%2C%20-111.81207%5D%2C%20%5B35.22628%2C%20-80.888538%5D%2C%20%5B37.401518%2C%20-122.033087%5D%2C%20%5B27.93776%2C%20-82.28495500000002%5D%2C%20%5B28.510447%2C%20-81.419966%5D%2C%20%5B42.10613%2C%20-87.86653000000004%5D%2C%20%5B37.53907%2C%20-77.43552%5D%2C%20%5B34.012502000000005%2C%20-118.418508%5D%2C%20%5B34.258214%2C%20-117.291294%5D%2C%20%5B27.92852%2C%20-82.35072%5D%2C%20%5B39.85576%2C%20-104.98695%5D%2C%20%5B36.02245100000001%2C%20-119.161506%5D%2C%20%5B39.052613%2C%20-77.15262%5D%2C%20%5B39.290499%2C%20-76.741861%5D%2C%20%5B34.128681%2C%20-118.09186%5D%2C%20%5B41.89953%2C%20-88.94065%5D%2C%20%5B42.91188%2C%20-83.7258%5D%2C%20%5B28.56983%2C%20-81.286198%5D%2C%20%5B42.224091%2C%20-87.873269%5D%2C%20%5B29.17469%2C%20-81.08688000000002%5D%2C%20%5B32.766512%2C%20-97.3162%5D%2C%20%5B33.74463%2C%20-84.39923%5D%2C%20%5B45.022205%2C%20-92.984755%5D%2C%20%5B42.349676%2C%20-87.85579%5D%2C%20%5B34.106762%2C%20-117.898941%5D%2C%20%5B40.990923%2C%20-117.679527%5D%2C%20%5B36.80849600000001%2C%20-119.740786%5D%2C%20%5B43.52883%2C%20-94.086391%5D%2C%20%5B35.208932%2C%20-80.75738299999998%5D%2C%20%5B37.7009%2C%20-121.79503%5D%2C%20%5B32.792458%2C%20-96.624978%5D%2C%20%5B37.40303%2C%20-122.046902%5D%2C%20%5B32.760371%2C%20-117.197262%5D%2C%20%5B41.119134%2C%20-73.379972%5D%2C%20%5B40.541085%2C%20-75.708814%5D%2C%20%5B34.067440000000005%2C%20-117.53243%5D%2C%20%5B37.749684%2C%20-122.151331%5D%2C%20%5B25.669018%2C%20-80.45558199999998%5D%2C%20%5B35.223706%2C%20-80.62908%5D%2C%20%5B27.302439%2C%20-82.514206%5D%2C%20%5B39.015165%2C%20-77.118734%5D%2C%20%5B25.830305%2C%20-80.24100899999998%5D%2C%20%5B29.770469%2C%20-95.26495%5D%2C%20%5B29.78538%2C%20-95.7534%5D%2C%20%5B30.244633%2C%20-81.58921600000002%5D%2C%20%5B40.156048%2C%20-79.772897%5D%2C%20%5B33.941837%2C%20-118.347333%5D%2C%20%5B35.128301%2C%20-85.29326999999998%5D%2C%20%5B44.05329%2C%20-93.47272%5D%2C%20%5B36.14121%2C%20-86.699777%5D%2C%20%5B30.524733%2C%20-86.473667%5D%2C%20%5B40.677722%2C%20-111.800297%5D%2C%20%5B37.678251%2C%20-122.388248%5D%2C%20%5B46.862064%2C%20-101.82823%5D%2C%20%5B26.13499%2C%20-80.1695%5D%2C%20%5B30.314401%2C%20-82.804223%5D%2C%20%5B25.670913%2C%20-80.415251%5D%2C%20%5B39.20647%2C%20-76.61151%5D%2C%20%5B36.180221%2C%20-86.806291%5D%2C%20%5B34.119726%2C%20-117.790185%5D%2C%20%5B33.873735%2C%20-118.257318%5D%2C%20%5B34.83127%2C%20-81.9898%5D%2C%20%5B41.979209%2C%20-71.48478%5D%2C%20%5B32.95364%2C%20-117.24456%5D%2C%20%5B45.64538%2C%20-121.92202%5D%2C%20%5B40.76962%2C%20-74.02584%5D%2C%20%5B29.567849%2C%20-95.132483%5D%2C%20%5B45.534109%2C%20-122.847325%5D%2C%20%5B37.208136%2C%20-93.288371%5D%2C%20%5B41.357732%2C%20-73.09263%5D%2C%20%5B33.964363%2C%20-118.169236%5D%2C%20%5B37.34623%2C%20-79.99043499999998%5D%2C%20%5B26.556361%2C%20-81.750392%5D%2C%20%5B42.995174%2C%20-77.36022700000002%5D%2C%20%5B36.852037%2C%20-81.47612%5D%2C%20%5B41.40868%2C%20-81.65639%5D%2C%20%5B30.647532%2C%20-87.349562%5D%2C%20%5B41.628538%2C%20-111.179076%5D%2C%20%5B40.24895%2C%20-74.69798%5D%2C%20%5B29.909527%2C%20-89.984346%5D%2C%20%5B28.208409000000003%2C%20-82.184771%5D%2C%20%5B33.51444%2C%20-111.888%5D%2C%20%5B37.65785%2C%20-92.660095%5D%2C%20%5B38.205518%2C%20-78.993257%5D%2C%20%5B41.21857%2C%20-111.97053%5D%2C%20%5B33.733055%2C%20-117.40597%5D%2C%20%5B45.97940300000001%2C%20-118.994582%5D%2C%20%5B40.12946%2C%20-76.2158%5D%2C%20%5B45.088388%2C%20-93.447663%5D%2C%20%5B37.47039%2C%20-121.929131%5D%2C%20%5B25.884934%2C%20-80.210718%5D%2C%20%5B34.746022%2C%20-92.268261%5D%2C%20%5B33.992039%2C%20-117.358004%5D%2C%20%5B38.019173%2C%20-121.898667%5D%2C%20%5B44.929449%2C%20-93.023972%5D%2C%20%5B40.443967%2C%20-79.840639%5D%2C%20%5B37.060814%2C%20-122.004848%5D%2C%20%5B28.52333%2C%20-81.38631%5D%2C%20%5B37.882386%2C%20-121.26849%5D%2C%20%5B33.193501%2C%20-117.365112%5D%2C%20%5B28.551201%2C%20-81.204092%5D%2C%20%5B32.215732%2C%20-110.875056%5D%2C%20%5B29.7168%2C%20-95.538896%5D%2C%20%5B34.016418%2C%20-117.462826%5D%2C%20%5B33.916412%2C%20-118.29172%5D%2C%20%5B26.11624%2C%20-80.32151%5D%2C%20%5B42.41247%2C%20-123.412754%5D%2C%20%5B25.857666%2C%20-80.32286500000002%5D%2C%20%5B30.303641%2C%20-97.739739%5D%2C%20%5B36.78224%2C%20-76.39350999999998%5D%2C%20%5B28.314331%2C%20-81.561931%5D%2C%20%5B32.685482%2C%20-117.112584%5D%2C%20%5B34.698785%2C%20-79.93066999999998%5D%2C%20%5B25.671304%2C%20-80.39898199999998%5D%2C%20%5B36.836696%2C%20-76.196333%5D%2C%20%5B30.46007800000001%2C%20-81.649292%5D%2C%20%5B33.55996%2C%20-117.630604%5D%2C%20%5B42.611587%2C%20-123.381281%5D%2C%20%5B39.295576%2C%20-84.31298699999998%5D%2C%20%5B37.993348%2C%20-121.265657%5D%2C%20%5B33.9122%2C%20-84.3839%5D%2C%20%5B25.713476%2C%20-80.285732%5D%2C%20%5B25.964051%2C%20-80.16628100000001%5D%2C%20%5B35.399569%2C%20-119.044712%5D%2C%20%5B37.619129%2C%20-121.030408%5D%2C%20%5B29.653876%2C%20-82.33501%5D%2C%20%5B33.459709000000004%2C%20-112.510417%5D%2C%20%5B39.942821%2C%20-75.194363%5D%2C%20%5B33.9965%2C%20-117.92688%5D%2C%20%5B34.031695%2C%20-118.418191%5D%2C%20%5B33.92463%2C%20-117.910937%5D%2C%20%5B34.004353%2C%20-118.063689%5D%2C%20%5B25.809446%2C%20-80.312034%5D%2C%20%5B30.499462%2C%20-91.159533%5D%2C%20%5B28.177662%2C%20-81.302684%5D%2C%20%5B30.35497%2C%20-97.756282%5D%2C%20%5B39.212845%2C%20-76.533636%5D%2C%20%5B44.88857%2C%20-93.32543%5D%2C%20%5B33.449016%2C%20-111.90933%5D%2C%20%5B44.95173%2C%20-95.719059%5D%2C%20%5B29.949342%2C%20-90.084489%5D%2C%20%5B42.898542%2C%20-85.514383%5D%2C%20%5B39.498199%2C%20-77.954789%5D%2C%20%5B40.268057%2C%20-74.509631%5D%2C%20%5B25.733185%2C%20-80.31835500000003%5D%2C%20%5B39.064324%2C%20-94.679414%5D%2C%20%5B34.331087%2C%20-118.506347%5D%2C%20%5B37.149077%2C%20-121.648946%5D%2C%20%5B46.122746%2C%20-94.5558%5D%2C%20%5B27.388922%2C%20-82.449198%5D%2C%20%5B45.491822%2C%20-123.65498999999998%5D%2C%20%5B28.98191%2C%20-82.116807%5D%2C%20%5B38.935321%2C%20-94.720484%5D%2C%20%5B44.069598%2C%20-123.048303%5D%2C%20%5B39.854283%2C%20-75.367827%5D%2C%20%5B43.00368%2C%20-78.82722%5D%2C%20%5B37.792623%2C%20-121.189947%5D%2C%20%5B35.217768%2C%20-80.871313%5D%2C%20%5B41.426138%2C%20-72.69195%5D%2C%20%5B41.199683%2C%20-73.193899%5D%2C%20%5B32.77212%2C%20-117.11254%5D%2C%20%5B42.50106%2C%20-83.11629%5D%2C%20%5B34.120317%2C%20-118.271191%5D%2C%20%5B41.805926%2C%20-120.360829%5D%2C%20%5B32.27303%2C%20-90.07278%5D%2C%20%5B40.026851%2C%20-78.368729%5D%2C%20%5B33.797313%2C%20-117.877697%5D%2C%20%5B34.237033000000004%2C%20-80.497688%5D%2C%20%5B38.714791%2C%20-120.843105%5D%2C%20%5B26.047851%2C%20-80.16255100000002%5D%2C%20%5B34.050277%2C%20-118.214107%5D%2C%20%5B34.419811%2C%20-118.435589%5D%2C%20%5B40.158357%2C%20-110.173485%5D%2C%20%5B40.76287%2C%20-84.58109%5D%2C%20%5B37.23915%2C%20-112.83237%5D%2C%20%5B30.449983000000003%2C%20-91.165912%5D%2C%20%5B33.19426%2C%20-117.25933899999998%5D%2C%20%5B30.001355%2C%20-95.296833%5D%2C%20%5B28.467941%2C%20-81.434837%5D%2C%20%5B34.30869000000001%2C%20-117.47092%5D%2C%20%5B42.13906400000001%2C%20-72.028863%5D%2C%20%5B42.37685%2C%20-83.03948000000003%5D%2C%20%5B25.648481%2C%20-80.332075%5D%2C%20%5B39.083036%2C%20-94.592939%5D%2C%20%5B38.573787%2C%20-77.315841%5D%2C%20%5B37.63495%2C%20-122.10383%5D%2C%20%5B30.651254%2C%20-91.165147%5D%2C%20%5B37.51083%2C%20-122.25249%5D%2C%20%5B27.0499%2C%20-82.3976%5D%2C%20%5B37.477519%2C%20-77.44404399999998%5D%2C%20%5B44.723292%2C%20-121.190475%5D%2C%20%5B40.289246%2C%20-75.304795%5D%2C%20%5B42.89095%2C%20-123.23857%5D%2C%20%5B33.520842%2C%20-86.828781%5D%2C%20%5B39.960143%2C%20-75.18078%5D%2C%20%5B43.25338%2C%20-123.35972%5D%2C%20%5B34.421640000000004%2C%20-119.61417%5D%2C%20%5B28.535615000000004%2C%20-81.475716%5D%2C%20%5B36.774074%2C%20-119.740858%5D%2C%20%5B30.249455%2C%20-97.852471%5D%2C%20%5B42.942827%2C%20-85.667324%5D%2C%20%5B29.358376%2C%20-94.945848%5D%2C%20%5B40.70036500000001%2C%20-73.815304%5D%2C%20%5B40.727852%2C%20-123.041044%5D%2C%20%5B25.957044%2C%20-80.206941%5D%2C%20%5B39.076356%2C%20-94.605388%5D%2C%20%5B41.88098%2C%20-87.919%5D%2C%20%5B35.804777%2C%20-119.255919%5D%2C%20%5B30.322265%2C%20-82.950874%5D%2C%20%5B38.874855%2C%20-77.47155699999998%5D%2C%20%5B41.585947%2C%20-73.922187%5D%2C%20%5B33.967092%2C%20-118.085003%5D%2C%20%5B26.572953%2C%20-80.1731%5D%2C%20%5B34.034725%2C%20-117.974474%5D%2C%20%5B29.18097%2C%20-81.079554%5D%2C%20%5B33.765846%2C%20-84.386533%5D%2C%20%5B26.20779%2C%20-80.139585%5D%2C%20%5B28.637241%2C%20-81.446795%5D%2C%20%5B30.408140000000003%2C%20-97.675966%5D%2C%20%5B38.872163%2C%20-77.293015%5D%2C%20%5B39.939044%2C%20-105.127697%5D%2C%20%5B35.294306%2C%20-80.74677700000002%5D%2C%20%5B37.76041%2C%20-122.40628999999998%5D%2C%20%5B30.241415000000003%2C%20-82.63428%5D%2C%20%5B33.4876%2C%20-111.92194%5D%2C%20%5B35.97378%2C%20-79.91627%5D%2C%20%5B28.452192%2C%20-81.400388%5D%2C%20%5B40.164998%2C%20-74.927683%5D%2C%20%5B39.953516%2C%20-76.7488%5D%2C%20%5B41.35362%2C%20-81.51196999999998%5D%2C%20%5B30.26183%2C%20-97.738891%5D%2C%20%5B34.742032%2C%20-92.26281%5D%2C%20%5B33.768891%2C%20-84.39046%5D%2C%20%5B25.71537600000001%2C%20-80.431229%5D%2C%20%5B32.411555%2C%20-93.700035%5D%2C%20%5B30.268031%2C%20-97.738977%5D%2C%20%5B45.205124%2C%20-93.39676%5D%2C%20%5B34.845188%2C%20-92.349325%5D%2C%20%5B38.399342%2C%20-121.335091%5D%2C%20%5B38.480369%2C%20-122.996732%5D%2C%20%5B34.586672%2C%20-120.011004%5D%2C%20%5B34.067399%2C%20-117.571285%5D%2C%20%5B40.647923%2C%20-79.26734499999998%5D%2C%20%5B37.434957%2C%20-121.887776%5D%2C%20%5B33.80579%2C%20-118.143071%5D%2C%20%5B34.061661%2C%20-117.190808%5D%2C%20%5B40.352562%2C%20-79.478075%5D%2C%20%5B37.578574%2C%20-92.753974%5D%2C%20%5B35.36367%2C%20-80.7542%5D%2C%20%5B44.83671%2C%20-93.398569%5D%2C%20%5B26.54875800000001%2C%20-81.839259%5D%2C%20%5B32.280196000000004%2C%20-95.305792%5D%2C%20%5B33.861106%2C%20-84.247765%5D%2C%20%5B40.038147%2C%20-82.903051%5D%2C%20%5B33.686411%2C%20-117.332586%5D%2C%20%5B33.907209%2C%20-117.091587%5D%2C%20%5B26.612997%2C%20-81.80174699999998%5D%2C%20%5B40.255207%2C%20-75.720986%5D%2C%20%5B28.732426%2C%20-81.115148%5D%2C%20%5B39.145671%2C%20-75.89824300000002%5D%2C%20%5B38.93952700000001%2C%20-94.563628%5D%2C%20%5B47.75333%2C%20-122.18625%5D%2C%20%5B43.955%2C%20-92.133611%5D%2C%20%5B40.69359%2C%20-111.90287%5D%2C%20%5B35.198405%2C%20-80.81110799999998%5D%2C%20%5B39.28418%2C%20-76.73509200000002%5D%2C%20%5B33.664989%2C%20-117.807348%5D%2C%20%5B44.788753%2C%20-122.58996299999998%5D%2C%20%5B34.035340000000005%2C%20-118.32994%5D%2C%20%5B40.451675%2C%20-79.84383000000003%5D%2C%20%5B34.26632%2C%20-118.47207%5D%2C%20%5B35.873282%2C%20-78.583652%5D%2C%20%5B38.860063%2C%20-77.342678%5D%2C%20%5B30.299085%2C%20-87.427192%5D%2C%20%5B34.156389000000004%2C%20-118.300781%5D%2C%20%5B35.721579%2C%20-78.829926%5D%2C%20%5B30.423256%2C%20-97.681164%5D%2C%20%5B41.78057%2C%20-73.75005999999998%5D%2C%20%5B44.86344%2C%20-123.00828%5D%2C%20%5B45.61019%2C%20-117.60092%5D%2C%20%5B33.688573%2C%20-117.918032%5D%2C%20%5B35.7628%2C%20-78.73343%5D%2C%20%5B33.14191%2C%20-117.10457%5D%2C%20%5B28.547496%2C%20-81.413827%5D%2C%20%5B33.010345%2C%20-117.26478600000002%5D%2C%20%5B38.307321%2C%20-77.631603%5D%2C%20%5B37.929857%2C%20-121.295446%5D%2C%20%5B33.955551%2C%20-118.170508%5D%2C%20%5B39.018273%2C%20-94.692681%5D%2C%20%5B39.201589%2C%20-76.694988%5D%2C%20%5B37.8524%2C%20-122.02907%5D%2C%20%5B33.3401%2C%20-117.133459%5D%2C%20%5B33.674258%2C%20-81.51820500000002%5D%2C%20%5B29.89429%2C%20-90.10006%5D%2C%20%5B29.70625%2C%20-95.24219%5D%2C%20%5B35.093340000000005%2C%20-85.17997%5D%2C%20%5B37.394802%2C%20-120.631511%5D%2C%20%5B32.848201%2C%20-96.915177%5D%2C%20%5B42.307675%2C%20-87.84698%5D%2C%20%5B42.984814%2C%20-85.67544699999998%5D%2C%20%5B35.75828900000001%2C%20-78.664578%5D%2C%20%5B38.530089%2C%20-81.644757%5D%2C%20%5B37.32018%2C%20-122.032401%5D%2C%20%5B40.67133%2C%20-73.80086999999997%5D%2C%20%5B29.974932%2C%20-90.066991%5D%2C%20%5B37.056359%2C%20-121.016196%5D%2C%20%5B35.44245%2C%20-97.53015%5D%2C%20%5B28.069829%2C%20-82.30207%5D%2C%20%5B35.72690700000001%2C%20-78.550574%5D%2C%20%5B35.334683%2C%20-80.718277%5D%2C%20%5B40.630325%2C%20-74.187039%5D%2C%20%5B28.473612%2C%20-81.455179%5D%2C%20%5B32.93987%2C%20-96.7461%5D%2C%20%5B30.484201%2C%20-84.38520799999998%5D%2C%20%5B37.136624%2C%20-121.636986%5D%2C%20%5B47.323306%2C%20-93.936359%5D%2C%20%5B35.756011%2C%20-78.601366%5D%2C%20%5B33.992083%2C%20-117.152667%5D%2C%20%5B41.78562%2C%20-71.42220999999998%5D%2C%20%5B29.61272%2C%20-95.196661%5D%2C%20%5B42.52106%2C%20-83.68875%5D%2C%20%5B33.88501%2C%20-84.25134%5D%2C%20%5B37.74364%2C%20-122.19919%5D%2C%20%5B41.073771%2C%20-74.05159499999998%5D%2C%20%5B33.49799%2C%20-112.419823%5D%2C%20%5B40.64005%2C%20-74.29030999999998%5D%2C%20%5B26.54249%2C%20-80.07197%5D%2C%20%5B40.887583%2C%20-111.896663%5D%2C%20%5B25.689778%2C%20-80.436139%5D%2C%20%5B41.654477%2C%20-85.5999%5D%2C%20%5B30.314061%2C%20-81.662628%5D%2C%20%5B38.810751%2C%20-75.285903%5D%2C%20%5B41.247991%2C%20-85.28303100000002%5D%2C%20%5B30.443515%2C%20-91.138497%5D%2C%20%5B35.16255%2C%20-80.73954%5D%2C%20%5B47.63723%2C%20-122.18676%5D%2C%20%5B30.349313%2C%20-97.530337%5D%2C%20%5B44.180109%2C%20-69.081019%5D%2C%20%5B32.7738%2C%20-96.81164%5D%2C%20%5B30.524483%2C%20-87.274403%5D%2C%20%5B38.55301%2C%20-77.341872%5D%2C%20%5B32.660156%2C%20-117.107741%5D%2C%20%5B34.123645%2C%20-117.913207%5D%2C%20%5B41.498396%2C%20-95.155269%5D%2C%20%5B45.392707%2C%20-112.451945%5D%2C%20%5B33.978167%2C%20-117.337992%5D%2C%20%5B38.669174%2C%20-77.333897%5D%2C%20%5B35.92087%2C%20-80.59442%5D%2C%20%5B37.105017%2C%20-76.49605%5D%2C%20%5B30.309993%2C%20-97.708844%5D%2C%20%5B28.457117%2C%20-81.398972%5D%2C%20%5B34.091702000000005%2C%20-82.598401%5D%2C%20%5B34.049183%2C%20-117.925614%5D%2C%20%5B35.811382%2C%20-78.644645%5D%2C%20%5B38.68572%2C%20-121.332988%5D%2C%20%5B25.899438%2C%20-80.34496%5D%2C%20%5B32.656849%2C%20-96.884189%5D%2C%20%5B27.832305%2C%20-82.716297%5D%2C%20%5B33.911396999999994%2C%20-118.166827%5D%2C%20%5B42.384442%2C%20-123.33821100000002%5D%2C%20%5B37.633665%2C%20-77.458901%5D%2C%20%5B37.754131%2C%20-121.432266%5D%2C%20%5B36.06525%2C%20-80.25925699999998%5D%2C%20%5B32.491768%2C%20-93.751045%5D%2C%20%5B34.207059%2C%20-118.20715%5D%2C%20%5B40.867477%2C%20-72.646118%5D%2C%20%5B26.001252%2C%20-80.218065%5D%2C%20%5B38.042124%2C%20-78.72091400000002%5D%2C%20%5B38.851336%2C%20-110.927206%5D%2C%20%5B25.904062%2C%20-80.185059%5D%2C%20%5B34.082564%2C%20-80.94095300000002%5D%2C%20%5B35.780873%2C%20-82.63309%5D%2C%20%5B40.484801%2C%20-74.400025%5D%2C%20%5B38.050018%2C%20-122.140378%5D%2C%20%5B38.487916%2C%20-121.408895%5D%2C%20%5B26.18131%2C%20-80.218659%5D%2C%20%5B40.7559%2C%20-111.91228%5D%2C%20%5B44.54214%2C%20-88.02869%5D%2C%20%5B38.56858%2C%20-121.3313%5D%2C%20%5B34.066468%2C%20-117.331656%5D%2C%20%5B33.854706%2C%20-117.993694%5D%2C%20%5B42.43923%2C%20-83.0949%5D%2C%20%5B39.98373400000001%2C%20-75.208141%5D%2C%20%5B37.711573%2C%20-122.127391%5D%2C%20%5B39.176843%2C%20-80.341295%5D%2C%20%5B37.561361%2C%20-122.277111%5D%2C%20%5B29.962775%2C%20-90.009973%5D%2C%20%5B34.063178%2C%20-118.251289%5D%2C%20%5B33.776746%2C%20-117.840031%5D%2C%20%5B32.75715%2C%20-117.223556%5D%2C%20%5B33.561741%2C%20-81.941281%5D%2C%20%5B35.441871%2C%20-119.315065%5D%2C%20%5B33.789584999999995%2C%20-118.207759%5D%2C%20%5B35.20805900000001%2C%20-85.170408%5D%2C%20%5B42.635782%2C%20-73.777774%5D%2C%20%5B33.960809999999995%2C%20-118.36946%5D%2C%20%5B39.232835%2C%20-77.285402%5D%2C%20%5B35.4419%2C%20-80.85999%5D%2C%20%5B37.976614%2C%20-122.044817%5D%2C%20%5B45.549769%2C%20-122.678796%5D%2C%20%5B44.832793%2C%20-111.488308%5D%2C%20%5B33.85588%2C%20-118.011242%5D%2C%20%5B33.693696%2C%20-117.106551%5D%2C%20%5B25.888695%2C%20-80.163885%5D%2C%20%5B33.96385%2C%20-118.36992%5D%2C%20%5B36.923234%2C%20-119.794784%5D%2C%20%5B25.69959%2C%20-80.366139%5D%2C%20%5B39.004239%2C%20-77.03689%5D%2C%20%5B37.879078%2C%20-122.532945%5D%2C%20%5B32.257872%2C%20-110.893245%5D%2C%20%5B32.713784999999994%2C%20-117.117892%5D%2C%20%5B42.39199%2C%20-83.00595%5D%2C%20%5B27.547447%2C%20-82.473677%5D%2C%20%5B25.901382%2C%20-80.21007900000002%5D%2C%20%5B28.089269%2C%20-82.459726%5D%2C%20%5B34.06754%2C%20-117.554889%5D%2C%20%5B25.709874%2C%20-80.285596%5D%2C%20%5B47.230415%2C%20-122.450574%5D%2C%20%5B38.559899%2C%20-121.466852%5D%2C%20%5B47.77759%2C%20-122.318633%5D%2C%20%5B26.578846%2C%20-80.069138%5D%2C%20%5B33.928578%2C%20-118.239174%5D%2C%20%5B32.351820000000004%2C%20-80.907891%5D%2C%20%5B29.953466%2C%20-90.134085%5D%2C%20%5B34.074746999999995%2C%20-118.883612%5D%2C%20%5B25.718082%2C%20-80.318502%5D%2C%20%5B39.04164%2C%20-120.97372%5D%2C%20%5B29.833967%2C%20-95.425911%5D%2C%20%5B30.602438%2C%20-87.073636%5D%2C%20%5B40.765597%2C%20-73.717596%5D%2C%20%5B25.688931%2C%20-80.306726%5D%2C%20%5B37.660328%2C%20-120.875326%5D%2C%20%5B35.734688%2C%20-78.588291%5D%2C%20%5B39.161544%2C%20-75.51357800000002%5D%2C%20%5B34.988440000000004%2C%20-85.47029599999998%5D%2C%20%5B41.36978%2C%20-75.689524%5D%2C%20%5B38.876933%2C%20-94.525934%5D%2C%20%5B34.344517%2C%20-117.920952%5D%2C%20%5B34.182282%2C%20-118.150727%5D%2C%20%5B39.376791%2C%20-106.193729%5D%2C%20%5B27.748356%2C%20-82.68175699999998%5D%2C%20%5B41.884791%2C%20-72.798959%5D%2C%20%5B41.87553%2C%20-87.63363000000004%5D%2C%20%5B30.381421000000003%2C%20-91.096375%5D%2C%20%5B37.641063%2C%20-120.46059%5D%2C%20%5B38.751764%2C%20-121.358475%5D%2C%20%5B25.822556%2C%20-80.236671%5D%2C%20%5B42.731955%2C%20-73.849211%5D%2C%20%5B27.338647%2C%20-82.528263%5D%2C%20%5B41.146059%2C%20-73.259893%5D%2C%20%5B39.992232%2C%20-83.02493%5D%2C%20%5B34.142466%2C%20-80.91272%5D%2C%20%5B29.703408000000003%2C%20-95.614864%5D%2C%20%5B33.95943%2C%20-117.54902%5D%2C%20%5B27.946139%2C%20-82.328935%5D%2C%20%5B37.578252%2C%20-122.047194%5D%2C%20%5B34.0238%2C%20-118.24385%5D%2C%20%5B29.96469500000001%2C%20-90.088258%5D%2C%20%5B38.741751%2C%20-121.271649%5D%2C%20%5B38.443559%2C%20-121.404207%5D%2C%20%5B35.080105%2C%20-90.07078299999998%5D%2C%20%5B38.44066%2C%20-122.72054%5D%2C%20%5B40.430129%2C%20-74.18679300000002%5D%2C%20%5B33.820274%2C%20-118.193161%5D%2C%20%5B35.64907%2C%20-78.846148%5D%2C%20%5B33.683041%2C%20-112.112592%5D%2C%20%5B37.155901%2C%20-121.655141%5D%2C%20%5B25.838051%2C%20-80.241547%5D%2C%20%5B38.83572%2C%20-77.09959%5D%2C%20%5B37.71072%2C%20-113.069%5D%2C%20%5B40.073019%2C%20-105.208899%5D%2C%20%5B35.148053000000004%2C%20-80.829296%5D%2C%20%5B28.452192%2C%20-81.400388%5D%2C%20%5B27.462222%2C%20-82.270413%5D%2C%20%5B37.60289%2C%20-77.356662%5D%2C%20%5B43.2988%2C%20-119.76699%5D%2C%20%5B43.1999%2C%20-124.235713%5D%2C%20%5B33.97862%2C%20-117.702273%5D%2C%20%5B42.518538%2C%20-83.645256%5D%2C%20%5B35.013178%2C%20-85.228796%5D%2C%20%5B36.229765%2C%20-86.732996%5D%2C%20%5B32.76789%2C%20-96.87344%5D%2C%20%5B34.09718%2C%20-80.856199%5D%2C%20%5B33.88885%2C%20-118.358285%5D%2C%20%5B45.58856%2C%20-117.9983%5D%2C%20%5B39.428538%2C%20-76.372399%5D%2C%20%5B45.434356%2C%20-123.824769%5D%2C%20%5B30.457604%2C%20-81.63615899999998%5D%2C%20%5B29.94591%2C%20-90.31673%5D%2C%20%5B34.18238%2C%20-118.31484%5D%2C%20%5B40.79694%2C%20-74.29744000000002%5D%2C%20%5B37.14944000000001%2C%20-120.491986%5D%2C%20%5B29.641544%2C%20-95.578653%5D%2C%20%5B43.31855%2C%20-70.99549%5D%2C%20%5B28.187848%2C%20-82.743652%5D%2C%20%5B36.789556%2C%20-121.667607%5D%2C%20%5B33.965226%2C%20-118.165048%5D%2C%20%5B29.87280100000001%2C%20-95.30069%5D%2C%20%5B34.02366%2C%20-117.74941499999998%5D%2C%20%5B35.052244%2C%20-85.149898%5D%2C%20%5B45.280398%2C%20-119.632519%5D%2C%20%5B40.78406500000001%2C%20-73.65218399999998%5D%2C%20%5B39.752403%2C%20-77.378287%5D%2C%20%5B34.045344%2C%20-117.6939%5D%2C%20%5B32.46689600000001%2C%20-93.763046%5D%2C%20%5B40.07213%2C%20-75.436612%5D%2C%20%5B45.554653%2C%20-93.104259%5D%2C%20%5B33.40159%2C%20-111.8913%5D%2C%20%5B42.202343%2C%20-122.719088%5D%2C%20%5B34.091578000000005%2C%20-80.934674%5D%2C%20%5B34.140725%2C%20-118.709716%5D%2C%20%5B36.065062%2C%20-86.685789%5D%2C%20%5B41.17792%2C%20-75.082029%5D%2C%20%5B38.798357%2C%20-77.007733%5D%2C%20%5B44.950271%2C%20-93.005501%5D%2C%20%5B40.071767%2C%20-75.28501700000002%5D%2C%20%5B43.024219%2C%20-83.68626400000002%5D%2C%20%5B45.431331%2C%20-118.360615%5D%2C%20%5B41.73148%2C%20-87.62443%5D%2C%20%5B38.678699%2C%20-121.340691%5D%2C%20%5B34.893929%2C%20-82.459334%5D%2C%20%5B32.801459%2C%20-97.220868%5D%2C%20%5B39.088121%2C%20-76.625164%5D%2C%20%5B40.76756%2C%20-74.021513%5D%2C%20%5B40.779688%2C%20-73.662131%5D%2C%20%5B25.751702%2C%20-80.335874%5D%2C%20%5B37.32316%2C%20-121.939343%5D%2C%20%5B38.764627%2C%20-77.182837%5D%2C%20%5B31.67419000000001%2C%20-106.32999%5D%2C%20%5B32.2104%2C%20-110.772811%5D%2C%20%5B29.790727%2C%20-95.55877%5D%2C%20%5B47.642788%2C%20-122.317396%5D%2C%20%5B38.659287%2C%20-121.076311%5D%2C%20%5B34.507729%2C%20-117.322972%5D%2C%20%5B35.20985%2C%20-80.75718%5D%2C%20%5B37.20495%2C%20-93.34937%5D%2C%20%5B33.809589%2C%20-117.504601%5D%2C%20%5B25.953955%2C%20-80.205499%5D%2C%20%5B26.36321%2C%20-80.11973%5D%2C%20%5B38.87033%2C%20-77.30082%5D%2C%20%5B26.394277%2C%20-80.093561%5D%2C%20%5B39.747502%2C%20-105.251215%5D%2C%20%5B42.48953%2C%20-83.28806%5D%2C%20%5B41.035821%2C%20-73.593738%5D%2C%20%5B33.782753%2C%20-117.213957%5D%2C%20%5B33.463658%2C%20-112.272475%5D%2C%20%5B26.546090000000003%2C%20-81.604567%5D%2C%20%5B32.747383%2C%20-96.763694%5D%2C%20%5B39.26352%2C%20-78.0928%5D%2C%20%5B42.10721%2C%20-122.61258%5D%2C%20%5B28.57991%2C%20-81.37518%5D%2C%20%5B44.10931%2C%20-121.29516%5D%2C%20%5B42.34516%2C%20-87.89489%5D%2C%20%5B40.890547%2C%20-74.701768%5D%2C%20%5B35.068644%2C%20-81.758962%5D%2C%20%5B40.346315%2C%20-78.404667%5D%2C%20%5B45.898898%2C%20-123.653658%5D%2C%20%5B35.088176000000004%2C%20-85.215076%5D%2C%20%5B38.939554%2C%20-77.548947%5D%2C%20%5B30.223191%2C%20-97.747259%5D%2C%20%5B35.897125%2C%20-78.574348%5D%2C%20%5B41.327552%2C%20-73.580822%5D%2C%20%5B34.7137%2C%20-82.49864000000002%5D%2C%20%5B45.17347%2C%20-93.39209%5D%2C%20%5B36.166254%2C%20-95.955284%5D%2C%20%5B28.81148%2C%20-82.08887%5D%2C%20%5B41.287774%2C%20-72.601061%5D%2C%20%5B37.566146%2C%20-77.453835%5D%2C%20%5B28.190047%2C%20-82.56822700000002%5D%2C%20%5B35.060357%2C%20-85.158609%5D%2C%20%5B43.670189%2C%20-94.347609%5D%2C%20%5B37.822762%2C%20-122.268937%5D%2C%20%5B35.352222%2C%20-118.949444%5D%2C%20%5B32.843018%2C%20-117.275909%5D%2C%20%5B33.929611%2C%20-79.12603399999998%5D%2C%20%5B32.702061%2C%20-96.565536%5D%2C%20%5B34.962634%2C%20-90.046864%5D%2C%20%5B37.325981%2C%20-122.05086%5D%2C%20%5B40.727422%2C%20-113.266303%5D%2C%20%5B28.53616400000001%2C%20-81.416258%5D%2C%20%5B34.032007%2C%20-117.327128%5D%2C%20%5B37.217047%2C%20-121.081623%5D%2C%20%5B32.640163%2C%20-117.090793%5D%2C%20%5B44.65912%2C%20-93.00605%5D%2C%20%5B30.413969%2C%20-91.06812%5D%2C%20%5B43.330163%2C%20-73.67250200000002%5D%2C%20%5B33.644518%2C%20-78.985871%5D%2C%20%5B27.696528000000004%2C%20-80.89664%5D%2C%20%5B38.652947%2C%20-77.282036%5D%2C%20%5B45.51557%2C%20-122.79831%5D%2C%20%5B42.370331%2C%20-87.86539599999998%5D%2C%20%5B45.3943%2C%20-122.42329%5D%2C%20%5B37.703998%2C%20-121.871951%5D%2C%20%5B34.138577000000005%2C%20-117.252136%5D%2C%20%5B39.18492%2C%20-94.59638%5D%2C%20%5B34.139509999999994%2C%20-80.96465699999997%5D%2C%20%5B38.881784%2C%20-77.060197%5D%2C%20%5B39.318873%2C%20-120.562481%5D%2C%20%5B45.52785%2C%20-122.56467%5D%2C%20%5B32.685282%2C%20-96.747157%5D%2C%20%5B33.712998%2C%20-117.799893%5D%2C%20%5B29.785115%2C%20-95.738138%5D%2C%20%5B43.80869000000001%2C%20-93.28943%5D%2C%20%5B38.406859%2C%20-78.972726%5D%2C%20%5B45.141609%2C%20-93.497031%5D%2C%20%5B28.037017%2C%20-82.086702%5D%2C%20%5B45.90061%2C%20-92.966963%5D%2C%20%5B25.787517%2C%20-80.320904%5D%2C%20%5B44.820702%2C%20-93.053264%5D%2C%20%5B36.79391%2C%20-76.213349%5D%2C%20%5B37.824437%2C%20-122.310078%5D%2C%20%5B25.700047%2C%20-80.413232%5D%2C%20%5B42.354623%2C%20-83.074053%5D%2C%20%5B32.30886%2C%20-110.84441%5D%2C%20%5B38.476147%2C%20-121.424954%5D%2C%20%5B42.906175%2C%20-85.627277%5D%2C%20%5B41.10443400000001%2C%20-73.563047%5D%2C%20%5B34.195951%2C%20-79.37161%5D%2C%20%5B37.03027%2C%20-76.335756%5D%2C%20%5B37.82692%2C%20-122.28615%5D%2C%20%5B27.048911%2C%20-82.397476%5D%2C%20%5B29.261189%2C%20-81.117628%5D%2C%20%5B36.757669%2C%20-76.291177%5D%2C%20%5B37.793194%2C%20-122.26368%5D%2C%20%5B38.47535300000001%2C%20-121.423849%5D%2C%20%5B35.873225%2C%20-84.464682%5D%2C%20%5B28.326175%2C%20-81.41599699999998%5D%2C%20%5B38.553589%2C%20-121.690632%5D%2C%20%5B40.709227%2C%20-74.162253%5D%2C%20%5B34.119834000000004%2C%20-117.817246%5D%2C%20%5B32.870020000000004%2C%20-96.67203%5D%2C%20%5B34.07255%2C%20-117.614323%5D%2C%20%5B35.153442%2C%20-80.849949%5D%2C%20%5B36.962353%2C%20-120.063486%5D%2C%20%5B38.927146%2C%20-77.513469%5D%2C%20%5B33.5814%2C%20-84.51745%5D%2C%20%5B44.978915%2C%20-92.959794%5D%2C%20%5B43.478377%2C%20-76.35679300000002%5D%2C%20%5B43.784694%2C%20-117.055448%5D%2C%20%5B39.415656%2C%20-76.65896500000002%5D%2C%20%5B38.87033%2C%20-77.30082%5D%2C%20%5B35.46424000000001%2C%20-97.63667%5D%2C%20%5B35.087805%2C%20-80.87450600000003%5D%2C%20%5B41.62985%2C%20-72.690064%5D%2C%20%5B40.735227%2C%20-73.91850500000002%5D%2C%20%5B32.90153%2C%20-96.8979%5D%2C%20%5B42.68416%2C%20-73.72097%5D%2C%20%5B38.513339%2C%20-121.45189%5D%2C%20%5B25.796793%2C%20-80.335226%5D%2C%20%5B25.717202%2C%20-80.382762%5D%2C%20%5B32.450069%2C%20-87.78858699999998%5D%2C%20%5B37.614252%2C%20-122.39699%5D%2C%20%5B40.09946400000001%2C%20-85.569216%5D%2C%20%5B33.695753%2C%20-117.693276%5D%2C%20%5B42.16221%2C%20-123.64695%5D%2C%20%5B40.845879%2C%20-73.929726%5D%2C%20%5B26.391325%2C%20-80.097306%5D%2C%20%5B34.068028000000005%2C%20-117.60353%5D%2C%20%5B39.81725%2C%20-75.478491%5D%2C%20%5B44.439193%2C%20-117.324231%5D%2C%20%5B29.932236%2C%20-90.089992%5D%2C%20%5B41.732045%2C%20-96.501957%5D%2C%20%5B33.610983000000004%2C%20-114.553479%5D%2C%20%5B43.974701%2C%20-124.101965%5D%2C%20%5B40.851449%2C%20-73.952134%5D%2C%20%5B45.412275%2C%20-122.573021%5D%2C%20%5B37.71412700000001%2C%20-122.451136%5D%2C%20%5B41.600414%2C%20-90.633546%5D%2C%20%5B34.39108%2C%20-82.053011%5D%2C%20%5B45.537171%2C%20-122.66874%5D%2C%20%5B47.588867%2C%20-122.179801%5D%2C%20%5B28.64997%2C%20-81.80324%5D%2C%20%5B35.084184%2C%20-90.075005%5D%2C%20%5B33.231254%2C%20-80.443598%5D%2C%20%5B43.223978%2C%20-75.850574%5D%2C%20%5B38.823936%2C%20-121.52535%5D%2C%20%5B31.7697%2C%20-106.37321%5D%2C%20%5B32.847307%2C%20-117.182375%5D%2C%20%5B39.375203000000006%2C%20-76.749597%5D%2C%20%5B34.98291%2C%20-118.94408%5D%2C%20%5B45.107619%2C%20-93.301151%5D%2C%20%5B47.97673%2C%20-122.19069%5D%2C%20%5B39.05584%2C%20-94.49347%5D%2C%20%5B29.784593%2C%20-95.646552%5D%2C%20%5B40.370026%2C%20-111.555291%5D%2C%20%5B33.429256%2C%20-86.708605%5D%2C%20%5B40.28724%2C%20-74.756523%5D%2C%20%5B44.234647%2C%20-123.060602%5D%2C%20%5B37.573914%2C%20-122.262001%5D%2C%20%5B38.995403%2C%20-77.158237%5D%2C%20%5B39.9678%2C%20-85.98849799999998%5D%2C%20%5B25.701818%2C%20-80.347246%5D%2C%20%5B34.800835%2C%20-91.745184%5D%2C%20%5B34.154792%2C%20-117.473424%5D%2C%20%5B27.960595%2C%20-82.72573299999998%5D%2C%20%5B36.342615%2C%20-119.690729%5D%2C%20%5B40.119227%2C%20-111.638571%5D%2C%20%5B45.511432%2C%20-122.705537%5D%2C%20%5B40.73692%2C%20-73.853449%5D%2C%20%5B36.755201%2C%20-119.82852%5D%2C%20%5B37.3609%2C%20-121.91617%5D%2C%20%5B33.788827000000005%2C%20-117.88653%5D%2C%20%5B38.173131%2C%20-121.664352%5D%2C%20%5B46.003962%2C%20-94.39331%5D%2C%20%5B25.984733%2C%20-80.171196%5D%2C%20%5B40.58915%2C%20-75.56451%5D%2C%20%5B25.81314%2C%20-80.32155%5D%2C%20%5B30.164566%2C%20-81.746802%5D%2C%20%5B41.613668%2C%20-122.368115%5D%2C%20%5B39.149854%2C%20-94.654157%5D%2C%20%5B42.214311%2C%20-121.442881%5D%2C%20%5B39.6001%2C%20-77.83166999999997%5D%2C%20%5B44.1092%2C%20-121.31033%5D%2C%20%5B33.436122%2C%20-111.907287%5D%2C%20%5B43.888734%2C%20-92.487926%5D%2C%20%5B34.98069%2C%20-92.03307%5D%2C%20%5B42.580071%2C%20-73.67886999999997%5D%2C%20%5B29.625524%2C%20-95.284064%5D%2C%20%5B44.96869%2C%20-93.341899%5D%2C%20%5B34.134789000000005%2C%20-117.656224%5D%2C%20%5B33.738732%2C%20-117.092303%5D%2C%20%5B37.152968%2C%20-121.65229%5D%2C%20%5B34.033404%2C%20-118.033271%5D%2C%20%5B33.687905%2C%20-117.871799%5D%2C%20%5B40.113929%2C%20-75.761718%5D%2C%20%5B32.769395%2C%20-96.777459%5D%2C%20%5B40.22264000000001%2C%20-76.0966%5D%2C%20%5B37.665778%2C%20-122.39646%5D%2C%20%5B41.294173%2C%20-122.32243%5D%2C%20%5B39.104493%2C%20-75.454219%5D%2C%20%5B34.020307%2C%20-118.192267%5D%2C%20%5B33.774562%2C%20-118.07433600000002%5D%2C%20%5B33.988832%2C%20-118.385918%5D%2C%20%5B34.785558%2C%20-80.796525%5D%2C%20%5B41.20245300000001%2C%20-73.19279499999998%5D%2C%20%5B34.265852%2C%20-118.46612%5D%2C%20%5B32.80631%2C%20-96.66302%5D%2C%20%5B36.11056%2C%20-86.740249%5D%2C%20%5B33.85345%2C%20-118.28046%5D%2C%20%5B35.031932%2C%20-82.12483399999998%5D%2C%20%5B33.69879%2C%20-117.93577%5D%2C%20%5B38.31172%2C%20-85.58785%5D%2C%20%5B47.617376%2C%20-122.343693%5D%2C%20%5B28.59816%2C%20-81.24971%5D%2C%20%5B42.350147%2C%20-87.85579%5D%2C%20%5B35.23831%2C%20-80.89713%5D%2C%20%5B35.02409%2C%20-85.277679%5D%2C%20%5B37.37434%2C%20-121.9308%5D%2C%20%5B38.689759%2C%20-121.540256%5D%2C%20%5B34.024031%2C%20-117.770929%5D%2C%20%5B33.968969%2C%20-118.11421%5D%2C%20%5B42.66965%2C%20-73.73751%5D%2C%20%5B40.664895%2C%20-73.996599%5D%2C%20%5B38.922069%2C%20-104.719715%5D%2C%20%5B33.999201%2C%20-118.175713%5D%2C%20%5B34.145665%2C%20-117.291877%5D%2C%20%5B37.441703%2C%20-121.889973%5D%2C%20%5B32.488712%2C%20-80.970649%5D%2C%20%5B34.87088%2C%20-82.42997%5D%2C%20%5B34.03528%2C%20-118.27471%5D%2C%20%5B28.332582%2C%20-81.584687%5D%2C%20%5B40.855524%2C%20-74.04616700000003%5D%2C%20%5B25.870868%2C%20-80.240581%5D%2C%20%5B40.692841%2C%20-74.11010999999998%5D%2C%20%5B30.457637%2C%20-84.253198%5D%2C%20%5B38.920288%2C%20-77.216437%5D%2C%20%5B34.068314%2C%20-117.380018%5D%2C%20%5B33.99427%2C%20-117.908642%5D%2C%20%5B44.952031%2C%20-93.065925%5D%2C%20%5B35.614489%2C%20-119.922949%5D%2C%20%5B27.938221%2C%20-81.073876%5D%2C%20%5B34.009369%2C%20-117.824002%5D%2C%20%5B42.52561%2C%20-70.97211999999998%5D%2C%20%5B25.899671%2C%20-80.181294%5D%2C%20%5B28.279273%2C%20-81.33256899999998%5D%2C%20%5B26.09254%2C%20-80.22421700000002%5D%2C%20%5B38.837644%2C%20-77.405116%5D%2C%20%5B38.168151%2C%20-77.50470200000002%5D%2C%20%5B40.72049000000001%2C%20-111.54472%5D%2C%20%5B38.7732%2C%20-90.313024%5D%2C%20%5B38.173934%2C%20-78.28483%5D%2C%20%5B28.198413%2C%20-82.739739%5D%2C%20%5B30.602848%2C%20-87.098587%5D%2C%20%5B40.233498%2C%20-79.227131%5D%2C%20%5B29.702275%2C%20-95.609425%5D%2C%20%5B30.597477%2C%20-87.16592299999998%5D%2C%20%5B44.419527%2C%20-93.292408%5D%2C%20%5B38.039596%2C%20-122.537038%5D%2C%20%5B33.93455%2C%20-118.3677%5D%2C%20%5B34.233058%2C%20-79.686094%5D%2C%20%5B33.933471000000004%2C%20-118.353479%5D%2C%20%5B42.302617%2C%20-87.983549%5D%2C%20%5B39.767512%2C%20-84.194014%5D%2C%20%5B33.868204%2C%20-117.728317%5D%2C%20%5B41.97879%2C%20-88.27476999999998%5D%2C%20%5B48.188671%2C%20-114.121053%5D%2C%20%5B33.992756%2C%20-118.067275%5D%2C%20%5B26.289824%2C%20-80.123765%5D%2C%20%5B44.964783%2C%20-93.229247%5D%2C%20%5B39.35351%2C%20-85.942429%5D%2C%20%5B32.90287%2C%20-96.72197%5D%2C%20%5B42.723138%2C%20-73.55579200000003%5D%2C%20%5B33.93913%2C%20-118.097815%5D%2C%20%5B33.86937%2C%20-117.75076%5D%2C%20%5B34.191576%2C%20-117.424273%5D%2C%20%5B34.043144%2C%20-118.272534%5D%2C%20%5B33.68527%2C%20-84.40428%5D%2C%20%5B29.78475%2C%20-95.68309%5D%2C%20%5B43.024832%2C%20-78.976775%5D%2C%20%5B38.34401%2C%20-122.71288%5D%2C%20%5B36.840567%2C%20-119.92783500000002%5D%2C%20%5B37.903896%2C%20-122.569642%5D%2C%20%5B34.758525%2C%20-82.833815%5D%2C%20%5B39.06176%2C%20-94.48862%5D%2C%20%5B34.272036%2C%20-118.42843899999998%5D%2C%20%5B32.78367%2C%20-96.80846%5D%2C%20%5B42.717643%2C%20-73.87478399999998%5D%2C%20%5B25.96702%2C%20-80.165701%5D%2C%20%5B44.387158%2C%20-94.042968%5D%2C%20%5B42.21998%2C%20-71.03589000000002%5D%2C%20%5B29.85929%2C%20-95.362853%5D%2C%20%5B26.148656%2C%20-80.256332%5D%2C%20%5B39.146402%2C%20-94.666674%5D%2C%20%5B34.034646%2C%20-118.437309%5D%2C%20%5B29.730453000000004%2C%20-95.418935%5D%2C%20%5B39.13917100000001%2C%20-120.926494%5D%2C%20%5B37.944977%2C%20-122.488721%5D%2C%20%5B34.149595%2C%20-118.154793%5D%2C%20%5B26.003404%2C%20-80.338994%5D%2C%20%5B34.387974%2C%20-94.387195%5D%2C%20%5B34.239498%2C%20-117.429155%5D%2C%20%5B41.734303%2C%20-72.624553%5D%2C%20%5B42.367583%2C%20-73.844894%5D%2C%20%5B32.442212%2C%20-93.86193%5D%2C%20%5B38.796839%2C%20-77.133071%5D%2C%20%5B39.498392%2C%20-77.954832%5D%2C%20%5B39.397823%2C%20-77.408242%5D%2C%20%5B39.384763%2C%20-76.662214%5D%2C%20%5B33.866440000000004%2C%20-117.71661%5D%2C%20%5B33.488132%2C%20-112.289149%5D%2C%20%5B34.030635%2C%20-117.328699%5D%5D%2C%0A%20%20%20%20%20%20%20%20%20%20%20%20%20%20%20%20%7B%0A%20%20%20%20%20%20%20%20%20%20%20%20%20%20%20%20%20%20%20%20minOpacity%3A%200.5%2C%0A%20%20%20%20%20%20%20%20%20%20%20%20%20%20%20%20%20%20%20%20maxZoom%3A%2018%2C%0A%20%20%20%20%20%20%20%20%20%20%20%20%20%20%20%20%20%20%20%20max%3A%201.0%2C%0A%20%20%20%20%20%20%20%20%20%20%20%20%20%20%20%20%20%20%20%20radius%3A%2025%2C%0A%20%20%20%20%20%20%20%20%20%20%20%20%20%20%20%20%20%20%20%20blur%3A%2015%2C%0A%20%20%20%20%20%20%20%20%20%20%20%20%20%20%20%20%20%20%20%20gradient%3A%20null%0A%20%20%20%20%20%20%20%20%20%20%20%20%20%20%20%20%20%20%20%20%7D%29%0A%20%20%20%20%20%20%20%20%20%20%20%20%20%20%20%20.addTo%28map_65ba660fa2c74a39a9d697b10891b4ce%29%3B%0A%20%20%20%20%20%20%20%20%0A%3C/script%3E onload=\"this.contentDocument.open();this.contentDocument.write(    decodeURIComponent(this.getAttribute('data-html')));this.contentDocument.close();\" allowfullscreen webkitallowfullscreen mozallowfullscreen></iframe></div></div>"
            ]
          },
          "metadata": {},
          "execution_count": 77
        }
      ]
    },
    {
      "cell_type": "code",
      "source": [
        ""
      ],
      "metadata": {
        "id": "KZyElER5TlrT"
      },
      "execution_count": 35,
      "outputs": []
    },
    {
      "cell_type": "code",
      "source": [
        ""
      ],
      "metadata": {
        "id": "3qntlGH6TK2-"
      },
      "execution_count": 35,
      "outputs": []
    },
    {
      "cell_type": "code",
      "source": [
        ""
      ],
      "metadata": {
        "id": "9aX8nxVp87q1"
      },
      "execution_count": null,
      "outputs": []
    },
    {
      "cell_type": "markdown",
      "metadata": {
        "id": "WtJl-gEPI6N2"
      },
      "source": [
        "## Ask & Questions\n",
        "\n",
        "1. Are there more accidents in warmer or colder areas?\n",
        "2. Which 5 states has the highest number of accidents? How about per capita?\n",
        "3. Does New York ahop up in the data? If yes, why is the count lower if this the most populated city.\n",
        "4. Among the top 100 cities in number of accidents, which states do they belong to most frequently.\n",
        "5. What time of the day are accidents most frequent in? - ANSWERED\n",
        "6. Which days of the week have the most accidents?\n",
        "7. Which months have the most accidents?\n",
        "8. What is the trend of accidents yoer over year (decreasing/increasing?)\n",
        "9. When is accident per unit the highest? \n"
      ]
    },
    {
      "cell_type": "code",
      "execution_count": 35,
      "metadata": {
        "id": "P0Y4gnC5I5lE"
      },
      "outputs": [],
      "source": [
        ""
      ]
    },
    {
      "cell_type": "code",
      "execution_count": 35,
      "metadata": {
        "id": "wbNnpo7PI5mC"
      },
      "outputs": [],
      "source": [
        ""
      ]
    },
    {
      "cell_type": "code",
      "execution_count": 35,
      "metadata": {
        "id": "K4moRxdfI5oI"
      },
      "outputs": [],
      "source": [
        ""
      ]
    },
    {
      "cell_type": "code",
      "execution_count": 35,
      "metadata": {
        "id": "51nIMEeiIirl"
      },
      "outputs": [],
      "source": [
        ""
      ]
    },
    {
      "cell_type": "markdown",
      "source": [
        "## Summary and Conclusion \n",
        "\n",
        "Insights:\n",
        "- No data for New York.\n",
        "- The number of accodents per city decreases  exponentialy.\n",
        "- Less then 5% of cities have more than 1000 yearly accidents.\n",
        "- Over 1200 cities have reported just one accident (need to investigate)."
      ],
      "metadata": {
        "id": "oAjUdjyl8ulC"
      }
    },
    {
      "cell_type": "markdown",
      "metadata": {
        "id": "jMfysU4lHcsa"
      },
      "source": [
        "# us-accidents-analysis\n",
        "\n",
        "Use the \"Run\" button to execute the code."
      ]
    }
  ],
  "metadata": {
    "colab": {
      "collapsed_sections": [],
      "name": "us-accidents-analysis.ipynb",
      "provenance": [],
      "include_colab_link": true
    },
    "kernelspec": {
      "display_name": "Python 3",
      "language": "python",
      "name": "python3"
    },
    "language_info": {
      "codemirror_mode": {
        "name": "ipython",
        "version": 3
      },
      "file_extension": ".py",
      "mimetype": "text/x-python",
      "name": "python",
      "nbconvert_exporter": "python",
      "pygments_lexer": "ipython3",
      "version": "3.7.6"
    }
  },
  "nbformat": 4,
  "nbformat_minor": 0
}