{
  "cells": [
    {
      "cell_type": "markdown",
      "metadata": {
        "id": "view-in-github",
        "colab_type": "text"
      },
      "source": [
        "<a href=\"https://colab.research.google.com/github/matthewmachnowski/us-accidents-analysis/blob/main/us_accidents_analysis.ipynb\" target=\"_parent\"><img src=\"https://colab.research.google.com/assets/colab-badge.svg\" alt=\"Open In Colab\"/></a>"
      ]
    },
    {
      "cell_type": "markdown",
      "metadata": {
        "id": "OWweIPA6IE4F"
      },
      "source": [
        "# US Accidents Exploratory Data Analysis\n",
        "\n",
        "TODO - talk about EDA\n",
        "\n",
        "TODO - talk about the dataset (sourse, what it contains, how it will be useful)\n",
        "  - Kaggle\n",
        "  - information about accidents \n",
        "  - can use useful to prevent accidents\n",
        "  - mention that this does not contain data about New York"
      ]
    },
    {
      "cell_type": "code",
      "execution_count": 4,
      "metadata": {
        "id": "Mv2tLrwDIiFA"
      },
      "outputs": [],
      "source": [
        "pip install opendatasets --upgrade --quiet"
      ]
    },
    {
      "cell_type": "code",
      "execution_count": 5,
      "metadata": {
        "id": "x1GdPHS2fI7q",
        "colab": {
          "base_uri": "https://localhost:8080/"
        },
        "outputId": "12ff049f-fff7-4b28-d332-967cab348c89"
      },
      "outputs": [
        {
          "output_type": "stream",
          "name": "stdout",
          "text": [
            "Skipping, found downloaded files in \"./us-accidents\" (use force=True to force download)\n"
          ]
        }
      ],
      "source": [
        "import opendatasets as od\n",
        "\n",
        "download_url = 'https://www.kaggle.com/sobhanmoosavi/us-accidents'\n",
        "\n",
        "od.download(download_url)"
      ]
    },
    {
      "cell_type": "code",
      "source": [
        "data_filename = './us-accidents/US_Accidents_Dec21_updated.csv'"
      ],
      "metadata": {
        "id": "nJPIDrMI0jIF"
      },
      "execution_count": 6,
      "outputs": []
    },
    {
      "cell_type": "markdown",
      "metadata": {
        "id": "iHC8oSgoIsCr"
      },
      "source": [
        "## Data Preparation and Cleaning\n",
        "\n",
        "1. Load the file using Pandas\n",
        "2. Look at some information about the data & the columns\n",
        "3. Fix any missing or incorret values"
      ]
    },
    {
      "cell_type": "code",
      "execution_count": 7,
      "metadata": {
        "id": "F5Gdkru0IiYS"
      },
      "outputs": [],
      "source": [
        "import pandas as pd"
      ]
    },
    {
      "cell_type": "code",
      "execution_count": 8,
      "metadata": {
        "id": "VY5Y6w7ZIiez"
      },
      "outputs": [],
      "source": [
        "df = pd.read_csv(data_filename)"
      ]
    },
    {
      "cell_type": "code",
      "execution_count": 9,
      "metadata": {
        "id": "Us-yY2FPIihW",
        "colab": {
          "base_uri": "https://localhost:8080/",
          "height": 939
        },
        "outputId": "fdf07a69-7d7f-4d3c-f1e6-f2bddb7a10dc"
      },
      "outputs": [
        {
          "output_type": "execute_result",
          "data": {
            "text/plain": [
              "                ID  Severity           Start_Time             End_Time  \\\n",
              "0              A-1         3  2016-02-08 00:37:08  2016-02-08 06:37:08   \n",
              "1              A-2         2  2016-02-08 05:56:20  2016-02-08 11:56:20   \n",
              "2              A-3         2  2016-02-08 06:15:39  2016-02-08 12:15:39   \n",
              "3              A-4         2  2016-02-08 06:51:45  2016-02-08 12:51:45   \n",
              "4              A-5         3  2016-02-08 07:53:43  2016-02-08 13:53:43   \n",
              "...            ...       ...                  ...                  ...   \n",
              "2845337  A-2845338         2  2019-08-23 18:03:25  2019-08-23 18:32:01   \n",
              "2845338  A-2845339         2  2019-08-23 19:11:30  2019-08-23 19:38:23   \n",
              "2845339  A-2845340         2  2019-08-23 19:00:21  2019-08-23 19:28:49   \n",
              "2845340  A-2845341         2  2019-08-23 19:00:21  2019-08-23 19:29:42   \n",
              "2845341  A-2845342         2  2019-08-23 18:52:06  2019-08-23 19:21:31   \n",
              "\n",
              "         Start_Lat   Start_Lng    End_Lat     End_Lng  Distance(mi)  \\\n",
              "0        40.108910  -83.092860  40.112060  -83.031870         3.230   \n",
              "1        39.865420  -84.062800  39.865010  -84.048730         0.747   \n",
              "2        39.102660  -84.524680  39.102090  -84.523960         0.055   \n",
              "3        41.062130  -81.537840  41.062170  -81.535470         0.123   \n",
              "4        39.172393  -84.492792  39.170476  -84.501798         0.500   \n",
              "...            ...         ...        ...         ...           ...   \n",
              "2845337  34.002480 -117.379360  33.998880 -117.370940         0.543   \n",
              "2845338  32.766960 -117.148060  32.765550 -117.153630         0.338   \n",
              "2845339  33.775450 -117.847790  33.777400 -117.857270         0.561   \n",
              "2845340  33.992460 -118.403020  33.983110 -118.395650         0.772   \n",
              "2845341  34.133930 -117.230920  34.137360 -117.239340         0.537   \n",
              "\n",
              "                                               Description  ...  Roundabout  \\\n",
              "0        Between Sawmill Rd/Exit 20 and OH-315/Olentang...  ...       False   \n",
              "1                       At OH-4/OH-235/Exit 41 - Accident.  ...       False   \n",
              "2                         At I-71/US-50/Exit 1 - Accident.  ...       False   \n",
              "3                          At Dart Ave/Exit 21 - Accident.  ...       False   \n",
              "4                       At Mitchell Ave/Exit 6 - Accident.  ...       False   \n",
              "...                                                    ...  ...         ...   \n",
              "2845337                           At Market St - Accident.  ...       False   \n",
              "2845338    At Camino Del Rio/Mission Center Rd - Accident.  ...       False   \n",
              "2845339  At Glassell St/Grand Ave - Accident. in the ri...  ...       False   \n",
              "2845340     At CA-90/Marina Fwy/Jefferson Blvd - Accident.  ...       False   \n",
              "2845341              At Highland Ave/Arden Ave - Accident.  ...       False   \n",
              "\n",
              "        Station   Stop Traffic_Calming Traffic_Signal Turning_Loop  \\\n",
              "0         False  False           False          False        False   \n",
              "1         False  False           False          False        False   \n",
              "2         False  False           False          False        False   \n",
              "3         False  False           False          False        False   \n",
              "4         False  False           False          False        False   \n",
              "...         ...    ...             ...            ...          ...   \n",
              "2845337   False  False           False          False        False   \n",
              "2845338   False  False           False          False        False   \n",
              "2845339   False  False           False          False        False   \n",
              "2845340   False  False           False          False        False   \n",
              "2845341   False  False           False          False        False   \n",
              "\n",
              "        Sunrise_Sunset Civil_Twilight Nautical_Twilight Astronomical_Twilight  \n",
              "0                Night          Night             Night                 Night  \n",
              "1                Night          Night             Night                 Night  \n",
              "2                Night          Night             Night                   Day  \n",
              "3                Night          Night               Day                   Day  \n",
              "4                  Day            Day               Day                   Day  \n",
              "...                ...            ...               ...                   ...  \n",
              "2845337            Day            Day               Day                   Day  \n",
              "2845338            Day            Day               Day                   Day  \n",
              "2845339            Day            Day               Day                   Day  \n",
              "2845340            Day            Day               Day                   Day  \n",
              "2845341            Day            Day               Day                   Day  \n",
              "\n",
              "[2845342 rows x 47 columns]"
            ],
            "text/html": [
              "\n",
              "  <div id=\"df-7deae976-0797-4aad-b44c-6faba0539ef7\">\n",
              "    <div class=\"colab-df-container\">\n",
              "      <div>\n",
              "<style scoped>\n",
              "    .dataframe tbody tr th:only-of-type {\n",
              "        vertical-align: middle;\n",
              "    }\n",
              "\n",
              "    .dataframe tbody tr th {\n",
              "        vertical-align: top;\n",
              "    }\n",
              "\n",
              "    .dataframe thead th {\n",
              "        text-align: right;\n",
              "    }\n",
              "</style>\n",
              "<table border=\"1\" class=\"dataframe\">\n",
              "  <thead>\n",
              "    <tr style=\"text-align: right;\">\n",
              "      <th></th>\n",
              "      <th>ID</th>\n",
              "      <th>Severity</th>\n",
              "      <th>Start_Time</th>\n",
              "      <th>End_Time</th>\n",
              "      <th>Start_Lat</th>\n",
              "      <th>Start_Lng</th>\n",
              "      <th>End_Lat</th>\n",
              "      <th>End_Lng</th>\n",
              "      <th>Distance(mi)</th>\n",
              "      <th>Description</th>\n",
              "      <th>...</th>\n",
              "      <th>Roundabout</th>\n",
              "      <th>Station</th>\n",
              "      <th>Stop</th>\n",
              "      <th>Traffic_Calming</th>\n",
              "      <th>Traffic_Signal</th>\n",
              "      <th>Turning_Loop</th>\n",
              "      <th>Sunrise_Sunset</th>\n",
              "      <th>Civil_Twilight</th>\n",
              "      <th>Nautical_Twilight</th>\n",
              "      <th>Astronomical_Twilight</th>\n",
              "    </tr>\n",
              "  </thead>\n",
              "  <tbody>\n",
              "    <tr>\n",
              "      <th>0</th>\n",
              "      <td>A-1</td>\n",
              "      <td>3</td>\n",
              "      <td>2016-02-08 00:37:08</td>\n",
              "      <td>2016-02-08 06:37:08</td>\n",
              "      <td>40.108910</td>\n",
              "      <td>-83.092860</td>\n",
              "      <td>40.112060</td>\n",
              "      <td>-83.031870</td>\n",
              "      <td>3.230</td>\n",
              "      <td>Between Sawmill Rd/Exit 20 and OH-315/Olentang...</td>\n",
              "      <td>...</td>\n",
              "      <td>False</td>\n",
              "      <td>False</td>\n",
              "      <td>False</td>\n",
              "      <td>False</td>\n",
              "      <td>False</td>\n",
              "      <td>False</td>\n",
              "      <td>Night</td>\n",
              "      <td>Night</td>\n",
              "      <td>Night</td>\n",
              "      <td>Night</td>\n",
              "    </tr>\n",
              "    <tr>\n",
              "      <th>1</th>\n",
              "      <td>A-2</td>\n",
              "      <td>2</td>\n",
              "      <td>2016-02-08 05:56:20</td>\n",
              "      <td>2016-02-08 11:56:20</td>\n",
              "      <td>39.865420</td>\n",
              "      <td>-84.062800</td>\n",
              "      <td>39.865010</td>\n",
              "      <td>-84.048730</td>\n",
              "      <td>0.747</td>\n",
              "      <td>At OH-4/OH-235/Exit 41 - Accident.</td>\n",
              "      <td>...</td>\n",
              "      <td>False</td>\n",
              "      <td>False</td>\n",
              "      <td>False</td>\n",
              "      <td>False</td>\n",
              "      <td>False</td>\n",
              "      <td>False</td>\n",
              "      <td>Night</td>\n",
              "      <td>Night</td>\n",
              "      <td>Night</td>\n",
              "      <td>Night</td>\n",
              "    </tr>\n",
              "    <tr>\n",
              "      <th>2</th>\n",
              "      <td>A-3</td>\n",
              "      <td>2</td>\n",
              "      <td>2016-02-08 06:15:39</td>\n",
              "      <td>2016-02-08 12:15:39</td>\n",
              "      <td>39.102660</td>\n",
              "      <td>-84.524680</td>\n",
              "      <td>39.102090</td>\n",
              "      <td>-84.523960</td>\n",
              "      <td>0.055</td>\n",
              "      <td>At I-71/US-50/Exit 1 - Accident.</td>\n",
              "      <td>...</td>\n",
              "      <td>False</td>\n",
              "      <td>False</td>\n",
              "      <td>False</td>\n",
              "      <td>False</td>\n",
              "      <td>False</td>\n",
              "      <td>False</td>\n",
              "      <td>Night</td>\n",
              "      <td>Night</td>\n",
              "      <td>Night</td>\n",
              "      <td>Day</td>\n",
              "    </tr>\n",
              "    <tr>\n",
              "      <th>3</th>\n",
              "      <td>A-4</td>\n",
              "      <td>2</td>\n",
              "      <td>2016-02-08 06:51:45</td>\n",
              "      <td>2016-02-08 12:51:45</td>\n",
              "      <td>41.062130</td>\n",
              "      <td>-81.537840</td>\n",
              "      <td>41.062170</td>\n",
              "      <td>-81.535470</td>\n",
              "      <td>0.123</td>\n",
              "      <td>At Dart Ave/Exit 21 - Accident.</td>\n",
              "      <td>...</td>\n",
              "      <td>False</td>\n",
              "      <td>False</td>\n",
              "      <td>False</td>\n",
              "      <td>False</td>\n",
              "      <td>False</td>\n",
              "      <td>False</td>\n",
              "      <td>Night</td>\n",
              "      <td>Night</td>\n",
              "      <td>Day</td>\n",
              "      <td>Day</td>\n",
              "    </tr>\n",
              "    <tr>\n",
              "      <th>4</th>\n",
              "      <td>A-5</td>\n",
              "      <td>3</td>\n",
              "      <td>2016-02-08 07:53:43</td>\n",
              "      <td>2016-02-08 13:53:43</td>\n",
              "      <td>39.172393</td>\n",
              "      <td>-84.492792</td>\n",
              "      <td>39.170476</td>\n",
              "      <td>-84.501798</td>\n",
              "      <td>0.500</td>\n",
              "      <td>At Mitchell Ave/Exit 6 - Accident.</td>\n",
              "      <td>...</td>\n",
              "      <td>False</td>\n",
              "      <td>False</td>\n",
              "      <td>False</td>\n",
              "      <td>False</td>\n",
              "      <td>False</td>\n",
              "      <td>False</td>\n",
              "      <td>Day</td>\n",
              "      <td>Day</td>\n",
              "      <td>Day</td>\n",
              "      <td>Day</td>\n",
              "    </tr>\n",
              "    <tr>\n",
              "      <th>...</th>\n",
              "      <td>...</td>\n",
              "      <td>...</td>\n",
              "      <td>...</td>\n",
              "      <td>...</td>\n",
              "      <td>...</td>\n",
              "      <td>...</td>\n",
              "      <td>...</td>\n",
              "      <td>...</td>\n",
              "      <td>...</td>\n",
              "      <td>...</td>\n",
              "      <td>...</td>\n",
              "      <td>...</td>\n",
              "      <td>...</td>\n",
              "      <td>...</td>\n",
              "      <td>...</td>\n",
              "      <td>...</td>\n",
              "      <td>...</td>\n",
              "      <td>...</td>\n",
              "      <td>...</td>\n",
              "      <td>...</td>\n",
              "      <td>...</td>\n",
              "    </tr>\n",
              "    <tr>\n",
              "      <th>2845337</th>\n",
              "      <td>A-2845338</td>\n",
              "      <td>2</td>\n",
              "      <td>2019-08-23 18:03:25</td>\n",
              "      <td>2019-08-23 18:32:01</td>\n",
              "      <td>34.002480</td>\n",
              "      <td>-117.379360</td>\n",
              "      <td>33.998880</td>\n",
              "      <td>-117.370940</td>\n",
              "      <td>0.543</td>\n",
              "      <td>At Market St - Accident.</td>\n",
              "      <td>...</td>\n",
              "      <td>False</td>\n",
              "      <td>False</td>\n",
              "      <td>False</td>\n",
              "      <td>False</td>\n",
              "      <td>False</td>\n",
              "      <td>False</td>\n",
              "      <td>Day</td>\n",
              "      <td>Day</td>\n",
              "      <td>Day</td>\n",
              "      <td>Day</td>\n",
              "    </tr>\n",
              "    <tr>\n",
              "      <th>2845338</th>\n",
              "      <td>A-2845339</td>\n",
              "      <td>2</td>\n",
              "      <td>2019-08-23 19:11:30</td>\n",
              "      <td>2019-08-23 19:38:23</td>\n",
              "      <td>32.766960</td>\n",
              "      <td>-117.148060</td>\n",
              "      <td>32.765550</td>\n",
              "      <td>-117.153630</td>\n",
              "      <td>0.338</td>\n",
              "      <td>At Camino Del Rio/Mission Center Rd - Accident.</td>\n",
              "      <td>...</td>\n",
              "      <td>False</td>\n",
              "      <td>False</td>\n",
              "      <td>False</td>\n",
              "      <td>False</td>\n",
              "      <td>False</td>\n",
              "      <td>False</td>\n",
              "      <td>Day</td>\n",
              "      <td>Day</td>\n",
              "      <td>Day</td>\n",
              "      <td>Day</td>\n",
              "    </tr>\n",
              "    <tr>\n",
              "      <th>2845339</th>\n",
              "      <td>A-2845340</td>\n",
              "      <td>2</td>\n",
              "      <td>2019-08-23 19:00:21</td>\n",
              "      <td>2019-08-23 19:28:49</td>\n",
              "      <td>33.775450</td>\n",
              "      <td>-117.847790</td>\n",
              "      <td>33.777400</td>\n",
              "      <td>-117.857270</td>\n",
              "      <td>0.561</td>\n",
              "      <td>At Glassell St/Grand Ave - Accident. in the ri...</td>\n",
              "      <td>...</td>\n",
              "      <td>False</td>\n",
              "      <td>False</td>\n",
              "      <td>False</td>\n",
              "      <td>False</td>\n",
              "      <td>False</td>\n",
              "      <td>False</td>\n",
              "      <td>Day</td>\n",
              "      <td>Day</td>\n",
              "      <td>Day</td>\n",
              "      <td>Day</td>\n",
              "    </tr>\n",
              "    <tr>\n",
              "      <th>2845340</th>\n",
              "      <td>A-2845341</td>\n",
              "      <td>2</td>\n",
              "      <td>2019-08-23 19:00:21</td>\n",
              "      <td>2019-08-23 19:29:42</td>\n",
              "      <td>33.992460</td>\n",
              "      <td>-118.403020</td>\n",
              "      <td>33.983110</td>\n",
              "      <td>-118.395650</td>\n",
              "      <td>0.772</td>\n",
              "      <td>At CA-90/Marina Fwy/Jefferson Blvd - Accident.</td>\n",
              "      <td>...</td>\n",
              "      <td>False</td>\n",
              "      <td>False</td>\n",
              "      <td>False</td>\n",
              "      <td>False</td>\n",
              "      <td>False</td>\n",
              "      <td>False</td>\n",
              "      <td>Day</td>\n",
              "      <td>Day</td>\n",
              "      <td>Day</td>\n",
              "      <td>Day</td>\n",
              "    </tr>\n",
              "    <tr>\n",
              "      <th>2845341</th>\n",
              "      <td>A-2845342</td>\n",
              "      <td>2</td>\n",
              "      <td>2019-08-23 18:52:06</td>\n",
              "      <td>2019-08-23 19:21:31</td>\n",
              "      <td>34.133930</td>\n",
              "      <td>-117.230920</td>\n",
              "      <td>34.137360</td>\n",
              "      <td>-117.239340</td>\n",
              "      <td>0.537</td>\n",
              "      <td>At Highland Ave/Arden Ave - Accident.</td>\n",
              "      <td>...</td>\n",
              "      <td>False</td>\n",
              "      <td>False</td>\n",
              "      <td>False</td>\n",
              "      <td>False</td>\n",
              "      <td>False</td>\n",
              "      <td>False</td>\n",
              "      <td>Day</td>\n",
              "      <td>Day</td>\n",
              "      <td>Day</td>\n",
              "      <td>Day</td>\n",
              "    </tr>\n",
              "  </tbody>\n",
              "</table>\n",
              "<p>2845342 rows × 47 columns</p>\n",
              "</div>\n",
              "      <button class=\"colab-df-convert\" onclick=\"convertToInteractive('df-7deae976-0797-4aad-b44c-6faba0539ef7')\"\n",
              "              title=\"Convert this dataframe to an interactive table.\"\n",
              "              style=\"display:none;\">\n",
              "        \n",
              "  <svg xmlns=\"http://www.w3.org/2000/svg\" height=\"24px\"viewBox=\"0 0 24 24\"\n",
              "       width=\"24px\">\n",
              "    <path d=\"M0 0h24v24H0V0z\" fill=\"none\"/>\n",
              "    <path d=\"M18.56 5.44l.94 2.06.94-2.06 2.06-.94-2.06-.94-.94-2.06-.94 2.06-2.06.94zm-11 1L8.5 8.5l.94-2.06 2.06-.94-2.06-.94L8.5 2.5l-.94 2.06-2.06.94zm10 10l.94 2.06.94-2.06 2.06-.94-2.06-.94-.94-2.06-.94 2.06-2.06.94z\"/><path d=\"M17.41 7.96l-1.37-1.37c-.4-.4-.92-.59-1.43-.59-.52 0-1.04.2-1.43.59L10.3 9.45l-7.72 7.72c-.78.78-.78 2.05 0 2.83L4 21.41c.39.39.9.59 1.41.59.51 0 1.02-.2 1.41-.59l7.78-7.78 2.81-2.81c.8-.78.8-2.07 0-2.86zM5.41 20L4 18.59l7.72-7.72 1.47 1.35L5.41 20z\"/>\n",
              "  </svg>\n",
              "      </button>\n",
              "      \n",
              "  <style>\n",
              "    .colab-df-container {\n",
              "      display:flex;\n",
              "      flex-wrap:wrap;\n",
              "      gap: 12px;\n",
              "    }\n",
              "\n",
              "    .colab-df-convert {\n",
              "      background-color: #E8F0FE;\n",
              "      border: none;\n",
              "      border-radius: 50%;\n",
              "      cursor: pointer;\n",
              "      display: none;\n",
              "      fill: #1967D2;\n",
              "      height: 32px;\n",
              "      padding: 0 0 0 0;\n",
              "      width: 32px;\n",
              "    }\n",
              "\n",
              "    .colab-df-convert:hover {\n",
              "      background-color: #E2EBFA;\n",
              "      box-shadow: 0px 1px 2px rgba(60, 64, 67, 0.3), 0px 1px 3px 1px rgba(60, 64, 67, 0.15);\n",
              "      fill: #174EA6;\n",
              "    }\n",
              "\n",
              "    [theme=dark] .colab-df-convert {\n",
              "      background-color: #3B4455;\n",
              "      fill: #D2E3FC;\n",
              "    }\n",
              "\n",
              "    [theme=dark] .colab-df-convert:hover {\n",
              "      background-color: #434B5C;\n",
              "      box-shadow: 0px 1px 3px 1px rgba(0, 0, 0, 0.15);\n",
              "      filter: drop-shadow(0px 1px 2px rgba(0, 0, 0, 0.3));\n",
              "      fill: #FFFFFF;\n",
              "    }\n",
              "  </style>\n",
              "\n",
              "      <script>\n",
              "        const buttonEl =\n",
              "          document.querySelector('#df-7deae976-0797-4aad-b44c-6faba0539ef7 button.colab-df-convert');\n",
              "        buttonEl.style.display =\n",
              "          google.colab.kernel.accessAllowed ? 'block' : 'none';\n",
              "\n",
              "        async function convertToInteractive(key) {\n",
              "          const element = document.querySelector('#df-7deae976-0797-4aad-b44c-6faba0539ef7');\n",
              "          const dataTable =\n",
              "            await google.colab.kernel.invokeFunction('convertToInteractive',\n",
              "                                                     [key], {});\n",
              "          if (!dataTable) return;\n",
              "\n",
              "          const docLinkHtml = 'Like what you see? Visit the ' +\n",
              "            '<a target=\"_blank\" href=https://colab.research.google.com/notebooks/data_table.ipynb>data table notebook</a>'\n",
              "            + ' to learn more about interactive tables.';\n",
              "          element.innerHTML = '';\n",
              "          dataTable['output_type'] = 'display_data';\n",
              "          await google.colab.output.renderOutput(dataTable, element);\n",
              "          const docLink = document.createElement('div');\n",
              "          docLink.innerHTML = docLinkHtml;\n",
              "          element.appendChild(docLink);\n",
              "        }\n",
              "      </script>\n",
              "    </div>\n",
              "  </div>\n",
              "  "
            ]
          },
          "metadata": {},
          "execution_count": 9
        }
      ],
      "source": [
        "df"
      ]
    },
    {
      "cell_type": "code",
      "source": [
        "df.info()"
      ],
      "metadata": {
        "colab": {
          "base_uri": "https://localhost:8080/"
        },
        "id": "TDmGz_TO1sY7",
        "outputId": "18fe0d99-6299-4481-c2c8-a7f462b77f23"
      },
      "execution_count": 10,
      "outputs": [
        {
          "output_type": "stream",
          "name": "stdout",
          "text": [
            "<class 'pandas.core.frame.DataFrame'>\n",
            "RangeIndex: 2845342 entries, 0 to 2845341\n",
            "Data columns (total 47 columns):\n",
            " #   Column                 Dtype  \n",
            "---  ------                 -----  \n",
            " 0   ID                     object \n",
            " 1   Severity               int64  \n",
            " 2   Start_Time             object \n",
            " 3   End_Time               object \n",
            " 4   Start_Lat              float64\n",
            " 5   Start_Lng              float64\n",
            " 6   End_Lat                float64\n",
            " 7   End_Lng                float64\n",
            " 8   Distance(mi)           float64\n",
            " 9   Description            object \n",
            " 10  Number                 float64\n",
            " 11  Street                 object \n",
            " 12  Side                   object \n",
            " 13  City                   object \n",
            " 14  County                 object \n",
            " 15  State                  object \n",
            " 16  Zipcode                object \n",
            " 17  Country                object \n",
            " 18  Timezone               object \n",
            " 19  Airport_Code           object \n",
            " 20  Weather_Timestamp      object \n",
            " 21  Temperature(F)         float64\n",
            " 22  Wind_Chill(F)          float64\n",
            " 23  Humidity(%)            float64\n",
            " 24  Pressure(in)           float64\n",
            " 25  Visibility(mi)         float64\n",
            " 26  Wind_Direction         object \n",
            " 27  Wind_Speed(mph)        float64\n",
            " 28  Precipitation(in)      float64\n",
            " 29  Weather_Condition      object \n",
            " 30  Amenity                bool   \n",
            " 31  Bump                   bool   \n",
            " 32  Crossing               bool   \n",
            " 33  Give_Way               bool   \n",
            " 34  Junction               bool   \n",
            " 35  No_Exit                bool   \n",
            " 36  Railway                bool   \n",
            " 37  Roundabout             bool   \n",
            " 38  Station                bool   \n",
            " 39  Stop                   bool   \n",
            " 40  Traffic_Calming        bool   \n",
            " 41  Traffic_Signal         bool   \n",
            " 42  Turning_Loop           bool   \n",
            " 43  Sunrise_Sunset         object \n",
            " 44  Civil_Twilight         object \n",
            " 45  Nautical_Twilight      object \n",
            " 46  Astronomical_Twilight  object \n",
            "dtypes: bool(13), float64(13), int64(1), object(20)\n",
            "memory usage: 773.4+ MB\n"
          ]
        }
      ]
    },
    {
      "cell_type": "code",
      "source": [
        "df.describe()"
      ],
      "metadata": {
        "colab": {
          "base_uri": "https://localhost:8080/",
          "height": 364
        },
        "id": "SmzhX6iU3xTS",
        "outputId": "e68de1d1-368a-4bc4-cb59-e74a4f0201c2"
      },
      "execution_count": 11,
      "outputs": [
        {
          "output_type": "execute_result",
          "data": {
            "text/plain": [
              "           Severity     Start_Lat     Start_Lng       End_Lat       End_Lng  \\\n",
              "count  2.845342e+06  2.845342e+06  2.845342e+06  2.845342e+06  2.845342e+06   \n",
              "mean   2.137572e+00  3.624520e+01 -9.711463e+01  3.624532e+01 -9.711439e+01   \n",
              "std    4.787216e-01  5.363797e+00  1.831782e+01  5.363873e+00  1.831763e+01   \n",
              "min    1.000000e+00  2.456603e+01 -1.245481e+02  2.456601e+01 -1.245457e+02   \n",
              "25%    2.000000e+00  3.344517e+01 -1.180331e+02  3.344628e+01 -1.180333e+02   \n",
              "50%    2.000000e+00  3.609861e+01 -9.241808e+01  3.609799e+01 -9.241772e+01   \n",
              "75%    2.000000e+00  4.016024e+01 -8.037243e+01  4.016105e+01 -8.037338e+01   \n",
              "max    4.000000e+00  4.900058e+01 -6.711317e+01  4.907500e+01 -6.710924e+01   \n",
              "\n",
              "       Distance(mi)        Number  Temperature(F)  Wind_Chill(F)  \\\n",
              "count  2.845342e+06  1.101431e+06    2.776068e+06   2.375699e+06   \n",
              "mean   7.026779e-01  8.089408e+03    6.179356e+01   5.965823e+01   \n",
              "std    1.560361e+00  1.836009e+04    1.862263e+01   2.116097e+01   \n",
              "min    0.000000e+00  0.000000e+00   -8.900000e+01  -8.900000e+01   \n",
              "25%    5.200000e-02  1.270000e+03    5.000000e+01   4.600000e+01   \n",
              "50%    2.440000e-01  4.007000e+03    6.400000e+01   6.300000e+01   \n",
              "75%    7.640000e-01  9.567000e+03    7.600000e+01   7.600000e+01   \n",
              "max    1.551860e+02  9.999997e+06    1.960000e+02   1.960000e+02   \n",
              "\n",
              "        Humidity(%)  Pressure(in)  Visibility(mi)  Wind_Speed(mph)  \\\n",
              "count  2.772250e+06  2.786142e+06    2.774796e+06     2.687398e+06   \n",
              "mean   6.436545e+01  2.947234e+01    9.099391e+00     7.395044e+00   \n",
              "std    2.287457e+01  1.045286e+00    2.717546e+00     5.527454e+00   \n",
              "min    1.000000e+00  0.000000e+00    0.000000e+00     0.000000e+00   \n",
              "25%    4.800000e+01  2.931000e+01    1.000000e+01     3.500000e+00   \n",
              "50%    6.700000e+01  2.982000e+01    1.000000e+01     7.000000e+00   \n",
              "75%    8.300000e+01  3.001000e+01    1.000000e+01     1.000000e+01   \n",
              "max    1.000000e+02  5.890000e+01    1.400000e+02     1.087000e+03   \n",
              "\n",
              "       Precipitation(in)  \n",
              "count       2.295884e+06  \n",
              "mean        7.016940e-03  \n",
              "std         9.348831e-02  \n",
              "min         0.000000e+00  \n",
              "25%         0.000000e+00  \n",
              "50%         0.000000e+00  \n",
              "75%         0.000000e+00  \n",
              "max         2.400000e+01  "
            ],
            "text/html": [
              "\n",
              "  <div id=\"df-94f67a43-0c7a-479b-828e-09122c5bb86e\">\n",
              "    <div class=\"colab-df-container\">\n",
              "      <div>\n",
              "<style scoped>\n",
              "    .dataframe tbody tr th:only-of-type {\n",
              "        vertical-align: middle;\n",
              "    }\n",
              "\n",
              "    .dataframe tbody tr th {\n",
              "        vertical-align: top;\n",
              "    }\n",
              "\n",
              "    .dataframe thead th {\n",
              "        text-align: right;\n",
              "    }\n",
              "</style>\n",
              "<table border=\"1\" class=\"dataframe\">\n",
              "  <thead>\n",
              "    <tr style=\"text-align: right;\">\n",
              "      <th></th>\n",
              "      <th>Severity</th>\n",
              "      <th>Start_Lat</th>\n",
              "      <th>Start_Lng</th>\n",
              "      <th>End_Lat</th>\n",
              "      <th>End_Lng</th>\n",
              "      <th>Distance(mi)</th>\n",
              "      <th>Number</th>\n",
              "      <th>Temperature(F)</th>\n",
              "      <th>Wind_Chill(F)</th>\n",
              "      <th>Humidity(%)</th>\n",
              "      <th>Pressure(in)</th>\n",
              "      <th>Visibility(mi)</th>\n",
              "      <th>Wind_Speed(mph)</th>\n",
              "      <th>Precipitation(in)</th>\n",
              "    </tr>\n",
              "  </thead>\n",
              "  <tbody>\n",
              "    <tr>\n",
              "      <th>count</th>\n",
              "      <td>2.845342e+06</td>\n",
              "      <td>2.845342e+06</td>\n",
              "      <td>2.845342e+06</td>\n",
              "      <td>2.845342e+06</td>\n",
              "      <td>2.845342e+06</td>\n",
              "      <td>2.845342e+06</td>\n",
              "      <td>1.101431e+06</td>\n",
              "      <td>2.776068e+06</td>\n",
              "      <td>2.375699e+06</td>\n",
              "      <td>2.772250e+06</td>\n",
              "      <td>2.786142e+06</td>\n",
              "      <td>2.774796e+06</td>\n",
              "      <td>2.687398e+06</td>\n",
              "      <td>2.295884e+06</td>\n",
              "    </tr>\n",
              "    <tr>\n",
              "      <th>mean</th>\n",
              "      <td>2.137572e+00</td>\n",
              "      <td>3.624520e+01</td>\n",
              "      <td>-9.711463e+01</td>\n",
              "      <td>3.624532e+01</td>\n",
              "      <td>-9.711439e+01</td>\n",
              "      <td>7.026779e-01</td>\n",
              "      <td>8.089408e+03</td>\n",
              "      <td>6.179356e+01</td>\n",
              "      <td>5.965823e+01</td>\n",
              "      <td>6.436545e+01</td>\n",
              "      <td>2.947234e+01</td>\n",
              "      <td>9.099391e+00</td>\n",
              "      <td>7.395044e+00</td>\n",
              "      <td>7.016940e-03</td>\n",
              "    </tr>\n",
              "    <tr>\n",
              "      <th>std</th>\n",
              "      <td>4.787216e-01</td>\n",
              "      <td>5.363797e+00</td>\n",
              "      <td>1.831782e+01</td>\n",
              "      <td>5.363873e+00</td>\n",
              "      <td>1.831763e+01</td>\n",
              "      <td>1.560361e+00</td>\n",
              "      <td>1.836009e+04</td>\n",
              "      <td>1.862263e+01</td>\n",
              "      <td>2.116097e+01</td>\n",
              "      <td>2.287457e+01</td>\n",
              "      <td>1.045286e+00</td>\n",
              "      <td>2.717546e+00</td>\n",
              "      <td>5.527454e+00</td>\n",
              "      <td>9.348831e-02</td>\n",
              "    </tr>\n",
              "    <tr>\n",
              "      <th>min</th>\n",
              "      <td>1.000000e+00</td>\n",
              "      <td>2.456603e+01</td>\n",
              "      <td>-1.245481e+02</td>\n",
              "      <td>2.456601e+01</td>\n",
              "      <td>-1.245457e+02</td>\n",
              "      <td>0.000000e+00</td>\n",
              "      <td>0.000000e+00</td>\n",
              "      <td>-8.900000e+01</td>\n",
              "      <td>-8.900000e+01</td>\n",
              "      <td>1.000000e+00</td>\n",
              "      <td>0.000000e+00</td>\n",
              "      <td>0.000000e+00</td>\n",
              "      <td>0.000000e+00</td>\n",
              "      <td>0.000000e+00</td>\n",
              "    </tr>\n",
              "    <tr>\n",
              "      <th>25%</th>\n",
              "      <td>2.000000e+00</td>\n",
              "      <td>3.344517e+01</td>\n",
              "      <td>-1.180331e+02</td>\n",
              "      <td>3.344628e+01</td>\n",
              "      <td>-1.180333e+02</td>\n",
              "      <td>5.200000e-02</td>\n",
              "      <td>1.270000e+03</td>\n",
              "      <td>5.000000e+01</td>\n",
              "      <td>4.600000e+01</td>\n",
              "      <td>4.800000e+01</td>\n",
              "      <td>2.931000e+01</td>\n",
              "      <td>1.000000e+01</td>\n",
              "      <td>3.500000e+00</td>\n",
              "      <td>0.000000e+00</td>\n",
              "    </tr>\n",
              "    <tr>\n",
              "      <th>50%</th>\n",
              "      <td>2.000000e+00</td>\n",
              "      <td>3.609861e+01</td>\n",
              "      <td>-9.241808e+01</td>\n",
              "      <td>3.609799e+01</td>\n",
              "      <td>-9.241772e+01</td>\n",
              "      <td>2.440000e-01</td>\n",
              "      <td>4.007000e+03</td>\n",
              "      <td>6.400000e+01</td>\n",
              "      <td>6.300000e+01</td>\n",
              "      <td>6.700000e+01</td>\n",
              "      <td>2.982000e+01</td>\n",
              "      <td>1.000000e+01</td>\n",
              "      <td>7.000000e+00</td>\n",
              "      <td>0.000000e+00</td>\n",
              "    </tr>\n",
              "    <tr>\n",
              "      <th>75%</th>\n",
              "      <td>2.000000e+00</td>\n",
              "      <td>4.016024e+01</td>\n",
              "      <td>-8.037243e+01</td>\n",
              "      <td>4.016105e+01</td>\n",
              "      <td>-8.037338e+01</td>\n",
              "      <td>7.640000e-01</td>\n",
              "      <td>9.567000e+03</td>\n",
              "      <td>7.600000e+01</td>\n",
              "      <td>7.600000e+01</td>\n",
              "      <td>8.300000e+01</td>\n",
              "      <td>3.001000e+01</td>\n",
              "      <td>1.000000e+01</td>\n",
              "      <td>1.000000e+01</td>\n",
              "      <td>0.000000e+00</td>\n",
              "    </tr>\n",
              "    <tr>\n",
              "      <th>max</th>\n",
              "      <td>4.000000e+00</td>\n",
              "      <td>4.900058e+01</td>\n",
              "      <td>-6.711317e+01</td>\n",
              "      <td>4.907500e+01</td>\n",
              "      <td>-6.710924e+01</td>\n",
              "      <td>1.551860e+02</td>\n",
              "      <td>9.999997e+06</td>\n",
              "      <td>1.960000e+02</td>\n",
              "      <td>1.960000e+02</td>\n",
              "      <td>1.000000e+02</td>\n",
              "      <td>5.890000e+01</td>\n",
              "      <td>1.400000e+02</td>\n",
              "      <td>1.087000e+03</td>\n",
              "      <td>2.400000e+01</td>\n",
              "    </tr>\n",
              "  </tbody>\n",
              "</table>\n",
              "</div>\n",
              "      <button class=\"colab-df-convert\" onclick=\"convertToInteractive('df-94f67a43-0c7a-479b-828e-09122c5bb86e')\"\n",
              "              title=\"Convert this dataframe to an interactive table.\"\n",
              "              style=\"display:none;\">\n",
              "        \n",
              "  <svg xmlns=\"http://www.w3.org/2000/svg\" height=\"24px\"viewBox=\"0 0 24 24\"\n",
              "       width=\"24px\">\n",
              "    <path d=\"M0 0h24v24H0V0z\" fill=\"none\"/>\n",
              "    <path d=\"M18.56 5.44l.94 2.06.94-2.06 2.06-.94-2.06-.94-.94-2.06-.94 2.06-2.06.94zm-11 1L8.5 8.5l.94-2.06 2.06-.94-2.06-.94L8.5 2.5l-.94 2.06-2.06.94zm10 10l.94 2.06.94-2.06 2.06-.94-2.06-.94-.94-2.06-.94 2.06-2.06.94z\"/><path d=\"M17.41 7.96l-1.37-1.37c-.4-.4-.92-.59-1.43-.59-.52 0-1.04.2-1.43.59L10.3 9.45l-7.72 7.72c-.78.78-.78 2.05 0 2.83L4 21.41c.39.39.9.59 1.41.59.51 0 1.02-.2 1.41-.59l7.78-7.78 2.81-2.81c.8-.78.8-2.07 0-2.86zM5.41 20L4 18.59l7.72-7.72 1.47 1.35L5.41 20z\"/>\n",
              "  </svg>\n",
              "      </button>\n",
              "      \n",
              "  <style>\n",
              "    .colab-df-container {\n",
              "      display:flex;\n",
              "      flex-wrap:wrap;\n",
              "      gap: 12px;\n",
              "    }\n",
              "\n",
              "    .colab-df-convert {\n",
              "      background-color: #E8F0FE;\n",
              "      border: none;\n",
              "      border-radius: 50%;\n",
              "      cursor: pointer;\n",
              "      display: none;\n",
              "      fill: #1967D2;\n",
              "      height: 32px;\n",
              "      padding: 0 0 0 0;\n",
              "      width: 32px;\n",
              "    }\n",
              "\n",
              "    .colab-df-convert:hover {\n",
              "      background-color: #E2EBFA;\n",
              "      box-shadow: 0px 1px 2px rgba(60, 64, 67, 0.3), 0px 1px 3px 1px rgba(60, 64, 67, 0.15);\n",
              "      fill: #174EA6;\n",
              "    }\n",
              "\n",
              "    [theme=dark] .colab-df-convert {\n",
              "      background-color: #3B4455;\n",
              "      fill: #D2E3FC;\n",
              "    }\n",
              "\n",
              "    [theme=dark] .colab-df-convert:hover {\n",
              "      background-color: #434B5C;\n",
              "      box-shadow: 0px 1px 3px 1px rgba(0, 0, 0, 0.15);\n",
              "      filter: drop-shadow(0px 1px 2px rgba(0, 0, 0, 0.3));\n",
              "      fill: #FFFFFF;\n",
              "    }\n",
              "  </style>\n",
              "\n",
              "      <script>\n",
              "        const buttonEl =\n",
              "          document.querySelector('#df-94f67a43-0c7a-479b-828e-09122c5bb86e button.colab-df-convert');\n",
              "        buttonEl.style.display =\n",
              "          google.colab.kernel.accessAllowed ? 'block' : 'none';\n",
              "\n",
              "        async function convertToInteractive(key) {\n",
              "          const element = document.querySelector('#df-94f67a43-0c7a-479b-828e-09122c5bb86e');\n",
              "          const dataTable =\n",
              "            await google.colab.kernel.invokeFunction('convertToInteractive',\n",
              "                                                     [key], {});\n",
              "          if (!dataTable) return;\n",
              "\n",
              "          const docLinkHtml = 'Like what you see? Visit the ' +\n",
              "            '<a target=\"_blank\" href=https://colab.research.google.com/notebooks/data_table.ipynb>data table notebook</a>'\n",
              "            + ' to learn more about interactive tables.';\n",
              "          element.innerHTML = '';\n",
              "          dataTable['output_type'] = 'display_data';\n",
              "          await google.colab.output.renderOutput(dataTable, element);\n",
              "          const docLink = document.createElement('div');\n",
              "          docLink.innerHTML = docLinkHtml;\n",
              "          element.appendChild(docLink);\n",
              "        }\n",
              "      </script>\n",
              "    </div>\n",
              "  </div>\n",
              "  "
            ]
          },
          "metadata": {},
          "execution_count": 11
        }
      ]
    },
    {
      "cell_type": "code",
      "source": [
        "numerics = ['int16', 'int32', 'int64', 'float16', 'float32', 'float64']\n",
        "\n",
        "numeric_df = df.select_dtypes(include=numerics)\n",
        "len(numeric_df.columns)"
      ],
      "metadata": {
        "colab": {
          "base_uri": "https://localhost:8080/"
        },
        "id": "A-Q32s4l3xMl",
        "outputId": "6988f760-a8f6-4555-e23e-e2082adfd272"
      },
      "execution_count": 12,
      "outputs": [
        {
          "output_type": "execute_result",
          "data": {
            "text/plain": [
              "14"
            ]
          },
          "metadata": {},
          "execution_count": 12
        }
      ]
    },
    {
      "cell_type": "markdown",
      "source": [
        "Percentage of missing values per column"
      ],
      "metadata": {
        "id": "llTmo5Ko5_1o"
      }
    },
    {
      "cell_type": "code",
      "source": [
        "missing_percentage = df.isna().sum().sort_values(ascending=False) / len(df)\n",
        "missing_percentage"
      ],
      "metadata": {
        "colab": {
          "base_uri": "https://localhost:8080/"
        },
        "id": "SSPN-efy3w8E",
        "outputId": "ca05a805-b21c-470c-ff65-c64c11f4adb7"
      },
      "execution_count": 13,
      "outputs": [
        {
          "output_type": "execute_result",
          "data": {
            "text/plain": [
              "Number                   6.129003e-01\n",
              "Precipitation(in)        1.931079e-01\n",
              "Wind_Chill(F)            1.650568e-01\n",
              "Wind_Speed(mph)          5.550967e-02\n",
              "Wind_Direction           2.592834e-02\n",
              "Humidity(%)              2.568830e-02\n",
              "Weather_Condition        2.482514e-02\n",
              "Visibility(mi)           2.479350e-02\n",
              "Temperature(F)           2.434646e-02\n",
              "Pressure(in)             2.080593e-02\n",
              "Weather_Timestamp        1.783125e-02\n",
              "Airport_Code             3.356011e-03\n",
              "Timezone                 1.285961e-03\n",
              "Nautical_Twilight        1.007612e-03\n",
              "Civil_Twilight           1.007612e-03\n",
              "Sunrise_Sunset           1.007612e-03\n",
              "Astronomical_Twilight    1.007612e-03\n",
              "Zipcode                  4.635647e-04\n",
              "City                     4.814887e-05\n",
              "Street                   7.029032e-07\n",
              "Country                  0.000000e+00\n",
              "Junction                 0.000000e+00\n",
              "Start_Time               0.000000e+00\n",
              "End_Time                 0.000000e+00\n",
              "Start_Lat                0.000000e+00\n",
              "Turning_Loop             0.000000e+00\n",
              "Traffic_Signal           0.000000e+00\n",
              "Traffic_Calming          0.000000e+00\n",
              "Stop                     0.000000e+00\n",
              "Station                  0.000000e+00\n",
              "Roundabout               0.000000e+00\n",
              "Railway                  0.000000e+00\n",
              "No_Exit                  0.000000e+00\n",
              "Crossing                 0.000000e+00\n",
              "Give_Way                 0.000000e+00\n",
              "Bump                     0.000000e+00\n",
              "Amenity                  0.000000e+00\n",
              "Start_Lng                0.000000e+00\n",
              "End_Lat                  0.000000e+00\n",
              "End_Lng                  0.000000e+00\n",
              "Distance(mi)             0.000000e+00\n",
              "Description              0.000000e+00\n",
              "Severity                 0.000000e+00\n",
              "Side                     0.000000e+00\n",
              "County                   0.000000e+00\n",
              "State                    0.000000e+00\n",
              "ID                       0.000000e+00\n",
              "dtype: float64"
            ]
          },
          "metadata": {},
          "execution_count": 13
        }
      ]
    },
    {
      "cell_type": "code",
      "source": [
        "type(missing_percentage)"
      ],
      "metadata": {
        "colab": {
          "base_uri": "https://localhost:8080/"
        },
        "id": "H8eWs6jp6ipc",
        "outputId": "ae0b1f63-7169-41df-f72b-85998327ca88"
      },
      "execution_count": 14,
      "outputs": [
        {
          "output_type": "execute_result",
          "data": {
            "text/plain": [
              "pandas.core.series.Series"
            ]
          },
          "metadata": {},
          "execution_count": 14
        }
      ]
    },
    {
      "cell_type": "code",
      "source": [
        "missing_percentage[missing_percentage != 0].plot(kind='barh')"
      ],
      "metadata": {
        "colab": {
          "base_uri": "https://localhost:8080/",
          "height": 282
        },
        "id": "z-zpasVQ3wyb",
        "outputId": "0c69ecc1-7d33-4fba-e23f-dff7062e1e29"
      },
      "execution_count": 15,
      "outputs": [
        {
          "output_type": "execute_result",
          "data": {
            "text/plain": [
              "<matplotlib.axes._subplots.AxesSubplot at 0x7fba60431950>"
            ]
          },
          "metadata": {},
          "execution_count": 15
        },
        {
          "output_type": "display_data",
          "data": {
            "text/plain": [
              "<Figure size 432x288 with 1 Axes>"
            ],
            "image/png": "[encoded data removed]"
          },
          "metadata": {
            "needs_background": "light"
          }
        }
      ]
    },
    {
      "cell_type": "markdown",
      "source": [
        "Remove columns that you don't want use."
      ],
      "metadata": {
        "id": "LD550UuM7Wv8"
      }
    },
    {
      "cell_type": "markdown",
      "metadata": {
        "id": "WKit4cW8I0Y9"
      },
      "source": [
        "## Exploratory Analysis and Visualization\n",
        "\n",
        "Columnscwe'll analyze:\n",
        "\n",
        "1. City\n",
        "2. Start Time\n",
        "3. Start Lat, Start Lng\n",
        "4. Tempeture\n",
        "5. Weather Condition"
      ]
    },
    {
      "cell_type": "code",
      "execution_count": 16,
      "metadata": {
        "id": "hXGbOahVIioe",
        "colab": {
          "base_uri": "https://localhost:8080/"
        },
        "outputId": "016642e3-cc36-4448-d4c3-a1f1545a912c"
      },
      "outputs": [
        {
          "output_type": "execute_result",
          "data": {
            "text/plain": [
              "Index(['ID', 'Severity', 'Start_Time', 'End_Time', 'Start_Lat', 'Start_Lng',\n",
              "       'End_Lat', 'End_Lng', 'Distance(mi)', 'Description', 'Number', 'Street',\n",
              "       'Side', 'City', 'County', 'State', 'Zipcode', 'Country', 'Timezone',\n",
              "       'Airport_Code', 'Weather_Timestamp', 'Temperature(F)', 'Wind_Chill(F)',\n",
              "       'Humidity(%)', 'Pressure(in)', 'Visibility(mi)', 'Wind_Direction',\n",
              "       'Wind_Speed(mph)', 'Precipitation(in)', 'Weather_Condition', 'Amenity',\n",
              "       'Bump', 'Crossing', 'Give_Way', 'Junction', 'No_Exit', 'Railway',\n",
              "       'Roundabout', 'Station', 'Stop', 'Traffic_Calming', 'Traffic_Signal',\n",
              "       'Turning_Loop', 'Sunrise_Sunset', 'Civil_Twilight', 'Nautical_Twilight',\n",
              "       'Astronomical_Twilight'],\n",
              "      dtype='object')"
            ]
          },
          "metadata": {},
          "execution_count": 16
        }
      ],
      "source": [
        "df.columns"
      ]
    },
    {
      "cell_type": "markdown",
      "source": [
        "### City"
      ],
      "metadata": {
        "id": "p8VkDxhjTXyk"
      }
    },
    {
      "cell_type": "code",
      "execution_count": 17,
      "metadata": {
        "id": "cxjRxpxoI5a7",
        "colab": {
          "base_uri": "https://localhost:8080/"
        },
        "outputId": "d9deb6cc-b2de-4ca5-fc5c-849cd5aca61e"
      },
      "outputs": [
        {
          "output_type": "execute_result",
          "data": {
            "text/plain": [
              "0               Dublin\n",
              "1               Dayton\n",
              "2           Cincinnati\n",
              "3                Akron\n",
              "4           Cincinnati\n",
              "              ...     \n",
              "2845337      Riverside\n",
              "2845338      San Diego\n",
              "2845339         Orange\n",
              "2845340    Culver City\n",
              "2845341       Highland\n",
              "Name: City, Length: 2845342, dtype: object"
            ]
          },
          "metadata": {},
          "execution_count": 17
        }
      ],
      "source": [
        "df.City"
      ]
    },
    {
      "cell_type": "code",
      "execution_count": 18,
      "metadata": {
        "id": "hbclt1VWI5dn",
        "colab": {
          "base_uri": "https://localhost:8080/"
        },
        "outputId": "2ff43b3b-031b-40c6-e569-ff9db3badabb"
      },
      "outputs": [
        {
          "output_type": "execute_result",
          "data": {
            "text/plain": [
              "11682"
            ]
          },
          "metadata": {},
          "execution_count": 18
        }
      ],
      "source": [
        "cities = df.City.unique()\n",
        "len(cities)"
      ]
    },
    {
      "cell_type": "code",
      "execution_count": 19,
      "metadata": {
        "id": "9PLguOhAI5hX",
        "colab": {
          "base_uri": "https://localhost:8080/"
        },
        "outputId": "dddb3040-1a4f-4a37-ee5d-c7c49ba8aefd"
      },
      "outputs": [
        {
          "output_type": "execute_result",
          "data": {
            "text/plain": [
              "Miami                           106966\n",
              "Los Angeles                      68956\n",
              "Orlando                          54691\n",
              "Dallas                           41979\n",
              "Houston                          39448\n",
              "                                 ...  \n",
              "Ridgedale                            1\n",
              "Sekiu                                1\n",
              "Wooldridge                           1\n",
              "Bullock                              1\n",
              "American Fork-Pleasant Grove         1\n",
              "Name: City, Length: 11681, dtype: int64"
            ]
          },
          "metadata": {},
          "execution_count": 19
        }
      ],
      "source": [
        "cities_by_accident = df.City.value_counts()\n",
        "cities_by_accident"
      ]
    },
    {
      "cell_type": "code",
      "execution_count": 20,
      "metadata": {
        "id": "v5eEQHYOI5jb",
        "colab": {
          "base_uri": "https://localhost:8080/"
        },
        "outputId": "dc667f90-f429-4cca-df32-10ae835f2abb"
      },
      "outputs": [
        {
          "output_type": "execute_result",
          "data": {
            "text/plain": [
              "Miami           106966\n",
              "Los Angeles      68956\n",
              "Orlando          54691\n",
              "Dallas           41979\n",
              "Houston          39448\n",
              "Charlotte        33152\n",
              "Sacramento       32559\n",
              "San Diego        26627\n",
              "Raleigh          22840\n",
              "Minneapolis      22768\n",
              "Portland         20944\n",
              "Nashville        20267\n",
              "Austin           18301\n",
              "Baton Rouge      18182\n",
              "Phoenix          17143\n",
              "Saint Paul       16869\n",
              "New Orleans      16251\n",
              "Atlanta          15622\n",
              "Jacksonville     14967\n",
              "Richmond         14349\n",
              "Name: City, dtype: int64"
            ]
          },
          "metadata": {},
          "execution_count": 20
        }
      ],
      "source": [
        "cities_by_accident[:20]"
      ]
    },
    {
      "cell_type": "code",
      "source": [
        "cities_by_accident[:20].plot(kind='barh')"
      ],
      "metadata": {
        "colab": {
          "base_uri": "https://localhost:8080/",
          "height": 282
        },
        "id": "SF3hiQHj6JaW",
        "outputId": "463a4253-e938-446c-bab9-5c0c054d750c"
      },
      "execution_count": 21,
      "outputs": [
        {
          "output_type": "execute_result",
          "data": {
            "text/plain": [
              "<matplotlib.axes._subplots.AxesSubplot at 0x7fba7ee40e50>"
            ]
          },
          "metadata": {},
          "execution_count": 21
        },
        {
          "output_type": "display_data",
          "data": {
            "text/plain": [
              "<Figure size 432x288 with 1 Axes>"
            ],
            "image/png": "[encoded data removed]"
          },
          "metadata": {
            "needs_background": "light"
          }
        }
      ]
    },
    {
      "cell_type": "code",
      "source": [
        "import seaborn as sns\n",
        "sns.set_style('darkgrid')"
      ],
      "metadata": {
        "id": "2yMMMku37INv"
      },
      "execution_count": 22,
      "outputs": []
    },
    {
      "cell_type": "code",
      "source": [
        "sns.histplot(cities_by_accident, log_scale=True)"
      ],
      "metadata": {
        "colab": {
          "base_uri": "https://localhost:8080/",
          "height": 300
        },
        "id": "VocqR1-c7dsy",
        "outputId": "978240cd-ae5c-495a-f8a7-1d8480ebdaa9"
      },
      "execution_count": 23,
      "outputs": [
        {
          "output_type": "execute_result",
          "data": {
            "text/plain": [
              "<matplotlib.axes._subplots.AxesSubplot at 0x7fba4999aa50>"
            ]
          },
          "metadata": {},
          "execution_count": 23
        },
        {
          "output_type": "display_data",
          "data": {
            "text/plain": [
              "<Figure size 432x288 with 1 Axes>"
            ],
            "image/png": "[encoded data removed]"
          },
          "metadata": {}
        }
      ]
    },
    {
      "cell_type": "code",
      "source": [
        "cities_by_accident[cities_by_accident == 1]"
      ],
      "metadata": {
        "id": "94Fv0uxw3bwa",
        "colab": {
          "base_uri": "https://localhost:8080/"
        },
        "outputId": "42fc82e2-3cea-450f-feff-f9b3fb7deabd"
      },
      "execution_count": 24,
      "outputs": [
        {
          "output_type": "execute_result",
          "data": {
            "text/plain": [
              "Carney                          1\n",
              "Waverly Hall                    1\n",
              "Center Sandwich                 1\n",
              "Glen Flora                      1\n",
              "Sulphur Springs                 1\n",
              "                               ..\n",
              "Ridgedale                       1\n",
              "Sekiu                           1\n",
              "Wooldridge                      1\n",
              "Bullock                         1\n",
              "American Fork-Pleasant Grove    1\n",
              "Name: City, Length: 1110, dtype: int64"
            ]
          },
          "metadata": {},
          "execution_count": 24
        }
      ]
    },
    {
      "cell_type": "markdown",
      "source": [
        "### Start Time"
      ],
      "metadata": {
        "id": "qmsSQUiTTS22"
      }
    },
    {
      "cell_type": "code",
      "source": [
        "df.Start_Time"
      ],
      "metadata": {
        "id": "yZyUpfyX3b2-",
        "colab": {
          "base_uri": "https://localhost:8080/"
        },
        "outputId": "ea6ed001-4c4e-4ee4-c630-9179dd83200a"
      },
      "execution_count": 25,
      "outputs": [
        {
          "output_type": "execute_result",
          "data": {
            "text/plain": [
              "0          2016-02-08 00:37:08\n",
              "1          2016-02-08 05:56:20\n",
              "2          2016-02-08 06:15:39\n",
              "3          2016-02-08 06:51:45\n",
              "4          2016-02-08 07:53:43\n",
              "                  ...         \n",
              "2845337    2019-08-23 18:03:25\n",
              "2845338    2019-08-23 19:11:30\n",
              "2845339    2019-08-23 19:00:21\n",
              "2845340    2019-08-23 19:00:21\n",
              "2845341    2019-08-23 18:52:06\n",
              "Name: Start_Time, Length: 2845342, dtype: object"
            ]
          },
          "metadata": {},
          "execution_count": 25
        }
      ]
    },
    {
      "cell_type": "code",
      "source": [
        "df.Start_Time[0]"
      ],
      "metadata": {
        "colab": {
          "base_uri": "https://localhost:8080/",
          "height": 35
        },
        "id": "pkl0rUoCTLEV",
        "outputId": "03316f31-0b60-48ba-ecdc-0ff283fe6c11"
      },
      "execution_count": 26,
      "outputs": [
        {
          "output_type": "execute_result",
          "data": {
            "text/plain": [
              "'2016-02-08 00:37:08'"
            ],
            "application/vnd.google.colaboratory.intrinsic+json": {
              "type": "string"
            }
          },
          "metadata": {},
          "execution_count": 26
        }
      ]
    },
    {
      "cell_type": "code",
      "source": [
        "df.Start_Time = pd.to_datetime(df.Start_Time)"
      ],
      "metadata": {
        "id": "Yk9W1e3yTK-D"
      },
      "execution_count": 27,
      "outputs": []
    },
    {
      "cell_type": "markdown",
      "source": [
        "- Fiqure out how to show percentages"
      ],
      "metadata": {
        "id": "8IsXwzQsVvgD"
      }
    },
    {
      "cell_type": "code",
      "source": [
        "sns.distplot(df.Start_Time.dt.hour, bins=24, kde=False, norm_hist=True)"
      ],
      "metadata": {
        "colab": {
          "base_uri": "https://localhost:8080/",
          "height": 352
        },
        "id": "0LJVqhWjTl4j",
        "outputId": "ae267e13-14a5-410d-facc-55faf6c4393f"
      },
      "execution_count": 28,
      "outputs": [
        {
          "output_type": "stream",
          "name": "stderr",
          "text": [
            "/usr/local/lib/python3.7/dist-packages/seaborn/distributions.py:2619: FutureWarning: `distplot` is a deprecated function and will be removed in a future version. Please adapt your code to use either `displot` (a figure-level function with similar flexibility) or `histplot` (an axes-level function for histograms).\n",
            "  warnings.warn(msg, FutureWarning)\n"
          ]
        },
        {
          "output_type": "execute_result",
          "data": {
            "text/plain": [
              "<matplotlib.axes._subplots.AxesSubplot at 0x7fba49618190>"
            ]
          },
          "metadata": {},
          "execution_count": 28
        },
        {
          "output_type": "display_data",
          "data": {
            "text/plain": [
              "<Figure size 432x288 with 1 Axes>"
            ],
            "image/png": "[encoded data removed]"
          },
          "metadata": {}
        }
      ]
    },
    {
      "cell_type": "markdown",
      "source": [
        "- A high percentage of accidents occur between 14 pm to 19 pm"
      ],
      "metadata": {
        "id": "s8TUb1x3X0CV"
      }
    },
    {
      "cell_type": "code",
      "source": [
        "sns.distplot(df.Start_Time.dt.dayofweek, bins=7, kde=False, norm_hist=True)"
      ],
      "metadata": {
        "colab": {
          "base_uri": "https://localhost:8080/",
          "height": 352
        },
        "id": "05Dph2ejTl2F",
        "outputId": "e08c9a18-13c8-4267-ab6b-c893c1a6ebda"
      },
      "execution_count": 29,
      "outputs": [
        {
          "output_type": "stream",
          "name": "stderr",
          "text": [
            "/usr/local/lib/python3.7/dist-packages/seaborn/distributions.py:2619: FutureWarning: `distplot` is a deprecated function and will be removed in a future version. Please adapt your code to use either `displot` (a figure-level function with similar flexibility) or `histplot` (an axes-level function for histograms).\n",
            "  warnings.warn(msg, FutureWarning)\n"
          ]
        },
        {
          "output_type": "execute_result",
          "data": {
            "text/plain": [
              "<matplotlib.axes._subplots.AxesSubplot at 0x7fba4a12f050>"
            ]
          },
          "metadata": {},
          "execution_count": 29
        },
        {
          "output_type": "display_data",
          "data": {
            "text/plain": [
              "<Figure size 432x288 with 1 Axes>"
            ],
            "image/png": "[encoded data removed]"
          },
          "metadata": {}
        }
      ]
    },
    {
      "cell_type": "markdown",
      "source": [
        "Is the distibution of accidents by hour the same on weekends as on weekdays. "
      ],
      "metadata": {
        "id": "Dsl4qZpRZLQs"
      }
    },
    {
      "cell_type": "code",
      "source": [
        "sundays_start_time = df.Start_Time[df.Start_Time.dt.dayofweek == 6]\n",
        "sns.distplot(sundays_start_time.dt.hour, bins=24, kde=False, norm_hist=True)"
      ],
      "metadata": {
        "colab": {
          "base_uri": "https://localhost:8080/",
          "height": 352
        },
        "id": "jQ1neLrRTly-",
        "outputId": "ee5708b9-0da0-4193-cdb3-3fdc8d449fce"
      },
      "execution_count": 30,
      "outputs": [
        {
          "output_type": "stream",
          "name": "stderr",
          "text": [
            "/usr/local/lib/python3.7/dist-packages/seaborn/distributions.py:2619: FutureWarning: `distplot` is a deprecated function and will be removed in a future version. Please adapt your code to use either `displot` (a figure-level function with similar flexibility) or `histplot` (an axes-level function for histograms).\n",
            "  warnings.warn(msg, FutureWarning)\n"
          ]
        },
        {
          "output_type": "execute_result",
          "data": {
            "text/plain": [
              "<matplotlib.axes._subplots.AxesSubplot at 0x7fba495d95d0>"
            ]
          },
          "metadata": {},
          "execution_count": 30
        },
        {
          "output_type": "display_data",
          "data": {
            "text/plain": [
              "<Figure size 432x288 with 1 Axes>"
            ],
            "image/png": "[encoded data removed]"
          },
          "metadata": {}
        }
      ]
    },
    {
      "cell_type": "code",
      "source": [
        "monday_start_time = df.Start_Time[df.Start_Time.dt.dayofweek == 0]\n",
        "sns.distplot(monday_start_time.dt.hour, bins=24, kde=False, norm_hist=True)"
      ],
      "metadata": {
        "colab": {
          "base_uri": "https://localhost:8080/",
          "height": 352
        },
        "id": "AtXw1I8ATltr",
        "outputId": "afcc7c7e-4d54-47c0-c9e8-c422a24295d6"
      },
      "execution_count": 31,
      "outputs": [
        {
          "output_type": "stream",
          "name": "stderr",
          "text": [
            "/usr/local/lib/python3.7/dist-packages/seaborn/distributions.py:2619: FutureWarning: `distplot` is a deprecated function and will be removed in a future version. Please adapt your code to use either `displot` (a figure-level function with similar flexibility) or `histplot` (an axes-level function for histograms).\n",
            "  warnings.warn(msg, FutureWarning)\n"
          ]
        },
        {
          "output_type": "execute_result",
          "data": {
            "text/plain": [
              "<matplotlib.axes._subplots.AxesSubplot at 0x7fba4951dbd0>"
            ]
          },
          "metadata": {},
          "execution_count": 31
        },
        {
          "output_type": "display_data",
          "data": {
            "text/plain": [
              "<Figure size 432x288 with 1 Axes>"
            ],
            "image/png": "[encoded data removed]"
          },
          "metadata": {}
        }
      ]
    },
    {
      "cell_type": "markdown",
      "source": [
        "On Sundays, the peak occurs between 10 am and 17 pm, unlike weekday."
      ],
      "metadata": {
        "id": "hTHuyx-OaGMl"
      }
    },
    {
      "cell_type": "code",
      "source": [
        "df_2019 = df[df.Start_Time.dt.year == 2016]\n",
        "sns.distplot(df_2019.Start_Time.dt.month, bins=12, kde=False, norm_hist=True)"
      ],
      "metadata": {
        "colab": {
          "base_uri": "https://localhost:8080/",
          "height": 352
        },
        "id": "n8vRxGJPanxH",
        "outputId": "953cc628-667f-493d-d36b-e2beb947c703"
      },
      "execution_count": 32,
      "outputs": [
        {
          "output_type": "stream",
          "name": "stderr",
          "text": [
            "/usr/local/lib/python3.7/dist-packages/seaborn/distributions.py:2619: FutureWarning: `distplot` is a deprecated function and will be removed in a future version. Please adapt your code to use either `displot` (a figure-level function with similar flexibility) or `histplot` (an axes-level function for histograms).\n",
            "  warnings.warn(msg, FutureWarning)\n"
          ]
        },
        {
          "output_type": "execute_result",
          "data": {
            "text/plain": [
              "<matplotlib.axes._subplots.AxesSubplot at 0x7fba494af290>"
            ]
          },
          "metadata": {},
          "execution_count": 32
        },
        {
          "output_type": "display_data",
          "data": {
            "text/plain": [
              "<Figure size 432x288 with 1 Axes>"
            ],
            "image/png": "[encoded data removed]"
          },
          "metadata": {}
        }
      ]
    },
    {
      "cell_type": "markdown",
      "source": [
        "Can you explain the month-wise trend of accidents? \n",
        "\n",
        "- Much data is missing for 2016. Maybe even 2017."
      ],
      "metadata": {
        "id": "yw7DQwPwbknt"
      }
    },
    {
      "cell_type": "markdown",
      "source": [
        "## Start Latitude & Longitude"
      ],
      "metadata": {
        "id": "bG4JQHmQ992s"
      }
    },
    {
      "cell_type": "code",
      "source": [
        "df.Start_Lat"
      ],
      "metadata": {
        "colab": {
          "base_uri": "https://localhost:8080/"
        },
        "id": "WUuqFiA8anok",
        "outputId": "2fc60bdd-5541-4580-fd59-b9a4c24a385e"
      },
      "execution_count": 33,
      "outputs": [
        {
          "output_type": "execute_result",
          "data": {
            "text/plain": [
              "0          40.108910\n",
              "1          39.865420\n",
              "2          39.102660\n",
              "3          41.062130\n",
              "4          39.172393\n",
              "             ...    \n",
              "2845337    34.002480\n",
              "2845338    32.766960\n",
              "2845339    33.775450\n",
              "2845340    33.992460\n",
              "2845341    34.133930\n",
              "Name: Start_Lat, Length: 2845342, dtype: float64"
            ]
          },
          "metadata": {},
          "execution_count": 33
        }
      ]
    },
    {
      "cell_type": "code",
      "source": [
        "df.Start_Lng"
      ],
      "metadata": {
        "colab": {
          "base_uri": "https://localhost:8080/"
        },
        "id": "DL3to6LJ97_g",
        "outputId": "b7ad40d2-a21e-49f6-9058-b18315039a8a"
      },
      "execution_count": 34,
      "outputs": [
        {
          "output_type": "execute_result",
          "data": {
            "text/plain": [
              "0          -83.092860\n",
              "1          -84.062800\n",
              "2          -84.524680\n",
              "3          -81.537840\n",
              "4          -84.492792\n",
              "              ...    \n",
              "2845337   -117.379360\n",
              "2845338   -117.148060\n",
              "2845339   -117.847790\n",
              "2845340   -118.403020\n",
              "2845341   -117.230920\n",
              "Name: Start_Lng, Length: 2845342, dtype: float64"
            ]
          },
          "metadata": {},
          "execution_count": 34
        }
      ]
    },
    {
      "cell_type": "code",
      "source": [
        "sample_df = df.sample(int(0.1 * len(df)))"
      ],
      "metadata": {
        "id": "_i0h8UNO979M"
      },
      "execution_count": 35,
      "outputs": []
    },
    {
      "cell_type": "code",
      "source": [
        "sns.scatterplot(x=sample_df.Start_Lng, y=sample_df.Start_Lat, size=0.001)"
      ],
      "metadata": {
        "colab": {
          "base_uri": "https://localhost:8080/",
          "height": 299
        },
        "id": "sxnU1qbl977A",
        "outputId": "697630f7-9efd-4980-83eb-04e9577a8487"
      },
      "execution_count": 41,
      "outputs": [
        {
          "output_type": "execute_result",
          "data": {
            "text/plain": [
              "<matplotlib.axes._subplots.AxesSubplot at 0x7fba4958e690>"
            ]
          },
          "metadata": {},
          "execution_count": 41
        },
        {
          "output_type": "display_data",
          "data": {
            "text/plain": [
              "<Figure size 432x288 with 1 Axes>"
            ],
            "image/png": "[encoded data removed]"
          },
          "metadata": {}
        }
      ]
    },
    {
      "cell_type": "code",
      "source": [
        "import folium"
      ],
      "metadata": {
        "id": "ner-5gP497zd"
      },
      "execution_count": 42,
      "outputs": []
    },
    {
      "cell_type": "code",
      "source": [
        "lat, lon = df.Start_Lat[0], df.Start_Lng[0]\n",
        "lat, lon"
      ],
      "metadata": {
        "colab": {
          "base_uri": "https://localhost:8080/"
        },
        "id": "UnUiGMGTAcaz",
        "outputId": "e7dafe11-cc84-4141-a7a1-6afde9b870d1"
      },
      "execution_count": 47,
      "outputs": [
        {
          "output_type": "execute_result",
          "data": {
            "text/plain": [
              "(40.10891, -83.09286)"
            ]
          },
          "metadata": {},
          "execution_count": 47
        }
      ]
    },
    {
      "cell_type": "code",
      "source": [
        "for x in df[['Start_Lat', 'Start_Lng']].sample(100).iteritems():\n",
        "  print(x[1])"
      ],
      "metadata": {
        "colab": {
          "base_uri": "https://localhost:8080/"
        },
        "id": "_XxCuZTgBLxl",
        "outputId": "8c052c90-52f8-427e-86ca-78bd6f8ad657"
      },
      "execution_count": 54,
      "outputs": [
        {
          "output_type": "stream",
          "name": "stdout",
          "text": [
            "1588808    45.991282\n",
            "1208846    30.435918\n",
            "323417     33.726436\n",
            "800874     37.821432\n",
            "2256389    37.521080\n",
            "             ...    \n",
            "2174822    30.424850\n",
            "89467      40.665900\n",
            "183753     38.754010\n",
            "83686      35.447650\n",
            "455488     40.935992\n",
            "Name: Start_Lat, Length: 100, dtype: float64\n",
            "1588808    -95.719775\n",
            "1208846    -85.873929\n",
            "323417     -78.872619\n",
            "800874     -78.722995\n",
            "2256389    -77.488380\n",
            "              ...    \n",
            "2174822    -97.713450\n",
            "89467      -73.996040\n",
            "183753    -121.264120\n",
            "83686      -80.603490\n",
            "455488     -73.855601\n",
            "Name: Start_Lng, Length: 100, dtype: float64\n"
          ]
        }
      ]
    },
    {
      "cell_type": "code",
      "source": [
        "zip(list(df.Start_Lat), list(df.Start_Lng))"
      ],
      "metadata": {
        "colab": {
          "base_uri": "https://localhost:8080/"
        },
        "id": "sM2SFY5xGihQ",
        "outputId": "4c931980-1345-435b-9186-ecca35d9646b"
      },
      "execution_count": 55,
      "outputs": [
        {
          "output_type": "execute_result",
          "data": {
            "text/plain": [
              "<zip at 0x7fba46cf6500>"
            ]
          },
          "metadata": {},
          "execution_count": 55
        }
      ]
    },
    {
      "cell_type": "code",
      "source": [
        "from folium.plugins import HeatMap"
      ],
      "metadata": {
        "id": "OB0SZ_N4HAa1"
      },
      "execution_count": 71,
      "outputs": []
    },
    {
      "cell_type": "code",
      "source": [
        "from IPython.core.display import display, HTML\n",
        "\n",
        "def folium_show(m):\n",
        "    data = m.get_root().render()\n",
        "    data_fixed_height = data.replace('width: 100%;height: 100%', 'width: 100%').replace('height: 100.0%;', 'height: 609px;', 1)\n",
        "    display(HTML(data_fixed_height))"
      ],
      "metadata": {
        "id": "5yLd2foODMfn"
      },
      "execution_count": 80,
      "outputs": []
    },
    {
      "cell_type": "code",
      "source": [
        "sample_df = df.sample(int(0.001 * len(df)))\n",
        "lat_lon_pairs = zip(list(sample_df.Start_Lat), list(sample_df.Start_Lng))"
      ],
      "metadata": {
        "id": "bkbsORlGHPG6"
      },
      "execution_count": 81,
      "outputs": []
    },
    {
      "cell_type": "code",
      "source": [
        "map = folium.Map()\n",
        "HeatMap(lat_lon_pairs).add_to(map)\n",
        "folium_show(map)"
      ],
      "metadata": {
        "colab": {
          "base_uri": "https://localhost:8080/",
          "height": 609
        },
        "id": "tER3Qq-fanmG",
        "outputId": "04fc6589-3688-4acd-a23c-c6a8af7eb272"
      },
      "execution_count": 82,
      "outputs": [
        {
          "output_type": "display_data",
          "data": {
            "text/plain": [
              "<IPython.core.display.HTML object>"
            ],
            "text/html": [
              "<!DOCTYPE html>\n",
              "<head>    \n",
              "    <meta http-equiv=\"content-type\" content=\"text/html; charset=UTF-8\" />\n",
              "    <script>L_PREFER_CANVAS=false; L_NO_TOUCH=false; L_DISABLE_3D=false;</script>\n",
              "    <script src=\"https://cdn.jsdelivr.net/npm/leaflet@1.4.0/dist/leaflet.js\"></script>\n",
              "    <script src=\"https://code.jquery.com/jquery-1.12.4.min.js\"></script>\n",
              "    <script src=\"https://maxcdn.bootstrapcdn.com/bootstrap/3.2.0/js/bootstrap.min.js\"></script>\n",
              "    <script src=\"https://cdnjs.cloudflare.com/ajax/libs/Leaflet.awesome-markers/2.0.2/leaflet.awesome-markers.js\"></script>\n",
              "    <link rel=\"stylesheet\" href=\"https://cdn.jsdelivr.net/npm/leaflet@1.4.0/dist/leaflet.css\"/>\n",
              "    <link rel=\"stylesheet\" href=\"https://maxcdn.bootstrapcdn.com/bootstrap/3.2.0/css/bootstrap.min.css\"/>\n",
              "    <link rel=\"stylesheet\" href=\"https://maxcdn.bootstrapcdn.com/bootstrap/3.2.0/css/bootstrap-theme.min.css\"/>\n",
              "    <link rel=\"stylesheet\" href=\"https://maxcdn.bootstrapcdn.com/font-awesome/4.6.3/css/font-awesome.min.css\"/>\n",
              "    <link rel=\"stylesheet\" href=\"https://cdnjs.cloudflare.com/ajax/libs/Leaflet.awesome-markers/2.0.2/leaflet.awesome-markers.css\"/>\n",
              "    <link rel=\"stylesheet\" href=\"https://rawcdn.githack.com/python-visualization/folium/master/folium/templates/leaflet.awesome.rotate.css\"/>\n",
              "    <style>html, body {width: 100%;margin: 0;padding: 0;}</style>\n",
              "    <style>#map {position:absolute;top:0;bottom:0;right:0;left:0;}</style>\n",
              "    \n",
              "    <meta name=\"viewport\" content=\"width=device-width,\n",
              "        initial-scale=1.0, maximum-scale=1.0, user-scalable=no\" />\n",
              "    <style>#map_dce3f93245d6458996c956bc146bfcb6 {\n",
              "        position: relative;\n",
              "        width: 100.0%;\n",
              "        height: 609px;\n",
              "        left: 0.0%;\n",
              "        top: 0.0%;\n",
              "        }\n",
              "    </style>\n",
              "    <script src=\"https://leaflet.github.io/Leaflet.heat/dist/leaflet-heat.js\"></script>\n",
              "</head>\n",
              "<body>    \n",
              "    \n",
              "    <div class=\"folium-map\" id=\"map_dce3f93245d6458996c956bc146bfcb6\" ></div>\n",
              "</body>\n",
              "<script>    \n",
              "    \n",
              "    \n",
              "        var bounds = null;\n",
              "    \n",
              "\n",
              "    var map_dce3f93245d6458996c956bc146bfcb6 = L.map(\n",
              "        'map_dce3f93245d6458996c956bc146bfcb6', {\n",
              "        center: [0, 0],\n",
              "        zoom: 1,\n",
              "        maxBounds: bounds,\n",
              "        layers: [],\n",
              "        worldCopyJump: false,\n",
              "        crs: L.CRS.EPSG3857,\n",
              "        zoomControl: true,\n",
              "        });\n",
              "\n",
              "\n",
              "    \n",
              "    var tile_layer_16f56ed9531549cb9e0cb18c65616b03 = L.tileLayer(\n",
              "        'https://{s}.tile.openstreetmap.org/{z}/{x}/{y}.png',\n",
              "        {\n",
              "        \"attribution\": null,\n",
              "        \"detectRetina\": false,\n",
              "        \"maxNativeZoom\": 18,\n",
              "        \"maxZoom\": 18,\n",
              "        \"minZoom\": 0,\n",
              "        \"noWrap\": false,\n",
              "        \"opacity\": 1,\n",
              "        \"subdomains\": \"abc\",\n",
              "        \"tms\": false\n",
              "}).addTo(map_dce3f93245d6458996c956bc146bfcb6);\n",
              "    \n",
              "            var heat_map_03143ebef12c49ada8ce1b0667e7add2 = L.heatLayer(\n",
              "                [[40.585009, -73.95439], [38.681139, -121.326581], [33.846082, -118.270468], [41.163871, -73.377204], [38.560722, -121.480876], [33.346382, -117.242427], [29.694421, -95.282726], [28.269936, -82.480018], [36.30052, -86.71106], [33.8035, -84.41], [39.837, -83.09363], [30.1824, -82.69001999999998], [25.807884, -80.240113], [33.981909, -117.907523], [26.092299, -80.221618], [47.688356, -114.09183], [45.019912, -123.964098], [40.134035, -75.449437], [33.616901, -84.438441], [41.557105, -72.894576], [29.731564, -95.475618], [25.714911, -80.295807], [38.917596, -123.058446], [37.385401, -121.976136], [25.827377, -80.36873], [43.596013, -83.988558], [30.493783, -91.059603], [38.445722, -122.723041], [43.102306, -77.473795], [38.707734, -121.354143], [37.317426, -121.935356], [44.05552, -123.430608], [25.925341, -80.153943], [34.145414, -79.72824], [28.397572, -81.40468], [36.982181, -121.99671], [25.68402, -80.387637], [39.641084, -78.87504399999997], [37.265743, -121.948786], [25.885453, -80.243229], [33.82575, -118.24496], [41.98005, -87.77945], [40.421714, -80.096988], [33.783524, -117.881712], [36.820474, -119.785512], [42.415992, -122.855247], [37.770949, -122.405755], [41.14999, -122.313251], [33.686464, -111.986935], [25.772091, -80.190185], [34.012187, -118.418328], [38.819293, -77.13024899999998], [34.21989, -117.398539], [32.857696000000004, -117.184473], [34.282654, -118.468719], [28.332619, -81.56953399999998], [38.44821500000001, -121.371606], [32.463516, -93.733025], [35.668115, -82.11657], [33.993883000000004, -117.888589], [36.05694, -79.104141], [29.696213, -95.526068], [38.633341, -121.328235], [44.29137100000001, -93.309942], [38.67107, -121.582863], [34.07184, -117.86993], [38.668569, -121.382979], [29.870766, -95.439188], [38.5707, -121.46851], [30.660913, -87.873558], [25.81151, -80.19982900000002], [34.321428000000004, -118.496743], [35.36506, -118.950456], [44.417349, -117.309104], [41.004745, -73.694383], [34.108061, -118.330824], [33.774522, -118.074915], [33.839040000000004, -117.94798], [35.027134999999994, -80.822953], [34.072764, -117.777976], [40.534105, -79.844539], [33.437694, -112.169218], [44.64967100000001, -117.56312], [25.687328, -80.3527], [34.808191, -82.73228], [39.43106, -77.41631], [37.784, -122.18467], [39.390653, -77.320092], [25.580829, -80.405058], [29.784923, -95.35933], [30.434902, -91.187904], [32.907844, -96.915946], [44.98335, -93.2034], [27.388219, -82.473727], [28.472394, -81.412387], [47.778666, -122.19281], [33.872533000000004, -118.202324], [46.121839, -92.887719], [38.562029, -90.397834], [30.491655, -91.123637], [28.85169, -82.487829], [37.347379, -77.35038399999998], [29.47300000000001, -98.51634], [30.447109, -97.799425], [33.581403, -112.211545], [34.026796000000004, -117.33272], [34.11972, -117.7578], [34.675954, -79.237289], [40.676337, -73.892191], [41.73481, -72.66427], [33.859804, -118.03615], [28.435052, -81.403037], [35.31564, -119.03584], [34.11198, -118.246439], [35.633338, -78.860557], [37.681758, -120.90763], [33.765939, -117.935029], [34.055001000000004, -117.299073], [34.950756, -82.265642], [32.192026, -110.840852], [40.087275, -76.55575], [40.109142, -79.315077], [36.856917, -76.273424], [40.75327, -74.21083], [33.882061, -118.1914], [45.46889, -95.05693], [33.867246, -117.746139], [34.161096, -118.469612], [25.684604, -80.400559], [34.156661, -118.413771], [37.332962, -119.650932], [37.016581, -122.027607], [40.628224, -75.28058399999998], [33.149684, -117.197608], [41.98764, -73.18335], [26.112755, -80.30447], [39.046686, -94.650596], [25.94108, -80.24337], [25.826215, -80.327206], [33.060359000000005, -80.663311], [44.153359, -91.805873], [41.072698, -85.815614], [42.07689600000001, -122.602025], [25.885445, -80.15999599999998], [33.883556, -117.535805], [36.747306, -121.770442], [30.75107, -85.26784], [37.032869, -122.022606], [41.42739, -81.81818], [28.449924, -81.479136], [34.08719, -117.665876], [28.198267, -82.739933], [32.272945, -110.914131], [39.09269000000001, -94.59094], [40.691545, -73.999259], [29.95925200000001, -90.101482], [34.040815, -80.99711500000002], [35.15317, -90.144442], [46.19393, -123.85108], [38.31424000000001, -78.930237], [41.20801, -73.094583], [33.673703, -117.755719], [37.104939, -113.56006200000002], [29.784540000000003, -95.60454], [31.931896, -106.385728], [34.729868, -82.746341], [34.185561, -118.317558], [32.670907, -96.82245], [35.211578, -80.689451], [45.182486, -110.888432], [44.73684, -93.2832], [33.880662, -84.47300899999998], [33.38581, -111.90927], [41.106795, -112.00691299999998], [30.574213, -87.08676], [28.286622, -81.34927900000002], [34.071769, -117.960287], [47.805141, -103.026192], [37.298131, -120.48663], [35.016109, -85.125826], [37.89741, -122.311741], [39.05748, -121.449404], [28.024681, -82.707561], [41.62432, -87.69068], [44.55133, -123.061627], [37.267386, -93.126509], [32.801563, -96.793409], [42.138275, -79.926419], [25.839958, -80.316328], [27.70196, -82.6792], [34.155946, -79.872826], [38.107197, -122.229754], [28.551982, -81.395881], [38.880072, -78.24651899999998], [42.174257, -121.798655], [32.27664, -90.178258], [33.13861, -117.08321399999998], [41.000336, -73.65298], [38.573802, -78.740226], [39.130871, -76.23215400000002], [44.384561, -93.443387], [39.82788, -75.22369], [36.894236, -76.42635600000001], [40.809087, -74.06423199999998], [38.569124, -123.3209], [34.043031, -118.21722], [32.798603, -96.717714], [33.43677, -112.10826000000002], [40.67678, -74.00142], [34.034694, -118.704435], [40.28648, -75.59873], [43.157378, -77.64398], [43.060617, -83.764292], [34.281753, -118.695269], [41.96412, -92.38278], [39.025786, -76.96739699999998], [30.43737, -91.08486], [33.181143, -117.342714], [35.65844699999999, -78.71779599999998], [25.577097, -80.409143], [33.79938, -117.89767], [39.951615, -75.182521], [35.033111, -85.277897], [28.552325, -81.364446], [40.57992700000001, -75.828135], [41.78369, -72.660302], [42.173732, -121.723572], [37.419453, -122.17588899999998], [33.979543, -118.167352], [32.839475, -97.317506], [25.688685, -80.478426], [38.73662, -121.223107], [25.78084, -80.19989], [33.139871, -117.331925], [44.251751, -121.18443], [45.832697, -95.161503], [33.94119, -117.23809], [39.90488, -84.387519], [36.286393, -119.063547], [42.935775, -85.640029], [34.044798, -117.715703], [32.843104, -117.086109], [40.117918, -75.136517], [40.249772, -75.348287], [37.17026, -121.9898], [32.72177, -117.07895], [40.318686, -75.936773], [37.611653, -122.394615], [32.235796, -110.97794], [43.05405, -76.1529], [41.324161, -72.883093], [32.933223, -96.821945], [44.403, -120.505412], [33.63735, -112.27408], [30.356074, -97.683516], [28.342545, -81.419414], [33.714439, -84.268659], [28.432848, -82.619373], [28.295914, -81.590574], [37.315018, -121.909068], [45.43337, -122.56589], [30.19045, -90.43865], [34.072692, -118.0559], [35.026115000000004, -85.312727], [35.199231, -118.519974], [28.79671, -81.33962], [36.808262, -119.875257], [36.16103, -86.793075], [32.63363, -96.857168], [40.5634, -84.1702], [37.125177, -122.127461], [39.37831, -76.7439], [38.906748, -77.20770999999998], [28.832851, -81.77495], [29.656165, -98.625887], [28.080545, -81.966334], [41.458006, -75.66388], [41.81124000000001, -71.35393], [32.334601, -95.29109], [40.324998, -74.098848], [26.11768, -80.3302], [37.77685, -122.23625], [33.85018, -118.20532], [38.845807, -121.48816], [41.544064, -73.044595], [33.825615, -118.228158], [33.459445, -111.997782], [45.514694, -122.700595], [36.23158, -86.78156], [34.065339, -118.251809], [37.823599, -79.442642], [39.376822, -120.02883500000002], [38.709415, -77.19301999999998], [32.912818, -117.229], [35.825595, -78.586636], [36.840433, -76.021051], [46.255692, -106.697899], [38.837088, -77.447422], [25.811566, -80.37058499999998], [47.719749, -122.324234], [40.75327, -74.21083], [45.268389, -93.556016], [33.948892, -117.553436], [34.069944, -117.12541], [46.176241, -123.754964], [39.028793, -94.25902], [41.57665, -93.59683], [25.747746, -80.334587], [36.142198, -86.710213], [25.623637, -80.382118], [39.82455, -75.0816], [33.975353000000005, -118.125102], [42.26595, -83.22893], [37.858829, -121.281403], [33.939395000000005, -84.155173], [25.750424, -80.208453], [35.135503, -85.246774], [42.32518, -88.17926], [28.5494, -81.38196500000002], [39.933342, -75.14514100000002], [34.300555, -117.458712], [37.451382, -121.89265], [38.999918, -77.331897], [36.05544, -80.15789000000002], [41.236953, -81.533047], [44.86353, -93.35], [33.887003, -79.048502], [38.96272, -76.86694], [33.552199, -112.202023], [42.632983, -73.76493], [30.387503, -97.649666], [33.63224, -117.846869], [44.8597, -93.366], [41.767326, -72.61936], [26.46674, -80.08927], [44.284182, -123.060747], [28.449924, -81.479136], [32.82206, -96.78605], [36.077075, -86.694672], [25.704827, -80.285374], [35.376225, -119.174526], [34.226589000000004, -118.412347], [37.258529, -122.121069], [40.60154, -74.060994], [45.424646, -92.989654], [35.239308, -80.842146], [34.066520000000004, -117.205256], [39.952688, -86.360157], [35.398069, -118.889738], [29.96808, -90.112466], [28.335167, -81.378124], [34.02324, -117.81159], [40.2624, -111.70729], [25.823117, -80.206385], [33.134645, -117.128437], [33.907655, -117.882353], [35.758417, -78.56114000000002], [28.22302800000001, -81.662273], [33.82281, -84.49204], [26.224243, -80.13625], [33.99712, -117.8657], [37.7129, -122.170324], [40.18278400000001, -78.614713], [37.631531, -77.377964], [42.117596, -73.956103], [35.91649, -78.38559000000002], [25.904143, -80.21006], [34.858704, -82.614674], [45.65097, -122.56654], [42.043572, -71.055634], [45.15074, -121.6405], [33.01882, -117.0788], [35.74852, -78.70204], [25.733059, -80.317751], [33.151616, -82.47353000000003], [40.020563, -75.20997], [34.146033, -118.470779], [40.700163, -74.134407], [34.525231, -82.61103], [32.457808, -93.86575], [40.712639, -74.319559], [34.164294, -117.333297], [33.935919, -117.290478], [38.256031, -122.327893], [37.97324, -122.062065], [33.429555, -112.086073], [42.38581, -83.26859], [41.14092, -111.91639], [25.687934, -80.350774], [34.914926, -117.12549], [40.73986, -74.21619399999999], [32.679614, -86.926683], [47.5017, -122.19629], [45.57655, -122.64395], [40.63344, -73.88200400000002], [38.496158, -121.429183], [33.423515, -111.926366], [43.088368, -76.348789], [36.150716, -78.721772], [41.844176, -93.570937], [33.904357, -117.460408], [30.463985, -84.345136], [38.540398, -75.94515600000003], [33.754836, -117.85195], [45.53038, -122.63753], [39.022625, -122.675176], [25.85816, -80.208], [39.582139, -76.982372], [47.804498, -103.197681], [37.778066, -122.401202], [37.372623, -79.914754], [34.030247, -117.706853], [35.697699, -78.589788], [25.92923900000001, -80.289932], [29.725023, -95.460194], [29.832490000000004, -95.469137], [33.742536, -117.437822], [35.24714, -80.788261], [40.768747, -73.908422], [28.44869000000001, -81.397791], [33.139243, -117.143333], [34.035525, -81.089877], [37.34448, -121.845143], [37.689835, -122.062288], [35.2381, -118.842512], [35.569777, -84.543396], [30.50427, -87.27539], [40.925048, -75.04811099999998], [25.809734, -80.33203], [26.081672, -80.1704], [34.0247, -117.7365], [38.54591, -121.72606], [25.732179, -80.37175400000002], [35.261108, -80.890202], [42.504939, -83.11464000000002], [38.617305, -121.410682], [30.100897, -82.64599399999999], [34.057903, -118.639178], [43.9295, -92.38062], [28.654793, -81.226588], [33.928979, -118.230317], [38.971778, -77.179201], [40.314785, -121.000007], [25.955786, -80.205562], [28.556487, -81.395637], [42.931939, -85.68101], [37.55382, -122.296399], [34.08169, -117.716166], [26.435654, -81.81093299999998], [34.066145, -117.509282], [42.47579, -83.13332], [28.56705800000001, -81.28600899999998], [25.92792, -80.20861500000002], [39.04598, -77.03227], [33.97133, -117.3311], [43.020471, -83.730576], [34.153275, -118.413789], [35.383437, -119.216556], [42.791554, -73.761517], [39.855057, -75.09780500000002], [37.826405, -121.289917], [35.28462800000001, -81.205585], [36.777375, -121.657187], [34.829609999999995, -82.2943], [29.723543, -95.495517], [37.317935, -121.980482], [38.309401, -85.847243], [34.032887, -118.117951], [34.349817, -119.056974], [41.086505, -111.998465], [34.023959999999995, -117.770572], [34.943594, -82.66955300000002], [36.826804, -121.382392], [38.448902, -81.513375], [28.448906, -81.40112099999997], [32.257634, -110.967684], [33.306702, -111.744051], [30.175956, -81.55901300000002], [32.853596, -117.232233], [40.695074, -73.823676], [29.60019, -95.34599], [42.43559000000001, -82.92168000000002], [26.781401, -80.09935], [35.352276, -118.999947], [37.491412, -121.930441], [36.928321, -120.838118], [37.583638, -77.47420100000002], [38.412976, -120.59318], [26.98393, -82.02641], [44.38318, -72.92579], [30.296997, -97.758417], [35.540681, -120.713394], [34.029941, -118.44219], [33.994228, -117.888541], [28.598887, -81.299091], [29.634788, -95.236384], [41.55249, -73.05542], [38.611744, -121.40154], [37.752806, -121.142277], [36.763509, -120.386797], [37.062407, -81.75233100000001], [43.21588, -88.15056], [47.42902, -122.27425], [34.205997, -118.223399], [34.022859000000004, -118.168975], [25.688624, -80.365888], [42.123845, -73.709689], [28.486795, -81.419402], [37.71868, -121.662296], [32.798096, -96.818896], [36.200835, -86.769689], [25.626241, -80.342207], [33.139509999999994, -111.85887], [45.07552, -93.185166], [45.001936, -93.282826], [39.664069, -77.182757], [42.427679, -121.854279], [33.926814, -118.045269], [33.740534000000004, -117.833811], [28.552925, -81.412657], [33.679846999999995, -117.76078], [32.928111, -96.803616], [44.8885, -93.3255], [40.508773, -78.401344], [32.00783, -81.28054], [37.99231, -122.30679], [34.029264000000005, -118.20008500000002], [35.102154, -81.64185400000002], [38.516596, -121.521395], [34.057975, -118.17883799999998], [44.42447, -121.83757], [25.678744, -80.31760899999998], [34.03037, -117.63364], [32.75894, -97.00126], [33.411811, -79.186874], [40.587991, -112.025173], [39.71788, -83.7757], [34.388027, -82.766696], [28.357449, -81.495717], [30.682463, -84.506004], [33.868886, -118.284784], [37.891554, -121.491822], [47.391203, -122.283559], [38.89552, -77.02965], [41.10642, -73.41585699999997], [35.354204, -119.252349], [27.409483, -82.570592], [35.655254, -119.078844], [42.35946, -83.57555], [40.753658, -73.83753399999998], [34.359365000000004, -118.553949], [37.783449, -121.240922], [37.091635, -76.461528], [44.939185, -93.348712], [45.03933, -93.28487], [26.611423, -80.06878], [33.363764, -111.913629], [27.7036, -80.89527], [36.01824000000001, -80.41447], [38.167225, -122.202959], [25.656208, -80.415871], [32.968603, -96.923008], [33.930170000000004, -117.88006], [46.037424, -95.836004], [30.550805, -84.223845], [42.40054, -83.07091], [33.895720000000004, -118.28631], [45.52642, -122.68732], [41.252599, -85.347279], [35.053049, -85.045603], [33.06548, -96.88987], [35.684323, -78.840824], [32.236255, -110.87368899999998], [43.15409, -75.97332], [28.554384, -81.364453], [45.5067, -122.67121000000002], [39.19277, -76.602977], [32.761884, -117.205077], [33.46253, -112.20977], [38.860866, -110.816326], [28.613988, -81.386901], [43.02209000000001, -123.2994], [44.966601, -93.273507], [39.584488, -76.097379], [33.296386, -117.201962], [30.332017, -95.36024], [28.127797, -82.502321], [29.673776, -95.493114], [30.485826, -81.64263299999998], [39.77012, -104.99179], [37.002994, -121.55655], [41.07615300000001, -75.565649], [43.15548, -88.05736999999998], [36.05343, -86.69058000000004], [36.125345, -119.071813], [41.003197, -76.832145], [36.03595, -86.61113], [34.45278, -117.661639], [38.879741, -77.24168900000002], [39.94019, -75.36054], [34.148423, -118.279393], [34.903175, -81.912336], [33.929077, -118.23346], [35.18644000000001, -80.9689], [37.526055, -122.511994], [41.56961, -87.37576], [34.023340999999995, -118.171302], [34.0369, -118.31664], [34.24779, -118.42585], [25.688289, -80.327775], [28.551744, -81.505862], [40.0612, -76.35512], [32.774246999999995, -96.790342], [39.159904, -121.748942], [34.735089, -86.597939], [32.890865999999995, -96.708987], [25.941051, -80.24421], [40.71826, -112.072634], [45.107942, -123.067291], [33.416606, -111.891932], [35.183421, -80.775894], [33.700628, -81.211252], [40.82483, -73.93104], [25.80677, -80.264075], [38.844163, -77.074783], [34.077581, -118.279695], [40.691879, -74.107274], [25.899184, -80.191929], [38.04759, -122.12541], [48.384615, -114.115751], [40.532964, -122.121058], [32.594752, -80.913193], [32.810109999999995, -96.803444], [43.15957, -76.12103], [35.75197, -78.648953], [34.07184, -118.12059], [47.230399, -122.449579], [33.99426, -117.90508], [39.051085, -94.7903], [25.80983, -80.20553000000002], [38.107151, -121.700136], [40.71128, -74.00361], [35.48909000000001, -80.87337], [33.946771000000005, -84.513293], [25.782142, -80.396248], [25.631644, -80.41476800000002], [37.782148, -121.530841], [44.966375, -93.249511], [32.760649, -117.168922], [34.120999, -117.881397], [40.760119, -74.115403], [36.34313, -78.403403], [34.923817, -81.998529], [34.172114, -118.46751], [30.258182, -82.72579499999998], [28.34684600000001, -81.673722], [38.84218, -104.81505], [43.599163, -116.557456], [26.652747, -80.06885], [37.849415, -120.998384], [45.452831, -122.573143], [42.476228000000006, -88.10429599999998], [43.18513, -70.8871], [47.134383, -112.333434], [26.617893, -81.766862], [33.782819, -84.49588100000003], [35.717144, -78.589752], [36.815499, -119.831893], [34.033399, -117.55006000000002], [28.52534600000001, -81.38595699999998], [37.95299, -121.30888], [33.758962, -118.021745], [33.968144, -118.167655], [25.672817, -80.400233], [35.927957, -84.045662], [25.880005, -80.242866], [39.699672, -86.153536], [34.162156, -118.15828700000002], [39.848495, -111.835809], [45.070928, -93.307968], [44.425352, -121.841329], [32.086395, -81.28667800000002], [32.67005, -96.82249], [37.259756, -121.858624], [38.91555, -77.2175], [27.597656, -82.636738], [34.065884000000004, -118.000374], [39.71514000000001, -86.12059599999998], [42.657924, -122.6837], [32.726875, -117.16789], [40.607517, -74.08702199999998], [39.480507, -121.530557], [32.727806, -117.104933], [40.736998, -73.83663100000003], [40.579881, -75.624864], [38.70387, -121.3637], [40.125898, -75.521704], [34.126455, -118.372119], [34.753207, -86.464457], [32.724152000000004, -117.155452], [32.976011, -117.087918], [34.058271000000005, -117.170659], [42.351309, -87.84988100000002], [34.07245, -117.94127], [25.972673, -80.24029200000003], [35.787964, -78.661866], [27.893822, -82.334747], [41.546536, -112.067581], [27.903095, -82.636016], [25.769469, -80.33806899999998], [39.359855, -76.504799], [40.766854, -123.09525], [40.721731, -111.54472], [25.898327, -80.309178], [38.51945, -121.521974], [35.97795, -78.87999], [35.036923, -85.151862], [30.4157, -95.49016], [34.0958, -117.30201], [35.093871, -80.935008], [33.851119, -117.879706], [45.4079, -122.56884], [34.146742, -117.25047], [38.64499, -121.38826], [33.903728, -118.364148], [34.029519, -118.432301], [27.69356, -80.88985799999998], [27.993658, -82.74635699999997], [37.085391, -76.45537], [28.990484, -82.141889], [32.76736, -96.77737], [33.974651, -118.28396], [33.877590000000005, -117.463728], [39.477406, -121.575812], [36.148837, -86.762468], [35.75765999999999, -78.61305], [37.10436, -121.97517], [30.203143, -85.62163699999998], [40.84396, -77.81826], [39.379641, -76.471716], [25.947339000000003, -80.150637], [34.167534, -118.300341], [28.554074, -81.318993], [37.70107, -121.81282], [38.199713, -79.011375], [34.485997, -117.137591], [30.262015, -97.888043], [37.67511, -122.115184], [38.87932, -77.25435], [30.394545, -91.180479], [41.50714, -71.35833000000002], [35.023957, -85.324876], [34.792102, -82.40832900000002], [39.725096, -86.264312], [45.69696, -93.82333], [39.214014, -120.99203500000002], [39.591846, -119.828754], [38.552585, -121.41489], [40.436824, -79.86519399999997], [41.86541, -88.20464], [41.87043, -78.712009], [38.595493, -77.80098199999998], [33.751298, -84.45036999999998], [25.807491, -80.305025], [36.485367, -118.837812], [28.02722, -82.18061], [45.479525, -122.791711], [34.282485, -118.862759], [38.564093, -121.495323], [35.23159099999999, -80.740122], [42.378934, -87.904538], [44.92346, -93.40171], [33.8664, -117.2615], [29.726941, -95.349816], [45.01054, -93.14647], [38.072143, -122.229022], [25.688431, -80.317284], [39.91368, -86.08613000000004], [36.05888, -79.67536], [28.270863, -81.43661800000002], [45.290333, -93.555976], [32.510554, -80.994227], [27.84664, -82.34692], [32.913235, -96.803563], [39.80338, -86.10255], [38.562923, -121.640828], [33.855453000000004, -117.970021], [37.528306, -121.945698], [33.610890000000005, -112.11497], [30.276865, -97.700343], [40.354742, -78.51311899999997], [38.58112, -121.3644], [38.297797, -120.704682], [25.93699, -80.126048], [42.70799, -84.73961], [34.183365, -79.384263], [25.928419, -80.20604300000002], [35.351618, -118.931982], [34.070251, -117.204156], [34.034904, -118.175221], [34.040071999999995, -117.989389], [37.386355, -122.26427], [34.250015999999995, -117.178162], [27.043819, -82.23617], [38.891295, -121.180572], [43.051661, -76.12758000000002], [35.312224, -117.986958], [39.98757, -76.27658000000002], [29.085756, -82.185148], [45.327298, -123.181398], [33.75862, -84.37915], [43.633812, -116.356212], [40.75848, -111.89098], [45.491958, -123.654472], [30.516562, -87.272033], [45.43834, -122.56758899999998], [32.774124, -96.778517], [38.770542, -90.339174], [44.89873, -93.134053], [40.3094, -76.880712], [32.81498, -96.86676], [34.511007, -82.305753], [34.09395, -117.956767], [25.912706, -80.238132], [44.294804, -121.35645], [42.66369, -112.9987], [34.069706, -117.54506200000002], [34.293938, -79.646002], [38.94139000000001, -94.85768], [37.552072, -77.47760500000003], [44.861522, -93.298484], [25.68692, -80.416652], [35.73568200000001, -119.742339], [29.656265, -95.53389], [40.122541, -111.659047], [44.779039, -93.216816], [36.761036, -121.739253], [45.567202, -117.973523], [37.46311, -122.145212], [39.043786, -121.0945], [37.493181, -120.501426], [36.062589, -80.231319], [44.886606, -93.296252], [44.893413, -124.017007], [39.502198, -76.373581], [40.737837, -74.059741], [47.66734, -122.68786], [41.84516, -87.6311], [33.499449, -112.04359], [34.277848, -118.608301], [33.54444, -86.75935], [39.602214, -104.888992], [37.82268300000001, -122.322362], [37.45954, -122.226144], [45.984896, -107.996045], [38.677658, -121.854503], [28.450897, -81.387312], [36.598711, -121.864556], [38.804028, -90.768121], [42.46627, -88.03757], [44.97042800000001, -93.345644], [38.595393, -121.415242], [41.94842, -87.72163], [48.588355, -121.39149], [34.020422, -118.478447], [45.101201, -93.300528], [32.7915, -96.746989], [28.39295, -81.244247], [45.30970900000001, -122.661677], [40.551026, -112.299232], [41.905941, -77.534249], [29.843794, -95.31904], [43.223754, -77.65904300000003], [39.52878, -119.72227], [34.85499, -82.32099000000002], [30.759861, -85.095247], [28.673785, -81.468053], [34.127083, -118.091085], [25.79903, -80.33716700000002], [48.386572, -115.534996], [41.819, -87.73767], [36.16787, -86.82079], [27.381609, -82.447189], [28.332599, -81.590686], [33.855271, -117.970275], [41.29206, -72.920776], [35.1346, -80.93936], [44.14037, -123.05293], [33.873513, -118.248766], [35.017136, -82.107576], [30.663838, -87.960418], [40.82881500000001, -73.843902], [40.09604, -75.295987], [42.850832, -85.582991], [47.76844000000001, -95.00064], [39.558052, -122.004298], [25.67973, -80.38875], [43.861183, -91.740776], [32.851127000000005, -96.776987], [30.02591, -90.02999799999998], [27.69974, -80.90434], [34.047178, -118.214596], [37.337633, -122.394174], [37.699778, -122.471334], [41.968828, -123.746001], [34.645868, -86.831388], [37.866707, -121.637734], [33.458109, -112.358496], [45.070655, -93.305685], [39.091099, -84.52259000000002], [44.878267, -121.42935], [37.745275, -81.207523], [28.575209, -81.451796], [38.663517, -121.350507], [34.117709000000005, -117.851821], [39.912975, -75.571826], [35.0051, -85.22723], [40.550619, -74.275812], [28.395211, -81.404673], [43.153622, -121.79486], [34.304884, -119.347583], [40.266362, -77.049897], [41.67163, -72.84385], [39.590156, -107.183344], [28.552407, -81.447519], [45.525378, -122.662061], [38.211236, -122.256211], [39.241035, -76.584277], [44.97726, -122.99123], [38.98071, -77.336431], [38.55518, -90.4168], [32.250469, -110.995477], [40.112167, -123.727127], [43.153689, -121.794848], [36.187584, -86.776057], [34.019717, -117.542427], [25.963746, -80.147486], [43.05879, -76.09929], [30.210951, -97.637752], [38.942602, -94.757391], [42.39792, -82.98566], [34.256004, -118.326476], [32.774995000000004, -96.778639], [34.061466, -117.789162], [28.51405, -81.376315], [33.904315000000004, -80.091537], [33.8769, -118.18724], [43.591297, -116.294107], [44.966127, -93.25785], [40.358802, -109.617429], [40.553423, -74.317456], [38.845807, -121.48816], [40.719784, -73.83386899999998], [28.551097, -81.27654799999998], [27.493340000000003, -81.485683], [28.003389, -82.408829], [25.685064, -80.427401], [34.031220000000005, -118.274582], [34.09535, -83.818591], [25.819099, -80.206162], [45.54046500000001, -122.671269], [26.38721, -81.77392900000002], [28.025464000000003, -82.501703], [39.596304, -121.689674], [34.610505, -120.152149], [32.989768, -96.710363], [34.038084999999995, -118.317694], [39.722496, -104.825738], [43.244288, -122.153002], [26.006022, -80.214775], [40.262092, -74.51218399999998], [41.77030900000001, -72.681888], [39.99088, -76.01309], [28.036388, -82.503439], [47.259655, -122.327965], [48.242566, -122.244306], [37.324336, -120.851143], [34.095283, -80.963142], [42.958152, -76.924841], [33.788854, -117.886529], [33.990787, -87.48045], [37.740064, -122.143818], [42.474828, -83.172801], [38.99684, -77.02543], [32.250161, -110.982891], [29.819929, -95.33503], [40.43287, -79.74691999999997], [33.846297, -117.854507], [35.813292, -78.60215600000002], [28.492772, -81.39675600000002], [37.684425, -77.66755699999999], [35.163084000000005, -80.870011], [25.818973, -80.248736], [37.323799, -120.619145], [33.973766999999995, -117.373282], [30.871927000000003, -88.053105], [40.737358, -73.974498], [33.967387, -118.237954], [36.210158, -111.050129], [35.61765, -78.56725], [33.92135, -118.369048], [29.958826, -90.077923], [34.0273, -118.45763], [36.570243, -121.801805], [44.597651, -94.375938], [34.034938000000004, -118.17356399999998], [42.46855, -71.67367], [32.9069, -96.72828], [39.3797, -76.47275], [47.036967, -96.923096], [30.280006, -81.521742], [30.384338, -97.691893], [44.55153, -123.06163], [43.023743, -83.7129], [44.5662, -120.14531399999998], [34.069688, -80.951832], [32.7205, -96.915], [38.35051, -122.712992], [42.41517, -83.08511999999997], [39.91989, -86.10661], [27.269946, -82.497545], [45.02088, -93.05137], [34.02046, -118.19567], [40.02168, -79.08471], [29.56186, -82.906998], [45.105209, -122.888527], [36.16702100000001, -86.779776], [34.184614, -117.433771], [44.787644, -117.811063], [33.39159, -117.17436], [47.978369, -122.156691], [41.550009, -122.48362], [37.531826, -122.006177], [40.703932, -73.817509], [39.976826, -105.213716], [29.950721, -90.133984], [39.80382, -86.05289300000004], [32.16314000000001, -110.92629], [33.62990300000001, -84.091608], [30.471715000000003, -91.08474], [27.46498, -82.56286], [45.241967, -93.663371], [28.05451, -82.01191999999998], [34.15238, -118.1234], [42.91624, -89.08521999999998], [25.984683, -80.173183], [40.526622, -74.27074300000002], [40.00846, -79.07856], [39.048647, -84.449674], [39.988077, -75.589681], [25.749454, -80.335813], [41.99316, -87.95939], [34.161207, -118.469783], [38.358904, -81.640618], [30.447384000000003, -86.874833], [35.84414500000001, -78.680541], [38.748486, -120.617677], [39.748869, -84.227276], [34.284585, -79.433909], [37.367327, -77.403499], [37.50679, -122.117112], [30.313732, -81.66050899999998], [34.917275, -82.461354], [42.020748, -87.94054], [33.994141, -117.35934], [40.893399, -73.816524], [38.375495, -77.53385300000002], [29.841388, -95.494612], [25.578436, -80.369863], [42.934353, -85.618944], [32.623326, -81.126177], [38.409855, -78.92873399999998], [38.48184000000001, -121.43073], [44.09794, -123.14747], [33.370452, -117.249334], [34.685948, -82.91299000000002], [28.17424, -80.67207900000002], [42.86659, -78.69697], [40.620002, -74.310053], [45.628263, -94.17522], [47.798205, -104.165149], [44.422649, -121.855019], [32.76899, -96.91521], [29.53281, -98.38968], [34.071742, -117.947989], [34.648516, -83.133562], [39.115737, -121.936584], [26.447457, -80.08993199999998], [32.923465, -96.764566], [33.85375, -117.884663], [39.725779, -105.048362], [33.930881, -118.368253], [33.856068, -118.011935], [42.277053, -84.351128], [39.942551, -75.142944], [33.860099, -117.717342], [39.752616, -105.661018], [40.742525, -74.214545], [40.86533, -73.97508], [43.69447, -123.20087], [28.059407, -82.711672], [34.033159999999995, -118.138339], [35.339755, -80.70419], [44.059349, -93.19774], [33.975946, -118.066381], [28.421363, -81.402794], [40.848101, -76.818798], [40.905468, -123.7812], [37.76384, -121.96803], [34.018685, -117.987568], [30.399636, -91.091211], [35.129401, -81.309935], [41.21767, -74.03329000000002], [39.604663, -77.729036], [26.410647, -80.089798], [37.49189000000001, -121.91919], [37.99256, -121.76805], [44.28295900000001, -93.956633], [34.102925, -118.194952], [37.515172, -121.939802], [25.813525, -80.246544], [35.191519, -89.933437], [41.72711, -71.460626], [44.54363, -93.5861], [40.895084, -74.242705], [40.240322, -75.232563], [47.90703, -122.21092], [43.059186, -83.86242299999998], [38.8475, -120.02814], [37.36281, -121.84308], [44.543691, -93.483706], [36.867231, -76.431938], [34.235104, -118.29051], [32.713283000000004, -117.141584], [25.763135, -80.302862], [40.6217, -111.90387], [40.013901, -78.468559], [36.12018, -115.18081], [40.644218, -124.21866], [36.21459, -86.60481], [35.831802, -78.676948], [34.144207, -79.770673], [37.619701, -84.76324], [34.416443, -119.691807], [32.678911, -96.674985], [37.53745, -77.52901999999997], [38.872214, -77.04316], [41.213584, -73.260201], [33.61428, -111.89102], [39.87947, -104.88981], [40.255124, -75.353262], [39.205528, -78.135894], [28.333021, -81.488636], [39.824978, -75.082165], [33.734904, -84.392198], [33.685592, -78.982268], [35.064142, -81.773172], [34.070235, -117.962004], [32.982705, -117.083734], [38.690403, -120.788088], [34.376939, -81.67810300000002], [28.53546, -81.310448], [34.1762, -80.977209], [34.21883, -82.653213], [32.832502000000005, -117.118855], [37.70697, -121.72838], [41.847467, -71.95891800000003], [26.622372, -80.067318], [33.3855, -111.92113], [35.39212, -97.26375], [39.800037, -104.933424], [26.492753000000004, -81.80742], [39.706252, -86.108919], [44.749921, -93.379658], [34.35638, -117.4382], [34.13636, -118.36071], [25.896545, -80.287796], [33.7417, -117.83709], [30.191926, -97.775447], [44.629821, -122.952454], [33.656131, -117.292949], [34.071911, -117.769223], [37.034671, -120.147839], [37.889202, -121.641395], [27.525854, -82.36761899999998], [43.65985, -93.036271], [32.868872, -96.667402], [37.95662, -122.05283], [25.544686, -80.37207], [39.218884, -85.334147], [41.10144, -73.98703], [34.175559, -79.86537], [39.027325, -94.554236], [29.594988, -95.459171], [34.072520000000004, -118.05225], [40.71277, -74.31853000000002], [44.86224, -93.26812], [28.598601, -81.266801], [40.62792, -111.44353999999998], [34.118577, -117.865462], [39.11743, -77.19464], [40.50668, -111.8913], [40.72547700000001, -78.10963000000002], [33.061623, -80.176675], [36.978638, -76.423299], [45.456127, -122.712388], [25.939703, -80.188672], [40.63196, -73.88391], [33.932033000000004, -118.090206], [38.88776, -76.96181], [42.669814, -73.737434], [25.963413, -80.150151], [36.02094500000001, -95.882387], [34.179012, -118.165745], [40.547223, -74.327083], [36.95983, -81.06149], [34.050362, -118.264565], [43.053764, -70.77015300000002], [35.042069, -81.82174], [40.807567, -73.926519], [33.59839, -117.677317], [34.140745, -118.471158], [39.175531, -94.533909], [39.285017, -77.327238], [35.036988, -85.152035], [38.856015, -76.99363699999998], [25.923179, -80.211568], [35.745991, -78.77652900000002], [40.610522, -74.098244], [38.916717, -94.767154], [32.920608, -80.03716700000003], [33.581031, -112.237046], [43.7203, -70.30516], [33.499106, -82.801476], [30.456168, -91.097818], [42.371274, -71.06172600000002], [30.22082, -81.58593], [28.171806, -82.461285], [25.8219, -80.206549], [43.37686, -124.215002], [41.13458, -74.16811], [25.903154, -80.324381], [34.913853, -118.923425], [35.772289, -78.741577], [33.181872, -117.32507], [34.81432, -82.33424000000002], [33.774507, -118.080158], [36.128001, -86.851964], [25.703406, -80.309637], [32.837740000000004, -96.87542], [39.90653, -77.83976], [37.579625, -122.050498], [29.653321, -82.40888000000002], [39.70399000000001, -86.09253000000002], [33.774753999999994, -118.086449], [35.8583, -78.810489], [33.574218, -117.180989], [37.841363, -122.297042], [33.935976000000004, -117.290226], [41.58853, -87.22681999999998], [42.238215, -120.296484], [37.583964, -122.32836100000002], [28.304515, -81.443865], [25.721375, -80.382805], [28.633557, -81.453825], [30.45745, -91.17533], [25.73417, -80.302918], [25.959427, -80.205823], [37.5303, -77.429762], [33.948264, -118.279339], [32.913529, -96.871518], [32.75995, -117.19982], [33.038991, -97.003387], [44.974456, -93.400584], [33.313974, -80.543295], [29.960054, -90.077045], [35.030849, -85.307342], [37.72342, -113.05748], [42.24068, -83.75685], [38.430122, -121.488028], [36.206873, -79.987775], [30.22239, -97.664895], [38.52494, -121.462803], [26.552090000000003, -81.79522], [34.017508, -117.479571], [42.341984, -71.06275600000002], [47.79158, -122.20754], [34.230721, -118.397967], [40.828736, -74.027315], [40.149155, -75.099051], [43.43896, -118.65121200000002], [33.93901, -117.13695], [45.204363, -93.863377], [42.971492, -83.672332], [39.116724, -108.354774], [33.99765, -118.36943], [36.837526, -76.065155], [29.625524, -95.284064], [29.8471, -95.423024], [38.675423, -121.077683], [45.58455, -122.687], [25.630294, -80.41471800000002], [30.42372, -86.60939], [37.891749, -122.308613], [36.157492, -86.785372], [41.87116, -87.84857], [33.209388, -100.747387], [26.08676, -80.21368000000002], [42.86521, -71.3383], [35.121741, -80.908766], [33.041129999999995, -80.13436999999998], [34.17877, -81.32545999999998], [45.206477, -92.979703], [29.61695, -95.65009], [36.66982, -80.708903], [25.953681, -80.205492], [39.476284, -76.663822], [44.398354, -123.06114], [44.059694, -93.142644], [33.776391, -118.088323], [36.416531, -119.804122], [44.269274, -121.221517], [41.060708, -74.47900200000002], [34.081753000000006, -117.709263], [41.689706, -93.4598], [39.93409000000001, -74.94965], [45.658458, -118.728839], [37.873003, -122.305846], [42.963518, -85.687473], [34.803098, -82.210121], [33.386732, -111.522635], [25.812532, -80.206864], [33.900109, -117.473535], [33.491295, -112.216181], [44.6334, -123.08351], [33.989967, -118.070198], [36.03187, -95.949783], [42.066704, -88.15342700000002], [38.639149, -121.348886], [25.92668, -80.23285], [41.020269, -73.623861], [42.887757, -73.772913], [44.14037, -123.05293], [32.795617, -96.625699], [35.25253, -80.983261], [39.022482, -77.016267], [30.188540000000003, -97.617924], [34.774561, -118.527921], [34.160003, -118.380669], [41.025255, -80.353849], [42.29524, -83.2045], [40.71605, -74.135838], [41.87225, -71.396197], [39.07754, -77.0017], [27.47347, -82.575283], [40.723624, -112.02482], [34.01583, -118.054992], [32.665820000000004, -96.82307], [25.488534, -80.457065], [41.90443, -88.03249], [29.937785, -95.173249], [25.925188, -80.155876], [25.701374, -80.359471], [30.380941, -97.674304], [38.55892, -121.47658], [47.36236, -122.29566], [37.176168, -79.616886], [38.496546, -122.770036], [40.473836, -74.408886], [38.715577, -121.225763], [40.021921, -75.312706], [29.286173, -82.44575400000002], [39.799594, -84.25415799999998], [37.405071, -113.636885], [26.514423, -80.07411], [34.15652, -118.37885], [40.438482, -80.005813], [33.985240000000005, -117.345257], [33.95669, -117.30653], [36.915221, -76.264913], [28.451553000000004, -81.314717], [41.898282, -87.97899], [38.686278, -121.22546], [38.350676, -122.304524], [38.019101, -121.937152], [44.970889, -93.433172], [27.987484, -82.326172], [43.000738, -83.856721], [37.89693, -122.10185], [30.51056, -87.22218000000002], [29.850116, -95.41491], [33.704928, -117.954078], [27.89542800000001, -82.787195], [42.678419, -84.441121], [42.474888, -73.632515], [40.98337, -74.071573], [44.77603, -93.54062], [36.719831, -119.393341], [33.876490000000004, -118.09569], [25.6262, -80.41432900000002], [36.031823, -95.886557], [44.239829, -93.424504], [42.400725, -83.218376], [27.86738900000001, -82.326693], [38.327197, -77.50089200000002], [32.823515, -96.629175], [32.990949, -80.086101], [42.32994, -83.44317], [28.269033, -81.605654], [33.973345, -118.225241], [35.170367, -80.875996], [33.765913, -117.941957], [33.81525, -118.185096], [33.480312, -111.989621], [38.010654, -122.542104], [29.92589000000001, -90.102111], [43.636636, -116.25901], [31.764754, -106.365159], [35.35409, -84.99195999999998], [29.909862, -81.409826], [25.718183, -80.27249300000003], [35.65614799999999, -78.955211], [32.927516, -96.820696], [42.781586, -78.781213], [41.99341, -87.86685], [42.35212, -83.21625], [33.88007, -117.65424], [33.174896999999994, -117.211299], [25.901645, -80.167611], [34.140764000000004, -118.277491], [42.27551, -83.16015], [40.189139, -75.53438], [33.4135, -86.809379], [38.344334, -77.487934], [34.030376000000004, -117.633179], [25.662031, -80.39445500000002], [41.765897, -77.406752], [39.711112, -104.998858], [26.179571, -81.73532], [35.031817, -85.27175600000002], [38.964079, -94.358737], [39.452151, -76.64181500000002], [38.6373, -121.4041], [33.876673, -118.1901], [29.60093, -95.1995], [32.687253000000005, -96.811934], [30.546292, -91.055808], [36.11889, -95.90454], [33.87066, -118.10029], [30.405799, -97.678581], [39.757535, -86.144039], [36.828172, -76.32006700000002], [25.927304, -80.218292], [40.83374600000001, -74.147189], [35.057171999999994, -80.95758599999998], [32.875821, -96.685199], [32.311391, -111.020953], [33.933876, -118.326551], [38.328433, -122.666731], [36.380311, -119.809547], [40.73706, -73.93108000000002], [43.225032, -124.23733500000002], [33.884912, -117.633931], [39.365065, -77.387628], [41.535567, -72.797071], [27.777384, -82.66378], [42.174813, -121.75711], [34.588977, -81.466766], [36.423242, -121.294172], [42.529295, -73.784142], [36.066774, -86.686881], [38.194971, -76.392972], [25.53975100000001, -80.37207], [47.323147, -92.469488], [39.36027, -77.15985], [33.990548, -117.931817], [42.664759, -123.376811], [35.810257, -78.728272], [46.863051, -102.060273], [39.6344, -104.89316], [28.42616, -81.40479300000001], [38.941866, -76.8568], [40.074188, -75.151637], [36.211221, -119.627898], [37.73475300000001, -122.191375], [44.17145, -117.12917], [40.287994, -75.306575], [45.41785, -122.43425], [34.067503, -117.335636], [37.062229, -79.344785], [37.739326, -121.590858], [38.186821, -85.79409799999998], [34.882638, -117.062593], [26.544291, -81.871363], [33.955599, -118.230575], [40.220919, -76.855653], [37.500051, -120.874094], [38.90087, -94.30208], [34.066720000000004, -117.246093], [30.167365000000004, -97.659291], [40.05833, -78.82803], [39.87578, -75.102594], [36.6081, -121.86025], [38.364098, -120.76345], [32.719087, -117.08253899999998], [33.96001, -118.28053], [36.17492, -86.77138199999996], [42.206242, -70.99371], [34.02024, -118.18843], [37.499824, -121.928254], [34.822804999999995, -118.950711], [40.39851, -111.53869], [42.377824, -71.075383], [35.213843, -85.13088], [37.69966, -122.471755], [32.913529, -96.871518], [38.80238, -83.00862], [40.46686, -74.29734], [34.521059, -117.992636], [35.778554, -78.66389699999998], [41.459516, -122.445534], [41.095419, -73.802421], [40.43535900000001, -79.40950699999998], [37.573983, -77.49051700000003], [44.99977, -123.99027], [33.87084, -117.70334], [39.260762, -123.738623], [29.949342, -90.084489], [30.504301, -87.272225], [38.923821, -94.527565], [30.510479, -87.221447], [39.411332, -76.41248], [34.17111, -118.522706], [34.065155, -117.80701299999998], [45.142632, -93.264414], [39.523542, -76.34990400000002], [40.684791, -73.573356], [34.030333, -117.643624], [41.287753, -74.140375], [25.900292, -80.38545699999997], [45.577063, -122.678714], [30.470535, -87.232671], [26.226651, -80.13651999999998], [43.21997800000001, -77.967], [32.808663, -97.418566], [35.036458, -81.97260899999998], [44.86225, -93.24403], [32.88772, -97.09935], [37.237912, -76.637502], [30.417977, -81.565836], [28.592601, -81.365064], [31.32472000000001, -89.323662], [40.734731, -74.124659], [45.076744, -93.287359], [38.916754, -77.23620600000002], [44.89791, -93.1332], [34.673553000000005, -82.70945], [28.23633, -80.72036], [25.739888, -80.416011], [30.43676, -91.057499], [40.886651, -73.895493], [38.473297, -121.32178799999998], [34.15395, -118.345], [40.05278300000001, -111.735116], [33.010675, -117.119797], [37.69875800000001, -122.108311], [34.913977, -82.107354], [41.880429, -74.05811899999998], [40.82368, -73.87745], [44.060225, -93.507509], [41.279794, -78.700026], [28.784576, -81.977287], [40.000759, -111.483882], [25.685002, -80.424819], [28.523304, -81.309574], [25.837921, -80.206035], [27.869507, -82.664486], [37.795357, -122.266694], [39.218477, -76.726895], [30.39888, -97.739235], [45.64468, -122.56487], [37.826871, -122.286515], [33.85611, -118.00633], [34.173134000000005, -81.294053], [40.737351, -73.240635], [27.891248, -82.335818], [32.84619, -96.77307], [35.395802, -80.70070600000003], [32.74094, -97.32009], [33.762214, -79.446533], [42.27759, -88.15484000000002], [33.879003999999995, -117.556351], [37.529097, -122.360129], [28.452882, -81.47081700000003], [25.76452, -80.260539], [38.637507, -121.41618], [38.16484000000001, -85.72094], [38.34649, -90.99148], [36.907096, -76.112313], [33.122674, -111.845465], [45.6541, -123.3009], [32.64942, -97.32156], [40.70825, -74.2311], [45.154076, -107.369481], [39.141076, -94.673263], [43.365095, -124.297993], [35.904615, -89.89188], [41.31989, -73.979924], [37.308864, -79.974101], [30.478328, -84.111328], [40.51475, -122.045967], [45.390169, -92.818334], [36.71459, -119.78149], [47.082241, -122.674208], [44.94827, -92.94158], [34.165116, -117.344182], [40.82689, -73.20594200000002], [33.933748, -118.326555], [45.54241, -122.49577], [39.54394600000001, -76.666427], [33.076489, -117.159824], [32.84411, -117.176173], [39.15357, -76.74861], [34.143784000000004, -81.30649], [41.76531, -72.65446], [38.24426, -122.0827], [40.083686, -75.162361], [47.31494, -93.31516], [32.76515, -117.16308], [34.038463, -118.02102], [40.800958, -73.279377], [34.072568, -118.052455], [34.01875, -118.423801], [36.324295, -119.6067], [33.734553000000005, -117.992232], [34.633956, -109.31023], [40.87182, -74.11662], [35.274258, -81.350949], [38.85198, -77.07536], [34.055567, -118.198074], [44.954112, -93.400815], [37.878895, -78.02484799999998], [40.800668, -73.928712], [34.009987, -117.963329], [39.811524, -104.948283], [43.051265, -83.655436], [36.992173, -119.710358], [33.87345, -118.00971], [30.49948, -91.15316], [33.970551, -118.375244], [40.58716, -73.99158], [41.355814, -112.035733], [40.716132, -75.288923], [44.75842, -93.24795], [34.066482, -117.219256], [37.500127, -121.928566], [40.626337, -74.179666], [36.08208, -87.34057], [43.54087, -119.57942], [39.823583, -75.147095], [28.756811, -81.284501], [25.685462, -80.415318], [42.35656, -87.93559], [40.782612, -74.14922800000002], [38.902204, -77.93077199999998], [37.103878, -121.62926000000002], [34.063979, -117.290114], [33.841534, -81.23151899999998], [25.686109, -80.365882], [39.52416, -74.511447], [26.22341, -80.185507], [42.69385, -73.71025], [34.120893, -117.89481], [44.98556, -93.58397], [37.144013, -80.34806999999998], [35.734386, -120.284467], [30.241215000000004, -97.739479], [33.51303, -86.82197], [43.00955, -123.303041], [38.045236, -78.749617], [28.811985, -81.362115], [32.674595000000004, -97.145651], [33.520328000000006, -112.156164], [38.335134, -122.028314], [40.19858, -75.250639], [44.97204, -93.25072], [37.631034, -120.971694], [26.511093, -80.17265400000002], [41.625881, -72.689413], [34.046498, -117.96191], [37.616776, -122.15599], [38.732599, -77.773285], [42.30753, -87.90401], [40.724879, -73.933483], [42.186006, -88.10169], [45.226102, -122.813903], [43.95503, -92.14442], [25.94739, -80.149336], [35.839238, -78.675899], [33.100248, -117.30835], [34.11470300000001, -80.895261], [28.087954, -82.449524], [25.81711, -80.20644], [42.297567, -85.092297], [39.58561, -76.079734], [26.552090000000003, -81.79522], [26.06189, -80.163965], [36.141474, -86.800239], [25.761225, -80.376564], [40.719033, -73.580621], [34.42673, -117.40002], [35.006170000000004, -82.280803], [42.14015, -121.88498], [44.77607, -93.22158], [42.38492100000001, -83.3035], [33.669577000000004, -117.822656], [44.77825, -93.03467], [30.441391, -86.594861], [40.828805, -74.092871], [33.949791999999995, -118.091827], [28.217855, -82.68549300000002], [34.235927000000004, -117.219801], [36.403702, -118.952697], [35.2488, -80.81584000000002], [34.702827, -82.281747], [33.88908, -118.28569], [47.6197, -122.32915], [35.33850200000001, -119.03946], [33.505785, -112.044173], [39.84405, -84.67661], [44.918031, -95.043995], [33.63138, -84.41096], [33.561848, -81.92838499999998], [27.821051, -82.68115999999998], [40.766187, -73.863344], [35.10857, -89.98491], [45.12283, -93.38888], [29.520076, -98.477001], [32.693922, -96.937396], [34.557886, -114.6452], [40.157902, -75.142046], [40.903914, -74.105216], [37.680631, -106.519054], [25.925464, -80.29233], [43.59332, -116.408705], [40.001504, -75.19495400000002], [28.445444, -81.470784], [32.379714, -95.335492], [26.30158, -80.2434], [36.765156, -119.749509], [32.784329, -97.320832], [44.889973, -93.3933], [25.857295, -80.234054], [40.11150900000001, -75.079074], [37.605617, -121.872645], [36.22835, -86.772798], [42.91789, -75.380324], [42.167681, -87.92236899999996], [38.865791, -77.32639300000002], [41.051691, -111.960564], [34.119855, -117.814003], [42.28545, -83.79008], [33.976473, -118.282676], [39.77031, -104.99181000000002], [26.135934, -80.212653], [41.12752, -112.02555], [37.62977, -77.518213], [34.11339, -118.17645], [34.030376000000004, -117.684227], [33.92852, -118.239164], [37.33198, -121.89681000000002], [29.943337, -95.364299], [45.107964, -95.492187], [36.08916, -86.61495500000002], [42.711464, -73.823715], [40.267664, -75.60391700000002], [34.673356, -82.53289000000002], [34.028073, -118.274537], [36.17419, -78.70315], [38.648754, -121.374303], [33.943789, -81.001649], [41.22872, -73.24401999999998], [37.341, -113.27532], [37.25549, -121.84976], [41.30137, -73.82353], [41.70362, -71.16019], [44.966033, -93.259667], [42.46371, -79.29899999999998], [42.952841, -123.32989], [27.44243, -82.46374], [35.76789, -80.33129], [33.928065999999994, -118.341475], [26.916122, -82.28857099999998], [35.373039, -117.635696], [37.863596, -122.209306], [40.856576, -74.012693], [25.927161, -80.22164000000002], [40.270632, -121.410051], [33.767133, -117.92024], [33.777353999999995, -81.10282600000002], [41.11584000000001, -81.61428000000002], [34.18778, -80.69104], [28.380641, -81.507406], [38.93619, -76.91614], [39.33123, -76.48946], [26.757987, -80.082739], [26.02799, -80.16595], [41.06539, -73.86468], [34.942181, -119.679288], [32.948190000000004, -80.20561500000002], [40.27844, -74.69156], [46.68464, -122.971061], [40.63270900000001, -111.891685], [37.68158, -77.66530999999998], [45.48959, -122.79171200000002], [25.83733, -80.32194], [33.534361, -86.720484], [28.53559000000001, -81.37935999999998], [38.13732, -121.25782], [38.587428, -112.584596], [45.966796, -95.312654], [35.779832, -78.613569], [36.061468, -95.976105], [29.72353, -94.99168], [33.690459999999995, -84.49234], [38.566268, -121.336024], [25.714117, -80.427899], [38.699803, -121.765223], [36.113787, -86.808791], [32.656843, -83.744046], [43.184203, -83.719611], [45.20091, -123.16657], [36.760371, -76.27205699999998], [47.64293, -117.606439], [35.18905, -111.62568], [28.578669, -81.476134], [37.034632, -76.351176], [32.49279, -93.780199], [46.657793, -113.130116], [34.124459, -118.272818], [40.976461, -73.69984000000002], [45.463303, -122.699679], [41.86973, -71.43105], [34.041115999999995, -118.06083999999998], [37.66389, -121.02818], [26.671532, -80.070515], [44.094282, -121.303986], [32.841802, -117.120808], [38.489353, -121.412952], [32.894171, -96.480292], [34.30597, -118.42662], [37.09668, -80.50999], [36.04641, -91.002856], [35.685144, -78.56948299999998], [26.350456, -80.118172], [47.61427, -122.32969], [34.157719, -118.379629], [41.8091, -87.63264000000002], [33.912022, -84.207722], [32.91235, -96.73667], [38.713439, -121.363693], [33.458609, -80.928209], [42.167293, -87.845916], [37.47709, -121.93293], [33.84376, -118.20603], [33.945372, -118.36828], [34.067583, -117.566678], [40.738486, -111.90431], [29.409188, -98.508857], [33.829249, -117.46036200000002], [38.03018400000001, -122.269638], [40.261181, -75.32779599999998], [34.705782, -82.500569], [34.067667, -117.601082], [33.916971999999994, -118.370207], [43.863401, -92.361929], [38.872193, -76.981705], [34.155575, -118.439219], [38.418036, -77.425329], [25.925858, -80.167491], [35.113811, -82.232424], [34.528979, -117.31708799999998], [42.223816, -88.760204], [36.071331, -86.841856], [38.632822, -121.454077], [40.698841, -73.51045400000002], [25.932173, -80.121922], [38.495985, -121.461204], [34.143275, -118.740266], [30.424193, -91.150383], [41.95238, -87.72841], [34.194543, -118.147353], [37.699769, -122.471284], [37.077797, -121.979627], [26.323367, -81.805314], [34.042435, -81.086686], [26.672754, -81.895], [33.493473, -80.515268], [44.948512, -92.982305], [45.111462, -93.391212], [33.953795, -117.304873], [33.950252, -83.982968], [37.30169, -76.6822], [36.017581, -86.74136700000004], [25.566404, -80.372215], [35.191013, -89.936527], [42.03208, -88.3381], [34.574484000000005, -82.04791999999998], [44.17708, -71.69116], [40.71907, -73.58048000000002], [33.890859000000006, -79.75560899999998], [35.58012, -97.54924], [32.94112, -96.74414], [45.507012, -122.670625], [40.054623, -74.168544], [34.588173, -118.711586], [28.466979, -81.417537], [34.425133, -92.794958], [33.211597999999995, -80.043159], [33.558631, -117.198314], [42.924981, -71.37685], [36.961865, -76.267989], [42.382791, -83.065861], [33.930405, -118.17388400000002], [34.0023, -118.34907], [34.003569, -117.830784], [34.246589, -117.43681200000002], [41.573971, -87.505577], [38.576764, -121.495], [40.814628000000006, -74.053494], [27.84664, -82.34692], [39.530385, -119.731997], [34.988336, -85.191556], [44.99329, -112.853167], [33.86589, -117.87875], [40.75181, -73.99969], [38.89975, -77.26746], [36.284012, -79.754643], [33.802902, -118.132702], [33.789922, -118.207925], [47.462584, -113.685384], [47.123672, -122.434845], [33.744875, -84.389957], [39.402154, -78.026887], [32.183791, -81.029461], [30.008678000000003, -90.013746], [34.02006, -118.19021], [44.37325300000001, -93.294085], [41.76531, -72.65446], [30.376334000000003, -86.35635400000002], [40.73547, -73.85982], [38.66884500000001, -121.34691399999998], [38.79429, -77.14921700000002], [32.42559, -93.7631], [42.621899, -117.869836], [25.750464, -80.208899], [35.257005, -80.736216], [32.80023, -96.71596], [34.222076, -119.109824], [35.254612, -113.974607], [39.69518, -75.401927], [39.455358, -76.64733000000003], [35.09225, -78.779953], [32.645996000000004, -96.78058], [25.666956, -80.383813], [38.009932, -121.320103], [35.20273800000001, -80.757515], [25.785602, -80.214287], [34.15006, -118.46844], [33.550411, -84.56759100000002], [37.638269, -121.324414], [33.383899, -117.208218], [33.578707, -117.671633], [34.11034, -118.26266], [40.02007800000001, -75.230754], [25.51372000000001, -80.477758], [34.06767, -117.601078], [40.60799, -74.133564], [38.608733, -121.429246], [25.68462, -80.436984], [30.205389, -85.827989], [28.660401, -80.86719599999998], [40.36043, -104.98436], [32.759653, -97.053533], [42.87023, -73.82242], [34.070021999999994, -117.962205], [39.74757, -110.88445], [37.85012, -122.23984], [32.920837, -97.09034], [26.566036, -80.069888], [40.84191, -73.94536], [37.328742, -122.01108], [32.759631, -117.200657], [25.673172, -80.416503], [28.43837000000001, -81.39907], [39.460018, -76.303273], [36.909463, -119.793561], [32.988954, -97.301268], [34.581194, -118.133601], [35.223464, -120.691716], [32.82674, -97.06128], [25.78784, -80.209907], [39.112158, -94.618229], [25.900218, -80.32446], [39.82850300000001, -85.596912], [28.61194, -81.84286800000002], [41.150633, -73.248478], [30.462266, -91.116244], [28.487003, -81.41590500000002], [42.465635, -87.97219799999998], [32.84445, -116.88148], [46.23572100000001, -94.108937], [47.594728, -122.181526], [42.96213, -87.93401999999998], [30.568009000000004, -97.692779], [40.1285, -79.28966], [34.00372, -118.308949], [37.24207, -121.76952], [34.135343, -117.982636], [33.901959999999995, -118.274067], [42.119249, -80.053713], [25.939703, -80.188672], [34.2132, -119.006833], [35.20882899999999, -119.109965], [43.14991, -77.69096], [40.766283, -73.89025500000002], [41.787338, -88.074309], [37.690867, -122.470568], [34.962575, -81.901845], [32.719613, -96.692444], [37.31662, -122.301348], [35.798581, -78.564424], [25.72655, -80.415497], [37.304645, -121.87888], [33.089458, -117.114309], [40.42948, -79.88664], [44.240121, -123.06061], [25.714569, -80.414261], [45.820433, -118.402685], [41.66531, -83.56506], [36.211178, -119.654921], [40.75974, -73.95789], [43.107733, -117.057504], [40.225163, -75.187736], [38.619529, -121.418484], [40.632108, -80.32167700000002], [37.715145, -121.70908], [38.36346, -96.65913], [32.798378, -96.63396], [35.863689, -78.71361999999998], [33.977934000000005, -81.194983], [40.397726, -76.94838100000003], [25.683663, -80.46623100000002], [45.56612, -122.55657], [41.061578, -74.647361], [37.57301, -122.31619], [33.462069, -112.070127], [38.727893, -77.945688], [38.851795, -76.958556], [39.678209, -76.288565], [30.462940000000003, -91.16609], [39.079216, -76.90115300000002], [39.936427, -76.683086], [37.821778, -122.258985], [33.097912, -97.225753], [39.30276, -76.50072], [32.687113000000004, -96.822911], [29.863596, -95.362663], [30.375895, -87.11666899999999], [41.094843, -111.995841], [41.288713, -72.816792], [34.982587, -81.913753], [36.279913, -86.802603], [32.33202, -95.304715], [28.312378, -81.482954], [41.616577, -122.392214], [33.429555, -112.086073], [25.701238, -80.334038], [34.819413, -82.436723], [45.407353, -118.340783], [25.807887, -80.31314300000003], [40.12991, -74.96152], [37.060544, -119.363925], [39.965803, -75.186449], [37.976525, -121.24683799999998], [40.927923, -73.768612], [33.888793, -117.512423], [39.83224000000001, -75.70745], [37.40503, -121.90992], [44.163196, -70.498529], [34.036885, -118.297102], [34.148187, -118.469842], [39.860294, -75.153944], [42.903424, -112.438072], [35.768899, -78.691201], [39.87009000000001, -75.05242], [38.98268, -76.55197], [41.802722, -71.5101], [41.258307, -75.817819], [29.725597, -82.70514200000002], [35.87475300000001, -87.71877099999998], [34.06865, -117.974172], [34.032981, -117.706878], [33.843702, -118.17652], [34.016852, -85.202473], [41.213326, -76.763948], [43.00538, -71.398269], [28.521019, -81.50776], [28.646163, -81.994847], [38.4382, -121.305505], [33.881965, -117.584831], [44.965009, -93.287549], [40.71916, -73.94572], [34.435441, -118.343826], [34.038475, -117.550058], [36.857557, -121.598297], [42.96461, -78.921175], [25.933331, -80.206554], [33.974652, -118.280597], [39.684462, -86.10251], [38.840819, -77.008072], [43.755615, -123.097997], [34.19398, -79.76168100000002], [43.95167, -93.10257], [45.916682, -95.329002], [34.320021000000004, -117.506023], [29.156098, -82.134349], [40.522828, -78.386866], [47.210194, -122.247254], [45.42141, -93.922517], [35.817264, -89.96894], [39.98955, -76.73395], [40.609475, -74.035432], [36.731554, -119.778474], [30.202374, -85.628005], [32.723519, -117.157984], [35.167654, -81.482242], [34.069825, -118.261327], [25.837044, -80.37016700000002], [34.492020000000004, -118.62112], [37.905374, -121.183866], [39.093631, -120.950033], [34.387974, -94.387195], [40.000574, -76.604118], [38.884702, -77.225464], [40.220028000000006, -75.24794], [36.20785, -86.6115], [40.062728, -75.474319], [34.180601, -117.184242], [45.056787, -120.683494], [40.609483, -112.035609], [38.545544, -121.349031], [26.705462, -80.14331700000002], [35.83355, -77.979036], [29.488525, -98.582587], [44.95158, -93.01512], [37.010597, -122.193805], [32.345417, -103.92742], [43.362407, -124.299777], [25.811457, -80.196432], [38.83269, -104.7759], [34.083334, -118.47462], [34.02376, -117.556996], [44.93339, -123.07436], [26.155046, -81.29396700000002], [32.139538, -110.840783], [25.684749, -80.43242], [33.775240000000004, -84.47107199999998], [32.784267, -96.811821], [37.476332, -106.785299], [33.876833000000005, -79.76244200000002], [40.981126, -73.867338], [32.661931, -90.061749], [38.53086, -85.774968], [34.136861, -114.34336299999998], [46.02346, -94.33608], [25.939318, -80.324793], [33.99798, -117.86052], [25.762091, -80.334693], [32.758892, -96.677291], [34.161392, -118.470014], [37.14568, -77.7403], [32.777927000000005, -117.136545], [40.108322, -76.70944899999998], [37.358609, -121.84023], [32.908029, -96.786418], [25.685064, -80.427401], [33.523087, -112.269193], [34.261121, -117.449936], [33.58605, -79.01226], [35.597087, -80.860029], [33.628309, -117.720786], [45.22928, -93.55229], [34.073761, -117.752217], [34.80109, -82.44648199999997], [39.643604, -77.831859], [39.30946, -76.95798], [36.10035, -80.19816999999998], [28.553156, -81.356176], [47.898552, -122.29104], [40.63168, -73.88427], [28.382065, -81.404628], [36.14121, -86.717458], [30.314787, -81.787646], [44.2585, -124.10925], [32.344185, -86.325281], [39.146707, -94.662271], [25.601998, -80.35269699999998], [43.10673, -89.33928], [28.561276, -81.172172], [37.76877, -122.40656], [34.396395, -119.299706], [35.665733, -78.563827], [33.882739, -80.697778], [35.296926, -80.977663], [40.718346, -111.889411], [34.06811, -118.02873999999998], [42.17182, -87.96531], [32.78736, -96.81273], [42.361958, -88.000096], [37.740676, -121.504185], [40.52430800000001, -74.28965699999998], [40.246309, -75.242068], [45.4347, -122.75946], [41.097642, -73.442084], [29.73679000000001, -95.36907], [35.79743900000001, -78.539451], [38.0335, -122.11671], [45.535467, -122.686065], [29.004132, -81.431608], [36.809429, -76.430716], [35.723375, -81.204286], [33.004166999999995, -117.091397], [38.820884, -90.515587], [43.004018, -123.311437], [34.324668, -118.503459], [45.417829, -122.435933], [28.568817, -81.247537], [25.928608, -80.20930200000002], [30.41302, -91.066929], [35.12638, -89.86809000000002], [34.307996, -80.60869699999998], [30.330226, -97.776119], [32.767734999999995, -117.234047], [34.06487, -117.31518], [42.360577, -83.074517], [34.129039, -118.347419], [37.772226, -121.106337], [41.714652, -76.473833], [27.864558, -82.32668100000002], [32.86635, -97.00182], [41.61743, -83.54087], [28.02786, -82.1473], [32.341684, -95.340336], [38.965542, -76.904064], [40.642128, -74.646309], [42.470945, -91.208914], [35.278239, -80.766035], [25.888365, -80.123722], [39.235106, -76.095117], [39.363158, -77.386756], [33.036017, -96.999798], [47.20255, -122.25687], [33.527006, -80.83731800000002], [37.032291, -76.367355], [34.555554, -118.13233], [41.797195, -88.30292299999998], [37.701728, -121.891257], [41.53536500000001, -72.79059000000002], [34.15316, -118.3583], [32.63702, -117.04979], [38.285632, -122.689143], [45.63129, -121.9596], [40.860796, -73.828281], [31.724307, -106.302748], [37.732364, -122.188975], [33.698471999999995, -117.941587], [34.136208, -117.47104], [44.799488, -93.038824], [36.144811, -86.811588], [40.644211, -77.548323], [36.85, -76.195882], [37.022541, -121.566005], [34.645714, -118.153406], [32.911291, -96.899805], [40.755361, -85.401524], [42.84053400000001, -83.783119], [30.55719, -88.20551999999998], [35.10277, -80.98872], [34.23274, -118.47299], [27.386945, -82.531112], [28.197373, -81.706324], [37.32328, -121.94056], [30.186705, -83.602138], [44.87753, -117.041054], [30.43654, -83.516361], [33.777498, -117.486623], [34.120090999999995, -117.700008], [33.823009000000006, -84.35705], [33.047956, -80.10658199999997], [38.67705, -90.44958], [37.617431, -120.990283], [38.582216, -77.76746899999998], [28.698962, -81.87943299999998], [45.28616, -122.94522], [29.864243, -95.404917], [25.68692, -80.416652], [33.928302, -118.27388899999998], [33.917593, -117.437108], [38.656736, -120.998579], [34.30435, -117.46363999999998], [36.854539, -76.17981400000002], [29.522933, -98.556274], [37.978291, -87.608324], [38.6795, -90.65973], [41.05551, -81.505504], [25.717765, -80.294065], [40.889554, -123.568874], [37.59487, -120.993584], [34.673162, -92.372521], [36.112827, -86.746189], [39.709868, -85.842673], [25.963024, -80.15508100000002], [34.2682, -118.47205], [27.955683, -82.469737], [33.451062, -112.037533], [26.370705, -81.80775799999998], [40.387998, -80.04324799999998], [33.81863, -117.51502], [45.506697, -122.713756], [42.76039, -73.75665], [25.945781, -80.19711600000002], [33.640857000000004, -117.148739], [30.470535, -87.232671], [45.08863, -93.18799], [38.880904, -77.221988], [27.298718, -82.46779599999998], [37.621122, -77.444553], [30.38737, -81.55824], [40.844396, -73.901363], [42.932831, -85.663216], [39.028776, -77.104058], [34.806851, -92.363242], [39.393957, -74.511605], [44.97991, -92.77764], [34.4134, -83.76503000000002], [37.552714, -122.054127], [33.948848, -118.046511], [45.46974, -122.78611], [45.51549, -122.69965], [40.32933, -111.73707], [38.941887, -94.785908], [38.000581, -122.054101], [37.55113, -120.82224], [42.749531, -73.77188699999998], [41.40796, -81.63812], [34.247723, -118.47266], [45.375493, -122.115789], [38.646362, -121.295488], [36.176551, -86.77251899999996], [38.496047, -121.441519], [28.49362, -81.46358199999997], [44.693779, -121.981892], [38.320355, -77.503496], [40.84479, -73.92435], [47.86476500000001, -122.109877], [40.163644, -75.485354], [36.045249, -86.714732], [34.491389, -81.97519100000002], [25.985802, -80.138145], [37.75703, -77.45893000000002], [30.390409, -87.06339100000002], [42.946863, -85.65909], [35.919681, -118.65141], [40.10821, -75.111852], [32.450761, -93.865532], [33.63874000000001, -112.35941], [44.98455, -93.08908], [42.384249, -87.963247], [32.817363, -96.80348], [37.354805, -121.866671], [33.861984, -118.306873], [25.733324, -80.329562], [36.87108, -76.3979], [37.681721, -121.104515], [29.497, -82.29469], [35.213398, -80.86346400000002], [40.25702800000001, -78.881546], [35.124911, -118.989261], [36.32739, -119.32366], [35.47876, -97.60107], [41.68117, -124.113944], [37.428169, -122.10143], [43.060716, -83.76263], [38.24555, -122.07974], [43.871475, -91.317894], [34.094747, -117.987977], [44.95149, -93.11907], [36.789296, -76.284803], [26.237229, -80.136626], [36.155983, -95.935896], [32.783970000000004, -96.774487], [41.723754, -91.642238], [45.263718, -93.555688], [41.792122, -124.067006], [25.747491, -80.33884499999998], [36.2149, -86.69745], [45.42711, -122.38315], [39.390775, -76.762945], [25.710571, -80.281858], [36.108051, -115.11908], [25.686033, -80.398689], [32.907539, -96.768811], [40.593549, -111.902393], [45.6128, -122.67823], [37.393182, -120.739585], [35.901141, -78.65395699999998], [36.47795, -121.728662], [32.554327, -93.781619], [40.71067, -74.24439], [34.040094, -118.579258], [34.152279, -118.093781], [41.381775, -75.558375], [25.925542, -80.29089499999998], [40.72766, -73.92916], [39.413163, -76.60397900000002], [33.554767, -117.192524], [27.815654, -82.700071], [33.926414, -117.656632], [33.85411, -117.79493], [35.949697, -119.04947], [28.53528, -81.39333], [41.529062, -75.652908], [28.42104, -81.429001], [28.36331, -81.553274], [36.636355, -120.620161], [38.89747, -76.84254], [25.6973, -80.382152], [25.74833, -80.29341], [43.684033, -93.321722], [41.54953, -81.60681], [37.679673, -106.541842], [37.616683, -122.073909], [37.361962, -119.64311200000002], [30.430104, -91.135386], [34.321412, -118.496747], [39.0123, -94.69324], [38.046756, -78.788], [34.03006, -117.70385], [33.235563, -87.550412], [38.447384, -121.491657], [25.72985, -80.391568], [36.370963, -119.439386], [25.686308, -80.41669], [35.05255, -89.817927], [37.498649, -77.540547], [40.71826, -112.07263], [35.04026, -85.218162], [37.494972, -122.228054], [39.269009, -76.631773], [45.530119, -122.66533], [45.359075, -122.355167], [35.116907, -90.553275], [45.600031, -118.503781], [35.20959600000001, -86.083383], [40.28465, -76.304236], [33.254940000000005, -117.15425], [40.069702, -76.309286], [41.50514, -73.67985], [39.638544, -86.432039], [38.778782, -120.256398], [43.153619, -106.334395], [38.012314, -122.513824], [29.885414, -82.668886], [37.213852, -93.459121], [37.105198, -120.278855], [36.545041, -119.594052], [40.71864, -74.05582], [39.196364, -76.632086], [44.751926, -123.051006], [34.041599, -81.08825300000002], [37.700034, -120.994514], [35.383307, -120.630068], [37.798707, -122.27517], [35.742674, -78.684162], [25.963628, -80.149549], [34.819959999999995, -82.25636], [34.067862, -118.029814], [35.473801, -78.37285899999998], [45.601789, -118.645143], [45.291831, -111.395558], [38.917213, -77.217085], [47.62898300000001, -95.014282], [39.28566, -76.536587], [38.64045, -90.345316], [41.691847, -78.482428], [36.959665, -76.410912], [34.014109999999995, -118.419771], [35.35031400000001, -118.990922], [37.493301, -121.030894], [33.899055, -118.186959], [28.185317, -82.467313], [40.72096, -111.986208], [25.846507, -80.22847], [34.273342, -118.58573], [39.70709, -111.81871], [33.93127, -84.16995], [38.912617, -76.97613199999998], [40.583155, -74.330175], [26.064486, -80.252055], [37.57601, -77.46281], [40.6665, -73.80847], [40.368801, -78.43552700000002], [30.478079, -91.161483], [33.39588, -111.96769], [44.644693, -95.643206], [45.54361, -122.87179], [34.15009000000001, -79.818519], [34.011115000000004, -118.28627], [32.553757, -86.460879], [29.66502, -95.56005], [26.602996, -80.069121], [33.843845, -117.534751], [37.034799, -76.352812], [38.37019, -87.7067], [34.00354, -117.93046499999998], [38.53868, -121.51269], [38.525567, -121.521196], [32.837367, -96.952962], [33.780809999999995, -117.748273], [25.714894, -80.43121], [35.07719, -85.100571], [38.386291, -75.07453199999998], [34.03322, -118.192373], [34.14073, -118.27775], [39.048703, -94.561847], [38.42873, -121.204955], [33.790971, -118.286903], [33.093275, -117.083714], [44.673681, -93.136608], [34.165175, -117.845206], [34.800835, -91.745184], [38.115796, -102.620859], [45.13882, -93.290175], [28.52379, -81.3847], [38.521574, -77.83374599999998], [41.658471, -72.67141099999998], [30.419088, -91.067683], [26.164748, -80.20696099999998], [33.726646, -117.835188], [39.340241, -78.061699], [34.069825, -118.261327], [34.232176, -119.1557], [38.492431, -121.434271], [40.659573, -111.901503], [27.793742, -82.334978], [44.540945, -123.06197], [42.466118, -88.017732], [41.544559, -93.973783], [32.51670900000001, -93.75021], [30.21238300000001, -97.831178], [33.562002, -85.662437], [33.91879, -118.371421], [34.68501, -82.243115], [39.760316, -105.005868], [35.30619799999999, -80.76113199999998], [39.87574, -75.05173], [33.689884, -117.768519], [46.387884, -112.72185], [38.593452, -122.849978], [33.790616, -78.99669300000002], [40.721058, -74.006977], [44.18674, -92.583562], [34.135755, -117.234946], [36.12198, -86.77338], [36.44911, -82.53091500000002], [41.36498, -72.10306], [33.988941, -117.361096], [38.20793, -81.42019300000003], [37.192829, -80.273376], [38.53033, -121.75106], [35.14841, -80.83091999999998], [40.239154, -75.658775], [40.830806, -73.852082], [42.944149, -83.71714], [44.948426, -92.952307], [30.523077, -90.503944], [40.058823, -85.59754000000002], [33.93185, -117.96795], [39.166422, -76.641755], [39.80706, -75.182071], [47.72951, -122.32416], [33.892296, -117.880779], [32.76468, -96.805253], [44.92735, -92.86265], [34.500643, -82.99163399999998], [34.913458, -82.106725], [34.059781, -79.02826400000002], [41.207367, -117.682532], [27.258743, -80.419782], [39.714966, -121.795356], [30.44301500000001, -91.165192], [39.333458, -77.694592], [39.92154, -76.89329000000002], [35.15162, -103.72054], [42.852612, -85.731607], [45.549769, -122.678796], [34.013494, -81.143744], [26.553021, -81.79489699999998], [28.615225, -81.476129], [30.39299, -81.56066], [40.19761, -74.75803], [32.811774, -96.822973], [44.027977, -121.316454], [40.71629, -73.31429], [26.587568, -81.853421], [44.765181, -93.781246], [47.367279, -122.770496], [36.490499, -119.304401], [33.76392, -118.02797], [38.258142, -122.056484], [38.558733, -121.47411], [35.097831, -118.144987], [45.032004, -93.452657], [34.145373, -117.289551], [30.020396, -90.01401899999998], [37.902064, -122.514397], [29.403583, -82.362576], [34.892065, -82.289917], [35.26683, -119.006445], [25.911833, -80.244169], [39.960382, -75.579875], [42.914828, -78.76631], [42.97261, -85.697032], [33.910938, -118.172306], [37.652138, -122.098724], [26.12125, -80.18618000000002], [32.91679, -96.858434], [34.266879, -118.444398], [27.796957, -82.796237], [27.87017100000001, -82.326572], [34.095511, -118.243711], [33.7659, -117.94138], [45.102948, -93.301047], [35.394011, -118.967417], [47.71842, -122.18767], [38.726647, -77.113004], [27.947598, -82.53151700000002], [29.734271000000003, -95.410648], [38.982697, -122.999063], [25.763462, -80.29108000000002], [35.258149, -80.736162], [37.91249000000001, -122.06706], [33.807605, -117.907059], [32.25039, -110.9269], [38.41699000000001, -121.524935], [35.691298, -82.738268], [37.559983, -122.034524], [40.802748, -73.915892], [38.980915, -121.415324], [28.451637, -81.470822], [33.60167, -80.928724], [30.438142, -91.024103], [37.57012, -77.47945899999998], [39.619281, -84.222892], [38.788916, -121.28906200000002], [32.312968, -86.345447], [40.13096, -104.48992], [34.059253000000005, -118.172738], [33.71369, -117.84682], [37.71218, -122.16885], [40.238531, -75.569447], [40.114686, -79.310879], [40.332799, -104.980338], [30.441041, -91.043344], [28.961455, -81.966578], [37.3679, -77.41735], [44.739193, -122.153962], [45.087814, -93.185816], [45.15104, -122.87658], [44.005929, -121.388251], [39.97604000000001, -75.114666], [41.89301, -71.37746], [38.116111, -121.398056], [34.06876, -117.84253], [27.69622, -80.89494], [34.826655, -82.685973], [34.073314, -117.3353], [25.963595, -80.165696], [43.174963, -123.370662], [34.035921, -118.092917], [37.63035, -122.4347], [28.541368, -81.53524300000002], [25.5714, -80.429418], [26.519878, -80.17266], [37.60577, -77.51831999999997], [25.886551, -80.136663], [34.13536, -117.98868], [30.197435, -90.432361], [40.84507, -73.91626], [39.583557, -122.194399], [33.683491, -84.409836], [47.24335, -122.43397], [33.883327, -118.104025], [36.092351, -85.718539], [40.155791, -74.104596], [38.085876, -122.111674], [38.510329, -121.467039], [38.114615, -121.394909], [29.738631, -95.352002], [25.630882, -80.38252800000002], [37.42955, -119.639235], [42.396816, -88.183939], [29.842445, -95.431851], [37.930097, -122.324016], [38.878201, -77.037323], [28.539155, -81.28864399999998], [28.448578, -81.401213], [27.344519, -80.413966], [48.06765, -114.031853], [34.01676, -118.17334], [25.684749, -80.43242], [37.254689, -121.792392], [33.856840000000005, -118.02873999999998], [30.446207, -91.007654], [41.732935, -72.75198], [42.164146, -88.056949], [40.778995, -73.768403], [36.787716, -119.855448], [37.33658, -121.848], [35.132090000000005, -82.04420999999998], [25.796965, -80.32144100000002], [33.921951, -79.154659], [29.767332, -95.456155], [37.41302, -120.85638], [41.07014, -73.485851], [36.538377, -114.443281], [26.211535, -81.751385], [30.140753000000004, -85.753664], [34.130541, -117.503231], [26.112221, -80.168532], [37.963188, -120.449227], [33.422634, -84.17580500000003], [34.02888, -118.00291], [43.156108, -77.578052], [42.42843, -87.87656], [30.532051, -87.273135], [40.175048, -75.238036], [34.03389, -118.35654], [40.434025, -79.99246099999998], [34.122427, -117.996609], [32.837407, -96.982005], [42.3604, -87.89491], [46.994555, -109.083363], [34.523949, -82.753738], [33.873594, -118.224835], [25.899671, -80.181294], [37.530015, -77.321337], [25.883616, -80.211893], [38.226158, -121.42835], [25.92478, -80.154122], [36.768846, -76.260894], [25.897203, -80.245361], [34.116042, -117.976888], [38.062748, -81.373806], [48.341862, -102.860853], [33.082478, -112.043419], [33.77945, -117.876724], [41.535938, -72.764309], [39.002833, -77.350163], [37.800705, -122.2803], [33.910634, -78.76129499999998], [37.994255, -122.296122], [29.856798, -95.384631], [27.755505, -82.676773], [45.580869, -118.585921], [44.978756, -93.280446], [33.410829, -111.98449], [38.679287, -121.22573], [25.927684, -80.188233], [41.401892, -78.560429], [34.755255, -82.269046], [37.846473, -122.247501], [29.776837, -95.38426], [40.450469, -76.516267], [43.339519, -124.333623], [40.62465, -111.86009], [33.836914, -81.022335], [39.17777, -84.48708], [38.612083, -121.538415], [42.933927, -73.80353000000002], [38.82111, -77.04956999999997], [40.634331, -111.819092], [47.032855, -114.743718], [45.52529000000001, -122.66545], [34.071467, -118.122988], [40.0042, -105.35383], [43.597379, -116.319262], [35.155891, -89.890962], [41.81939000000001, -71.45068], [36.31907, -86.7028], [34.487018, -118.140792], [33.77678, -79.02114], [25.705209, -80.285473], [36.141296, -86.73185699999998], [42.96988, -71.47615], [34.025956, -118.040102], [33.917190000000005, -118.069973], [28.33075, -80.74261], [38.5932, -121.44485], [35.006657000000004, -118.95156], [33.685959000000004, -117.86391299999998], [36.099787, -120.418509], [38.771416, -77.53511999999998], [35.79942600000001, -78.562793], [25.854454, -80.207887], [39.605363, -77.73721], [43.164641, -77.651457], [29.711211, -82.089037], [28.491466, -81.396739], [37.68983, -122.062275], [33.290473, -117.233982], [33.6028, -117.17194], [27.406383, -82.51773], [30.302595, -97.660072], [27.555143, -82.453477], [32.967933, -96.804378], [38.62041, -90.19074], [34.279092, -118.470243], [38.08334, -77.838543], [41.97341, -88.18372], [38.01046, -122.230175], [38.995145, -94.554999], [38.784095, -77.658968], [43.121, -76.14284], [34.093535, -117.934174], [38.183481, -121.790585], [35.79415, -78.58292], [37.236174, -121.970076], [39.28798, -76.533419], [32.22085, -110.77337], [37.33422, -122.03654], [42.281322, -83.199114], [38.32486, -77.470619], [38.167802, -122.202569]],\n",
              "                {\n",
              "                    minOpacity: 0.5,\n",
              "                    maxZoom: 18,\n",
              "                    max: 1.0,\n",
              "                    radius: 25,\n",
              "                    blur: 15,\n",
              "                    gradient: null\n",
              "                    })\n",
              "                .addTo(map_dce3f93245d6458996c956bc146bfcb6);\n",
              "        \n",
              "</script>"
            ]
          },
          "metadata": {}
        }
      ]
    },
    {
      "cell_type": "code",
      "source": [
        ""
      ],
      "metadata": {
        "id": "KZyElER5TlrT"
      },
      "execution_count": 35,
      "outputs": []
    },
    {
      "cell_type": "code",
      "source": [
        ""
      ],
      "metadata": {
        "id": "3qntlGH6TK2-"
      },
      "execution_count": 35,
      "outputs": []
    },
    {
      "cell_type": "code",
      "source": [
        ""
      ],
      "metadata": {
        "id": "9aX8nxVp87q1"
      },
      "execution_count": null,
      "outputs": []
    },
    {
      "cell_type": "markdown",
      "metadata": {
        "id": "WtJl-gEPI6N2"
      },
      "source": [
        "## Ask & Questions\n",
        "\n",
        "1. Are there more accidents in warmer or colder areas?\n",
        "2. Which 5 states has the highest number of accidents? How about per capita?\n",
        "3. Does New York ahop up in the data? If yes, why is the count lower if this the most populated city.\n",
        "4. Among the top 100 cities in number of accidents, which states do they belong to most frequently.\n",
        "5. What time of the day are accidents most frequent in? - ANSWERED\n",
        "6. Which days of the week have the most accidents?\n",
        "7. Which months have the most accidents?\n",
        "8. What is the trend of accidents yoer over year (decreasing/increasing?)\n",
        "9. When is accident per unit the highest? \n"
      ]
    },
    {
      "cell_type": "code",
      "execution_count": 35,
      "metadata": {
        "id": "P0Y4gnC5I5lE"
      },
      "outputs": [],
      "source": [
        ""
      ]
    },
    {
      "cell_type": "code",
      "execution_count": 35,
      "metadata": {
        "id": "wbNnpo7PI5mC"
      },
      "outputs": [],
      "source": [
        ""
      ]
    },
    {
      "cell_type": "code",
      "execution_count": 35,
      "metadata": {
        "id": "K4moRxdfI5oI"
      },
      "outputs": [],
      "source": [
        ""
      ]
    },
    {
      "cell_type": "code",
      "execution_count": 35,
      "metadata": {
        "id": "51nIMEeiIirl"
      },
      "outputs": [],
      "source": [
        ""
      ]
    },
    {
      "cell_type": "markdown",
      "source": [
        "## Summary and Conclusion \n",
        "\n",
        "Insights:\n",
        "- No data for New York.\n",
        "- The number of accodents per city decreases  exponentialy.\n",
        "- Less then 5% of cities have more than 1000 yearly accidents.\n",
        "- Over 1200 cities have reported just one accident (need to investigate)."
      ],
      "metadata": {
        "id": "oAjUdjyl8ulC"
      }
    },
    {
      "cell_type": "markdown",
      "metadata": {
        "id": "jMfysU4lHcsa"
      },
      "source": [
        "# us-accidents-analysis\n",
        "\n",
        "Use the \"Run\" button to execute the code."
      ]
    }
  ],
  "metadata": {
    "colab": {
      "collapsed_sections": [],
      "name": "us-accidents-analysis.ipynb",
      "provenance": [],
      "include_colab_link": true
    },
    "kernelspec": {
      "display_name": "Python 3",
      "language": "python",
      "name": "python3"
    },
    "language_info": {
      "codemirror_mode": {
        "name": "ipython",
        "version": 3
      },
      "file_extension": ".py",
      "mimetype": "text/x-python",
      "name": "python",
      "nbconvert_exporter": "python",
      "pygments_lexer": "ipython3",
      "version": "3.7.6"
    }
  },
  "nbformat": 4,
  "nbformat_minor": 0
}