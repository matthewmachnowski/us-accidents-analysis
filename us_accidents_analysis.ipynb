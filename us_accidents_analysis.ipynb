{
  "cells": [
    {
      "cell_type": "markdown",
      "metadata": {
        "id": "view-in-github",
        "colab_type": "text"
      },
      "source": [
        "<a href=\"https://colab.research.google.com/github/matthewmachnowski/us-accidents-analysis/blob/main/us_accidents_analysis.ipynb\" target=\"_parent\"><img src=\"https://colab.research.google.com/assets/colab-badge.svg\" alt=\"Open In Colab\"/></a>"
      ]
    },
    {
      "cell_type": "markdown",
      "metadata": {
        "id": "OWweIPA6IE4F"
      },
      "source": [
        "# US Accidents Exploratory Data Analysis\n",
        "\n",
        "TODO - talk about EDA\n",
        "\n",
        "TODO - talk about the dataset (sourse, what it contains, how it will be useful)\n",
        "  - Kaggle\n",
        "  - information about accidents \n",
        "  - can use useful to prevent accidents\n",
        "  - mention that this does not contain data about New York"
      ]
    },
    {
      "cell_type": "code",
      "execution_count": 2,
      "metadata": {
        "id": "Mv2tLrwDIiFA"
      },
      "outputs": [],
      "source": [
        "pip install opendatasets --upgrade --quiet"
      ]
    },
    {
      "cell_type": "code",
      "execution_count": 3,
      "metadata": {
        "id": "x1GdPHS2fI7q",
        "colab": {
          "base_uri": "https://localhost:8080/"
        },
        "outputId": "ab6b1173-bc65-4097-b6f1-2924e417ac86"
      },
      "outputs": [
        {
          "output_type": "stream",
          "name": "stdout",
          "text": [
            "Please provide your Kaggle credentials to download this dataset. Learn more: http://bit.ly/kaggle-creds\n",
            "Your Kaggle username: mateuszmachnowski\n",
            "Your Kaggle Key: ··········\n",
            "Downloading us-accidents.zip to ./us-accidents\n"
          ]
        },
        {
          "output_type": "stream",
          "name": "stderr",
          "text": [
            "100%|██████████| 269M/269M [00:09<00:00, 29.7MB/s]\n"
          ]
        },
        {
          "output_type": "stream",
          "name": "stdout",
          "text": [
            "\n"
          ]
        }
      ],
      "source": [
        "import opendatasets as od\n",
        "\n",
        "download_url = 'https://www.kaggle.com/sobhanmoosavi/us-accidents'\n",
        "\n",
        "od.download(download_url)"
      ]
    },
    {
      "cell_type": "code",
      "source": [
        "data_filename = './us-accidents/US_Accidents_Dec21_updated.csv'"
      ],
      "metadata": {
        "id": "nJPIDrMI0jIF"
      },
      "execution_count": 4,
      "outputs": []
    },
    {
      "cell_type": "markdown",
      "metadata": {
        "id": "iHC8oSgoIsCr"
      },
      "source": [
        "## Data Preparation and Cleaning\n",
        "\n",
        "1. Load the file using Pandas\n",
        "2. Look at some information about the data & the columns\n",
        "3. Fix any missing or incorret values"
      ]
    },
    {
      "cell_type": "code",
      "execution_count": 5,
      "metadata": {
        "id": "F5Gdkru0IiYS"
      },
      "outputs": [],
      "source": [
        "import pandas as pd"
      ]
    },
    {
      "cell_type": "code",
      "execution_count": 6,
      "metadata": {
        "id": "VY5Y6w7ZIiez"
      },
      "outputs": [],
      "source": [
        "df = pd.read_csv(data_filename)"
      ]
    },
    {
      "cell_type": "code",
      "execution_count": 7,
      "metadata": {
        "id": "Us-yY2FPIihW",
        "colab": {
          "base_uri": "https://localhost:8080/",
          "height": 939
        },
        "outputId": "65b6117e-b387-4d02-fc4e-5b04a7f8673f"
      },
      "outputs": [
        {
          "output_type": "execute_result",
          "data": {
            "text/plain": [
              "                ID  Severity           Start_Time             End_Time  \\\n",
              "0              A-1         3  2016-02-08 00:37:08  2016-02-08 06:37:08   \n",
              "1              A-2         2  2016-02-08 05:56:20  2016-02-08 11:56:20   \n",
              "2              A-3         2  2016-02-08 06:15:39  2016-02-08 12:15:39   \n",
              "3              A-4         2  2016-02-08 06:51:45  2016-02-08 12:51:45   \n",
              "4              A-5         3  2016-02-08 07:53:43  2016-02-08 13:53:43   \n",
              "...            ...       ...                  ...                  ...   \n",
              "2845337  A-2845338         2  2019-08-23 18:03:25  2019-08-23 18:32:01   \n",
              "2845338  A-2845339         2  2019-08-23 19:11:30  2019-08-23 19:38:23   \n",
              "2845339  A-2845340         2  2019-08-23 19:00:21  2019-08-23 19:28:49   \n",
              "2845340  A-2845341         2  2019-08-23 19:00:21  2019-08-23 19:29:42   \n",
              "2845341  A-2845342         2  2019-08-23 18:52:06  2019-08-23 19:21:31   \n",
              "\n",
              "         Start_Lat   Start_Lng    End_Lat     End_Lng  Distance(mi)  \\\n",
              "0        40.108910  -83.092860  40.112060  -83.031870         3.230   \n",
              "1        39.865420  -84.062800  39.865010  -84.048730         0.747   \n",
              "2        39.102660  -84.524680  39.102090  -84.523960         0.055   \n",
              "3        41.062130  -81.537840  41.062170  -81.535470         0.123   \n",
              "4        39.172393  -84.492792  39.170476  -84.501798         0.500   \n",
              "...            ...         ...        ...         ...           ...   \n",
              "2845337  34.002480 -117.379360  33.998880 -117.370940         0.543   \n",
              "2845338  32.766960 -117.148060  32.765550 -117.153630         0.338   \n",
              "2845339  33.775450 -117.847790  33.777400 -117.857270         0.561   \n",
              "2845340  33.992460 -118.403020  33.983110 -118.395650         0.772   \n",
              "2845341  34.133930 -117.230920  34.137360 -117.239340         0.537   \n",
              "\n",
              "                                               Description  ...  Roundabout  \\\n",
              "0        Between Sawmill Rd/Exit 20 and OH-315/Olentang...  ...       False   \n",
              "1                       At OH-4/OH-235/Exit 41 - Accident.  ...       False   \n",
              "2                         At I-71/US-50/Exit 1 - Accident.  ...       False   \n",
              "3                          At Dart Ave/Exit 21 - Accident.  ...       False   \n",
              "4                       At Mitchell Ave/Exit 6 - Accident.  ...       False   \n",
              "...                                                    ...  ...         ...   \n",
              "2845337                           At Market St - Accident.  ...       False   \n",
              "2845338    At Camino Del Rio/Mission Center Rd - Accident.  ...       False   \n",
              "2845339  At Glassell St/Grand Ave - Accident. in the ri...  ...       False   \n",
              "2845340     At CA-90/Marina Fwy/Jefferson Blvd - Accident.  ...       False   \n",
              "2845341              At Highland Ave/Arden Ave - Accident.  ...       False   \n",
              "\n",
              "        Station   Stop Traffic_Calming Traffic_Signal Turning_Loop  \\\n",
              "0         False  False           False          False        False   \n",
              "1         False  False           False          False        False   \n",
              "2         False  False           False          False        False   \n",
              "3         False  False           False          False        False   \n",
              "4         False  False           False          False        False   \n",
              "...         ...    ...             ...            ...          ...   \n",
              "2845337   False  False           False          False        False   \n",
              "2845338   False  False           False          False        False   \n",
              "2845339   False  False           False          False        False   \n",
              "2845340   False  False           False          False        False   \n",
              "2845341   False  False           False          False        False   \n",
              "\n",
              "        Sunrise_Sunset Civil_Twilight Nautical_Twilight Astronomical_Twilight  \n",
              "0                Night          Night             Night                 Night  \n",
              "1                Night          Night             Night                 Night  \n",
              "2                Night          Night             Night                   Day  \n",
              "3                Night          Night               Day                   Day  \n",
              "4                  Day            Day               Day                   Day  \n",
              "...                ...            ...               ...                   ...  \n",
              "2845337            Day            Day               Day                   Day  \n",
              "2845338            Day            Day               Day                   Day  \n",
              "2845339            Day            Day               Day                   Day  \n",
              "2845340            Day            Day               Day                   Day  \n",
              "2845341            Day            Day               Day                   Day  \n",
              "\n",
              "[2845342 rows x 47 columns]"
            ],
            "text/html": [
              "\n",
              "  <div id=\"df-c5057fa2-ade5-43f2-b986-4603910c5a6d\">\n",
              "    <div class=\"colab-df-container\">\n",
              "      <div>\n",
              "<style scoped>\n",
              "    .dataframe tbody tr th:only-of-type {\n",
              "        vertical-align: middle;\n",
              "    }\n",
              "\n",
              "    .dataframe tbody tr th {\n",
              "        vertical-align: top;\n",
              "    }\n",
              "\n",
              "    .dataframe thead th {\n",
              "        text-align: right;\n",
              "    }\n",
              "</style>\n",
              "<table border=\"1\" class=\"dataframe\">\n",
              "  <thead>\n",
              "    <tr style=\"text-align: right;\">\n",
              "      <th></th>\n",
              "      <th>ID</th>\n",
              "      <th>Severity</th>\n",
              "      <th>Start_Time</th>\n",
              "      <th>End_Time</th>\n",
              "      <th>Start_Lat</th>\n",
              "      <th>Start_Lng</th>\n",
              "      <th>End_Lat</th>\n",
              "      <th>End_Lng</th>\n",
              "      <th>Distance(mi)</th>\n",
              "      <th>Description</th>\n",
              "      <th>...</th>\n",
              "      <th>Roundabout</th>\n",
              "      <th>Station</th>\n",
              "      <th>Stop</th>\n",
              "      <th>Traffic_Calming</th>\n",
              "      <th>Traffic_Signal</th>\n",
              "      <th>Turning_Loop</th>\n",
              "      <th>Sunrise_Sunset</th>\n",
              "      <th>Civil_Twilight</th>\n",
              "      <th>Nautical_Twilight</th>\n",
              "      <th>Astronomical_Twilight</th>\n",
              "    </tr>\n",
              "  </thead>\n",
              "  <tbody>\n",
              "    <tr>\n",
              "      <th>0</th>\n",
              "      <td>A-1</td>\n",
              "      <td>3</td>\n",
              "      <td>2016-02-08 00:37:08</td>\n",
              "      <td>2016-02-08 06:37:08</td>\n",
              "      <td>40.108910</td>\n",
              "      <td>-83.092860</td>\n",
              "      <td>40.112060</td>\n",
              "      <td>-83.031870</td>\n",
              "      <td>3.230</td>\n",
              "      <td>Between Sawmill Rd/Exit 20 and OH-315/Olentang...</td>\n",
              "      <td>...</td>\n",
              "      <td>False</td>\n",
              "      <td>False</td>\n",
              "      <td>False</td>\n",
              "      <td>False</td>\n",
              "      <td>False</td>\n",
              "      <td>False</td>\n",
              "      <td>Night</td>\n",
              "      <td>Night</td>\n",
              "      <td>Night</td>\n",
              "      <td>Night</td>\n",
              "    </tr>\n",
              "    <tr>\n",
              "      <th>1</th>\n",
              "      <td>A-2</td>\n",
              "      <td>2</td>\n",
              "      <td>2016-02-08 05:56:20</td>\n",
              "      <td>2016-02-08 11:56:20</td>\n",
              "      <td>39.865420</td>\n",
              "      <td>-84.062800</td>\n",
              "      <td>39.865010</td>\n",
              "      <td>-84.048730</td>\n",
              "      <td>0.747</td>\n",
              "      <td>At OH-4/OH-235/Exit 41 - Accident.</td>\n",
              "      <td>...</td>\n",
              "      <td>False</td>\n",
              "      <td>False</td>\n",
              "      <td>False</td>\n",
              "      <td>False</td>\n",
              "      <td>False</td>\n",
              "      <td>False</td>\n",
              "      <td>Night</td>\n",
              "      <td>Night</td>\n",
              "      <td>Night</td>\n",
              "      <td>Night</td>\n",
              "    </tr>\n",
              "    <tr>\n",
              "      <th>2</th>\n",
              "      <td>A-3</td>\n",
              "      <td>2</td>\n",
              "      <td>2016-02-08 06:15:39</td>\n",
              "      <td>2016-02-08 12:15:39</td>\n",
              "      <td>39.102660</td>\n",
              "      <td>-84.524680</td>\n",
              "      <td>39.102090</td>\n",
              "      <td>-84.523960</td>\n",
              "      <td>0.055</td>\n",
              "      <td>At I-71/US-50/Exit 1 - Accident.</td>\n",
              "      <td>...</td>\n",
              "      <td>False</td>\n",
              "      <td>False</td>\n",
              "      <td>False</td>\n",
              "      <td>False</td>\n",
              "      <td>False</td>\n",
              "      <td>False</td>\n",
              "      <td>Night</td>\n",
              "      <td>Night</td>\n",
              "      <td>Night</td>\n",
              "      <td>Day</td>\n",
              "    </tr>\n",
              "    <tr>\n",
              "      <th>3</th>\n",
              "      <td>A-4</td>\n",
              "      <td>2</td>\n",
              "      <td>2016-02-08 06:51:45</td>\n",
              "      <td>2016-02-08 12:51:45</td>\n",
              "      <td>41.062130</td>\n",
              "      <td>-81.537840</td>\n",
              "      <td>41.062170</td>\n",
              "      <td>-81.535470</td>\n",
              "      <td>0.123</td>\n",
              "      <td>At Dart Ave/Exit 21 - Accident.</td>\n",
              "      <td>...</td>\n",
              "      <td>False</td>\n",
              "      <td>False</td>\n",
              "      <td>False</td>\n",
              "      <td>False</td>\n",
              "      <td>False</td>\n",
              "      <td>False</td>\n",
              "      <td>Night</td>\n",
              "      <td>Night</td>\n",
              "      <td>Day</td>\n",
              "      <td>Day</td>\n",
              "    </tr>\n",
              "    <tr>\n",
              "      <th>4</th>\n",
              "      <td>A-5</td>\n",
              "      <td>3</td>\n",
              "      <td>2016-02-08 07:53:43</td>\n",
              "      <td>2016-02-08 13:53:43</td>\n",
              "      <td>39.172393</td>\n",
              "      <td>-84.492792</td>\n",
              "      <td>39.170476</td>\n",
              "      <td>-84.501798</td>\n",
              "      <td>0.500</td>\n",
              "      <td>At Mitchell Ave/Exit 6 - Accident.</td>\n",
              "      <td>...</td>\n",
              "      <td>False</td>\n",
              "      <td>False</td>\n",
              "      <td>False</td>\n",
              "      <td>False</td>\n",
              "      <td>False</td>\n",
              "      <td>False</td>\n",
              "      <td>Day</td>\n",
              "      <td>Day</td>\n",
              "      <td>Day</td>\n",
              "      <td>Day</td>\n",
              "    </tr>\n",
              "    <tr>\n",
              "      <th>...</th>\n",
              "      <td>...</td>\n",
              "      <td>...</td>\n",
              "      <td>...</td>\n",
              "      <td>...</td>\n",
              "      <td>...</td>\n",
              "      <td>...</td>\n",
              "      <td>...</td>\n",
              "      <td>...</td>\n",
              "      <td>...</td>\n",
              "      <td>...</td>\n",
              "      <td>...</td>\n",
              "      <td>...</td>\n",
              "      <td>...</td>\n",
              "      <td>...</td>\n",
              "      <td>...</td>\n",
              "      <td>...</td>\n",
              "      <td>...</td>\n",
              "      <td>...</td>\n",
              "      <td>...</td>\n",
              "      <td>...</td>\n",
              "      <td>...</td>\n",
              "    </tr>\n",
              "    <tr>\n",
              "      <th>2845337</th>\n",
              "      <td>A-2845338</td>\n",
              "      <td>2</td>\n",
              "      <td>2019-08-23 18:03:25</td>\n",
              "      <td>2019-08-23 18:32:01</td>\n",
              "      <td>34.002480</td>\n",
              "      <td>-117.379360</td>\n",
              "      <td>33.998880</td>\n",
              "      <td>-117.370940</td>\n",
              "      <td>0.543</td>\n",
              "      <td>At Market St - Accident.</td>\n",
              "      <td>...</td>\n",
              "      <td>False</td>\n",
              "      <td>False</td>\n",
              "      <td>False</td>\n",
              "      <td>False</td>\n",
              "      <td>False</td>\n",
              "      <td>False</td>\n",
              "      <td>Day</td>\n",
              "      <td>Day</td>\n",
              "      <td>Day</td>\n",
              "      <td>Day</td>\n",
              "    </tr>\n",
              "    <tr>\n",
              "      <th>2845338</th>\n",
              "      <td>A-2845339</td>\n",
              "      <td>2</td>\n",
              "      <td>2019-08-23 19:11:30</td>\n",
              "      <td>2019-08-23 19:38:23</td>\n",
              "      <td>32.766960</td>\n",
              "      <td>-117.148060</td>\n",
              "      <td>32.765550</td>\n",
              "      <td>-117.153630</td>\n",
              "      <td>0.338</td>\n",
              "      <td>At Camino Del Rio/Mission Center Rd - Accident.</td>\n",
              "      <td>...</td>\n",
              "      <td>False</td>\n",
              "      <td>False</td>\n",
              "      <td>False</td>\n",
              "      <td>False</td>\n",
              "      <td>False</td>\n",
              "      <td>False</td>\n",
              "      <td>Day</td>\n",
              "      <td>Day</td>\n",
              "      <td>Day</td>\n",
              "      <td>Day</td>\n",
              "    </tr>\n",
              "    <tr>\n",
              "      <th>2845339</th>\n",
              "      <td>A-2845340</td>\n",
              "      <td>2</td>\n",
              "      <td>2019-08-23 19:00:21</td>\n",
              "      <td>2019-08-23 19:28:49</td>\n",
              "      <td>33.775450</td>\n",
              "      <td>-117.847790</td>\n",
              "      <td>33.777400</td>\n",
              "      <td>-117.857270</td>\n",
              "      <td>0.561</td>\n",
              "      <td>At Glassell St/Grand Ave - Accident. in the ri...</td>\n",
              "      <td>...</td>\n",
              "      <td>False</td>\n",
              "      <td>False</td>\n",
              "      <td>False</td>\n",
              "      <td>False</td>\n",
              "      <td>False</td>\n",
              "      <td>False</td>\n",
              "      <td>Day</td>\n",
              "      <td>Day</td>\n",
              "      <td>Day</td>\n",
              "      <td>Day</td>\n",
              "    </tr>\n",
              "    <tr>\n",
              "      <th>2845340</th>\n",
              "      <td>A-2845341</td>\n",
              "      <td>2</td>\n",
              "      <td>2019-08-23 19:00:21</td>\n",
              "      <td>2019-08-23 19:29:42</td>\n",
              "      <td>33.992460</td>\n",
              "      <td>-118.403020</td>\n",
              "      <td>33.983110</td>\n",
              "      <td>-118.395650</td>\n",
              "      <td>0.772</td>\n",
              "      <td>At CA-90/Marina Fwy/Jefferson Blvd - Accident.</td>\n",
              "      <td>...</td>\n",
              "      <td>False</td>\n",
              "      <td>False</td>\n",
              "      <td>False</td>\n",
              "      <td>False</td>\n",
              "      <td>False</td>\n",
              "      <td>False</td>\n",
              "      <td>Day</td>\n",
              "      <td>Day</td>\n",
              "      <td>Day</td>\n",
              "      <td>Day</td>\n",
              "    </tr>\n",
              "    <tr>\n",
              "      <th>2845341</th>\n",
              "      <td>A-2845342</td>\n",
              "      <td>2</td>\n",
              "      <td>2019-08-23 18:52:06</td>\n",
              "      <td>2019-08-23 19:21:31</td>\n",
              "      <td>34.133930</td>\n",
              "      <td>-117.230920</td>\n",
              "      <td>34.137360</td>\n",
              "      <td>-117.239340</td>\n",
              "      <td>0.537</td>\n",
              "      <td>At Highland Ave/Arden Ave - Accident.</td>\n",
              "      <td>...</td>\n",
              "      <td>False</td>\n",
              "      <td>False</td>\n",
              "      <td>False</td>\n",
              "      <td>False</td>\n",
              "      <td>False</td>\n",
              "      <td>False</td>\n",
              "      <td>Day</td>\n",
              "      <td>Day</td>\n",
              "      <td>Day</td>\n",
              "      <td>Day</td>\n",
              "    </tr>\n",
              "  </tbody>\n",
              "</table>\n",
              "<p>2845342 rows × 47 columns</p>\n",
              "</div>\n",
              "      <button class=\"colab-df-convert\" onclick=\"convertToInteractive('df-c5057fa2-ade5-43f2-b986-4603910c5a6d')\"\n",
              "              title=\"Convert this dataframe to an interactive table.\"\n",
              "              style=\"display:none;\">\n",
              "        \n",
              "  <svg xmlns=\"http://www.w3.org/2000/svg\" height=\"24px\"viewBox=\"0 0 24 24\"\n",
              "       width=\"24px\">\n",
              "    <path d=\"M0 0h24v24H0V0z\" fill=\"none\"/>\n",
              "    <path d=\"M18.56 5.44l.94 2.06.94-2.06 2.06-.94-2.06-.94-.94-2.06-.94 2.06-2.06.94zm-11 1L8.5 8.5l.94-2.06 2.06-.94-2.06-.94L8.5 2.5l-.94 2.06-2.06.94zm10 10l.94 2.06.94-2.06 2.06-.94-2.06-.94-.94-2.06-.94 2.06-2.06.94z\"/><path d=\"M17.41 7.96l-1.37-1.37c-.4-.4-.92-.59-1.43-.59-.52 0-1.04.2-1.43.59L10.3 9.45l-7.72 7.72c-.78.78-.78 2.05 0 2.83L4 21.41c.39.39.9.59 1.41.59.51 0 1.02-.2 1.41-.59l7.78-7.78 2.81-2.81c.8-.78.8-2.07 0-2.86zM5.41 20L4 18.59l7.72-7.72 1.47 1.35L5.41 20z\"/>\n",
              "  </svg>\n",
              "      </button>\n",
              "      \n",
              "  <style>\n",
              "    .colab-df-container {\n",
              "      display:flex;\n",
              "      flex-wrap:wrap;\n",
              "      gap: 12px;\n",
              "    }\n",
              "\n",
              "    .colab-df-convert {\n",
              "      background-color: #E8F0FE;\n",
              "      border: none;\n",
              "      border-radius: 50%;\n",
              "      cursor: pointer;\n",
              "      display: none;\n",
              "      fill: #1967D2;\n",
              "      height: 32px;\n",
              "      padding: 0 0 0 0;\n",
              "      width: 32px;\n",
              "    }\n",
              "\n",
              "    .colab-df-convert:hover {\n",
              "      background-color: #E2EBFA;\n",
              "      box-shadow: 0px 1px 2px rgba(60, 64, 67, 0.3), 0px 1px 3px 1px rgba(60, 64, 67, 0.15);\n",
              "      fill: #174EA6;\n",
              "    }\n",
              "\n",
              "    [theme=dark] .colab-df-convert {\n",
              "      background-color: #3B4455;\n",
              "      fill: #D2E3FC;\n",
              "    }\n",
              "\n",
              "    [theme=dark] .colab-df-convert:hover {\n",
              "      background-color: #434B5C;\n",
              "      box-shadow: 0px 1px 3px 1px rgba(0, 0, 0, 0.15);\n",
              "      filter: drop-shadow(0px 1px 2px rgba(0, 0, 0, 0.3));\n",
              "      fill: #FFFFFF;\n",
              "    }\n",
              "  </style>\n",
              "\n",
              "      <script>\n",
              "        const buttonEl =\n",
              "          document.querySelector('#df-c5057fa2-ade5-43f2-b986-4603910c5a6d button.colab-df-convert');\n",
              "        buttonEl.style.display =\n",
              "          google.colab.kernel.accessAllowed ? 'block' : 'none';\n",
              "\n",
              "        async function convertToInteractive(key) {\n",
              "          const element = document.querySelector('#df-c5057fa2-ade5-43f2-b986-4603910c5a6d');\n",
              "          const dataTable =\n",
              "            await google.colab.kernel.invokeFunction('convertToInteractive',\n",
              "                                                     [key], {});\n",
              "          if (!dataTable) return;\n",
              "\n",
              "          const docLinkHtml = 'Like what you see? Visit the ' +\n",
              "            '<a target=\"_blank\" href=https://colab.research.google.com/notebooks/data_table.ipynb>data table notebook</a>'\n",
              "            + ' to learn more about interactive tables.';\n",
              "          element.innerHTML = '';\n",
              "          dataTable['output_type'] = 'display_data';\n",
              "          await google.colab.output.renderOutput(dataTable, element);\n",
              "          const docLink = document.createElement('div');\n",
              "          docLink.innerHTML = docLinkHtml;\n",
              "          element.appendChild(docLink);\n",
              "        }\n",
              "      </script>\n",
              "    </div>\n",
              "  </div>\n",
              "  "
            ]
          },
          "metadata": {},
          "execution_count": 7
        }
      ],
      "source": [
        "df"
      ]
    },
    {
      "cell_type": "code",
      "source": [
        "df.info()"
      ],
      "metadata": {
        "colab": {
          "base_uri": "https://localhost:8080/"
        },
        "id": "TDmGz_TO1sY7",
        "outputId": "4f1dc4d9-90d5-432f-eae2-8588893a5b75"
      },
      "execution_count": 8,
      "outputs": [
        {
          "output_type": "stream",
          "name": "stdout",
          "text": [
            "<class 'pandas.core.frame.DataFrame'>\n",
            "RangeIndex: 2845342 entries, 0 to 2845341\n",
            "Data columns (total 47 columns):\n",
            " #   Column                 Dtype  \n",
            "---  ------                 -----  \n",
            " 0   ID                     object \n",
            " 1   Severity               int64  \n",
            " 2   Start_Time             object \n",
            " 3   End_Time               object \n",
            " 4   Start_Lat              float64\n",
            " 5   Start_Lng              float64\n",
            " 6   End_Lat                float64\n",
            " 7   End_Lng                float64\n",
            " 8   Distance(mi)           float64\n",
            " 9   Description            object \n",
            " 10  Number                 float64\n",
            " 11  Street                 object \n",
            " 12  Side                   object \n",
            " 13  City                   object \n",
            " 14  County                 object \n",
            " 15  State                  object \n",
            " 16  Zipcode                object \n",
            " 17  Country                object \n",
            " 18  Timezone               object \n",
            " 19  Airport_Code           object \n",
            " 20  Weather_Timestamp      object \n",
            " 21  Temperature(F)         float64\n",
            " 22  Wind_Chill(F)          float64\n",
            " 23  Humidity(%)            float64\n",
            " 24  Pressure(in)           float64\n",
            " 25  Visibility(mi)         float64\n",
            " 26  Wind_Direction         object \n",
            " 27  Wind_Speed(mph)        float64\n",
            " 28  Precipitation(in)      float64\n",
            " 29  Weather_Condition      object \n",
            " 30  Amenity                bool   \n",
            " 31  Bump                   bool   \n",
            " 32  Crossing               bool   \n",
            " 33  Give_Way               bool   \n",
            " 34  Junction               bool   \n",
            " 35  No_Exit                bool   \n",
            " 36  Railway                bool   \n",
            " 37  Roundabout             bool   \n",
            " 38  Station                bool   \n",
            " 39  Stop                   bool   \n",
            " 40  Traffic_Calming        bool   \n",
            " 41  Traffic_Signal         bool   \n",
            " 42  Turning_Loop           bool   \n",
            " 43  Sunrise_Sunset         object \n",
            " 44  Civil_Twilight         object \n",
            " 45  Nautical_Twilight      object \n",
            " 46  Astronomical_Twilight  object \n",
            "dtypes: bool(13), float64(13), int64(1), object(20)\n",
            "memory usage: 773.4+ MB\n"
          ]
        }
      ]
    },
    {
      "cell_type": "code",
      "source": [
        "df.describe()"
      ],
      "metadata": {
        "colab": {
          "base_uri": "https://localhost:8080/",
          "height": 364
        },
        "id": "SmzhX6iU3xTS",
        "outputId": "841d1adf-6c72-4da5-81ed-28067f4aafd3"
      },
      "execution_count": 9,
      "outputs": [
        {
          "output_type": "execute_result",
          "data": {
            "text/plain": [
              "           Severity     Start_Lat     Start_Lng       End_Lat       End_Lng  \\\n",
              "count  2.845342e+06  2.845342e+06  2.845342e+06  2.845342e+06  2.845342e+06   \n",
              "mean   2.137572e+00  3.624520e+01 -9.711463e+01  3.624532e+01 -9.711439e+01   \n",
              "std    4.787216e-01  5.363797e+00  1.831782e+01  5.363873e+00  1.831763e+01   \n",
              "min    1.000000e+00  2.456603e+01 -1.245481e+02  2.456601e+01 -1.245457e+02   \n",
              "25%    2.000000e+00  3.344517e+01 -1.180331e+02  3.344628e+01 -1.180333e+02   \n",
              "50%    2.000000e+00  3.609861e+01 -9.241808e+01  3.609799e+01 -9.241772e+01   \n",
              "75%    2.000000e+00  4.016024e+01 -8.037243e+01  4.016105e+01 -8.037338e+01   \n",
              "max    4.000000e+00  4.900058e+01 -6.711317e+01  4.907500e+01 -6.710924e+01   \n",
              "\n",
              "       Distance(mi)        Number  Temperature(F)  Wind_Chill(F)  \\\n",
              "count  2.845342e+06  1.101431e+06    2.776068e+06   2.375699e+06   \n",
              "mean   7.026779e-01  8.089408e+03    6.179356e+01   5.965823e+01   \n",
              "std    1.560361e+00  1.836009e+04    1.862263e+01   2.116097e+01   \n",
              "min    0.000000e+00  0.000000e+00   -8.900000e+01  -8.900000e+01   \n",
              "25%    5.200000e-02  1.270000e+03    5.000000e+01   4.600000e+01   \n",
              "50%    2.440000e-01  4.007000e+03    6.400000e+01   6.300000e+01   \n",
              "75%    7.640000e-01  9.567000e+03    7.600000e+01   7.600000e+01   \n",
              "max    1.551860e+02  9.999997e+06    1.960000e+02   1.960000e+02   \n",
              "\n",
              "        Humidity(%)  Pressure(in)  Visibility(mi)  Wind_Speed(mph)  \\\n",
              "count  2.772250e+06  2.786142e+06    2.774796e+06     2.687398e+06   \n",
              "mean   6.436545e+01  2.947234e+01    9.099391e+00     7.395044e+00   \n",
              "std    2.287457e+01  1.045286e+00    2.717546e+00     5.527454e+00   \n",
              "min    1.000000e+00  0.000000e+00    0.000000e+00     0.000000e+00   \n",
              "25%    4.800000e+01  2.931000e+01    1.000000e+01     3.500000e+00   \n",
              "50%    6.700000e+01  2.982000e+01    1.000000e+01     7.000000e+00   \n",
              "75%    8.300000e+01  3.001000e+01    1.000000e+01     1.000000e+01   \n",
              "max    1.000000e+02  5.890000e+01    1.400000e+02     1.087000e+03   \n",
              "\n",
              "       Precipitation(in)  \n",
              "count       2.295884e+06  \n",
              "mean        7.016940e-03  \n",
              "std         9.348831e-02  \n",
              "min         0.000000e+00  \n",
              "25%         0.000000e+00  \n",
              "50%         0.000000e+00  \n",
              "75%         0.000000e+00  \n",
              "max         2.400000e+01  "
            ],
            "text/html": [
              "\n",
              "  <div id=\"df-eccd0722-fcb7-445e-9204-c165408f05a5\">\n",
              "    <div class=\"colab-df-container\">\n",
              "      <div>\n",
              "<style scoped>\n",
              "    .dataframe tbody tr th:only-of-type {\n",
              "        vertical-align: middle;\n",
              "    }\n",
              "\n",
              "    .dataframe tbody tr th {\n",
              "        vertical-align: top;\n",
              "    }\n",
              "\n",
              "    .dataframe thead th {\n",
              "        text-align: right;\n",
              "    }\n",
              "</style>\n",
              "<table border=\"1\" class=\"dataframe\">\n",
              "  <thead>\n",
              "    <tr style=\"text-align: right;\">\n",
              "      <th></th>\n",
              "      <th>Severity</th>\n",
              "      <th>Start_Lat</th>\n",
              "      <th>Start_Lng</th>\n",
              "      <th>End_Lat</th>\n",
              "      <th>End_Lng</th>\n",
              "      <th>Distance(mi)</th>\n",
              "      <th>Number</th>\n",
              "      <th>Temperature(F)</th>\n",
              "      <th>Wind_Chill(F)</th>\n",
              "      <th>Humidity(%)</th>\n",
              "      <th>Pressure(in)</th>\n",
              "      <th>Visibility(mi)</th>\n",
              "      <th>Wind_Speed(mph)</th>\n",
              "      <th>Precipitation(in)</th>\n",
              "    </tr>\n",
              "  </thead>\n",
              "  <tbody>\n",
              "    <tr>\n",
              "      <th>count</th>\n",
              "      <td>2.845342e+06</td>\n",
              "      <td>2.845342e+06</td>\n",
              "      <td>2.845342e+06</td>\n",
              "      <td>2.845342e+06</td>\n",
              "      <td>2.845342e+06</td>\n",
              "      <td>2.845342e+06</td>\n",
              "      <td>1.101431e+06</td>\n",
              "      <td>2.776068e+06</td>\n",
              "      <td>2.375699e+06</td>\n",
              "      <td>2.772250e+06</td>\n",
              "      <td>2.786142e+06</td>\n",
              "      <td>2.774796e+06</td>\n",
              "      <td>2.687398e+06</td>\n",
              "      <td>2.295884e+06</td>\n",
              "    </tr>\n",
              "    <tr>\n",
              "      <th>mean</th>\n",
              "      <td>2.137572e+00</td>\n",
              "      <td>3.624520e+01</td>\n",
              "      <td>-9.711463e+01</td>\n",
              "      <td>3.624532e+01</td>\n",
              "      <td>-9.711439e+01</td>\n",
              "      <td>7.026779e-01</td>\n",
              "      <td>8.089408e+03</td>\n",
              "      <td>6.179356e+01</td>\n",
              "      <td>5.965823e+01</td>\n",
              "      <td>6.436545e+01</td>\n",
              "      <td>2.947234e+01</td>\n",
              "      <td>9.099391e+00</td>\n",
              "      <td>7.395044e+00</td>\n",
              "      <td>7.016940e-03</td>\n",
              "    </tr>\n",
              "    <tr>\n",
              "      <th>std</th>\n",
              "      <td>4.787216e-01</td>\n",
              "      <td>5.363797e+00</td>\n",
              "      <td>1.831782e+01</td>\n",
              "      <td>5.363873e+00</td>\n",
              "      <td>1.831763e+01</td>\n",
              "      <td>1.560361e+00</td>\n",
              "      <td>1.836009e+04</td>\n",
              "      <td>1.862263e+01</td>\n",
              "      <td>2.116097e+01</td>\n",
              "      <td>2.287457e+01</td>\n",
              "      <td>1.045286e+00</td>\n",
              "      <td>2.717546e+00</td>\n",
              "      <td>5.527454e+00</td>\n",
              "      <td>9.348831e-02</td>\n",
              "    </tr>\n",
              "    <tr>\n",
              "      <th>min</th>\n",
              "      <td>1.000000e+00</td>\n",
              "      <td>2.456603e+01</td>\n",
              "      <td>-1.245481e+02</td>\n",
              "      <td>2.456601e+01</td>\n",
              "      <td>-1.245457e+02</td>\n",
              "      <td>0.000000e+00</td>\n",
              "      <td>0.000000e+00</td>\n",
              "      <td>-8.900000e+01</td>\n",
              "      <td>-8.900000e+01</td>\n",
              "      <td>1.000000e+00</td>\n",
              "      <td>0.000000e+00</td>\n",
              "      <td>0.000000e+00</td>\n",
              "      <td>0.000000e+00</td>\n",
              "      <td>0.000000e+00</td>\n",
              "    </tr>\n",
              "    <tr>\n",
              "      <th>25%</th>\n",
              "      <td>2.000000e+00</td>\n",
              "      <td>3.344517e+01</td>\n",
              "      <td>-1.180331e+02</td>\n",
              "      <td>3.344628e+01</td>\n",
              "      <td>-1.180333e+02</td>\n",
              "      <td>5.200000e-02</td>\n",
              "      <td>1.270000e+03</td>\n",
              "      <td>5.000000e+01</td>\n",
              "      <td>4.600000e+01</td>\n",
              "      <td>4.800000e+01</td>\n",
              "      <td>2.931000e+01</td>\n",
              "      <td>1.000000e+01</td>\n",
              "      <td>3.500000e+00</td>\n",
              "      <td>0.000000e+00</td>\n",
              "    </tr>\n",
              "    <tr>\n",
              "      <th>50%</th>\n",
              "      <td>2.000000e+00</td>\n",
              "      <td>3.609861e+01</td>\n",
              "      <td>-9.241808e+01</td>\n",
              "      <td>3.609799e+01</td>\n",
              "      <td>-9.241772e+01</td>\n",
              "      <td>2.440000e-01</td>\n",
              "      <td>4.007000e+03</td>\n",
              "      <td>6.400000e+01</td>\n",
              "      <td>6.300000e+01</td>\n",
              "      <td>6.700000e+01</td>\n",
              "      <td>2.982000e+01</td>\n",
              "      <td>1.000000e+01</td>\n",
              "      <td>7.000000e+00</td>\n",
              "      <td>0.000000e+00</td>\n",
              "    </tr>\n",
              "    <tr>\n",
              "      <th>75%</th>\n",
              "      <td>2.000000e+00</td>\n",
              "      <td>4.016024e+01</td>\n",
              "      <td>-8.037243e+01</td>\n",
              "      <td>4.016105e+01</td>\n",
              "      <td>-8.037338e+01</td>\n",
              "      <td>7.640000e-01</td>\n",
              "      <td>9.567000e+03</td>\n",
              "      <td>7.600000e+01</td>\n",
              "      <td>7.600000e+01</td>\n",
              "      <td>8.300000e+01</td>\n",
              "      <td>3.001000e+01</td>\n",
              "      <td>1.000000e+01</td>\n",
              "      <td>1.000000e+01</td>\n",
              "      <td>0.000000e+00</td>\n",
              "    </tr>\n",
              "    <tr>\n",
              "      <th>max</th>\n",
              "      <td>4.000000e+00</td>\n",
              "      <td>4.900058e+01</td>\n",
              "      <td>-6.711317e+01</td>\n",
              "      <td>4.907500e+01</td>\n",
              "      <td>-6.710924e+01</td>\n",
              "      <td>1.551860e+02</td>\n",
              "      <td>9.999997e+06</td>\n",
              "      <td>1.960000e+02</td>\n",
              "      <td>1.960000e+02</td>\n",
              "      <td>1.000000e+02</td>\n",
              "      <td>5.890000e+01</td>\n",
              "      <td>1.400000e+02</td>\n",
              "      <td>1.087000e+03</td>\n",
              "      <td>2.400000e+01</td>\n",
              "    </tr>\n",
              "  </tbody>\n",
              "</table>\n",
              "</div>\n",
              "      <button class=\"colab-df-convert\" onclick=\"convertToInteractive('df-eccd0722-fcb7-445e-9204-c165408f05a5')\"\n",
              "              title=\"Convert this dataframe to an interactive table.\"\n",
              "              style=\"display:none;\">\n",
              "        \n",
              "  <svg xmlns=\"http://www.w3.org/2000/svg\" height=\"24px\"viewBox=\"0 0 24 24\"\n",
              "       width=\"24px\">\n",
              "    <path d=\"M0 0h24v24H0V0z\" fill=\"none\"/>\n",
              "    <path d=\"M18.56 5.44l.94 2.06.94-2.06 2.06-.94-2.06-.94-.94-2.06-.94 2.06-2.06.94zm-11 1L8.5 8.5l.94-2.06 2.06-.94-2.06-.94L8.5 2.5l-.94 2.06-2.06.94zm10 10l.94 2.06.94-2.06 2.06-.94-2.06-.94-.94-2.06-.94 2.06-2.06.94z\"/><path d=\"M17.41 7.96l-1.37-1.37c-.4-.4-.92-.59-1.43-.59-.52 0-1.04.2-1.43.59L10.3 9.45l-7.72 7.72c-.78.78-.78 2.05 0 2.83L4 21.41c.39.39.9.59 1.41.59.51 0 1.02-.2 1.41-.59l7.78-7.78 2.81-2.81c.8-.78.8-2.07 0-2.86zM5.41 20L4 18.59l7.72-7.72 1.47 1.35L5.41 20z\"/>\n",
              "  </svg>\n",
              "      </button>\n",
              "      \n",
              "  <style>\n",
              "    .colab-df-container {\n",
              "      display:flex;\n",
              "      flex-wrap:wrap;\n",
              "      gap: 12px;\n",
              "    }\n",
              "\n",
              "    .colab-df-convert {\n",
              "      background-color: #E8F0FE;\n",
              "      border: none;\n",
              "      border-radius: 50%;\n",
              "      cursor: pointer;\n",
              "      display: none;\n",
              "      fill: #1967D2;\n",
              "      height: 32px;\n",
              "      padding: 0 0 0 0;\n",
              "      width: 32px;\n",
              "    }\n",
              "\n",
              "    .colab-df-convert:hover {\n",
              "      background-color: #E2EBFA;\n",
              "      box-shadow: 0px 1px 2px rgba(60, 64, 67, 0.3), 0px 1px 3px 1px rgba(60, 64, 67, 0.15);\n",
              "      fill: #174EA6;\n",
              "    }\n",
              "\n",
              "    [theme=dark] .colab-df-convert {\n",
              "      background-color: #3B4455;\n",
              "      fill: #D2E3FC;\n",
              "    }\n",
              "\n",
              "    [theme=dark] .colab-df-convert:hover {\n",
              "      background-color: #434B5C;\n",
              "      box-shadow: 0px 1px 3px 1px rgba(0, 0, 0, 0.15);\n",
              "      filter: drop-shadow(0px 1px 2px rgba(0, 0, 0, 0.3));\n",
              "      fill: #FFFFFF;\n",
              "    }\n",
              "  </style>\n",
              "\n",
              "      <script>\n",
              "        const buttonEl =\n",
              "          document.querySelector('#df-eccd0722-fcb7-445e-9204-c165408f05a5 button.colab-df-convert');\n",
              "        buttonEl.style.display =\n",
              "          google.colab.kernel.accessAllowed ? 'block' : 'none';\n",
              "\n",
              "        async function convertToInteractive(key) {\n",
              "          const element = document.querySelector('#df-eccd0722-fcb7-445e-9204-c165408f05a5');\n",
              "          const dataTable =\n",
              "            await google.colab.kernel.invokeFunction('convertToInteractive',\n",
              "                                                     [key], {});\n",
              "          if (!dataTable) return;\n",
              "\n",
              "          const docLinkHtml = 'Like what you see? Visit the ' +\n",
              "            '<a target=\"_blank\" href=https://colab.research.google.com/notebooks/data_table.ipynb>data table notebook</a>'\n",
              "            + ' to learn more about interactive tables.';\n",
              "          element.innerHTML = '';\n",
              "          dataTable['output_type'] = 'display_data';\n",
              "          await google.colab.output.renderOutput(dataTable, element);\n",
              "          const docLink = document.createElement('div');\n",
              "          docLink.innerHTML = docLinkHtml;\n",
              "          element.appendChild(docLink);\n",
              "        }\n",
              "      </script>\n",
              "    </div>\n",
              "  </div>\n",
              "  "
            ]
          },
          "metadata": {},
          "execution_count": 9
        }
      ]
    },
    {
      "cell_type": "code",
      "source": [
        "numerics = ['int16', 'int32', 'int64', 'float16', 'float32', 'float64']\n",
        "\n",
        "numeric_df = df.select_dtypes(include=numerics)\n",
        "len(numeric_df.columns)"
      ],
      "metadata": {
        "colab": {
          "base_uri": "https://localhost:8080/"
        },
        "id": "A-Q32s4l3xMl",
        "outputId": "620062b8-ff3e-45f6-9299-2bede4e7ab3f"
      },
      "execution_count": 10,
      "outputs": [
        {
          "output_type": "execute_result",
          "data": {
            "text/plain": [
              "14"
            ]
          },
          "metadata": {},
          "execution_count": 10
        }
      ]
    },
    {
      "cell_type": "markdown",
      "source": [
        "Percentage of missing values per column"
      ],
      "metadata": {
        "id": "llTmo5Ko5_1o"
      }
    },
    {
      "cell_type": "code",
      "source": [
        "missing_percentage = df.isna().sum().sort_values(ascending=False) / len(df)\n",
        "missing_percentage"
      ],
      "metadata": {
        "colab": {
          "base_uri": "https://localhost:8080/"
        },
        "id": "SSPN-efy3w8E",
        "outputId": "824543c7-b445-479f-b21d-2fb0279765c0"
      },
      "execution_count": 11,
      "outputs": [
        {
          "output_type": "execute_result",
          "data": {
            "text/plain": [
              "Number                   6.129003e-01\n",
              "Precipitation(in)        1.931079e-01\n",
              "Wind_Chill(F)            1.650568e-01\n",
              "Wind_Speed(mph)          5.550967e-02\n",
              "Wind_Direction           2.592834e-02\n",
              "Humidity(%)              2.568830e-02\n",
              "Weather_Condition        2.482514e-02\n",
              "Visibility(mi)           2.479350e-02\n",
              "Temperature(F)           2.434646e-02\n",
              "Pressure(in)             2.080593e-02\n",
              "Weather_Timestamp        1.783125e-02\n",
              "Airport_Code             3.356011e-03\n",
              "Timezone                 1.285961e-03\n",
              "Nautical_Twilight        1.007612e-03\n",
              "Civil_Twilight           1.007612e-03\n",
              "Sunrise_Sunset           1.007612e-03\n",
              "Astronomical_Twilight    1.007612e-03\n",
              "Zipcode                  4.635647e-04\n",
              "City                     4.814887e-05\n",
              "Street                   7.029032e-07\n",
              "Country                  0.000000e+00\n",
              "Junction                 0.000000e+00\n",
              "Start_Time               0.000000e+00\n",
              "End_Time                 0.000000e+00\n",
              "Start_Lat                0.000000e+00\n",
              "Turning_Loop             0.000000e+00\n",
              "Traffic_Signal           0.000000e+00\n",
              "Traffic_Calming          0.000000e+00\n",
              "Stop                     0.000000e+00\n",
              "Station                  0.000000e+00\n",
              "Roundabout               0.000000e+00\n",
              "Railway                  0.000000e+00\n",
              "No_Exit                  0.000000e+00\n",
              "Crossing                 0.000000e+00\n",
              "Give_Way                 0.000000e+00\n",
              "Bump                     0.000000e+00\n",
              "Amenity                  0.000000e+00\n",
              "Start_Lng                0.000000e+00\n",
              "End_Lat                  0.000000e+00\n",
              "End_Lng                  0.000000e+00\n",
              "Distance(mi)             0.000000e+00\n",
              "Description              0.000000e+00\n",
              "Severity                 0.000000e+00\n",
              "Side                     0.000000e+00\n",
              "County                   0.000000e+00\n",
              "State                    0.000000e+00\n",
              "ID                       0.000000e+00\n",
              "dtype: float64"
            ]
          },
          "metadata": {},
          "execution_count": 11
        }
      ]
    },
    {
      "cell_type": "code",
      "source": [
        "type(missing_percentage)"
      ],
      "metadata": {
        "colab": {
          "base_uri": "https://localhost:8080/"
        },
        "id": "H8eWs6jp6ipc",
        "outputId": "bf55fecd-99ac-4bf6-f964-0fbc7359729e"
      },
      "execution_count": 12,
      "outputs": [
        {
          "output_type": "execute_result",
          "data": {
            "text/plain": [
              "pandas.core.series.Series"
            ]
          },
          "metadata": {},
          "execution_count": 12
        }
      ]
    },
    {
      "cell_type": "code",
      "source": [
        "missing_percentage[missing_percentage != 0].plot(kind='barh')"
      ],
      "metadata": {
        "colab": {
          "base_uri": "https://localhost:8080/",
          "height": 282
        },
        "id": "z-zpasVQ3wyb",
        "outputId": "af52d29d-cb17-4d36-c562-01960c75d5b4"
      },
      "execution_count": 13,
      "outputs": [
        {
          "output_type": "execute_result",
          "data": {
            "text/plain": [
              "<matplotlib.axes._subplots.AxesSubplot at 0x7fd0c08de950>"
            ]
          },
          "metadata": {},
          "execution_count": 13
        },
        {
          "output_type": "display_data",
          "data": {
            "text/plain": [
              "<Figure size 432x288 with 1 Axes>"
            ],
            "image/png": "[encoded data removed]"
          },
          "metadata": {
            "needs_background": "light"
          }
        }
      ]
    },
    {
      "cell_type": "markdown",
      "source": [
        "Remove columns that you don't want use."
      ],
      "metadata": {
        "id": "LD550UuM7Wv8"
      }
    },
    {
      "cell_type": "markdown",
      "metadata": {
        "id": "WKit4cW8I0Y9"
      },
      "source": [
        "## Exploratory Analysis and Visualization\n",
        "\n",
        "Columnscwe'll analyze:\n",
        "\n",
        "1. City\n",
        "2. Start Time\n",
        "3. Start Lat, Start Lng\n",
        "4. Tempeture\n",
        "5. Weather Condition"
      ]
    },
    {
      "cell_type": "code",
      "execution_count": 14,
      "metadata": {
        "id": "hXGbOahVIioe",
        "colab": {
          "base_uri": "https://localhost:8080/"
        },
        "outputId": "68bf575f-3e04-4df3-b750-090ab2312177"
      },
      "outputs": [
        {
          "output_type": "execute_result",
          "data": {
            "text/plain": [
              "Index(['ID', 'Severity', 'Start_Time', 'End_Time', 'Start_Lat', 'Start_Lng',\n",
              "       'End_Lat', 'End_Lng', 'Distance(mi)', 'Description', 'Number', 'Street',\n",
              "       'Side', 'City', 'County', 'State', 'Zipcode', 'Country', 'Timezone',\n",
              "       'Airport_Code', 'Weather_Timestamp', 'Temperature(F)', 'Wind_Chill(F)',\n",
              "       'Humidity(%)', 'Pressure(in)', 'Visibility(mi)', 'Wind_Direction',\n",
              "       'Wind_Speed(mph)', 'Precipitation(in)', 'Weather_Condition', 'Amenity',\n",
              "       'Bump', 'Crossing', 'Give_Way', 'Junction', 'No_Exit', 'Railway',\n",
              "       'Roundabout', 'Station', 'Stop', 'Traffic_Calming', 'Traffic_Signal',\n",
              "       'Turning_Loop', 'Sunrise_Sunset', 'Civil_Twilight', 'Nautical_Twilight',\n",
              "       'Astronomical_Twilight'],\n",
              "      dtype='object')"
            ]
          },
          "metadata": {},
          "execution_count": 14
        }
      ],
      "source": [
        "df.columns"
      ]
    },
    {
      "cell_type": "markdown",
      "source": [
        "### City"
      ],
      "metadata": {
        "id": "p8VkDxhjTXyk"
      }
    },
    {
      "cell_type": "code",
      "execution_count": 15,
      "metadata": {
        "id": "cxjRxpxoI5a7",
        "colab": {
          "base_uri": "https://localhost:8080/"
        },
        "outputId": "2af1805f-3635-4a04-d2ab-b7bd985fe8ea"
      },
      "outputs": [
        {
          "output_type": "execute_result",
          "data": {
            "text/plain": [
              "0               Dublin\n",
              "1               Dayton\n",
              "2           Cincinnati\n",
              "3                Akron\n",
              "4           Cincinnati\n",
              "              ...     \n",
              "2845337      Riverside\n",
              "2845338      San Diego\n",
              "2845339         Orange\n",
              "2845340    Culver City\n",
              "2845341       Highland\n",
              "Name: City, Length: 2845342, dtype: object"
            ]
          },
          "metadata": {},
          "execution_count": 15
        }
      ],
      "source": [
        "df.City"
      ]
    },
    {
      "cell_type": "code",
      "execution_count": 16,
      "metadata": {
        "id": "hbclt1VWI5dn",
        "colab": {
          "base_uri": "https://localhost:8080/"
        },
        "outputId": "834e4c17-2894-407d-e529-573317c3a9d7"
      },
      "outputs": [
        {
          "output_type": "execute_result",
          "data": {
            "text/plain": [
              "11682"
            ]
          },
          "metadata": {},
          "execution_count": 16
        }
      ],
      "source": [
        "cities = df.City.unique()\n",
        "len(cities)"
      ]
    },
    {
      "cell_type": "code",
      "execution_count": 17,
      "metadata": {
        "id": "9PLguOhAI5hX",
        "colab": {
          "base_uri": "https://localhost:8080/"
        },
        "outputId": "22fb7845-94e4-42d3-d68a-0cebce29477c"
      },
      "outputs": [
        {
          "output_type": "execute_result",
          "data": {
            "text/plain": [
              "Miami                           106966\n",
              "Los Angeles                      68956\n",
              "Orlando                          54691\n",
              "Dallas                           41979\n",
              "Houston                          39448\n",
              "                                 ...  \n",
              "Ridgedale                            1\n",
              "Sekiu                                1\n",
              "Wooldridge                           1\n",
              "Bullock                              1\n",
              "American Fork-Pleasant Grove         1\n",
              "Name: City, Length: 11681, dtype: int64"
            ]
          },
          "metadata": {},
          "execution_count": 17
        }
      ],
      "source": [
        "cities_by_accident = df.City.value_counts()\n",
        "cities_by_accident"
      ]
    },
    {
      "cell_type": "code",
      "execution_count": 18,
      "metadata": {
        "id": "v5eEQHYOI5jb",
        "colab": {
          "base_uri": "https://localhost:8080/"
        },
        "outputId": "decd0e69-0ec7-45c9-9aec-abb28f40d612"
      },
      "outputs": [
        {
          "output_type": "execute_result",
          "data": {
            "text/plain": [
              "Miami           106966\n",
              "Los Angeles      68956\n",
              "Orlando          54691\n",
              "Dallas           41979\n",
              "Houston          39448\n",
              "Charlotte        33152\n",
              "Sacramento       32559\n",
              "San Diego        26627\n",
              "Raleigh          22840\n",
              "Minneapolis      22768\n",
              "Portland         20944\n",
              "Nashville        20267\n",
              "Austin           18301\n",
              "Baton Rouge      18182\n",
              "Phoenix          17143\n",
              "Saint Paul       16869\n",
              "New Orleans      16251\n",
              "Atlanta          15622\n",
              "Jacksonville     14967\n",
              "Richmond         14349\n",
              "Name: City, dtype: int64"
            ]
          },
          "metadata": {},
          "execution_count": 18
        }
      ],
      "source": [
        "cities_by_accident[:20]"
      ]
    },
    {
      "cell_type": "code",
      "source": [
        "cities_by_accident[:20].plot(kind='barh')"
      ],
      "metadata": {
        "colab": {
          "base_uri": "https://localhost:8080/",
          "height": 282
        },
        "id": "SF3hiQHj6JaW",
        "outputId": "8563ea8d-58bb-452f-fd52-970be1734042"
      },
      "execution_count": 19,
      "outputs": [
        {
          "output_type": "execute_result",
          "data": {
            "text/plain": [
              "<matplotlib.axes._subplots.AxesSubplot at 0x7fd103530f90>"
            ]
          },
          "metadata": {},
          "execution_count": 19
        },
        {
          "output_type": "display_data",
          "data": {
            "text/plain": [
              "<Figure size 432x288 with 1 Axes>"
            ],
            "image/png": "[encoded data removed]"
          },
          "metadata": {
            "needs_background": "light"
          }
        }
      ]
    },
    {
      "cell_type": "code",
      "source": [
        "import seaborn as sns\n",
        "sns.set_style('darkgrid')"
      ],
      "metadata": {
        "id": "2yMMMku37INv"
      },
      "execution_count": 20,
      "outputs": []
    },
    {
      "cell_type": "code",
      "source": [
        "sns.histplot(cities_by_accident, log_scale=True)"
      ],
      "metadata": {
        "colab": {
          "base_uri": "https://localhost:8080/",
          "height": 300
        },
        "id": "VocqR1-c7dsy",
        "outputId": "ee9f3fd8-f14d-4f99-ccc0-813e5af3fdce"
      },
      "execution_count": 21,
      "outputs": [
        {
          "output_type": "execute_result",
          "data": {
            "text/plain": [
              "<matplotlib.axes._subplots.AxesSubplot at 0x7fd0aaa0b510>"
            ]
          },
          "metadata": {},
          "execution_count": 21
        },
        {
          "output_type": "display_data",
          "data": {
            "text/plain": [
              "<Figure size 432x288 with 1 Axes>"
            ],
            "image/png": "[encoded data removed]"
          },
          "metadata": {}
        }
      ]
    },
    {
      "cell_type": "code",
      "source": [
        "cities_by_accident[cities_by_accident == 1]"
      ],
      "metadata": {
        "id": "94Fv0uxw3bwa",
        "colab": {
          "base_uri": "https://localhost:8080/"
        },
        "outputId": "6e5dd8ac-b7d3-4bea-8c94-9a839e2ac2c0"
      },
      "execution_count": 22,
      "outputs": [
        {
          "output_type": "execute_result",
          "data": {
            "text/plain": [
              "Carney                          1\n",
              "Waverly Hall                    1\n",
              "Center Sandwich                 1\n",
              "Glen Flora                      1\n",
              "Sulphur Springs                 1\n",
              "                               ..\n",
              "Ridgedale                       1\n",
              "Sekiu                           1\n",
              "Wooldridge                      1\n",
              "Bullock                         1\n",
              "American Fork-Pleasant Grove    1\n",
              "Name: City, Length: 1110, dtype: int64"
            ]
          },
          "metadata": {},
          "execution_count": 22
        }
      ]
    },
    {
      "cell_type": "markdown",
      "source": [
        "### Start Time"
      ],
      "metadata": {
        "id": "qmsSQUiTTS22"
      }
    },
    {
      "cell_type": "code",
      "source": [
        "df.Start_Time"
      ],
      "metadata": {
        "id": "yZyUpfyX3b2-",
        "colab": {
          "base_uri": "https://localhost:8080/"
        },
        "outputId": "f81f5176-8580-4141-b904-db81a3475da3"
      },
      "execution_count": 23,
      "outputs": [
        {
          "output_type": "execute_result",
          "data": {
            "text/plain": [
              "0          2016-02-08 00:37:08\n",
              "1          2016-02-08 05:56:20\n",
              "2          2016-02-08 06:15:39\n",
              "3          2016-02-08 06:51:45\n",
              "4          2016-02-08 07:53:43\n",
              "                  ...         \n",
              "2845337    2019-08-23 18:03:25\n",
              "2845338    2019-08-23 19:11:30\n",
              "2845339    2019-08-23 19:00:21\n",
              "2845340    2019-08-23 19:00:21\n",
              "2845341    2019-08-23 18:52:06\n",
              "Name: Start_Time, Length: 2845342, dtype: object"
            ]
          },
          "metadata": {},
          "execution_count": 23
        }
      ]
    },
    {
      "cell_type": "code",
      "source": [
        "df.Start_Time[0]"
      ],
      "metadata": {
        "colab": {
          "base_uri": "https://localhost:8080/",
          "height": 35
        },
        "id": "pkl0rUoCTLEV",
        "outputId": "23210e9d-8764-4a19-ef35-b33748d8025e"
      },
      "execution_count": 24,
      "outputs": [
        {
          "output_type": "execute_result",
          "data": {
            "text/plain": [
              "'2016-02-08 00:37:08'"
            ],
            "application/vnd.google.colaboratory.intrinsic+json": {
              "type": "string"
            }
          },
          "metadata": {},
          "execution_count": 24
        }
      ]
    },
    {
      "cell_type": "code",
      "source": [
        "df.Start_Time = pd.to_datetime(df.Start_Time)"
      ],
      "metadata": {
        "id": "Yk9W1e3yTK-D"
      },
      "execution_count": 25,
      "outputs": []
    },
    {
      "cell_type": "markdown",
      "source": [
        "- Fiqure out how to show percentages"
      ],
      "metadata": {
        "id": "8IsXwzQsVvgD"
      }
    },
    {
      "cell_type": "code",
      "source": [
        "sns.distplot(df.Start_Time.dt.hour, bins=24, kde=False, norm_hist=True)"
      ],
      "metadata": {
        "colab": {
          "base_uri": "https://localhost:8080/",
          "height": 352
        },
        "id": "0LJVqhWjTl4j",
        "outputId": "e13f3c5c-3596-4d8e-edc5-d883bc28ca38"
      },
      "execution_count": 26,
      "outputs": [
        {
          "output_type": "stream",
          "name": "stderr",
          "text": [
            "/usr/local/lib/python3.7/dist-packages/seaborn/distributions.py:2619: FutureWarning: `distplot` is a deprecated function and will be removed in a future version. Please adapt your code to use either `displot` (a figure-level function with similar flexibility) or `histplot` (an axes-level function for histograms).\n",
            "  warnings.warn(msg, FutureWarning)\n"
          ]
        },
        {
          "output_type": "execute_result",
          "data": {
            "text/plain": [
              "<matplotlib.axes._subplots.AxesSubplot at 0x7fd0aa67c250>"
            ]
          },
          "metadata": {},
          "execution_count": 26
        },
        {
          "output_type": "display_data",
          "data": {
            "text/plain": [
              "<Figure size 432x288 with 1 Axes>"
            ],
            "image/png": "[encoded data removed]"
          },
          "metadata": {}
        }
      ]
    },
    {
      "cell_type": "markdown",
      "source": [
        "- A high percentage of accidents occur between 14 pm to 19 pm"
      ],
      "metadata": {
        "id": "s8TUb1x3X0CV"
      }
    },
    {
      "cell_type": "code",
      "source": [
        "sns.distplot(df.Start_Time.dt.dayofweek, bins=7, kde=False, norm_hist=True)"
      ],
      "metadata": {
        "colab": {
          "base_uri": "https://localhost:8080/",
          "height": 352
        },
        "id": "05Dph2ejTl2F",
        "outputId": "473b8544-c7d1-40a0-f41b-adf2813d0a8e"
      },
      "execution_count": 27,
      "outputs": [
        {
          "output_type": "stream",
          "name": "stderr",
          "text": [
            "/usr/local/lib/python3.7/dist-packages/seaborn/distributions.py:2619: FutureWarning: `distplot` is a deprecated function and will be removed in a future version. Please adapt your code to use either `displot` (a figure-level function with similar flexibility) or `histplot` (an axes-level function for histograms).\n",
            "  warnings.warn(msg, FutureWarning)\n"
          ]
        },
        {
          "output_type": "execute_result",
          "data": {
            "text/plain": [
              "<matplotlib.axes._subplots.AxesSubplot at 0x7fd0aa7216d0>"
            ]
          },
          "metadata": {},
          "execution_count": 27
        },
        {
          "output_type": "display_data",
          "data": {
            "text/plain": [
              "<Figure size 432x288 with 1 Axes>"
            ],
            "image/png": "[encoded data removed]"
          },
          "metadata": {}
        }
      ]
    },
    {
      "cell_type": "markdown",
      "source": [
        "Is the distibution of accidents by hour the same on weekends as on weekdays. "
      ],
      "metadata": {
        "id": "Dsl4qZpRZLQs"
      }
    },
    {
      "cell_type": "code",
      "source": [
        "sundays_start_time = df.Start_Time[df.Start_Time.dt.dayofweek == 6]\n",
        "sns.distplot(sundays_start_time.dt.hour, bins=24, kde=False, norm_hist=True)"
      ],
      "metadata": {
        "colab": {
          "base_uri": "https://localhost:8080/",
          "height": 352
        },
        "id": "jQ1neLrRTly-",
        "outputId": "6f78f64b-159e-40c3-a812-d3c11babaebd"
      },
      "execution_count": 28,
      "outputs": [
        {
          "output_type": "stream",
          "name": "stderr",
          "text": [
            "/usr/local/lib/python3.7/dist-packages/seaborn/distributions.py:2619: FutureWarning: `distplot` is a deprecated function and will be removed in a future version. Please adapt your code to use either `displot` (a figure-level function with similar flexibility) or `histplot` (an axes-level function for histograms).\n",
            "  warnings.warn(msg, FutureWarning)\n"
          ]
        },
        {
          "output_type": "execute_result",
          "data": {
            "text/plain": [
              "<matplotlib.axes._subplots.AxesSubplot at 0x7fd0aa799550>"
            ]
          },
          "metadata": {},
          "execution_count": 28
        },
        {
          "output_type": "display_data",
          "data": {
            "text/plain": [
              "<Figure size 432x288 with 1 Axes>"
            ],
            "image/png": "[encoded data removed]"
          },
          "metadata": {}
        }
      ]
    },
    {
      "cell_type": "code",
      "source": [
        "monday_start_time = df.Start_Time[df.Start_Time.dt.dayofweek == 0]\n",
        "sns.distplot(monday_start_time.dt.hour, bins=24, kde=False, norm_hist=True)"
      ],
      "metadata": {
        "colab": {
          "base_uri": "https://localhost:8080/",
          "height": 352
        },
        "id": "AtXw1I8ATltr",
        "outputId": "d167cf88-25c0-4097-e957-28aacf43c803"
      },
      "execution_count": 29,
      "outputs": [
        {
          "output_type": "stream",
          "name": "stderr",
          "text": [
            "/usr/local/lib/python3.7/dist-packages/seaborn/distributions.py:2619: FutureWarning: `distplot` is a deprecated function and will be removed in a future version. Please adapt your code to use either `displot` (a figure-level function with similar flexibility) or `histplot` (an axes-level function for histograms).\n",
            "  warnings.warn(msg, FutureWarning)\n"
          ]
        },
        {
          "output_type": "execute_result",
          "data": {
            "text/plain": [
              "<matplotlib.axes._subplots.AxesSubplot at 0x7fd0aa569a50>"
            ]
          },
          "metadata": {},
          "execution_count": 29
        },
        {
          "output_type": "display_data",
          "data": {
            "text/plain": [
              "<Figure size 432x288 with 1 Axes>"
            ],
            "image/png": "[encoded data removed]"
          },
          "metadata": {}
        }
      ]
    },
    {
      "cell_type": "markdown",
      "source": [
        "On Sundays, the peak occurs between 10 am and 17 pm, unlike weekday."
      ],
      "metadata": {
        "id": "hTHuyx-OaGMl"
      }
    },
    {
      "cell_type": "code",
      "source": [
        "df_2019 = df[df.Start_Time.dt.year == 2016]\n",
        "sns.distplot(df_2019.Start_Time.dt.month, bins=12, kde=False, norm_hist=True)"
      ],
      "metadata": {
        "colab": {
          "base_uri": "https://localhost:8080/",
          "height": 352
        },
        "id": "n8vRxGJPanxH",
        "outputId": "b4d3276b-376b-4147-baa1-a8a6f3d1bbd3"
      },
      "execution_count": 30,
      "outputs": [
        {
          "output_type": "stream",
          "name": "stderr",
          "text": [
            "/usr/local/lib/python3.7/dist-packages/seaborn/distributions.py:2619: FutureWarning: `distplot` is a deprecated function and will be removed in a future version. Please adapt your code to use either `displot` (a figure-level function with similar flexibility) or `histplot` (an axes-level function for histograms).\n",
            "  warnings.warn(msg, FutureWarning)\n"
          ]
        },
        {
          "output_type": "execute_result",
          "data": {
            "text/plain": [
              "<matplotlib.axes._subplots.AxesSubplot at 0x7fd0aa569e90>"
            ]
          },
          "metadata": {},
          "execution_count": 30
        },
        {
          "output_type": "display_data",
          "data": {
            "text/plain": [
              "<Figure size 432x288 with 1 Axes>"
            ],
            "image/png": "[encoded data removed]"
          },
          "metadata": {}
        }
      ]
    },
    {
      "cell_type": "markdown",
      "source": [
        "Can you explain the month-wise trend of accidents? \n",
        "\n",
        "- Much data is missing for 2016. Maybe even 2017."
      ],
      "metadata": {
        "id": "yw7DQwPwbknt"
      }
    },
    {
      "cell_type": "markdown",
      "source": [
        "## Start Latitude & Longitude"
      ],
      "metadata": {
        "id": "bG4JQHmQ992s"
      }
    },
    {
      "cell_type": "code",
      "source": [
        "df.Start_Lat"
      ],
      "metadata": {
        "colab": {
          "base_uri": "https://localhost:8080/"
        },
        "id": "WUuqFiA8anok",
        "outputId": "bbce58a3-e2ce-4974-8ba3-5af8fd829dbd"
      },
      "execution_count": 31,
      "outputs": [
        {
          "output_type": "execute_result",
          "data": {
            "text/plain": [
              "0          40.108910\n",
              "1          39.865420\n",
              "2          39.102660\n",
              "3          41.062130\n",
              "4          39.172393\n",
              "             ...    \n",
              "2845337    34.002480\n",
              "2845338    32.766960\n",
              "2845339    33.775450\n",
              "2845340    33.992460\n",
              "2845341    34.133930\n",
              "Name: Start_Lat, Length: 2845342, dtype: float64"
            ]
          },
          "metadata": {},
          "execution_count": 31
        }
      ]
    },
    {
      "cell_type": "code",
      "source": [
        "df.Start_Lng"
      ],
      "metadata": {
        "colab": {
          "base_uri": "https://localhost:8080/"
        },
        "id": "DL3to6LJ97_g",
        "outputId": "01c7687c-d216-45be-acbe-7291e38c00e5"
      },
      "execution_count": 32,
      "outputs": [
        {
          "output_type": "execute_result",
          "data": {
            "text/plain": [
              "0          -83.092860\n",
              "1          -84.062800\n",
              "2          -84.524680\n",
              "3          -81.537840\n",
              "4          -84.492792\n",
              "              ...    \n",
              "2845337   -117.379360\n",
              "2845338   -117.148060\n",
              "2845339   -117.847790\n",
              "2845340   -118.403020\n",
              "2845341   -117.230920\n",
              "Name: Start_Lng, Length: 2845342, dtype: float64"
            ]
          },
          "metadata": {},
          "execution_count": 32
        }
      ]
    },
    {
      "cell_type": "code",
      "source": [
        "sample_df = df.sample(int(0.1 * len(df)))"
      ],
      "metadata": {
        "id": "_i0h8UNO979M"
      },
      "execution_count": 33,
      "outputs": []
    },
    {
      "cell_type": "code",
      "source": [
        "sns.scatterplot(x=sample_df.Start_Lng, y=sample_df.Start_Lat, size=0.001)"
      ],
      "metadata": {
        "colab": {
          "base_uri": "https://localhost:8080/",
          "height": 299
        },
        "id": "sxnU1qbl977A",
        "outputId": "343036b4-5b89-413b-f26d-26d4e68632f4"
      },
      "execution_count": 34,
      "outputs": [
        {
          "output_type": "execute_result",
          "data": {
            "text/plain": [
              "<matplotlib.axes._subplots.AxesSubplot at 0x7fd0aa43e350>"
            ]
          },
          "metadata": {},
          "execution_count": 34
        },
        {
          "output_type": "display_data",
          "data": {
            "text/plain": [
              "<Figure size 432x288 with 1 Axes>"
            ],
            "image/png": "[encoded data removed]"
          },
          "metadata": {}
        }
      ]
    },
    {
      "cell_type": "code",
      "source": [
        "import folium"
      ],
      "metadata": {
        "id": "ner-5gP497zd"
      },
      "execution_count": 35,
      "outputs": []
    },
    {
      "cell_type": "code",
      "source": [
        "lat, lon = df.Start_Lat[0], df.Start_Lng[0]\n",
        "lat, lon"
      ],
      "metadata": {
        "colab": {
          "base_uri": "https://localhost:8080/"
        },
        "id": "UnUiGMGTAcaz",
        "outputId": "af9c94f2-f80f-46c7-99ac-33dbb07b2e5c"
      },
      "execution_count": 36,
      "outputs": [
        {
          "output_type": "execute_result",
          "data": {
            "text/plain": [
              "(40.10891, -83.09286)"
            ]
          },
          "metadata": {},
          "execution_count": 36
        }
      ]
    },
    {
      "cell_type": "code",
      "source": [
        "for x in df[['Start_Lat', 'Start_Lng']].sample(100).iteritems():\n",
        "  print(x[1])"
      ],
      "metadata": {
        "colab": {
          "base_uri": "https://localhost:8080/"
        },
        "id": "_XxCuZTgBLxl",
        "outputId": "e29991cb-822d-49f2-ceed-11c784bdaf57"
      },
      "execution_count": 37,
      "outputs": [
        {
          "output_type": "stream",
          "name": "stdout",
          "text": [
            "1357583    34.397670\n",
            "2826193    39.910484\n",
            "741217     38.849664\n",
            "2504224    25.872420\n",
            "857426     34.066833\n",
            "             ...    \n",
            "392036     38.916760\n",
            "2035980    38.779592\n",
            "997943     35.207438\n",
            "2531649    45.306740\n",
            "754270     34.040317\n",
            "Name: Start_Lat, Length: 100, dtype: float64\n",
            "1357583   -119.078327\n",
            "2826193    -86.269840\n",
            "741217     -77.414232\n",
            "2504224    -80.208880\n",
            "857426    -117.512480\n",
            "              ...    \n",
            "392036     -76.919521\n",
            "2035980   -121.270417\n",
            "997943     -86.081406\n",
            "2531649    -93.793510\n",
            "754270    -118.440740\n",
            "Name: Start_Lng, Length: 100, dtype: float64\n"
          ]
        }
      ]
    },
    {
      "cell_type": "code",
      "source": [
        "zip(list(df.Start_Lat), list(df.Start_Lng))"
      ],
      "metadata": {
        "colab": {
          "base_uri": "https://localhost:8080/"
        },
        "id": "sM2SFY5xGihQ",
        "outputId": "9dc77eaa-5de4-4fcd-8f09-dad728d4dbd5"
      },
      "execution_count": 38,
      "outputs": [
        {
          "output_type": "execute_result",
          "data": {
            "text/plain": [
              "<zip at 0x7fd0a85afa00>"
            ]
          },
          "metadata": {},
          "execution_count": 38
        }
      ]
    },
    {
      "cell_type": "code",
      "source": [
        "from folium.plugins import HeatMap"
      ],
      "metadata": {
        "id": "OB0SZ_N4HAa1"
      },
      "execution_count": 39,
      "outputs": []
    },
    {
      "cell_type": "code",
      "source": [
        ""
      ],
      "metadata": {
        "id": "5yLd2foODMfn"
      },
      "execution_count": 39,
      "outputs": []
    },
    {
      "cell_type": "code",
      "source": [
        "sample_df = df.sample(int(0.001 * len(df)))\n",
        "lat_lon_pairs = zip(list(sample_df.Start_Lat), list(sample_df.Start_Lng))"
      ],
      "metadata": {
        "id": "bkbsORlGHPG6"
      },
      "execution_count": 40,
      "outputs": []
    },
    {
      "cell_type": "code",
      "source": [
        "map = folium.Map()\n",
        "HeatMap(lat_lon_pairs).add_to(map)\n",
        "map"
      ],
      "metadata": {
        "colab": {
          "base_uri": "https://localhost:8080/",
          "height": 726
        },
        "id": "tER3Qq-fanmG",
        "outputId": "7e9ca288-f90e-459e-fea3-56f447f48a58"
      },
      "execution_count": 41,
      "outputs": [
        {
          "output_type": "execute_result",
          "data": {
            "text/plain": [
              "<folium.folium.Map at 0x7fd09d45ea90>"
            ],
            "text/html": [
              "<div style=\"width:100%;\"><div style=\"position:relative;width:100%;height:0;padding-bottom:60%;\"><span style=\"color:#565656\">Make this Notebook Trusted to load map: File -> Trust Notebook</span><iframe src=\"about:blank\" style=\"position:absolute;width:100%;height:100%;left:0;top:0;border:none !important;\" data-html=%3C%21DOCTYPE%20html%3E%0A%3Chead%3E%20%20%20%20%0A%20%20%20%20%3Cmeta%20http-equiv%3D%22content-type%22%20content%3D%22text/html%3B%20charset%3DUTF-8%22%20/%3E%0A%20%20%20%20%3Cscript%3EL_PREFER_CANVAS%3Dfalse%3B%20L_NO_TOUCH%3Dfalse%3B%20L_DISABLE_3D%3Dfalse%3B%3C/script%3E%0A%20%20%20%20%3Cscript%20src%3D%22https%3A//cdn.jsdelivr.net/npm/leaflet%401.4.0/dist/leaflet.js%22%3E%3C/script%3E%0A%20%20%20%20%3Cscript%20src%3D%22https%3A//code.jquery.com/jquery-1.12.4.min.js%22%3E%3C/script%3E%0A%20%20%20%20%3Cscript%20src%3D%22https%3A//maxcdn.bootstrapcdn.com/bootstrap/3.2.0/js/bootstrap.min.js%22%3E%3C/script%3E%0A%20%20%20%20%3Cscript%20src%3D%22https%3A//cdnjs.cloudflare.com/ajax/libs/Leaflet.awesome-markers/2.0.2/leaflet.awesome-markers.js%22%3E%3C/script%3E%0A%20%20%20%20%3Clink%20rel%3D%22stylesheet%22%20href%3D%22https%3A//cdn.jsdelivr.net/npm/leaflet%401.4.0/dist/leaflet.css%22/%3E%0A%20%20%20%20%3Clink%20rel%3D%22stylesheet%22%20href%3D%22https%3A//maxcdn.bootstrapcdn.com/bootstrap/3.2.0/css/bootstrap.min.css%22/%3E%0A%20%20%20%20%3Clink%20rel%3D%22stylesheet%22%20href%3D%22https%3A//maxcdn.bootstrapcdn.com/bootstrap/3.2.0/css/bootstrap-theme.min.css%22/%3E%0A%20%20%20%20%3Clink%20rel%3D%22stylesheet%22%20href%3D%22https%3A//maxcdn.bootstrapcdn.com/font-awesome/4.6.3/css/font-awesome.min.css%22/%3E%0A%20%20%20%20%3Clink%20rel%3D%22stylesheet%22%20href%3D%22https%3A//cdnjs.cloudflare.com/ajax/libs/Leaflet.awesome-markers/2.0.2/leaflet.awesome-markers.css%22/%3E%0A%20%20%20%20%3Clink%20rel%3D%22stylesheet%22%20href%3D%22https%3A//rawcdn.githack.com/python-visualization/folium/master/folium/templates/leaflet.awesome.rotate.css%22/%3E%0A%20%20%20%20%3Cstyle%3Ehtml%2C%20body%20%7Bwidth%3A%20100%25%3Bheight%3A%20100%25%3Bmargin%3A%200%3Bpadding%3A%200%3B%7D%3C/style%3E%0A%20%20%20%20%3Cstyle%3E%23map%20%7Bposition%3Aabsolute%3Btop%3A0%3Bbottom%3A0%3Bright%3A0%3Bleft%3A0%3B%7D%3C/style%3E%0A%20%20%20%20%0A%20%20%20%20%3Cmeta%20name%3D%22viewport%22%20content%3D%22width%3Ddevice-width%2C%0A%20%20%20%20%20%20%20%20initial-scale%3D1.0%2C%20maximum-scale%3D1.0%2C%20user-scalable%3Dno%22%20/%3E%0A%20%20%20%20%3Cstyle%3E%23map_e47b2002b7d743a48ffb3f326f742706%20%7B%0A%20%20%20%20%20%20%20%20position%3A%20relative%3B%0A%20%20%20%20%20%20%20%20width%3A%20100.0%25%3B%0A%20%20%20%20%20%20%20%20height%3A%20100.0%25%3B%0A%20%20%20%20%20%20%20%20left%3A%200.0%25%3B%0A%20%20%20%20%20%20%20%20top%3A%200.0%25%3B%0A%20%20%20%20%20%20%20%20%7D%0A%20%20%20%20%3C/style%3E%0A%20%20%20%20%3Cscript%20src%3D%22https%3A//leaflet.github.io/Leaflet.heat/dist/leaflet-heat.js%22%3E%3C/script%3E%0A%3C/head%3E%0A%3Cbody%3E%20%20%20%20%0A%20%20%20%20%0A%20%20%20%20%3Cdiv%20class%3D%22folium-map%22%20id%3D%22map_e47b2002b7d743a48ffb3f326f742706%22%20%3E%3C/div%3E%0A%3C/body%3E%0A%3Cscript%3E%20%20%20%20%0A%20%20%20%20%0A%20%20%20%20%0A%20%20%20%20%20%20%20%20var%20bounds%20%3D%20null%3B%0A%20%20%20%20%0A%0A%20%20%20%20var%20map_e47b2002b7d743a48ffb3f326f742706%20%3D%20L.map%28%0A%20%20%20%20%20%20%20%20%27map_e47b2002b7d743a48ffb3f326f742706%27%2C%20%7B%0A%20%20%20%20%20%20%20%20center%3A%20%5B0%2C%200%5D%2C%0A%20%20%20%20%20%20%20%20zoom%3A%201%2C%0A%20%20%20%20%20%20%20%20maxBounds%3A%20bounds%2C%0A%20%20%20%20%20%20%20%20layers%3A%20%5B%5D%2C%0A%20%20%20%20%20%20%20%20worldCopyJump%3A%20false%2C%0A%20%20%20%20%20%20%20%20crs%3A%20L.CRS.EPSG3857%2C%0A%20%20%20%20%20%20%20%20zoomControl%3A%20true%2C%0A%20%20%20%20%20%20%20%20%7D%29%3B%0A%0A%0A%20%20%20%20%0A%20%20%20%20var%20tile_layer_ffb2f5c1f2c14f0db03659f1e3cd960e%20%3D%20L.tileLayer%28%0A%20%20%20%20%20%20%20%20%27https%3A//%7Bs%7D.tile.openstreetmap.org/%7Bz%7D/%7Bx%7D/%7By%7D.png%27%2C%0A%20%20%20%20%20%20%20%20%7B%0A%20%20%20%20%20%20%20%20%22attribution%22%3A%20null%2C%0A%20%20%20%20%20%20%20%20%22detectRetina%22%3A%20false%2C%0A%20%20%20%20%20%20%20%20%22maxNativeZoom%22%3A%2018%2C%0A%20%20%20%20%20%20%20%20%22maxZoom%22%3A%2018%2C%0A%20%20%20%20%20%20%20%20%22minZoom%22%3A%200%2C%0A%20%20%20%20%20%20%20%20%22noWrap%22%3A%20false%2C%0A%20%20%20%20%20%20%20%20%22opacity%22%3A%201%2C%0A%20%20%20%20%20%20%20%20%22subdomains%22%3A%20%22abc%22%2C%0A%20%20%20%20%20%20%20%20%22tms%22%3A%20false%0A%7D%29.addTo%28map_e47b2002b7d743a48ffb3f326f742706%29%3B%0A%20%20%20%20%0A%20%20%20%20%20%20%20%20%20%20%20%20var%20heat_map_8ae0be4ee6e34a1cafab407ee8836634%20%3D%20L.heatLayer%28%0A%20%20%20%20%20%20%20%20%20%20%20%20%20%20%20%20%5B%5B33.148761%2C%20-79.818826%5D%2C%20%5B25.62778%2C%20-80.374422%5D%2C%20%5B42.996828%2C%20-123.71978%5D%2C%20%5B46.675823%2C%20-111.89399%5D%2C%20%5B32.917833%2C%20-117.143873%5D%2C%20%5B41.8079%2C%20-88.07599%5D%2C%20%5B29.87203%2C%20-95.40891%5D%2C%20%5B35.215805%2C%20-85.819712%5D%2C%20%5B34.064388%2C%20-117.278411%5D%2C%20%5B41.203388%2C%20-79.379747%5D%2C%20%5B40.059287%2C%20-122.154187%5D%2C%20%5B38.171299%2C%20-121.643017%5D%2C%20%5B26.286927%2C%20-80.124596%5D%2C%20%5B40.08534%2C%20-111.698228%5D%2C%20%5B39.466932%2C%20-75.650791%5D%2C%20%5B32.909959%2C%20-80.638999%5D%2C%20%5B38.878192%2C%20-76.84361899999998%5D%2C%20%5B35.177207%2C%20-80.721055%5D%2C%20%5B42.936372%2C%20-85.648859%5D%2C%20%5B39.04724%2C%20-76.62167%5D%2C%20%5B25.780784%2C%20-80.31604399999998%5D%2C%20%5B35.84119099999999%2C%20-78.67847900000002%5D%2C%20%5B37.879465%2C%20-122.515044%5D%2C%20%5B28.632201%2C%20-81.362913%5D%2C%20%5B34.90280300000001%2C%20-82.126733%5D%2C%20%5B38.00279000000001%2C%20-121.84537%5D%2C%20%5B34.826812%2C%20-82.428258%5D%2C%20%5B33.664757%2C%20-117.301227%5D%2C%20%5B47.512468%2C%20-122.270056%5D%2C%20%5B38.726337%2C%20-77.20197399999998%5D%2C%20%5B47.784859%2C%20-117.889244%5D%2C%20%5B34.024542%2C%20-118.239252%5D%2C%20%5B33.88901%2C%20-117.880695%5D%2C%20%5B32.222426%2C%20-110.84108700000002%5D%2C%20%5B41.094657%2C%20-124.151531%5D%2C%20%5B37.881049%2C%20-121.775892%5D%2C%20%5B29.771001%2C%20-95.563123%5D%2C%20%5B34.157238%2C%20-79.86778100000002%5D%2C%20%5B35.856402%2C%20-78.65049499999998%5D%2C%20%5B34.2247%2C%20-118.473084%5D%2C%20%5B38.01936%2C%20-121.93743%5D%2C%20%5B39.761291%2C%20-86.265517%5D%2C%20%5B33.881484%2C%20-84.472569%5D%2C%20%5B34.02673%2C%20-117.56745%5D%2C%20%5B37.375082%2C%20-77.40643299999998%5D%2C%20%5B34.114231%2C%20-117.907736%5D%2C%20%5B42.309889%2C%20-122.847408%5D%2C%20%5B39.913727%2C%20-75.010088%5D%2C%20%5B41.340933%2C%20-74.882812%5D%2C%20%5B32.979859999999995%2C%20-117.082327%5D%2C%20%5B28.54815%2C%20-81.55371%5D%2C%20%5B32.788011%2C%20-117.160493%5D%2C%20%5B33.874123%2C%20-117.880506%5D%2C%20%5B34.1382%2C%20-118.276495%5D%2C%20%5B37.364127%2C%20-122.124484%5D%2C%20%5B35.11222%2C%20-80.68358%5D%2C%20%5B37.888828%2C%20-122.176407%5D%2C%20%5B40.70484%2C%20-74.014973%5D%2C%20%5B37.470643%2C%20-122.21366299999998%5D%2C%20%5B32.818314%2C%20-96.832839%5D%2C%20%5B32.271962%2C%20-110.978999%5D%2C%20%5B32.337538%2C%20-90.093609%5D%2C%20%5B25.9116%2C%20-80.321156%5D%2C%20%5B37.087107%2C%20-80.615905%5D%2C%20%5B33.847753000000004%2C%20-118.272265%5D%2C%20%5B33.462327%2C%20-112.222794%5D%2C%20%5B35.353649%2C%20-80.822671%5D%2C%20%5B34.78971%2C%20-82.4864%5D%2C%20%5B25.71606400000001%2C%20-80.41524%5D%2C%20%5B40.65406%2C%20-74.00782%5D%2C%20%5B34.426292%2C%20-118.585063%5D%2C%20%5B34.037252%2C%20-118.315523%5D%2C%20%5B39.21172%2C%20-76.738446%5D%2C%20%5B48.204998%2C%20-114.297806%5D%2C%20%5B34.09066%2C%20-117.30178%5D%2C%20%5B35.089568%2C%20-85.22403800000002%5D%2C%20%5B33.00408%2C%20-96.71971%5D%2C%20%5B38.611167%2C%20-90.203895%5D%2C%20%5B34.03352%2C%20-118.16993%5D%2C%20%5B25.736216%2C%20-80.262152%5D%2C%20%5B37.496863%2C%20-122.237074%5D%2C%20%5B30.430575%2C%20-91.113387%5D%2C%20%5B41.782954%2C%20-72.661508%5D%2C%20%5B30.43654%2C%20-83.516361%5D%2C%20%5B47.062202%2C%20-120.689241%5D%2C%20%5B35.28364000000001%2C%20-81.18746%5D%2C%20%5B32.983652%2C%20-117.083252%5D%2C%20%5B39.754699%2C%20-121.845818%5D%2C%20%5B26.281238%2C%20-80.12501800000003%5D%2C%20%5B32.443402%2C%20-93.728484%5D%2C%20%5B34.03038%2C%20-117.68486%5D%2C%20%5B25.784157%2C%20-80.217872%5D%2C%20%5B28.18389%2C%20-81.73891400000002%5D%2C%20%5B30.684847%2C%20-87.999465%5D%2C%20%5B42.404612%2C%20-121.827882%5D%2C%20%5B32.765390000000004%2C%20-96.926951%5D%2C%20%5B40.438262%2C%20-80.012389%5D%2C%20%5B34.26576%2C%20-118.44871%5D%2C%20%5B28.64811%2C%20-81.800178%5D%2C%20%5B39.157408%2C%20-94.58869%5D%2C%20%5B38.639724%2C%20-76.92890799999998%5D%2C%20%5B34.06369%2C%20-117.81538%5D%2C%20%5B40.92558%2C%20-81.76334%5D%2C%20%5B38.02116%2C%20-121.941945%5D%2C%20%5B43.21439%2C%20-77.44665%5D%2C%20%5B34.071717%2C%20-118.090707%5D%2C%20%5B34.073014%2C%20-118.217473%5D%2C%20%5B28.316177000000003%2C%20-81.37031400000002%5D%2C%20%5B40.798963%2C%20-78.06611099999998%5D%2C%20%5B33.854437%2C%20-117.79064%5D%2C%20%5B38.974418%2C%20-110.136958%5D%2C%20%5B37.031196%2C%20-76.336896%5D%2C%20%5B40.007818%2C%20-75.20119%5D%2C%20%5B38.971992%2C%20-77.178901%5D%2C%20%5B34.049640000000004%2C%20-118.214169%5D%2C%20%5B40.170484%2C%20-75.142787%5D%2C%20%5B41.428273%2C%20-71.821435%5D%2C%20%5B39.013806%2C%20-78.296312%5D%2C%20%5B33.939189%2C%20-117.152421%5D%2C%20%5B33.766090000000005%2C%20-84.49851%5D%2C%20%5B40.61715%2C%20-75.50359%5D%2C%20%5B30.289518%2C%20-97.79079%5D%2C%20%5B39.244592%2C%20-94.487706%5D%2C%20%5B40.52439%2C%20-74.345566%5D%2C%20%5B39.114735%2C%20-76.50184499999997%5D%2C%20%5B34.403499%2C%20-119.729871%5D%2C%20%5B43.012408%2C%20-83.654268%5D%2C%20%5B39.694141%2C%20-78.649728%5D%2C%20%5B43.314317%2C%20-123.347657%5D%2C%20%5B39.162493%2C%20-94.559723%5D%2C%20%5B36.75287%2C%20-119.786868%5D%2C%20%5B32.873467%2C%20-117.205078%5D%2C%20%5B38.742676%2C%20-121.576806%5D%2C%20%5B34.135566%2C%20-117.972252%5D%2C%20%5B34.01891%2C%20-118.180649%5D%2C%20%5B44.95179%2C%20-93.08558%5D%2C%20%5B39.89023%2C%20-75.10554%5D%2C%20%5B42.53772%2C%20-83.11634000000002%5D%2C%20%5B34.06651%2C%20-117.330492%5D%2C%20%5B37.636435%2C%20-120.558695%5D%2C%20%5B42.491305%2C%20-83.287542%5D%2C%20%5B36.300358%2C%20-86.856461%5D%2C%20%5B29.073096000000003%2C%20-81.17904%5D%2C%20%5B34.079244%2C%20-117.62591299999998%5D%2C%20%5B32.917627%2C%20-96.857254%5D%2C%20%5B36.989289%2C%20-121.517547%5D%2C%20%5B26.039775%2C%20-80.21391700000002%5D%2C%20%5B33.631791%2C%20-112.341141%5D%2C%20%5B27.858155%2C%20-82.664192%5D%2C%20%5B33.672470000000004%2C%20-84.32969%5D%2C%20%5B34.077433%2C%20-118.282363%5D%2C%20%5B32.256728%2C%20-80.84955500000002%5D%2C%20%5B39.63046%2C%20-106.062469%5D%2C%20%5B25.770064%2C%20-80.31330799999998%5D%2C%20%5B38.902636%2C%20-77.01477299999998%5D%2C%20%5B30.79126%2C%20-85.70866%5D%2C%20%5B32.74948%2C%20-96.83941%5D%2C%20%5B37.319395%2C%20-80.04230799999998%5D%2C%20%5B40.98273%2C%20-73.74414%5D%2C%20%5B25.900171%2C%20-80.325218%5D%2C%20%5B40.983547%2C%20-78.136165%5D%2C%20%5B38.879519%2C%20-77.246033%5D%2C%20%5B37.348604%2C%20-77.356765%5D%2C%20%5B42.900867%2C%20-83.63052900000002%5D%2C%20%5B33.45825%2C%20-111.98314%5D%2C%20%5B28.438348%2C%20-81.471673%5D%2C%20%5B38.041754%2C%20-120.21559%5D%2C%20%5B32.048758%2C%20-81.258949%5D%2C%20%5B32.798302%2C%20-96.742149%5D%2C%20%5B38.279799%2C%20-77.489603%5D%2C%20%5B48.358548%2C%20-122.636966%5D%2C%20%5B39.23487%2C%20-76.710394%5D%2C%20%5B47.21185%2C%20-122.4622%5D%2C%20%5B34.857240000000004%2C%20-82.2561%5D%2C%20%5B35.307604%2C%20-112.851356%5D%2C%20%5B38.69506%2C%20-90.26036%5D%2C%20%5B33.886524%2C%20-118.032828%5D%2C%20%5B39.332739%2C%20-76.488157%5D%2C%20%5B42.29277%2C%20-83.84294%5D%2C%20%5B33.660628%2C%20-117.299736%5D%2C%20%5B34.063577%2C%20-117.290184%5D%2C%20%5B25.579152%2C%20-80.334603%5D%2C%20%5B29.735349%2C%20-95.286531%5D%2C%20%5B36.79642%2C%20-76.123806%5D%2C%20%5B27.820963%2C%20-82.72760500000003%5D%2C%20%5B33.765906%2C%20-117.939301%5D%2C%20%5B45.921518%2C%20-111.076984%5D%2C%20%5B37.88945%2C%20-121.62306%5D%2C%20%5B28.567405%2C%20-81.211739%5D%2C%20%5B25.808505%2C%20-80.261162%5D%2C%20%5B28.22454%2C%20-81.320426%5D%2C%20%5B29.855456%2C%20-95.272214%5D%2C%20%5B28.188765000000004%2C%20-82.45676999999998%5D%2C%20%5B40.2021%2C%20-77.19646%5D%2C%20%5B28.456034%2C%20-81.812226%5D%2C%20%5B32.92475%2C%20-96.797258%5D%2C%20%5B37.255561%2C%20-121.867149%5D%2C%20%5B34.116192%2C%20-80.951856%5D%2C%20%5B41.332317%2C%20-73.817557%5D%2C%20%5B40.006843%2C%20-75.570868%5D%2C%20%5B34.067552%2C%20-117.514882%5D%2C%20%5B29.768982%2C%20-95.569463%5D%2C%20%5B44.551056%2C%20-93.298641%5D%2C%20%5B45.010579%2C%20-123.97796%5D%2C%20%5B38.673881%2C%20-121.723741%5D%2C%20%5B35.097629%2C%20-85.055087%5D%2C%20%5B35.9541%2C%20-80.5361%5D%2C%20%5B34.07233%2C%20-117.936179%5D%2C%20%5B33.986173%2C%20-118.397737%5D%2C%20%5B31.29267%2C%20-86.50225999999998%5D%2C%20%5B34.054505%2C%20-118.172466%5D%2C%20%5B34.99074%2C%20-85.221869%5D%2C%20%5B25.94173%2C%20-80.193574%5D%2C%20%5B34.05672%2C%20-118.008124%5D%2C%20%5B40.573106%2C%20-111.938701%5D%2C%20%5B36.210837%2C%20-119.153971%5D%2C%20%5B39.01612%2C%20-76.91029%5D%2C%20%5B38.70104600000001%2C%20-78.655811%5D%2C%20%5B36.15385%2C%20-86.62572%5D%2C%20%5B39.973593%2C%20-111.338034%5D%2C%20%5B34.083963%2C%20-117.544948%5D%2C%20%5B45.0352%2C%20-93.34433%5D%2C%20%5B36.068812%2C%20-86.688727%5D%2C%20%5B38.591029%2C%20-121.401484%5D%2C%20%5B37.720705%2C%20-122.178217%5D%2C%20%5B47.2564%2C%20-122.51485%5D%2C%20%5B45.751007%2C%20-111.164533%5D%2C%20%5B33.23545%2C%20-117.406745%5D%2C%20%5B33.82195%2C%20-118.20705%5D%2C%20%5B27.594873%2C%20-81.83193%5D%2C%20%5B45.005675%2C%20-120.790418%5D%2C%20%5B34.130616%2C%20-117.453477%5D%2C%20%5B34.95684%2C%20-81.046297%5D%2C%20%5B44.669003%2C%20-118.320098%5D%2C%20%5B38.022038%2C%20-121.960192%5D%2C%20%5B27.462346000000004%2C%20-82.636978%5D%2C%20%5B42.858975%2C%20-124.470306%5D%2C%20%5B34.818774%2C%20-92.343682%5D%2C%20%5B38.72549%2C%20-76.99015%5D%2C%20%5B35.91247%2C%20-78.78206999999998%5D%2C%20%5B32.810288%2C%20-96.779012%5D%2C%20%5B37.6316%2C%20-122.08971499999998%5D%2C%20%5B41.893401%2C%20-121.388061%5D%2C%20%5B30.252217%2C%20-81.597121%5D%2C%20%5B28.242833%2C%20-81.327101%5D%2C%20%5B32.266876%2C%20-90.333071%5D%2C%20%5B37.95288%2C%20-122.328217%5D%2C%20%5B38.965187%2C%20-76.867526%5D%2C%20%5B47.307659%2C%20-122.236609%5D%2C%20%5B36.850325%2C%20-76.13679%5D%2C%20%5B44.89444%2C%20-93.2748%5D%2C%20%5B37.835832%2C%20-122.292318%5D%2C%20%5B29.717%2C%20-95.379222%5D%2C%20%5B39.662929%2C%20-106.823104%5D%2C%20%5B41.66724%2C%20-87.66288%5D%2C%20%5B38.810373%2C%20-77.448943%5D%2C%20%5B40.239016%2C%20-76.89418%5D%2C%20%5B35.2649%2C%20-81.260751%5D%2C%20%5B40.03451%2C%20-82.99625%5D%2C%20%5B32.983517%2C%20-117.254319%5D%2C%20%5B32.77851500000001%2C%20-96.903556%5D%2C%20%5B33.181143%2C%20-117.342714%5D%2C%20%5B33.584744%2C%20-84.513302%5D%2C%20%5B41.76035%2C%20-72.64471%5D%2C%20%5B37.76894%2C%20-92.40366%5D%2C%20%5B40.016337%2C%20-75.424603%5D%2C%20%5B38.308412%2C%20-120.667846%5D%2C%20%5B30.17019%2C%20-84.310047%5D%2C%20%5B42.10792%2C%20-72.59926999999998%5D%2C%20%5B33.980687%2C%20-81.106987%5D%2C%20%5B39.587484%2C%20-111.861709%5D%2C%20%5B35.858662%2C%20-84.066405%5D%2C%20%5B30.458959000000004%2C%20-91.166271%5D%2C%20%5B34.194441%2C%20-118.331393%5D%2C%20%5B26.58803%2C%20-80.0939%5D%2C%20%5B27.44727%2C%20-82.53024%5D%2C%20%5B41.81731%2C%20-71.3981%5D%2C%20%5B25.883996%2C%20-80.204847%5D%2C%20%5B37.613528%2C%20-77.363399%5D%2C%20%5B43.531588%2C%20-84.130247%5D%2C%20%5B34.067440000000005%2C%20-117.43575%5D%2C%20%5B33.892756%2C%20-118.187962%5D%2C%20%5B40.646787%2C%20-111.978621%5D%2C%20%5B39.07182%2C%20-84.51913%5D%2C%20%5B34.778487%2C%20-92.22913%5D%2C%20%5B45.417597%2C%20-122.456052%5D%2C%20%5B36.1681%2C%20-86.6908%5D%2C%20%5B48.533394%2C%20-114.565506%5D%2C%20%5B42.34081%2C%20-122.913337%5D%2C%20%5B38.945793%2C%20-78.199399%5D%2C%20%5B37.86475%2C%20-122.57453%5D%2C%20%5B37.574005%2C%20-122.316976%5D%2C%20%5B33.87215%2C%20-118.34159%5D%2C%20%5B29.740652%2C%20-95.318714%5D%2C%20%5B33.77653%2C%20-117.84069%5D%2C%20%5B37.325265%2C%20-122.003762%5D%2C%20%5B41.444868%2C%20-112.056571%5D%2C%20%5B39.08515300000001%2C%20-77.14808000000002%5D%2C%20%5B42.260501%2C%20-121.805716%5D%2C%20%5B29.771304%2C%20-95.197114%5D%2C%20%5B38.49573400000001%2C%20-122.899353%5D%2C%20%5B37.80474%2C%20-122.420537%5D%2C%20%5B30.096375%2C%20-90.469521%5D%2C%20%5B34.948952%2C%20-119.691681%5D%2C%20%5B33.560603%2C%20-81.942075%5D%2C%20%5B36.789991%2C%20-121.783223%5D%2C%20%5B37.40318%2C%20-122.046675%5D%2C%20%5B35.645118%2C%20-120.686674%5D%2C%20%5B42.15422%2C%20-88.13542%5D%2C%20%5B33.933797%2C%20-118.352704%5D%2C%20%5B42.74742%2C%20-71.49278000000002%5D%2C%20%5B37.34564%2C%20-121.84328%5D%2C%20%5B34.051941%2C%20-117.161003%5D%2C%20%5B33.945003%2C%20-118.094766%5D%2C%20%5B37.652664%2C%20-77.618674%5D%2C%20%5B33.75165%2C%20-84.37988%5D%2C%20%5B27.844693%2C%20-82.699963%5D%2C%20%5B42.32539000000001%2C%20-83.08418%5D%2C%20%5B34.054614%2C%20-118.20278799999998%5D%2C%20%5B39.10426%2C%20-94.57163%5D%2C%20%5B38.743797%2C%20-121.226279%5D%2C%20%5B34.024031%2C%20-117.770929%5D%2C%20%5B40.750329%2C%20-73.180355%5D%2C%20%5B34.042901%2C%20-117.314389%5D%2C%20%5B32.92582%2C%20-96.81125%5D%2C%20%5B45.513689%2C%20-122.701698%5D%2C%20%5B33.76569%2C%20-117.97237%5D%2C%20%5B25.909797%2C%20-80.308483%5D%2C%20%5B34.845212%2C%20-91.433997%5D%2C%20%5B38.588543%2C%20-121.382933%5D%2C%20%5B25.686024%2C%20-80.399132%5D%2C%20%5B43.0021%2C%20-83.75196899999997%5D%2C%20%5B41.164496%2C%20-74.028583%5D%2C%20%5B37.24746500000001%2C%20-93.183396%5D%2C%20%5B42.72968%2C%20-71.20451%5D%2C%20%5B35.801009%2C%20-78.60861%5D%2C%20%5B33.252728999999995%2C%20-80.577946%5D%2C%20%5B37.559533%2C%20-77.469828%5D%2C%20%5B38.99591%2C%20-77.40852199999998%5D%2C%20%5B47.599567%2C%20-122.31494%5D%2C%20%5B34.069756%2C%20-118.236164%5D%2C%20%5B43.066862%2C%20-117.07025%5D%2C%20%5B37.213363%2C%20-76.593228%5D%2C%20%5B30.614855%2C%20-87.15676500000002%5D%2C%20%5B34.273315999999994%2C%20-118.352752%5D%2C%20%5B25.600667%2C%20-80.35305100000002%5D%2C%20%5B39.78271%2C%20-86.16298%5D%2C%20%5B33.856823%2C%20-118.028676%5D%2C%20%5B27.996836%2C%20-82.583463%5D%2C%20%5B33.55507%2C%20-83.48025%5D%2C%20%5B25.863021%2C%20-80.322629%5D%2C%20%5B34.030590999999994%2C%20-118.216634%5D%2C%20%5B33.802002%2C%20-117.903395%5D%2C%20%5B33.928169%2C%20-118.239164%5D%2C%20%5B25.899661%2C%20-80.209872%5D%2C%20%5B34.047838%2C%20-118.543603%5D%2C%20%5B37.47409%2C%20-77.46878000000002%5D%2C%20%5B38.918969%2C%20-119.720253%5D%2C%20%5B39.02104%2C%20-94.19424%5D%2C%20%5B40.659572%2C%20-74.287089%5D%2C%20%5B28.537101%2C%20-81.37436%5D%2C%20%5B39.98199%2C%20-75.89128000000002%5D%2C%20%5B35.241768%2C%20-80.938688%5D%2C%20%5B47.132956%2C%20-122.29304%5D%2C%20%5B34.240234%2C%20-118.450249%5D%2C%20%5B34.033237%2C%20-118.166948%5D%2C%20%5B45.998446%2C%20-117.278463%5D%2C%20%5B36.729673%2C%20-78.104446%5D%2C%20%5B30.445356%2C%20-91.007569%5D%2C%20%5B34.08243%2C%20-118.29627%5D%2C%20%5B40.066287%2C%20-76.35809499999998%5D%2C%20%5B37.632111%2C%20-122.402919%5D%2C%20%5B35.031828999999995%2C%20-120.488363%5D%2C%20%5B33.876219%2C%20-98.485616%5D%2C%20%5B39.827274%2C%20-86.03285100000002%5D%2C%20%5B34.32288%2C%20-79.43159%5D%2C%20%5B34.27339%2C%20-118.59039%5D%2C%20%5B33.86873%2C%20-98.543558%5D%2C%20%5B32.898509999999995%2C%20-96.71481%5D%2C%20%5B36.810713%2C%20-76.166691%5D%2C%20%5B36.35383%2C%20-82.20746%5D%2C%20%5B34.08748%2C%20-117.64613%5D%2C%20%5B34.066182%2C%20-117.396099%5D%2C%20%5B40.712639%2C%20-74.319559%5D%2C%20%5B42.91352%2C%20-85.70528%5D%2C%20%5B37.100991%2C%20-121.12284%5D%2C%20%5B32.647714%2C%20-96.839968%5D%2C%20%5B25.899138%2C%20-80.347957%5D%2C%20%5B39.308754%2C%20-94.648538%5D%2C%20%5B34.141005%2C%20-80.84303%5D%2C%20%5B38.56598%2C%20-76.98346%5D%2C%20%5B36.125815%2C%20-86.70985%5D%2C%20%5B37.50456%2C%20-121.96379%5D%2C%20%5B29.979286%2C%20-90.04731%5D%2C%20%5B33.982685%2C%20-117.706472%5D%2C%20%5B33.52196%2C%20-117.162399%5D%2C%20%5B44.07783%2C%20-123.04764%5D%2C%20%5B44.829002%2C%20-123.229439%5D%2C%20%5B25.780416%2C%20-80.312021%5D%2C%20%5B38.878662%2C%20-77.260351%5D%2C%20%5B33.80344%2C%20-117.50538%5D%2C%20%5B30.327909%2C%20-86.126325%5D%2C%20%5B34.042949%2C%20-118.272635%5D%2C%20%5B35.198854%2C%20-118.51951%5D%2C%20%5B37.837729%2C%20-122.265208%5D%2C%20%5B35.799868%2C%20-78.79698%5D%2C%20%5B30.180079%2C%20-97.807304%5D%2C%20%5B28.331405%2C%20-82.686573%5D%2C%20%5B38.76488%2C%20-104.77372%5D%2C%20%5B25.716603%2C%20-80.431279%5D%2C%20%5B25.945115%2C%20-80.205365%5D%2C%20%5B26.877011%2C%20-80.124589%5D%2C%20%5B39.145878%2C%20-85.80422800000002%5D%2C%20%5B38.4566%2C%20-121.410545%5D%2C%20%5B40.561243%2C%20-75.456226%5D%2C%20%5B27.155939%2C%20-80.388153%5D%2C%20%5B45.009666%2C%20-93.071633%5D%2C%20%5B42.119249%2C%20-80.053713%5D%2C%20%5B32.9069%2C%20-96.72828%5D%2C%20%5B45.500682%2C%20-122.676484%5D%2C%20%5B48.066315%2C%20-116.638413%5D%2C%20%5B37.797228%2C%20-79.393633%5D%2C%20%5B40.063698%2C%20-75.48532800000002%5D%2C%20%5B44.981361%2C%20-93.243901%5D%2C%20%5B34.13565%2C%20-117.96538%5D%2C%20%5B37.467475%2C%20-122.152667%5D%2C%20%5B27.7856%2C%20-82.35843%5D%2C%20%5B39.049702%2C%20-121.035226%5D%2C%20%5B36.961173%2C%20-76.266789%5D%2C%20%5B40.670861%2C%20-74.181221%5D%2C%20%5B25.98546%2C%20-80.14843%5D%2C%20%5B40.168048%2C%20-74.920778%5D%2C%20%5B25.681576%2C%20-80.468172%5D%2C%20%5B34.010713%2C%20-117.069549%5D%2C%20%5B33.455433%2C%20-80.67186099999998%5D%2C%20%5B32.837802%2C%20-97.114602%5D%2C%20%5B38.93475%2C%20-94.42667%5D%2C%20%5B39.8564%2C%20-75.37698%5D%2C%20%5B37.449086%2C%20-120.796206%5D%2C%20%5B42.37028%2C%20-83.084%5D%2C%20%5B25.762198%2C%20-80.32299%5D%2C%20%5B33.764461%2C%20-78.97314899999998%5D%2C%20%5B44.783363%2C%20-93.218325%5D%2C%20%5B34.06756%2C%20-117.55187%5D%2C%20%5B40.007539%2C%20-75.201212%5D%2C%20%5B32.721438%2C%20-117.090933%5D%2C%20%5B37.500514%2C%20-77.530849%5D%2C%20%5B42.92712%2C%20-85.607959%5D%2C%20%5B33.964455%2C%20-80.925887%5D%2C%20%5B39.795028%2C%20-76.363098%5D%2C%20%5B27.707165000000003%2C%20-80.54165400000002%5D%2C%20%5B42.378934%2C%20-87.904538%5D%2C%20%5B33.876932000000004%2C%20-118.185478%5D%2C%20%5B38.85773%2C%20-77.071291%5D%2C%20%5B42.381577%2C%20-70.9769%5D%2C%20%5B33.876459000000004%2C%20-118.19019%5D%2C%20%5B38.296194%2C%20-77.599473%5D%2C%20%5B30.31503%2C%20-81.7752%5D%2C%20%5B42.958399%2C%20-88.07754%5D%2C%20%5B32.768599%2C%20-96.755449%5D%2C%20%5B34.076441%2C%20-80.944486%5D%2C%20%5B43.181214%2C%20-77.50850799999998%5D%2C%20%5B29.64560800000001%2C%20-90.527762%5D%2C%20%5B27.857187%2C%20-82.325226%5D%2C%20%5B36.34193%2C%20-119.39462%5D%2C%20%5B33.967599%2C%20-118.161907%5D%2C%20%5B38.873566%2C%20-77.2204%5D%2C%20%5B34.014332%2C%20-118.160195%5D%2C%20%5B33.458965%2C%20-111.991295%5D%2C%20%5B44.947596%2C%20-93.079376%5D%2C%20%5B25.82621%2C%20-80.313734%5D%2C%20%5B28.567595%2C%20-81.20780400000002%5D%2C%20%5B47.65208300000001%2C%20-117.396382%5D%2C%20%5B40.78354%2C%20-73.616188%5D%2C%20%5B25.82284%2C%20-80.32151999999998%5D%2C%20%5B34.042949%2C%20-118.272635%5D%2C%20%5B36.601456%2C%20-80.736926%5D%2C%20%5B37.53295%2C%20-121.93834%5D%2C%20%5B42.493835%2C%20-82.967846%5D%2C%20%5B38.637076%2C%20-121.383059%5D%2C%20%5B32.896367%2C%20-96.769223%5D%2C%20%5B45.49736%2C%20-122.565231%5D%2C%20%5B30.432836%2C%20-86.666753%5D%2C%20%5B42.24351%2C%20-83.43954000000002%5D%2C%20%5B40.133311%2C%20-75.45249100000002%5D%2C%20%5B39.72543%2C%20-105.02242%5D%2C%20%5B27.389664%2C%20-82.44195400000002%5D%2C%20%5B39.196364%2C%20-76.632086%5D%2C%20%5B32.756236%2C%20-117.232161%5D%2C%20%5B44.590247%2C%20-123.06213%5D%2C%20%5B34.059709999999995%2C%20-118.16495%5D%2C%20%5B41.68287%2C%20-81.33943000000002%5D%2C%20%5B41.558206%2C%20-72.644012%5D%2C%20%5B34.023706%2C%20-118.436611%5D%2C%20%5B34.076124%2C%20-117.620991%5D%2C%20%5B41.157311%2C%20-96.145851%5D%2C%20%5B43.801006%2C%20-84.67101%5D%2C%20%5B41.182148%2C%20-111.971364%5D%2C%20%5B36.184021%2C%20-86.77551600000002%5D%2C%20%5B34.273955%2C%20-118.930457%5D%2C%20%5B39.030808%2C%20-77.12697299999998%5D%2C%20%5B37.72126%2C%20-121.65607%5D%2C%20%5B34.081149%2C%20-117.740289%5D%2C%20%5B33.83963%2C%20-117.00358%5D%2C%20%5B34.038990000000005%2C%20-118.43995%5D%2C%20%5B27.853945%2C%20-82.326574%5D%2C%20%5B45.61295%2C%20-122.67813999999998%5D%2C%20%5B37.59482%2C%20-120.966121%5D%2C%20%5B42.001504%2C%20-88.174897%5D%2C%20%5B34.00444%2C%20-118.4122%5D%2C%20%5B35.711801%2C%20-78.54167199999998%5D%2C%20%5B38.849708%2C%20-77.832628%5D%2C%20%5B28.527739%2C%20-81.51683299999998%5D%2C%20%5B25.596483%2C%20-80.36036999999997%5D%2C%20%5B37.972959%2C%20-77.492452%5D%2C%20%5B25.921655%2C%20-80.309191%5D%2C%20%5B32.96118%2C%20-96.72705%5D%2C%20%5B25.85835100000001%2C%20-80.24526999999998%5D%2C%20%5B29.96708%2C%20-90.017939%5D%2C%20%5B33.49714%2C%20-82.31979%5D%2C%20%5B33.604992%2C%20-117.691392%5D%2C%20%5B35.786278%2C%20-78.647288%5D%2C%20%5B35.133773%2C%20-89.867509%5D%2C%20%5B37.711391%2C%20-122.127578%5D%2C%20%5B34.28242%2C%20-118.77369%5D%2C%20%5B28.472372%2C%20-81.414742%5D%2C%20%5B35.199962%2C%20-80.787848%5D%2C%20%5B25.890198%2C%20-80.188048%5D%2C%20%5B25.672033%2C%20-80.381146%5D%2C%20%5B32.95122%2C%20-96.73415%5D%2C%20%5B34.03105%2C%20-118.219444%5D%2C%20%5B36.77563%2C%20-119.78479%5D%2C%20%5B33.21379%2C%20-117.38954%5D%2C%20%5B35.15169%2C%20-92.549117%5D%2C%20%5B39.02852%2C%20-121.5147%5D%2C%20%5B40.836928%2C%20-124.170657%5D%2C%20%5B35.089964%2C%20-90.076644%5D%2C%20%5B36.156019%2C%20-86.788838%5D%2C%20%5B27.787883%2C%20-80.455173%5D%2C%20%5B34.153661%2C%20-118.325732%5D%2C%20%5B40.78304%2C%20-82.40977%5D%2C%20%5B33.668859000000005%2C%20-112.119292%5D%2C%20%5B45.753086%2C%20-122.877665%5D%2C%20%5B34.087216%2C%20-117.660731%5D%2C%20%5B37.686605%2C%20-122.130107%5D%2C%20%5B25.941566%2C%20-80.306811%5D%2C%20%5B37.217042%2C%20-112.976099%5D%2C%20%5B47.32269%2C%20-122.29447%5D%2C%20%5B32.328053000000004%2C%20-81.056624%5D%2C%20%5B42.60344600000001%2C%20-124.395908%5D%2C%20%5B45.657774%2C%20-110.76711%5D%2C%20%5B40.1859%2C%20-77.23505%5D%2C%20%5B33.111237%2C%20-117.096437%5D%2C%20%5B33.972613%2C%20-118.168047%5D%2C%20%5B37.700464%2C%20-121.92564%5D%2C%20%5B40.078827%2C%20-75.376434%5D%2C%20%5B34.264582%2C%20-118.4723%5D%2C%20%5B36.645509%2C%20-121.817146%5D%2C%20%5B32.86503%2C%20-79.98881%5D%2C%20%5B25.582899%2C%20-80.366336%5D%2C%20%5B45.37529%2C%20-122.75561%5D%2C%20%5B34.022397999999995%2C%20-118.426699%5D%2C%20%5B34.137997%2C%20-118.27671%5D%2C%20%5B29.69637%2C%20-95.30595%5D%2C%20%5B39.59486%2C%20-76.67063%5D%2C%20%5B30.417357%2C%20-91.100873%5D%2C%20%5B37.7557%2C%20-121.435108%5D%2C%20%5B40.72417%2C%20-111.94255%5D%2C%20%5B38.742696%2C%20-76.991683%5D%2C%20%5B26.363979%2C%20-80.11963%5D%2C%20%5B40.60611%2C%20-74.078642%5D%2C%20%5B44.131467%2C%20-122.535807%5D%2C%20%5B43.25815%2C%20-124.22173%5D%2C%20%5B28.264216%2C%20-81.43117099999998%5D%2C%20%5B41.93716%2C%20-88.08018%5D%2C%20%5B37.701711%2C%20-121.885532%5D%2C%20%5B39.754015%2C%20-104.82748%5D%2C%20%5B33.458013%2C%20-111.983434%5D%2C%20%5B29.730602%2C%20-95.413835%5D%2C%20%5B35.051305%2C%20-85.189809%5D%2C%20%5B43.92233%2C%20-123.01187%5D%2C%20%5B45.400164%2C%20-122.74553799999998%5D%2C%20%5B28.20969%2C%20-82.73966%5D%2C%20%5B42.188213%2C%20-121.817756%5D%2C%20%5B33.633996999999994%2C%20-79.04295%5D%2C%20%5B29.663892%2C%20-95.606602%5D%2C%20%5B37.467313%2C%20-120.849052%5D%2C%20%5B30.362135%2C%20-91.004018%5D%2C%20%5B44.873775%2C%20-122.65161299999998%5D%2C%20%5B35.215672%2C%20-80.782154%5D%2C%20%5B47.500902%2C%20-122.297798%5D%2C%20%5B45.529952%2C%20-122.647026%5D%2C%20%5B25.644006%2C%20-80.330442%5D%2C%20%5B36.142414%2C%20-86.710277%5D%2C%20%5B39.938128000000006%2C%20-83.00949%5D%2C%20%5B33.87897%2C%20-117.55805%5D%2C%20%5B37.638632%2C%20-121.03536499999998%5D%2C%20%5B39.080105%2C%20-121.133252%5D%2C%20%5B34.08717%2C%20-117.67452%5D%2C%20%5B40.016788%2C%20-75.664075%5D%2C%20%5B40.880475%2C%20-74.206726%5D%2C%20%5B38.93749%2C%20-94.46535%5D%2C%20%5B32.721634%2C%20-117.148899%5D%2C%20%5B44.93291%2C%20-93.07175%5D%2C%20%5B41.04853%2C%20-111.95863%5D%2C%20%5B40.48836%2C%20-74.30214000000002%5D%2C%20%5B34.725502%2C%20-92.319104%5D%2C%20%5B26.018784%2C%20-80.248568%5D%2C%20%5B35.376272%2C%20-118.967404%5D%2C%20%5B38.989653%2C%20-77.077224%5D%2C%20%5B30.56578%2C%20-81.83245600000002%5D%2C%20%5B37.217828%2C%20-121.987906%5D%2C%20%5B37.253985%2C%20-121.921572%5D%2C%20%5B37.66013%2C%20-122.10392%5D%2C%20%5B43.60986%2C%20-113.21305%5D%2C%20%5B34.936479%2C%20-81.99299%5D%2C%20%5B38.41096%2C%20-122.20306200000002%5D%2C%20%5B27.69622%2C%20-80.89494%5D%2C%20%5B41.845251%2C%20-87.633604%5D%2C%20%5B29.680411%2C%20-95.419177%5D%2C%20%5B42.433844%2C%20-123.17355%5D%2C%20%5B38.687807%2C%20-121.262299%5D%2C%20%5B33.776747%2C%20-118.206894%5D%2C%20%5B36.738281%2C%20-120.697151%5D%2C%20%5B26.05793%2C%20-80.16251%5D%2C%20%5B38.216115%2C%20-77.499193%5D%2C%20%5B34.021246999999995%2C%20-118.498975%5D%2C%20%5B47.72298%2C%20-122.29084%5D%2C%20%5B30.24536%2C%20-97.779916%5D%2C%20%5B40.98735%2C%20-73.68024%5D%2C%20%5B32.928814%2C%20-93.880821%5D%2C%20%5B35.85617%2C%20-78.64124%5D%2C%20%5B41.56956%2C%20-87.36349399999996%5D%2C%20%5B38.778335%2C%20-90.360055%5D%2C%20%5B29.795686%2C%20-95.544801%5D%2C%20%5B38.42845%2C%20-104.60746%5D%2C%20%5B43.16175%2C%20-77.61085%5D%2C%20%5B44.233037%2C%20-121.202373%5D%2C%20%5B34.101678%2C%20-118.317985%5D%2C%20%5B34.228286%2C%20-118.473251%5D%2C%20%5B44.87784%2C%20-122.99959%5D%2C%20%5B38.37566%2C%20-121.47667%5D%2C%20%5B41.15865%2C%20-112.026033%5D%2C%20%5B45.035501%2C%20-93.085194%5D%2C%20%5B30.29472800000001%2C%20-97.72106%5D%2C%20%5B32.786541%2C%20-96.805243%5D%2C%20%5B29.843651%2C%20-95.505198%5D%2C%20%5B26.24377%2C%20-81.687765%5D%2C%20%5B35.849659%2C%20-78.58235400000002%5D%2C%20%5B38.28508%2C%20-122.30068%5D%2C%20%5B39.076493%2C%20-94.536714%5D%2C%20%5B39.31302%2C%20-77.51435%5D%2C%20%5B33.521035%2C%20-80.882474%5D%2C%20%5B28.596190000000004%2C%20-81.24457%5D%2C%20%5B34.345145%2C%20-117.453156%5D%2C%20%5B40.749782%2C%20-73.754743%5D%2C%20%5B40.160881%2C%20-77.822777%5D%2C%20%5B34.063889%2C%20-117.28516299999998%5D%2C%20%5B42.43983%2C%20-83.21961%5D%2C%20%5B32.798041%2C%20-96.670857%5D%2C%20%5B38.465332%2C%20-120.527663%5D%2C%20%5B25.629751%2C%20-80.308666%5D%2C%20%5B38.64587%2C%20-121.36764%5D%2C%20%5B39.7153%2C%20-105.392113%5D%2C%20%5B26.542156%2C%20-81.87131%5D%2C%20%5B25.767491%2C%20-80.368853%5D%2C%20%5B28.196197%2C%20-82.464894%5D%2C%20%5B38.433192%2C%20-121.399619%5D%2C%20%5B33.922090000000004%2C%20-117.88007%5D%2C%20%5B41.503441%2C%20-120.519836%5D%2C%20%5B32.80477%2C%20-79.93689%5D%2C%20%5B37.041081%2C%20-76.395202%5D%2C%20%5B39.776393%2C%20-84.218115%5D%2C%20%5B35.925148%2C%20-77.909362%5D%2C%20%5B39.07163900000001%2C%20-75.568837%5D%2C%20%5B30.496483%2C%20-91.160628%5D%2C%20%5B25.750277%2C%20-80.303606%5D%2C%20%5B33.923302%2C%20-118.20597%5D%2C%20%5B37.769865%2C%20-122.417816%5D%2C%20%5B25.884154%2C%20-80.35106999999998%5D%2C%20%5B32.950173%2C%20-97.040349%5D%2C%20%5B40.697578%2C%20-74.224281%5D%2C%20%5B44.71036%2C%20-123.22188%5D%2C%20%5B47.67104000000001%2C%20-117.11051299999998%5D%2C%20%5B37.933135%2C%20-121.29694%5D%2C%20%5B37.860463%2C%20-85.70746700000002%5D%2C%20%5B34.075223%2C%20-118.274799%5D%2C%20%5B40.668064%2C%20-73.80119499999998%5D%2C%20%5B38.988643%2C%20-76.883236%5D%2C%20%5B25.926033%2C%20-80.151522%5D%2C%20%5B35.343416%2C%20-78.582086%5D%2C%20%5B36.11895300000001%2C%20-86.749219%5D%2C%20%5B38.912189%2C%20-76.934045%5D%2C%20%5B26.431186%2C%20-81.79024799999998%5D%2C%20%5B37.516395%2C%20-77.52835999999998%5D%2C%20%5B44.79013%2C%20-93.10893%5D%2C%20%5B44.188484%2C%20-93.982324%5D%2C%20%5B28.54542600000001%2C%20-81.412482%5D%2C%20%5B37.48722%2C%20-121.94161%5D%2C%20%5B33.934898%2C%20-118.046419%5D%2C%20%5B25.869008%2C%20-80.236388%5D%2C%20%5B35.655254%2C%20-119.078844%5D%2C%20%5B27.994764%2C%20-82.37304499999998%5D%2C%20%5B25.688976%2C%20-80.30547800000002%5D%2C%20%5B38.563906%2C%20-121.493574%5D%2C%20%5B34.28411%2C%20-79.889623%5D%2C%20%5B33.292297%2C%20-80.509625%5D%2C%20%5B32.754761%2C%20-117.219516%5D%2C%20%5B25.68745%2C%20-80.353734%5D%2C%20%5B41.142174%2C%20-73.274001%5D%2C%20%5B25.888278%2C%20-80.164008%5D%2C%20%5B33.493555%2C%20-111.88806%5D%2C%20%5B35.309567%2C%20-119.00481299999998%5D%2C%20%5B30.364691%2C%20-81.668867%5D%2C%20%5B33.806931%2C%20-118.15093600000002%5D%2C%20%5B39.201352%2C%20-76.695299%5D%2C%20%5B35.899404%2C%20-84.854675%5D%2C%20%5B25.732169%2C%20-80.380549%5D%2C%20%5B44.809967%2C%20-93.185723%5D%2C%20%5B36.874787%2C%20-76.19750400000002%5D%2C%20%5B26.142525%2C%20-80.169749%5D%2C%20%5B36.06083%2C%20-79.133673%5D%2C%20%5B38.874187%2C%20-76.977243%5D%2C%20%5B35.40985%2C%20-80.85486999999998%5D%2C%20%5B33.450461%2C%20-111.98258%5D%2C%20%5B41.63879%2C%20-81.37928000000002%5D%2C%20%5B39.71932%2C%20-75.53893000000002%5D%2C%20%5B37.631639%2C%20-77.376912%5D%2C%20%5B41.39138%2C%20-72.877%5D%2C%20%5B34.832766%2C%20-82.415319%5D%2C%20%5B33.619640000000004%2C%20-112.11651%5D%2C%20%5B27.280427000000003%2C%20-82.530837%5D%2C%20%5B30.650627000000004%2C%20-91.160268%5D%2C%20%5B30.39838%2C%20-87.27776%5D%2C%20%5B43.101371%2C%20-77.468489%5D%2C%20%5B25.686024%2C%20-80.399132%5D%2C%20%5B32.712659%2C%20-117.143995%5D%2C%20%5B34.1382%2C%20-80.94624%5D%2C%20%5B25.973778%2C%20-80.16568199999998%5D%2C%20%5B35.91618%2C%20-86.82411%5D%2C%20%5B40.09267%2C%20-75.12541999999998%5D%2C%20%5B25.890213%2C%20-80.187688%5D%2C%20%5B28.027781%2C%20-82.21593399999998%5D%2C%20%5B33.999883000000004%2C%20-117.848773%5D%2C%20%5B35.155266999999995%2C%20-80.795699%5D%2C%20%5B38.673409%2C%20-77.24127800000002%5D%2C%20%5B37.638628%2C%20-121.015785%5D%2C%20%5B41.187513%2C%20-112.008831%5D%2C%20%5B33.457834000000005%2C%20-112.36222%5D%2C%20%5B32.84376%2C%20-117.2141%5D%2C%20%5B28.532798%2C%20-81.010313%5D%2C%20%5B25.850214%2C%20-80.248405%5D%2C%20%5B25.52831%2C%20-80.392874%5D%2C%20%5B40.780681%2C%20-74.04726099999998%5D%2C%20%5B42.34106%2C%20-87.96363000000002%5D%2C%20%5B35.086420000000004%2C%20-80.992352%5D%2C%20%5B38.709114%2C%20-122.914513%5D%2C%20%5B37.077964%2C%20-78.887568%5D%2C%20%5B35.447965%2C%20-82.540472%5D%2C%20%5B45.196146%2C%20-93.393988%5D%2C%20%5B40.092514%2C%20-75.24191400000002%5D%2C%20%5B28.427643%2C%20-81.40096%5D%2C%20%5B35.72690700000001%2C%20-78.550574%5D%2C%20%5B37.671194%2C%20-120.466442%5D%2C%20%5B45.07928%2C%20-93.05273%5D%2C%20%5B39.083008%2C%20-94.945855%5D%2C%20%5B35.010724%2C%20-82.265939%5D%2C%20%5B29.992107%2C%20-90.049154%5D%2C%20%5B40.73616%2C%20-73.85679%5D%2C%20%5B34.14298%2C%20-118.02119%5D%2C%20%5B26.667276%2C%20-81.888402%5D%2C%20%5B34.75175%2C%20-118.170261%5D%2C%20%5B40.72292%2C%20-74.17657%5D%2C%20%5B34.051044%2C%20-80.52031600000002%5D%2C%20%5B38.501294%2C%20-90.317272%5D%2C%20%5B26.608017%2C%20-80.173534%5D%2C%20%5B27.503969%2C%20-82.56312%5D%2C%20%5B46.00952%2C%20-122.84621%5D%2C%20%5B38.46381%2C%20-90.525423%5D%2C%20%5B29.862340000000003%2C%20-95.40383%5D%2C%20%5B29.753283000000003%2C%20-95.371659%5D%2C%20%5B41.62043%2C%20-87.57885999999998%5D%2C%20%5B37.58122%2C%20-122.04909%5D%2C%20%5B38.11593%2C%20-121.247167%5D%2C%20%5B27.35226%2C%20-82.5303%5D%2C%20%5B40.083588%2C%20-74.93487900000002%5D%2C%20%5B26.528914%2C%20-81.871337%5D%2C%20%5B34.13428%2C%20-117.67484%5D%2C%20%5B32.7634%2C%20-96.94078%5D%2C%20%5B34.684193%2C%20-120.156504%5D%2C%20%5B25.730987%2C%20-80.33565300000002%5D%2C%20%5B26.04269%2C%20-80.16289%5D%2C%20%5B39.859362%2C%20-86.046942%5D%2C%20%5B33.910918%2C%20-117.883722%5D%2C%20%5B25.544173%2C%20-80.478091%5D%2C%20%5B38.412612%2C%20-78.890803%5D%2C%20%5B33.974727%2C%20-118.236269%5D%2C%20%5B34.02975%2C%20-118.40551%5D%2C%20%5B27.995690000000003%2C%20-82.32628000000003%5D%2C%20%5B40.766637%2C%20-73.89612%5D%2C%20%5B33.498870000000004%2C%20-112.043563%5D%2C%20%5B36.692414%2C%20-119.743427%5D%2C%20%5B33.779259%2C%20-117.27103%5D%2C%20%5B34.22738%2C%20-118.41062%5D%2C%20%5B35.642189%2C%20-78.832932%5D%2C%20%5B37.054427%2C%20-120.653647%5D%2C%20%5B32.23565%2C%20-110.98449%5D%2C%20%5B37.413071%2C%20-79.08181%5D%2C%20%5B30.43711%2C%20-91.02912%5D%2C%20%5B33.804194%2C%20-117.50616200000002%5D%2C%20%5B37.419572%2C%20-120.790809%5D%2C%20%5B39.303893%2C%20-86.516763%5D%2C%20%5B36.13622%2C%20-86.77006300000002%5D%2C%20%5B41.81314%2C%20-88.15833%5D%2C%20%5B30.310991%2C%20-97.739313%5D%2C%20%5B28.049243%2C%20-82.56939%5D%2C%20%5B25.980852%2C%20-80.165981%5D%2C%20%5B38.107202%2C%20-122.229767%5D%2C%20%5B35.171997999999995%2C%20-80.901022%5D%2C%20%5B41.16848%2C%20-73.22438000000002%5D%2C%20%5B28.36568%2C%20-80.70035%5D%2C%20%5B28.472337%2C%20-81.419416%5D%2C%20%5B30.2501%2C%20-81.59111%5D%2C%20%5B34.055605%2C%20-118.452119%5D%2C%20%5B45.299345%2C%20-118.98695%5D%2C%20%5B40.302309%2C%20-121.000617%5D%2C%20%5B34.50571%2C%20-81.60426700000002%5D%2C%20%5B35.628608%2C%20-78.85217%5D%2C%20%5B47.067672%2C%20-102.798718%5D%2C%20%5B36.75518%2C%20-119.82855%5D%2C%20%5B40.070524%2C%20-76.326677%5D%2C%20%5B37.62057%2C%20-121.011234%5D%2C%20%5B33.247469%2C%20-85.038735%5D%2C%20%5B46.185198%2C%20-123.858139%5D%2C%20%5B30.398904%2C%20-91.155161%5D%2C%20%5B34.275508%2C%20-118.535084%5D%2C%20%5B33.920066%2C%20-118.278272%5D%2C%20%5B47.036916%2C%20-122.750056%5D%2C%20%5B35.089890000000004%2C%20-80.929443%5D%2C%20%5B42.496072%2C%20-73.97012099999998%5D%2C%20%5B43.619306%2C%20-70.357454%5D%2C%20%5B40.152177%2C%20-75.378795%5D%2C%20%5B40.89099%2C%20-74.48141%5D%2C%20%5B41.704395%2C%20-71.473028%5D%2C%20%5B33.638531%2C%20-117.343936%5D%2C%20%5B45.70301%2C%20-120.32389%5D%2C%20%5B29.679974%2C%20-95.528591%5D%2C%20%5B37.89286%2C%20-121.28211%5D%2C%20%5B40.70688%2C%20-74.06098%5D%2C%20%5B37.82494000000001%2C%20-122.31361%5D%2C%20%5B34.434703000000006%2C%20-119.749356%5D%2C%20%5B43.652313%2C%20-92.948928%5D%2C%20%5B39.494251%2C%20-77.565203%5D%2C%20%5B43.512699%2C%20-119.117521%5D%2C%20%5B38.05935%2C%20-78.936319%5D%2C%20%5B42.892567%2C%20-82.516164%5D%2C%20%5B30.255319%2C%20-92.01455%5D%2C%20%5B41.363014%2C%20-72.06241700000002%5D%2C%20%5B41.796878%2C%20-124.154732%5D%2C%20%5B34.044909999999994%2C%20-117.31123999999998%5D%2C%20%5B39.740342%2C%20-105.411354%5D%2C%20%5B37.57506%2C%20-122.046901%5D%2C%20%5B40.82503%2C%20-73.88613000000002%5D%2C%20%5B44.03804%2C%20-70.26821%5D%2C%20%5B38.011202%2C%20-122.273038%5D%2C%20%5B33.19821%2C%20-81.349805%5D%2C%20%5B42.998466%2C%20-83.69319899999998%5D%2C%20%5B34.168925%2C%20-118.612575%5D%2C%20%5B35.246395%2C%20-77.30323800000002%5D%2C%20%5B29.5604%2C%20-95.69562%5D%2C%20%5B33.913327%2C%20-118.278348%5D%2C%20%5B30.236074%2C%20-93.200789%5D%2C%20%5B25.705616%2C%20-80.285403%5D%2C%20%5B40.829652%2C%20-78.370582%5D%2C%20%5B41.87342%2C%20-87.81537%5D%2C%20%5B33.917494%2C%20-117.437044%5D%2C%20%5B37.891018%2C%20-78.70401600000002%5D%2C%20%5B25.64377%2C%20-80.38543%5D%2C%20%5B36.994475%2C%20-76.41811899999998%5D%2C%20%5B40.556668%2C%20-82.282961%5D%2C%20%5B34.90738%2C%20-82.3291%5D%2C%20%5B37.327499%2C%20-121.87808%5D%2C%20%5B37.275968%2C%20-78.318768%5D%2C%20%5B37.63692800000001%2C%20-121.884125%5D%2C%20%5B38.824029%2C%20-77.12454%5D%2C%20%5B39.033812%2C%20-84.602097%5D%2C%20%5B39.352381%2C%20-112.57142%5D%2C%20%5B46.095992%2C%20-123.112496%5D%2C%20%5B33.547269%2C%20-117.673035%5D%2C%20%5B25.76972300000001%2C%20-80.324597%5D%2C%20%5B40.48058%2C%20-111.90221%5D%2C%20%5B30.363928%2C%20-97.688353%5D%2C%20%5B33.939596%2C%20-80.847926%5D%2C%20%5B41.952891%2C%20-91.723569%5D%2C%20%5B47.598885%2C%20-116.775933%5D%2C%20%5B45.244041%2C%20-117.957162%5D%2C%20%5B37.838243%2C%20-122.296167%5D%2C%20%5B34.054012%2C%20-117.689253%5D%2C%20%5B38.578137%2C%20-77.318996%5D%2C%20%5B42.97402%2C%20-73.801978%5D%2C%20%5B42.49182%2C%20-83.01345%5D%2C%20%5B33.984427000000004%2C%20-118.13337%5D%2C%20%5B32.375409999999995%2C%20-82.172702%5D%2C%20%5B48.337544%2C%20-114.300532%5D%2C%20%5B33.931376%2C%20-117.284815%5D%2C%20%5B33.605587%2C%20-117.171381%5D%2C%20%5B34.117494%2C%20-117.855059%5D%2C%20%5B44.847575%2C%20-93.247286%5D%2C%20%5B34.051824%2C%20-117.121412%5D%2C%20%5B35.2443%2C%20-80.8488%5D%2C%20%5B36.086905%2C%20-86.648664%5D%2C%20%5B42.950867%2C%20-78.711773%5D%2C%20%5B29.732831%2C%20-95.457867%5D%2C%20%5B39.745241%2C%20-105.440071%5D%2C%20%5B25.760882%2C%20-80.420301%5D%2C%20%5B27.942513%2C%20-82.776104%5D%2C%20%5B45.234371%2C%20-93.471604%5D%2C%20%5B25.889494%2C%20-80.16233199999998%5D%2C%20%5B33.81644%2C%20-84.25069%5D%2C%20%5B45.404977%2C%20-122.74416399999998%5D%2C%20%5B34.20993%2C%20-117.108636%5D%2C%20%5B35.187031%2C%20-119.110068%5D%2C%20%5B34.033101%2C%20-118.143103%5D%2C%20%5B34.0409%2C%20-118.21847%5D%2C%20%5B42.94675%2C%20-85.67545%5D%2C%20%5B41.70765%2C%20-83.47883%5D%2C%20%5B26.100643%2C%20-80.258213%5D%2C%20%5B25.88388%2C%20-80.207513%5D%2C%20%5B38.015388%2C%20-122.270976%5D%2C%20%5B27.579508%2C%20-82.578165%5D%2C%20%5B37.15834%2C%20-77.3519%5D%2C%20%5B26.092947%2C%20-80.22498900000002%5D%2C%20%5B28.44994%2C%20-81.47779%5D%2C%20%5B29.98896400000001%2C%20-90.072818%5D%2C%20%5B33.75544%2C%20-84.46677%5D%2C%20%5B39.749112%2C%20-84.21207700000002%5D%2C%20%5B40.79235%2C%20-73.50617%5D%2C%20%5B32.792955%2C%20-117.207738%5D%2C%20%5B34.4594%2C%20-116.94576%5D%2C%20%5B33.9461%2C%20-84.62425999999998%5D%2C%20%5B29.684556%2C%20-95.34484%5D%2C%20%5B35.84213%2C%20-78.575092%5D%2C%20%5B40.702774%2C%20-73.99256899999997%5D%2C%20%5B34.880187%2C%20-82.363881%5D%2C%20%5B25.780753%2C%20-80.222604%5D%2C%20%5B33.888756%2C%20-117.512886%5D%2C%20%5B34.172288%2C%20-118.516349%5D%2C%20%5B30.278773%2C%20-90.950355%5D%2C%20%5B43.043778%2C%20-91.180754%5D%2C%20%5B40.627727%2C%20-74.436663%5D%2C%20%5B35.901288%2C%20-78.654637%5D%2C%20%5B30.427540000000004%2C%20-87.21561%5D%2C%20%5B41.496473%2C%20-78.682591%5D%2C%20%5B35.596822%2C%20-78.598973%5D%2C%20%5B32.848433%2C%20-83.439194%5D%2C%20%5B34.071782%2C%20-117.947607%5D%2C%20%5B39.370075%2C%20-76.51405600000002%5D%2C%20%5B42.425218%2C%20-123.039675%5D%2C%20%5B37.391582%2C%20-121.870387%5D%2C%20%5B33.39688%2C%20-86.78031999999996%5D%2C%20%5B25.883587%2C%20-80.21260600000002%5D%2C%20%5B39.84209%2C%20-105.03965%5D%2C%20%5B33.995928%2C%20-117.355471%5D%2C%20%5B42.52396%2C%20-71.50595%5D%2C%20%5B40.356236%2C%20-109.497647%5D%2C%20%5B39.017607%2C%20-94.553906%5D%2C%20%5B44.88592%2C%20-93.295952%5D%2C%20%5B39.936736%2C%20-121.31588%5D%2C%20%5B37.454655%2C%20-76.840816%5D%2C%20%5B35.20294000000001%2C%20-80.73888000000002%5D%2C%20%5B38.678431%2C%20-121.220987%5D%2C%20%5B47.202887%2C%20-122.282696%5D%2C%20%5B38.104938%2C%20-122.248193%5D%2C%20%5B36.658598%2C%20-121.621474%5D%2C%20%5B32.162886%2C%20-110.815444%5D%2C%20%5B32.920764%2C%20-96.849902%5D%2C%20%5B41.65186%2C%20-93.74478%5D%2C%20%5B29.777899%2C%20-95.421767%5D%2C%20%5B38.765023%2C%20-93.556534%5D%2C%20%5B39.025079%2C%20-105.97499%5D%2C%20%5B25.684604%2C%20-80.400559%5D%2C%20%5B36.1634%2C%20-86.76194%5D%2C%20%5B38.237727%2C%20-81.54293299999998%5D%2C%20%5B33.944186%2C%20-118.095226%5D%2C%20%5B33.171896999999994%2C%20-117.359392%5D%2C%20%5B40.803812%2C%20-73.916239%5D%2C%20%5B30.687752000000003%2C%20-88.009691%5D%2C%20%5B39.362269%2C%20-76.74665999999998%5D%2C%20%5B38.354368%2C%20-121.978342%5D%2C%20%5B35.282946%2C%20-80.778082%5D%2C%20%5B32.899221999999995%2C%20-80.021221%5D%2C%20%5B25.899614%2C%20-80.182822%5D%2C%20%5B45.51027%2C%20-93.00981%5D%2C%20%5B42.46377%2C%20-71.02475%5D%2C%20%5B32.86175%2C%20-117.18745%5D%2C%20%5B27.943683%2C%20-82.334321%5D%2C%20%5B33.84235%2C%20-117.83031%5D%2C%20%5B33.972712%2C%20-118.379419%5D%2C%20%5B37.18973%2C%20-121.99257%5D%2C%20%5B30.386942%2C%20-97.648653%5D%2C%20%5B33.299578000000004%2C%20-117.217848%5D%2C%20%5B25.89841%2C%20-80.33422%5D%2C%20%5B37.74273%2C%20-121.53683%5D%2C%20%5B34.009705%2C%20-117.427293%5D%2C%20%5B43.03223%2C%20-87.95458%5D%2C%20%5B38.77965%2C%20-90.38554%5D%2C%20%5B25.76861%2C%20-80.367676%5D%2C%20%5B34.152732%2C%20-118.097122%5D%2C%20%5B28.036809%2C%20-82.709158%5D%2C%20%5B43.700568%2C%20-124.084406%5D%2C%20%5B35.051382000000004%2C%20-86.573685%5D%2C%20%5B36.13345%2C%20-95.85113%5D%2C%20%5B25.519391%2C%20-80.40383%5D%2C%20%5B34.77769%2C%20-82.31201%5D%2C%20%5B40.75232000000001%2C%20-73.85959%5D%2C%20%5B32.654618%2C%20-117.105857%5D%2C%20%5B40.835931%2C%20-73.870199%5D%2C%20%5B37.375842%2C%20-118.415029%5D%2C%20%5B32.16799%2C%20-110.948684%5D%2C%20%5B25.784433%2C%20-80.28756899999998%5D%2C%20%5B33.833814000000004%2C%20-79.769896%5D%2C%20%5B39.45056%2C%20-104.87576%5D%2C%20%5B36.897896%2C%20-121.556377%5D%2C%20%5B28.199424%2C%20-82.646179%5D%2C%20%5B41.831681%2C%20-88.016374%5D%2C%20%5B40.40742%2C%20-105.02111%5D%2C%20%5B33.936347999999995%2C%20-80.969669%5D%2C%20%5B30.503615000000003%2C%20-87.26065899999998%5D%2C%20%5B39.95117%2C%20-82.84489%5D%2C%20%5B44.32862100000001%2C%20-93.293076%5D%2C%20%5B32.72163%2C%20-117.154737%5D%2C%20%5B37.679274%2C%20-113.079718%5D%2C%20%5B40.749296%2C%20-74.21235899999998%5D%2C%20%5B44.888764%2C%20-120.928614%5D%2C%20%5B33.972159000000005%2C%20-118.168027%5D%2C%20%5B27.57448%2C%20-82.51473%5D%2C%20%5B38.666823%2C%20-121.27225%5D%2C%20%5B33.813958%2C%20-118.300539%5D%2C%20%5B41.7882%2C%20-87.97508%5D%2C%20%5B33.137737%2C%20-117.33084%5D%2C%20%5B33.666659%2C%20-117.881948%5D%2C%20%5B34.143529%2C%20-118.471175%5D%2C%20%5B37.76778%2C%20-122.39599%5D%2C%20%5B25.62374800000001%2C%20-80.414429%5D%2C%20%5B39.695311%2C%20-86.105892%5D%2C%20%5B44.72477%2C%20-94.364%5D%2C%20%5B37.084111%2C%20-121.9775%5D%2C%20%5B33.873356%2C%20-117.690953%5D%2C%20%5B39.92635%2C%20-86.25355%5D%2C%20%5B33.606136%2C%20-117.126438%5D%2C%20%5B42.283791%2C%20-71.79774599999998%5D%2C%20%5B38.422169%2C%20-76.930368%5D%2C%20%5B35.76490300000001%2C%20-119.249985%5D%2C%20%5B41.121567%2C%20-73.36064300000002%5D%2C%20%5B25.760891%2C%20-80.393987%5D%2C%20%5B35.153269%2C%20-92.55342%5D%2C%20%5B33.959955%2C%20-84.518434%5D%2C%20%5B41.871853%2C%20-87.82978100000004%5D%2C%20%5B45.61895%2C%20-122.674565%5D%2C%20%5B33.695713%2C%20-117.093584%5D%2C%20%5B33.968956%2C%20-117.376199%5D%2C%20%5B45.225131%2C%20-123.080973%5D%2C%20%5B33.98572%2C%20-81.083303%5D%2C%20%5B34.783235%2C%20-118.625535%5D%2C%20%5B44.788068%2C%20-93.408075%5D%2C%20%5B40.133325%2C%20-75.51213299999998%5D%2C%20%5B48.032169%2C%20-115.859044%5D%2C%20%5B25.942301%2C%20-80.30958299999998%5D%2C%20%5B33.717529%2C%20-85.020538%5D%2C%20%5B32.912431%2C%20-96.736775%5D%2C%20%5B38.990627%2C%20-121.082335%5D%2C%20%5B34.034797%2C%20-118.150729%5D%2C%20%5B29.728756%2C%20-95.442174%5D%2C%20%5B42.43654%2C%20-71.25941%5D%2C%20%5B35.59785%2C%20-97.5672%5D%2C%20%5B33.604834999999994%2C%20-111.976726%5D%2C%20%5B37.251842%2C%20-122.062649%5D%2C%20%5B26.0291%2C%20-80.35418%5D%2C%20%5B32.87101%2C%20-96.89858%5D%2C%20%5B38.354689%2C%20-104.837709%5D%2C%20%5B39.64785%2C%20-107.0654%5D%2C%20%5B40.70156400000001%2C%20-73.993149%5D%2C%20%5B34.267678000000004%2C%20-118.48475%5D%2C%20%5B41.885401%2C%20-87.646134%5D%2C%20%5B33.546227%2C%20-86.66405%5D%2C%20%5B33.912958%2C%20-118.364144%5D%2C%20%5B38.363008%2C%20-81.62212%5D%2C%20%5B45.109094%2C%20-121.376836%5D%2C%20%5B34.762061%2C%20-92.262207%5D%2C%20%5B37.014138%2C%20-121.340442%5D%2C%20%5B33.84253%2C%20-117.87619%5D%2C%20%5B37.468775%2C%20-122.155233%5D%2C%20%5B38.459626%2C%20-77.40952800000002%5D%2C%20%5B33.774473%2C%20-118.07828%5D%2C%20%5B30.41257%2C%20-84.29408000000002%5D%2C%20%5B33.765915%2C%20-117.942068%5D%2C%20%5B27.337764%2C%20-82.464917%5D%2C%20%5B40.74058%2C%20-73.89903000000002%5D%2C%20%5B36.83651%2C%20-76.19633%5D%2C%20%5B36.059893%2C%20-95.975571%5D%2C%20%5B29.640793%2C%20-95.463031%5D%2C%20%5B37.371526%2C%20-121.901816%5D%2C%20%5B40.072283%2C%20-80.741146%5D%2C%20%5B34.106508000000005%2C%20-118.328214%5D%2C%20%5B28.382065%2C%20-81.404628%5D%2C%20%5B32.907539%2C%20-96.729608%5D%2C%20%5B38.94371%2C%20-94.38134%5D%2C%20%5B38.34038%2C%20-81.69866%5D%2C%20%5B25.839902%2C%20-80.315701%5D%2C%20%5B40.56095%2C%20-111.42755%5D%2C%20%5B47.04844600000001%2C%20-122.996906%5D%2C%20%5B41.619013%2C%20-122.965018%5D%2C%20%5B39.351394%2C%20-104.871315%5D%2C%20%5B42.38513%2C%20-83.28224%5D%2C%20%5B32.889913%2C%20-96.755781%5D%2C%20%5B32.73741%2C%20-83.72227%5D%2C%20%5B33.740439%2C%20-117.833716%5D%2C%20%5B45.18167%2C%20-117.98612%5D%2C%20%5B25.941805%2C%20-80.190009%5D%2C%20%5B35.04054%2C%20-80.86158%5D%2C%20%5B39.105606%2C%20-122.81156599999998%5D%2C%20%5B40.689274%2C%20-73.999125%5D%2C%20%5B34.179889%2C%20-80.897778%5D%2C%20%5B41.375084%2C%20-71.958733%5D%2C%20%5B37.251759%2C%20-121.958416%5D%2C%20%5B33.8801%2C%20-117.56486%5D%2C%20%5B28.054608%2C%20-82.455278%5D%2C%20%5B38.57858%2C%20-121.50696%5D%2C%20%5B35.473392%2C%20-78.161924%5D%2C%20%5B34.3087%2C%20-117.47093%5D%2C%20%5B36.045719%2C%20-86.72079699999998%5D%2C%20%5B38.363946%2C%20-77.456885%5D%2C%20%5B39.01576%2C%20-77.00142%5D%2C%20%5B35.08837%2C%20-85.21540999999998%5D%2C%20%5B30.48591%2C%20-81.642907%5D%2C%20%5B42.740479%2C%20-83.453771%5D%2C%20%5B41.79669000000001%2C%20-87.81414000000002%5D%2C%20%5B41.93763%2C%20-88.0378%5D%2C%20%5B38.936587%2C%20-94.451769%5D%2C%20%5B25.821778%2C%20-80.313693%5D%2C%20%5B40.346087%2C%20-74.113716%5D%2C%20%5B38.715916%2C%20-122.487934%5D%2C%20%5B35.022764%2C%20-82.694307%5D%2C%20%5B37.376578%2C%20-121.941555%5D%2C%20%5B25.927378%2C%20-80.15355%5D%2C%20%5B34.250755%2C%20-118.428634%5D%2C%20%5B40.630459%2C%20-111.876063%5D%2C%20%5B41.97449%2C%20-77.208813%5D%2C%20%5B43.664%2C%20-116.35456200000002%5D%2C%20%5B26.542156%2C%20-81.87131%5D%2C%20%5B27.962061%2C%20-82.453261%5D%2C%20%5B33.871517%2C%20-117.701803%5D%2C%20%5B25.889435%2C%20-80.162573%5D%2C%20%5B39.871785%2C%20-75.068816%5D%2C%20%5B39.981285%2C%20-75.10273000000002%5D%2C%20%5B34.067744%2C%20-117.595348%5D%2C%20%5B41.764052%2C%20-72.693687%5D%2C%20%5B38.351481%2C%20-121.983675%5D%2C%20%5B34.906665000000004%2C%20-110.207751%5D%2C%20%5B34.072317%2C%20-118.080797%5D%2C%20%5B34.688891%2C%20-82.218686%5D%2C%20%5B42.265359%2C%20-83.262945%5D%2C%20%5B34.00571%2C%20-81.162699%5D%2C%20%5B32.954137%2C%20-96.822252%5D%2C%20%5B41.241935%2C%20-111.945372%5D%2C%20%5B45.273431%2C%20-93.00611%5D%2C%20%5B40.168029%2C%20-74.6448%5D%2C%20%5B34.270595%2C%20-118.488439%5D%2C%20%5B27.30351%2C%20-82.520218%5D%2C%20%5B39.91368%2C%20-86.08613000000004%5D%2C%20%5B29.724416%2C%20-95.501156%5D%2C%20%5B46.65765800000001%2C%20-95.668398%5D%2C%20%5B27.96495%2C%20-82.44360999999998%5D%2C%20%5B25.924925%2C%20-80.28613299999998%5D%2C%20%5B35.377841%2C%20-118.935199%5D%2C%20%5B30.471492%2C%20-87.23031%5D%2C%20%5B43.111341%2C%20-124.163909%5D%2C%20%5B25.928411%2C%20-80.190784%5D%2C%20%5B42.152234%2C%20-88.029566%5D%2C%20%5B28.68999%2C%20-81.20976%5D%2C%20%5B38.526359%2C%20-77.364467%5D%2C%20%5B29.688293%2C%20-95.379091%5D%2C%20%5B33.85004%2C%20-117.8356%5D%2C%20%5B43.16833%2C%20-83.70768000000002%5D%2C%20%5B38.96806%2C%20-77.17961%5D%2C%20%5B40.106717%2C%20-76.249698%5D%2C%20%5B45.2239%2C%20-118.01385%5D%2C%20%5B33.638984%2C%20-117.730331%5D%2C%20%5B44.267119%2C%20-118.998175%5D%2C%20%5B28.682187%2C%20-81.388591%5D%2C%20%5B47.58969%2C%20-122.32115%5D%2C%20%5B41.84094%2C%20-71.41111%5D%2C%20%5B28.589485%2C%20-81.377347%5D%2C%20%5B33.774434%2C%20-118.007494%5D%2C%20%5B44.2747%2C%20-123.17095%5D%2C%20%5B34.830416%2C%20-82.30204%5D%2C%20%5B36.979519%2C%20-121.913105%5D%2C%20%5B34.06658%2C%20-117.545068%5D%2C%20%5B39.219813%2C%20-94.497177%5D%2C%20%5B42.34674%2C%20-83.21634%5D%2C%20%5B34.114745%2C%20-80.888674%5D%2C%20%5B34.036303000000004%2C%20-117.991045%5D%2C%20%5B46.615714%2C%20-122.919541%5D%2C%20%5B38.633858%2C%20-77.290586%5D%2C%20%5B32.778702%2C%20-117.112075%5D%2C%20%5B40.559341%2C%20-77.387429%5D%2C%20%5B34.060497%2C%20-118.21497%5D%2C%20%5B28.450309000000004%2C%20-81.439359%5D%2C%20%5B25.935124%2C%20-80.12176099999998%5D%2C%20%5B39.988378%2C%20-75.278382%5D%2C%20%5B25.880457%2C%20-80.16705400000002%5D%2C%20%5B41.24455%2C%20-112.001251%5D%2C%20%5B26.62994%2C%20-82.070832%5D%2C%20%5B45.52501%2C%20-122.68668999999998%5D%2C%20%5B34.025504999999995%2C%20-117.33418799999998%5D%2C%20%5B41.644997%2C%20-73.56401899999999%5D%2C%20%5B33.959482%2C%20-117.907779%5D%2C%20%5B37.684501%2C%20-113.162717%5D%2C%20%5B40.59292%2C%20-111.90218%5D%2C%20%5B42.970865%2C%20-123.337229%5D%2C%20%5B38.744056%2C%20-121.270618%5D%2C%20%5B44.21814000000001%2C%20-106.10918999999998%5D%2C%20%5B34.006252%2C%20-79.198328%5D%2C%20%5B41.07687%2C%20-75.580555%5D%2C%20%5B25.770206%2C%20-80.31303299999998%5D%2C%20%5B34.189449%2C%20-80.090065%5D%2C%20%5B30.114368%2C%20-81.813288%5D%2C%20%5B33.945413%2C%20-118.382654%5D%2C%20%5B37.315647%2C%20-113.677907%5D%2C%20%5B43.056145%2C%20-76.066709%5D%2C%20%5B44.890297%2C%20-93.267821%5D%2C%20%5B42.19159000000001%2C%20-71.85762%5D%2C%20%5B38.93148%2C%20-94.704734%5D%2C%20%5B42.269518%2C%20-85.511216%5D%2C%20%5B45.020608%2C%20-93.18947%5D%2C%20%5B47.61427%2C%20-122.32969%5D%2C%20%5B26.02489%2C%20-80.20936400000002%5D%2C%20%5B33.717824%2C%20-87.17444300000002%5D%2C%20%5B25.82114%2C%20-80.248816%5D%2C%20%5B34.245233%2C%20-79.744753%5D%2C%20%5B40.428861%2C%20-79.930998%5D%2C%20%5B26.25229%2C%20-80.16651999999998%5D%2C%20%5B34.014509999999994%2C%20-117.81937%5D%2C%20%5B35.48032%2C%20-80.87473%5D%2C%20%5B26.708837%2C%20-81.72585500000002%5D%2C%20%5B32.573958000000005%2C%20-83.24127299999998%5D%2C%20%5B38.718749%2C%20-94.451147%5D%2C%20%5B29.406213%2C%20-98.570772%5D%2C%20%5B43.216346%2C%20-75.45853199999998%5D%2C%20%5B37.91406%2C%20-122.06648%5D%2C%20%5B30.182887%2C%20-97.687479%5D%2C%20%5B34.216573%2C%20-119.022272%5D%2C%20%5B25.6262%2C%20-80.41432900000002%5D%2C%20%5B32.727151%2C%20-117.069427%5D%2C%20%5B36.890975%2C%20-76.230722%5D%2C%20%5B32.74465900000001%2C%20-96.701763%5D%2C%20%5B46.750566%2C%20-92.14364%5D%2C%20%5B27.843439%2C%20-82.663477%5D%2C%20%5B30.32547700000001%2C%20-91.003561%5D%2C%20%5B28.38582700000001%2C%20-81.504635%5D%2C%20%5B28.03298%2C%20-82.455011%5D%2C%20%5B41.817659%2C%20-71.416461%5D%2C%20%5B32.806173%2C%20-96.663283%5D%2C%20%5B34.072126000000004%2C%20-80.914325%5D%2C%20%5B43.019474%2C%20-83.634918%5D%2C%20%5B33.95585%2C%20-84.51659000000002%5D%2C%20%5B33.77678%2C%20-84.60206%5D%2C%20%5B34.282764%2C%20-117.351896%5D%2C%20%5B32.824090000000005%2C%20-96.87126%5D%2C%20%5B32.470778%2C%20-93.838853%5D%2C%20%5B41.964071%2C%20-91.853337%5D%2C%20%5B37.56034%2C%20-122.03491%5D%2C%20%5B25.824404%2C%20-80.2066%5D%2C%20%5B28.665715%2C%20-80.902619%5D%2C%20%5B45.06967%2C%20-93.29676%5D%2C%20%5B34.030237%2C%20-117.66777%5D%2C%20%5B45.16026%2C%20-95.22667%5D%2C%20%5B45.510231%2C%20-122.687877%5D%2C%20%5B34.150573%2C%20-117.33983899999998%5D%2C%20%5B39.114141%2C%20-121.308411%5D%2C%20%5B38.079911%2C%20-78.985251%5D%2C%20%5B33.688137%2C%20-117.871347%5D%2C%20%5B47.594822%2C%20-122.316251%5D%2C%20%5B33.64066%2C%20-111.9775%5D%2C%20%5B45.6646%2C%20-93.922263%5D%2C%20%5B32.870020000000004%2C%20-96.67203%5D%2C%20%5B34.068939%2C%20-117.37025%5D%2C%20%5B42.385571%2C%20-83.023005%5D%2C%20%5B40.231376%2C%20-75.27976%5D%2C%20%5B33.78013%2C%20-117.48953%5D%2C%20%5B38.712965%2C%20-77.219277%5D%2C%20%5B37.61451%2C%20-120.98103%5D%2C%20%5B33.916424%2C%20-118.29134%5D%2C%20%5B33.941926%2C%20-117.274481%5D%2C%20%5B34.440866%2C%20-117.572719%5D%2C%20%5B44.163376%2C%20-94.018388%5D%2C%20%5B42.003382%2C%20-93.645132%5D%2C%20%5B40.049288%2C%20-76.303435%5D%2C%20%5B33.576561%2C%20-117.671945%5D%2C%20%5B42.904446%2C%20-73.788199%5D%2C%20%5B36.01244699999999%2C%20-86.618184%5D%2C%20%5B33.504368%2C%20-86.816378%5D%2C%20%5B34.723486%2C%20-81.146321%5D%2C%20%5B33.53672%2C%20-112.34107%5D%2C%20%5B29.996132%2C%20-90.122168%5D%2C%20%5B36.286393%2C%20-119.063547%5D%2C%20%5B35.777941%2C%20-78.561086%5D%2C%20%5B30.421051%2C%20-91.152829%5D%2C%20%5B39.886439%2C%20-75.214411%5D%2C%20%5B25.671%2C%20-80.408209%5D%2C%20%5B39.923297%2C%20-104.987616%5D%2C%20%5B39.17636%2C%20-76.63606999999998%5D%2C%20%5B30.439712%2C%20-91.175513%5D%2C%20%5B32.88398%2C%20-117.22818%5D%2C%20%5B48.152157%2C%20-122.195623%5D%2C%20%5B25.730778%2C%20-80.313286%5D%2C%20%5B29.073246%2C%20-81.179255%5D%2C%20%5B25.79319%2C%20-80.20551999999998%5D%2C%20%5B38.992389%2C%20-94.85292%5D%2C%20%5B32.872821%2C%20-83.661199%5D%2C%20%5B30.254475%2C%20-97.747883%5D%2C%20%5B41.84537%2C%20-87.63495%5D%2C%20%5B36.54431%2C%20-85.8118%5D%2C%20%5B34.109611%2C%20-80.898072%5D%2C%20%5B33.896977%2C%20-117.480578%5D%2C%20%5B34.15205%2C%20-118.12751000000002%5D%2C%20%5B43.654507%2C%20-123.876353%5D%2C%20%5B36.603112%2C%20-121.649533%5D%2C%20%5B33.948714%2C%20-117.300692%5D%2C%20%5B43.796235%2C%20-121.442452%5D%2C%20%5B36.850301%2C%20-120.772372%5D%2C%20%5B32.802871%2C%20-96.7915%5D%2C%20%5B36.583833%2C%20-121.857421%5D%2C%20%5B35.77549000000001%2C%20-78.63672%5D%2C%20%5B32.191837%2C%20-110.825074%5D%2C%20%5B29.81157%2C%20-95.34702%5D%2C%20%5B40.025542%2C%20-75.02815600000002%5D%2C%20%5B34.75578%2C%20-86.59416%5D%2C%20%5B34.03998%2C%20-117.15415%5D%2C%20%5B47.80716%2C%20-121.55177%5D%2C%20%5B34.07134%2C%20-118.13338%5D%2C%20%5B26.416207%2C%20-80.089763%5D%2C%20%5B40.794777%2C%20-73.825004%5D%2C%20%5B40.70795%2C%20-74.15609%5D%2C%20%5B34.119668%2C%20-117.80931499999998%5D%2C%20%5B34.262097%2C%20-79.801743%5D%2C%20%5B34.667973%2C%20-120.122938%5D%2C%20%5B33.983470000000004%2C%20-117.366546%5D%2C%20%5B33.74353%2C%20-117.833817%5D%2C%20%5B33.39191%2C%20-111.89155%5D%2C%20%5B40.696099%2C%20-73.973445%5D%2C%20%5B33.988397%2C%20-80.880436%5D%2C%20%5B33.731506%2C%20-117.812189%5D%2C%20%5B33.655468%2C%20-117.576569%5D%2C%20%5B28.543426%2C%20-81.31066700000002%5D%2C%20%5B41.672036%2C%20-74.791761%5D%2C%20%5B38.66959%2C%20-77.25753%5D%2C%20%5B37.96480800000001%2C%20-122.514105%5D%2C%20%5B25.76852%2C%20-80.263565%5D%2C%20%5B37.477552%2C%20-113.221735%5D%2C%20%5B42.73856%2C%20-83.38396%5D%2C%20%5B29.734373%2C%20-95.755477%5D%2C%20%5B41.052228%2C%20-73.80886600000002%5D%2C%20%5B45.63388%2C%20-121.21182%5D%2C%20%5B45.703255%2C%20-110.927742%5D%2C%20%5B42.025406%2C%20-87.959902%5D%2C%20%5B38.219606%2C%20-87.564167%5D%2C%20%5B37.784387%2C%20-122.393406%5D%2C%20%5B34.228731%2C%20-119.170278%5D%2C%20%5B25.733249%2C%20-80.33381899999998%5D%2C%20%5B30.420659000000004%2C%20-92.054711%5D%2C%20%5B27.935853%2C%20-82.310247%5D%2C%20%5B48.231536%2C%20-122.738989%5D%2C%20%5B33.595934%2C%20-86.392028%5D%2C%20%5B36.884044%2C%20-119.979985%5D%2C%20%5B29.35869000000001%2C%20-95.42716%5D%2C%20%5B39.214053%2C%20-120.088322%5D%2C%20%5B45.157855%2C%20-84.91974%5D%2C%20%5B40.10645%2C%20-82.9802%5D%2C%20%5B34.152066999999995%2C%20-117.667149%5D%2C%20%5B41.198279%2C%20-80.098173%5D%2C%20%5B35.058432%2C%20-119.401058%5D%2C%20%5B25.926062%2C%20-80.151967%5D%2C%20%5B45.458719%2C%20-122.639868%5D%2C%20%5B43.774034%2C%20-88.150631%5D%2C%20%5B25.836206%2C%20-80.205849%5D%2C%20%5B37.001531%2C%20-120.09237%5D%2C%20%5B38.838633%2C%20-78.563328%5D%2C%20%5B44.931414%2C%20-93.136408%5D%2C%20%5B29.7746%2C%20-95.13944%5D%2C%20%5B34.049126%2C%20-117.959019%5D%2C%20%5B28.519318%2C%20-82.571302%5D%2C%20%5B25.84289%2C%20-80.223488%5D%2C%20%5B34.110442%2C%20-117.886301%5D%2C%20%5B25.747312%2C%20-80.350335%5D%2C%20%5B36.76903%2C%20-76.22748%5D%2C%20%5B38.420751%2C%20-121.486478%5D%2C%20%5B37.677413%2C%20-75.72439200000002%5D%2C%20%5B44.18711%2C%20-93.97622%5D%2C%20%5B48.205528%2C%20-114.319542%5D%2C%20%5B37.70186%2C%20-121.90237%5D%2C%20%5B37.24756%2C%20-93.34673%5D%2C%20%5B26.007202%2C%20-80.167011%5D%2C%20%5B40.19219%2C%20-74.75126%5D%2C%20%5B25.885921%2C%20-80.164713%5D%2C%20%5B44.86522100000001%2C%20-93.426096%5D%2C%20%5B39.987273%2C%20-75.251887%5D%2C%20%5B33.802161%2C%20-83.716931%5D%2C%20%5B38.055553%2C%20-122.147725%5D%2C%20%5B38.23375%2C%20-85.75081%5D%2C%20%5B36.118274%2C%20-86.700096%5D%2C%20%5B39.88162%2C%20-83.9548%5D%2C%20%5B34.42727%2C%20-118.41935%5D%2C%20%5B37.494425%2C%20-121.922201%5D%2C%20%5B35.09474%2C%20-89.87044%5D%2C%20%5B33.88896%2C%20-117.069443%5D%2C%20%5B29.298487%2C%20-81.130546%5D%2C%20%5B28.566213%2C%20-81.201363%5D%2C%20%5B41.739732%2C%20-72.629874%5D%2C%20%5B41.05895%2C%20-81.5055%5D%2C%20%5B25.846198%2C%20-80.238676%5D%2C%20%5B43.013377%2C%20-76.691174%5D%2C%20%5B25.626145%2C%20-80.41645%5D%2C%20%5B28.544755%2C%20-81.277456%5D%2C%20%5B38.528312%2C%20-121.757944%5D%2C%20%5B37.53509%2C%20-122.32919%5D%2C%20%5B40.718073%2C%20-112.104508%5D%2C%20%5B33.412867%2C%20-111.891492%5D%2C%20%5B33.979440000000004%2C%20-118.28036000000002%5D%2C%20%5B25.846841%2C%20-80.215586%5D%2C%20%5B34.147576%2C%20-118.799707%5D%2C%20%5B35.710076%2C%20-78.623593%5D%2C%20%5B44.388831%2C%20-123.062571%5D%2C%20%5B34.669470000000004%2C%20-82.985534%5D%2C%20%5B34.156793%2C%20-118.405459%5D%2C%20%5B45.62359%2C%20-121.21334%5D%2C%20%5B30.328617%2C%20-97.690584%5D%2C%20%5B32.77937%2C%20-117.07153%5D%2C%20%5B42.45097%2C%20-76.63112%5D%2C%20%5B33.399873%2C%20-117.083696%5D%2C%20%5B39.291859%2C%20-120.682497%5D%2C%20%5B36.808995%2C%20-119.785117%5D%2C%20%5B45.351031%2C%20-122.660424%5D%2C%20%5B36.08994000000001%2C%20-80.040711%5D%2C%20%5B29.81392%2C%20-95.37013%5D%2C%20%5B38.525245%2C%20-121.370234%5D%2C%20%5B28.196572%2C%20-82.546538%5D%2C%20%5B33.341358%2C%20-117.188784%5D%2C%20%5B39.015229%2C%20-77.12276800000002%5D%2C%20%5B35.146501%2C%20-80.925027%5D%2C%20%5B39.014736%2C%20-77.118669%5D%2C%20%5B34.165284%2C%20-118.297273%5D%2C%20%5B33.81486%2C%20-118.18336%5D%2C%20%5B47.485152%2C%20-122.32738799999998%5D%2C%20%5B33.456340999999995%2C%20-111.674576%5D%2C%20%5B40.560997%2C%20-122.258187%5D%2C%20%5B38.316355%2C%20-122.712525%5D%2C%20%5B42.2402%2C%20-87.99417%5D%2C%20%5B37.295483%2C%20-80.091587%5D%2C%20%5B40.020653%2C%20-75.043126%5D%2C%20%5B25.796852%2C%20-80.353022%5D%2C%20%5B40.187762%2C%20-74.610654%5D%2C%20%5B40.093413%2C%20-75.909456%5D%2C%20%5B40.420752%2C%20-74.212474%5D%2C%20%5B33.980766%2C%20-117.340646%5D%2C%20%5B35.640837%2C%20-78.712136%5D%2C%20%5B38.942561%2C%20-76.98565500000002%5D%2C%20%5B43.80371%2C%20-88.49492%5D%2C%20%5B38.108526%2C%20-122.563628%5D%2C%20%5B36.606498%2C%20-119.662603%5D%2C%20%5B33.415864%2C%20-117.317851%5D%2C%20%5B29.75716%2C%20-95.406448%5D%2C%20%5B39.489513%2C%20-76.241303%5D%2C%20%5B25.890198%2C%20-80.188048%5D%2C%20%5B33.683468%2C%20-117.876034%5D%2C%20%5B38.596377%2C%20-121.443656%5D%2C%20%5B40.34030900000001%2C%20-90.189425%5D%2C%20%5B44.706741%2C%20-123.040997%5D%2C%20%5B29.77427%2C%20-95.32222%5D%2C%20%5B34.077611%2C%20-118.284413%5D%2C%20%5B40.845828%2C%20-73.93089499999998%5D%2C%20%5B44.955536%2C%20-93.076488%5D%2C%20%5B35.73439600000001%2C%20-119.740967%5D%2C%20%5B37.021351%2C%20-121.569201%5D%2C%20%5B28.575985%2C%20-81.700239%5D%2C%20%5B33.683295%2C%20-117.620642%5D%2C%20%5B41.281858%2C%20-72.865989%5D%2C%20%5B33.751054%2C%20-117.845706%5D%2C%20%5B25.053062%2C%20-80.482988%5D%2C%20%5B38.782191%2C%20-77.329011%5D%2C%20%5B38.854974%2C%20-96.392248%5D%2C%20%5B29.907413%2C%20-95.412422%5D%2C%20%5B35.306708%2C%20-80.852148%5D%2C%20%5B37.890633%2C%20-121.276348%5D%2C%20%5B41.571161%2C%20-87.74339%5D%2C%20%5B40.064831%2C%20-76.336838%5D%2C%20%5B42.411743%2C%20-123.131257%5D%2C%20%5B40.770059%2C%20-122.31359%5D%2C%20%5B34.154720000000005%2C%20-118.64925%5D%2C%20%5B38.557425%2C%20-77.340265%5D%2C%20%5B30.443471%2C%20-91.178784%5D%2C%20%5B33.01726%2C%20-96.70883%5D%2C%20%5B43.14017%2C%20-124.3973%5D%2C%20%5B25.92478%2C%20-80.154122%5D%2C%20%5B39.864224%2C%20-75.34858299999998%5D%2C%20%5B33.742959%2C%20-118.002929%5D%2C%20%5B41.976571%2C%20-87.869625%5D%2C%20%5B25.762244%2C%20-80.327922%5D%2C%20%5B25.749424%2C%20-80.303575%5D%2C%20%5B38.528291%2C%20-122.722481%5D%2C%20%5B35.705245%2C%20-81.418439%5D%2C%20%5B36.094645%2C%20-119.232324%5D%2C%20%5B40.049369%2C%20-76.316702%5D%2C%20%5B39.328635%2C%20-121.11116%5D%2C%20%5B45.200554%2C%20-93.051828%5D%2C%20%5B25.845655%2C%20-80.251159%5D%2C%20%5B42.15408%2C%20-88.101969%5D%2C%20%5B47.710201%2C%20-122.355502%5D%2C%20%5B29.924357%2C%20-90.013858%5D%2C%20%5B40.256774%2C%20-75.586462%5D%2C%20%5B44.51211%2C%20-120.37437%5D%2C%20%5B45.390169%2C%20-92.818334%5D%2C%20%5B25.79686400000001%2C%20-80.34793%5D%2C%20%5B40.268379%2C%20-123.873692%5D%2C%20%5B38.9406%2C%20-94.53798%5D%2C%20%5B37.548776%2C%20-77.432978%5D%2C%20%5B39.957007%2C%20-75.15544200000002%5D%2C%20%5B34.019754%2C%20-117.808975%5D%2C%20%5B38.683872%2C%20-121.461489%5D%2C%20%5B40.15398%2C%20-76.59963499999998%5D%2C%20%5B41.612973%2C%20-87.578948%5D%2C%20%5B35.779666%2C%20-78.63228199999998%5D%2C%20%5B38.572133%2C%20-121.413204%5D%2C%20%5B33.987225%2C%20-118.186785%5D%2C%20%5B33.172487%2C%20-117.348037%5D%2C%20%5B32.751127000000004%2C%20-96.648098%5D%2C%20%5B25.859312%2C%20-80.243279%5D%2C%20%5B45.508698%2C%20-93.903792%5D%2C%20%5B33.8962%2C%20-84.36352%5D%2C%20%5B25.92572%2C%20-80.281751%5D%2C%20%5B37.9405%2C%20-120.747717%5D%2C%20%5B36.762579%2C%20-76.268203%5D%2C%20%5B40.096954%2C%20-75.341717%5D%2C%20%5B45.144342%2C%20-122.764379%5D%2C%20%5B35.153106%2C%20-111.249736%5D%2C%20%5B38.931546%2C%20-121.12607%5D%2C%20%5B34.488603000000005%2C%20-118.162909%5D%2C%20%5B39.910388%2C%20-84.18814%5D%2C%20%5B25.942303%2C%20-80.30865%5D%2C%20%5B33.774532%2C%20-84.62328199999997%5D%2C%20%5B44.629466%2C%20-123.042525%5D%2C%20%5B37.531654%2C%20-77.347752%5D%2C%20%5B25.680985%2C%20-80.41650600000001%5D%2C%20%5B34.014195%2C%20-117.450541%5D%2C%20%5B44.95560800000001%2C%20-93.270124%5D%2C%20%5B37.066413%2C%20-121.219119%5D%2C%20%5B26.75447%2C%20-80.08983%5D%2C%20%5B40.32708%2C%20-75.62194000000002%5D%2C%20%5B31.64563%2C%20-83.340743%5D%2C%20%5B25.899656%2C%20-80.181674%5D%2C%20%5B27.07007%2C%20-82.208574%5D%2C%20%5B36.788006%2C%20-121.678972%5D%2C%20%5B32.905390000000004%2C%20-117.22451%5D%2C%20%5B44.95136%2C%20-93.11611%5D%2C%20%5B38.88078%2C%20-77.0304%5D%2C%20%5B45.51583%2C%20-122.69868%5D%2C%20%5B39.746743%2C%20-105.436917%5D%2C%20%5B37.258099%2C%20-119.703122%5D%2C%20%5B42.199169%2C%20-87.862439%5D%2C%20%5B29.011113%2C%20-81.06894%5D%2C%20%5B45.18443%2C%20-123.918297%5D%2C%20%5B33.81015%2C%20-84.37536999999998%5D%2C%20%5B40.224806%2C%20-75.30939599999998%5D%2C%20%5B38.517643%2C%20-121.462596%5D%2C%20%5B37.88427%2C%20-122.05352%5D%2C%20%5B35.196432%2C%20-80.826998%5D%2C%20%5B38.28547800000001%2C%20-122.30051%5D%2C%20%5B36.677794%2C%20-119.817841%5D%2C%20%5B33.93103%2C%20-118.368504%5D%2C%20%5B38.57493%2C%20-121.55185%5D%2C%20%5B28.494136%2C%20-81.422372%5D%2C%20%5B39.094425%2C%20-122.800147%5D%2C%20%5B39.605588%2C%20-75.19989%5D%2C%20%5B33.336107%2C%20-111.687169%5D%2C%20%5B47.323404%2C%20-95.382281%5D%2C%20%5B26.098284%2C%20-80.251302%5D%2C%20%5B44.954928%2C%20-93.189141%5D%2C%20%5B27.819285%2C%20-82.679462%5D%2C%20%5B40.47187%2C%20-74.2952%5D%2C%20%5B39.9327%2C%20-82.82655%5D%2C%20%5B24.80347%2C%20-80.849815%5D%2C%20%5B35.008538%2C%20-85.15321899999998%5D%2C%20%5B25.894312%2C%20-80.219163%5D%2C%20%5B25.865329%2C%20-80.234154%5D%2C%20%5B25.68887%2C%20-80.35042800000002%5D%2C%20%5B37.837096%2C%20-77.974337%5D%2C%20%5B41.741384%2C%20-106.836923%5D%2C%20%5B27.11093%2C%20-82.34300999999998%5D%2C%20%5B44.05805%2C%20-93.25228%5D%2C%20%5B40.823339%2C%20-73.347465%5D%2C%20%5B39.269009%2C%20-76.631773%5D%2C%20%5B39.524914%2C%20-106.216453%5D%2C%20%5B36.634157%2C%20-111.651209%5D%2C%20%5B39.69706%2C%20-86.18261%5D%2C%20%5B25.92593%2C%20-80.333549%5D%2C%20%5B34.039827%2C%20-78.829983%5D%2C%20%5B28.02727%2C%20-82.16046999999998%5D%2C%20%5B37.89908300000001%2C%20-120.561279%5D%2C%20%5B32.718302%2C%20-117.109658%5D%2C%20%5B43.164639%2C%20-77.623251%5D%2C%20%5B33.932320000000004%2C%20-118.34844%5D%2C%20%5B39.982851%2C%20-75.92657%5D%2C%20%5B37.297446%2C%20-120.851331%5D%2C%20%5B32.876898%2C%20-96.81001%5D%2C%20%5B38.77277%2C%20-121.25396%5D%2C%20%5B43.86252%2C%20-123.0153%5D%2C%20%5B26.40933%2C%20-80.090128%5D%2C%20%5B39.808667%2C%20-75.75117%5D%2C%20%5B34.036865%2C%20-118.284963%5D%2C%20%5B40.5759%2C%20-74.56527%5D%2C%20%5B25.694731%2C%20-80.301061%5D%2C%20%5B34.012219%2C%20-118.418573%5D%2C%20%5B38.454611%2C%20-121.405476%5D%2C%20%5B27.916431%2C%20-82.75215%5D%2C%20%5B32.711395%2C%20-96.680479%5D%2C%20%5B34.146162%2C%20-81.238263%5D%2C%20%5B34.384388%2C%20-118.571609%5D%2C%20%5B35.74592%2C%20-78.59324000000002%5D%2C%20%5B37.846059%2C%20-122.486282%5D%2C%20%5B41.08313%2C%20-73.92398%5D%2C%20%5B40.287145%2C%20-74.090488%5D%2C%20%5B34.083505%2C%20-118.313058%5D%2C%20%5B32.75404%2C%20-97.69344%5D%2C%20%5B34.73777800000001%2C%20-92.27235%5D%2C%20%5B36.982181%2C%20-121.99671%5D%2C%20%5B44.93484%2C%20-123.22847%5D%2C%20%5B35.968358%2C%20-86.807086%5D%2C%20%5B36.80675%2C%20-81.62113000000002%5D%2C%20%5B30.387409%2C%20-86.408249%5D%2C%20%5B35.400534%2C%20-119.043356%5D%2C%20%5B41.678169%2C%20-72.87455600000001%5D%2C%20%5B46.567772%2C%20-112.305797%5D%2C%20%5B41.695819%2C%20-71.97176%5D%2C%20%5B33.926027000000005%2C%20-118.212128%5D%2C%20%5B33.932465%2C%20-118.17844%5D%2C%20%5B41.89731%2C%20-87.919302%5D%2C%20%5B36.14169%2C%20-86.67039%5D%2C%20%5B26.67247%2C%20-81.81952199999998%5D%2C%20%5B38.346721%2C%20-81.615372%5D%2C%20%5B44.984973%2C%20-122.73613%5D%2C%20%5B33.855251%2C%20-118.203794%5D%2C%20%5B41.718501%2C%20-87.80658199999998%5D%2C%20%5B38.593792%2C%20-121.415247%5D%2C%20%5B25.925298%2C%20-80.281316%5D%2C%20%5B38.019164%2C%20-121.947972%5D%2C%20%5B40.742164%2C%20-73.897143%5D%2C%20%5B41.41685800000001%2C%20-73.429452%5D%2C%20%5B42.673656%2C%20-123.381998%5D%2C%20%5B32.847411%2C%20-96.577643%5D%2C%20%5B33.80608400000001%2C%20-117.880329%5D%2C%20%5B39.03082%2C%20-84.581755%5D%2C%20%5B45.531182%2C%20-122.686854%5D%2C%20%5B36.211184%2C%20-119.762338%5D%2C%20%5B33.97515300000001%2C%20-118.383858%5D%2C%20%5B38.939291%2C%20-76.940313%5D%2C%20%5B37.157696%2C%20-77.352746%5D%2C%20%5B34.221841%2C%20-119.104889%5D%2C%20%5B47.061654%2C%20-122.776362%5D%2C%20%5B40.75777%2C%20-73.73823%5D%2C%20%5B39.116381%2C%20-94.895213%5D%2C%20%5B29.788991%2C%20-95.388072%5D%2C%20%5B45.693951%2C%20-118.937762%5D%2C%20%5B47.64507%2C%20-122.29243999999998%5D%2C%20%5B35.73742%2C%20-78.793634%5D%2C%20%5B25.702474%2C%20-80.33150699999999%5D%2C%20%5B34.059303%2C%20-118.17276499999998%5D%2C%20%5B25.833%2C%20-80.241318%5D%2C%20%5B34.995553%2C%20-81.11386%5D%2C%20%5B41.22665%2C%20-95.96297%5D%2C%20%5B37.58519%2C%20-77.41484%5D%2C%20%5B37.769581%2C%20-122.416885%5D%2C%20%5B34.833701%2C%20-118.865065%5D%2C%20%5B41.66302%2C%20-72.526706%5D%2C%20%5B31.90542%2C%20-106.44164%5D%2C%20%5B44.858797%2C%20-93.329039%5D%2C%20%5B42.864522%2C%20-78.791951%5D%2C%20%5B43.04538%2C%20-89.31248000000002%5D%2C%20%5B33.96646%2C%20-118.08359%5D%2C%20%5B34.06179%2C%20-81.135981%5D%2C%20%5B36.103729%2C%20-86.715325%5D%2C%20%5B38.837468%2C%20-77.16139%5D%2C%20%5B34.038451%2C%20-118.274001%5D%2C%20%5B33.45443%2C%20-112.0652%5D%2C%20%5B35.991613%2C%20-86.79904300000004%5D%2C%20%5B29.085756%2C%20-82.185148%5D%2C%20%5B25.927536%2C%20-80.188227%5D%2C%20%5B27.641466%2C%20-82.670748%5D%2C%20%5B31.245717%2C%20-89.241721%5D%2C%20%5B41.219171%2C%20-112.004835%5D%2C%20%5B34.083843%2C%20-118.21955%5D%2C%20%5B35.02661%2C%20-120.272432%5D%2C%20%5B34.153823%2C%20-118.466205%5D%2C%20%5B40.850591%2C%20-73.94751%5D%2C%20%5B34.029995%2C%20-117.580402%5D%2C%20%5B37.291993%2C%20-77.41086%5D%2C%20%5B38.025766%2C%20-122.259554%5D%2C%20%5B38.608751%2C%20-121.382899%5D%2C%20%5B38.849222%2C%20-76.96907399999998%5D%2C%20%5B33.984905%2C%20-118.13992%5D%2C%20%5B36.075665%2C%20-86.925961%5D%2C%20%5B33.638516%2C%20-117.861467%5D%2C%20%5B35.88085%2C%20-119.279301%5D%2C%20%5B33.162456%2C%20-96.643949%5D%2C%20%5B34.075292%2C%20-117.890098%5D%2C%20%5B37.063888%2C%20-77.838189%5D%2C%20%5B38.21434%2C%20-122.13794%5D%2C%20%5B39.983743%2C%20-75.097464%5D%2C%20%5B37.128839%2C%20-121.632167%5D%2C%20%5B33.356992%2C%20-117.15978%5D%2C%20%5B29.742361%2C%20-95.358163%5D%2C%20%5B38.921588%2C%20-76.931914%5D%2C%20%5B47.15908%2C%20-122.48378%5D%2C%20%5B45.073331%2C%20-93.286532%5D%2C%20%5B35.31715%2C%20-80.78023%5D%2C%20%5B35.90627%2C%20-78.88983%5D%2C%20%5B45.435431%2C%20-122.56657%5D%2C%20%5B41.767711%2C%20-72.656266%5D%2C%20%5B43.059129%2C%20-77.523333%5D%2C%20%5B38.49658%2C%20-122.2513%5D%2C%20%5B33.82603%2C%20-117.498497%5D%2C%20%5B36.916985%2C%20-76.26691%5D%2C%20%5B29.86013%2C%20-95.56378%5D%2C%20%5B38.611804%2C%20-121.425865%5D%2C%20%5B36.15472000000001%2C%20-86.69206%5D%2C%20%5B42.04844%2C%20-124.25745%5D%2C%20%5B25.764375%2C%20-80.265059%5D%2C%20%5B25.942272%2C%20-80.213196%5D%2C%20%5B25.73279%2C%20-80.25386999999998%5D%2C%20%5B33.68575%2C%20-84.30778000000002%5D%2C%20%5B33.91619%2C%20-118.23915%5D%2C%20%5B47.64311%2C%20-117.52217%5D%2C%20%5B35.782156%2C%20-78.584314%5D%2C%20%5B43.822488%2C%20-122.60798%5D%2C%20%5B34.128190000000004%2C%20-117.92009%5D%2C%20%5B40.690612%2C%20-73.726619%5D%2C%20%5B32.84148%2C%20-117.17426%5D%2C%20%5B34.272547%2C%20-118.552082%5D%2C%20%5B25.8664%2C%20-80.209826%5D%2C%20%5B33.662109%2C%20-80.276482%5D%2C%20%5B45.086716%2C%20-93.447488%5D%2C%20%5B43.143206%2C%20-124.39597%5D%2C%20%5B38.781151%2C%20-112.094819%5D%2C%20%5B28.495335%2C%20-81.396918%5D%2C%20%5B40.32829%2C%20-79.796442%5D%2C%20%5B40.315843%2C%20-74.48890300000002%5D%2C%20%5B44.51979%2C%20-93.29249%5D%2C%20%5B37.775384%2C%20-122.185295%5D%2C%20%5B39.210315%2C%20-94.638631%5D%2C%20%5B26.274847%2C%20-80.12519%5D%2C%20%5B38.55521%2C%20-121.40331%5D%2C%20%5B37.752501%2C%20-122.402997%5D%2C%20%5B39.29433%2C%20-102.27742%5D%2C%20%5B40.800021%2C%20-73.92697700000002%5D%2C%20%5B38.91952%2C%20-94.527624%5D%2C%20%5B38.948122%2C%20-77.61296800000002%5D%2C%20%5B34.316644000000004%2C%20-118.490647%5D%2C%20%5B32.941695%2C%20-96.768996%5D%2C%20%5B32.844546%2C%20-117.118931%5D%2C%20%5B35.398036%2C%20-77.90590300000002%5D%2C%20%5B34.04456%2C%20-84.30608000000002%5D%2C%20%5B42.176157%2C%20-88.160314%5D%2C%20%5B41.62511%2C%20-71.48669%5D%2C%20%5B33.44102%2C%20-86.728101%5D%2C%20%5B40.76788%2C%20-73.71458%5D%2C%20%5B36.762904%2C%20-76.20236%5D%2C%20%5B42.411378000000006%2C%20-83.166833%5D%2C%20%5B27.9815%2C%20-82.40169%5D%2C%20%5B47.618583%2C%20-122.352846%5D%2C%20%5B36.621357%2C%20-121.64478%5D%2C%20%5B40.759668%2C%20-73.927237%5D%2C%20%5B25.781553%2C%20-80.357834%5D%2C%20%5B40.448291%2C%20-109.53961%5D%2C%20%5B34.071931%2C%20-118.266914%5D%2C%20%5B32.740178%2C%20-96.832147%5D%2C%20%5B40.835968%2C%20-73.869569%5D%2C%20%5B39.701789%2C%20-84.366449%5D%2C%20%5B34.154133%2C%20-118.467958%5D%2C%20%5B30.439361%2C%20-91.020071%5D%2C%20%5B40.745469%2C%20-73.970404%5D%2C%20%5B38.802498%2C%20-77.109387%5D%2C%20%5B35.075035%2C%20-81.950778%5D%2C%20%5B40.89366%2C%20-111.881617%5D%2C%20%5B27.855816%2C%20-82.326554%5D%2C%20%5B29.965542%2C%20-90.110067%5D%2C%20%5B35.044887%2C%20-80.987532%5D%2C%20%5B44.85984000000001%2C%20-93.3863%5D%2C%20%5B38.66268%2C%20-90.35871%5D%2C%20%5B29.77766%2C%20-95.41073%5D%2C%20%5B37.9984%2C%20-121.8014%5D%2C%20%5B44.089648%2C%20-117.025789%5D%2C%20%5B38.58861%2C%20-121.29111%5D%2C%20%5B41.77030900000001%2C%20-72.681888%5D%2C%20%5B37.865206%2C%20-121.66765%5D%2C%20%5B32.837102%2C%20-97.005804%5D%2C%20%5B38.777436%2C%20-76.08574%5D%2C%20%5B35.122945%2C%20-85.240193%5D%2C%20%5B38.68129%2C%20-121.54022%5D%2C%20%5B38.946743%2C%20-78.200087%5D%2C%20%5B33.810911%2C%20-118.290395%5D%2C%20%5B34.896115%2C%20-81.994191%5D%2C%20%5B35.50333300000001%2C%20-119.53888899999998%5D%2C%20%5B30.361822%2C%20-97.744213%5D%2C%20%5B25.88678%2C%20-80.164451%5D%2C%20%5B34.256023%2C%20-87.867954%5D%2C%20%5B25.67628%2C%20-80.36148%5D%2C%20%5B36.95803%2C%20-121.551545%5D%2C%20%5B34.056166%2C%20-118.255995%5D%2C%20%5B43.851424%2C%20-117.03571200000002%5D%2C%20%5B29.499240000000004%2C%20-95.11167%5D%2C%20%5B33.79927%2C%20-112.03052%5D%2C%20%5B36.1817%2C%20-86.79969%5D%2C%20%5B35.083489%2C%20-80.72875400000002%5D%2C%20%5B43.084544%2C%20-121.823598%5D%2C%20%5B41.03087100000001%2C%20-73.599621%5D%2C%20%5B40.72775%2C%20-74.1294%5D%2C%20%5B33.458906%2C%20-117.655867%5D%2C%20%5B42.15983%2C%20-87.80538299999998%5D%2C%20%5B34.06943%2C%20-117.79716299999998%5D%2C%20%5B34.055609999999994%2C%20-84.00301999999998%5D%2C%20%5B36.11814%2C%20-86.80982900000002%5D%2C%20%5B33.831233000000005%2C%20-84.368121%5D%2C%20%5B42.331607%2C%20-83.08568199999998%5D%2C%20%5B40.53616%2C%20-75.73534000000002%5D%2C%20%5B33.935258000000005%2C%20-118.039354%5D%2C%20%5B32.925804%2C%20-96.811388%5D%2C%20%5B26.588545%2C%20-81.712938%5D%2C%20%5B38.660238%2C%20-121.262198%5D%2C%20%5B30.141262%2C%20-97.798277%5D%2C%20%5B29.64401%2C%20-95.57599%5D%2C%20%5B25.939703%2C%20-80.188672%5D%2C%20%5B33.900721999999995%2C%20-118.18693600000002%5D%2C%20%5B41.257222%2C%20-122.270833%5D%2C%20%5B43.169009%2C%20-77.643005%5D%2C%20%5B40.335746%2C%20-76.48491800000002%5D%2C%20%5B45.477179%2C%20-122.67974%5D%2C%20%5B27.19145%2C%20-82.43793000000002%5D%2C%20%5B33.546232%2C%20-83.19924300000002%5D%2C%20%5B34.361999%2C%20-119.315646%5D%2C%20%5B33.870388%2C%20-117.743664%5D%2C%20%5B43.64604%2C%20-122.19344%5D%2C%20%5B33.380961%2C%20-117.25245%5D%2C%20%5B39.069007%2C%20-121.512247%5D%2C%20%5B38.242732%2C%20-77.501775%5D%2C%20%5B39.359861%2C%20-76.504787%5D%2C%20%5B32.803709999999995%2C%20-117.21332%5D%2C%20%5B37.874502%2C%20-122.306023%5D%2C%20%5B39.006413%2C%20-78.30548%5D%2C%20%5B40.328289%2C%20-79.796437%5D%2C%20%5B27.461622%2C%20-82.587556%5D%2C%20%5B29.78511%2C%20-95.4521%5D%2C%20%5B43.01966%2C%20-85.73106%5D%2C%20%5B40.585545%2C%20-111.899904%5D%2C%20%5B42.984693%2C%20-83.733409%5D%2C%20%5B33.677236%2C%20-117.323784%5D%2C%20%5B36.989036%2C%20-122.00203%5D%2C%20%5B39.75044000000001%2C%20-75.50480999999998%5D%2C%20%5B28.477369%2C%20-81.417613%5D%2C%20%5B44.76795%2C%20-94.05065%5D%2C%20%5B41.81013%2C%20-88.05958000000004%5D%2C%20%5B32.764073%2C%20-97.320359%5D%2C%20%5B32.80603%2C%20-117.219012%5D%2C%20%5B46.39666500000001%2C%20-112.774324%5D%2C%20%5B32.376639000000004%2C%20-81.842118%5D%2C%20%5B42.34836%2C%20-83.10468%5D%2C%20%5B38.79691%2C%20-84.48273%5D%2C%20%5B37.70027%2C%20-121.77743999999998%5D%2C%20%5B36.191958%2C%20-79.701808%5D%2C%20%5B37.34666%2C%20-77.496296%5D%2C%20%5B38.65782%2C%20-121.36338%5D%2C%20%5B42.67349%2C%20-84.64761899999998%5D%2C%20%5B29.56351%2C%20-98.537738%5D%2C%20%5B27.990655%2C%20-82.73174%5D%2C%20%5B30.543123%2C%20-91.028074%5D%2C%20%5B37.57407%2C%20-122.31736%5D%2C%20%5B41.245595%2C%20-73.10045600000002%5D%2C%20%5B35.666437%2C%20-120.359278%5D%2C%20%5B25.843623%2C%20-80.206304%5D%2C%20%5B33.446659999999994%2C%20-111.66406%5D%2C%20%5B36.840525%2C%20-76.096361%5D%2C%20%5B32.719744%2C%20-96.715486%5D%2C%20%5B45.53173%2C%20-122.63325%5D%2C%20%5B30.42552%2C%20-97.67142%5D%2C%20%5B28.43973%2C%20-81.229938%5D%2C%20%5B36.950057%2C%20-121.552809%5D%2C%20%5B33.921378000000004%2C%20-81.285312%5D%2C%20%5B25.573781%2C%20-80.374191%5D%2C%20%5B36.06102%2C%20-96.00905%5D%2C%20%5B33.94889000000001%2C%20-118.27982%5D%2C%20%5B36.587036%2C%20-87.404383%5D%2C%20%5B38.652835%2C%20-121.26935%5D%2C%20%5B27.462481%2C%20-82.61999399999998%5D%2C%20%5B33.178317%2C%20-79.917098%5D%2C%20%5B42.340182%2C%20-120.888029%5D%2C%20%5B43.01848%2C%20-78.192948%5D%2C%20%5B45.6145%2C%20-122.67756%5D%2C%20%5B37.31856%2C%20-121.88965%5D%2C%20%5B25.729657%2C%20-80.401606%5D%2C%20%5B39.79106%2C%20-105.05326%5D%2C%20%5B43.43986%2C%20-121.29532%5D%2C%20%5B36.16992800000001%2C%20-86.756182%5D%2C%20%5B38.85001%2C%20-104.80294%5D%2C%20%5B33.858187%2C%20-118.202178%5D%2C%20%5B30.150406%2C%20-85.747541%5D%2C%20%5B28.577875%2C%20-81.45242900000002%5D%2C%20%5B34.117519%2C%20-117.851065%5D%2C%20%5B32.181175%2C%20-110.951174%5D%2C%20%5B33.932598%2C%20-117.410465%5D%2C%20%5B36.071539%2C%20-115.172532%5D%2C%20%5B36.883075%2C%20-113.942484%5D%2C%20%5B41.86616%2C%20-87.72515%5D%2C%20%5B37.17803%2C%20-76.55326%5D%2C%20%5B43.03877%2C%20-76.14205%5D%2C%20%5B39.548537%2C%20-77.802424%5D%2C%20%5B37.149077%2C%20-121.648946%5D%2C%20%5B33.916344%2C%20-118.261453%5D%2C%20%5B34.015370000000004%2C%20-118.05532%5D%2C%20%5B38.148736%2C%20-122.380732%5D%2C%20%5B41.738772%2C%20-74.06506999999998%5D%2C%20%5B38.818749%2C%20-77.221801%5D%2C%20%5B27.290478000000004%2C%20-80.420211%5D%2C%20%5B33.5814%2C%20-84.51745%5D%2C%20%5B41.30668%2C%20-112.02701%5D%2C%20%5B41.517795%2C%20-94.128917%5D%2C%20%5B33.025893%2C%20-96.852464%5D%2C%20%5B37.008348%2C%20-122.020753%5D%2C%20%5B34.108314%2C%20-117.266526%5D%2C%20%5B35.018609000000005%2C%20-85.287723%5D%2C%20%5B27.937662%2C%20-82.289381%5D%2C%20%5B44.88042700000001%2C%20-93.296231%5D%2C%20%5B28.411807%2C%20-81.470916%5D%2C%20%5B36.627827%2C%20-87.311986%5D%2C%20%5B33.387281%2C%20-117.176971%5D%2C%20%5B33.992956%2C%20-117.870861%5D%2C%20%5B39.763317%2C%20-86.25029%5D%2C%20%5B33.979221%2C%20-118.2806%5D%2C%20%5B37.518149%2C%20-77.426415%5D%2C%20%5B37.866056%2C%20-121.219107%5D%2C%20%5B33.927171%2C%20-117.288835%5D%2C%20%5B44.88977%2C%20-93.35351%5D%2C%20%5B41.65501%2C%20-70.98803000000002%5D%2C%20%5B40.77117%2C%20-112.02751%5D%2C%20%5B28.452939%2C%20-81.400159%5D%2C%20%5B39.709483%2C%20-82.61786500000002%5D%2C%20%5B34.09066%2C%20-117.30178%5D%2C%20%5B39.571391%2C%20-77.432681%5D%2C%20%5B39.54974%2C%20-94.27052%5D%2C%20%5B30.416477%2C%20-91.143324%5D%2C%20%5B38.683653%2C%20-120.854362%5D%2C%20%5B39.232188%2C%20-76.64934699999998%5D%2C%20%5B33.422418%2C%20-112.021567%5D%2C%20%5B37.187065%2C%20-118.305337%5D%2C%20%5B40.688799%2C%20-73.808737%5D%2C%20%5B47.58004%2C%20-122.18127%5D%2C%20%5B25.731925%2C%20-80.317114%5D%2C%20%5B33.914204%2C%20-117.882517%5D%2C%20%5B35.122086%2C%20-82.64474399999997%5D%2C%20%5B41.293248%2C%20-72.919748%5D%2C%20%5B33.356733%2C%20-117.111236%5D%2C%20%5B28.325587%2C%20-81.55184%5D%2C%20%5B32.761454%2C%20-117.165776%5D%2C%20%5B38.220354%2C%20-122.607041%5D%2C%20%5B39.088121%2C%20-76.625164%5D%2C%20%5B43.80386%2C%20-123.04337%5D%2C%20%5B28.536963%2C%20-81.310463%5D%2C%20%5B34.311440000000005%2C%20-86.90325%5D%2C%20%5B33.807614%2C%20-117.235159%5D%2C%20%5B34.1906%2C%20-117.36087%5D%2C%20%5B35.095606%2C%20-85.270638%5D%2C%20%5B42.957293%2C%20-83.725306%5D%2C%20%5B40.653112%2C%20-111.888411%5D%2C%20%5B37.578381%2C%20-77.466713%5D%2C%20%5B34.054889%2C%20-118.212024%5D%2C%20%5B38.673623%2C%20-121.723033%5D%2C%20%5B28.553041%2C%20-81.381557%5D%2C%20%5B37.472113%2C%20-122.204504%5D%2C%20%5B32.890741%2C%20-117.227263%5D%2C%20%5B30.190404%2C%20-81.678012%5D%2C%20%5B45.018239%2C%20-122.98941%5D%2C%20%5B40.849689%2C%20-73.94211800000002%5D%2C%20%5B44.866629%2C%20-93.247479%5D%2C%20%5B38.01101%2C%20-78.476339%5D%2C%20%5B34.136431%2C%20-117.560211%5D%2C%20%5B40.660815%2C%20-73.840379%5D%2C%20%5B41.974421%2C%20-123.740595%5D%2C%20%5B28.89855%2C%20-82.576652%5D%2C%20%5B33.848890000000004%2C%20-118.09397%5D%2C%20%5B34.020355%2C%20-118.037522%5D%2C%20%5B33.928023%2C%20-118.028944%5D%2C%20%5B33.901561%2C%20-118.061162%5D%2C%20%5B39.630035%2C%20-104.905278%5D%2C%20%5B42.41525%2C%20-83.08518000000002%5D%2C%20%5B33.570903%2C%20-117.65895%5D%2C%20%5B38.4204%2C%20-82.29361999999998%5D%2C%20%5B25.83733%2C%20-80.32194%5D%2C%20%5B37.323467%2C%20-121.929876%5D%2C%20%5B42.454968%2C%20-123.32261%5D%2C%20%5B35.110888%2C%20-85.229338%5D%2C%20%5B33.87611%2C%20-118.16531%5D%2C%20%5B47.608292%2C%20-114.625931%5D%2C%20%5B30.508540000000004%2C%20-88.3349%5D%2C%20%5B30.053561%2C%20-95.728758%5D%2C%20%5B28.537185%2C%20-81.475727%5D%2C%20%5B39.14744%2C%20-84.53922%5D%2C%20%5B39.03766%2C%20-94.36184%5D%2C%20%5B34.134353999999995%2C%20-117.674277%5D%2C%20%5B40.087891%2C%20-75.26299200000003%5D%2C%20%5B30.464186%2C%20-85.044863%5D%2C%20%5B34.221636%2C%20-118.472744%5D%2C%20%5B39.023034%2C%20-119.945413%5D%2C%20%5B33.967521000000005%2C%20-118.225201%5D%2C%20%5B34.027611%2C%20-118.2322%5D%2C%20%5B34.146186%2C%20-118.027908%5D%2C%20%5B35.91226%2C%20-78.655491%5D%2C%20%5B35.75423%2C%20-78.64144%5D%2C%20%5B25.733064%2C%20-80.323708%5D%2C%20%5B40.088136%2C%20-111.665847%5D%2C%20%5B27.862986%2C%20-82.326513%5D%2C%20%5B40.974847%2C%20-73.703613%5D%2C%20%5B33.86713%2C%20-117.711686%5D%2C%20%5B41.82958%2C%20-71.41801%5D%2C%20%5B45.408932%2C%20-122.626463%5D%2C%20%5B46.107385%2C%20-112.797095%5D%2C%20%5B32.792628%2C%20-96.873815%5D%2C%20%5B34.229594%2C%20-117.222101%5D%2C%20%5B34.066457%2C%20-117.13447%5D%2C%20%5B29.44035%2C%20-98.509393%5D%2C%20%5B38.906031%2C%20-122.671376%5D%2C%20%5B32.435353000000006%2C%20-93.783119%5D%2C%20%5B33.974052%2C%20-118.0799%5D%2C%20%5B37.592782%2C%20-77.481287%5D%2C%20%5B32.676162%2C%20-97.024322%5D%2C%20%5B35.77216%2C%20-78.71938%5D%2C%20%5B44.0124%2C%20-123.781574%5D%2C%20%5B39.608712%2C%20-84.160726%5D%2C%20%5B41.24908%2C%20-76.848989%5D%2C%20%5B34.029848%2C%20-118.442716%5D%2C%20%5B39.16086%2C%20-78.15511%5D%2C%20%5B33.327895%2C%20-117.162548%5D%2C%20%5B33.887633%2C%20-117.327895%5D%2C%20%5B43.673508%2C%20-122.239477%5D%2C%20%5B25.944054%2C%20-80.147889%5D%2C%20%5B34.02782%2C%20-117.57225%5D%2C%20%5B39.261666%2C%20-120.071929%5D%2C%20%5B45.540223%2C%20-122.68016%5D%2C%20%5B38.510338%2C%20-121.460052%5D%2C%20%5B37.213538%2C%20-119.708539%5D%2C%20%5B34.020495000000004%2C%20-118.194105%5D%2C%20%5B34.072628%2C%20-118.058409%5D%2C%20%5B34.160605%2C%20-118.38093%5D%2C%20%5B40.305813%2C%20-79.884475%5D%2C%20%5B40.18641%2C%20-76.18841%5D%2C%20%5B33.910578%2C%20-118.070636%5D%2C%20%5B38.573787%2C%20-77.315841%5D%2C%20%5B33.865576000000004%2C%20-118.04878%5D%2C%20%5B41.75826%2C%20-72.700841%5D%2C%20%5B44.753787%2C%20-89.24455999999998%5D%2C%20%5B41.52638%2C%20-93.61128%5D%2C%20%5B38.344591%2C%20-122.001404%5D%2C%20%5B30.011839%2C%20-82.35958000000002%5D%2C%20%5B40.019178%2C%20-75.818203%5D%2C%20%5B37.024436%2C%20-121.987781%5D%2C%20%5B34.121164%2C%20-117.832242%5D%2C%20%5B27.783303000000004%2C%20-82.717572%5D%2C%20%5B45.96964000000001%2C%20-94.107116%5D%2C%20%5B38.546131%2C%20-121.725062%5D%2C%20%5B34.446548%2C%20-118.611005%5D%2C%20%5B26.1337%2C%20-80.39305999999998%5D%2C%20%5B34.181567%2C%20-118.887487%5D%2C%20%5B32.759245%2C%20-97.001155%5D%2C%20%5B38.882246%2C%20-77.02579200000002%5D%2C%20%5B43.735626%2C%20-124.111354%5D%2C%20%5B34.959351%2C%20-120.536484%5D%2C%20%5B40.9148%2C%20-73.7829%5D%2C%20%5B33.896448%2C%20-98.527905%5D%2C%20%5B38.748789%2C%20-77.448899%5D%2C%20%5B33.383918%2C%20-117.579453%5D%2C%20%5B34.127588%2C%20-118.273717%5D%2C%20%5B47.310455%2C%20-122.580874%5D%2C%20%5B40.495192%2C%20-86.864267%5D%2C%20%5B42.97851%2C%20-78.78341%5D%2C%20%5B43.81173%2C%20-93.79776%5D%2C%20%5B40.777188%2C%20-77.20780500000002%5D%2C%20%5B30.42514000000001%2C%20-91.15919%5D%2C%20%5B42.351967%2C%20-87.939047%5D%2C%20%5B44.963012%2C%20-93.213691%5D%2C%20%5B42.895295%2C%20-78.76737800000002%5D%2C%20%5B35.768789%2C%20-78.617345%5D%2C%20%5B38.926025%2C%20-77.42983000000002%5D%2C%20%5B39.896442%2C%20-83.04691%5D%2C%20%5B37.110483%2C%20-76.49785%5D%2C%20%5B44.954898%2C%20-93.073838%5D%2C%20%5B44.757046%2C%20-122.435827%5D%2C%20%5B47.175405%2C%20-122.46753%5D%2C%20%5B34.037393%2C%20-117.321076%5D%2C%20%5B25.609377%2C%20-80.3517%5D%2C%20%5B37.246023%2C%20-78.443692%5D%2C%20%5B27.842581%2C%20-82.646913%5D%2C%20%5B42.401%2C%20-88.11036999999996%5D%2C%20%5B32.779945%2C%20-117.096875%5D%2C%20%5B39.30187%2C%20-80.27828000000002%5D%2C%20%5B44.74492%2C%20-123.01156%5D%2C%20%5B37.74205900000001%2C%20-121.52603%5D%2C%20%5B39.152957%2C%20-77.540223%5D%2C%20%5B45.57063%2C%20-122.549945%5D%2C%20%5B25.76861%2C%20-80.367676%5D%2C%20%5B25.776889%2C%20-80.32119399999998%5D%2C%20%5B41.124679%2C%20-80.750035%5D%2C%20%5B25.688012%2C%20-80.384015%5D%2C%20%5B34.025290000000005%2C%20-117.72726000000002%5D%2C%20%5B40.980911%2C%20-74.085233%5D%2C%20%5B29.177138%2C%20-96.26081%5D%2C%20%5B28.324496000000003%2C%20-82.52296199999998%5D%2C%20%5B27.760601%2C%20-82.648742%5D%2C%20%5B25.944475%2C%20-80.294177%5D%2C%20%5B42.949493%2C%20-123.329954%5D%2C%20%5B40.83618%2C%20-73.87646%5D%2C%20%5B47.229098%2C%20-114.975775%5D%2C%20%5B40.75682000000001%2C%20-74.054299%5D%2C%20%5B25.809449%2C%20-80.258821%5D%2C%20%5B36.581039%2C%20-120.197533%5D%2C%20%5B41.458202%2C%20-81.69234200000002%5D%2C%20%5B40.645317%2C%20-73.970477%5D%2C%20%5B34.867858%2C%20-82.522265%5D%2C%20%5B39.88685%2C%20-75.2152%5D%2C%20%5B39.254959%2C%20-76.688078%5D%2C%20%5B34.979143%2C%20-81.94891700000002%5D%2C%20%5B34.040115%2C%20-118.579408%5D%2C%20%5B34.103969%2C%20-118.19098%5D%2C%20%5B34.02368%2C%20-117.76543999999998%5D%2C%20%5B30.442465%2C%20-91.223003%5D%2C%20%5B41.610171%2C%20-72.90065%5D%2C%20%5B34.029961%2C%20-117.71098899999998%5D%2C%20%5B34.430616%2C%20-82.240051%5D%2C%20%5B25.882665%2C%20-80.361159%5D%2C%20%5B33.91328%2C%20-118.13501%5D%2C%20%5B33.61902%2C%20-112.41783999999998%5D%2C%20%5B36.845923%2C%20-80.859493%5D%2C%20%5B34.529053999999995%2C%20-117.302655%5D%2C%20%5B44.932635%2C%20-93.071686%5D%2C%20%5B33.646559%2C%20-84.39827%5D%2C%20%5B34.546025%2C%20-81.17168000000002%5D%2C%20%5B33.426563%2C%20-117.149927%5D%2C%20%5B32.846471%2C%20-117.201322%5D%2C%20%5B40.693579%2C%20-73.547827%5D%2C%20%5B45.059172%2C%20-123.590999%5D%2C%20%5B34.962144%2C%20-82.05517900000002%5D%2C%20%5B29.817332%2C%20-95.427733%5D%2C%20%5B38.32837%2C%20-85.54568%5D%2C%20%5B36.26825%2C%20-121.805435%5D%2C%20%5B37.574501%2C%20-77.48225%5D%2C%20%5B26.114474%2C%20-80.311418%5D%2C%20%5B42.48059%2C%20-71.02261999999997%5D%2C%20%5B48.237372%2C%20-122.319083%5D%2C%20%5B33.487948%2C%20-80.92191899999997%5D%2C%20%5B33.900677%2C%20-118.326513%5D%2C%20%5B33.913763%2C%20-79.14826500000002%5D%2C%20%5B42.216913%2C%20-122.711136%5D%2C%20%5B38.497698%2C%20-121.102958%5D%2C%20%5B46.728905%2C%20-92.134853%5D%2C%20%5B41.05082700000001%2C%20-73.533332%5D%2C%20%5B28.29314%2C%20-80.74398000000002%5D%2C%20%5B33.488756%2C%20-112.264007%5D%2C%20%5B34.364909999999995%2C%20-117.43111%5D%2C%20%5B40.002371%2C%20-76.09237900000002%5D%2C%20%5B33.84766%2C%20-117.87091%5D%2C%20%5B40.821043%2C%20-74.027606%5D%2C%20%5B30.47885%2C%20-91.003499%5D%2C%20%5B41.8926%2C%20-87.92059%5D%2C%20%5B40.803%2C%20-73.44485999999998%5D%2C%20%5B38.92041%2C%20-76.85283000000003%5D%2C%20%5B38.052608%2C%20-84.457788%5D%2C%20%5B43.53944600000001%2C%20-119.437408%5D%2C%20%5B27.447751%2C%20-82.573305%5D%2C%20%5B45.12998%2C%20-93.39108%5D%2C%20%5B34.135219%2C%20-118.358888%5D%2C%20%5B35.379644%2C%20-118.949615%5D%2C%20%5B45.544425%2C%20-122.524595%5D%2C%20%5B43.933006%2C%20-91.886376%5D%2C%20%5B34.02391%2C%20-117.76547%5D%2C%20%5B38.61885%2C%20-77.297951%5D%2C%20%5B40.6869%2C%20-73.59444%5D%2C%20%5B41.30367%2C%20-73.03426999999998%5D%2C%20%5B30.356693%2C%20-97.672117%5D%2C%20%5B26.62223%2C%20-80.06739%5D%2C%20%5B43.71444%2C%20-89.88895%5D%2C%20%5B32.511087%2C%20-92.181376%5D%2C%20%5B33.91664%2C%20-117.43883999999998%5D%2C%20%5B29.693083%2C%20-95.525677%5D%2C%20%5B25.768661%2C%20-80.365911%5D%2C%20%5B43.11926500000001%2C%20-83.753977%5D%2C%20%5B33.583551%2C%20-117.630789%5D%2C%20%5B38.76594%2C%20-77.05344000000002%5D%2C%20%5B30.365991%2C%20-91.132738%5D%2C%20%5B34.163435%2C%20-118.626419%5D%2C%20%5B39.871873%2C%20-75.023697%5D%2C%20%5B34.491834999999995%2C%20-119.796499%5D%2C%20%5B32.990267%2C%20-80.085371%5D%2C%20%5B25.210629%2C%20-80.423709%5D%2C%20%5B38.583241%2C%20-119.78924%5D%2C%20%5B37.54896%2C%20-122.31527%5D%2C%20%5B30.533186%2C%20-85.13297800000002%5D%2C%20%5B39.170448%2C%20-111.827409%5D%2C%20%5B40.018031%2C%20-76.741939%5D%2C%20%5B34.200537%2C%20-81.364228%5D%2C%20%5B35.84213%2C%20-78.575092%5D%2C%20%5B43.362422%2C%20-108.115051%5D%2C%20%5B39.013427%2C%20-77.03878900000002%5D%2C%20%5B42.8723%2C%20-89.05676%5D%2C%20%5B45.90541500000001%2C%20-123.772506%5D%2C%20%5B25.734217%2C%20-80.335882%5D%2C%20%5B36.142015%2C%20-86.627537%5D%2C%20%5B36.12143%2C%20-86.75633%5D%2C%20%5B33.773671%2C%20-84.39004%5D%2C%20%5B34.173793%2C%20-118.849258%5D%2C%20%5B35.197384%2C%20-80.790766%5D%2C%20%5B39.654132%2C%20-121.548539%5D%2C%20%5B39.181848%2C%20-76.784144%5D%2C%20%5B44.950957%2C%20-92.8091%5D%2C%20%5B34.01158%2C%20-118.41809%5D%2C%20%5B38.00151%2C%20-86.831577%5D%2C%20%5B32.936207%2C%20-96.902257%5D%2C%20%5B34.154273%2C%20-118.322721%5D%2C%20%5B38.212204%2C%20-121.558514%5D%2C%20%5B30.20021%2C%20-90.12281%5D%2C%20%5B25.830748%2C%20-80.317863%5D%2C%20%5B41.170374%2C%20-75.426346%5D%2C%20%5B29.797004%2C%20-95.31687%5D%2C%20%5B35.013603%2C%20-85.18279%5D%2C%20%5B32.717565%2C%20-96.700079%5D%2C%20%5B36.856814%2C%20-75.99155%5D%2C%20%5B34.745861%2C%20-82.3131%5D%2C%20%5B40.749672%2C%20-73.61585600000002%5D%2C%20%5B33.98632%2C%20-80.21343900000002%5D%2C%20%5B34.099308%2C%20-118.313623%5D%2C%20%5B37.73137%2C%20-122.42359%5D%2C%20%5B40.303255%2C%20-121.226547%5D%2C%20%5B34.015689%2C%20-118.055251%5D%2C%20%5B32.84552%2C%20-96.582359%5D%2C%20%5B37.312263%2C%20-77.454782%5D%2C%20%5B42.34814%2C%20-83.10587%5D%2C%20%5B34.02414%2C%20-118.42779%5D%2C%20%5B44.0788%2C%20-121.30465%5D%2C%20%5B39.101463%2C%20-121.501424%5D%2C%20%5B34.03474%2C%20-118.34277%5D%2C%20%5B37.64121%2C%20-118.917014%5D%2C%20%5B25.96314%2C%20-80.157523%5D%2C%20%5B36.69989%2C%20-119.745658%5D%2C%20%5B35.97432%2C%20-120.89848%5D%2C%20%5B29.777786%2C%20-95.372441%5D%2C%20%5B33.937%2C%20-118.279674%5D%2C%20%5B40.874623%2C%20-73.87113599999998%5D%2C%20%5B37.56497%2C%20-121.90177%5D%2C%20%5B28.606864%2C%20-82.19946%5D%2C%20%5B43.10399%2C%20-73.57965%5D%2C%20%5B35.202332%2C%20-80.760577%5D%2C%20%5B42.1903%2C%20-88.10171%5D%2C%20%5B33.58186%2C%20-112.12208%5D%2C%20%5B30.513936%2C%20-87.27113100000004%5D%2C%20%5B33.883606%2C%20-117.639788%5D%2C%20%5B37.750228%2C%20-122.392204%5D%2C%20%5B32.697321%2C%20-96.260224%5D%2C%20%5B41.7357%2C%20-87.56617%5D%2C%20%5B34.278224%2C%20-81.069778%5D%2C%20%5B42.94488%2C%20-78.766189%5D%2C%20%5B34.13315%2C%20-117.229853%5D%2C%20%5B45.349255%2C%20-122.656806%5D%2C%20%5B38.68911%2C%20-121.372189%5D%2C%20%5B45.02701%2C%20-92.9718%5D%2C%20%5B40.77133%2C%20-74.15678%5D%2C%20%5B25.811457%2C%20-80.196432%5D%2C%20%5B34.13966%2C%20-80.754607%5D%2C%20%5B37.578755%2C%20-121.876664%5D%2C%20%5B40.376798%2C%20-77.002188%5D%2C%20%5B29.30342700000001%2C%20-81.969957%5D%2C%20%5B37.273206%2C%20-121.863232%5D%2C%20%5B34.120962%2C%20-117.832797%5D%2C%20%5B35.33557800000001%2C%20-119.003087%5D%2C%20%5B35.181111%2C%20-80.89081800000002%5D%2C%20%5B33.917766%2C%20-118.179148%5D%2C%20%5B37.757559%2C%20-121.151676%5D%2C%20%5B28.499309000000004%2C%20-81.285516%5D%2C%20%5B38.998784%2C%20-122.556966%5D%2C%20%5B34.054704%2C%20-118.186977%5D%2C%20%5B33.60504%2C%20-80.86163%5D%2C%20%5B38.218887%2C%20-122.230661%5D%2C%20%5B40.094293%2C%20-76.112884%5D%2C%20%5B30.64002%2C%20-88.20785%5D%2C%20%5B34.221166%2C%20-118.396519%5D%2C%20%5B35.06454%2C%20-80.765527%5D%2C%20%5B38.47537%2C%20-121.42383%5D%2C%20%5B25.78411%2C%20-80.28856999999998%5D%2C%20%5B47.12201%2C%20-122.43488%5D%2C%20%5B45.882371%2C%20-111.906062%5D%2C%20%5B39.377469%2C%20-121.706674%5D%2C%20%5B40.00453%2C%20-75.229013%5D%2C%20%5B25.923052%2C%20-80.309213%5D%2C%20%5B33.89621%2C%20-84.36313%5D%2C%20%5B41.8818%2C%20-87.64596999999998%5D%2C%20%5B40.485278%2C%20-74.42280799999997%5D%2C%20%5B32.85392%2C%20-96.64543%5D%2C%20%5B33.569658000000004%2C%20-117.67206000000002%5D%2C%20%5B34.063839%2C%20-117.811951%5D%2C%20%5B38.012314%2C%20-122.513824%5D%2C%20%5B32.87223%2C%20-96.67977%5D%2C%20%5B45.404868%2C%20-122.74418500000002%5D%2C%20%5B38.585584%2C%20-77.30763%5D%2C%20%5B35.772269%2C%20-78.64301%5D%2C%20%5B42.566918%2C%20-122.813718%5D%2C%20%5B38.97424%2C%20-94.77655%5D%2C%20%5B45.010329%2C%20-93.16597%5D%2C%20%5B42.49573%2C%20-83.36595%5D%2C%20%5B34.06295%2C%20-117.29654%5D%2C%20%5B34.041384%2C%20-118.06758899999998%5D%2C%20%5B42.25196%2C%20-83.30088%5D%2C%20%5B29.623909%2C%20-95.404654%5D%2C%20%5B45.52749%2C%20-122.68677%5D%2C%20%5B37.344611%2C%20-120.613004%5D%2C%20%5B33.93224%2C%20-118.28082%5D%2C%20%5B33.97056%2C%20-118.3753%5D%2C%20%5B25.568758%2C%20-80.362812%5D%2C%20%5B32.031487%2C%20-81.11958100000003%5D%2C%20%5B40.964525%2C%20-76.617533%5D%2C%20%5B36.803063%2C%20-76.370417%5D%2C%20%5B39.974259%2C%20-75.615431%5D%2C%20%5B32.760026%2C%20-117.17276%5D%2C%20%5B33.453636%2C%20-86.74478%5D%2C%20%5B43.595782%2C%20-123.242186%5D%2C%20%5B30.27915%2C%20-97.71155%5D%2C%20%5B34.57663%2C%20-118.13353%5D%2C%20%5B37.549323%2C%20-122.292495%5D%2C%20%5B32.7789%2C%20-117.101994%5D%2C%20%5B34.363289%2C%20-119.314872%5D%2C%20%5B37.187492%2C%20-76.559191%5D%2C%20%5B33.94851%2C%20-117.301495%5D%2C%20%5B43.130901%2C%20-77.450923%5D%2C%20%5B35.047212%2C%20-91.99186%5D%2C%20%5B34.024195%2C%20-117.750004%5D%2C%20%5B40.556792%2C%20-75.998772%5D%2C%20%5B37.85475%2C%20-122.21888%5D%2C%20%5B38.687605%2C%20-109.69588600000002%5D%2C%20%5B37.180876%2C%20-113.00602%5D%2C%20%5B35.843077%2C%20-119.264734%5D%2C%20%5B42.40635%2C%20-83.16209%5D%2C%20%5B30.278202%2C%20-97.518381%5D%2C%20%5B40.788245%2C%20-78.235886%5D%2C%20%5B36.76332100000001%2C%20-121.752919%5D%2C%20%5B38.668512%2C%20-122.588103%5D%2C%20%5B36.979549%2C%20-120.08213%5D%2C%20%5B39.97228%2C%20-111.7764%5D%2C%20%5B34.061159%2C%20-118.456639%5D%2C%20%5B40.022763%2C%20-76.367086%5D%2C%20%5B36.046348%2C%20-86.713363%5D%2C%20%5B43.63002%2C%20-122.1466%5D%2C%20%5B35.123258%2C%20-78.930791%5D%2C%20%5B40.68326%2C%20-75.29585%5D%2C%20%5B33.40737%2C%20-111.948138%5D%2C%20%5B33.488741999999995%2C%20-112.263997%5D%2C%20%5B33.870228000000004%2C%20-117.669681%5D%2C%20%5B29.81157%2C%20-95.34702%5D%2C%20%5B41.92449000000001%2C%20-87.75613%5D%2C%20%5B39.031%2C%20-94.68883%5D%2C%20%5B32.767526000000004%2C%20-117.129059%5D%2C%20%5B34.169094%2C%20-80.87311700000002%5D%2C%20%5B37.73567%2C%20-120.9953%5D%2C%20%5B33.673661%2C%20-82.176979%5D%2C%20%5B38.82214000000001%2C%20-76.88781%5D%2C%20%5B29.74814000000001%2C%20-95.38966%5D%2C%20%5B36.685763%2C%20-119.75103%5D%2C%20%5B35.51971%2C%20-78.289357%5D%2C%20%5B32.739646%2C%20-96.665515%5D%2C%20%5B44.86223%2C%20-93.263126%5D%2C%20%5B33.009944%2C%20-117.263956%5D%2C%20%5B34.106488%2C%20-117.47418799999998%5D%2C%20%5B42.91373400000001%2C%20-83.79128100000001%5D%2C%20%5B40.77122%2C%20-73.87699%5D%2C%20%5B34.635778%2C%20-81.792171%5D%2C%20%5B34.031331%2C%20-118.1924%5D%2C%20%5B25.758283%2C%20-80.36819100000002%5D%2C%20%5B40.949102%2C%20-74.072109%5D%2C%20%5B38.625472%2C%20-77.294729%5D%2C%20%5B43.63958%2C%20-122.17557%5D%2C%20%5B37.771787%2C%20-122.224189%5D%2C%20%5B25.559439%2C%20-80.35583000000003%5D%2C%20%5B34.156696999999994%2C%20-118.641165%5D%2C%20%5B28.51271%2C%20-81.39814%5D%2C%20%5B45.809608%2C%20-119.38331%5D%2C%20%5B37.592688%2C%20-122.056499%5D%2C%20%5B33.08852%2C%20-80.65088%5D%2C%20%5B44.92151%2C%20-122.99028%5D%2C%20%5B29.977385%2C%20-90.178666%5D%2C%20%5B34.193665%2C%20-79.767895%5D%2C%20%5B33.772240000000004%2C%20-117.90885%5D%2C%20%5B27.79198%2C%20-82.33479%5D%2C%20%5B42.38966%2C%20-122.47444%5D%2C%20%5B33.994928%2C%20-117.36116%5D%2C%20%5B37.509847%2C%20-122.488083%5D%2C%20%5B39.00556%2C%20-94.69402%5D%2C%20%5B36.652182%2C%20-82.081271%5D%2C%20%5B33.33582%2C%20-111.73814%5D%2C%20%5B27.050227000000003%2C%20-82.247863%5D%2C%20%5B34.024031%2C%20-117.770929%5D%2C%20%5B26.180894%2C%20-80.15347299999998%5D%2C%20%5B26.623617%2C%20-80.173727%5D%2C%20%5B40.157373%2C%20-76.61014899999998%5D%2C%20%5B44.827787%2C%20-93.559903%5D%2C%20%5B34.061569%2C%20-118.456991%5D%2C%20%5B38.653586%2C%20-121.343849%5D%2C%20%5B38.551722%2C%20-121.418677%5D%2C%20%5B34.506307%2C%20-117.323309%5D%2C%20%5B38.348258%2C%20-77.483246%5D%2C%20%5B28.367608%2C%20-81.502606%5D%2C%20%5B33.937615%2C%20-117.123581%5D%2C%20%5B31.901239%2C%20-106.447009%5D%2C%20%5B37.187836%2C%20-121.688818%5D%2C%20%5B40.666588%2C%20-73.99514%5D%2C%20%5B30.42836%2C%20-91.1712%5D%2C%20%5B29.496242%2C%20-98.552142%5D%2C%20%5B34.154999%2C%20-118.240091%5D%2C%20%5B34.030333%2C%20-117.643624%5D%2C%20%5B35.64247%2C%20-78.838824%5D%2C%20%5B40.081203%2C%20-75.386951%5D%2C%20%5B36.948551%2C%20-120.047973%5D%2C%20%5B44.306317%2C%20-124.101747%5D%2C%20%5B34.667359999999995%2C%20-118.324273%5D%2C%20%5B32.837072%2C%20-96.989241%5D%2C%20%5B38.59957%2C%20-121.44106%5D%2C%20%5B38.983238%2C%20-121.86682%5D%2C%20%5B33.635524%2C%20-86.622626%5D%2C%20%5B40.691529%2C%20-73.532661%5D%2C%20%5B32.83149%2C%20-96.78093%5D%2C%20%5B36.811043%2C%20-119.890658%5D%2C%20%5B29.779351%2C%20-95.450664%5D%2C%20%5B36.777538%2C%20-76.248389%5D%2C%20%5B37.530552%2C%20-77.364939%5D%2C%20%5B41.19055%2C%20-111.97117%5D%2C%20%5B39.718579%2C%20-86.12916700000002%5D%2C%20%5B35.374107%2C%20-118.949621%5D%2C%20%5B36.04735%2C%20-86.611482%5D%2C%20%5B34.93818%2C%20-82.35154%5D%2C%20%5B27.462412%2C%20-82.606778%5D%2C%20%5B33.967274%2C%20-118.158819%5D%2C%20%5B35.23724199999999%2C%20-80.77585400000002%5D%2C%20%5B32.694571%2C%20-117.126117%5D%2C%20%5B37.03752%2C%20-76.39118%5D%2C%20%5B37.75842%2C%20-122.212142%5D%2C%20%5B44.64526%2C%20-93.29593%5D%2C%20%5B37.651486%2C%20-77.611811%5D%2C%20%5B39.267408%2C%20-76.618748%5D%2C%20%5B33.945419%2C%20-118.329024%5D%2C%20%5B35.084073%2C%20-118.118831%5D%2C%20%5B40.738526%2C%20-73.80647900000002%5D%2C%20%5B32.741251%2C%20-96.844191%5D%2C%20%5B41.31043%2C%20-81.22157%5D%2C%20%5B39.148611%2C%20-77.614038%5D%2C%20%5B33.4701%2C%20-112.03871%5D%2C%20%5B36.20702%2C%20-95.9464%5D%2C%20%5B28.552641%2C%20-81.444799%5D%2C%20%5B37.8195%2C%20-122.27008%5D%2C%20%5B33.85544%2C%20-117.87581000000002%5D%2C%20%5B39.555111%2C%20-104.870529%5D%2C%20%5B43.583118%2C%20-121.995028%5D%2C%20%5B32.975716%2C%20-96.924351%5D%2C%20%5B33.289541%2C%20-79.89416999999997%5D%2C%20%5B43.849536%2C%20-123.02173700000002%5D%2C%20%5B28.748506%2C%20-81.365894%5D%2C%20%5B44.19453%2C%20-90.64392%5D%2C%20%5B43.09398%2C%20-77.63309%5D%2C%20%5B26.73250800000001%2C%20-80.090902%5D%2C%20%5B26.083806%2C%20-80.20338100000002%5D%2C%20%5B38.357418%2C%20-77.47285699999998%5D%2C%20%5B34.030415000000005%2C%20-117.616147%5D%2C%20%5B34.061463%2C%20-118.163427%5D%2C%20%5B33.097966%2C%20-80.113152%5D%2C%20%5B45.51549%2C%20-122.69966%5D%2C%20%5B34.682796999999994%2C%20-92.40593%5D%2C%20%5B39.95962100000001%2C%20-75.18099699999998%5D%2C%20%5B40.0194%2C%20-82.90439%5D%2C%20%5B35.16261%2C%20-120.683738%5D%2C%20%5B30.523702%2C%20-91.180617%5D%2C%20%5B42.362703%2C%20-87.930825%5D%2C%20%5B44.613217%2C%20-93.768701%5D%2C%20%5B38.45553%2C%20-81.92928%5D%2C%20%5B33.96092%2C%20-117.31372%5D%2C%20%5B40.118222%2C%20-75.04815699999997%5D%2C%20%5B33.49617%2C%20-84.64245%5D%2C%20%5B38.067551%2C%20-119.084662%5D%2C%20%5B37.42237%2C%20-122.226329%5D%2C%20%5B40.009749%2C%20-75.187224%5D%2C%20%5B32.734127%2C%20-97.359732%5D%2C%20%5B39.791412%2C%20-75.462887%5D%2C%20%5B38.524903%2C%20-121.458865%5D%2C%20%5B37.287948%2C%20-120.469779%5D%2C%20%5B34.061919%2C%20-117.180563%5D%2C%20%5B42.2553%2C%20-83.18316%5D%2C%20%5B32.677567%2C%20-97.068935%5D%2C%20%5B41.540382%2C%20-106.080303%5D%2C%20%5B39.1271%2C%20-75.53103%5D%2C%20%5B34.168056%2C%20-118.105643%5D%2C%20%5B42.776887%2C%20-71.493181%5D%2C%20%5B28.37378%2C%20-80.80523000000002%5D%2C%20%5B25.648226%2C%20-80.332193%5D%2C%20%5B40.081527%2C%20-74.937315%5D%2C%20%5B38.40477%2C%20-121.48274%5D%2C%20%5B37.009064%2C%20-77.05198399999998%5D%2C%20%5B40.066856%2C%20-75.145496%5D%2C%20%5B33.651594%2C%20-117.761153%5D%2C%20%5B42.966909%2C%20-71.4139%5D%2C%20%5B42.202243%2C%20-121.706977%5D%2C%20%5B45.197853%2C%20-93.393173%5D%2C%20%5B33.8599%2C%20-118.2955%5D%2C%20%5B35.13629%2C%20-80.71488000000002%5D%2C%20%5B46.931551%2C%20-114.085114%5D%2C%20%5B25.621737%2C%20-80.37866899999999%5D%2C%20%5B30.350106%2C%20-89.91669%5D%2C%20%5B40.358895%2C%20-111.785453%5D%2C%20%5B46.97168900000001%2C%20-120.408547%5D%2C%20%5B35.907531%2C%20-78.72718%5D%2C%20%5B37.689613%2C%20-122.119805%5D%2C%20%5B34.03706%2C%20-118.30533%5D%2C%20%5B36.842297%2C%20-76.04150899999998%5D%2C%20%5B39.82081%2C%20-85.77620999999998%5D%2C%20%5B26.279296%2C%20-80.125%5D%2C%20%5B34.470733%2C%20-81.911192%5D%2C%20%5B36.802633%2C%20-121.66675%5D%2C%20%5B34.143329%2C%20-117.25713799999998%5D%2C%20%5B40.026124%2C%20-75.750383%5D%2C%20%5B33.502904%2C%20-81.856264%5D%2C%20%5B32.749694%2C%20-117.108611%5D%2C%20%5B35.163378%2C%20-80.87602199999998%5D%2C%20%5B35.745252%2C%20-111.473754%5D%2C%20%5B38.84568%2C%20-77.30400999999998%5D%2C%20%5B34.51803%2C%20-111.989739%5D%2C%20%5B33.235433%2C%20-111.859256%5D%2C%20%5B38.634881%2C%20-121.270888%5D%2C%20%5B29.842273%2C%20-95.473121%5D%2C%20%5B47.10569%2C%20-93.23315%5D%2C%20%5B38.665212%2C%20-90.19888%5D%2C%20%5B37.588517%2C%20-77.478813%5D%2C%20%5B38.481714%2C%20-121.371969%5D%2C%20%5B27.9378%2C%20-82.29391%5D%2C%20%5B40.065873%2C%20-75.56263299999998%5D%2C%20%5B40.738388%2C%20-73.836783%5D%2C%20%5B28.107836%2C%20-82.768372%5D%2C%20%5B43.93297800000001%2C%20-91.885745%5D%2C%20%5B27.770293%2C%20-82.644814%5D%2C%20%5B45.53907%2C%20-122.86046100000002%5D%2C%20%5B45.0717%2C%20-123.209534%5D%2C%20%5B37.387707%2C%20-120.72108500000002%5D%2C%20%5B43.304876%2C%20-122.95657%5D%2C%20%5B39.950093%2C%20-76.793195%5D%2C%20%5B45.0428%2C%20-122.97616%5D%2C%20%5B33.951026%2C%20-117.385514%5D%2C%20%5B33.206014%2C%20-81.35619799999998%5D%2C%20%5B33.614538%2C%20-79.049403%5D%2C%20%5B44.381138%2C%20-117.305251%5D%2C%20%5B33.995271%2C%20-118.145091%5D%2C%20%5B30.191577%2C%20-81.710482%5D%2C%20%5B38.189562%2C%20-121.207311%5D%2C%20%5B38.26803%2C%20-85.993734%5D%2C%20%5B43.193295%2C%20-77.614876%5D%2C%20%5B45.559391%2C%20-123.590751%5D%2C%20%5B33.554021%2C%20-80.819638%5D%2C%20%5B29.40633%2C%20-81.15644%5D%2C%20%5B40.28543%2C%20-74.69379%5D%2C%20%5B33.66865%2C%20-112.10878%5D%2C%20%5B45.159281%2C%20-93.390256%5D%2C%20%5B38.010465%2C%20-122.23018799999998%5D%2C%20%5B38.34066%2C%20-121.334256%5D%2C%20%5B34.429868%2C%20-119.288322%5D%2C%20%5B38.691722%2C%20-77.219217%5D%2C%20%5B33.576501%2C%20-117.67193%5D%2C%20%5B47.159303%2C%20-122.434198%5D%2C%20%5B38.660909%2C%20-121.355163%5D%2C%20%5B28.47448%2C%20-81.396742%5D%2C%20%5B36.19238%2C%20-119.32843%5D%2C%20%5B33.745628%2C%20-117.833227%5D%2C%20%5B28.56909000000001%2C%20-81.244782%5D%2C%20%5B37.72%2C%20-121.65893%5D%2C%20%5B46.726044%2C%20-92.221587%5D%2C%20%5B45.45355%2C%20-122.722027%5D%2C%20%5B34.001723%2C%20-117.165916%5D%2C%20%5B39.798429%2C%20-86.11052%5D%2C%20%5B27.791553000000004%2C%20-82.347327%5D%2C%20%5B37.670649%2C%20-121.454254%5D%2C%20%5B39.74081%2C%20-77.288152%5D%2C%20%5B30.630867%2C%20-87.37728299999998%5D%2C%20%5B27.846518%2C%20-82.700616%5D%2C%20%5B38.253031%2C%20-78.952378%5D%2C%20%5B39.35774%2C%20-85.94221999999998%5D%2C%20%5B38.373294%2C%20-121.359124%5D%2C%20%5B42.233899%2C%20-113.085129%5D%2C%20%5B33.773549%2C%20-117.871531%5D%2C%20%5B38.089696%2C%20-78.99567900000002%5D%2C%20%5B34.396758%2C%20-80.594258%5D%2C%20%5B41.805737%2C%20-88.042932%5D%2C%20%5B47.286945%2C%20-95.933498%5D%2C%20%5B32.412111%2C%20-80.64684399999999%5D%2C%20%5B39.030078%2C%20-77.12253199999998%5D%2C%20%5B32.43802%2C%20-80.779177%5D%2C%20%5B25.75511%2C%20-80.20205%5D%2C%20%5B38.874226%2C%20-76.895137%5D%2C%20%5B27.89596400000001%2C%20-82.677291%5D%2C%20%5B38.86020300000001%2C%20-77.30750400000002%5D%2C%20%5B41.678781%2C%20-73.889043%5D%2C%20%5B37.80086%2C%20-122.28077%5D%2C%20%5B40.323443%2C%20-75.92990400000002%5D%2C%20%5B43.21530300000001%2C%20-77.937003%5D%2C%20%5B32.988436%2C%20-96.828162%5D%2C%20%5B29.63895%2C%20-95.444157%5D%2C%20%5B39.1479%2C%20-84.53929000000002%5D%2C%20%5B25.762091%2C%20-80.334693%5D%2C%20%5B33.761133%2C%20-118.024661%5D%2C%20%5B33.81094%2C%20-118.292489%5D%2C%20%5B35.751246%2C%20-78.595465%5D%2C%20%5B38.990631%2C%20-77.157034%5D%2C%20%5B27.989855%2C%20-82.75462399999998%5D%2C%20%5B40.852225%2C%20-73.956065%5D%2C%20%5B45.410243%2C%20-94.05907%5D%2C%20%5B28.407349%2C%20-81.405626%5D%2C%20%5B40.776236%2C%20-74.041515%5D%2C%20%5B25.899691%2C%20-80.180812%5D%2C%20%5B30.445547%2C%20-84.28067800000002%5D%2C%20%5B45.00878%2C%20-123.97832%5D%2C%20%5B39.49625%2C%20-119.78423%5D%2C%20%5B35.49844%2C%20-97.53442%5D%2C%20%5B36.518117%2C%20-119.628956%5D%2C%20%5B40.766605%2C%20-73.89590600000002%5D%2C%20%5B38.628664%2C%20-121.38303799999998%5D%2C%20%5B34.122913%2C%20-118.073008%5D%2C%20%5B27.78582%2C%20-82.35876999999998%5D%2C%20%5B41.084028%2C%20-100.616451%5D%2C%20%5B45.800556%2C%20-94.266264%5D%2C%20%5B43.283%2C%20-89.08185%5D%2C%20%5B33.504135%2C%20-117.15312%5D%2C%20%5B38.89974%2C%20-77.1822%5D%2C%20%5B27.960616%2C%20-82.45411%5D%2C%20%5B41.733911%2C%20-87.62449000000002%5D%2C%20%5B40.629823%2C%20-74.14738100000002%5D%2C%20%5B38.796869%2C%20-120.910857%5D%2C%20%5B38.760017%2C%20-76.808063%5D%2C%20%5B33.582532%2C%20-111.835406%5D%2C%20%5B39.403005%2C%20-77.439911%5D%2C%20%5B34.016984%2C%20-118.280071%5D%2C%20%5B40.727688%2C%20-73.88722299999998%5D%2C%20%5B43.214882%2C%20-123.355704%5D%2C%20%5B36.354839%2C%20-119.116361%5D%2C%20%5B25.648338%2C%20-80.415588%5D%2C%20%5B40.462853%2C%20-123.842553%5D%2C%20%5B33.424087%2C%20-111.997569%5D%2C%20%5B33.604999%2C%20-117.691394%5D%2C%20%5B32.716009%2C%20-117.120155%5D%2C%20%5B33.917317%2C%20-118.023881%5D%2C%20%5B44.885237%2C%20-93.294637%5D%2C%20%5B37.866373%2C%20-121.66928500000002%5D%2C%20%5B33.119519%2C%20-117.101651%5D%2C%20%5B43.157757%2C%20-77.674674%5D%2C%20%5B37.324038%2C%20-120.592261%5D%2C%20%5B34.019269%2C%20-117.480422%5D%2C%20%5B36.682909%2C%20-79.938358%5D%2C%20%5B25.78711400000001%2C%20-80.210988%5D%2C%20%5B33.974647999999995%2C%20-118.284869%5D%2C%20%5B25.810388%2C%20-80.15029200000002%5D%2C%20%5B41.73148%2C%20-87.62443%5D%2C%20%5B37.630845%2C%20-77.577692%5D%2C%20%5B34.0921%2C%20-118.47601%5D%2C%20%5B40.190187%2C%20-86.56701899999999%5D%2C%20%5B45.011554%2C%20-93.026014%5D%2C%20%5B34.07481%2C%20-118.23233%5D%2C%20%5B43.935145%2C%20-92.004325%5D%2C%20%5B29.882812%2C%20-95.411964%5D%2C%20%5B36.758069%2C%20-76.29782900000002%5D%2C%20%5B44.772278%2C%20-122.618675%5D%2C%20%5B33.903368%2C%20-82.353677%5D%2C%20%5B39.8357%2C%20-86.03797%5D%2C%20%5B40.833606%2C%20-73.873927%5D%2C%20%5B38.25962%2C%20-121.29682%5D%2C%20%5B38.80061%2C%20-77.20849100000002%5D%2C%20%5B46.5431%2C%20-94.66942%5D%2C%20%5B44.62609000000001%2C%20-123.06186%5D%2C%20%5B33.92977%2C%20-118.34387%5D%2C%20%5B32.745898%2C%20-96.970728%5D%2C%20%5B34.04775%2C%20-117.3075%5D%2C%20%5B29.011985%2C%20-81.068783%5D%2C%20%5B33.87409%2C%20-79.760888%5D%2C%20%5B37.36054%2C%20-121.91589%5D%2C%20%5B37.000511%2C%20-76.31837%5D%2C%20%5B30.244643%2C%20-95.457435%5D%2C%20%5B43.039957%2C%20-85.68962900000002%5D%2C%20%5B32.913835%2C%20-117.113241%5D%2C%20%5B40.429601%2C%20-79.885981%5D%2C%20%5B36.78562%2C%20-76.411153%5D%2C%20%5B38.484049%2C%20-77.393865%5D%2C%20%5B36.729472%2C%20-77.52460500000002%5D%2C%20%5B44.252556%2C%20-121.18389%5D%2C%20%5B37.9627%2C%20-120.40534%5D%2C%20%5B38.524757%2C%20-121.46745%5D%2C%20%5B37.316732%2C%20-121.922068%5D%2C%20%5B34.413665%2C%20-119.694595%5D%2C%20%5B33.9309%2C%20-118.31778%5D%2C%20%5B39.420887%2C%20-76.644369%5D%2C%20%5B33.854054%2C%20-117.928964%5D%2C%20%5B35.16815%2C%20-90.01844%5D%2C%20%5B29.53413%2C%20-95.13575%5D%2C%20%5B45.799791%2C%20-108.413755%5D%2C%20%5B43.953638%2C%20-121.348995%5D%2C%20%5B32.220836%2C%20-110.980897%5D%2C%20%5B39.11569%2C%20-77.16613000000002%5D%2C%20%5B36.03291%2C%20-115.01846%5D%2C%20%5B47.85922%2C%20-122.21895%5D%2C%20%5B35.6437%2C%20-78.84053%5D%2C%20%5B30.20578%2C%20-81.380112%5D%2C%20%5B34.936271000000005%2C%20-82.003541%5D%2C%20%5B34.803585%2C%20-92.212645%5D%2C%20%5B44.808329%2C%20-123.027895%5D%2C%20%5B25.948502%2C%20-80.148765%5D%2C%20%5B32.113999%2C%20-110.858029%5D%2C%20%5B40.43138%2C%20-111.89076%5D%2C%20%5B29.784911%2C%20-95.699812%5D%2C%20%5B38.98392%2C%20-76.544914%5D%2C%20%5B40.096815%2C%20-75.297498%5D%2C%20%5B30.442465%2C%20-91.223003%5D%2C%20%5B35.812149%2C%20-78.84818%5D%2C%20%5B32.177177%2C%20-111.149094%5D%2C%20%5B28.472531%2C%20-81.400812%5D%2C%20%5B40.355022%2C%20-75.9506%5D%2C%20%5B37.329028%2C%20-76.741869%5D%2C%20%5B37.44300000000001%2C%20-122.11668%5D%2C%20%5B41.43767%2C%20-71.87987%5D%2C%20%5B41.598159%2C%20-72.902819%5D%2C%20%5B45.52585%2C%20-122.56516%5D%2C%20%5B39.373454%2C%20-76.517841%5D%2C%20%5B25.574716%2C%20-80.373475%5D%2C%20%5B32.833896%2C%20-97.199703%5D%2C%20%5B44.63295%2C%20-121.13062%5D%2C%20%5B34.07189%2C%20-117.8707%5D%2C%20%5B45.627926%2C%20-122.667299%5D%2C%20%5B32.391976%2C%20-93.752056%5D%2C%20%5B25.499314%2C%20-80.44618299999998%5D%2C%20%5B40.77174%2C%20-73.87563%5D%2C%20%5B34.170656%2C%20-118.605885%5D%2C%20%5B45.94634%2C%20-108.109785%5D%2C%20%5B38.70262%2C%20-121.315056%5D%2C%20%5B41.46737%2C%20-81.75973%5D%2C%20%5B37.25303%2C%20-121.788763%5D%2C%20%5B39.38991%2C%20-76.72249000000002%5D%2C%20%5B39.82744%2C%20-104.98272%5D%2C%20%5B30.314271999999995%2C%20-81.66432900000002%5D%2C%20%5B36.505708%2C%20-121.936227%5D%2C%20%5B38.394995%2C%20-120.816425%5D%2C%20%5B34.018685%2C%20-117.987568%5D%2C%20%5B33.551234%2C%20-117.127202%5D%2C%20%5B33.519263%2C%20-81.843041%5D%2C%20%5B33.628122%2C%20-117.703611%5D%2C%20%5B40.095105%2C%20-76.304896%5D%2C%20%5B34.732317%2C%20-82.7665%5D%2C%20%5B38.1204%2C%20-122.23027%5D%2C%20%5B26.12162%2C%20-80.17166%5D%2C%20%5B33.97867%2C%20-118.07803%5D%2C%20%5B39.628893%2C%20-75.96307%5D%2C%20%5B35.167513%2C%20-91.773238%5D%2C%20%5B38.5378%2C%20-85.77684%5D%2C%20%5B30.45673%2C%20-81.700805%5D%2C%20%5B37.05446%2C%20-120.65364%5D%2C%20%5B27.960472%2C%20-82.748041%5D%2C%20%5B34.831637%2C%20-91.980561%5D%2C%20%5B40.747045%2C%20-111.641636%5D%2C%20%5B35.138259999999995%2C%20-80.90619000000002%5D%2C%20%5B27.298801%2C%20-82.49954100000002%5D%2C%20%5B34.145373%2C%20-117.289551%5D%2C%20%5B32.8644%2C%20-117.11007%5D%2C%20%5B35.57305%2C%20-82.95638000000002%5D%2C%20%5B29.688203%2C%20-82.20347199999998%5D%2C%20%5B41.742779%2C%20-72.66261899999998%5D%2C%20%5B25.634431%2C%20-80.382676%5D%2C%20%5B38.27265%2C%20-122.675709%5D%2C%20%5B28.533582%2C%20-82.505234%5D%2C%20%5B43.66372%2C%20-123.39606%5D%2C%20%5B37.52%2C%20-121.98297%5D%2C%20%5B38.59637%2C%20-121.34497%5D%2C%20%5B25.79852600000001%2C%20-80.263847%5D%2C%20%5B43.10608%2C%20-83.76345%5D%2C%20%5B35.312093%2C%20-80.70780400000002%5D%2C%20%5B35.894481%2C%20-119.053499%5D%2C%20%5B30.603836%2C%20-87.146393%5D%2C%20%5B34.778681%2C%20-82.377101%5D%2C%20%5B32.701477000000004%2C%20-117.120871%5D%2C%20%5B37.980469%2C%20-121.25651299999998%5D%2C%20%5B36.24111%2C%20-86.75553000000002%5D%2C%20%5B45.50682000000001%2C%20-122.67098%5D%2C%20%5B33.753998%2C%20-117.850538%5D%2C%20%5B37.056959%2C%20-121.021195%5D%2C%20%5B35.258557%2C%20-81.006536%5D%2C%20%5B38.446344%2C%20-121.857851%5D%2C%20%5B42.39696%2C%20-83.21805%5D%2C%20%5B41.87173%2C%20-87.75%5D%2C%20%5B34.155964000000004%2C%20-118.254999%5D%2C%20%5B47.09476%2C%20-122.61827%5D%2C%20%5B35.010643%2C%20-85.320236%5D%2C%20%5B35.26692%2C%20-80.84424%5D%2C%20%5B34.265625%2C%20-81.286849%5D%2C%20%5B38.639361%2C%20-90.497856%5D%2C%20%5B33.938195%2C%20-118.355901%5D%2C%20%5B37.88496%2C%20-122.0777%5D%2C%20%5B39.225316%2C%20-120.084495%5D%2C%20%5B46.003962%2C%20-94.39331%5D%2C%20%5B44.95197%2C%20-93.08676%5D%2C%20%5B45.0785%2C%20-93.40183%5D%2C%20%5B34.80477%2C%20-82.228623%5D%2C%20%5B39.924455%2C%20-75.192607%5D%2C%20%5B40.934461%2C%20-73.807604%5D%2C%20%5B37.72071%2C%20-122.17821399999998%5D%2C%20%5B41.436919%2C%20-78.732199%5D%2C%20%5B28.74366400000001%2C%20-81.106273%5D%2C%20%5B37.70201%2C%20-121.91683%5D%2C%20%5B33.657483%2C%20-117.294473%5D%2C%20%5B39.58086%2C%20-75.6651%5D%2C%20%5B26.621627%2C%20-81.87221%5D%2C%20%5B26.386047%2C%20-80.105249%5D%2C%20%5B25.898221%2C%20-80.212747%5D%2C%20%5B33.728689%2C%20-117.189107%5D%2C%20%5B37.87859%2C%20-120.461458%5D%2C%20%5B37.99971%2C%20-84.4959%5D%2C%20%5B42.114833%2C%20-73.805385%5D%2C%20%5B41.769536%2C%20-72.666975%5D%2C%20%5B38.751644%2C%20-121.46979%5D%2C%20%5B32.642319%2C%20-96.80567%5D%2C%20%5B35.726083%2C%20-118.699846%5D%2C%20%5B40.32812%2C%20-111.735169%5D%2C%20%5B32.437571000000005%2C%20-80.721144%5D%2C%20%5B42.25828%2C%20-122.78893%5D%2C%20%5B40.7665%2C%20-111.99669%5D%2C%20%5B33.502365999999995%2C%20-117.658591%5D%2C%20%5B41.85571%2C%20-87.64464%5D%2C%20%5B28.05866%2C%20-82.4548%5D%2C%20%5B40.618084%2C%20-74.451502%5D%5D%2C%0A%20%20%20%20%20%20%20%20%20%20%20%20%20%20%20%20%7B%0A%20%20%20%20%20%20%20%20%20%20%20%20%20%20%20%20%20%20%20%20minOpacity%3A%200.5%2C%0A%20%20%20%20%20%20%20%20%20%20%20%20%20%20%20%20%20%20%20%20maxZoom%3A%2018%2C%0A%20%20%20%20%20%20%20%20%20%20%20%20%20%20%20%20%20%20%20%20max%3A%201.0%2C%0A%20%20%20%20%20%20%20%20%20%20%20%20%20%20%20%20%20%20%20%20radius%3A%2025%2C%0A%20%20%20%20%20%20%20%20%20%20%20%20%20%20%20%20%20%20%20%20blur%3A%2015%2C%0A%20%20%20%20%20%20%20%20%20%20%20%20%20%20%20%20%20%20%20%20gradient%3A%20null%0A%20%20%20%20%20%20%20%20%20%20%20%20%20%20%20%20%20%20%20%20%7D%29%0A%20%20%20%20%20%20%20%20%20%20%20%20%20%20%20%20.addTo%28map_e47b2002b7d743a48ffb3f326f742706%29%3B%0A%20%20%20%20%20%20%20%20%0A%3C/script%3E onload=\"this.contentDocument.open();this.contentDocument.write(    decodeURIComponent(this.getAttribute('data-html')));this.contentDocument.close();\" allowfullscreen webkitallowfullscreen mozallowfullscreen></iframe></div></div>"
            ]
          },
          "metadata": {},
          "execution_count": 41
        }
      ]
    },
    {
      "cell_type": "code",
      "source": [
        ""
      ],
      "metadata": {
        "id": "KZyElER5TlrT"
      },
      "execution_count": 41,
      "outputs": []
    },
    {
      "cell_type": "code",
      "source": [
        ""
      ],
      "metadata": {
        "id": "3qntlGH6TK2-"
      },
      "execution_count": 41,
      "outputs": []
    },
    {
      "cell_type": "code",
      "source": [
        ""
      ],
      "metadata": {
        "id": "9aX8nxVp87q1"
      },
      "execution_count": 41,
      "outputs": []
    },
    {
      "cell_type": "markdown",
      "metadata": {
        "id": "WtJl-gEPI6N2"
      },
      "source": [
        "## Ask & Questions\n",
        "\n",
        "1. Are there more accidents in warmer or colder areas?\n",
        "2. Which 5 states has the highest number of accidents? How about per capita?\n",
        "3. Does New York ahop up in the data? If yes, why is the count lower if this the most populated city.\n",
        "4. Among the top 100 cities in number of accidents, which states do they belong to most frequently.\n",
        "5. What time of the day are accidents most frequent in? - ANSWERED\n",
        "6. Which days of the week have the most accidents?\n",
        "7. Which months have the most accidents?\n",
        "8. What is the trend of accidents yoer over year (decreasing/increasing?)\n",
        "9. When is accident per unit the highest? \n"
      ]
    },
    {
      "cell_type": "code",
      "execution_count": 41,
      "metadata": {
        "id": "P0Y4gnC5I5lE"
      },
      "outputs": [],
      "source": [
        ""
      ]
    },
    {
      "cell_type": "code",
      "execution_count": 41,
      "metadata": {
        "id": "wbNnpo7PI5mC"
      },
      "outputs": [],
      "source": [
        ""
      ]
    },
    {
      "cell_type": "code",
      "execution_count": 41,
      "metadata": {
        "id": "K4moRxdfI5oI"
      },
      "outputs": [],
      "source": [
        ""
      ]
    },
    {
      "cell_type": "code",
      "execution_count": 41,
      "metadata": {
        "id": "51nIMEeiIirl"
      },
      "outputs": [],
      "source": [
        ""
      ]
    },
    {
      "cell_type": "markdown",
      "source": [
        "## Summary and Conclusion \n",
        "\n",
        "Insights:\n",
        "- No data for New York.\n",
        "- The number of accodents per city decreases  exponentialy.\n",
        "- Less then 5% of cities have more than 1000 yearly accidents.\n",
        "- Over 1200 cities have reported just one accident (need to investigate)."
      ],
      "metadata": {
        "id": "oAjUdjyl8ulC"
      }
    }
  ],
  "metadata": {
    "colab": {
      "collapsed_sections": [],
      "name": "us-accidents-analysis.ipynb",
      "provenance": [],
      "include_colab_link": true
    },
    "kernelspec": {
      "display_name": "Python 3",
      "language": "python",
      "name": "python3"
    },
    "language_info": {
      "codemirror_mode": {
        "name": "ipython",
        "version": 3
      },
      "file_extension": ".py",
      "mimetype": "text/x-python",
      "name": "python",
      "nbconvert_exporter": "python",
      "pygments_lexer": "ipython3",
      "version": "3.7.6"
    }
  },
  "nbformat": 4,
  "nbformat_minor": 0
}